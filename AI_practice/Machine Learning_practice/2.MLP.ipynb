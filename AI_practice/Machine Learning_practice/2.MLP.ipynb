{
  "cells": [
    {
      "cell_type": "markdown",
      "metadata": {
        "id": "view-in-github",
        "colab_type": "text"
      },
      "source": [
        "<a href=\"https://colab.research.google.com/github/Kimhantag/Posco_AIBigdata_Academy25_edu/blob/main/2.MLP.ipynb\" target=\"_parent\"><img src=\"https://colab.research.google.com/assets/colab-badge.svg\" alt=\"Open In Colab\"/></a>"
      ]
    },
    {
      "cell_type": "markdown",
      "metadata": {
        "id": "S-VdxdERLWtQ"
      },
      "source": [
        "# Lecture5; Multilayer Perceptron"
      ]
    },
    {
      "cell_type": "markdown",
      "metadata": {
        "id": "fvgTHk6HLWtT"
      },
      "source": [
        "## Multilayer Perceptron"
      ]
    },
    {
      "cell_type": "code",
      "execution_count": null,
      "metadata": {
        "id": "GEvQEtnRLWtU"
      },
      "outputs": [],
      "source": [
        "import tensorflow as tf  # TensorFlow 라이브러리를 tf로 임포트합니다. TensorFlow는 기계 학습과 수치 계산에 사용됩니다.\n",
        "import numpy as np  # numpy 라이브러리를 np로 임포트합니다. numpy는 배열에 대한 수치 연산을 위해 사용됩니다.\n",
        "import matplotlib.pyplot as plt  # matplotlib의 pyplot 모듈을 plt로 임포트합니다. 이는 그래프를 그리기 위해 사용됩니다.\n",
        "import random  # random 모듈을 임포트합니다. 이 모듈은 난수를 생성하는 데 사용됩니다.\n",
        "\n",
        "# 아래 세 줄은 재현 가능한 결과를 얻기 위해 난수 생성기의 시드 값을 설정합니다.\n",
        "random.seed(1)  # Python 내장 random 모듈의 시드 값을 1로 설정합니다.\n",
        "np.random.seed(1)  # numpy 라이브러리의 난수 생성기 시드 값을 1로 설정합니다.\n",
        "tf.random.set_seed(1)  # TensorFlow의 난수 생성기 시드 값을 1로 설정합니다."
      ]
    },
    {
      "cell_type": "markdown",
      "metadata": {
        "id": "4K6fkHOFLWtV"
      },
      "source": [
        "### Data processing"
      ]
    },
    {
      "cell_type": "markdown",
      "metadata": {
        "id": "pGu2VwtGLWtW"
      },
      "source": [
        "### Define Neural Network"
      ]
    },
    {
      "cell_type": "code",
      "execution_count": null,
      "metadata": {
        "id": "utYZxNi_LWtW",
        "colab": {
          "base_uri": "https://localhost:8080/"
        },
        "outputId": "0a54c9c4-95de-466f-8d79-3bcaee731a6e"
      },
      "outputs": [
        {
          "output_type": "stream",
          "name": "stdout",
          "text": [
            "Downloading data from https://storage.googleapis.com/tensorflow/tf-keras-datasets/mnist.npz\n",
            "11490434/11490434 [==============================] - 1s 0us/step\n",
            "10\n",
            "784\n"
          ]
        }
      ],
      "source": [
        "# MNIST 데이터 세트를 준비합니다.\n",
        "(x_train, y_train), (x_test, y_test) = tf.keras.datasets.mnist.load_data()  # MNIST 데이터를 로드합니다. 데이터는 학습 세트와 테스트 세트로 구분됩니다.\n",
        "\n",
        "# 데이터를 float32 타입으로 변환합니다.\n",
        "x_train, x_test = tf.cast(x_train, tf.float32), tf.cast(x_test, tf.float32)  # 이미지 데이터를 float32 타입으로 캐스팅하여, 연산에 적합하게 만듭니다.\n",
        "\n",
        "num_classes = 10  # 클래스(레이블)의 개수를 설정합니다. MNIST는 0부터 9까지의 숫자를 분류하므로, 클래스는 총 10개입니다.\n",
        "num_features = x_train.shape[1] * x_train.shape[2]  # 특성(이미지의 픽셀)의 총 개수를 계산합니다. MNIST 이미지는 28x28 픽셀이므로, 784개의 특성이 있습니다.\n",
        "\n",
        "print(num_classes)  # 클래스의 개수를 출력합니다.\n",
        "print(num_features)  # 특성의 총 개수를 출력합니다.\n",
        "\n",
        "# 이미지를 1-D 벡터 형태로 변환합니다. 이는 이미지의 각 픽셀이 특성 벡터의 한 요소가 됩니다.\n",
        "x_train, x_test = tf.reshape(x_train, [-1, num_features]), tf.reshape(x_test, [-1, num_features])  # 각 이미지를 784(28*28) 크기의 1-D 벡터로 변환합니다.\n",
        "\n",
        "# 이미지의 픽셀 값을 [0, 255] 범위에서 [0, 1] 범위로 정규화합니다. 이는 모델 학습을 용이하게 합니다.\n",
        "x_train, x_test = x_train / 255., x_test / 255."
      ]
    },
    {
      "cell_type": "code",
      "execution_count": null,
      "metadata": {
        "id": "QQCn19s4LWtX"
      },
      "outputs": [],
      "source": [
        "# #만약에 tensorflow.keras.Model 혹은 tensorflow.keras.layers를 사용하지 않고 직접 Neural Network를 코딩해야한다면\n",
        "\n",
        "# W1=tf.Variable(tf.random_normal_initializer(stddev=1)([num_features, 128])),\n",
        "# W2=tf.Variable(tf.random_normal_initializer(stddev=1)([128, 256])),\n",
        "# W3=tf.Variable(tf.random_normal_initializer(stddev=1)([256, num_classes]))\n",
        "# b1=tf.Variable(tf.zeros([128])),\n",
        "# b2=tf.Variable(tf.zeros([256])),\n",
        "# b3=tf.Variable(tf.zeros([num_classes]))\n",
        "\n",
        "# def neural_net(x):\n",
        "#     layer_1 = tf.matmul(x, W1) + b1\n",
        "#     layer_1 = tf.nn.relu(layer_1)\n",
        "\n",
        "#     layer_2 = tf.matmul(layer_1, W2) + b2\n",
        "#     layer_2 = tf.nn.relu(layer_2)\n",
        "\n",
        "#     out_layer = tf.matmul(layer_2, W3) + b3\n",
        "#     return tf.nn.softmax(out_layer)"
      ]
    },
    {
      "cell_type": "code",
      "execution_count": null,
      "metadata": {
        "id": "6N5AbX7OLWtY"
      },
      "outputs": [],
      "source": [
        "# tensorflow.keras.Model과 tensorflow.keras.layers를 임포트합니다.\n",
        "from tensorflow.keras import Model, layers\n",
        "\n",
        "# NeuralNet 클래스를 정의합니다. 이 클래스는 Model을 상속받아 구현됩니다.\n",
        "class NeuralNet(Model):\n",
        "    def __init__(self):\n",
        "        super(NeuralNet, self).__init__()  # 부모 클래스의 생성자를 호출합니다.\n",
        "        # 첫 번째 완전 연결(fully connected) 레이어를 정의합니다. 128개의 뉴런과 ReLU 활성화 함수를 사용합니다.\n",
        "        self.fc1 = layers.Dense(128, activation=tf.nn.relu)\n",
        "        # 두 번째 완전 연결 레이어를 정의합니다. 256개의 뉴런과 ReLU 활성화 함수를 사용합니다.\n",
        "        self.fc2 = layers.Dense(256, activation=tf.nn.relu)\n",
        "        # 출력 레이어를 정의합니다. 분류해야 하는 클래스의 수만큼 뉴런을 가집니다. 여기서는 softmax 활성화 함수를 사용하지 않습니다.\n",
        "        self.out = layers.Dense(num_classes)\n",
        "\n",
        "    def call(self, x, is_training=False):\n",
        "        # 입력 데이터 x를 첫 번째 레이어(fc1)에 전달합니다.\n",
        "        x = self.fc1(x)\n",
        "        # 첫 번째 레이어의 출력을 두 번째 레이어(fc2)에 전달합니다.\n",
        "        x = self.fc2(x)\n",
        "        # 두 번째 레이어의 출력을 출력 레이어(out)에 전달합니다.\n",
        "        x = self.out(x)\n",
        "        # 학습 중이 아닐 때(예측/평가 단계에서) softmax 활성화 함수를 적용합니다.\n",
        "        # 이는 모델이 로짓(raw output) 대신 확률을 반환하게 합니다.\n",
        "        if not is_training:\n",
        "            x = tf.nn.softmax(x)\n",
        "        return x\n",
        "\n",
        "# NeuralNet 클래스의 인스턴스를 생성합니다. 이 인스턴스는 이제 모델 객체로 사용됩니다.\n",
        "neural_net = NeuralNet()"
      ]
    },
    {
      "cell_type": "code",
      "execution_count": null,
      "metadata": {
        "id": "Ln7iTJ-GLWtZ"
      },
      "outputs": [],
      "source": [
        "def cross_entropy_loss(x, y):\n",
        "    # x: 모델이 예측한 로짓 값, y: 실제 레이블\n",
        "    y = tf.cast(y, tf.int64)  # 실제 레이블을 int64 타입으로 캐스팅합니다.\n",
        "    # sparse_softmax_cross_entropy_with_logits 함수를 사용하여 교차 엔트로피 손실을 계산합니다.\n",
        "    # 이 함수는 로짓과 실제 레이블을 입력으로 받아, 각 샘플에 대한 손실을 계산합니다.\n",
        "    # logits를 직접 사용하는 것이 수치적으로 더 안정적(numerically stable)입니다.\n",
        "    loss = tf.nn.sparse_softmax_cross_entropy_with_logits(labels=y, logits=x)\n",
        "    return tf.reduce_mean(loss)  # 손실 값들의 평균을 반환합니다. 이는 전체 배치에 대한 평균 손실입니다.\n",
        "\n",
        "# 정확도 측정 함수를 정의합니다.\n",
        "def accuracy(y_pred, y_true):\n",
        "    # tf.argmax 함수를 사용하여 예측된 확률이 가장 높은 인덱스(클래스)를 찾습니다. axis=1은 각 행에서 최댓값을 찾겠다는 의미입니다.\n",
        "    correct_prediction = tf.equal(tf.argmax(y_pred, 1), tf.cast(y_true, tf.int64))\n",
        "    # 정확한 예측을 True(1), 그렇지 않은 예측을 False(0)로 변환합니다.\n",
        "    # tf.cast 함수를 사용하여 이 boolean 값을 float32 타입으로 변환한 후,\n",
        "    # tf.reduce_mean 함수를 사용하여 전체 정확도를 계산합니다.\n",
        "    return tf.reduce_mean(tf.cast(correct_prediction, tf.float32))"
      ]
    },
    {
      "cell_type": "code",
      "execution_count": null,
      "metadata": {
        "id": "rFXQxLKBLWtZ"
      },
      "outputs": [],
      "source": [
        "# 학습률 설정\n",
        "lr = 0.003\n",
        "# SGD(Stochastic Gradient Descent, 확률적 경사 하강법) 옵티마이저를 초기화합니다. 학습률을 lr로 설정합니다.\n",
        "optimizer = tf.optimizers.SGD(lr)\n",
        "\n",
        "def run_optimization(x, y): # w = w - a *delta(L)\n",
        "    # TensorFlow의 GradientTape을 사용하여 자동 미분을 위한 컨텍스트를 생성합니다.\n",
        "    # 이는 학습 가능한 변수(모델의 가중치)에 대한 손실 함수의 그래디언트를 계산하는 데 사용됩니다.\n",
        "    with tf.GradientTape() as g:\n",
        "        # 모델을 호출하여 입력 x에 대한 예측을 생성합니다. 이때 is_training 플래그를 True로 설정하여\n",
        "        # 훈련 중임을 나타냅니다. (모델 내에서 다르게 동작할 요소가 있다면 이를 구분할 수 있습니다.)\n",
        "        pred = neural_net(x, is_training=True)\n",
        "        # 손실 함수를 호출하여 예측된 결과와 실제 레이블 y 사이의 손실을 계산합니다.\n",
        "        loss = cross_entropy_loss(pred, y)\n",
        "\n",
        "    # 모델의 학습 가능한 변수(가중치 등)를 가져옵니다.\n",
        "    trainable_variables = neural_net.trainable_variables\n",
        "    # GradientTape의 gradient 메소드를 사용하여 주어진 손실에 대한 각 학습 가능 변수의 그래디언트를 계산합니다.\n",
        "    gradients = g.gradient(loss, trainable_variables)\n",
        "    # 계산된 그래디언트와 각 변수를 옵티마이저에 적용하여 학습 과정에서 변수를 업데이트합니다.\n",
        "    optimizer.apply_gradients(zip(gradients, trainable_variables))\n"
      ]
    },
    {
      "cell_type": "code",
      "execution_count": null,
      "metadata": {
        "id": "W4dQ3mnTLWta",
        "colab": {
          "base_uri": "https://localhost:8080/"
        },
        "outputId": "5b3e0687-70a6-4666-980d-0f02139af2bf"
      },
      "outputs": [
        {
          "output_type": "stream",
          "name": "stderr",
          "text": [
            "WARNING:tensorflow:5 out of the last 5 calls to <function _BaseOptimizer._update_step_xla at 0x7fe4d475e4d0> triggered tf.function retracing. Tracing is expensive and the excessive number of tracings could be due to (1) creating @tf.function repeatedly in a loop, (2) passing tensors with different shapes, (3) passing Python objects instead of tensors. For (1), please define your @tf.function outside of the loop. For (2), @tf.function has reduce_retracing=True option that can avoid unnecessary retracing. For (3), please refer to https://www.tensorflow.org/guide/function#controlling_retracing and https://www.tensorflow.org/api_docs/python/tf/function for  more details.\n",
            "WARNING:tensorflow:6 out of the last 6 calls to <function _BaseOptimizer._update_step_xla at 0x7fe4d475e4d0> triggered tf.function retracing. Tracing is expensive and the excessive number of tracings could be due to (1) creating @tf.function repeatedly in a loop, (2) passing tensors with different shapes, (3) passing Python objects instead of tensors. For (1), please define your @tf.function outside of the loop. For (2), @tf.function has reduce_retracing=True option that can avoid unnecessary retracing. For (3), please refer to https://www.tensorflow.org/guide/function#controlling_retracing and https://www.tensorflow.org/api_docs/python/tf/function for  more details.\n"
          ]
        },
        {
          "output_type": "stream",
          "name": "stdout",
          "text": [
            "epoch:  4 , loss:  1.885659 , acc:  0.825\n",
            "epoch:  8 , loss:  1.7182221 , acc:  0.875\n",
            "epoch:  12 , loss:  1.6614057 , acc:  0.885\n",
            "epoch:  16 , loss:  1.6558838 , acc:  0.88\n",
            "epoch:  20 , loss:  1.596233 , acc:  0.925\n",
            "epoch:  24 , loss:  1.6132727 , acc:  0.9\n",
            "epoch:  28 , loss:  1.5950186 , acc:  0.935\n",
            "epoch:  32 , loss:  1.5840187 , acc:  0.93\n",
            "epoch:  36 , loss:  1.5845675 , acc:  0.92\n",
            "epoch:  40 , loss:  1.577076 , acc:  0.935\n"
          ]
        }
      ],
      "source": [
        "# tf.data API를 사용하여 데이터를 셔플링(shuffle) 및 배치(batch) 처리합니다.\n",
        "batch_size = 200  # 배치 크기를 설정합니다.\n",
        "# 학습 데이터를 tf.data.Dataset 객체로 변환합니다. 이 객체는 데이터를 효율적으로 로드하고 처리하는 메커니즘을 제공합니다.\n",
        "train_data = tf.data.Dataset.from_tensor_slices((x_train, y_train))\n",
        "# 데이터셋을 셔플링하고 지정된 배치 크기로 데이터를 분할합니다. prefetch(1)은 학습 도중 다음 배치를 미리 준비해 둡니다.\n",
        "train_data = train_data.shuffle(60000).batch(batch_size).prefetch(1)\n",
        "\n",
        "epoch = 40  # 전체 데이터 세트에 대해 학습을 반복할 횟수입니다.\n",
        "display_epoch = 4  # 학습 진행 상황을 표시할 에폭 간격입니다.\n",
        "\n",
        "# 지정된 에폭 수만큼 훈련을 진행합니다.\n",
        "for epo in range(1, epoch+1):\n",
        "    # 한 에폭에서, 모든 배치를 순회합니다.\n",
        "    for step, (batch_x, batch_y) in enumerate(train_data, 1):\n",
        "        # 각 배치에 대해 최적화를 실행합니다. 이는 모델의 가중치를 업데이트하는 과정을 포함합니다.\n",
        "        run_optimization(batch_x, batch_y)\n",
        "\n",
        "    # 지정된 에폭 간격마다 학습 진행 상황을 출력합니다.\n",
        "    if epo % display_epoch == 0:\n",
        "        pred = neural_net(batch_x)  # 현재 배치에 대한 예측을 수행합니다.\n",
        "        loss = cross_entropy_loss(pred, batch_y)  # 현재 배치에 대한 손실을 계산합니다.\n",
        "        acc = accuracy(pred, batch_y)  # 현재 배치에 대한 정확도를 계산합니다.\n",
        "        # 에폭 번호, 손실, 정확도를 출력합니다.\n",
        "        print(\"epoch: \", epo, \", loss: \", loss.numpy(), \", acc: \", acc.numpy())"
      ]
    },
    {
      "cell_type": "code",
      "execution_count": null,
      "metadata": {
        "id": "xh-pW1owLWtb",
        "colab": {
          "base_uri": "https://localhost:8080/"
        },
        "outputId": "c14af089-3bbd-4b10-da1a-08e843d7a13e"
      },
      "outputs": [
        {
          "output_type": "stream",
          "name": "stdout",
          "text": [
            "Test Accuracy:  0.926\n"
          ]
        }
      ],
      "source": [
        "# Test model on validation set.\n",
        "pred = neural_net(x_test)\n",
        "print(\"Test Accuracy: \", accuracy(pred, y_test).numpy())"
      ]
    },
    {
      "cell_type": "code",
      "execution_count": null,
      "metadata": {
        "id": "ugMyWCVuLWtb",
        "colab": {
          "base_uri": "https://localhost:8080/",
          "height": 1000
        },
        "outputId": "632f71d9-26bf-4dd3-9fc0-b0258de77207"
      },
      "outputs": [
        {
          "output_type": "display_data",
          "data": {
            "text/plain": [
              "<Figure size 640x480 with 1 Axes>"
            ],
            "image/png": "[encoded data removed]"
          },
          "metadata": {}
        },
        {
          "output_type": "stream",
          "name": "stdout",
          "text": [
            "Model prediction: 7\n"
          ]
        },
        {
          "output_type": "display_data",
          "data": {
            "text/plain": [
              "<Figure size 640x480 with 1 Axes>"
            ],
            "image/png": "[encoded data removed]"
          },
          "metadata": {}
        },
        {
          "output_type": "stream",
          "name": "stdout",
          "text": [
            "Model prediction: 2\n"
          ]
        },
        {
          "output_type": "display_data",
          "data": {
            "text/plain": [
              "<Figure size 640x480 with 1 Axes>"
            ],
            "image/png": "[encoded data removed]"
          },
          "metadata": {}
        },
        {
          "output_type": "stream",
          "name": "stdout",
          "text": [
            "Model prediction: 1\n"
          ]
        },
        {
          "output_type": "display_data",
          "data": {
            "text/plain": [
              "<Figure size 640x480 with 1 Axes>"
            ],
            "image/png": "[encoded data removed]"
          },
          "metadata": {}
        },
        {
          "output_type": "stream",
          "name": "stdout",
          "text": [
            "Model prediction: 0\n"
          ]
        },
        {
          "output_type": "display_data",
          "data": {
            "text/plain": [
              "<Figure size 640x480 with 1 Axes>"
            ],
            "image/png": "[encoded data removed]"
          },
          "metadata": {}
        },
        {
          "output_type": "stream",
          "name": "stdout",
          "text": [
            "Model prediction: 4\n"
          ]
        }
      ],
      "source": [
        "# Predict 5 images from validation set.\n",
        "n_images = 5\n",
        "test_images = x_test[:n_images]\n",
        "predictions = neural_net(test_images)\n",
        "# Display image and model prediction.\n",
        "for i in range(n_images):\n",
        "    plt.imshow(np.reshape(test_images[i], [28, 28]), cmap='gray')\n",
        "    plt.show()\n",
        "    print(\"Model prediction: %i\" % np.argmax(predictions.numpy()[i]))"
      ]
    },
    {
      "cell_type": "markdown",
      "metadata": {
        "id": "E90Za52bLWtb"
      },
      "source": [
        "## model.fit방식으로 구현"
      ]
    },
    {
      "cell_type": "code",
      "execution_count": null,
      "metadata": {
        "id": "35YBeWmXLWtc"
      },
      "outputs": [],
      "source": [
        "model2=tf.keras.Sequential(                           # build block\n",
        "    [tf.keras.layers.Dense(128, activation='relu'),\n",
        "     tf.keras.layers.Dense(256, activation='relu'),\n",
        "     tf.keras.layers.Dense(10)\n",
        "     ])"
      ]
    },
    {
      "cell_type": "code",
      "execution_count": null,
      "metadata": {
        "id": "S_DDEjxoLWtc"
      },
      "outputs": [],
      "source": [
        "model2.compile(optimizer='SGD', loss=tf.keras.losses.SparseCategoricalCrossentropy(from_logits=True)\n",
        "               , metrics=['accuracy'])                                    # 어떤 loss func을 사용하고, metric, optimizer를 사용할지 결정"
      ]
    },
    {
      "cell_type": "code",
      "execution_count": null,
      "metadata": {
        "id": "sBBa2L1XLWtd",
        "colab": {
          "base_uri": "https://localhost:8080/",
          "height": 1000
        },
        "outputId": "648889ef-4bc1-404b-9060-fd09754b3933"
      },
      "outputs": [
        {
          "output_type": "stream",
          "name": "stdout",
          "text": [
            "Epoch 1/40\n",
            "469/469 [==============================] - 2s 3ms/step - loss: 1.3073 - accuracy: 0.6889\n",
            "Epoch 2/40\n",
            "469/469 [==============================] - 1s 3ms/step - loss: 0.5096 - accuracy: 0.8692\n",
            "Epoch 3/40\n",
            "469/469 [==============================] - 1s 3ms/step - loss: 0.3921 - accuracy: 0.8923\n",
            "Epoch 4/40\n",
            "469/469 [==============================] - 1s 3ms/step - loss: 0.3462 - accuracy: 0.9027\n",
            "Epoch 5/40\n",
            "469/469 [==============================] - 1s 3ms/step - loss: 0.3187 - accuracy: 0.9100\n",
            "Epoch 6/40\n",
            "469/469 [==============================] - 2s 4ms/step - loss: 0.2992 - accuracy: 0.9155\n",
            "Epoch 7/40\n",
            "469/469 [==============================] - 2s 3ms/step - loss: 0.2832 - accuracy: 0.9201\n",
            "Epoch 8/40\n",
            "469/469 [==============================] - 1s 3ms/step - loss: 0.2698 - accuracy: 0.9235\n",
            "Epoch 9/40\n",
            "469/469 [==============================] - 1s 3ms/step - loss: 0.2580 - accuracy: 0.9266\n",
            "Epoch 10/40\n",
            "469/469 [==============================] - 2s 3ms/step - loss: 0.2472 - accuracy: 0.9297\n",
            "Epoch 11/40\n",
            "469/469 [==============================] - 1s 3ms/step - loss: 0.2377 - accuracy: 0.9326\n",
            "Epoch 12/40\n",
            "469/469 [==============================] - 1s 3ms/step - loss: 0.2287 - accuracy: 0.9357\n",
            "Epoch 13/40\n",
            "469/469 [==============================] - 1s 3ms/step - loss: 0.2204 - accuracy: 0.9383\n",
            "Epoch 14/40\n",
            "469/469 [==============================] - 2s 4ms/step - loss: 0.2127 - accuracy: 0.9399\n",
            "Epoch 15/40\n",
            "469/469 [==============================] - 2s 4ms/step - loss: 0.2056 - accuracy: 0.9421\n",
            "Epoch 16/40\n",
            "469/469 [==============================] - 1s 3ms/step - loss: 0.1987 - accuracy: 0.9440\n",
            "Epoch 17/40\n",
            "469/469 [==============================] - 1s 3ms/step - loss: 0.1925 - accuracy: 0.9458\n",
            "Epoch 18/40\n",
            "469/469 [==============================] - 1s 3ms/step - loss: 0.1869 - accuracy: 0.9473\n",
            "Epoch 19/40\n",
            "469/469 [==============================] - 1s 3ms/step - loss: 0.1813 - accuracy: 0.9490\n",
            "Epoch 20/40\n",
            "469/469 [==============================] - 1s 3ms/step - loss: 0.1759 - accuracy: 0.9508\n",
            "Epoch 21/40\n",
            "469/469 [==============================] - 1s 3ms/step - loss: 0.1712 - accuracy: 0.9522\n",
            "Epoch 22/40\n",
            "469/469 [==============================] - 2s 4ms/step - loss: 0.1663 - accuracy: 0.9533\n",
            "Epoch 23/40\n",
            "469/469 [==============================] - 2s 4ms/step - loss: 0.1621 - accuracy: 0.9544\n",
            "Epoch 24/40\n",
            "469/469 [==============================] - 1s 3ms/step - loss: 0.1580 - accuracy: 0.9555\n",
            "Epoch 25/40\n",
            "469/469 [==============================] - 1s 3ms/step - loss: 0.1541 - accuracy: 0.9567\n",
            "Epoch 26/40\n",
            "469/469 [==============================] - 1s 3ms/step - loss: 0.1501 - accuracy: 0.9582\n",
            "Epoch 27/40\n",
            "469/469 [==============================] - 1s 3ms/step - loss: 0.1465 - accuracy: 0.9585\n",
            "Epoch 28/40\n",
            "469/469 [==============================] - 1s 3ms/step - loss: 0.1428 - accuracy: 0.9598\n",
            "Epoch 29/40\n",
            "469/469 [==============================] - 1s 3ms/step - loss: 0.1397 - accuracy: 0.9605\n",
            "Epoch 30/40\n",
            "469/469 [==============================] - 2s 4ms/step - loss: 0.1365 - accuracy: 0.9618\n",
            "Epoch 31/40\n",
            "469/469 [==============================] - 2s 4ms/step - loss: 0.1334 - accuracy: 0.9620\n",
            "Epoch 32/40\n",
            "469/469 [==============================] - 1s 3ms/step - loss: 0.1304 - accuracy: 0.9631\n",
            "Epoch 33/40\n",
            "469/469 [==============================] - 1s 3ms/step - loss: 0.1276 - accuracy: 0.9641\n",
            "Epoch 34/40\n",
            "469/469 [==============================] - 1s 3ms/step - loss: 0.1249 - accuracy: 0.9646\n",
            "Epoch 35/40\n",
            "469/469 [==============================] - 1s 3ms/step - loss: 0.1224 - accuracy: 0.9655\n",
            "Epoch 36/40\n",
            "469/469 [==============================] - 1s 3ms/step - loss: 0.1199 - accuracy: 0.9662\n",
            "Epoch 37/40\n",
            "469/469 [==============================] - 1s 3ms/step - loss: 0.1174 - accuracy: 0.9670\n",
            "Epoch 38/40\n",
            "469/469 [==============================] - 1s 3ms/step - loss: 0.1150 - accuracy: 0.9679\n",
            "Epoch 39/40\n",
            "469/469 [==============================] - 2s 4ms/step - loss: 0.1127 - accuracy: 0.9685\n",
            "Epoch 40/40\n",
            "469/469 [==============================] - 1s 3ms/step - loss: 0.1105 - accuracy: 0.9690\n"
          ]
        },
        {
          "output_type": "display_data",
          "data": {
            "text/plain": [
              "<Figure size 640x480 with 2 Axes>"
            ],
            "image/png": "[encoded data removed]"
          },
          "metadata": {}
        },
        {
          "output_type": "stream",
          "name": "stdout",
          "text": [
            "313/313 [==============================] - 1s 2ms/step - loss: 0.1154 - accuracy: 0.9659\n"
          ]
        }
      ],
      "source": [
        "inform=model2.fit(x_train, y_train, batch_size=128, epochs=40)            # batch size는 default가 32라고 함, val dataset을 넣어줄 수도 있고, 자동으로 쪼개서 쓰기도 함, validation_split=0.2\n",
        "\n",
        "\n",
        "fig, loss_ax = plt.subplots()\n",
        "acc_ax = loss_ax.twinx()\n",
        "\n",
        "loss_ax.plot(inform.history['loss'], 'y', label='train loss')\n",
        "loss_ax.set_xlabel('epoch')\n",
        "loss_ax.set_ylabel('loss')\n",
        "\n",
        "acc_ax.plot(inform.history['accuracy'], 'b', label='train acc')\n",
        "\n",
        "\n",
        "plt.show()\n",
        "\n",
        "\n",
        "test_loss, test_acc = model2.evaluate(x_test, y_test) # verbose = 0 --> ignore, 1 --> progress bare, 2--> one line per epoch"
      ]
    },
    {
      "cell_type": "code",
      "source": [],
      "metadata": {
        "id": "mPZeiQ_dy1Eh"
      },
      "execution_count": null,
      "outputs": []
    }
  ],
  "metadata": {
    "interpreter": {
      "hash": "027c60129158c282f17300ecd42f7db605bcd4ed96b3ff49c4ae68de6638e862"
    },
    "kernelspec": {
      "display_name": "Python 3",
      "name": "python3"
    },
    "language_info": {
      "codemirror_mode": {
        "name": "ipython",
        "version": 3
      },
      "file_extension": ".py",
      "mimetype": "text/x-python",
      "name": "python",
      "nbconvert_exporter": "python",
      "pygments_lexer": "ipython3",
      "version": "3.9.2"
    },
    "colab": {
      "provenance": [],
      "gpuType": "T4",
      "include_colab_link": true
    },
    "accelerator": "GPU"
  },
  "nbformat": 4,
  "nbformat_minor": 0
}
