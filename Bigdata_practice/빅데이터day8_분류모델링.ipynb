{
 "cells": [
  {
   "cell_type": "markdown",
   "id": "4032b7e6",
   "metadata": {},
   "source": [
    "# 필수 라이브러리\n"
   ]
  },
  {
   "cell_type": "code",
   "execution_count": 1,
   "id": "a82248bb",
   "metadata": {},
   "outputs": [],
   "source": [
    "import pandas as pd\n",
    "import numpy as np\n",
    "import seaborn as sns\n",
    "import matplotlib.pyplot as plt\n",
    "import matplotlib\n",
    "from statsmodels.stats.outliers_influence import variance_inflation_factor\n",
    "from sklearn.model_selection import train_test_split\n",
    "\n",
    "from statsmodels.api import Logit\n",
    "from sklearn.tree import DecisionTreeClassifier\n",
    "from sklearn.ensemble import RandomForestClassifier\n",
    "from sklearn.metrics import accuracy_score, f1_score\n",
    "from sklearn.metrics import confusion_matrix, classification_report\n",
    "matplotlib.rc('font', family = 'NanumGothic')\n",
    "matplotlib.rc('axes', unicode_minus = False)\n",
    "import os\n",
    "os.chdir('/home/piai/실습파일/BigData분석')\n",
    "\n",
    "from sklearn.tree import export_graphviz\n",
    "import graphviz\n",
    "from subprocess import call\n",
    "from IPython.display import Image"
   ]
  },
  {
   "cell_type": "markdown",
   "id": "eb923aef",
   "metadata": {},
   "source": [
    "# 로지스틱 회귀분석"
   ]
  },
  {
   "cell_type": "markdown",
   "id": "dea9f391",
   "metadata": {},
   "source": [
    "## 1. 데이터 구성하기"
   ]
  },
  {
   "cell_type": "code",
   "execution_count": 2,
   "id": "a4f42ddd",
   "metadata": {},
   "outputs": [
    {
     "data": {
      "text/html": [
       "<div>\n",
       "<style scoped>\n",
       "    .dataframe tbody tr th:only-of-type {\n",
       "        vertical-align: middle;\n",
       "    }\n",
       "\n",
       "    .dataframe tbody tr th {\n",
       "        vertical-align: top;\n",
       "    }\n",
       "\n",
       "    .dataframe thead th {\n",
       "        text-align: right;\n",
       "    }\n",
       "</style>\n",
       "<table border=\"1\" class=\"dataframe\">\n",
       "  <thead>\n",
       "    <tr style=\"text-align: right;\">\n",
       "      <th></th>\n",
       "      <th>CHURN</th>\n",
       "      <th>CUSTOMER_ID</th>\n",
       "      <th>GENDER</th>\n",
       "      <th>AGE</th>\n",
       "      <th>CHARGE_TYPE</th>\n",
       "      <th>HANDSET</th>\n",
       "      <th>USAGE_BAND</th>\n",
       "      <th>SERVICE_DURATION</th>\n",
       "      <th>DROPPED_CALLS</th>\n",
       "      <th>PEAK_CALLS_NO</th>\n",
       "      <th>PEAK_CALLS_TIME</th>\n",
       "      <th>WEEKEND_CALLS_NO</th>\n",
       "      <th>WEEKEND_CALLS_TIME</th>\n",
       "      <th>TOTAL_CALLS_NO</th>\n",
       "      <th>TOTAL_CALLS_TIME</th>\n",
       "    </tr>\n",
       "  </thead>\n",
       "  <tbody>\n",
       "    <tr>\n",
       "      <th>0</th>\n",
       "      <td>Active</td>\n",
       "      <td>K102990</td>\n",
       "      <td>F</td>\n",
       "      <td>31</td>\n",
       "      <td>CAT 100</td>\n",
       "      <td>ASAD170</td>\n",
       "      <td>Med</td>\n",
       "      <td>33.33</td>\n",
       "      <td>6</td>\n",
       "      <td>218</td>\n",
       "      <td>379.8</td>\n",
       "      <td>9</td>\n",
       "      <td>21.6</td>\n",
       "      <td>366</td>\n",
       "      <td>632.4</td>\n",
       "    </tr>\n",
       "    <tr>\n",
       "      <th>1</th>\n",
       "      <td>Active</td>\n",
       "      <td>K103280</td>\n",
       "      <td>M</td>\n",
       "      <td>27</td>\n",
       "      <td>CAT 100</td>\n",
       "      <td>S50</td>\n",
       "      <td>Med</td>\n",
       "      <td>30.87</td>\n",
       "      <td>10</td>\n",
       "      <td>373</td>\n",
       "      <td>656.4</td>\n",
       "      <td>11</td>\n",
       "      <td>28.0</td>\n",
       "      <td>411</td>\n",
       "      <td>810.4</td>\n",
       "    </tr>\n",
       "    <tr>\n",
       "      <th>2</th>\n",
       "      <td>Active</td>\n",
       "      <td>K103660</td>\n",
       "      <td>M</td>\n",
       "      <td>27</td>\n",
       "      <td>CAT 100</td>\n",
       "      <td>ASAD170</td>\n",
       "      <td>Med</td>\n",
       "      <td>49.40</td>\n",
       "      <td>11</td>\n",
       "      <td>260</td>\n",
       "      <td>582.0</td>\n",
       "      <td>0</td>\n",
       "      <td>0.0</td>\n",
       "      <td>265</td>\n",
       "      <td>614.1</td>\n",
       "    </tr>\n",
       "    <tr>\n",
       "      <th>3</th>\n",
       "      <td>Active</td>\n",
       "      <td>K103730</td>\n",
       "      <td>M</td>\n",
       "      <td>61</td>\n",
       "      <td>CAT 100</td>\n",
       "      <td>ASAD170</td>\n",
       "      <td>Med</td>\n",
       "      <td>48.60</td>\n",
       "      <td>1</td>\n",
       "      <td>294</td>\n",
       "      <td>661.8</td>\n",
       "      <td>14</td>\n",
       "      <td>101.5</td>\n",
       "      <td>326</td>\n",
       "      <td>844.0</td>\n",
       "    </tr>\n",
       "    <tr>\n",
       "      <th>4</th>\n",
       "      <td>Active</td>\n",
       "      <td>K104560</td>\n",
       "      <td>F</td>\n",
       "      <td>52</td>\n",
       "      <td>CAT 100</td>\n",
       "      <td>S50</td>\n",
       "      <td>Med</td>\n",
       "      <td>56.03</td>\n",
       "      <td>0</td>\n",
       "      <td>221</td>\n",
       "      <td>555.6</td>\n",
       "      <td>7</td>\n",
       "      <td>25.0</td>\n",
       "      <td>274</td>\n",
       "      <td>673.0</td>\n",
       "    </tr>\n",
       "  </tbody>\n",
       "</table>\n",
       "</div>"
      ],
      "text/plain": [
       "    CHURN CUSTOMER_ID GENDER  AGE CHARGE_TYPE  HANDSET USAGE_BAND  \\\n",
       "0  Active     K102990      F   31     CAT 100  ASAD170        Med   \n",
       "1  Active     K103280      M   27     CAT 100      S50        Med   \n",
       "2  Active     K103660      M   27     CAT 100  ASAD170        Med   \n",
       "3  Active     K103730      M   61     CAT 100  ASAD170        Med   \n",
       "4  Active     K104560      F   52     CAT 100      S50        Med   \n",
       "\n",
       "   SERVICE_DURATION  DROPPED_CALLS  PEAK_CALLS_NO  PEAK_CALLS_TIME  \\\n",
       "0             33.33              6            218            379.8   \n",
       "1             30.87             10            373            656.4   \n",
       "2             49.40             11            260            582.0   \n",
       "3             48.60              1            294            661.8   \n",
       "4             56.03              0            221            555.6   \n",
       "\n",
       "   WEEKEND_CALLS_NO  WEEKEND_CALLS_TIME  TOTAL_CALLS_NO  TOTAL_CALLS_TIME  \n",
       "0                 9                21.6             366             632.4  \n",
       "1                11                28.0             411             810.4  \n",
       "2                 0                 0.0             265             614.1  \n",
       "3                14               101.5             326             844.0  \n",
       "4                 7                25.0             274             673.0  "
      ]
     },
     "execution_count": 2,
     "metadata": {},
     "output_type": "execute_result"
    }
   ],
   "source": [
    "df = pd.read_csv(\"통신고객이탈.csv\", encoding = 'euc-kr')\n",
    "df.head()"
   ]
  },
  {
   "cell_type": "code",
   "execution_count": 3,
   "id": "bae6a276",
   "metadata": {},
   "outputs": [
    {
     "name": "stdout",
     "output_type": "stream",
     "text": [
      "<class 'pandas.core.frame.DataFrame'>\n",
      "RangeIndex: 930 entries, 0 to 929\n",
      "Data columns (total 15 columns):\n",
      " #   Column              Non-Null Count  Dtype  \n",
      "---  ------              --------------  -----  \n",
      " 0   CHURN               930 non-null    object \n",
      " 1   CUSTOMER_ID         930 non-null    object \n",
      " 2   GENDER              930 non-null    object \n",
      " 3   AGE                 930 non-null    int64  \n",
      " 4   CHARGE_TYPE         930 non-null    object \n",
      " 5   HANDSET             930 non-null    object \n",
      " 6   USAGE_BAND          930 non-null    object \n",
      " 7   SERVICE_DURATION    930 non-null    float64\n",
      " 8   DROPPED_CALLS       930 non-null    int64  \n",
      " 9   PEAK_CALLS_NO       930 non-null    int64  \n",
      " 10  PEAK_CALLS_TIME     930 non-null    float64\n",
      " 11  WEEKEND_CALLS_NO    930 non-null    int64  \n",
      " 12  WEEKEND_CALLS_TIME  930 non-null    float64\n",
      " 13  TOTAL_CALLS_NO      930 non-null    int64  \n",
      " 14  TOTAL_CALLS_TIME    930 non-null    float64\n",
      "dtypes: float64(4), int64(5), object(6)\n",
      "memory usage: 109.1+ KB\n"
     ]
    }
   ],
   "source": [
    "df.info()"
   ]
  },
  {
   "cell_type": "markdown",
   "id": "524e065c",
   "metadata": {},
   "source": [
    "## 2. 데이터 전처리"
   ]
  },
  {
   "cell_type": "markdown",
   "id": "4b51d630",
   "metadata": {},
   "source": [
    "### 2.1 결측치 확인 및 처리\n",
    "- 결측치는 존재하지 않음."
   ]
  },
  {
   "cell_type": "code",
   "execution_count": 4,
   "id": "6cd43c0b",
   "metadata": {},
   "outputs": [
    {
     "data": {
      "text/plain": [
       "CHURN                 0\n",
       "CUSTOMER_ID           0\n",
       "GENDER                0\n",
       "AGE                   0\n",
       "CHARGE_TYPE           0\n",
       "HANDSET               0\n",
       "USAGE_BAND            0\n",
       "SERVICE_DURATION      0\n",
       "DROPPED_CALLS         0\n",
       "PEAK_CALLS_NO         0\n",
       "PEAK_CALLS_TIME       0\n",
       "WEEKEND_CALLS_NO      0\n",
       "WEEKEND_CALLS_TIME    0\n",
       "TOTAL_CALLS_NO        0\n",
       "TOTAL_CALLS_TIME      0\n",
       "dtype: int64"
      ]
     },
     "execution_count": 4,
     "metadata": {},
     "output_type": "execute_result"
    }
   ],
   "source": [
    "df.isnull().sum()"
   ]
  },
  {
   "cell_type": "markdown",
   "id": "ca63c51b",
   "metadata": {},
   "source": [
    "### 2.2 상관관계 확인 & 다중공선성 제거\n",
    "- (TOTAL_CALLS_NO, PEAK_CALLS_NO), (TOTAL_CALLS_TIME, PEAK_CALLS_NO), (WEEKEND_CALLS_NO, WEEKEND_CALLS_TIME)은 각각 0.92, 0.93, 0.71로 높은 양의 상관관계를 갖는 것을 확인할 수 있었다. 이에 따라 다중공선성이 존재할 것으로 예상해 VIF를 추가로 확인하였다."
   ]
  },
  {
   "cell_type": "code",
   "execution_count": 5,
   "id": "58a40721",
   "metadata": {
    "scrolled": false
   },
   "outputs": [
    {
     "name": "stderr",
     "output_type": "stream",
     "text": [
      "/tmp/ipykernel_8127/221941791.py:1: FutureWarning: The default value of numeric_only in DataFrame.corr is deprecated. In a future version, it will default to False. Select only valid columns or specify the value of numeric_only to silence this warning.\n",
      "  sns.heatmap(df.corr(), annot=True)\n"
     ]
    },
    {
     "data": {
      "image/png": "[encoded data removed]",
      "text/plain": [
       "<Figure size 640x480 with 2 Axes>"
      ]
     },
     "metadata": {},
     "output_type": "display_data"
    }
   ],
   "source": [
    "sns.heatmap(df.corr(), annot=True)\n",
    "plt.show()"
   ]
  },
  {
   "cell_type": "markdown",
   "id": "a2a3ee73",
   "metadata": {},
   "source": [
    "- X변수들간의 VIF를 통해 다중공선성을 확인하고자 하였다. VIF 10이상을 기준으로, TOTAL_CALLS_TIME, PEAK_CALLS_TIME, TOTAL_CALLS_NO이 각각 62.66 38.75, 35.54의 값을 가져 높은 다중공선성을 갖고 있는 것으로 확인되었으며, 이에 따라 VIF값이 가장 큰 TOTAL_CALLS_TIME 변수를 제거하였다.  \n",
    "- TOTAL_CALLS_TIME 변수를 제거한 뒤에도, PEAK_CALLS_NO, TOTAL_CALLS_NO에 다중공선성이 존재하는 것으로 확인되었다. 마찬가지로 가장 높은 VIF값을 가지는 TOTAL_CALLS_NO 변수를 제거하였으며, 이 후의 X변수들 사이에는 다중공선성 문제가 발견되지 않았다."
   ]
  },
  {
   "cell_type": "code",
   "execution_count": 6,
   "id": "fbf1ebc5",
   "metadata": {},
   "outputs": [
    {
     "data": {
      "text/html": [
       "<div>\n",
       "<style scoped>\n",
       "    .dataframe tbody tr th:only-of-type {\n",
       "        vertical-align: middle;\n",
       "    }\n",
       "\n",
       "    .dataframe tbody tr th {\n",
       "        vertical-align: top;\n",
       "    }\n",
       "\n",
       "    .dataframe thead th {\n",
       "        text-align: right;\n",
       "    }\n",
       "</style>\n",
       "<table border=\"1\" class=\"dataframe\">\n",
       "  <thead>\n",
       "    <tr style=\"text-align: right;\">\n",
       "      <th></th>\n",
       "      <th>variable</th>\n",
       "      <th>VIF</th>\n",
       "    </tr>\n",
       "  </thead>\n",
       "  <tbody>\n",
       "    <tr>\n",
       "      <th>2</th>\n",
       "      <td>DROPPED_CALLS</td>\n",
       "      <td>1.53</td>\n",
       "    </tr>\n",
       "    <tr>\n",
       "      <th>5</th>\n",
       "      <td>WEEKEND_CALLS_NO</td>\n",
       "      <td>4.09</td>\n",
       "    </tr>\n",
       "    <tr>\n",
       "      <th>1</th>\n",
       "      <td>SERVICE_DURATION</td>\n",
       "      <td>4.69</td>\n",
       "    </tr>\n",
       "    <tr>\n",
       "      <th>0</th>\n",
       "      <td>AGE</td>\n",
       "      <td>5.09</td>\n",
       "    </tr>\n",
       "    <tr>\n",
       "      <th>6</th>\n",
       "      <td>WEEKEND_CALLS_TIME</td>\n",
       "      <td>5.68</td>\n",
       "    </tr>\n",
       "    <tr>\n",
       "      <th>3</th>\n",
       "      <td>PEAK_CALLS_NO</td>\n",
       "      <td>24.22</td>\n",
       "    </tr>\n",
       "    <tr>\n",
       "      <th>7</th>\n",
       "      <td>TOTAL_CALLS_NO</td>\n",
       "      <td>35.54</td>\n",
       "    </tr>\n",
       "    <tr>\n",
       "      <th>4</th>\n",
       "      <td>PEAK_CALLS_TIME</td>\n",
       "      <td>38.75</td>\n",
       "    </tr>\n",
       "    <tr>\n",
       "      <th>8</th>\n",
       "      <td>TOTAL_CALLS_TIME</td>\n",
       "      <td>62.66</td>\n",
       "    </tr>\n",
       "  </tbody>\n",
       "</table>\n",
       "</div>"
      ],
      "text/plain": [
       "             variable    VIF\n",
       "2       DROPPED_CALLS   1.53\n",
       "5    WEEKEND_CALLS_NO   4.09\n",
       "1    SERVICE_DURATION   4.69\n",
       "0                 AGE   5.09\n",
       "6  WEEKEND_CALLS_TIME   5.68\n",
       "3       PEAK_CALLS_NO  24.22\n",
       "7      TOTAL_CALLS_NO  35.54\n",
       "4     PEAK_CALLS_TIME  38.75\n",
       "8    TOTAL_CALLS_TIME  62.66"
      ]
     },
     "execution_count": 6,
     "metadata": {},
     "output_type": "execute_result"
    }
   ],
   "source": [
    "df_x = df.select_dtypes(exclude=['object'])\n",
    "df_vif = pd.DataFrame()\n",
    "df_vif[\"variable\"] = df_x.columns\n",
    "df_vif[\"VIF\"] = [variance_inflation_factor(df_x.values, i) \\\n",
    "                 for i in range(df_x.shape[1])]\n",
    "# VIF 정렬\n",
    "df_vif.sort_values(\"VIF\", ascending = True).round(2)"
   ]
  },
  {
   "cell_type": "code",
   "execution_count": 7,
   "id": "1d7becce",
   "metadata": {},
   "outputs": [
    {
     "data": {
      "text/html": [
       "<div>\n",
       "<style scoped>\n",
       "    .dataframe tbody tr th:only-of-type {\n",
       "        vertical-align: middle;\n",
       "    }\n",
       "\n",
       "    .dataframe tbody tr th {\n",
       "        vertical-align: top;\n",
       "    }\n",
       "\n",
       "    .dataframe thead th {\n",
       "        text-align: right;\n",
       "    }\n",
       "</style>\n",
       "<table border=\"1\" class=\"dataframe\">\n",
       "  <thead>\n",
       "    <tr style=\"text-align: right;\">\n",
       "      <th></th>\n",
       "      <th>variable</th>\n",
       "      <th>VIF</th>\n",
       "    </tr>\n",
       "  </thead>\n",
       "  <tbody>\n",
       "    <tr>\n",
       "      <th>2</th>\n",
       "      <td>DROPPED_CALLS</td>\n",
       "      <td>1.53</td>\n",
       "    </tr>\n",
       "    <tr>\n",
       "      <th>5</th>\n",
       "      <td>WEEKEND_CALLS_NO</td>\n",
       "      <td>4.05</td>\n",
       "    </tr>\n",
       "    <tr>\n",
       "      <th>1</th>\n",
       "      <td>SERVICE_DURATION</td>\n",
       "      <td>4.50</td>\n",
       "    </tr>\n",
       "    <tr>\n",
       "      <th>0</th>\n",
       "      <td>AGE</td>\n",
       "      <td>4.91</td>\n",
       "    </tr>\n",
       "    <tr>\n",
       "      <th>4</th>\n",
       "      <td>PEAK_CALLS_TIME</td>\n",
       "      <td>5.27</td>\n",
       "    </tr>\n",
       "    <tr>\n",
       "      <th>6</th>\n",
       "      <td>WEEKEND_CALLS_TIME</td>\n",
       "      <td>5.40</td>\n",
       "    </tr>\n",
       "    <tr>\n",
       "      <th>3</th>\n",
       "      <td>PEAK_CALLS_NO</td>\n",
       "      <td>13.99</td>\n",
       "    </tr>\n",
       "    <tr>\n",
       "      <th>7</th>\n",
       "      <td>TOTAL_CALLS_NO</td>\n",
       "      <td>17.30</td>\n",
       "    </tr>\n",
       "  </tbody>\n",
       "</table>\n",
       "</div>"
      ],
      "text/plain": [
       "             variable    VIF\n",
       "2       DROPPED_CALLS   1.53\n",
       "5    WEEKEND_CALLS_NO   4.05\n",
       "1    SERVICE_DURATION   4.50\n",
       "0                 AGE   4.91\n",
       "4     PEAK_CALLS_TIME   5.27\n",
       "6  WEEKEND_CALLS_TIME   5.40\n",
       "3       PEAK_CALLS_NO  13.99\n",
       "7      TOTAL_CALLS_NO  17.30"
      ]
     },
     "execution_count": 7,
     "metadata": {},
     "output_type": "execute_result"
    }
   ],
   "source": [
    "df_x = df_x.drop(columns = 'TOTAL_CALLS_TIME')\n",
    "df_vif = pd.DataFrame()\n",
    "df_vif[\"variable\"] = df_x.columns\n",
    "df_vif[\"VIF\"] = [variance_inflation_factor(df_x.values, i) \\\n",
    "                 for i in range(df_x.shape[1])]\n",
    "# VIF 정렬\n",
    "df_vif.sort_values(\"VIF\", ascending = True).round(2)"
   ]
  },
  {
   "cell_type": "code",
   "execution_count": 8,
   "id": "337c3a84",
   "metadata": {},
   "outputs": [
    {
     "data": {
      "text/html": [
       "<div>\n",
       "<style scoped>\n",
       "    .dataframe tbody tr th:only-of-type {\n",
       "        vertical-align: middle;\n",
       "    }\n",
       "\n",
       "    .dataframe tbody tr th {\n",
       "        vertical-align: top;\n",
       "    }\n",
       "\n",
       "    .dataframe thead th {\n",
       "        text-align: right;\n",
       "    }\n",
       "</style>\n",
       "<table border=\"1\" class=\"dataframe\">\n",
       "  <thead>\n",
       "    <tr style=\"text-align: right;\">\n",
       "      <th></th>\n",
       "      <th>variable</th>\n",
       "      <th>VIF</th>\n",
       "    </tr>\n",
       "  </thead>\n",
       "  <tbody>\n",
       "    <tr>\n",
       "      <th>2</th>\n",
       "      <td>DROPPED_CALLS</td>\n",
       "      <td>1.52</td>\n",
       "    </tr>\n",
       "    <tr>\n",
       "      <th>3</th>\n",
       "      <td>PEAK_CALLS_NO</td>\n",
       "      <td>3.84</td>\n",
       "    </tr>\n",
       "    <tr>\n",
       "      <th>5</th>\n",
       "      <td>WEEKEND_CALLS_NO</td>\n",
       "      <td>4.00</td>\n",
       "    </tr>\n",
       "    <tr>\n",
       "      <th>1</th>\n",
       "      <td>SERVICE_DURATION</td>\n",
       "      <td>4.34</td>\n",
       "    </tr>\n",
       "    <tr>\n",
       "      <th>0</th>\n",
       "      <td>AGE</td>\n",
       "      <td>4.79</td>\n",
       "    </tr>\n",
       "    <tr>\n",
       "      <th>4</th>\n",
       "      <td>PEAK_CALLS_TIME</td>\n",
       "      <td>5.26</td>\n",
       "    </tr>\n",
       "    <tr>\n",
       "      <th>6</th>\n",
       "      <td>WEEKEND_CALLS_TIME</td>\n",
       "      <td>5.39</td>\n",
       "    </tr>\n",
       "  </tbody>\n",
       "</table>\n",
       "</div>"
      ],
      "text/plain": [
       "             variable   VIF\n",
       "2       DROPPED_CALLS  1.52\n",
       "3       PEAK_CALLS_NO  3.84\n",
       "5    WEEKEND_CALLS_NO  4.00\n",
       "1    SERVICE_DURATION  4.34\n",
       "0                 AGE  4.79\n",
       "4     PEAK_CALLS_TIME  5.26\n",
       "6  WEEKEND_CALLS_TIME  5.39"
      ]
     },
     "execution_count": 8,
     "metadata": {},
     "output_type": "execute_result"
    }
   ],
   "source": [
    "df_x = df_x.drop(columns = 'TOTAL_CALLS_NO')\n",
    "df_vif = pd.DataFrame()\n",
    "df_vif[\"variable\"] = df_x.columns\n",
    "df_vif[\"VIF\"] = [variance_inflation_factor(df_x.values, i) \\\n",
    "                 for i in range(df_x.shape[1])]\n",
    "# VIF 정렬\n",
    "df_vif.sort_values(\"VIF\", ascending = True).round(2)"
   ]
  },
  {
   "cell_type": "markdown",
   "id": "bf6eaf21",
   "metadata": {},
   "source": [
    "- 다중공선성 제거 변수 : TOTAL_CALLS_TIME, TOTAL_CALLS_NO"
   ]
  },
  {
   "cell_type": "code",
   "execution_count": 9,
   "id": "7b637c5e",
   "metadata": {},
   "outputs": [],
   "source": [
    "df = df.drop(columns=['TOTAL_CALLS_TIME', 'TOTAL_CALLS_NO'])"
   ]
  },
  {
   "cell_type": "markdown",
   "id": "bf665532",
   "metadata": {},
   "source": [
    "### 2.3 불필요한 변수 제거"
   ]
  },
  {
   "cell_type": "markdown",
   "id": "0d6b1543",
   "metadata": {},
   "source": [
    "- CUSTOMER_ID는 Object형 변수로, 데이터 수에 따른 고유한 값(unique value)을 갖는다. 모델 예측의 성능을 저하시키는 변수로 생각되어 제거하였다."
   ]
  },
  {
   "cell_type": "code",
   "execution_count": 10,
   "id": "40e1c33a",
   "metadata": {},
   "outputs": [
    {
     "name": "stdout",
     "output_type": "stream",
     "text": [
      "930\n"
     ]
    }
   ],
   "source": [
    "print(df['CUSTOMER_ID'].nunique())\n",
    "df = df.drop(columns = 'CUSTOMER_ID')"
   ]
  },
  {
   "cell_type": "markdown",
   "id": "4a21e2a0",
   "metadata": {},
   "source": [
    "### 2.4 목표변수 불균형 확인 ( CHURN 변수) 및 인코딩\n"
   ]
  },
  {
   "cell_type": "markdown",
   "id": "d8ef931b",
   "metadata": {},
   "source": [
    "- 목표변수인 CHURN은 Active, Churned 두 개의 값만을 갖는 명목형 변수이다. 따라서 0,1(0:Active, 1:Churned)로 인코딩하였다.\n",
    "- 추가적으로 값의 비율이 8:2인 불균형 데이터임을 확인하였다. 이에 따라 모델의 성능을 판단할 때, Accuracy뿐만 아니라, precision, recall, f1-score의 평가지표도 함께 고려해야함을 알 수 있다."
   ]
  },
  {
   "cell_type": "code",
   "execution_count": 52,
   "id": "58356762",
   "metadata": {},
   "outputs": [
    {
     "data": {
      "text/plain": [
       "0    0.806452\n",
       "1    0.193548\n",
       "Name: CHURN, dtype: float64"
      ]
     },
     "execution_count": 52,
     "metadata": {},
     "output_type": "execute_result"
    }
   ],
   "source": [
    "df['CHURN'].value_counts() / len(df)"
   ]
  },
  {
   "cell_type": "code",
   "execution_count": 12,
   "id": "71a733d3",
   "metadata": {
    "scrolled": true
   },
   "outputs": [
    {
     "data": {
      "text/plain": [
       "0    0\n",
       "1    0\n",
       "2    0\n",
       "3    0\n",
       "4    0\n",
       "Name: CHURN, dtype: int64"
      ]
     },
     "execution_count": 12,
     "metadata": {},
     "output_type": "execute_result"
    }
   ],
   "source": [
    "df.loc[df['CHURN']=='Churned', 'CHURN'] = 1 \n",
    "df.loc[df['CHURN']=='Active', 'CHURN'] = 0\n",
    "df['CHURN'] = df['CHURN'].astype(int)\n",
    "df['CHURN'].head()"
   ]
  },
  {
   "cell_type": "markdown",
   "id": "96c6d687",
   "metadata": {},
   "source": [
    "### 2.5 데이터 분할"
   ]
  },
  {
   "cell_type": "markdown",
   "id": "209f9ebe",
   "metadata": {},
   "source": [
    "- 데이터는 7:3 비율로 Training set, Test set으로 분리하였으며, 두 개의 unique 값을 갖는 목표변수 CHURN이 Training set, Test set에 같은 비율로 포함되게 하였다."
   ]
  },
  {
   "cell_type": "code",
   "execution_count": 13,
   "id": "533dea7c",
   "metadata": {
    "scrolled": true
   },
   "outputs": [
    {
     "name": "stdout",
     "output_type": "stream",
     "text": [
      "training data size : (651, 12)\n",
      "test data size : (279, 12)\n"
     ]
    }
   ],
   "source": [
    "df_train, df_test = train_test_split(df, test_size = 0.3, random_state = 240307, stratify = df['CHURN'])\n",
    "print('training data size : {}'.format(df_train.shape))\n",
    "print('test data size : {}'.format(df_test.shape))"
   ]
  },
  {
   "cell_type": "markdown",
   "id": "6ae93da7",
   "metadata": {},
   "source": [
    "## 3. 모델 및 회귀계수 검토"
   ]
  },
  {
   "cell_type": "markdown",
   "id": "053a4a67",
   "metadata": {},
   "source": [
    "- object형 변수확인"
   ]
  },
  {
   "cell_type": "code",
   "execution_count": 15,
   "id": "4589ed4e",
   "metadata": {},
   "outputs": [
    {
     "data": {
      "text/plain": [
       "['GENDER', 'CHARGE_TYPE', 'HANDSET', 'USAGE_BAND']"
      ]
     },
     "execution_count": 15,
     "metadata": {},
     "output_type": "execute_result"
    }
   ],
   "source": [
    "df_train.select_dtypes(include=['object']).columns.tolist()"
   ]
  },
  {
   "cell_type": "markdown",
   "id": "faca1b93",
   "metadata": {},
   "source": [
    "### 3.1 model 1 : 회귀계수가 유의하지 않은 설명변수를 제거하지 않음"
   ]
  },
  {
   "cell_type": "code",
   "execution_count": 16,
   "id": "426c9f59",
   "metadata": {
    "scrolled": false
   },
   "outputs": [
    {
     "name": "stdout",
     "output_type": "stream",
     "text": [
      "Warning: Maximum number of iterations has been exceeded.\n",
      "         Current function value: 0.245549\n",
      "         Iterations: 35\n",
      "                           Logit Regression Results                           \n",
      "==============================================================================\n",
      "Dep. Variable:                  CHURN   No. Observations:                  651\n",
      "Model:                          Logit   Df Residuals:                      623\n",
      "Method:                           MLE   Df Model:                           27\n",
      "Date:                Thu, 07 Mar 2024   Pseudo R-squ.:                  0.5002\n",
      "Time:                        20:59:41   Log-Likelihood:                -159.85\n",
      "converged:                      False   LL-Null:                       -319.85\n",
      "Covariance Type:            nonrobust   LLR p-value:                 7.339e-52\n",
      "==============================================================================================\n",
      "                                 coef    std err          z      P>|z|      [0.025      0.975]\n",
      "----------------------------------------------------------------------------------------------\n",
      "Intercept                    -28.6649   5.56e+04     -0.001      1.000   -1.09e+05    1.09e+05\n",
      "C(GENDER)[T.M]                -0.7736      0.321     -2.409      0.016      -1.403      -0.144\n",
      "C(CHARGE_TYPE)[T.CAT 200]     -1.2531      0.560     -2.238      0.025      -2.351      -0.156\n",
      "C(CHARGE_TYPE)[T.CAT 50]      -1.5785      0.912     -1.731      0.084      -3.366       0.209\n",
      "C(CHARGE_TYPE)[T.Play 100]     0.4833      0.723      0.668      0.504      -0.934       1.900\n",
      "C(CHARGE_TYPE)[T.Play 300]    -0.4059      0.667     -0.608      0.543      -1.713       0.902\n",
      "C(HANDSET)[T.ASAD90]          29.1085   5.56e+04      0.001      1.000   -1.09e+05    1.09e+05\n",
      "C(HANDSET)[T.BS110]           24.5295   5.56e+04      0.000      1.000   -1.09e+05    1.09e+05\n",
      "C(HANDSET)[T.BS210]           21.8697   5.56e+04      0.000      1.000   -1.09e+05    1.09e+05\n",
      "C(HANDSET)[T.CAS30]           28.1285   5.56e+04      0.001      1.000   -1.09e+05    1.09e+05\n",
      "C(HANDSET)[T.CAS60]            7.9059   5.58e+04      0.000      1.000   -1.09e+05    1.09e+05\n",
      "C(HANDSET)[T.S50]             25.5316   5.56e+04      0.000      1.000   -1.09e+05    1.09e+05\n",
      "C(HANDSET)[T.S80]             24.5145   5.56e+04      0.000      1.000   -1.09e+05    1.09e+05\n",
      "C(HANDSET)[T.SOP10]           27.6655   5.56e+04      0.000      1.000   -1.09e+05    1.09e+05\n",
      "C(HANDSET)[T.SOP20]           43.0459   5.56e+04      0.001      0.999   -1.09e+05    1.09e+05\n",
      "C(HANDSET)[T.WC95]             4.1882   5.59e+04   7.49e-05      1.000    -1.1e+05     1.1e+05\n",
      "C(USAGE_BAND)[T.Low]           5.6541      1.952      2.896      0.004       1.828       9.481\n",
      "C(USAGE_BAND)[T.Med]           2.4766      1.090      2.272      0.023       0.340       4.613\n",
      "C(USAGE_BAND)[T.MedHigh]       1.0349      0.838      1.235      0.217      -0.607       2.677\n",
      "C(USAGE_BAND)[T.MedLow]        4.8884      1.356      3.605      0.000       2.231       7.546\n",
      "C(USAGE_BAND)[T.None]          3.3914      2.358      1.438      0.150      -1.231       8.014\n",
      "AGE                           -0.0315      0.012     -2.652      0.008      -0.055      -0.008\n",
      "SERVICE_DURATION              -0.0245      0.010     -2.355      0.019      -0.045      -0.004\n",
      "DROPPED_CALLS                  0.1608      0.040      4.025      0.000       0.082       0.239\n",
      "PEAK_CALLS_NO                 -0.0005      0.001     -0.596      0.551      -0.002       0.001\n",
      "PEAK_CALLS_TIME                0.0028      0.001      3.277      0.001       0.001       0.005\n",
      "WEEKEND_CALLS_NO              -0.0104      0.014     -0.761      0.447      -0.037       0.016\n",
      "WEEKEND_CALLS_TIME             0.0046      0.006      0.796      0.426      -0.007       0.016\n",
      "==============================================================================================\n",
      "\n",
      "Possibly complete quasi-separation: A fraction 0.27 of observations can be\n",
      "perfectly predicted. This might indicate that there is complete\n",
      "quasi-separation. In this case some parameters will not be identified.\n"
     ]
    },
    {
     "name": "stderr",
     "output_type": "stream",
     "text": [
      "/home/piai/anaconda3/lib/python3.10/site-packages/statsmodels/base/model.py:604: ConvergenceWarning: Maximum Likelihood optimization failed to converge. Check mle_retvals\n",
      "  warnings.warn(\"Maximum Likelihood optimization failed to \"\n"
     ]
    }
   ],
   "source": [
    "log_model1 = Logit.from_formula(\"\"\"CHURN  ~  C(GENDER) + AGE + C(CHARGE_TYPE) + C(HANDSET) + C(USAGE_BAND) + \n",
    "                               SERVICE_DURATION + DROPPED_CALLS + PEAK_CALLS_NO + PEAK_CALLS_TIME + WEEKEND_CALLS_NO +\n",
    "                               WEEKEND_CALLS_TIME\"\"\",df_train)\n",
    "log_result1 = log_model1.fit()\n",
    "print(log_result1.summary())"
   ]
  },
  {
   "cell_type": "markdown",
   "id": "aa27bcec",
   "metadata": {},
   "source": [
    "### 3.2 model 2: 회귀계수가 유의하지 않은 설명변수를 모두 제거함"
   ]
  },
  {
   "cell_type": "markdown",
   "id": "39541ef8",
   "metadata": {},
   "source": [
    "##### 범주형 변수 HANDSET 제거"
   ]
  },
  {
   "cell_type": "code",
   "execution_count": 17,
   "id": "da5ea1c2",
   "metadata": {
    "scrolled": false
   },
   "outputs": [
    {
     "name": "stdout",
     "output_type": "stream",
     "text": [
      "Optimization terminated successfully.\n",
      "         Current function value: 0.434377\n",
      "         Iterations 6\n",
      "                           Logit Regression Results                           \n",
      "==============================================================================\n",
      "Dep. Variable:                  CHURN   No. Observations:                  651\n",
      "Model:                          Logit   Df Residuals:                      633\n",
      "Method:                           MLE   Df Model:                           17\n",
      "Date:                Thu, 07 Mar 2024   Pseudo R-squ.:                  0.1159\n",
      "Time:                        20:59:42   Log-Likelihood:                -282.78\n",
      "converged:                       True   LL-Null:                       -319.85\n",
      "Covariance Type:            nonrobust   LLR p-value:                 4.114e-09\n",
      "==============================================================================================\n",
      "                                 coef    std err          z      P>|z|      [0.025      0.975]\n",
      "----------------------------------------------------------------------------------------------\n",
      "Intercept                     -1.3620      1.108     -1.229      0.219      -3.535       0.811\n",
      "C(GENDER)[T.M]                -0.1183      0.217     -0.544      0.586      -0.544       0.307\n",
      "C(CHARGE_TYPE)[T.CAT 200]     -0.2620      0.396     -0.662      0.508      -1.037       0.513\n",
      "C(CHARGE_TYPE)[T.CAT 50]      -1.7135      0.702     -2.442      0.015      -3.089      -0.338\n",
      "C(CHARGE_TYPE)[T.Play 100]    -0.4896      0.492     -0.995      0.320      -1.454       0.474\n",
      "C(CHARGE_TYPE)[T.Play 300]    -0.1087      0.412     -0.264      0.792      -0.915       0.698\n",
      "C(USAGE_BAND)[T.Low]           5.1086      1.492      3.424      0.001       2.185       8.033\n",
      "C(USAGE_BAND)[T.Med]           0.1712      0.745      0.230      0.818      -1.289       1.632\n",
      "C(USAGE_BAND)[T.MedHigh]      -0.5244      0.583     -0.900      0.368      -1.667       0.618\n",
      "C(USAGE_BAND)[T.MedLow]        2.2927      0.943      2.430      0.015       0.444       4.142\n",
      "C(USAGE_BAND)[T.None]          2.5876      1.711      1.512      0.131      -0.767       5.942\n",
      "AGE                           -0.0221      0.009     -2.542      0.011      -0.039      -0.005\n",
      "SERVICE_DURATION              -0.0142      0.008     -1.899      0.058      -0.029       0.000\n",
      "DROPPED_CALLS                  0.1320      0.026      4.996      0.000       0.080       0.184\n",
      "PEAK_CALLS_NO                 -0.0003      0.001     -0.505      0.614      -0.002       0.001\n",
      "PEAK_CALLS_TIME                0.0010      0.001      1.619      0.106      -0.000       0.002\n",
      "WEEKEND_CALLS_NO              -0.0037      0.010     -0.381      0.703      -0.023       0.015\n",
      "WEEKEND_CALLS_TIME             0.0019      0.004      0.457      0.647      -0.006       0.010\n",
      "==============================================================================================\n"
     ]
    }
   ],
   "source": [
    "log_model2 = Logit.from_formula(\"\"\"CHURN  ~  C(GENDER) + AGE + C(CHARGE_TYPE) + C(USAGE_BAND) + \n",
    "                               SERVICE_DURATION + DROPPED_CALLS + PEAK_CALLS_NO + PEAK_CALLS_TIME + WEEKEND_CALLS_NO +\n",
    "                               WEEKEND_CALLS_TIME\"\"\",df_train)\n",
    "log_result2 = log_model2.fit()\n",
    "print(log_result2.summary())"
   ]
  },
  {
   "cell_type": "markdown",
   "id": "a7e638f0",
   "metadata": {},
   "source": [
    "##### WEEKEND_CALLS_NO  제거 "
   ]
  },
  {
   "cell_type": "code",
   "execution_count": 18,
   "id": "1e4fbdba",
   "metadata": {},
   "outputs": [
    {
     "name": "stdout",
     "output_type": "stream",
     "text": [
      "Optimization terminated successfully.\n",
      "         Current function value: 0.434489\n",
      "         Iterations 6\n",
      "                           Logit Regression Results                           \n",
      "==============================================================================\n",
      "Dep. Variable:                  CHURN   No. Observations:                  651\n",
      "Model:                          Logit   Df Residuals:                      634\n",
      "Method:                           MLE   Df Model:                           16\n",
      "Date:                Thu, 07 Mar 2024   Pseudo R-squ.:                  0.1157\n",
      "Time:                        20:59:42   Log-Likelihood:                -282.85\n",
      "converged:                       True   LL-Null:                       -319.85\n",
      "Covariance Type:            nonrobust   LLR p-value:                 1.965e-09\n",
      "==============================================================================================\n",
      "                                 coef    std err          z      P>|z|      [0.025      0.975]\n",
      "----------------------------------------------------------------------------------------------\n",
      "Intercept                     -1.3697      1.108     -1.236      0.216      -3.541       0.801\n",
      "C(GENDER)[T.M]                -0.1185      0.217     -0.546      0.585      -0.544       0.307\n",
      "C(CHARGE_TYPE)[T.CAT 200]     -0.2589      0.396     -0.654      0.513      -1.034       0.516\n",
      "C(CHARGE_TYPE)[T.CAT 50]      -1.6970      0.701     -2.423      0.015      -3.070      -0.324\n",
      "C(CHARGE_TYPE)[T.Play 100]    -0.4810      0.491     -0.979      0.328      -1.444       0.482\n",
      "C(CHARGE_TYPE)[T.Play 300]    -0.1120      0.411     -0.272      0.785      -0.918       0.694\n",
      "C(USAGE_BAND)[T.Low]           5.1011      1.492      3.419      0.001       2.177       8.026\n",
      "C(USAGE_BAND)[T.Med]           0.1714      0.745      0.230      0.818      -1.288       1.631\n",
      "C(USAGE_BAND)[T.MedHigh]      -0.5223      0.582     -0.897      0.370      -1.663       0.619\n",
      "C(USAGE_BAND)[T.MedLow]        2.2852      0.943      2.424      0.015       0.437       4.133\n",
      "C(USAGE_BAND)[T.None]          2.5868      1.711      1.512      0.131      -0.767       5.941\n",
      "AGE                           -0.0222      0.009     -2.557      0.011      -0.039      -0.005\n",
      "SERVICE_DURATION              -0.0142      0.007     -1.889      0.059      -0.029       0.001\n",
      "DROPPED_CALLS                  0.1320      0.026      4.999      0.000       0.080       0.184\n",
      "PEAK_CALLS_NO                 -0.0003      0.001     -0.513      0.608      -0.002       0.001\n",
      "PEAK_CALLS_TIME                0.0010      0.001      1.633      0.102      -0.000       0.002\n",
      "WEEKEND_CALLS_TIME             0.0008      0.003      0.262      0.793      -0.005       0.007\n",
      "==============================================================================================\n"
     ]
    }
   ],
   "source": [
    "log_model2 = Logit.from_formula(\"\"\"CHURN  ~  C(GENDER) + AGE + C(CHARGE_TYPE) + C(USAGE_BAND) + \n",
    "                               SERVICE_DURATION + DROPPED_CALLS + PEAK_CALLS_NO + PEAK_CALLS_TIME +\n",
    "                               WEEKEND_CALLS_TIME\"\"\",df_train)\n",
    "log_result2 = log_model2.fit()\n",
    "print(log_result2.summary())"
   ]
  },
  {
   "cell_type": "markdown",
   "id": "0711d828",
   "metadata": {},
   "source": [
    "##### WEEKEND_CALLS_TIME 제거"
   ]
  },
  {
   "cell_type": "code",
   "execution_count": 19,
   "id": "84d2feff",
   "metadata": {},
   "outputs": [
    {
     "name": "stdout",
     "output_type": "stream",
     "text": [
      "Optimization terminated successfully.\n",
      "         Current function value: 0.434541\n",
      "         Iterations 6\n",
      "                           Logit Regression Results                           \n",
      "==============================================================================\n",
      "Dep. Variable:                  CHURN   No. Observations:                  651\n",
      "Model:                          Logit   Df Residuals:                      635\n",
      "Method:                           MLE   Df Model:                           15\n",
      "Date:                Thu, 07 Mar 2024   Pseudo R-squ.:                  0.1156\n",
      "Time:                        20:59:42   Log-Likelihood:                -282.89\n",
      "converged:                       True   LL-Null:                       -319.85\n",
      "Covariance Type:            nonrobust   LLR p-value:                 8.811e-10\n",
      "==============================================================================================\n",
      "                                 coef    std err          z      P>|z|      [0.025      0.975]\n",
      "----------------------------------------------------------------------------------------------\n",
      "Intercept                     -1.2925      1.067     -1.211      0.226      -3.385       0.800\n",
      "C(GENDER)[T.M]                -0.1137      0.216     -0.525      0.599      -0.538       0.310\n",
      "C(CHARGE_TYPE)[T.CAT 200]     -0.2524      0.395     -0.639      0.523      -1.027       0.522\n",
      "C(CHARGE_TYPE)[T.CAT 50]      -1.7150      0.697     -2.459      0.014      -3.082      -0.348\n",
      "C(CHARGE_TYPE)[T.Play 100]    -0.4874      0.491     -0.993      0.321      -1.450       0.475\n",
      "C(CHARGE_TYPE)[T.Play 300]    -0.1166      0.411     -0.284      0.776      -0.922       0.688\n",
      "C(USAGE_BAND)[T.Low]           5.0535      1.481      3.413      0.001       2.151       7.956\n",
      "C(USAGE_BAND)[T.Med]           0.1441      0.737      0.196      0.845      -1.301       1.589\n",
      "C(USAGE_BAND)[T.MedHigh]      -0.5366      0.580     -0.926      0.354      -1.672       0.599\n",
      "C(USAGE_BAND)[T.MedLow]        2.2582      0.937      2.411      0.016       0.423       4.094\n",
      "C(USAGE_BAND)[T.None]          2.5165      1.690      1.489      0.136      -0.795       5.828\n",
      "AGE                           -0.0221      0.009     -2.552      0.011      -0.039      -0.005\n",
      "SERVICE_DURATION              -0.0143      0.007     -1.909      0.056      -0.029       0.000\n",
      "DROPPED_CALLS                  0.1318      0.026      4.993      0.000       0.080       0.184\n",
      "PEAK_CALLS_NO                 -0.0003      0.001     -0.512      0.609      -0.002       0.001\n",
      "PEAK_CALLS_TIME                0.0010      0.001      1.614      0.107      -0.000       0.002\n",
      "==============================================================================================\n"
     ]
    }
   ],
   "source": [
    "log_model2 = Logit.from_formula(\"\"\"CHURN  ~  C(GENDER) + AGE + C(CHARGE_TYPE) + C(USAGE_BAND) + \n",
    "                               SERVICE_DURATION + DROPPED_CALLS + PEAK_CALLS_NO + PEAK_CALLS_TIME\"\"\",df_train)\n",
    "log_result2 = log_model2.fit()\n",
    "print(log_result2.summary())"
   ]
  },
  {
   "cell_type": "markdown",
   "id": "66913e14",
   "metadata": {},
   "source": [
    "##### PEAK_CALLS_NO 제거"
   ]
  },
  {
   "cell_type": "code",
   "execution_count": 20,
   "id": "f0f75584",
   "metadata": {},
   "outputs": [
    {
     "name": "stdout",
     "output_type": "stream",
     "text": [
      "Optimization terminated successfully.\n",
      "         Current function value: 0.434743\n",
      "         Iterations 6\n",
      "                           Logit Regression Results                           \n",
      "==============================================================================\n",
      "Dep. Variable:                  CHURN   No. Observations:                  651\n",
      "Model:                          Logit   Df Residuals:                      636\n",
      "Method:                           MLE   Df Model:                           14\n",
      "Date:                Thu, 07 Mar 2024   Pseudo R-squ.:                  0.1152\n",
      "Time:                        20:59:42   Log-Likelihood:                -283.02\n",
      "converged:                       True   LL-Null:                       -319.85\n",
      "Covariance Type:            nonrobust   LLR p-value:                 4.142e-10\n",
      "==============================================================================================\n",
      "                                 coef    std err          z      P>|z|      [0.025      0.975]\n",
      "----------------------------------------------------------------------------------------------\n",
      "Intercept                     -1.2791      1.066     -1.200      0.230      -3.368       0.810\n",
      "C(GENDER)[T.M]                -0.1167      0.216     -0.540      0.589      -0.541       0.307\n",
      "C(CHARGE_TYPE)[T.CAT 200]     -0.2507      0.395     -0.635      0.526      -1.025       0.524\n",
      "C(CHARGE_TYPE)[T.CAT 50]      -1.7122      0.697     -2.456      0.014      -3.078      -0.346\n",
      "C(CHARGE_TYPE)[T.Play 100]    -0.4800      0.491     -0.978      0.328      -1.442       0.482\n",
      "C(CHARGE_TYPE)[T.Play 300]    -0.1193      0.411     -0.291      0.771      -0.924       0.685\n",
      "C(USAGE_BAND)[T.Low]           5.0325      1.480      3.400      0.001       2.132       7.934\n",
      "C(USAGE_BAND)[T.Med]           0.1252      0.735      0.170      0.865      -1.316       1.567\n",
      "C(USAGE_BAND)[T.MedHigh]      -0.5706      0.575     -0.992      0.321      -1.698       0.557\n",
      "C(USAGE_BAND)[T.MedLow]        2.2398      0.935      2.395      0.017       0.407       4.073\n",
      "C(USAGE_BAND)[T.None]          2.4964      1.689      1.478      0.139      -0.814       5.807\n",
      "AGE                           -0.0223      0.009     -2.578      0.010      -0.039      -0.005\n",
      "SERVICE_DURATION              -0.0140      0.007     -1.882      0.060      -0.029       0.001\n",
      "DROPPED_CALLS                  0.1308      0.026      4.972      0.000       0.079       0.182\n",
      "PEAK_CALLS_TIME                0.0009      0.001      1.530      0.126      -0.000       0.002\n",
      "==============================================================================================\n"
     ]
    }
   ],
   "source": [
    "log_model2 = Logit.from_formula(\"\"\"CHURN  ~  C(GENDER) + AGE + C(CHARGE_TYPE) + C(USAGE_BAND) + \n",
    "                               SERVICE_DURATION + DROPPED_CALLS + PEAK_CALLS_TIME\"\"\",df_train)\n",
    "log_result2 = log_model2.fit()\n",
    "print(log_result2.summary())"
   ]
  },
  {
   "cell_type": "markdown",
   "id": "167bc2e2",
   "metadata": {},
   "source": [
    "##### 범주형 변수 GENDER 제거"
   ]
  },
  {
   "cell_type": "code",
   "execution_count": 21,
   "id": "b1fb18e3",
   "metadata": {
    "scrolled": false
   },
   "outputs": [
    {
     "name": "stdout",
     "output_type": "stream",
     "text": [
      "Optimization terminated successfully.\n",
      "         Current function value: 0.434968\n",
      "         Iterations 6\n",
      "                           Logit Regression Results                           \n",
      "==============================================================================\n",
      "Dep. Variable:                  CHURN   No. Observations:                  651\n",
      "Model:                          Logit   Df Residuals:                      637\n",
      "Method:                           MLE   Df Model:                           13\n",
      "Date:                Thu, 07 Mar 2024   Pseudo R-squ.:                  0.1147\n",
      "Time:                        20:59:42   Log-Likelihood:                -283.16\n",
      "converged:                       True   LL-Null:                       -319.85\n",
      "Covariance Type:            nonrobust   LLR p-value:                 1.904e-10\n",
      "==============================================================================================\n",
      "                                 coef    std err          z      P>|z|      [0.025      0.975]\n",
      "----------------------------------------------------------------------------------------------\n",
      "Intercept                     -1.2724      1.066     -1.193      0.233      -3.362       0.817\n",
      "C(CHARGE_TYPE)[T.CAT 200]     -0.2582      0.395     -0.654      0.513      -1.032       0.516\n",
      "C(CHARGE_TYPE)[T.CAT 50]      -1.7578      0.692     -2.540      0.011      -3.114      -0.402\n",
      "C(CHARGE_TYPE)[T.Play 100]    -0.5027      0.489     -1.028      0.304      -1.461       0.455\n",
      "C(CHARGE_TYPE)[T.Play 300]    -0.1285      0.410     -0.314      0.754      -0.931       0.674\n",
      "C(USAGE_BAND)[T.Low]           4.9761      1.475      3.373      0.001       2.084       7.868\n",
      "C(USAGE_BAND)[T.Med]           0.0849      0.733      0.116      0.908      -1.351       1.521\n",
      "C(USAGE_BAND)[T.MedHigh]      -0.5937      0.575     -1.033      0.301      -1.720       0.532\n",
      "C(USAGE_BAND)[T.MedLow]        2.2146      0.935      2.369      0.018       0.383       4.047\n",
      "C(USAGE_BAND)[T.None]          2.4530      1.690      1.452      0.147      -0.859       5.765\n",
      "AGE                           -0.0223      0.009     -2.583      0.010      -0.039      -0.005\n",
      "SERVICE_DURATION              -0.0140      0.007     -1.876      0.061      -0.029       0.001\n",
      "DROPPED_CALLS                  0.1306      0.026      4.967      0.000       0.079       0.182\n",
      "PEAK_CALLS_TIME                0.0009      0.001      1.488      0.137      -0.000       0.002\n",
      "==============================================================================================\n"
     ]
    }
   ],
   "source": [
    "log_model2 = Logit.from_formula(\"\"\"CHURN  ~  AGE + C(CHARGE_TYPE) + C(USAGE_BAND) + SERVICE_DURATION + DROPPED_CALLS + PEAK_CALLS_TIME\"\"\",\n",
    "                                df_train)\n",
    "log_result2 = log_model2.fit()\n",
    "print(log_result2.summary())"
   ]
  },
  {
   "cell_type": "markdown",
   "id": "100e93dd",
   "metadata": {},
   "source": [
    "##### PEAK_CALLS_TIME "
   ]
  },
  {
   "cell_type": "code",
   "execution_count": 22,
   "id": "7debbf89",
   "metadata": {},
   "outputs": [
    {
     "name": "stdout",
     "output_type": "stream",
     "text": [
      "Optimization terminated successfully.\n",
      "         Current function value: 0.436668\n",
      "         Iterations 6\n",
      "                           Logit Regression Results                           \n",
      "==============================================================================\n",
      "Dep. Variable:                  CHURN   No. Observations:                  651\n",
      "Model:                          Logit   Df Residuals:                      638\n",
      "Method:                           MLE   Df Model:                           12\n",
      "Date:                Thu, 07 Mar 2024   Pseudo R-squ.:                  0.1112\n",
      "Time:                        20:59:42   Log-Likelihood:                -284.27\n",
      "converged:                       True   LL-Null:                       -319.85\n",
      "Covariance Type:            nonrobust   LLR p-value:                 1.937e-10\n",
      "==============================================================================================\n",
      "                                 coef    std err          z      P>|z|      [0.025      0.975]\n",
      "----------------------------------------------------------------------------------------------\n",
      "Intercept                      0.0218      0.607      0.036      0.971      -1.167       1.211\n",
      "C(CHARGE_TYPE)[T.CAT 200]     -0.0083      0.356     -0.023      0.981      -0.706       0.689\n",
      "C(CHARGE_TYPE)[T.CAT 50]      -1.9026      0.682     -2.788      0.005      -3.240      -0.565\n",
      "C(CHARGE_TYPE)[T.Play 100]    -0.7885      0.447     -1.765      0.078      -1.664       0.087\n",
      "C(CHARGE_TYPE)[T.Play 300]    -0.3282      0.387     -0.849      0.396      -1.086       0.430\n",
      "C(USAGE_BAND)[T.Low]           3.8891      1.272      3.058      0.002       1.396       6.382\n",
      "C(USAGE_BAND)[T.Med]          -0.7851      0.435     -1.805      0.071      -1.637       0.067\n",
      "C(USAGE_BAND)[T.MedHigh]      -1.1826      0.417     -2.833      0.005      -2.001      -0.365\n",
      "C(USAGE_BAND)[T.MedLow]        1.2376      0.656      1.886      0.059      -0.048       2.524\n",
      "C(USAGE_BAND)[T.None]          1.4049      1.532      0.917      0.359      -1.597       4.407\n",
      "AGE                           -0.0214      0.009     -2.479      0.013      -0.038      -0.004\n",
      "SERVICE_DURATION              -0.0133      0.007     -1.781      0.075      -0.028       0.001\n",
      "DROPPED_CALLS                  0.1284      0.026      4.893      0.000       0.077       0.180\n",
      "==============================================================================================\n"
     ]
    }
   ],
   "source": [
    "log_model2 = Logit.from_formula(\"\"\"CHURN  ~  AGE + C(CHARGE_TYPE) + C(USAGE_BAND) + SERVICE_DURATION + DROPPED_CALLS\"\"\",df_train)\n",
    "log_result2 = log_model2.fit()\n",
    "print(log_result2.summary())"
   ]
  },
  {
   "cell_type": "markdown",
   "id": "6ef44af8",
   "metadata": {},
   "source": [
    "## 4. 예측 및 성능 평가"
   ]
  },
  {
   "cell_type": "markdown",
   "id": "2069f7c2",
   "metadata": {},
   "source": [
    "### 4.1 예측결과 & 평가\n",
    "- 모델1과 모델2의 예측 결과를 비교해 보면, Test set의 기준으로 0(Achieve)에 대해서는 두 모델 모두 잘 예측하는 반면 모델 1에서 1(Churned)에 대한 precision, recall, f1_score의 값이 모두 높게 나타났음을 알 수 있다."
   ]
  },
  {
   "cell_type": "markdown",
   "id": "8f25db2f",
   "metadata": {},
   "source": [
    "##### 모델 1의 예측 결과 및 평가"
   ]
  },
  {
   "cell_type": "code",
   "execution_count": 23,
   "id": "1aae73aa",
   "metadata": {
    "scrolled": false
   },
   "outputs": [
    {
     "name": "stdout",
     "output_type": "stream",
     "text": [
      "**********************************************************************\n",
      "model 1의 예측 결과 및 평가\n",
      "**********************************************************************\n",
      "model1 Confusion Matrix\n",
      "\n",
      "model1 Train Confusion Matrix: \n",
      "[[505  20]\n",
      " [ 42  84]] \n",
      "\n",
      "model1 Test Confusion Matrix: \n",
      "[[213  12]\n",
      " [ 17  37]] \n",
      "\n",
      "----------------------------------------------------------------------\n",
      "model1 Train 예측/분류 결과\n",
      "Accuracy: 0.905\n",
      "\n",
      "Confusion Matrix: \n",
      "[[505  20]\n",
      " [ 42  84]] \n",
      "\n",
      "              precision    recall  f1-score   support\n",
      "\n",
      "           0      0.923     0.962     0.942       525\n",
      "           1      0.808     0.667     0.730       126\n",
      "\n",
      "    accuracy                          0.905       651\n",
      "   macro avg      0.865     0.814     0.836       651\n",
      "weighted avg      0.901     0.905     0.901       651\n",
      "\n",
      "----------------------------------------------------------------------\n",
      "model1 Test 예측/분류 결과\n",
      "Accuracy: 0.896\n",
      "\n",
      "Confusion Matrix: \n",
      "[[213  12]\n",
      " [ 17  37]] \n",
      "\n",
      "              precision    recall  f1-score   support\n",
      "\n",
      "           0      0.926     0.947     0.936       225\n",
      "           1      0.755     0.685     0.718        54\n",
      "\n",
      "    accuracy                          0.896       279\n",
      "   macro avg      0.841     0.816     0.827       279\n",
      "weighted avg      0.893     0.896     0.894       279\n",
      "\n"
     ]
    }
   ],
   "source": [
    "print(\"*\"*70)\n",
    "print(\"model 1의 예측 결과 및 평가\")\n",
    "print(\"*\"*70)\n",
    "\n",
    "print(\"model1 Confusion Matrix\")\n",
    "print()\n",
    "y_pred_train = log_result1.predict(df_train)\n",
    "y_pred_train_class = (y_pred_train > 0.5).astype(int)\n",
    "print(\"model1 Train Confusion Matrix: \\n{}\".format(confusion_matrix(df_train['CHURN'],y_pred_train_class)), '\\n')\n",
    "\n",
    "y_pred_test = log_result1.predict(df_test)\n",
    "y_pred_test_class = (y_pred_test > 0.5).astype(int)\n",
    "print(\"model1 Test Confusion Matrix: \\n{}\".format(confusion_matrix(df_test['CHURN'],y_pred_test_class)), '\\n')\n",
    "print('-'*70)\n",
    "\n",
    "print(\"model1 Train 예측/분류 결과\")\n",
    "print(\"Accuracy: {0:.3f}\\n\".format(accuracy_score(df_train[\"CHURN\"], y_pred_train_class)))\n",
    "print(\"Confusion Matrix: \\n{}\".format(confusion_matrix(df_train[\"CHURN\"],y_pred_train_class)),\"\\n\")\n",
    "print(classification_report(df_train[\"CHURN\"], y_pred_train_class, digits=3))\n",
    "\n",
    "print('-'*70)\n",
    "\n",
    "print(\"model1 Test 예측/분류 결과\")\n",
    "print(\"Accuracy: {0:.3f}\\n\".format(accuracy_score(df_test[\"CHURN\"], y_pred_test_class)))\n",
    "print(\"Confusion Matrix: \\n{}\".format(confusion_matrix(df_test[\"CHURN\"],y_pred_test_class)),\"\\n\")\n",
    "print(classification_report(df_test[\"CHURN\"], y_pred_test_class, digits=3))"
   ]
  },
  {
   "cell_type": "markdown",
   "id": "4430e19d",
   "metadata": {},
   "source": [
    "##### 모델 2의 예측 결과 및 평가"
   ]
  },
  {
   "cell_type": "code",
   "execution_count": 24,
   "id": "8e6d617d",
   "metadata": {},
   "outputs": [
    {
     "name": "stdout",
     "output_type": "stream",
     "text": [
      "**********************************************************************\n",
      "model 2의 예측 결과 및 평가\n",
      "**********************************************************************\n",
      "model2 Confusion Matrix\n",
      "\n",
      "model2 Train Confusion Matrix: \n",
      "[[519   6]\n",
      " [106  20]] \n",
      "\n",
      "model2 Test Confusion Matrix: \n",
      "[[218   7]\n",
      " [ 41  13]] \n",
      "\n",
      "----------------------------------------------------------------------\n",
      "model2 Train 예측/분류 결과\n",
      "Accuracy: 0.828\n",
      "\n",
      "Confusion Matrix: \n",
      "[[519   6]\n",
      " [106  20]] \n",
      "\n",
      "              precision    recall  f1-score   support\n",
      "\n",
      "           0      0.830     0.989     0.903       525\n",
      "           1      0.769     0.159     0.263       126\n",
      "\n",
      "    accuracy                          0.828       651\n",
      "   macro avg      0.800     0.574     0.583       651\n",
      "weighted avg      0.819     0.828     0.779       651\n",
      "\n",
      "----------------------------------------------------------------------\n",
      "model2 Test 예측/분류 결과\n",
      "Accuracy: 0.828\n",
      "\n",
      "Confusion Matrix: \n",
      "[[218   7]\n",
      " [ 41  13]] \n",
      "\n",
      "              precision    recall  f1-score   support\n",
      "\n",
      "           0      0.842     0.969     0.901       225\n",
      "           1      0.650     0.241     0.351        54\n",
      "\n",
      "    accuracy                          0.828       279\n",
      "   macro avg      0.746     0.605     0.626       279\n",
      "weighted avg      0.805     0.828     0.794       279\n",
      "\n"
     ]
    }
   ],
   "source": [
    "print(\"*\"*70)\n",
    "print(\"model 2의 예측 결과 및 평가\")\n",
    "print(\"*\"*70)\n",
    "\n",
    "print(\"model2 Confusion Matrix\")\n",
    "print()\n",
    "y_pred_train = log_result2.predict(df_train)\n",
    "y_pred_train_class = (y_pred_train > 0.5).astype(int)\n",
    "print(\"model2 Train Confusion Matrix: \\n{}\".format(confusion_matrix(df_train['CHURN'],y_pred_train_class)), '\\n')\n",
    "\n",
    "y_pred_test = log_result2.predict(df_test)\n",
    "y_pred_test_class = (y_pred_test > 0.5).astype(int)\n",
    "print(\"model2 Test Confusion Matrix: \\n{}\".format(confusion_matrix(df_test['CHURN'],y_pred_test_class)), '\\n')\n",
    "print('-'*70)\n",
    "\n",
    "print(\"model2 Train 예측/분류 결과\")\n",
    "print(\"Accuracy: {0:.3f}\\n\".format(accuracy_score(df_train[\"CHURN\"], y_pred_train_class)))\n",
    "print(\"Confusion Matrix: \\n{}\".format(confusion_matrix(df_train[\"CHURN\"],y_pred_train_class)),\"\\n\")\n",
    "print(classification_report(df_train[\"CHURN\"], y_pred_train_class, digits=3))\n",
    "\n",
    "print('-'*70)\n",
    "\n",
    "print(\"model2 Test 예측/분류 결과\")\n",
    "print(\"Accuracy: {0:.3f}\\n\".format(accuracy_score(df_test[\"CHURN\"], y_pred_test_class)))\n",
    "print(\"Confusion Matrix: \\n{}\".format(confusion_matrix(df_test[\"CHURN\"],y_pred_test_class)),\"\\n\")\n",
    "print(classification_report(df_test[\"CHURN\"], y_pred_test_class, digits=3))"
   ]
  },
  {
   "cell_type": "markdown",
   "id": "75adaca4",
   "metadata": {},
   "source": [
    "## 5. 결론 도출"
   ]
  },
  {
   "cell_type": "markdown",
   "id": "0f212bc2",
   "metadata": {},
   "source": [
    "##### 성능이 더 좋은 모델1의 변수의 중요도 확인"
   ]
  },
  {
   "cell_type": "code",
   "execution_count": 25,
   "id": "2da3621d",
   "metadata": {
    "scrolled": false
   },
   "outputs": [
    {
     "data": {
      "text/plain": [
       "<Axes: >"
      ]
     },
     "execution_count": 25,
     "metadata": {},
     "output_type": "execute_result"
    },
    {
     "data": {
      "image/png": "[encoded data removed]",
      "text/plain": [
       "<Figure size 640x480 with 1 Axes>"
      ]
     },
     "metadata": {},
     "output_type": "display_data"
    }
   ],
   "source": [
    "df_logistic_coef = pd.DataFrame({\"Coef\": log_result1.params.values[1:]}, index = log_model1.exog_names[1:])\n",
    "df_logistic_coef.plot.barh(y = \"Coef\")"
   ]
  },
  {
   "cell_type": "markdown",
   "id": "d265aa02",
   "metadata": {},
   "source": [
    "# 의사결정나무"
   ]
  },
  {
   "cell_type": "markdown",
   "id": "28bfc9a7",
   "metadata": {},
   "source": [
    "## 1. 데이터 구성하기"
   ]
  },
  {
   "cell_type": "code",
   "execution_count": 26,
   "id": "8759814f",
   "metadata": {
    "scrolled": true
   },
   "outputs": [
    {
     "data": {
      "text/html": [
       "<div>\n",
       "<style scoped>\n",
       "    .dataframe tbody tr th:only-of-type {\n",
       "        vertical-align: middle;\n",
       "    }\n",
       "\n",
       "    .dataframe tbody tr th {\n",
       "        vertical-align: top;\n",
       "    }\n",
       "\n",
       "    .dataframe thead th {\n",
       "        text-align: right;\n",
       "    }\n",
       "</style>\n",
       "<table border=\"1\" class=\"dataframe\">\n",
       "  <thead>\n",
       "    <tr style=\"text-align: right;\">\n",
       "      <th></th>\n",
       "      <th>CHURN</th>\n",
       "      <th>GENDER</th>\n",
       "      <th>AGE</th>\n",
       "      <th>CHARGE_TYPE</th>\n",
       "      <th>HANDSET</th>\n",
       "      <th>USAGE_BAND</th>\n",
       "      <th>SERVICE_DURATION</th>\n",
       "      <th>DROPPED_CALLS</th>\n",
       "      <th>PEAK_CALLS_NO</th>\n",
       "      <th>PEAK_CALLS_TIME</th>\n",
       "      <th>WEEKEND_CALLS_NO</th>\n",
       "      <th>WEEKEND_CALLS_TIME</th>\n",
       "    </tr>\n",
       "  </thead>\n",
       "  <tbody>\n",
       "    <tr>\n",
       "      <th>0</th>\n",
       "      <td>0</td>\n",
       "      <td>F</td>\n",
       "      <td>31</td>\n",
       "      <td>CAT 100</td>\n",
       "      <td>ASAD170</td>\n",
       "      <td>Med</td>\n",
       "      <td>33.33</td>\n",
       "      <td>6</td>\n",
       "      <td>218</td>\n",
       "      <td>379.8</td>\n",
       "      <td>9</td>\n",
       "      <td>21.6</td>\n",
       "    </tr>\n",
       "    <tr>\n",
       "      <th>1</th>\n",
       "      <td>0</td>\n",
       "      <td>M</td>\n",
       "      <td>27</td>\n",
       "      <td>CAT 100</td>\n",
       "      <td>S50</td>\n",
       "      <td>Med</td>\n",
       "      <td>30.87</td>\n",
       "      <td>10</td>\n",
       "      <td>373</td>\n",
       "      <td>656.4</td>\n",
       "      <td>11</td>\n",
       "      <td>28.0</td>\n",
       "    </tr>\n",
       "    <tr>\n",
       "      <th>2</th>\n",
       "      <td>0</td>\n",
       "      <td>M</td>\n",
       "      <td>27</td>\n",
       "      <td>CAT 100</td>\n",
       "      <td>ASAD170</td>\n",
       "      <td>Med</td>\n",
       "      <td>49.40</td>\n",
       "      <td>11</td>\n",
       "      <td>260</td>\n",
       "      <td>582.0</td>\n",
       "      <td>0</td>\n",
       "      <td>0.0</td>\n",
       "    </tr>\n",
       "    <tr>\n",
       "      <th>3</th>\n",
       "      <td>0</td>\n",
       "      <td>M</td>\n",
       "      <td>61</td>\n",
       "      <td>CAT 100</td>\n",
       "      <td>ASAD170</td>\n",
       "      <td>Med</td>\n",
       "      <td>48.60</td>\n",
       "      <td>1</td>\n",
       "      <td>294</td>\n",
       "      <td>661.8</td>\n",
       "      <td>14</td>\n",
       "      <td>101.5</td>\n",
       "    </tr>\n",
       "    <tr>\n",
       "      <th>4</th>\n",
       "      <td>0</td>\n",
       "      <td>F</td>\n",
       "      <td>52</td>\n",
       "      <td>CAT 100</td>\n",
       "      <td>S50</td>\n",
       "      <td>Med</td>\n",
       "      <td>56.03</td>\n",
       "      <td>0</td>\n",
       "      <td>221</td>\n",
       "      <td>555.6</td>\n",
       "      <td>7</td>\n",
       "      <td>25.0</td>\n",
       "    </tr>\n",
       "  </tbody>\n",
       "</table>\n",
       "</div>"
      ],
      "text/plain": [
       "   CHURN GENDER  AGE CHARGE_TYPE  HANDSET USAGE_BAND  SERVICE_DURATION  \\\n",
       "0      0      F   31     CAT 100  ASAD170        Med             33.33   \n",
       "1      0      M   27     CAT 100      S50        Med             30.87   \n",
       "2      0      M   27     CAT 100  ASAD170        Med             49.40   \n",
       "3      0      M   61     CAT 100  ASAD170        Med             48.60   \n",
       "4      0      F   52     CAT 100      S50        Med             56.03   \n",
       "\n",
       "   DROPPED_CALLS  PEAK_CALLS_NO  PEAK_CALLS_TIME  WEEKEND_CALLS_NO  \\\n",
       "0              6            218            379.8                 9   \n",
       "1             10            373            656.4                11   \n",
       "2             11            260            582.0                 0   \n",
       "3              1            294            661.8                14   \n",
       "4              0            221            555.6                 7   \n",
       "\n",
       "   WEEKEND_CALLS_TIME  \n",
       "0                21.6  \n",
       "1                28.0  \n",
       "2                 0.0  \n",
       "3               101.5  \n",
       "4                25.0  "
      ]
     },
     "execution_count": 26,
     "metadata": {},
     "output_type": "execute_result"
    }
   ],
   "source": [
    "df.head()"
   ]
  },
  {
   "cell_type": "markdown",
   "id": "42624994",
   "metadata": {},
   "source": [
    "### 1.1 범주형 설명변수 더미변환"
   ]
  },
  {
   "cell_type": "markdown",
   "id": "69875600",
   "metadata": {},
   "source": [
    "- 범주형 설명변수인 GENDER, CHARGE_TYPE, HANDSET, USAGE_BAND에 대한 One-Hot encoding을 통해 더미변수로 변환해 주었다."
   ]
  },
  {
   "cell_type": "code",
   "execution_count": 27,
   "id": "2b496210",
   "metadata": {},
   "outputs": [
    {
     "data": {
      "text/html": [
       "<div>\n",
       "<style scoped>\n",
       "    .dataframe tbody tr th:only-of-type {\n",
       "        vertical-align: middle;\n",
       "    }\n",
       "\n",
       "    .dataframe tbody tr th {\n",
       "        vertical-align: top;\n",
       "    }\n",
       "\n",
       "    .dataframe thead th {\n",
       "        text-align: right;\n",
       "    }\n",
       "</style>\n",
       "<table border=\"1\" class=\"dataframe\">\n",
       "  <thead>\n",
       "    <tr style=\"text-align: right;\">\n",
       "      <th></th>\n",
       "      <th>CHURN</th>\n",
       "      <th>AGE</th>\n",
       "      <th>SERVICE_DURATION</th>\n",
       "      <th>DROPPED_CALLS</th>\n",
       "      <th>PEAK_CALLS_NO</th>\n",
       "      <th>PEAK_CALLS_TIME</th>\n",
       "      <th>WEEKEND_CALLS_NO</th>\n",
       "      <th>WEEKEND_CALLS_TIME</th>\n",
       "      <th>GENDER_F</th>\n",
       "      <th>GENDER_M</th>\n",
       "      <th>...</th>\n",
       "      <th>HANDSET_S80</th>\n",
       "      <th>HANDSET_SOP10</th>\n",
       "      <th>HANDSET_SOP20</th>\n",
       "      <th>HANDSET_WC95</th>\n",
       "      <th>USAGE_BAND_High</th>\n",
       "      <th>USAGE_BAND_Low</th>\n",
       "      <th>USAGE_BAND_Med</th>\n",
       "      <th>USAGE_BAND_MedHigh</th>\n",
       "      <th>USAGE_BAND_MedLow</th>\n",
       "      <th>USAGE_BAND_None</th>\n",
       "    </tr>\n",
       "  </thead>\n",
       "  <tbody>\n",
       "    <tr>\n",
       "      <th>0</th>\n",
       "      <td>0</td>\n",
       "      <td>31</td>\n",
       "      <td>33.33</td>\n",
       "      <td>6</td>\n",
       "      <td>218</td>\n",
       "      <td>379.8</td>\n",
       "      <td>9</td>\n",
       "      <td>21.6</td>\n",
       "      <td>1</td>\n",
       "      <td>0</td>\n",
       "      <td>...</td>\n",
       "      <td>0</td>\n",
       "      <td>0</td>\n",
       "      <td>0</td>\n",
       "      <td>0</td>\n",
       "      <td>0</td>\n",
       "      <td>0</td>\n",
       "      <td>1</td>\n",
       "      <td>0</td>\n",
       "      <td>0</td>\n",
       "      <td>0</td>\n",
       "    </tr>\n",
       "    <tr>\n",
       "      <th>1</th>\n",
       "      <td>0</td>\n",
       "      <td>27</td>\n",
       "      <td>30.87</td>\n",
       "      <td>10</td>\n",
       "      <td>373</td>\n",
       "      <td>656.4</td>\n",
       "      <td>11</td>\n",
       "      <td>28.0</td>\n",
       "      <td>0</td>\n",
       "      <td>1</td>\n",
       "      <td>...</td>\n",
       "      <td>0</td>\n",
       "      <td>0</td>\n",
       "      <td>0</td>\n",
       "      <td>0</td>\n",
       "      <td>0</td>\n",
       "      <td>0</td>\n",
       "      <td>1</td>\n",
       "      <td>0</td>\n",
       "      <td>0</td>\n",
       "      <td>0</td>\n",
       "    </tr>\n",
       "    <tr>\n",
       "      <th>2</th>\n",
       "      <td>0</td>\n",
       "      <td>27</td>\n",
       "      <td>49.40</td>\n",
       "      <td>11</td>\n",
       "      <td>260</td>\n",
       "      <td>582.0</td>\n",
       "      <td>0</td>\n",
       "      <td>0.0</td>\n",
       "      <td>0</td>\n",
       "      <td>1</td>\n",
       "      <td>...</td>\n",
       "      <td>0</td>\n",
       "      <td>0</td>\n",
       "      <td>0</td>\n",
       "      <td>0</td>\n",
       "      <td>0</td>\n",
       "      <td>0</td>\n",
       "      <td>1</td>\n",
       "      <td>0</td>\n",
       "      <td>0</td>\n",
       "      <td>0</td>\n",
       "    </tr>\n",
       "    <tr>\n",
       "      <th>3</th>\n",
       "      <td>0</td>\n",
       "      <td>61</td>\n",
       "      <td>48.60</td>\n",
       "      <td>1</td>\n",
       "      <td>294</td>\n",
       "      <td>661.8</td>\n",
       "      <td>14</td>\n",
       "      <td>101.5</td>\n",
       "      <td>0</td>\n",
       "      <td>1</td>\n",
       "      <td>...</td>\n",
       "      <td>0</td>\n",
       "      <td>0</td>\n",
       "      <td>0</td>\n",
       "      <td>0</td>\n",
       "      <td>0</td>\n",
       "      <td>0</td>\n",
       "      <td>1</td>\n",
       "      <td>0</td>\n",
       "      <td>0</td>\n",
       "      <td>0</td>\n",
       "    </tr>\n",
       "    <tr>\n",
       "      <th>4</th>\n",
       "      <td>0</td>\n",
       "      <td>52</td>\n",
       "      <td>56.03</td>\n",
       "      <td>0</td>\n",
       "      <td>221</td>\n",
       "      <td>555.6</td>\n",
       "      <td>7</td>\n",
       "      <td>25.0</td>\n",
       "      <td>1</td>\n",
       "      <td>0</td>\n",
       "      <td>...</td>\n",
       "      <td>0</td>\n",
       "      <td>0</td>\n",
       "      <td>0</td>\n",
       "      <td>0</td>\n",
       "      <td>0</td>\n",
       "      <td>0</td>\n",
       "      <td>1</td>\n",
       "      <td>0</td>\n",
       "      <td>0</td>\n",
       "      <td>0</td>\n",
       "    </tr>\n",
       "  </tbody>\n",
       "</table>\n",
       "<p>5 rows × 32 columns</p>\n",
       "</div>"
      ],
      "text/plain": [
       "   CHURN  AGE  SERVICE_DURATION  DROPPED_CALLS  PEAK_CALLS_NO  \\\n",
       "0      0   31             33.33              6            218   \n",
       "1      0   27             30.87             10            373   \n",
       "2      0   27             49.40             11            260   \n",
       "3      0   61             48.60              1            294   \n",
       "4      0   52             56.03              0            221   \n",
       "\n",
       "   PEAK_CALLS_TIME  WEEKEND_CALLS_NO  WEEKEND_CALLS_TIME  GENDER_F  GENDER_M  \\\n",
       "0            379.8                 9                21.6         1         0   \n",
       "1            656.4                11                28.0         0         1   \n",
       "2            582.0                 0                 0.0         0         1   \n",
       "3            661.8                14               101.5         0         1   \n",
       "4            555.6                 7                25.0         1         0   \n",
       "\n",
       "   ...  HANDSET_S80  HANDSET_SOP10  HANDSET_SOP20  HANDSET_WC95  \\\n",
       "0  ...            0              0              0             0   \n",
       "1  ...            0              0              0             0   \n",
       "2  ...            0              0              0             0   \n",
       "3  ...            0              0              0             0   \n",
       "4  ...            0              0              0             0   \n",
       "\n",
       "   USAGE_BAND_High  USAGE_BAND_Low  USAGE_BAND_Med  USAGE_BAND_MedHigh  \\\n",
       "0                0               0               1                   0   \n",
       "1                0               0               1                   0   \n",
       "2                0               0               1                   0   \n",
       "3                0               0               1                   0   \n",
       "4                0               0               1                   0   \n",
       "\n",
       "   USAGE_BAND_MedLow  USAGE_BAND_None  \n",
       "0                  0                0  \n",
       "1                  0                0  \n",
       "2                  0                0  \n",
       "3                  0                0  \n",
       "4                  0                0  \n",
       "\n",
       "[5 rows x 32 columns]"
      ]
     },
     "execution_count": 27,
     "metadata": {},
     "output_type": "execute_result"
    }
   ],
   "source": [
    "df_dummy = pd.get_dummies(df)\n",
    "df_dummy.head()"
   ]
  },
  {
   "cell_type": "markdown",
   "id": "21a57703",
   "metadata": {},
   "source": [
    "### 1.2 데이터 분리 및 분할"
   ]
  },
  {
   "cell_type": "markdown",
   "id": "1bfc4307",
   "metadata": {},
   "source": [
    "- 데이터는 7:3 비율로 Training set, Test set으로 분리하였으며, 두 개의 unique 값을 갖는 목표변수 CHURN이 Training set, Test set에 같은 비율로 포함되게 하였다."
   ]
  },
  {
   "cell_type": "code",
   "execution_count": 28,
   "id": "62c34b15",
   "metadata": {},
   "outputs": [
    {
     "name": "stdout",
     "output_type": "stream",
     "text": [
      "분할 전 설명변수 데이터 : (930, 31)\n",
      "분할 후 설명변수 데이터 :Train (651, 31)   Test (279, 31)\n"
     ]
    }
   ],
   "source": [
    "df_x = df_dummy.drop(columns = 'CHURN')\n",
    "df_y = df_dummy['CHURN']\n",
    "df_train_x, df_test_x, df_train_y, df_test_y = train_test_split(df_x, df_y, test_size = 0.3, random_state = 240307, stratify = df_y) \n",
    "print(\"분할 전 설명변수 데이터 :\", df_x.shape)\n",
    "print(\"분할 후 설명변수 데이터 :Train\", df_train_x.shape, \"  Test\",df_test_x.shape)"
   ]
  },
  {
   "cell_type": "markdown",
   "id": "617babf5",
   "metadata": {},
   "source": [
    "## 2. 모델 생성"
   ]
  },
  {
   "cell_type": "code",
   "execution_count": 29,
   "id": "1c74762c",
   "metadata": {},
   "outputs": [
    {
     "name": "stdout",
     "output_type": "stream",
     "text": [
      "Accuracy on training set: 1.000\n",
      "Accuracy on test set: 0.828\n"
     ]
    }
   ],
   "source": [
    "tree_uncust = DecisionTreeClassifier(random_state=240307)\n",
    "tree_uncust.fit(df_train_x, df_train_y)\n",
    "print(\"Accuracy on training set: {:.3f}\".format(tree_uncust.score(df_train_x, df_train_y)))\n",
    "print(\"Accuracy on test set: {:.3f}\".format(tree_uncust.score(df_test_x, df_test_y)))"
   ]
  },
  {
   "cell_type": "code",
   "execution_count": 30,
   "id": "cbf5306b",
   "metadata": {},
   "outputs": [
    {
     "name": "stdout",
     "output_type": "stream",
     "text": [
      "{'ccp_alpha': 0.0, 'class_weight': None, 'criterion': 'gini', 'max_depth': None, 'max_features': None, 'max_leaf_nodes': None, 'min_impurity_decrease': 0.0, 'min_samples_leaf': 1, 'min_samples_split': 2, 'min_weight_fraction_leaf': 0.0, 'random_state': 240307, 'splitter': 'best'}\n"
     ]
    }
   ],
   "source": [
    "print(tree_uncust.get_params())"
   ]
  },
  {
   "cell_type": "markdown",
   "id": "d694caac",
   "metadata": {},
   "source": [
    "- default 모델(파라미터를 조정하지 않은 모델)은 Training 데이터 셋에 대하여, 모두 100%에 가까운 예측 성공률을 나타냈으며, Test 데이터 셋에 대하여, 0에 대해서는 높은 예측률을 보였으나, 비교적 낮은 precision, recall, f1-score값을 통해 예측력이 미흡함을 알 수 있었다."
   ]
  },
  {
   "cell_type": "code",
   "execution_count": 31,
   "id": "a45169c3",
   "metadata": {},
   "outputs": [
    {
     "name": "stdout",
     "output_type": "stream",
     "text": [
      "model2 Train 예측/분류 결과\n",
      "Accuracy: 1.000\n",
      "\n",
      "Confusion Matrix: \n",
      "[[525   0]\n",
      " [  0 126]] \n",
      "\n",
      "              precision    recall  f1-score   support\n",
      "\n",
      "           0      1.000     1.000     1.000       525\n",
      "           1      1.000     1.000     1.000       126\n",
      "\n",
      "    accuracy                          1.000       651\n",
      "   macro avg      1.000     1.000     1.000       651\n",
      "weighted avg      1.000     1.000     1.000       651\n",
      "\n",
      "----------------------------------------------------------------------\n",
      "model2 Test 예측/분류 결과\n",
      "Accuracy: 0.828\n",
      "\n",
      "Confusion Matrix: \n",
      "[[196  29]\n",
      " [ 19  35]] \n",
      "\n",
      "              precision    recall  f1-score   support\n",
      "\n",
      "           0      0.912     0.871     0.891       225\n",
      "           1      0.547     0.648     0.593        54\n",
      "\n",
      "    accuracy                          0.828       279\n",
      "   macro avg      0.729     0.760     0.742       279\n",
      "weighted avg      0.841     0.828     0.833       279\n",
      "\n"
     ]
    }
   ],
   "source": [
    "y_pred_dt_train = tree_uncust.predict(df_train_x)\n",
    "y_pred_dt_test = tree_uncust.predict(df_test_x)\n",
    "\n",
    "print(\"model2 Train 예측/분류 결과\")\n",
    "print(\"Accuracy: {0:.3f}\\n\".format(accuracy_score(df_train[\"CHURN\"], y_pred_dt_train)))\n",
    "print(\"Confusion Matrix: \\n{}\".format(confusion_matrix(df_train[\"CHURN\"],y_pred_dt_train)),\"\\n\")\n",
    "print(classification_report(df_train[\"CHURN\"], y_pred_dt_train, digits=3))\n",
    "\n",
    "print('-'*70)\n",
    "\n",
    "print(\"model2 Test 예측/분류 결과\")\n",
    "print(\"Accuracy: {0:.3f}\\n\".format(accuracy_score(df_test[\"CHURN\"], y_pred_dt_test)))\n",
    "print(\"Confusion Matrix: \\n{}\".format(confusion_matrix(df_test[\"CHURN\"],y_pred_dt_test)),\"\\n\")\n",
    "print(classification_report(df_test[\"CHURN\"], y_pred_dt_test, digits=3))"
   ]
  },
  {
   "cell_type": "markdown",
   "id": "bcfc2517",
   "metadata": {},
   "source": [
    "## 3. 모델 parameter 조정"
   ]
  },
  {
   "cell_type": "markdown",
   "id": "f12cd478",
   "metadata": {},
   "source": [
    "### 3.1 max_depth : 최대 깊이 변경에 따른 모델 성능\n",
    "- Depth가 5일 때, test Accuracy가 0.871로 가장 높고, train Accuracy 또한 충분히 잘 설명하고 있다. 이에 따라 max_depth를 5로 정하였다."
   ]
  },
  {
   "cell_type": "code",
   "execution_count": 32,
   "id": "f8d9e811",
   "metadata": {},
   "outputs": [],
   "source": [
    "train_accuracy = []; test_accuracy = []\n",
    "para_depth = [depth for depth in range(3, 12)]\n",
    "\n",
    "for v_max_depth in para_depth:\n",
    "    tree = DecisionTreeClassifier(max_depth = v_max_depth, random_state=240307)\n",
    "    tree.fit(df_train_x, df_train_y)\n",
    "    train_accuracy.append(tree.score(df_train_x, df_train_y))\n",
    "    test_accuracy.append(tree.score(df_test_x, df_test_y))\n",
    "\n",
    "df_accuracy_depth = pd.DataFrame()\n",
    "df_accuracy_depth[\"Depth\"] = para_depth\n",
    "df_accuracy_depth[\"TrainAccuracy\"] = train_accuracy\n",
    "df_accuracy_depth[\"TestAccuracy\"] = test_accuracy"
   ]
  },
  {
   "cell_type": "code",
   "execution_count": 33,
   "id": "7bd6540a",
   "metadata": {},
   "outputs": [
    {
     "data": {
      "text/html": [
       "<div>\n",
       "<style scoped>\n",
       "    .dataframe tbody tr th:only-of-type {\n",
       "        vertical-align: middle;\n",
       "    }\n",
       "\n",
       "    .dataframe tbody tr th {\n",
       "        vertical-align: top;\n",
       "    }\n",
       "\n",
       "    .dataframe thead th {\n",
       "        text-align: right;\n",
       "    }\n",
       "</style>\n",
       "<table border=\"1\" class=\"dataframe\">\n",
       "  <thead>\n",
       "    <tr style=\"text-align: right;\">\n",
       "      <th></th>\n",
       "      <th>Depth</th>\n",
       "      <th>TrainAccuracy</th>\n",
       "      <th>TestAccuracy</th>\n",
       "    </tr>\n",
       "  </thead>\n",
       "  <tbody>\n",
       "    <tr>\n",
       "      <th>0</th>\n",
       "      <td>3</td>\n",
       "      <td>0.897</td>\n",
       "      <td>0.871</td>\n",
       "    </tr>\n",
       "    <tr>\n",
       "      <th>1</th>\n",
       "      <td>4</td>\n",
       "      <td>0.903</td>\n",
       "      <td>0.867</td>\n",
       "    </tr>\n",
       "    <tr>\n",
       "      <th>2</th>\n",
       "      <td>5</td>\n",
       "      <td>0.912</td>\n",
       "      <td>0.871</td>\n",
       "    </tr>\n",
       "    <tr>\n",
       "      <th>3</th>\n",
       "      <td>6</td>\n",
       "      <td>0.928</td>\n",
       "      <td>0.871</td>\n",
       "    </tr>\n",
       "    <tr>\n",
       "      <th>4</th>\n",
       "      <td>7</td>\n",
       "      <td>0.943</td>\n",
       "      <td>0.846</td>\n",
       "    </tr>\n",
       "    <tr>\n",
       "      <th>5</th>\n",
       "      <td>8</td>\n",
       "      <td>0.952</td>\n",
       "      <td>0.849</td>\n",
       "    </tr>\n",
       "    <tr>\n",
       "      <th>6</th>\n",
       "      <td>9</td>\n",
       "      <td>0.971</td>\n",
       "      <td>0.817</td>\n",
       "    </tr>\n",
       "    <tr>\n",
       "      <th>7</th>\n",
       "      <td>10</td>\n",
       "      <td>0.982</td>\n",
       "      <td>0.821</td>\n",
       "    </tr>\n",
       "    <tr>\n",
       "      <th>8</th>\n",
       "      <td>11</td>\n",
       "      <td>0.985</td>\n",
       "      <td>0.839</td>\n",
       "    </tr>\n",
       "  </tbody>\n",
       "</table>\n",
       "</div>"
      ],
      "text/plain": [
       "   Depth  TrainAccuracy  TestAccuracy\n",
       "0      3          0.897         0.871\n",
       "1      4          0.903         0.867\n",
       "2      5          0.912         0.871\n",
       "3      6          0.928         0.871\n",
       "4      7          0.943         0.846\n",
       "5      8          0.952         0.849\n",
       "6      9          0.971         0.817\n",
       "7     10          0.982         0.821\n",
       "8     11          0.985         0.839"
      ]
     },
     "execution_count": 33,
     "metadata": {},
     "output_type": "execute_result"
    }
   ],
   "source": [
    "df_accuracy_depth.round(3)"
   ]
  },
  {
   "cell_type": "markdown",
   "id": "b660ee6e",
   "metadata": {},
   "source": [
    "### 3.2 min_samples_split : 분리 노드의 최소 자료 수 변경에 따른 모델 성능 - 전체 자료 수 고려\n",
    "- Depth가 5이면서, min_samples_split가 40일 때, test Accuracy가 0.903으로 가장 높고, train Accuracy 또한 충분히 잘 설명하고 있다. 이에 따라min_samples_split를 40으로 정하였다."
   ]
  },
  {
   "cell_type": "code",
   "execution_count": 34,
   "id": "f05b156c",
   "metadata": {},
   "outputs": [],
   "source": [
    "train_accuracy = []; test_accuracy = []\n",
    "para_split = [n_split * 10 for n_split in range(2, 16)]\n",
    "\n",
    "for v_min_samples_split in para_split:\n",
    "    tree = DecisionTreeClassifier(min_samples_split = v_min_samples_split, max_depth=5, random_state=240307)\n",
    "    tree.fit(df_train_x, df_train_y)\n",
    "    train_accuracy.append(tree.score(df_train_x, df_train_y))\n",
    "    test_accuracy.append(tree.score(df_test_x, df_test_y))\n",
    "\n",
    "df_accuracy_split = pd.DataFrame()\n",
    "df_accuracy_split[\"MinSamplesSplit\"] = para_split\n",
    "df_accuracy_split[\"TrainAccuracy\"] = train_accuracy\n",
    "df_accuracy_split[\"TestAccuracy\"] = test_accuracy"
   ]
  },
  {
   "cell_type": "code",
   "execution_count": 35,
   "id": "4675101f",
   "metadata": {},
   "outputs": [
    {
     "data": {
      "text/html": [
       "<div>\n",
       "<style scoped>\n",
       "    .dataframe tbody tr th:only-of-type {\n",
       "        vertical-align: middle;\n",
       "    }\n",
       "\n",
       "    .dataframe tbody tr th {\n",
       "        vertical-align: top;\n",
       "    }\n",
       "\n",
       "    .dataframe thead th {\n",
       "        text-align: right;\n",
       "    }\n",
       "</style>\n",
       "<table border=\"1\" class=\"dataframe\">\n",
       "  <thead>\n",
       "    <tr style=\"text-align: right;\">\n",
       "      <th></th>\n",
       "      <th>MinSamplesSplit</th>\n",
       "      <th>TrainAccuracy</th>\n",
       "      <th>TestAccuracy</th>\n",
       "    </tr>\n",
       "  </thead>\n",
       "  <tbody>\n",
       "    <tr>\n",
       "      <th>0</th>\n",
       "      <td>20</td>\n",
       "      <td>0.899</td>\n",
       "      <td>0.892</td>\n",
       "    </tr>\n",
       "    <tr>\n",
       "      <th>1</th>\n",
       "      <td>30</td>\n",
       "      <td>0.897</td>\n",
       "      <td>0.903</td>\n",
       "    </tr>\n",
       "    <tr>\n",
       "      <th>2</th>\n",
       "      <td>40</td>\n",
       "      <td>0.897</td>\n",
       "      <td>0.903</td>\n",
       "    </tr>\n",
       "    <tr>\n",
       "      <th>3</th>\n",
       "      <td>50</td>\n",
       "      <td>0.892</td>\n",
       "      <td>0.896</td>\n",
       "    </tr>\n",
       "    <tr>\n",
       "      <th>4</th>\n",
       "      <td>60</td>\n",
       "      <td>0.892</td>\n",
       "      <td>0.896</td>\n",
       "    </tr>\n",
       "    <tr>\n",
       "      <th>5</th>\n",
       "      <td>70</td>\n",
       "      <td>0.892</td>\n",
       "      <td>0.896</td>\n",
       "    </tr>\n",
       "    <tr>\n",
       "      <th>6</th>\n",
       "      <td>80</td>\n",
       "      <td>0.892</td>\n",
       "      <td>0.896</td>\n",
       "    </tr>\n",
       "    <tr>\n",
       "      <th>7</th>\n",
       "      <td>90</td>\n",
       "      <td>0.892</td>\n",
       "      <td>0.896</td>\n",
       "    </tr>\n",
       "    <tr>\n",
       "      <th>8</th>\n",
       "      <td>100</td>\n",
       "      <td>0.892</td>\n",
       "      <td>0.896</td>\n",
       "    </tr>\n",
       "    <tr>\n",
       "      <th>9</th>\n",
       "      <td>110</td>\n",
       "      <td>0.892</td>\n",
       "      <td>0.896</td>\n",
       "    </tr>\n",
       "    <tr>\n",
       "      <th>10</th>\n",
       "      <td>120</td>\n",
       "      <td>0.892</td>\n",
       "      <td>0.896</td>\n",
       "    </tr>\n",
       "    <tr>\n",
       "      <th>11</th>\n",
       "      <td>130</td>\n",
       "      <td>0.892</td>\n",
       "      <td>0.896</td>\n",
       "    </tr>\n",
       "    <tr>\n",
       "      <th>12</th>\n",
       "      <td>140</td>\n",
       "      <td>0.892</td>\n",
       "      <td>0.896</td>\n",
       "    </tr>\n",
       "    <tr>\n",
       "      <th>13</th>\n",
       "      <td>150</td>\n",
       "      <td>0.892</td>\n",
       "      <td>0.896</td>\n",
       "    </tr>\n",
       "  </tbody>\n",
       "</table>\n",
       "</div>"
      ],
      "text/plain": [
       "    MinSamplesSplit  TrainAccuracy  TestAccuracy\n",
       "0                20          0.899         0.892\n",
       "1                30          0.897         0.903\n",
       "2                40          0.897         0.903\n",
       "3                50          0.892         0.896\n",
       "4                60          0.892         0.896\n",
       "5                70          0.892         0.896\n",
       "6                80          0.892         0.896\n",
       "7                90          0.892         0.896\n",
       "8               100          0.892         0.896\n",
       "9               110          0.892         0.896\n",
       "10              120          0.892         0.896\n",
       "11              130          0.892         0.896\n",
       "12              140          0.892         0.896\n",
       "13              150          0.892         0.896"
      ]
     },
     "execution_count": 35,
     "metadata": {},
     "output_type": "execute_result"
    }
   ],
   "source": [
    "df_accuracy_split.round(3)"
   ]
  },
  {
   "cell_type": "markdown",
   "id": "34774c93",
   "metadata": {},
   "source": [
    "### 3.3 min_samples_leaf : 잎사귀 노드의 최소 자료 수 변경에 따른 모델 성능\n",
    "- Depth가 5이면서, min_samples_split가 40, min_samples_leaf가 18일 때, test Accuracy가 0.914로 가장 높고, train Accuracy 또한 충분히 잘 설명하고 있다. 이에 따라 min_samples_leaf를 18으로 정하였다."
   ]
  },
  {
   "cell_type": "code",
   "execution_count": 36,
   "id": "8904a3fd",
   "metadata": {},
   "outputs": [],
   "source": [
    "train_accuracy = []; test_accuracy = []\n",
    "para_leaf = [n_leaf * 2 for n_leaf in range(5,16)]\n",
    "\n",
    "for v_min_samples_leaf in para_leaf:\n",
    "    tree = DecisionTreeClassifier(min_samples_leaf = v_min_samples_leaf, min_samples_split=40, max_depth=5, random_state=240307)\n",
    "    tree.fit(df_train_x, df_train_y)\n",
    "    train_accuracy.append(tree.score(df_train_x, df_train_y))\n",
    "    test_accuracy.append(tree.score(df_test_x, df_test_y))\n",
    "\n",
    "# 데이터 테이블로 저장\n",
    "df_accuracy_leaf = pd.DataFrame()\n",
    "df_accuracy_leaf[\"MinSamplesLeaf\"] = para_leaf\n",
    "df_accuracy_leaf[\"TrainAccuracy\"] = train_accuracy\n",
    "df_accuracy_leaf[\"TestAccuracy\"] = test_accuracy"
   ]
  },
  {
   "cell_type": "code",
   "execution_count": 37,
   "id": "b7c6ccf1",
   "metadata": {},
   "outputs": [
    {
     "data": {
      "text/html": [
       "<div>\n",
       "<style scoped>\n",
       "    .dataframe tbody tr th:only-of-type {\n",
       "        vertical-align: middle;\n",
       "    }\n",
       "\n",
       "    .dataframe tbody tr th {\n",
       "        vertical-align: top;\n",
       "    }\n",
       "\n",
       "    .dataframe thead th {\n",
       "        text-align: right;\n",
       "    }\n",
       "</style>\n",
       "<table border=\"1\" class=\"dataframe\">\n",
       "  <thead>\n",
       "    <tr style=\"text-align: right;\">\n",
       "      <th></th>\n",
       "      <th>MinSamplesLeaf</th>\n",
       "      <th>TrainAccuracy</th>\n",
       "      <th>TestAccuracy</th>\n",
       "    </tr>\n",
       "  </thead>\n",
       "  <tbody>\n",
       "    <tr>\n",
       "      <th>0</th>\n",
       "      <td>10</td>\n",
       "      <td>0.897</td>\n",
       "      <td>0.903</td>\n",
       "    </tr>\n",
       "    <tr>\n",
       "      <th>1</th>\n",
       "      <td>12</td>\n",
       "      <td>0.897</td>\n",
       "      <td>0.903</td>\n",
       "    </tr>\n",
       "    <tr>\n",
       "      <th>2</th>\n",
       "      <td>14</td>\n",
       "      <td>0.897</td>\n",
       "      <td>0.892</td>\n",
       "    </tr>\n",
       "    <tr>\n",
       "      <th>3</th>\n",
       "      <td>16</td>\n",
       "      <td>0.896</td>\n",
       "      <td>0.892</td>\n",
       "    </tr>\n",
       "    <tr>\n",
       "      <th>4</th>\n",
       "      <td>18</td>\n",
       "      <td>0.896</td>\n",
       "      <td>0.914</td>\n",
       "    </tr>\n",
       "    <tr>\n",
       "      <th>5</th>\n",
       "      <td>20</td>\n",
       "      <td>0.892</td>\n",
       "      <td>0.896</td>\n",
       "    </tr>\n",
       "    <tr>\n",
       "      <th>6</th>\n",
       "      <td>22</td>\n",
       "      <td>0.874</td>\n",
       "      <td>0.871</td>\n",
       "    </tr>\n",
       "    <tr>\n",
       "      <th>7</th>\n",
       "      <td>24</td>\n",
       "      <td>0.853</td>\n",
       "      <td>0.860</td>\n",
       "    </tr>\n",
       "    <tr>\n",
       "      <th>8</th>\n",
       "      <td>26</td>\n",
       "      <td>0.853</td>\n",
       "      <td>0.860</td>\n",
       "    </tr>\n",
       "    <tr>\n",
       "      <th>9</th>\n",
       "      <td>28</td>\n",
       "      <td>0.853</td>\n",
       "      <td>0.860</td>\n",
       "    </tr>\n",
       "    <tr>\n",
       "      <th>10</th>\n",
       "      <td>30</td>\n",
       "      <td>0.853</td>\n",
       "      <td>0.860</td>\n",
       "    </tr>\n",
       "  </tbody>\n",
       "</table>\n",
       "</div>"
      ],
      "text/plain": [
       "    MinSamplesLeaf  TrainAccuracy  TestAccuracy\n",
       "0               10          0.897         0.903\n",
       "1               12          0.897         0.903\n",
       "2               14          0.897         0.892\n",
       "3               16          0.896         0.892\n",
       "4               18          0.896         0.914\n",
       "5               20          0.892         0.896\n",
       "6               22          0.874         0.871\n",
       "7               24          0.853         0.860\n",
       "8               26          0.853         0.860\n",
       "9               28          0.853         0.860\n",
       "10              30          0.853         0.860"
      ]
     },
     "execution_count": 37,
     "metadata": {},
     "output_type": "execute_result"
    }
   ],
   "source": [
    "df_accuracy_leaf.round(3)"
   ]
  },
  {
   "cell_type": "markdown",
   "id": "2b664979",
   "metadata": {},
   "source": [
    "## 4. 최종 모델 선정 및 시각화"
   ]
  },
  {
   "cell_type": "markdown",
   "id": "45cf88ea",
   "metadata": {},
   "source": [
    "### 4.1 최종 모델 선정"
   ]
  },
  {
   "cell_type": "markdown",
   "id": "537a25a6",
   "metadata": {},
   "source": [
    "- 최종적으로 파라미터가 조정된(max_depth=5, min_samples_split=40, min_samples_leaf=18) Dicision Tree는 다음과 같다."
   ]
  },
  {
   "cell_type": "code",
   "execution_count": 38,
   "id": "6eb62ffc",
   "metadata": {
    "scrolled": true
   },
   "outputs": [
    {
     "data": {
      "text/html": [
       "<style>#sk-container-id-1 {color: black;background-color: white;}#sk-container-id-1 pre{padding: 0;}#sk-container-id-1 div.sk-toggleable {background-color: white;}#sk-container-id-1 label.sk-toggleable__label {cursor: pointer;display: block;width: 100%;margin-bottom: 0;padding: 0.3em;box-sizing: border-box;text-align: center;}#sk-container-id-1 label.sk-toggleable__label-arrow:before {content: \"▸\";float: left;margin-right: 0.25em;color: #696969;}#sk-container-id-1 label.sk-toggleable__label-arrow:hover:before {color: black;}#sk-container-id-1 div.sk-estimator:hover label.sk-toggleable__label-arrow:before {color: black;}#sk-container-id-1 div.sk-toggleable__content {max-height: 0;max-width: 0;overflow: hidden;text-align: left;background-color: #f0f8ff;}#sk-container-id-1 div.sk-toggleable__content pre {margin: 0.2em;color: black;border-radius: 0.25em;background-color: #f0f8ff;}#sk-container-id-1 input.sk-toggleable__control:checked~div.sk-toggleable__content {max-height: 200px;max-width: 100%;overflow: auto;}#sk-container-id-1 input.sk-toggleable__control:checked~label.sk-toggleable__label-arrow:before {content: \"▾\";}#sk-container-id-1 div.sk-estimator input.sk-toggleable__control:checked~label.sk-toggleable__label {background-color: #d4ebff;}#sk-container-id-1 div.sk-label input.sk-toggleable__control:checked~label.sk-toggleable__label {background-color: #d4ebff;}#sk-container-id-1 input.sk-hidden--visually {border: 0;clip: rect(1px 1px 1px 1px);clip: rect(1px, 1px, 1px, 1px);height: 1px;margin: -1px;overflow: hidden;padding: 0;position: absolute;width: 1px;}#sk-container-id-1 div.sk-estimator {font-family: monospace;background-color: #f0f8ff;border: 1px dotted black;border-radius: 0.25em;box-sizing: border-box;margin-bottom: 0.5em;}#sk-container-id-1 div.sk-estimator:hover {background-color: #d4ebff;}#sk-container-id-1 div.sk-parallel-item::after {content: \"\";width: 100%;border-bottom: 1px solid gray;flex-grow: 1;}#sk-container-id-1 div.sk-label:hover label.sk-toggleable__label {background-color: #d4ebff;}#sk-container-id-1 div.sk-serial::before {content: \"\";position: absolute;border-left: 1px solid gray;box-sizing: border-box;top: 0;bottom: 0;left: 50%;z-index: 0;}#sk-container-id-1 div.sk-serial {display: flex;flex-direction: column;align-items: center;background-color: white;padding-right: 0.2em;padding-left: 0.2em;position: relative;}#sk-container-id-1 div.sk-item {position: relative;z-index: 1;}#sk-container-id-1 div.sk-parallel {display: flex;align-items: stretch;justify-content: center;background-color: white;position: relative;}#sk-container-id-1 div.sk-item::before, #sk-container-id-1 div.sk-parallel-item::before {content: \"\";position: absolute;border-left: 1px solid gray;box-sizing: border-box;top: 0;bottom: 0;left: 50%;z-index: -1;}#sk-container-id-1 div.sk-parallel-item {display: flex;flex-direction: column;z-index: 1;position: relative;background-color: white;}#sk-container-id-1 div.sk-parallel-item:first-child::after {align-self: flex-end;width: 50%;}#sk-container-id-1 div.sk-parallel-item:last-child::after {align-self: flex-start;width: 50%;}#sk-container-id-1 div.sk-parallel-item:only-child::after {width: 0;}#sk-container-id-1 div.sk-dashed-wrapped {border: 1px dashed gray;margin: 0 0.4em 0.5em 0.4em;box-sizing: border-box;padding-bottom: 0.4em;background-color: white;}#sk-container-id-1 div.sk-label label {font-family: monospace;font-weight: bold;display: inline-block;line-height: 1.2em;}#sk-container-id-1 div.sk-label-container {text-align: center;}#sk-container-id-1 div.sk-container {/* jupyter's `normalize.less` sets `[hidden] { display: none; }` but bootstrap.min.css set `[hidden] { display: none !important; }` so we also need the `!important` here to be able to override the default hidden behavior on the sphinx rendered scikit-learn.org. See: https://github.com/scikit-learn/scikit-learn/issues/21755 */display: inline-block !important;position: relative;}#sk-container-id-1 div.sk-text-repr-fallback {display: none;}</style><div id=\"sk-container-id-1\" class=\"sk-top-container\"><div class=\"sk-text-repr-fallback\"><pre>DecisionTreeClassifier(max_depth=5, min_samples_leaf=18, min_samples_split=40,\n",
       "                       random_state=240307)</pre><b>In a Jupyter environment, please rerun this cell to show the HTML representation or trust the notebook. <br />On GitHub, the HTML representation is unable to render, please try loading this page with nbviewer.org.</b></div><div class=\"sk-container\" hidden><div class=\"sk-item\"><div class=\"sk-estimator sk-toggleable\"><input class=\"sk-toggleable__control sk-hidden--visually\" id=\"sk-estimator-id-1\" type=\"checkbox\" checked><label for=\"sk-estimator-id-1\" class=\"sk-toggleable__label sk-toggleable__label-arrow\">DecisionTreeClassifier</label><div class=\"sk-toggleable__content\"><pre>DecisionTreeClassifier(max_depth=5, min_samples_leaf=18, min_samples_split=40,\n",
       "                       random_state=240307)</pre></div></div></div></div></div>"
      ],
      "text/plain": [
       "DecisionTreeClassifier(max_depth=5, min_samples_leaf=18, min_samples_split=40,\n",
       "                       random_state=240307)"
      ]
     },
     "execution_count": 38,
     "metadata": {},
     "output_type": "execute_result"
    }
   ],
   "source": [
    "tree_final = DecisionTreeClassifier(max_depth=5, min_samples_split=40, min_samples_leaf=18, random_state=240307)\n",
    "tree_final.fit(df_train_x, df_train_y)"
   ]
  },
  {
   "cell_type": "markdown",
   "id": "ed7c2196",
   "metadata": {},
   "source": [
    "### 4.2 트리 모델 시각화 및 해석"
   ]
  },
  {
   "cell_type": "markdown",
   "id": "3addf1ed",
   "metadata": {},
   "source": [
    "- 파라미터에 따라 트리의 높이는 5로 생성되었고, 조건에 따라 최종적으로 7개의 노드로 분기하였음을 확인할 수 있다."
   ]
  },
  {
   "cell_type": "code",
   "execution_count": 39,
   "id": "53a751c0",
   "metadata": {},
   "outputs": [
    {
     "data": {
      "image/svg+xml": [
       "<?xml version=\"1.0\" encoding=\"UTF-8\" standalone=\"no\"?>\n",
       "<!DOCTYPE svg PUBLIC \"-//W3C//DTD SVG 1.1//EN\"\n",
       " \"http://www.w3.org/Graphics/SVG/1.1/DTD/svg11.dtd\">\n",
       "<!-- Generated by graphviz version 2.50.0 (0)\n",
       " -->\n",
       "<!-- Title: Tree Pages: 1 -->\n",
       "<svg width=\"733pt\" height=\"671pt\"\n",
       " viewBox=\"0.00 0.00 733.00 671.00\" xmlns=\"http://www.w3.org/2000/svg\" xmlns:xlink=\"http://www.w3.org/1999/xlink\">\n",
       "<g id=\"graph0\" class=\"graph\" transform=\"scale(1 1) rotate(0) translate(4 667)\">\n",
       "<title>Tree</title>\n",
       "<polygon fill=\"white\" stroke=\"transparent\" points=\"-4,4 -4,-667 729,-667 729,4 -4,4\"/>\n",
       "<!-- 0 -->\n",
       "<g id=\"node1\" class=\"node\">\n",
       "<title>0</title>\n",
       "<polygon fill=\"#eb9f69\" stroke=\"black\" points=\"675.5,-663 472.5,-663 472.5,-580 675.5,-580 675.5,-663\"/>\n",
       "<text text-anchor=\"middle\" x=\"574\" y=\"-647.8\" font-family=\"Helvetica,sans-Serif\" font-size=\"14.00\">HANDSET_ASAD90 &lt;= 0.5</text>\n",
       "<text text-anchor=\"middle\" x=\"574\" y=\"-632.8\" font-family=\"Helvetica,sans-Serif\" font-size=\"14.00\">gini = 0.312</text>\n",
       "<text text-anchor=\"middle\" x=\"574\" y=\"-617.8\" font-family=\"Helvetica,sans-Serif\" font-size=\"14.00\">samples = 651</text>\n",
       "<text text-anchor=\"middle\" x=\"574\" y=\"-602.8\" font-family=\"Helvetica,sans-Serif\" font-size=\"14.00\">value = [525, 126]</text>\n",
       "<text text-anchor=\"middle\" x=\"574\" y=\"-587.8\" font-family=\"Helvetica,sans-Serif\" font-size=\"14.00\">class = Good</text>\n",
       "</g>\n",
       "<!-- 1 -->\n",
       "<g id=\"node2\" class=\"node\">\n",
       "<title>1</title>\n",
       "<polygon fill=\"#ea985d\" stroke=\"black\" points=\"584.5,-544 385.5,-544 385.5,-461 584.5,-461 584.5,-544\"/>\n",
       "<text text-anchor=\"middle\" x=\"485\" y=\"-528.8\" font-family=\"Helvetica,sans-Serif\" font-size=\"14.00\">DROPPED_CALLS &lt;= 11.5</text>\n",
       "<text text-anchor=\"middle\" x=\"485\" y=\"-513.8\" font-family=\"Helvetica,sans-Serif\" font-size=\"14.00\">gini = 0.26</text>\n",
       "<text text-anchor=\"middle\" x=\"485\" y=\"-498.8\" font-family=\"Helvetica,sans-Serif\" font-size=\"14.00\">samples = 612</text>\n",
       "<text text-anchor=\"middle\" x=\"485\" y=\"-483.8\" font-family=\"Helvetica,sans-Serif\" font-size=\"14.00\">value = [518, 94]</text>\n",
       "<text text-anchor=\"middle\" x=\"485\" y=\"-468.8\" font-family=\"Helvetica,sans-Serif\" font-size=\"14.00\">class = Good</text>\n",
       "</g>\n",
       "<!-- 0&#45;&gt;1 -->\n",
       "<g id=\"edge1\" class=\"edge\">\n",
       "<title>0&#45;&gt;1</title>\n",
       "<path fill=\"none\" stroke=\"black\" d=\"M543.12,-579.91C536.29,-570.92 528.98,-561.32 521.93,-552.05\"/>\n",
       "<polygon fill=\"black\" stroke=\"black\" points=\"524.66,-549.86 515.82,-544.02 519.09,-554.1 524.66,-549.86\"/>\n",
       "<text text-anchor=\"middle\" x=\"512.46\" y=\"-565.09\" font-family=\"Helvetica,sans-Serif\" font-size=\"14.00\">True</text>\n",
       "</g>\n",
       "<!-- 12 -->\n",
       "<g id=\"node13\" class=\"node\">\n",
       "<title>12</title>\n",
       "<polygon fill=\"#64b2eb\" stroke=\"black\" points=\"725,-536.5 603,-536.5 603,-468.5 725,-468.5 725,-536.5\"/>\n",
       "<text text-anchor=\"middle\" x=\"664\" y=\"-521.3\" font-family=\"Helvetica,sans-Serif\" font-size=\"14.00\">gini = 0.295</text>\n",
       "<text text-anchor=\"middle\" x=\"664\" y=\"-506.3\" font-family=\"Helvetica,sans-Serif\" font-size=\"14.00\">samples = 39</text>\n",
       "<text text-anchor=\"middle\" x=\"664\" y=\"-491.3\" font-family=\"Helvetica,sans-Serif\" font-size=\"14.00\">value = [7, 32]</text>\n",
       "<text text-anchor=\"middle\" x=\"664\" y=\"-476.3\" font-family=\"Helvetica,sans-Serif\" font-size=\"14.00\">class = Bad</text>\n",
       "</g>\n",
       "<!-- 0&#45;&gt;12 -->\n",
       "<g id=\"edge12\" class=\"edge\">\n",
       "<title>0&#45;&gt;12</title>\n",
       "<path fill=\"none\" stroke=\"black\" d=\"M605.23,-579.91C613.97,-568.54 623.48,-556.18 632.25,-544.77\"/>\n",
       "<polygon fill=\"black\" stroke=\"black\" points=\"635.16,-546.73 638.49,-536.67 629.62,-542.46 635.16,-546.73\"/>\n",
       "<text text-anchor=\"middle\" x=\"641.72\" y=\"-557.76\" font-family=\"Helvetica,sans-Serif\" font-size=\"14.00\">False</text>\n",
       "</g>\n",
       "<!-- 2 -->\n",
       "<g id=\"node3\" class=\"node\">\n",
       "<title>2</title>\n",
       "<polygon fill=\"#e99355\" stroke=\"black\" points=\"493.5,-425 300.5,-425 300.5,-342 493.5,-342 493.5,-425\"/>\n",
       "<text text-anchor=\"middle\" x=\"397\" y=\"-409.8\" font-family=\"Helvetica,sans-Serif\" font-size=\"14.00\">HANDSET_CAS30 &lt;= 0.5</text>\n",
       "<text text-anchor=\"middle\" x=\"397\" y=\"-394.8\" font-family=\"Helvetica,sans-Serif\" font-size=\"14.00\">gini = 0.217</text>\n",
       "<text text-anchor=\"middle\" x=\"397\" y=\"-379.8\" font-family=\"Helvetica,sans-Serif\" font-size=\"14.00\">samples = 589</text>\n",
       "<text text-anchor=\"middle\" x=\"397\" y=\"-364.8\" font-family=\"Helvetica,sans-Serif\" font-size=\"14.00\">value = [516, 73]</text>\n",
       "<text text-anchor=\"middle\" x=\"397\" y=\"-349.8\" font-family=\"Helvetica,sans-Serif\" font-size=\"14.00\">class = Good</text>\n",
       "</g>\n",
       "<!-- 1&#45;&gt;2 -->\n",
       "<g id=\"edge2\" class=\"edge\">\n",
       "<title>1&#45;&gt;2</title>\n",
       "<path fill=\"none\" stroke=\"black\" d=\"M454.47,-460.91C447.71,-451.92 440.48,-442.32 433.52,-433.05\"/>\n",
       "<polygon fill=\"black\" stroke=\"black\" points=\"436.29,-430.91 427.48,-425.02 430.69,-435.12 436.29,-430.91\"/>\n",
       "</g>\n",
       "<!-- 11 -->\n",
       "<g id=\"node12\" class=\"node\">\n",
       "<title>11</title>\n",
       "<polygon fill=\"#4ca6e7\" stroke=\"black\" points=\"634,-417.5 512,-417.5 512,-349.5 634,-349.5 634,-417.5\"/>\n",
       "<text text-anchor=\"middle\" x=\"573\" y=\"-402.3\" font-family=\"Helvetica,sans-Serif\" font-size=\"14.00\">gini = 0.159</text>\n",
       "<text text-anchor=\"middle\" x=\"573\" y=\"-387.3\" font-family=\"Helvetica,sans-Serif\" font-size=\"14.00\">samples = 23</text>\n",
       "<text text-anchor=\"middle\" x=\"573\" y=\"-372.3\" font-family=\"Helvetica,sans-Serif\" font-size=\"14.00\">value = [2, 21]</text>\n",
       "<text text-anchor=\"middle\" x=\"573\" y=\"-357.3\" font-family=\"Helvetica,sans-Serif\" font-size=\"14.00\">class = Bad</text>\n",
       "</g>\n",
       "<!-- 1&#45;&gt;11 -->\n",
       "<g id=\"edge11\" class=\"edge\">\n",
       "<title>1&#45;&gt;11</title>\n",
       "<path fill=\"none\" stroke=\"black\" d=\"M515.53,-460.91C524.08,-449.54 533.38,-437.18 541.96,-425.77\"/>\n",
       "<polygon fill=\"black\" stroke=\"black\" points=\"544.84,-427.76 548.05,-417.67 539.25,-423.55 544.84,-427.76\"/>\n",
       "</g>\n",
       "<!-- 3 -->\n",
       "<g id=\"node4\" class=\"node\">\n",
       "<title>3</title>\n",
       "<polygon fill=\"#e88f4f\" stroke=\"black\" points=\"410,-306 202,-306 202,-223 410,-223 410,-306\"/>\n",
       "<text text-anchor=\"middle\" x=\"306\" y=\"-290.8\" font-family=\"Helvetica,sans-Serif\" font-size=\"14.00\">PEAK_CALLS_TIME &lt;= 93.6</text>\n",
       "<text text-anchor=\"middle\" x=\"306\" y=\"-275.8\" font-family=\"Helvetica,sans-Serif\" font-size=\"14.00\">gini = 0.18</text>\n",
       "<text text-anchor=\"middle\" x=\"306\" y=\"-260.8\" font-family=\"Helvetica,sans-Serif\" font-size=\"14.00\">samples = 569</text>\n",
       "<text text-anchor=\"middle\" x=\"306\" y=\"-245.8\" font-family=\"Helvetica,sans-Serif\" font-size=\"14.00\">value = [512, 57]</text>\n",
       "<text text-anchor=\"middle\" x=\"306\" y=\"-230.8\" font-family=\"Helvetica,sans-Serif\" font-size=\"14.00\">class = Good</text>\n",
       "</g>\n",
       "<!-- 2&#45;&gt;3 -->\n",
       "<g id=\"edge3\" class=\"edge\">\n",
       "<title>2&#45;&gt;3</title>\n",
       "<path fill=\"none\" stroke=\"black\" d=\"M365.43,-341.91C358.44,-332.92 350.97,-323.32 343.76,-314.05\"/>\n",
       "<polygon fill=\"black\" stroke=\"black\" points=\"346.42,-311.77 337.52,-306.02 340.89,-316.06 346.42,-311.77\"/>\n",
       "</g>\n",
       "<!-- 10 -->\n",
       "<g id=\"node11\" class=\"node\">\n",
       "<title>10</title>\n",
       "<polygon fill=\"#6ab6ec\" stroke=\"black\" points=\"550,-298.5 428,-298.5 428,-230.5 550,-230.5 550,-298.5\"/>\n",
       "<text text-anchor=\"middle\" x=\"489\" y=\"-283.3\" font-family=\"Helvetica,sans-Serif\" font-size=\"14.00\">gini = 0.32</text>\n",
       "<text text-anchor=\"middle\" x=\"489\" y=\"-268.3\" font-family=\"Helvetica,sans-Serif\" font-size=\"14.00\">samples = 20</text>\n",
       "<text text-anchor=\"middle\" x=\"489\" y=\"-253.3\" font-family=\"Helvetica,sans-Serif\" font-size=\"14.00\">value = [4, 16]</text>\n",
       "<text text-anchor=\"middle\" x=\"489\" y=\"-238.3\" font-family=\"Helvetica,sans-Serif\" font-size=\"14.00\">class = Bad</text>\n",
       "</g>\n",
       "<!-- 2&#45;&gt;10 -->\n",
       "<g id=\"edge10\" class=\"edge\">\n",
       "<title>2&#45;&gt;10</title>\n",
       "<path fill=\"none\" stroke=\"black\" d=\"M428.92,-341.91C437.86,-330.54 447.58,-318.18 456.55,-306.77\"/>\n",
       "<polygon fill=\"black\" stroke=\"black\" points=\"459.49,-308.69 462.92,-298.67 453.99,-304.36 459.49,-308.69\"/>\n",
       "</g>\n",
       "<!-- 4 -->\n",
       "<g id=\"node5\" class=\"node\">\n",
       "<title>4</title>\n",
       "<polygon fill=\"#f6d5bd\" stroke=\"black\" points=\"295,-187 65,-187 65,-104 295,-104 295,-187\"/>\n",
       "<text text-anchor=\"middle\" x=\"180\" y=\"-171.8\" font-family=\"Helvetica,sans-Serif\" font-size=\"14.00\">USAGE_BAND_MedLow &lt;= 0.5</text>\n",
       "<text text-anchor=\"middle\" x=\"180\" y=\"-156.8\" font-family=\"Helvetica,sans-Serif\" font-size=\"14.00\">gini = 0.48</text>\n",
       "<text text-anchor=\"middle\" x=\"180\" y=\"-141.8\" font-family=\"Helvetica,sans-Serif\" font-size=\"14.00\">samples = 40</text>\n",
       "<text text-anchor=\"middle\" x=\"180\" y=\"-126.8\" font-family=\"Helvetica,sans-Serif\" font-size=\"14.00\">value = [24, 16]</text>\n",
       "<text text-anchor=\"middle\" x=\"180\" y=\"-111.8\" font-family=\"Helvetica,sans-Serif\" font-size=\"14.00\">class = Good</text>\n",
       "</g>\n",
       "<!-- 3&#45;&gt;4 -->\n",
       "<g id=\"edge4\" class=\"edge\">\n",
       "<title>3&#45;&gt;4</title>\n",
       "<path fill=\"none\" stroke=\"black\" d=\"M262.28,-222.91C252.22,-213.56 241.43,-203.54 231.08,-193.93\"/>\n",
       "<polygon fill=\"black\" stroke=\"black\" points=\"233.35,-191.26 223.64,-187.02 228.58,-196.39 233.35,-191.26\"/>\n",
       "</g>\n",
       "<!-- 7 -->\n",
       "<g id=\"node8\" class=\"node\">\n",
       "<title>7</title>\n",
       "<polygon fill=\"#e78c4a\" stroke=\"black\" points=\"552.5,-187 313.5,-187 313.5,-104 552.5,-104 552.5,-187\"/>\n",
       "<text text-anchor=\"middle\" x=\"433\" y=\"-171.8\" font-family=\"Helvetica,sans-Serif\" font-size=\"14.00\">SERVICE_DURATION &lt;= 15.465</text>\n",
       "<text text-anchor=\"middle\" x=\"433\" y=\"-156.8\" font-family=\"Helvetica,sans-Serif\" font-size=\"14.00\">gini = 0.143</text>\n",
       "<text text-anchor=\"middle\" x=\"433\" y=\"-141.8\" font-family=\"Helvetica,sans-Serif\" font-size=\"14.00\">samples = 529</text>\n",
       "<text text-anchor=\"middle\" x=\"433\" y=\"-126.8\" font-family=\"Helvetica,sans-Serif\" font-size=\"14.00\">value = [488, 41]</text>\n",
       "<text text-anchor=\"middle\" x=\"433\" y=\"-111.8\" font-family=\"Helvetica,sans-Serif\" font-size=\"14.00\">class = Good</text>\n",
       "</g>\n",
       "<!-- 3&#45;&gt;7 -->\n",
       "<g id=\"edge7\" class=\"edge\">\n",
       "<title>3&#45;&gt;7</title>\n",
       "<path fill=\"none\" stroke=\"black\" d=\"M350.06,-222.91C360.21,-213.56 371.09,-203.54 381.52,-193.93\"/>\n",
       "<polygon fill=\"black\" stroke=\"black\" points=\"384.03,-196.37 389.02,-187.02 379.29,-191.22 384.03,-196.37\"/>\n",
       "</g>\n",
       "<!-- 5 -->\n",
       "<g id=\"node6\" class=\"node\">\n",
       "<title>5</title>\n",
       "<polygon fill=\"#eca572\" stroke=\"black\" points=\"122,-68 0,-68 0,0 122,0 122,-68\"/>\n",
       "<text text-anchor=\"middle\" x=\"61\" y=\"-52.8\" font-family=\"Helvetica,sans-Serif\" font-size=\"14.00\">gini = 0.346</text>\n",
       "<text text-anchor=\"middle\" x=\"61\" y=\"-37.8\" font-family=\"Helvetica,sans-Serif\" font-size=\"14.00\">samples = 18</text>\n",
       "<text text-anchor=\"middle\" x=\"61\" y=\"-22.8\" font-family=\"Helvetica,sans-Serif\" font-size=\"14.00\">value = [14, 4]</text>\n",
       "<text text-anchor=\"middle\" x=\"61\" y=\"-7.8\" font-family=\"Helvetica,sans-Serif\" font-size=\"14.00\">class = Good</text>\n",
       "</g>\n",
       "<!-- 4&#45;&gt;5 -->\n",
       "<g id=\"edge5\" class=\"edge\">\n",
       "<title>4&#45;&gt;5</title>\n",
       "<path fill=\"none\" stroke=\"black\" d=\"M135.69,-103.73C125.58,-94.42 114.84,-84.54 104.75,-75.26\"/>\n",
       "<polygon fill=\"black\" stroke=\"black\" points=\"106.92,-72.5 97.19,-68.3 102.18,-77.65 106.92,-72.5\"/>\n",
       "</g>\n",
       "<!-- 6 -->\n",
       "<g id=\"node7\" class=\"node\">\n",
       "<title>6</title>\n",
       "<polygon fill=\"#deeffb\" stroke=\"black\" points=\"271.5,-68 140.5,-68 140.5,0 271.5,0 271.5,-68\"/>\n",
       "<text text-anchor=\"middle\" x=\"206\" y=\"-52.8\" font-family=\"Helvetica,sans-Serif\" font-size=\"14.00\">gini = 0.496</text>\n",
       "<text text-anchor=\"middle\" x=\"206\" y=\"-37.8\" font-family=\"Helvetica,sans-Serif\" font-size=\"14.00\">samples = 22</text>\n",
       "<text text-anchor=\"middle\" x=\"206\" y=\"-22.8\" font-family=\"Helvetica,sans-Serif\" font-size=\"14.00\">value = [10, 12]</text>\n",
       "<text text-anchor=\"middle\" x=\"206\" y=\"-7.8\" font-family=\"Helvetica,sans-Serif\" font-size=\"14.00\">class = Bad</text>\n",
       "</g>\n",
       "<!-- 4&#45;&gt;6 -->\n",
       "<g id=\"edge6\" class=\"edge\">\n",
       "<title>4&#45;&gt;6</title>\n",
       "<path fill=\"none\" stroke=\"black\" d=\"M189.68,-103.73C191.65,-95.43 193.73,-86.67 195.72,-78.28\"/>\n",
       "<polygon fill=\"black\" stroke=\"black\" points=\"199.19,-78.84 198.09,-68.3 192.38,-77.22 199.19,-78.84\"/>\n",
       "</g>\n",
       "<!-- 8 -->\n",
       "<g id=\"node9\" class=\"node\">\n",
       "<title>8</title>\n",
       "<polygon fill=\"#eb9f69\" stroke=\"black\" points=\"472.5,-68 341.5,-68 341.5,0 472.5,0 472.5,-68\"/>\n",
       "<text text-anchor=\"middle\" x=\"407\" y=\"-52.8\" font-family=\"Helvetica,sans-Serif\" font-size=\"14.00\">gini = 0.314</text>\n",
       "<text text-anchor=\"middle\" x=\"407\" y=\"-37.8\" font-family=\"Helvetica,sans-Serif\" font-size=\"14.00\">samples = 77</text>\n",
       "<text text-anchor=\"middle\" x=\"407\" y=\"-22.8\" font-family=\"Helvetica,sans-Serif\" font-size=\"14.00\">value = [62, 15]</text>\n",
       "<text text-anchor=\"middle\" x=\"407\" y=\"-7.8\" font-family=\"Helvetica,sans-Serif\" font-size=\"14.00\">class = Good</text>\n",
       "</g>\n",
       "<!-- 7&#45;&gt;8 -->\n",
       "<g id=\"edge8\" class=\"edge\">\n",
       "<title>7&#45;&gt;8</title>\n",
       "<path fill=\"none\" stroke=\"black\" d=\"M423.32,-103.73C421.35,-95.43 419.27,-86.67 417.28,-78.28\"/>\n",
       "<polygon fill=\"black\" stroke=\"black\" points=\"420.62,-77.22 414.91,-68.3 413.81,-78.84 420.62,-77.22\"/>\n",
       "</g>\n",
       "<!-- 9 -->\n",
       "<g id=\"node10\" class=\"node\">\n",
       "<title>9</title>\n",
       "<polygon fill=\"#e78945\" stroke=\"black\" points=\"631,-68 491,-68 491,0 631,0 631,-68\"/>\n",
       "<text text-anchor=\"middle\" x=\"561\" y=\"-52.8\" font-family=\"Helvetica,sans-Serif\" font-size=\"14.00\">gini = 0.108</text>\n",
       "<text text-anchor=\"middle\" x=\"561\" y=\"-37.8\" font-family=\"Helvetica,sans-Serif\" font-size=\"14.00\">samples = 452</text>\n",
       "<text text-anchor=\"middle\" x=\"561\" y=\"-22.8\" font-family=\"Helvetica,sans-Serif\" font-size=\"14.00\">value = [426, 26]</text>\n",
       "<text text-anchor=\"middle\" x=\"561\" y=\"-7.8\" font-family=\"Helvetica,sans-Serif\" font-size=\"14.00\">class = Good</text>\n",
       "</g>\n",
       "<!-- 7&#45;&gt;9 -->\n",
       "<g id=\"edge9\" class=\"edge\">\n",
       "<title>7&#45;&gt;9</title>\n",
       "<path fill=\"none\" stroke=\"black\" d=\"M480.66,-103.73C491.64,-94.33 503.31,-84.35 514.26,-74.99\"/>\n",
       "<polygon fill=\"black\" stroke=\"black\" points=\"516.75,-77.46 522.07,-68.3 512.2,-72.14 516.75,-77.46\"/>\n",
       "</g>\n",
       "</g>\n",
       "</svg>\n"
      ],
      "text/plain": [
       "<graphviz.sources.Source at 0x7f41ea5e49d0>"
      ]
     },
     "metadata": {},
     "output_type": "display_data"
    }
   ],
   "source": [
    "export_graphviz(tree_final, out_file=\"tree_final.dot\", class_names = [\"Good\", \"Bad\"],\n",
    "                feature_names = df_train_x.columns, impurity = True, filled = True)\n",
    "\n",
    "with open(\"tree_final.dot\") as f:\n",
    "    dot_graph = f.read()\n",
    "display(graphviz.Source(dot_graph))"
   ]
  },
  {
   "cell_type": "markdown",
   "id": "16df7f9a",
   "metadata": {},
   "source": [
    "### 4.3 최종 모델을 이용한 분류 예측"
   ]
  },
  {
   "cell_type": "markdown",
   "id": "a195f7c3",
   "metadata": {},
   "source": [
    "- Test 데이터 셋을 기준으로 기존의 모델보다 1에 대한 예측력이 높아졌음을 알 수 있다. 1에 대한 예측력 상승의 근거로 precision, recall, f1-score의 지표가 기존보다 전부 0.1~0.2정도 향상된 것을 들 수 있다.\n",
    "- 1 뿐만 아니라 0에 대해서도 모든 평가지표들이 높아짐을 통해 전체적인 값들에 대해 모델의 예측 성능이 높아졌다고 말할 수 있을 것이다."
   ]
  },
  {
   "cell_type": "code",
   "execution_count": 40,
   "id": "0f919a1d",
   "metadata": {},
   "outputs": [
    {
     "name": "stdout",
     "output_type": "stream",
     "text": [
      "Test Accuracy: 0.896\n",
      "\n",
      "Test Confusion matrix: \n",
      "[[502  23]\n",
      " [ 45  81]]\n",
      "              precision    recall  f1-score   support\n",
      "\n",
      "           0      0.918     0.956     0.937       525\n",
      "           1      0.779     0.643     0.704       126\n",
      "\n",
      "    accuracy                          0.896       651\n",
      "   macro avg      0.848     0.800     0.820       651\n",
      "weighted avg      0.891     0.896     0.892       651\n",
      "\n",
      "----------------------------------------------------------------------\n",
      "Test Accuracy: 0.914\n",
      "\n",
      "Test Confusion matrix: \n",
      "[[213  12]\n",
      " [ 12  42]]\n",
      "              precision    recall  f1-score   support\n",
      "\n",
      "           0      0.947     0.947     0.947       225\n",
      "           1      0.778     0.778     0.778        54\n",
      "\n",
      "    accuracy                          0.914       279\n",
      "   macro avg      0.862     0.862     0.862       279\n",
      "weighted avg      0.914     0.914     0.914       279\n",
      "\n"
     ]
    }
   ],
   "source": [
    "y_pred = tree_final.predict(df_train_x)\n",
    "print(\"Test Accuracy: {0:.3f}\\n\".format(tree_final.score(df_train_x, df_train_y)))\n",
    "print(\"Test Confusion matrix: \\n{}\".format(confusion_matrix(df_train_y, y_pred)))\n",
    "print(classification_report(df_train_y, y_pred, digits=3))\n",
    "print(\"-\"*70)\n",
    "y_pred = tree_final.predict(df_test_x)\n",
    "print(\"Test Accuracy: {0:.3f}\\n\".format(tree_final.score(df_test_x, df_test_y)))\n",
    "print(\"Test Confusion matrix: \\n{}\".format(confusion_matrix(df_test_y, y_pred)))\n",
    "print(classification_report(df_test_y, y_pred, digits=3))"
   ]
  },
  {
   "cell_type": "markdown",
   "id": "c46f1104",
   "metadata": {},
   "source": [
    "## 5. 결론 도출"
   ]
  },
  {
   "cell_type": "markdown",
   "id": "45965ed8",
   "metadata": {},
   "source": [
    "### 5.1 설명변수의 중요도 결과"
   ]
  },
  {
   "cell_type": "markdown",
   "id": "6e0577f8",
   "metadata": {},
   "source": [
    "- 의사결정나무의 생성시 HANDSET_ASAD90, DROPPED_CALLS, HANDSET_CAS30 순으로 중요한 것을 확인할 수 있다.   \n",
    "변수 중요도가 0인 USAGE_BAND_MedHigh, USAGE_BAND_Med, USAGE_BAND_Low, HANDSET_BS210의 변수는 의사결정나무의 분기와 전혀 관련없는 변수일 수 있으나, 데이터 셋이 다르게 분할됨에 따라 변수 중요도는 다르게 나타날 수 있다."
   ]
  },
  {
   "cell_type": "code",
   "execution_count": 41,
   "id": "4dcbdaf9",
   "metadata": {},
   "outputs": [
    {
     "data": {
      "text/html": [
       "<div>\n",
       "<style scoped>\n",
       "    .dataframe tbody tr th:only-of-type {\n",
       "        vertical-align: middle;\n",
       "    }\n",
       "\n",
       "    .dataframe tbody tr th {\n",
       "        vertical-align: top;\n",
       "    }\n",
       "\n",
       "    .dataframe thead th {\n",
       "        text-align: right;\n",
       "    }\n",
       "</style>\n",
       "<table border=\"1\" class=\"dataframe\">\n",
       "  <thead>\n",
       "    <tr style=\"text-align: right;\">\n",
       "      <th></th>\n",
       "      <th>Feature</th>\n",
       "      <th>Importance</th>\n",
       "    </tr>\n",
       "  </thead>\n",
       "  <tbody>\n",
       "    <tr>\n",
       "      <th>15</th>\n",
       "      <td>HANDSET_ASAD90</td>\n",
       "      <td>0.357</td>\n",
       "    </tr>\n",
       "    <tr>\n",
       "      <th>2</th>\n",
       "      <td>DROPPED_CALLS</td>\n",
       "      <td>0.302</td>\n",
       "    </tr>\n",
       "    <tr>\n",
       "      <th>18</th>\n",
       "      <td>HANDSET_CAS30</td>\n",
       "      <td>0.207</td>\n",
       "    </tr>\n",
       "    <tr>\n",
       "      <th>4</th>\n",
       "      <td>PEAK_CALLS_TIME</td>\n",
       "      <td>0.085</td>\n",
       "    </tr>\n",
       "    <tr>\n",
       "      <th>1</th>\n",
       "      <td>SERVICE_DURATION</td>\n",
       "      <td>0.027</td>\n",
       "    </tr>\n",
       "    <tr>\n",
       "      <th>29</th>\n",
       "      <td>USAGE_BAND_MedLow</td>\n",
       "      <td>0.023</td>\n",
       "    </tr>\n",
       "    <tr>\n",
       "      <th>28</th>\n",
       "      <td>USAGE_BAND_MedHigh</td>\n",
       "      <td>0.000</td>\n",
       "    </tr>\n",
       "    <tr>\n",
       "      <th>27</th>\n",
       "      <td>USAGE_BAND_Med</td>\n",
       "      <td>0.000</td>\n",
       "    </tr>\n",
       "    <tr>\n",
       "      <th>26</th>\n",
       "      <td>USAGE_BAND_Low</td>\n",
       "      <td>0.000</td>\n",
       "    </tr>\n",
       "    <tr>\n",
       "      <th>17</th>\n",
       "      <td>HANDSET_BS210</td>\n",
       "      <td>0.000</td>\n",
       "    </tr>\n",
       "  </tbody>\n",
       "</table>\n",
       "</div>"
      ],
      "text/plain": [
       "               Feature  Importance\n",
       "15      HANDSET_ASAD90       0.357\n",
       "2        DROPPED_CALLS       0.302\n",
       "18       HANDSET_CAS30       0.207\n",
       "4      PEAK_CALLS_TIME       0.085\n",
       "1     SERVICE_DURATION       0.027\n",
       "29   USAGE_BAND_MedLow       0.023\n",
       "28  USAGE_BAND_MedHigh       0.000\n",
       "27      USAGE_BAND_Med       0.000\n",
       "26      USAGE_BAND_Low       0.000\n",
       "17       HANDSET_BS210       0.000"
      ]
     },
     "execution_count": 41,
     "metadata": {},
     "output_type": "execute_result"
    }
   ],
   "source": [
    "df_importance = pd.DataFrame()\n",
    "df_importance[\"Feature\"] = df_train_x.columns\n",
    "df_importance[\"Importance\"] = tree_final.feature_importances_\n",
    "\n",
    "# df_feature_importance의 테이블을 중요도별로 정렬\n",
    "df_importance.sort_values(\"Importance\", ascending=False, inplace = True)\n",
    "df_importance.round(3).head(10)"
   ]
  },
  {
   "cell_type": "markdown",
   "id": "967d0fbf",
   "metadata": {},
   "source": [
    "### 5.2 변수 중요도 시각화"
   ]
  },
  {
   "cell_type": "code",
   "execution_count": 42,
   "id": "c19bd01c",
   "metadata": {},
   "outputs": [
    {
     "data": {
      "text/plain": [
       "Text(0, 0.5, '설명변수')"
      ]
     },
     "execution_count": 42,
     "metadata": {},
     "output_type": "execute_result"
    },
    {
     "data": {
      "image/png": "[encoded data removed]",
      "text/plain": [
       "<Figure size 640x480 with 1 Axes>"
      ]
     },
     "metadata": {},
     "output_type": "display_data"
    }
   ],
   "source": [
    "df_importance.sort_values(\"Importance\", ascending=True, inplace = True)\n",
    "coordinates = range(len(df_importance))\n",
    "plt.barh(y = coordinates, width = df_importance[\"Importance\"])\n",
    "plt.yticks(coordinates, df_importance[\"Feature\"])\n",
    "plt.xlabel(\"설명변수 중요도\")\n",
    "plt.ylabel(\"설명변수\")"
   ]
  },
  {
   "cell_type": "markdown",
   "id": "6770cc42",
   "metadata": {},
   "source": [
    "# RandomForest"
   ]
  },
  {
   "cell_type": "markdown",
   "id": "2b26da62",
   "metadata": {},
   "source": [
    "## 1. 데이터 구성하기"
   ]
  },
  {
   "cell_type": "markdown",
   "id": "c1281c5c",
   "metadata": {},
   "source": [
    "- 로지스틱 회귀모형 데이터 셋, 의사결정나무 데이터 셋과 동일하므로, 전처리가 일부 진행된 데이터 셋을 가져옴 "
   ]
  },
  {
   "cell_type": "code",
   "execution_count": 43,
   "id": "5805dc35",
   "metadata": {},
   "outputs": [
    {
     "data": {
      "text/html": [
       "<div>\n",
       "<style scoped>\n",
       "    .dataframe tbody tr th:only-of-type {\n",
       "        vertical-align: middle;\n",
       "    }\n",
       "\n",
       "    .dataframe tbody tr th {\n",
       "        vertical-align: top;\n",
       "    }\n",
       "\n",
       "    .dataframe thead th {\n",
       "        text-align: right;\n",
       "    }\n",
       "</style>\n",
       "<table border=\"1\" class=\"dataframe\">\n",
       "  <thead>\n",
       "    <tr style=\"text-align: right;\">\n",
       "      <th></th>\n",
       "      <th>CHURN</th>\n",
       "      <th>GENDER</th>\n",
       "      <th>AGE</th>\n",
       "      <th>CHARGE_TYPE</th>\n",
       "      <th>HANDSET</th>\n",
       "      <th>USAGE_BAND</th>\n",
       "      <th>SERVICE_DURATION</th>\n",
       "      <th>DROPPED_CALLS</th>\n",
       "      <th>PEAK_CALLS_NO</th>\n",
       "      <th>PEAK_CALLS_TIME</th>\n",
       "      <th>WEEKEND_CALLS_NO</th>\n",
       "      <th>WEEKEND_CALLS_TIME</th>\n",
       "    </tr>\n",
       "  </thead>\n",
       "  <tbody>\n",
       "    <tr>\n",
       "      <th>0</th>\n",
       "      <td>0</td>\n",
       "      <td>F</td>\n",
       "      <td>31</td>\n",
       "      <td>CAT 100</td>\n",
       "      <td>ASAD170</td>\n",
       "      <td>Med</td>\n",
       "      <td>33.33</td>\n",
       "      <td>6</td>\n",
       "      <td>218</td>\n",
       "      <td>379.8</td>\n",
       "      <td>9</td>\n",
       "      <td>21.6</td>\n",
       "    </tr>\n",
       "    <tr>\n",
       "      <th>1</th>\n",
       "      <td>0</td>\n",
       "      <td>M</td>\n",
       "      <td>27</td>\n",
       "      <td>CAT 100</td>\n",
       "      <td>S50</td>\n",
       "      <td>Med</td>\n",
       "      <td>30.87</td>\n",
       "      <td>10</td>\n",
       "      <td>373</td>\n",
       "      <td>656.4</td>\n",
       "      <td>11</td>\n",
       "      <td>28.0</td>\n",
       "    </tr>\n",
       "    <tr>\n",
       "      <th>2</th>\n",
       "      <td>0</td>\n",
       "      <td>M</td>\n",
       "      <td>27</td>\n",
       "      <td>CAT 100</td>\n",
       "      <td>ASAD170</td>\n",
       "      <td>Med</td>\n",
       "      <td>49.40</td>\n",
       "      <td>11</td>\n",
       "      <td>260</td>\n",
       "      <td>582.0</td>\n",
       "      <td>0</td>\n",
       "      <td>0.0</td>\n",
       "    </tr>\n",
       "    <tr>\n",
       "      <th>3</th>\n",
       "      <td>0</td>\n",
       "      <td>M</td>\n",
       "      <td>61</td>\n",
       "      <td>CAT 100</td>\n",
       "      <td>ASAD170</td>\n",
       "      <td>Med</td>\n",
       "      <td>48.60</td>\n",
       "      <td>1</td>\n",
       "      <td>294</td>\n",
       "      <td>661.8</td>\n",
       "      <td>14</td>\n",
       "      <td>101.5</td>\n",
       "    </tr>\n",
       "    <tr>\n",
       "      <th>4</th>\n",
       "      <td>0</td>\n",
       "      <td>F</td>\n",
       "      <td>52</td>\n",
       "      <td>CAT 100</td>\n",
       "      <td>S50</td>\n",
       "      <td>Med</td>\n",
       "      <td>56.03</td>\n",
       "      <td>0</td>\n",
       "      <td>221</td>\n",
       "      <td>555.6</td>\n",
       "      <td>7</td>\n",
       "      <td>25.0</td>\n",
       "    </tr>\n",
       "  </tbody>\n",
       "</table>\n",
       "</div>"
      ],
      "text/plain": [
       "   CHURN GENDER  AGE CHARGE_TYPE  HANDSET USAGE_BAND  SERVICE_DURATION  \\\n",
       "0      0      F   31     CAT 100  ASAD170        Med             33.33   \n",
       "1      0      M   27     CAT 100      S50        Med             30.87   \n",
       "2      0      M   27     CAT 100  ASAD170        Med             49.40   \n",
       "3      0      M   61     CAT 100  ASAD170        Med             48.60   \n",
       "4      0      F   52     CAT 100      S50        Med             56.03   \n",
       "\n",
       "   DROPPED_CALLS  PEAK_CALLS_NO  PEAK_CALLS_TIME  WEEKEND_CALLS_NO  \\\n",
       "0              6            218            379.8                 9   \n",
       "1             10            373            656.4                11   \n",
       "2             11            260            582.0                 0   \n",
       "3              1            294            661.8                14   \n",
       "4              0            221            555.6                 7   \n",
       "\n",
       "   WEEKEND_CALLS_TIME  \n",
       "0                21.6  \n",
       "1                28.0  \n",
       "2                 0.0  \n",
       "3               101.5  \n",
       "4                25.0  "
      ]
     },
     "execution_count": 43,
     "metadata": {},
     "output_type": "execute_result"
    }
   ],
   "source": [
    "df.head()"
   ]
  },
  {
   "cell_type": "markdown",
   "id": "f0736092",
   "metadata": {},
   "source": [
    "### 1.1 범주형 설명변수 더미변환"
   ]
  },
  {
   "cell_type": "markdown",
   "id": "8274a40a",
   "metadata": {},
   "source": [
    "- 범주형 설명변수인 GENDER, CHARGE_TYPE, HANDSET, USAGE_BAND에 대한 One-Hot encoding을 통해 더미변수로 변환해 주었다."
   ]
  },
  {
   "cell_type": "code",
   "execution_count": 44,
   "id": "9244f8a3",
   "metadata": {
    "scrolled": true
   },
   "outputs": [
    {
     "data": {
      "text/html": [
       "<div>\n",
       "<style scoped>\n",
       "    .dataframe tbody tr th:only-of-type {\n",
       "        vertical-align: middle;\n",
       "    }\n",
       "\n",
       "    .dataframe tbody tr th {\n",
       "        vertical-align: top;\n",
       "    }\n",
       "\n",
       "    .dataframe thead th {\n",
       "        text-align: right;\n",
       "    }\n",
       "</style>\n",
       "<table border=\"1\" class=\"dataframe\">\n",
       "  <thead>\n",
       "    <tr style=\"text-align: right;\">\n",
       "      <th></th>\n",
       "      <th>CHURN</th>\n",
       "      <th>AGE</th>\n",
       "      <th>SERVICE_DURATION</th>\n",
       "      <th>DROPPED_CALLS</th>\n",
       "      <th>PEAK_CALLS_NO</th>\n",
       "      <th>PEAK_CALLS_TIME</th>\n",
       "      <th>WEEKEND_CALLS_NO</th>\n",
       "      <th>WEEKEND_CALLS_TIME</th>\n",
       "      <th>GENDER_F</th>\n",
       "      <th>GENDER_M</th>\n",
       "      <th>...</th>\n",
       "      <th>HANDSET_S80</th>\n",
       "      <th>HANDSET_SOP10</th>\n",
       "      <th>HANDSET_SOP20</th>\n",
       "      <th>HANDSET_WC95</th>\n",
       "      <th>USAGE_BAND_High</th>\n",
       "      <th>USAGE_BAND_Low</th>\n",
       "      <th>USAGE_BAND_Med</th>\n",
       "      <th>USAGE_BAND_MedHigh</th>\n",
       "      <th>USAGE_BAND_MedLow</th>\n",
       "      <th>USAGE_BAND_None</th>\n",
       "    </tr>\n",
       "  </thead>\n",
       "  <tbody>\n",
       "    <tr>\n",
       "      <th>0</th>\n",
       "      <td>0</td>\n",
       "      <td>31</td>\n",
       "      <td>33.33</td>\n",
       "      <td>6</td>\n",
       "      <td>218</td>\n",
       "      <td>379.8</td>\n",
       "      <td>9</td>\n",
       "      <td>21.6</td>\n",
       "      <td>1</td>\n",
       "      <td>0</td>\n",
       "      <td>...</td>\n",
       "      <td>0</td>\n",
       "      <td>0</td>\n",
       "      <td>0</td>\n",
       "      <td>0</td>\n",
       "      <td>0</td>\n",
       "      <td>0</td>\n",
       "      <td>1</td>\n",
       "      <td>0</td>\n",
       "      <td>0</td>\n",
       "      <td>0</td>\n",
       "    </tr>\n",
       "    <tr>\n",
       "      <th>1</th>\n",
       "      <td>0</td>\n",
       "      <td>27</td>\n",
       "      <td>30.87</td>\n",
       "      <td>10</td>\n",
       "      <td>373</td>\n",
       "      <td>656.4</td>\n",
       "      <td>11</td>\n",
       "      <td>28.0</td>\n",
       "      <td>0</td>\n",
       "      <td>1</td>\n",
       "      <td>...</td>\n",
       "      <td>0</td>\n",
       "      <td>0</td>\n",
       "      <td>0</td>\n",
       "      <td>0</td>\n",
       "      <td>0</td>\n",
       "      <td>0</td>\n",
       "      <td>1</td>\n",
       "      <td>0</td>\n",
       "      <td>0</td>\n",
       "      <td>0</td>\n",
       "    </tr>\n",
       "    <tr>\n",
       "      <th>2</th>\n",
       "      <td>0</td>\n",
       "      <td>27</td>\n",
       "      <td>49.40</td>\n",
       "      <td>11</td>\n",
       "      <td>260</td>\n",
       "      <td>582.0</td>\n",
       "      <td>0</td>\n",
       "      <td>0.0</td>\n",
       "      <td>0</td>\n",
       "      <td>1</td>\n",
       "      <td>...</td>\n",
       "      <td>0</td>\n",
       "      <td>0</td>\n",
       "      <td>0</td>\n",
       "      <td>0</td>\n",
       "      <td>0</td>\n",
       "      <td>0</td>\n",
       "      <td>1</td>\n",
       "      <td>0</td>\n",
       "      <td>0</td>\n",
       "      <td>0</td>\n",
       "    </tr>\n",
       "    <tr>\n",
       "      <th>3</th>\n",
       "      <td>0</td>\n",
       "      <td>61</td>\n",
       "      <td>48.60</td>\n",
       "      <td>1</td>\n",
       "      <td>294</td>\n",
       "      <td>661.8</td>\n",
       "      <td>14</td>\n",
       "      <td>101.5</td>\n",
       "      <td>0</td>\n",
       "      <td>1</td>\n",
       "      <td>...</td>\n",
       "      <td>0</td>\n",
       "      <td>0</td>\n",
       "      <td>0</td>\n",
       "      <td>0</td>\n",
       "      <td>0</td>\n",
       "      <td>0</td>\n",
       "      <td>1</td>\n",
       "      <td>0</td>\n",
       "      <td>0</td>\n",
       "      <td>0</td>\n",
       "    </tr>\n",
       "    <tr>\n",
       "      <th>4</th>\n",
       "      <td>0</td>\n",
       "      <td>52</td>\n",
       "      <td>56.03</td>\n",
       "      <td>0</td>\n",
       "      <td>221</td>\n",
       "      <td>555.6</td>\n",
       "      <td>7</td>\n",
       "      <td>25.0</td>\n",
       "      <td>1</td>\n",
       "      <td>0</td>\n",
       "      <td>...</td>\n",
       "      <td>0</td>\n",
       "      <td>0</td>\n",
       "      <td>0</td>\n",
       "      <td>0</td>\n",
       "      <td>0</td>\n",
       "      <td>0</td>\n",
       "      <td>1</td>\n",
       "      <td>0</td>\n",
       "      <td>0</td>\n",
       "      <td>0</td>\n",
       "    </tr>\n",
       "  </tbody>\n",
       "</table>\n",
       "<p>5 rows × 32 columns</p>\n",
       "</div>"
      ],
      "text/plain": [
       "   CHURN  AGE  SERVICE_DURATION  DROPPED_CALLS  PEAK_CALLS_NO  \\\n",
       "0      0   31             33.33              6            218   \n",
       "1      0   27             30.87             10            373   \n",
       "2      0   27             49.40             11            260   \n",
       "3      0   61             48.60              1            294   \n",
       "4      0   52             56.03              0            221   \n",
       "\n",
       "   PEAK_CALLS_TIME  WEEKEND_CALLS_NO  WEEKEND_CALLS_TIME  GENDER_F  GENDER_M  \\\n",
       "0            379.8                 9                21.6         1         0   \n",
       "1            656.4                11                28.0         0         1   \n",
       "2            582.0                 0                 0.0         0         1   \n",
       "3            661.8                14               101.5         0         1   \n",
       "4            555.6                 7                25.0         1         0   \n",
       "\n",
       "   ...  HANDSET_S80  HANDSET_SOP10  HANDSET_SOP20  HANDSET_WC95  \\\n",
       "0  ...            0              0              0             0   \n",
       "1  ...            0              0              0             0   \n",
       "2  ...            0              0              0             0   \n",
       "3  ...            0              0              0             0   \n",
       "4  ...            0              0              0             0   \n",
       "\n",
       "   USAGE_BAND_High  USAGE_BAND_Low  USAGE_BAND_Med  USAGE_BAND_MedHigh  \\\n",
       "0                0               0               1                   0   \n",
       "1                0               0               1                   0   \n",
       "2                0               0               1                   0   \n",
       "3                0               0               1                   0   \n",
       "4                0               0               1                   0   \n",
       "\n",
       "   USAGE_BAND_MedLow  USAGE_BAND_None  \n",
       "0                  0                0  \n",
       "1                  0                0  \n",
       "2                  0                0  \n",
       "3                  0                0  \n",
       "4                  0                0  \n",
       "\n",
       "[5 rows x 32 columns]"
      ]
     },
     "execution_count": 44,
     "metadata": {},
     "output_type": "execute_result"
    }
   ],
   "source": [
    "df_dummy = pd.get_dummies(df)\n",
    "df_dummy.head()"
   ]
  },
  {
   "cell_type": "markdown",
   "id": "8f201fff",
   "metadata": {},
   "source": [
    "### 1.2 데이터 분리 및 분할"
   ]
  },
  {
   "cell_type": "markdown",
   "id": "a55a0805",
   "metadata": {},
   "source": [
    "- 데이터는 7:3 비율로 Training set, Test set으로 분리하였으며, 두 개의 unique 값을 갖는 목표변수 CHURN이 Training set, Test set에 같은 비율로 포함되게 하였다."
   ]
  },
  {
   "cell_type": "code",
   "execution_count": 45,
   "id": "8c540ebc",
   "metadata": {},
   "outputs": [
    {
     "name": "stdout",
     "output_type": "stream",
     "text": [
      "분할 전 설명변수 데이터 : (930, 31)\n",
      "분할 후 설명변수 데이터 :Train (651, 31)   Test (279, 31)\n"
     ]
    }
   ],
   "source": [
    "df_x = df_dummy.drop(columns = 'CHURN')\n",
    "df_y = df_dummy['CHURN']\n",
    "df_train_x, df_test_x, df_train_y, df_test_y = train_test_split(df_x, df_y, test_size = 0.3, random_state = 240307, stratify = df_y) \n",
    "print(\"분할 전 설명변수 데이터 :\", df_x.shape)\n",
    "print(\"분할 후 설명변수 데이터 :Train\", df_train_x.shape, \"  Test\",df_test_x.shape)"
   ]
  },
  {
   "cell_type": "markdown",
   "id": "eba1015f",
   "metadata": {},
   "source": [
    "## 2. 모델 생성"
   ]
  },
  {
   "cell_type": "code",
   "execution_count": 46,
   "id": "a132aceb",
   "metadata": {},
   "outputs": [
    {
     "name": "stdout",
     "output_type": "stream",
     "text": [
      "Accuracy on training set: 1.000\n",
      "Accuracy on test set: 0.900\n"
     ]
    }
   ],
   "source": [
    "rf_uncust = RandomForestClassifier(random_state=240307)\n",
    "rf_uncust.fit(df_train_x, df_train_y)\n",
    "\n",
    "print(\"Accuracy on training set: {:.3f}\".format(rf_uncust.score(df_train_x, df_train_y)))\n",
    "print(\"Accuracy on test set: {:.3f}\".format(rf_uncust.score(df_test_x, df_test_y)))"
   ]
  },
  {
   "cell_type": "code",
   "execution_count": 49,
   "id": "c8aac480",
   "metadata": {},
   "outputs": [
    {
     "name": "stdout",
     "output_type": "stream",
     "text": [
      "{'bootstrap': True, 'ccp_alpha': 0.0, 'class_weight': None, 'criterion': 'gini', 'max_depth': None, 'max_features': 'sqrt', 'max_leaf_nodes': None, 'max_samples': None, 'min_impurity_decrease': 0.0, 'min_samples_leaf': 1, 'min_samples_split': 2, 'min_weight_fraction_leaf': 0.0, 'n_estimators': 100, 'n_jobs': None, 'oob_score': False, 'random_state': 240307, 'verbose': 0, 'warm_start': False}\n"
     ]
    }
   ],
   "source": [
    "print(rf_uncust.get_params())"
   ]
  },
  {
   "cell_type": "markdown",
   "id": "59944614",
   "metadata": {},
   "source": [
    "- default 모델(파라미터를 조정하지 않은 모델)은 Training 데이터 셋에 대하여, 모두 100%에 가까운 예측 성공률을 나타냈으며, Test 데이터 셋에 대하여, 0에 대해서는 높은 예측률을 보였으나, 비교적 낮은 precision, recall, f1-score값을 통해 예측력이 미흡함을 알 수 있었다."
   ]
  },
  {
   "cell_type": "code",
   "execution_count": 50,
   "id": "d3f308ea",
   "metadata": {},
   "outputs": [
    {
     "name": "stdout",
     "output_type": "stream",
     "text": [
      "model2 Train 예측/분류 결과\n",
      "Accuracy: 1.000\n",
      "\n",
      "Confusion Matrix: \n",
      "[[525   0]\n",
      " [  0 126]] \n",
      "\n",
      "              precision    recall  f1-score   support\n",
      "\n",
      "           0      1.000     1.000     1.000       525\n",
      "           1      1.000     1.000     1.000       126\n",
      "\n",
      "    accuracy                          1.000       651\n",
      "   macro avg      1.000     1.000     1.000       651\n",
      "weighted avg      1.000     1.000     1.000       651\n",
      "\n",
      "----------------------------------------------------------------------\n",
      "model2 Test 예측/분류 결과\n",
      "Accuracy: 0.900\n",
      "\n",
      "Confusion Matrix: \n",
      "[[216   9]\n",
      " [ 19  35]] \n",
      "\n",
      "              precision    recall  f1-score   support\n",
      "\n",
      "           0      0.919     0.960     0.939       225\n",
      "           1      0.795     0.648     0.714        54\n",
      "\n",
      "    accuracy                          0.900       279\n",
      "   macro avg      0.857     0.804     0.827       279\n",
      "weighted avg      0.895     0.900     0.896       279\n",
      "\n"
     ]
    }
   ],
   "source": [
    "y_pred_rf_train = rf_uncust.predict(df_train_x)\n",
    "y_pred_rf_test = rf_uncust.predict(df_test_x)\n",
    "\n",
    "print(\"model2 Train 예측/분류 결과\")\n",
    "print(\"Accuracy: {0:.3f}\\n\".format(accuracy_score(df_train[\"CHURN\"], y_pred_rf_train)))\n",
    "print(\"Confusion Matrix: \\n{}\".format(confusion_matrix(df_train[\"CHURN\"],y_pred_rf_train)),\"\\n\")\n",
    "print(classification_report(df_train[\"CHURN\"], y_pred_rf_train, digits=3))\n",
    "\n",
    "print('-'*70)\n",
    "\n",
    "print(\"model2 Test 예측/분류 결과\")\n",
    "print(\"Accuracy: {0:.3f}\\n\".format(accuracy_score(df_test[\"CHURN\"], y_pred_rf_test)))\n",
    "print(\"Confusion Matrix: \\n{}\".format(confusion_matrix(df_test[\"CHURN\"],y_pred_rf_test)),\"\\n\")\n",
    "print(classification_report(df_test[\"CHURN\"], y_pred_rf_test, digits=3))"
   ]
  },
  {
   "cell_type": "markdown",
   "id": "fb385d56",
   "metadata": {},
   "source": [
    "## 3 모델 파라미터 조정"
   ]
  },
  {
   "cell_type": "markdown",
   "id": "78565ccd",
   "metadata": {},
   "source": [
    "### 3.1 n_estimator : 최대 깊이 변경에 따른 모델 성능\n",
    "- n_estimators가 80일 때, test Accuracy가 0.910으로 가장 높고, train Accuracy는 완벽히 잘 설명하고 있다. 이에 따라 max_depth를 10로 정하였다."
   ]
  },
  {
   "cell_type": "code",
   "execution_count": 51,
   "id": "2335a8e7",
   "metadata": {},
   "outputs": [],
   "source": [
    "train_accuracy = []; test_accuracy = []\n",
    "para_n_tree = [n_tree * 10 for n_tree in range(1, 16)]\n",
    "\n",
    "for v_n_estimators in para_n_tree:\n",
    "    rf = RandomForestClassifier(n_estimators = v_n_estimators, random_state = 240307)\n",
    "    rf.fit(df_train_x, df_train_y)\n",
    "    train_accuracy.append(rf.score(df_train_x, df_train_y))\n",
    "    test_accuracy.append(rf.score(df_test_x, df_test_y))\n",
    "\n",
    "df_accuracy_n = pd.DataFrame()\n",
    "df_accuracy_n[\"n_estimators\"] = para_n_tree\n",
    "df_accuracy_n[\"TrainAccuracy\"] = train_accuracy\n",
    "df_accuracy_n[\"TestAccuracy\"] = test_accuracy"
   ]
  },
  {
   "cell_type": "code",
   "execution_count": 53,
   "id": "4b745ccd",
   "metadata": {},
   "outputs": [
    {
     "data": {
      "text/html": [
       "<div>\n",
       "<style scoped>\n",
       "    .dataframe tbody tr th:only-of-type {\n",
       "        vertical-align: middle;\n",
       "    }\n",
       "\n",
       "    .dataframe tbody tr th {\n",
       "        vertical-align: top;\n",
       "    }\n",
       "\n",
       "    .dataframe thead th {\n",
       "        text-align: right;\n",
       "    }\n",
       "</style>\n",
       "<table border=\"1\" class=\"dataframe\">\n",
       "  <thead>\n",
       "    <tr style=\"text-align: right;\">\n",
       "      <th></th>\n",
       "      <th>n_estimators</th>\n",
       "      <th>TrainAccuracy</th>\n",
       "      <th>TestAccuracy</th>\n",
       "    </tr>\n",
       "  </thead>\n",
       "  <tbody>\n",
       "    <tr>\n",
       "      <th>0</th>\n",
       "      <td>10</td>\n",
       "      <td>0.986</td>\n",
       "      <td>0.892</td>\n",
       "    </tr>\n",
       "    <tr>\n",
       "      <th>1</th>\n",
       "      <td>20</td>\n",
       "      <td>0.995</td>\n",
       "      <td>0.892</td>\n",
       "    </tr>\n",
       "    <tr>\n",
       "      <th>2</th>\n",
       "      <td>30</td>\n",
       "      <td>1.000</td>\n",
       "      <td>0.889</td>\n",
       "    </tr>\n",
       "    <tr>\n",
       "      <th>3</th>\n",
       "      <td>40</td>\n",
       "      <td>1.000</td>\n",
       "      <td>0.885</td>\n",
       "    </tr>\n",
       "    <tr>\n",
       "      <th>4</th>\n",
       "      <td>50</td>\n",
       "      <td>1.000</td>\n",
       "      <td>0.900</td>\n",
       "    </tr>\n",
       "    <tr>\n",
       "      <th>5</th>\n",
       "      <td>60</td>\n",
       "      <td>1.000</td>\n",
       "      <td>0.896</td>\n",
       "    </tr>\n",
       "    <tr>\n",
       "      <th>6</th>\n",
       "      <td>70</td>\n",
       "      <td>1.000</td>\n",
       "      <td>0.907</td>\n",
       "    </tr>\n",
       "    <tr>\n",
       "      <th>7</th>\n",
       "      <td>80</td>\n",
       "      <td>1.000</td>\n",
       "      <td>0.910</td>\n",
       "    </tr>\n",
       "    <tr>\n",
       "      <th>8</th>\n",
       "      <td>90</td>\n",
       "      <td>1.000</td>\n",
       "      <td>0.910</td>\n",
       "    </tr>\n",
       "    <tr>\n",
       "      <th>9</th>\n",
       "      <td>100</td>\n",
       "      <td>1.000</td>\n",
       "      <td>0.907</td>\n",
       "    </tr>\n",
       "    <tr>\n",
       "      <th>10</th>\n",
       "      <td>110</td>\n",
       "      <td>1.000</td>\n",
       "      <td>0.907</td>\n",
       "    </tr>\n",
       "    <tr>\n",
       "      <th>11</th>\n",
       "      <td>120</td>\n",
       "      <td>1.000</td>\n",
       "      <td>0.910</td>\n",
       "    </tr>\n",
       "    <tr>\n",
       "      <th>12</th>\n",
       "      <td>130</td>\n",
       "      <td>1.000</td>\n",
       "      <td>0.914</td>\n",
       "    </tr>\n",
       "    <tr>\n",
       "      <th>13</th>\n",
       "      <td>140</td>\n",
       "      <td>1.000</td>\n",
       "      <td>0.914</td>\n",
       "    </tr>\n",
       "    <tr>\n",
       "      <th>14</th>\n",
       "      <td>150</td>\n",
       "      <td>1.000</td>\n",
       "      <td>0.910</td>\n",
       "    </tr>\n",
       "  </tbody>\n",
       "</table>\n",
       "</div>"
      ],
      "text/plain": [
       "    n_estimators  TrainAccuracy  TestAccuracy\n",
       "0             10          0.986         0.892\n",
       "1             20          0.995         0.892\n",
       "2             30          1.000         0.889\n",
       "3             40          1.000         0.885\n",
       "4             50          1.000         0.900\n",
       "5             60          1.000         0.896\n",
       "6             70          1.000         0.907\n",
       "7             80          1.000         0.910\n",
       "8             90          1.000         0.910\n",
       "9            100          1.000         0.907\n",
       "10           110          1.000         0.907\n",
       "11           120          1.000         0.910\n",
       "12           130          1.000         0.914\n",
       "13           140          1.000         0.914\n",
       "14           150          1.000         0.910"
      ]
     },
     "execution_count": 53,
     "metadata": {},
     "output_type": "execute_result"
    }
   ],
   "source": [
    "df_accuracy_n.round(3)"
   ]
  },
  {
   "cell_type": "markdown",
   "id": "d0cf237f",
   "metadata": {},
   "source": [
    "### 3.2 max_depth : 최대 깊이 변경에 따른 모델 성능\n",
    "- n_estimators가 80이고, depth가 10일 때, test Accuracy가 0.903로 가장 높고, train Accuracy 또한 충분히 잘 설명하고 있다. 이에 따라 max_depth를 10로 정하였다."
   ]
  },
  {
   "cell_type": "code",
   "execution_count": 61,
   "id": "0f3ef495",
   "metadata": {},
   "outputs": [],
   "source": [
    "train_accuracy = []; test_accuracy = []\n",
    "# max_depth: 최대 깊이 변경\n",
    "para_depth = [depth for depth in range(3, 11)]\n",
    "\n",
    "for v_max_depth in para_depth:\n",
    "    rf = RandomForestClassifier(max_depth = v_max_depth, n_estimators=80, random_state=240307)\n",
    "    rf.fit(df_train_x, df_train_y)\n",
    "    train_accuracy.append(rf.score(df_train_x, df_train_y))\n",
    "    test_accuracy.append(rf.score(df_test_x, df_test_y))\n",
    "\n",
    "# 데이터 테이블로 저장\n",
    "df_accuracy_depth = pd.DataFrame()\n",
    "df_accuracy_depth[\"Depth\"] = para_depth\n",
    "df_accuracy_depth[\"TrainAccuracy\"] = train_accuracy\n",
    "df_accuracy_depth[\"TestAccuracy\"] = test_accuracy"
   ]
  },
  {
   "cell_type": "code",
   "execution_count": 62,
   "id": "823ab4ff",
   "metadata": {},
   "outputs": [
    {
     "data": {
      "text/html": [
       "<div>\n",
       "<style scoped>\n",
       "    .dataframe tbody tr th:only-of-type {\n",
       "        vertical-align: middle;\n",
       "    }\n",
       "\n",
       "    .dataframe tbody tr th {\n",
       "        vertical-align: top;\n",
       "    }\n",
       "\n",
       "    .dataframe thead th {\n",
       "        text-align: right;\n",
       "    }\n",
       "</style>\n",
       "<table border=\"1\" class=\"dataframe\">\n",
       "  <thead>\n",
       "    <tr style=\"text-align: right;\">\n",
       "      <th></th>\n",
       "      <th>Depth</th>\n",
       "      <th>TrainAccuracy</th>\n",
       "      <th>TestAccuracy</th>\n",
       "    </tr>\n",
       "  </thead>\n",
       "  <tbody>\n",
       "    <tr>\n",
       "      <th>0</th>\n",
       "      <td>3</td>\n",
       "      <td>0.836</td>\n",
       "      <td>0.821</td>\n",
       "    </tr>\n",
       "    <tr>\n",
       "      <th>1</th>\n",
       "      <td>4</td>\n",
       "      <td>0.873</td>\n",
       "      <td>0.828</td>\n",
       "    </tr>\n",
       "    <tr>\n",
       "      <th>2</th>\n",
       "      <td>5</td>\n",
       "      <td>0.906</td>\n",
       "      <td>0.842</td>\n",
       "    </tr>\n",
       "    <tr>\n",
       "      <th>3</th>\n",
       "      <td>6</td>\n",
       "      <td>0.926</td>\n",
       "      <td>0.871</td>\n",
       "    </tr>\n",
       "    <tr>\n",
       "      <th>4</th>\n",
       "      <td>7</td>\n",
       "      <td>0.932</td>\n",
       "      <td>0.871</td>\n",
       "    </tr>\n",
       "    <tr>\n",
       "      <th>5</th>\n",
       "      <td>8</td>\n",
       "      <td>0.937</td>\n",
       "      <td>0.882</td>\n",
       "    </tr>\n",
       "    <tr>\n",
       "      <th>6</th>\n",
       "      <td>9</td>\n",
       "      <td>0.939</td>\n",
       "      <td>0.892</td>\n",
       "    </tr>\n",
       "    <tr>\n",
       "      <th>7</th>\n",
       "      <td>10</td>\n",
       "      <td>0.945</td>\n",
       "      <td>0.903</td>\n",
       "    </tr>\n",
       "  </tbody>\n",
       "</table>\n",
       "</div>"
      ],
      "text/plain": [
       "   Depth  TrainAccuracy  TestAccuracy\n",
       "0      3          0.836         0.821\n",
       "1      4          0.873         0.828\n",
       "2      5          0.906         0.842\n",
       "3      6          0.926         0.871\n",
       "4      7          0.932         0.871\n",
       "5      8          0.937         0.882\n",
       "6      9          0.939         0.892\n",
       "7     10          0.945         0.903"
      ]
     },
     "execution_count": 62,
     "metadata": {},
     "output_type": "execute_result"
    }
   ],
   "source": [
    "df_accuracy_depth.round(3)"
   ]
  },
  {
   "cell_type": "markdown",
   "id": "cc7cc6c8",
   "metadata": {},
   "source": [
    "### 3.3 MinSamplesLeaf : 조정에 따른 정확도 변화\n",
    "- n_estimators가 80이고, depth가 10, MinSamplesLeaf가 5일 때, test Accuracy가 0.903로 가장 높고, train Accuracy 또한 충분히 잘 설명하고 있다. 이에 따라 MinSamplesLeaf를 5로 정하였다."
   ]
  },
  {
   "cell_type": "code",
   "execution_count": 65,
   "id": "f68feb70",
   "metadata": {},
   "outputs": [],
   "source": [
    "train_accuracy = []; test_accuracy = []\n",
    "para_leaf = [n_leaf * 5 for n_leaf in range(1, 11)]\n",
    "\n",
    "for v_min_samples_leaf in para_leaf:\n",
    "    rf = RandomForestClassifier(min_samples_leaf = v_min_samples_leaf,\n",
    "                                max_depth=6, n_estimators=100, random_state=1234)\n",
    "    rf.fit(df_train_x, df_train_y)\n",
    "    train_accuracy.append(rf.score(df_train_x, df_train_y))\n",
    "    test_accuracy.append(rf.score(df_test_x, df_test_y))\n",
    "\n",
    "df_accuracy_leaf = pd.DataFrame()\n",
    "df_accuracy_leaf[\"MinSamplesLeaf\"] = para_leaf\n",
    "df_accuracy_leaf[\"TrainAccuracy\"] = train_accuracy\n",
    "df_accuracy_leaf[\"TestAccuracy\"] = test_accuracy"
   ]
  },
  {
   "cell_type": "code",
   "execution_count": 67,
   "id": "6d86c5e0",
   "metadata": {
    "scrolled": true
   },
   "outputs": [
    {
     "data": {
      "text/html": [
       "<div>\n",
       "<style scoped>\n",
       "    .dataframe tbody tr th:only-of-type {\n",
       "        vertical-align: middle;\n",
       "    }\n",
       "\n",
       "    .dataframe tbody tr th {\n",
       "        vertical-align: top;\n",
       "    }\n",
       "\n",
       "    .dataframe thead th {\n",
       "        text-align: right;\n",
       "    }\n",
       "</style>\n",
       "<table border=\"1\" class=\"dataframe\">\n",
       "  <thead>\n",
       "    <tr style=\"text-align: right;\">\n",
       "      <th></th>\n",
       "      <th>MinSamplesLeaf</th>\n",
       "      <th>TrainAccuracy</th>\n",
       "      <th>TestAccuracy</th>\n",
       "    </tr>\n",
       "  </thead>\n",
       "  <tbody>\n",
       "    <tr>\n",
       "      <th>0</th>\n",
       "      <td>5</td>\n",
       "      <td>0.888</td>\n",
       "      <td>0.864</td>\n",
       "    </tr>\n",
       "    <tr>\n",
       "      <th>1</th>\n",
       "      <td>10</td>\n",
       "      <td>0.874</td>\n",
       "      <td>0.832</td>\n",
       "    </tr>\n",
       "    <tr>\n",
       "      <th>2</th>\n",
       "      <td>15</td>\n",
       "      <td>0.820</td>\n",
       "      <td>0.806</td>\n",
       "    </tr>\n",
       "    <tr>\n",
       "      <th>3</th>\n",
       "      <td>20</td>\n",
       "      <td>0.806</td>\n",
       "      <td>0.806</td>\n",
       "    </tr>\n",
       "    <tr>\n",
       "      <th>4</th>\n",
       "      <td>25</td>\n",
       "      <td>0.806</td>\n",
       "      <td>0.806</td>\n",
       "    </tr>\n",
       "    <tr>\n",
       "      <th>5</th>\n",
       "      <td>30</td>\n",
       "      <td>0.806</td>\n",
       "      <td>0.806</td>\n",
       "    </tr>\n",
       "    <tr>\n",
       "      <th>6</th>\n",
       "      <td>35</td>\n",
       "      <td>0.806</td>\n",
       "      <td>0.806</td>\n",
       "    </tr>\n",
       "    <tr>\n",
       "      <th>7</th>\n",
       "      <td>40</td>\n",
       "      <td>0.806</td>\n",
       "      <td>0.806</td>\n",
       "    </tr>\n",
       "    <tr>\n",
       "      <th>8</th>\n",
       "      <td>45</td>\n",
       "      <td>0.806</td>\n",
       "      <td>0.806</td>\n",
       "    </tr>\n",
       "    <tr>\n",
       "      <th>9</th>\n",
       "      <td>50</td>\n",
       "      <td>0.806</td>\n",
       "      <td>0.806</td>\n",
       "    </tr>\n",
       "  </tbody>\n",
       "</table>\n",
       "</div>"
      ],
      "text/plain": [
       "   MinSamplesLeaf  TrainAccuracy  TestAccuracy\n",
       "0               5          0.888         0.864\n",
       "1              10          0.874         0.832\n",
       "2              15          0.820         0.806\n",
       "3              20          0.806         0.806\n",
       "4              25          0.806         0.806\n",
       "5              30          0.806         0.806\n",
       "6              35          0.806         0.806\n",
       "7              40          0.806         0.806\n",
       "8              45          0.806         0.806\n",
       "9              50          0.806         0.806"
      ]
     },
     "execution_count": 67,
     "metadata": {},
     "output_type": "execute_result"
    }
   ],
   "source": [
    "df_accuracy_leaf.round(3)"
   ]
  },
  {
   "cell_type": "markdown",
   "id": "2d1a0841",
   "metadata": {},
   "source": [
    "## 4. 결론"
   ]
  },
  {
   "cell_type": "markdown",
   "id": "f07619d4",
   "metadata": {},
   "source": [
    "- 파라미터를 조정한 모델보다 파라미터를 조절하지 않는 default모델이 0, 1에 대해 더 예측 성능이 좋았음을 확인할 수 있다.\n",
    "- 이는 파라미터 조정 범위가 잘못되었거나, 파라미터들의 조합이 잘못되었을 수 있을 것이다."
   ]
  },
  {
   "cell_type": "code",
   "execution_count": 68,
   "id": "fee34d65",
   "metadata": {},
   "outputs": [
    {
     "name": "stdout",
     "output_type": "stream",
     "text": [
      "Accuracy on training set: 0.914\n",
      "Accuracy on test set: 0.900\n",
      "\n",
      "Confusion matrix: \n",
      "[[217   8]\n",
      " [ 20  34]]\n",
      "              precision    recall  f1-score   support\n",
      "\n",
      "           0      0.916     0.964     0.939       225\n",
      "           1      0.810     0.630     0.708        54\n",
      "\n",
      "    accuracy                          0.900       279\n",
      "   macro avg      0.863     0.797     0.824       279\n",
      "weighted avg      0.895     0.900     0.895       279\n",
      "\n"
     ]
    }
   ],
   "source": [
    "rf_final = RandomForestClassifier(min_samples_leaf=5, max_depth=10, n_estimators=80,\n",
    "                                  random_state=240307)\n",
    "rf_final.fit(df_train_x, df_train_y)\n",
    "y_pred = rf_final.predict(df_test_x)\n",
    "\n",
    "print(\"Accuracy on training set: {:.3f}\".format(rf_final.score(df_train_x, df_train_y)))\n",
    "print(\"Accuracy on test set: {:.3f}\\n\".format(rf_final.score(df_test_x, df_test_y)))\n",
    "print(\"Confusion matrix: \\n{}\".format(confusion_matrix(df_test_y, y_pred)))\n",
    "print(classification_report(df_test_y, y_pred, digits=3))"
   ]
  },
  {
   "cell_type": "markdown",
   "id": "48065f7e",
   "metadata": {},
   "source": [
    "- 의사결정나무의 생성시 HANDSET_ASAD90, DROPPED_CALLS순으로 중요한 것을 확인할 수 있다.   \n",
    "변수 중요도가 낮거나 0인 경우의 변수는 의사결정나무의 분기와 전혀 관련없는 변수일 수 있으나, 데이터 셋이 다르게 분할됨에 따라 변수 중요도는 다르게 나타날 수 있다."
   ]
  },
  {
   "cell_type": "code",
   "execution_count": 73,
   "id": "e3653156",
   "metadata": {},
   "outputs": [
    {
     "data": {
      "text/html": [
       "<div>\n",
       "<style scoped>\n",
       "    .dataframe tbody tr th:only-of-type {\n",
       "        vertical-align: middle;\n",
       "    }\n",
       "\n",
       "    .dataframe tbody tr th {\n",
       "        vertical-align: top;\n",
       "    }\n",
       "\n",
       "    .dataframe thead th {\n",
       "        text-align: right;\n",
       "    }\n",
       "</style>\n",
       "<table border=\"1\" class=\"dataframe\">\n",
       "  <thead>\n",
       "    <tr style=\"text-align: right;\">\n",
       "      <th></th>\n",
       "      <th>Feature</th>\n",
       "      <th>Importance</th>\n",
       "    </tr>\n",
       "  </thead>\n",
       "  <tbody>\n",
       "    <tr>\n",
       "      <th>15</th>\n",
       "      <td>HANDSET_ASAD90</td>\n",
       "      <td>0.127</td>\n",
       "    </tr>\n",
       "    <tr>\n",
       "      <th>2</th>\n",
       "      <td>DROPPED_CALLS</td>\n",
       "      <td>0.114</td>\n",
       "    </tr>\n",
       "    <tr>\n",
       "      <th>4</th>\n",
       "      <td>PEAK_CALLS_TIME</td>\n",
       "      <td>0.092</td>\n",
       "    </tr>\n",
       "    <tr>\n",
       "      <th>3</th>\n",
       "      <td>PEAK_CALLS_NO</td>\n",
       "      <td>0.082</td>\n",
       "    </tr>\n",
       "    <tr>\n",
       "      <th>0</th>\n",
       "      <td>AGE</td>\n",
       "      <td>0.082</td>\n",
       "    </tr>\n",
       "    <tr>\n",
       "      <th>1</th>\n",
       "      <td>SERVICE_DURATION</td>\n",
       "      <td>0.081</td>\n",
       "    </tr>\n",
       "    <tr>\n",
       "      <th>6</th>\n",
       "      <td>WEEKEND_CALLS_TIME</td>\n",
       "      <td>0.068</td>\n",
       "    </tr>\n",
       "    <tr>\n",
       "      <th>18</th>\n",
       "      <td>HANDSET_CAS30</td>\n",
       "      <td>0.060</td>\n",
       "    </tr>\n",
       "    <tr>\n",
       "      <th>5</th>\n",
       "      <td>WEEKEND_CALLS_NO</td>\n",
       "      <td>0.052</td>\n",
       "    </tr>\n",
       "    <tr>\n",
       "      <th>20</th>\n",
       "      <td>HANDSET_S50</td>\n",
       "      <td>0.022</td>\n",
       "    </tr>\n",
       "  </tbody>\n",
       "</table>\n",
       "</div>"
      ],
      "text/plain": [
       "               Feature  Importance\n",
       "15      HANDSET_ASAD90       0.127\n",
       "2        DROPPED_CALLS       0.114\n",
       "4      PEAK_CALLS_TIME       0.092\n",
       "3        PEAK_CALLS_NO       0.082\n",
       "0                  AGE       0.082\n",
       "1     SERVICE_DURATION       0.081\n",
       "6   WEEKEND_CALLS_TIME       0.068\n",
       "18       HANDSET_CAS30       0.060\n",
       "5     WEEKEND_CALLS_NO       0.052\n",
       "20         HANDSET_S50       0.022"
      ]
     },
     "execution_count": 73,
     "metadata": {},
     "output_type": "execute_result"
    }
   ],
   "source": [
    "v_feature_names = df_train_x.columns\n",
    "df_importance = pd.DataFrame()\n",
    "df_importance [\"Feature\"] = v_feature_names\n",
    "df_importance [\"Importance\"] = rf_uncust .feature_importances_\n",
    "df_importance .sort_values(\"Importance\", ascending=False, inplace = True)\n",
    "df_importance .round(3).head(10)"
   ]
  },
  {
   "cell_type": "code",
   "execution_count": 74,
   "id": "c285e91f",
   "metadata": {},
   "outputs": [
    {
     "data": {
      "text/plain": [
       "Text(0, 0.5, '설명변수')"
      ]
     },
     "execution_count": 74,
     "metadata": {},
     "output_type": "execute_result"
    },
    {
     "data": {
      "image/png": "[encoded data removed]",
      "text/plain": [
       "<Figure size 640x480 with 1 Axes>"
      ]
     },
     "metadata": {},
     "output_type": "display_data"
    }
   ],
   "source": [
    "df_importance .sort_values(\"Importance\", ascending=True, inplace = True)\n",
    "coordinates = range(len(df_importance ))\n",
    "plt.barh(y = coordinates, width = df_importance [\"Importance\"])\n",
    "plt.yticks(coordinates, df_importance [\"Feature\"])\n",
    "plt.xlabel(\"설명변수 중요도\")\n",
    "plt.ylabel(\"설명변수\")"
   ]
  },
  {
   "cell_type": "code",
   "execution_count": null,
   "id": "0b8d7c00",
   "metadata": {},
   "outputs": [],
   "source": []
  }
 ],
 "metadata": {
  "kernelspec": {
   "display_name": "Python 3 (ipykernel)",
   "language": "python",
   "name": "python3"
  },
  "language_info": {
   "codemirror_mode": {
    "name": "ipython",
    "version": 3
   },
   "file_extension": ".py",
   "mimetype": "text/x-python",
   "name": "python",
   "nbconvert_exporter": "python",
   "pygments_lexer": "ipython3",
   "version": "3.10.9"
  }
 },
 "nbformat": 4,
 "nbformat_minor": 5
}
