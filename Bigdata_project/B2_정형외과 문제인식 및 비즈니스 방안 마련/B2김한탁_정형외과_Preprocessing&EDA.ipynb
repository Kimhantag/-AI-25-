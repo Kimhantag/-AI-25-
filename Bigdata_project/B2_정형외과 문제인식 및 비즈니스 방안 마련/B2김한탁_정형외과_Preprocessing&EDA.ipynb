{
 "cells": [
  {
   "cell_type": "markdown",
   "id": "2dff1021",
   "metadata": {},
   "source": [
    "# *필요 라이브러리"
   ]
  },
  {
   "cell_type": "code",
   "execution_count": 1,
   "id": "7cbc74ff",
   "metadata": {},
   "outputs": [],
   "source": [
    "#필요 라이브러리, 패키지 불러오기\n",
    "import pandas as pd\n",
    "import seaborn as sns\n",
    "import matplotlib\n",
    "from sklearn.cluster import KMeans\n",
    "import matplotlib.pyplot as plt\n",
    "from sklearn.preprocessing import StandardScaler\n",
    "from sklearn.decomposition import PCA\n",
    "import numpy as np\n",
    "from mpl_toolkits.mplot3d import Axes3D\n",
    "from sklearn.metrics import silhouette_score\n",
    "from scipy.stats import chi2_contingency"
   ]
  },
  {
   "cell_type": "code",
   "execution_count": 2,
   "id": "7c9e09e6",
   "metadata": {},
   "outputs": [],
   "source": [
    "#python에서 이상한 문자 나올 때 warnings import 하여 방지하기\n",
    "import warnings\n",
    "warnings.filterwarnings('ignore')\n",
    "#plot 환경설정\n",
    "import matplotlib.pyplot as plt\n",
    "plt.rcParams['font.family'] = 'NanumGothic'\n",
    "%matplotlib inline\n",
    "#음수 표시\n",
    "matplotlib.rc('axes', unicode_minus=False)"
   ]
  },
  {
   "cell_type": "markdown",
   "id": "4e9eb7ee-3efc-4964-83b3-e9a6b8d327d8",
   "metadata": {},
   "source": [
    "# 1. 데이터 불러오기 및 병합"
   ]
  },
  {
   "cell_type": "code",
   "execution_count": 3,
   "id": "e66f137c",
   "metadata": {},
   "outputs": [
    {
     "data": {
      "text/html": [
       "<div>\n",
       "<style scoped>\n",
       "    .dataframe tbody tr th:only-of-type {\n",
       "        vertical-align: middle;\n",
       "    }\n",
       "\n",
       "    .dataframe tbody tr th {\n",
       "        vertical-align: top;\n",
       "    }\n",
       "\n",
       "    .dataframe thead th {\n",
       "        text-align: right;\n",
       "    }\n",
       "</style>\n",
       "<table border=\"1\" class=\"dataframe\">\n",
       "  <thead>\n",
       "    <tr style=\"text-align: right;\">\n",
       "      <th></th>\n",
       "      <th>환자ID</th>\n",
       "      <th>수술기법</th>\n",
       "      <th>수술시간</th>\n",
       "      <th>수술실패여부</th>\n",
       "      <th>신장</th>\n",
       "      <th>연령</th>\n",
       "      <th>재발여부</th>\n",
       "      <th>체중</th>\n",
       "      <th>헤모글로빈수치</th>\n",
       "      <th>환자통증정도</th>\n",
       "      <th>통증기간(월)</th>\n",
       "      <th>혈액형</th>\n",
       "      <th>입원일</th>\n",
       "      <th>퇴원일</th>\n",
       "      <th>수술일</th>\n",
       "    </tr>\n",
       "  </thead>\n",
       "  <tbody>\n",
       "    <tr>\n",
       "      <th>0</th>\n",
       "      <td>1052PT</td>\n",
       "      <td>TELD</td>\n",
       "      <td>30.0</td>\n",
       "      <td>0</td>\n",
       "      <td>174</td>\n",
       "      <td>34</td>\n",
       "      <td>0</td>\n",
       "      <td>75.0</td>\n",
       "      <td>15.1</td>\n",
       "      <td>7</td>\n",
       "      <td>0.2</td>\n",
       "      <td>RH+O</td>\n",
       "      <td>2012-04-01</td>\n",
       "      <td>2012-04-02</td>\n",
       "      <td>2012-04-02</td>\n",
       "    </tr>\n",
       "    <tr>\n",
       "      <th>1</th>\n",
       "      <td>1056PT</td>\n",
       "      <td>TELD</td>\n",
       "      <td>70.0</td>\n",
       "      <td>0</td>\n",
       "      <td>172</td>\n",
       "      <td>19</td>\n",
       "      <td>0</td>\n",
       "      <td>70.0</td>\n",
       "      <td>16.0</td>\n",
       "      <td>7</td>\n",
       "      <td>5.0</td>\n",
       "      <td>RH+O</td>\n",
       "      <td>2012-04-08</td>\n",
       "      <td>2012-04-11</td>\n",
       "      <td>2012-04-09</td>\n",
       "    </tr>\n",
       "    <tr>\n",
       "      <th>2</th>\n",
       "      <td>1093PT</td>\n",
       "      <td>TELD</td>\n",
       "      <td>45.0</td>\n",
       "      <td>0</td>\n",
       "      <td>177</td>\n",
       "      <td>28</td>\n",
       "      <td>0</td>\n",
       "      <td>68.0</td>\n",
       "      <td>15.0</td>\n",
       "      <td>5</td>\n",
       "      <td>24.0</td>\n",
       "      <td>RH+A</td>\n",
       "      <td>2012-05-14</td>\n",
       "      <td>2012-05-14</td>\n",
       "      <td>2012-05-14</td>\n",
       "    </tr>\n",
       "  </tbody>\n",
       "</table>\n",
       "</div>"
      ],
      "text/plain": [
       "     환자ID  수술기법  수술시간  수술실패여부   신장  연령  재발여부    체중  헤모글로빈수치  환자통증정도  통증기간(월)  \\\n",
       "0  1052PT  TELD  30.0       0  174  34     0  75.0     15.1       7      0.2   \n",
       "1  1056PT  TELD  70.0       0  172  19     0  70.0     16.0       7      5.0   \n",
       "2  1093PT  TELD  45.0       0  177  28     0  68.0     15.0       5     24.0   \n",
       "\n",
       "    혈액형         입원일         퇴원일         수술일  \n",
       "0  RH+O  2012-04-01  2012-04-02  2012-04-02  \n",
       "1  RH+O  2012-04-08  2012-04-11  2012-04-09  \n",
       "2  RH+A  2012-05-14  2012-05-14  2012-05-14  "
      ]
     },
     "execution_count": 3,
     "metadata": {},
     "output_type": "execute_result"
    }
   ],
   "source": [
    "df1 = pd.read_csv('01 Patient_Surgery_Data.csv')\n",
    "df1.head(3)"
   ]
  },
  {
   "cell_type": "code",
   "execution_count": 4,
   "id": "222cb764",
   "metadata": {},
   "outputs": [
    {
     "data": {
      "text/html": [
       "<div>\n",
       "<style scoped>\n",
       "    .dataframe tbody tr th:only-of-type {\n",
       "        vertical-align: middle;\n",
       "    }\n",
       "\n",
       "    .dataframe tbody tr th {\n",
       "        vertical-align: top;\n",
       "    }\n",
       "\n",
       "    .dataframe thead th {\n",
       "        text-align: right;\n",
       "    }\n",
       "</style>\n",
       "<table border=\"1\" class=\"dataframe\">\n",
       "  <thead>\n",
       "    <tr style=\"text-align: right;\">\n",
       "      <th></th>\n",
       "      <th>환자ID</th>\n",
       "      <th>Large Lymphocyte</th>\n",
       "      <th>Location of herniation</th>\n",
       "      <th>ODI</th>\n",
       "      <th>가족력</th>\n",
       "      <th>간질성폐질환</th>\n",
       "      <th>고혈압여부</th>\n",
       "      <th>과거수술횟수</th>\n",
       "      <th>당뇨여부</th>\n",
       "      <th>말초동맥질환여부</th>\n",
       "      <th>...</th>\n",
       "      <th>종양진행여부</th>\n",
       "      <th>직업</th>\n",
       "      <th>체중</th>\n",
       "      <th>헤모글로빈수치</th>\n",
       "      <th>혈전합병증여부</th>\n",
       "      <th>환자통증정도</th>\n",
       "      <th>흡연여부</th>\n",
       "      <th>통증기간(월)</th>\n",
       "      <th>입원일</th>\n",
       "      <th>퇴원일</th>\n",
       "    </tr>\n",
       "  </thead>\n",
       "  <tbody>\n",
       "    <tr>\n",
       "      <th>0</th>\n",
       "      <td>1052PT</td>\n",
       "      <td>10.5</td>\n",
       "      <td>2</td>\n",
       "      <td>44.0</td>\n",
       "      <td>0.0</td>\n",
       "      <td>0</td>\n",
       "      <td>0</td>\n",
       "      <td>0</td>\n",
       "      <td>0</td>\n",
       "      <td>0</td>\n",
       "      <td>...</td>\n",
       "      <td>0</td>\n",
       "      <td>사무직</td>\n",
       "      <td>75.0</td>\n",
       "      <td>15.1</td>\n",
       "      <td>0</td>\n",
       "      <td>7</td>\n",
       "      <td>1</td>\n",
       "      <td>0.2</td>\n",
       "      <td>2012-04-01</td>\n",
       "      <td>2012-04-02</td>\n",
       "    </tr>\n",
       "    <tr>\n",
       "      <th>1</th>\n",
       "      <td>1056PT</td>\n",
       "      <td>46.7</td>\n",
       "      <td>3</td>\n",
       "      <td>21.0</td>\n",
       "      <td>1.0</td>\n",
       "      <td>0</td>\n",
       "      <td>0</td>\n",
       "      <td>0</td>\n",
       "      <td>0</td>\n",
       "      <td>0</td>\n",
       "      <td>...</td>\n",
       "      <td>0</td>\n",
       "      <td>군인</td>\n",
       "      <td>70.0</td>\n",
       "      <td>16.0</td>\n",
       "      <td>0</td>\n",
       "      <td>7</td>\n",
       "      <td>0</td>\n",
       "      <td>5.0</td>\n",
       "      <td>2012-04-08</td>\n",
       "      <td>2012-04-11</td>\n",
       "    </tr>\n",
       "    <tr>\n",
       "      <th>2</th>\n",
       "      <td>1093PT</td>\n",
       "      <td>30.1</td>\n",
       "      <td>3</td>\n",
       "      <td>13.0</td>\n",
       "      <td>0.0</td>\n",
       "      <td>0</td>\n",
       "      <td>0</td>\n",
       "      <td>0</td>\n",
       "      <td>0</td>\n",
       "      <td>0</td>\n",
       "      <td>...</td>\n",
       "      <td>0</td>\n",
       "      <td>NaN</td>\n",
       "      <td>68.0</td>\n",
       "      <td>15.0</td>\n",
       "      <td>0</td>\n",
       "      <td>5</td>\n",
       "      <td>0</td>\n",
       "      <td>24.0</td>\n",
       "      <td>2012-05-14</td>\n",
       "      <td>2012-05-14</td>\n",
       "    </tr>\n",
       "  </tbody>\n",
       "</table>\n",
       "<p>3 rows × 30 columns</p>\n",
       "</div>"
      ],
      "text/plain": [
       "     환자ID  Large Lymphocyte  Location of herniation   ODI  가족력  간질성폐질환  고혈압여부  \\\n",
       "0  1052PT              10.5                       2  44.0  0.0       0      0   \n",
       "1  1056PT              46.7                       3  21.0  1.0       0      0   \n",
       "2  1093PT              30.1                       3  13.0  0.0       0      0   \n",
       "\n",
       "   과거수술횟수  당뇨여부  말초동맥질환여부  ...  종양진행여부   직업    체중  헤모글로빈수치  혈전합병증여부  환자통증정도  \\\n",
       "0       0     0         0  ...       0  사무직  75.0     15.1        0       7   \n",
       "1       0     0         0  ...       0   군인  70.0     16.0        0       7   \n",
       "2       0     0         0  ...       0  NaN  68.0     15.0        0       5   \n",
       "\n",
       "   흡연여부  통증기간(월)         입원일         퇴원일  \n",
       "0     1      0.2  2012-04-01  2012-04-02  \n",
       "1     0      5.0  2012-04-08  2012-04-11  \n",
       "2     0     24.0  2012-05-14  2012-05-14  \n",
       "\n",
       "[3 rows x 30 columns]"
      ]
     },
     "execution_count": 4,
     "metadata": {},
     "output_type": "execute_result"
    }
   ],
   "source": [
    "df2 = pd.read_csv('02 Patient_Diagnosis_Data.csv')\n",
    "df2.head(3)"
   ]
  },
  {
   "cell_type": "code",
   "execution_count": 5,
   "id": "6413ac78",
   "metadata": {},
   "outputs": [
    {
     "data": {
      "text/html": [
       "<div>\n",
       "<style scoped>\n",
       "    .dataframe tbody tr th:only-of-type {\n",
       "        vertical-align: middle;\n",
       "    }\n",
       "\n",
       "    .dataframe tbody tr th {\n",
       "        vertical-align: top;\n",
       "    }\n",
       "\n",
       "    .dataframe thead th {\n",
       "        text-align: right;\n",
       "    }\n",
       "</style>\n",
       "<table border=\"1\" class=\"dataframe\">\n",
       "  <thead>\n",
       "    <tr style=\"text-align: right;\">\n",
       "      <th></th>\n",
       "      <th>환자ID</th>\n",
       "      <th>전방디스크높이(mm)</th>\n",
       "      <th>후방디스크높이(mm)</th>\n",
       "      <th>지방축적도</th>\n",
       "      <th>Instability</th>\n",
       "      <th>MF + ES</th>\n",
       "      <th>Modic change</th>\n",
       "      <th>PI</th>\n",
       "      <th>PT</th>\n",
       "      <th>Seg Angle(raw)</th>\n",
       "      <th>Vaccum disc</th>\n",
       "      <th>골밀도</th>\n",
       "      <th>디스크단면적</th>\n",
       "      <th>디스크위치</th>\n",
       "      <th>척추이동척도</th>\n",
       "      <th>척추전방위증</th>\n",
       "    </tr>\n",
       "  </thead>\n",
       "  <tbody>\n",
       "    <tr>\n",
       "      <th>0</th>\n",
       "      <td>1PT</td>\n",
       "      <td>16.1</td>\n",
       "      <td>12.3</td>\n",
       "      <td>282.3</td>\n",
       "      <td>0</td>\n",
       "      <td>1824.6</td>\n",
       "      <td>3</td>\n",
       "      <td>51.6</td>\n",
       "      <td>36.6</td>\n",
       "      <td>14.4</td>\n",
       "      <td>0</td>\n",
       "      <td>-1.01</td>\n",
       "      <td>2048.5</td>\n",
       "      <td>4</td>\n",
       "      <td>Down</td>\n",
       "      <td>0</td>\n",
       "    </tr>\n",
       "    <tr>\n",
       "      <th>1</th>\n",
       "      <td>2PT</td>\n",
       "      <td>13.7</td>\n",
       "      <td>6.4</td>\n",
       "      <td>177.3</td>\n",
       "      <td>0</td>\n",
       "      <td>1737.5</td>\n",
       "      <td>0</td>\n",
       "      <td>40.8</td>\n",
       "      <td>7.2</td>\n",
       "      <td>17.8</td>\n",
       "      <td>0</td>\n",
       "      <td>-1.14</td>\n",
       "      <td>1753.1</td>\n",
       "      <td>4</td>\n",
       "      <td>Up</td>\n",
       "      <td>0</td>\n",
       "    </tr>\n",
       "    <tr>\n",
       "      <th>2</th>\n",
       "      <td>3PT</td>\n",
       "      <td>13.6</td>\n",
       "      <td>7.4</td>\n",
       "      <td>256.8</td>\n",
       "      <td>0</td>\n",
       "      <td>1188.5</td>\n",
       "      <td>0</td>\n",
       "      <td>67.5</td>\n",
       "      <td>27.3</td>\n",
       "      <td>10.2</td>\n",
       "      <td>0</td>\n",
       "      <td>-1.77</td>\n",
       "      <td>1749.0</td>\n",
       "      <td>4</td>\n",
       "      <td>Down</td>\n",
       "      <td>0</td>\n",
       "    </tr>\n",
       "  </tbody>\n",
       "</table>\n",
       "</div>"
      ],
      "text/plain": [
       "  환자ID  전방디스크높이(mm)  후방디스크높이(mm)  지방축적도  Instability  MF + ES  Modic change  \\\n",
       "0  1PT         16.1         12.3  282.3            0   1824.6             3   \n",
       "1  2PT         13.7          6.4  177.3            0   1737.5             0   \n",
       "2  3PT         13.6          7.4  256.8            0   1188.5             0   \n",
       "\n",
       "     PI    PT  Seg Angle(raw)  Vaccum disc   골밀도  디스크단면적  디스크위치 척추이동척도  척추전방위증  \n",
       "0  51.6  36.6            14.4            0 -1.01  2048.5      4   Down       0  \n",
       "1  40.8   7.2            17.8            0 -1.14  1753.1      4     Up       0  \n",
       "2  67.5  27.3            10.2            0 -1.77  1749.0      4   Down       0  "
      ]
     },
     "execution_count": 5,
     "metadata": {},
     "output_type": "execute_result"
    }
   ],
   "source": [
    "df3 = pd.read_csv('03 Medical_Image_Data.csv')\n",
    "df3.head(3)"
   ]
  },
  {
   "cell_type": "code",
   "execution_count": 6,
   "id": "6abdaf18-c4b9-4cff-bb64-fb7edd2de369",
   "metadata": {},
   "outputs": [
    {
     "data": {
      "text/plain": [
       "Index(['환자ID', '수술기법', '수술시간', '수술실패여부', '신장', '연령', '재발여부', '체중', '헤모글로빈수치',\n",
       "       '환자통증정도', '통증기간(월)', '혈액형', '입원일', '퇴원일', '수술일'],\n",
       "      dtype='object')"
      ]
     },
     "execution_count": 6,
     "metadata": {},
     "output_type": "execute_result"
    }
   ],
   "source": [
    "df1.columns"
   ]
  },
  {
   "cell_type": "code",
   "execution_count": 7,
   "id": "972c022d-c1f4-412a-9e45-c064bdd96d81",
   "metadata": {},
   "outputs": [
    {
     "data": {
      "text/plain": [
       "Index(['환자ID', 'Large Lymphocyte', 'Location of herniation', 'ODI', '가족력',\n",
       "       '간질성폐질환', '고혈압여부', '과거수술횟수', '당뇨여부', '말초동맥질환여부', '빈혈여부', '성별',\n",
       "       '스테로이드치료', '신부전여부', '신장', '심혈관질환', '암발병여부', '연령', '우울증여부', '입원기간',\n",
       "       '종양진행여부', '직업', '체중', '헤모글로빈수치', '혈전합병증여부', '환자통증정도', '흡연여부', '통증기간(월)',\n",
       "       '입원일', '퇴원일'],\n",
       "      dtype='object')"
      ]
     },
     "execution_count": 7,
     "metadata": {},
     "output_type": "execute_result"
    }
   ],
   "source": [
    "df2.columns"
   ]
  },
  {
   "cell_type": "code",
   "execution_count": 8,
   "id": "bedea1e2",
   "metadata": {},
   "outputs": [
    {
     "data": {
      "text/plain": [
       "Index(['환자ID', '전방디스크높이(mm)', '후방디스크높이(mm)', '지방축적도', 'Instability', 'MF + ES',\n",
       "       'Modic change', 'PI', 'PT', 'Seg Angle(raw)', 'Vaccum disc', '골밀도',\n",
       "       '디스크단면적', '디스크위치', '척추이동척도', '척추전방위증'],\n",
       "      dtype='object')"
      ]
     },
     "execution_count": 8,
     "metadata": {},
     "output_type": "execute_result"
    }
   ],
   "source": [
    "df3.columns"
   ]
  },
  {
   "cell_type": "code",
   "execution_count": 9,
   "id": "5452405a",
   "metadata": {},
   "outputs": [
    {
     "data": {
      "text/html": [
       "<div>\n",
       "<style scoped>\n",
       "    .dataframe tbody tr th:only-of-type {\n",
       "        vertical-align: middle;\n",
       "    }\n",
       "\n",
       "    .dataframe tbody tr th {\n",
       "        vertical-align: top;\n",
       "    }\n",
       "\n",
       "    .dataframe thead th {\n",
       "        text-align: right;\n",
       "    }\n",
       "</style>\n",
       "<table border=\"1\" class=\"dataframe\">\n",
       "  <thead>\n",
       "    <tr style=\"text-align: right;\">\n",
       "      <th></th>\n",
       "      <th>환자ID</th>\n",
       "      <th>수술기법</th>\n",
       "      <th>수술시간</th>\n",
       "      <th>수술실패여부</th>\n",
       "      <th>신장</th>\n",
       "      <th>연령</th>\n",
       "      <th>재발여부</th>\n",
       "      <th>체중</th>\n",
       "      <th>헤모글로빈수치</th>\n",
       "      <th>환자통증정도</th>\n",
       "      <th>...</th>\n",
       "      <th>스테로이드치료</th>\n",
       "      <th>신부전여부</th>\n",
       "      <th>심혈관질환</th>\n",
       "      <th>암발병여부</th>\n",
       "      <th>우울증여부</th>\n",
       "      <th>입원기간</th>\n",
       "      <th>종양진행여부</th>\n",
       "      <th>직업</th>\n",
       "      <th>혈전합병증여부</th>\n",
       "      <th>흡연여부</th>\n",
       "    </tr>\n",
       "  </thead>\n",
       "  <tbody>\n",
       "    <tr>\n",
       "      <th>0</th>\n",
       "      <td>1052PT</td>\n",
       "      <td>TELD</td>\n",
       "      <td>30.0</td>\n",
       "      <td>0</td>\n",
       "      <td>174</td>\n",
       "      <td>34</td>\n",
       "      <td>0</td>\n",
       "      <td>75.0</td>\n",
       "      <td>15.1</td>\n",
       "      <td>7</td>\n",
       "      <td>...</td>\n",
       "      <td>0</td>\n",
       "      <td>0</td>\n",
       "      <td>0</td>\n",
       "      <td>0</td>\n",
       "      <td>0</td>\n",
       "      <td>1</td>\n",
       "      <td>0</td>\n",
       "      <td>사무직</td>\n",
       "      <td>0</td>\n",
       "      <td>1</td>\n",
       "    </tr>\n",
       "    <tr>\n",
       "      <th>1</th>\n",
       "      <td>1056PT</td>\n",
       "      <td>TELD</td>\n",
       "      <td>70.0</td>\n",
       "      <td>0</td>\n",
       "      <td>172</td>\n",
       "      <td>19</td>\n",
       "      <td>0</td>\n",
       "      <td>70.0</td>\n",
       "      <td>16.0</td>\n",
       "      <td>7</td>\n",
       "      <td>...</td>\n",
       "      <td>1</td>\n",
       "      <td>0</td>\n",
       "      <td>0</td>\n",
       "      <td>0</td>\n",
       "      <td>0</td>\n",
       "      <td>1</td>\n",
       "      <td>0</td>\n",
       "      <td>군인</td>\n",
       "      <td>0</td>\n",
       "      <td>0</td>\n",
       "    </tr>\n",
       "    <tr>\n",
       "      <th>2</th>\n",
       "      <td>1093PT</td>\n",
       "      <td>TELD</td>\n",
       "      <td>45.0</td>\n",
       "      <td>0</td>\n",
       "      <td>177</td>\n",
       "      <td>28</td>\n",
       "      <td>0</td>\n",
       "      <td>68.0</td>\n",
       "      <td>15.0</td>\n",
       "      <td>5</td>\n",
       "      <td>...</td>\n",
       "      <td>0</td>\n",
       "      <td>0</td>\n",
       "      <td>0</td>\n",
       "      <td>1</td>\n",
       "      <td>1</td>\n",
       "      <td>1</td>\n",
       "      <td>0</td>\n",
       "      <td>NaN</td>\n",
       "      <td>0</td>\n",
       "      <td>0</td>\n",
       "    </tr>\n",
       "  </tbody>\n",
       "</table>\n",
       "<p>3 rows × 36 columns</p>\n",
       "</div>"
      ],
      "text/plain": [
       "     환자ID  수술기법  수술시간  수술실패여부   신장  연령  재발여부    체중  헤모글로빈수치  환자통증정도  ...  \\\n",
       "0  1052PT  TELD  30.0       0  174  34     0  75.0     15.1       7  ...   \n",
       "1  1056PT  TELD  70.0       0  172  19     0  70.0     16.0       7  ...   \n",
       "2  1093PT  TELD  45.0       0  177  28     0  68.0     15.0       5  ...   \n",
       "\n",
       "   스테로이드치료 신부전여부 심혈관질환 암발병여부 우울증여부  입원기간  종양진행여부   직업  혈전합병증여부  흡연여부  \n",
       "0        0     0     0     0     0     1       0  사무직        0     1  \n",
       "1        1     0     0     0     0     1       0   군인        0     0  \n",
       "2        0     0     0     1     1     1       0  NaN        0     0  \n",
       "\n",
       "[3 rows x 36 columns]"
      ]
     },
     "execution_count": 9,
     "metadata": {},
     "output_type": "execute_result"
    }
   ],
   "source": [
    "df_merge = pd.merge(df1, df2, on=['환자ID', '신장', '연령', '체중', '헤모글로빈수치', '환자통증정도', '통증기간(월)', '입원일', '퇴원일'])\n",
    "df_merge.head(3)"
   ]
  },
  {
   "cell_type": "markdown",
   "id": "d5d34e5f-629f-4d09-86f0-d009f1aa637b",
   "metadata": {},
   "source": [
    "## 1.1 최종으로 병합된 데이터프레임 : df"
   ]
  },
  {
   "cell_type": "code",
   "execution_count": 10,
   "id": "78c197a7",
   "metadata": {},
   "outputs": [
    {
     "data": {
      "text/html": [
       "<div>\n",
       "<style scoped>\n",
       "    .dataframe tbody tr th:only-of-type {\n",
       "        vertical-align: middle;\n",
       "    }\n",
       "\n",
       "    .dataframe tbody tr th {\n",
       "        vertical-align: top;\n",
       "    }\n",
       "\n",
       "    .dataframe thead th {\n",
       "        text-align: right;\n",
       "    }\n",
       "</style>\n",
       "<table border=\"1\" class=\"dataframe\">\n",
       "  <thead>\n",
       "    <tr style=\"text-align: right;\">\n",
       "      <th></th>\n",
       "      <th>환자ID</th>\n",
       "      <th>수술기법</th>\n",
       "      <th>수술시간</th>\n",
       "      <th>수술실패여부</th>\n",
       "      <th>신장</th>\n",
       "      <th>연령</th>\n",
       "      <th>재발여부</th>\n",
       "      <th>체중</th>\n",
       "      <th>헤모글로빈수치</th>\n",
       "      <th>환자통증정도</th>\n",
       "      <th>...</th>\n",
       "      <th>Modic change</th>\n",
       "      <th>PI</th>\n",
       "      <th>PT</th>\n",
       "      <th>Seg Angle(raw)</th>\n",
       "      <th>Vaccum disc</th>\n",
       "      <th>골밀도</th>\n",
       "      <th>디스크단면적</th>\n",
       "      <th>디스크위치</th>\n",
       "      <th>척추이동척도</th>\n",
       "      <th>척추전방위증</th>\n",
       "    </tr>\n",
       "  </thead>\n",
       "  <tbody>\n",
       "    <tr>\n",
       "      <th>0</th>\n",
       "      <td>1052PT</td>\n",
       "      <td>TELD</td>\n",
       "      <td>30.0</td>\n",
       "      <td>0</td>\n",
       "      <td>174</td>\n",
       "      <td>34</td>\n",
       "      <td>0</td>\n",
       "      <td>75.0</td>\n",
       "      <td>15.1</td>\n",
       "      <td>7</td>\n",
       "      <td>...</td>\n",
       "      <td>0</td>\n",
       "      <td>49.7</td>\n",
       "      <td>27.6</td>\n",
       "      <td>1.2</td>\n",
       "      <td>0</td>\n",
       "      <td>NaN</td>\n",
       "      <td>2155.3</td>\n",
       "      <td>4</td>\n",
       "      <td>Middle</td>\n",
       "      <td>0</td>\n",
       "    </tr>\n",
       "    <tr>\n",
       "      <th>1</th>\n",
       "      <td>1056PT</td>\n",
       "      <td>TELD</td>\n",
       "      <td>70.0</td>\n",
       "      <td>0</td>\n",
       "      <td>172</td>\n",
       "      <td>19</td>\n",
       "      <td>0</td>\n",
       "      <td>70.0</td>\n",
       "      <td>16.0</td>\n",
       "      <td>7</td>\n",
       "      <td>...</td>\n",
       "      <td>0</td>\n",
       "      <td>36.3</td>\n",
       "      <td>4.5</td>\n",
       "      <td>7.3</td>\n",
       "      <td>0</td>\n",
       "      <td>NaN</td>\n",
       "      <td>2143.1</td>\n",
       "      <td>4</td>\n",
       "      <td>Middle</td>\n",
       "      <td>0</td>\n",
       "    </tr>\n",
       "    <tr>\n",
       "      <th>2</th>\n",
       "      <td>1093PT</td>\n",
       "      <td>TELD</td>\n",
       "      <td>45.0</td>\n",
       "      <td>0</td>\n",
       "      <td>177</td>\n",
       "      <td>28</td>\n",
       "      <td>0</td>\n",
       "      <td>68.0</td>\n",
       "      <td>15.0</td>\n",
       "      <td>5</td>\n",
       "      <td>...</td>\n",
       "      <td>0</td>\n",
       "      <td>41.3</td>\n",
       "      <td>17.4</td>\n",
       "      <td>13.4</td>\n",
       "      <td>0</td>\n",
       "      <td>NaN</td>\n",
       "      <td>1868.7</td>\n",
       "      <td>4</td>\n",
       "      <td>Down</td>\n",
       "      <td>0</td>\n",
       "    </tr>\n",
       "  </tbody>\n",
       "</table>\n",
       "<p>3 rows × 51 columns</p>\n",
       "</div>"
      ],
      "text/plain": [
       "     환자ID  수술기법  수술시간  수술실패여부   신장  연령  재발여부    체중  헤모글로빈수치  환자통증정도  ...  \\\n",
       "0  1052PT  TELD  30.0       0  174  34     0  75.0     15.1       7  ...   \n",
       "1  1056PT  TELD  70.0       0  172  19     0  70.0     16.0       7  ...   \n",
       "2  1093PT  TELD  45.0       0  177  28     0  68.0     15.0       5  ...   \n",
       "\n",
       "   Modic change    PI    PT Seg Angle(raw) Vaccum disc  골밀도  디스크단면적  디스크위치  \\\n",
       "0             0  49.7  27.6            1.2           0  NaN  2155.3      4   \n",
       "1             0  36.3   4.5            7.3           0  NaN  2143.1      4   \n",
       "2             0  41.3  17.4           13.4           0  NaN  1868.7      4   \n",
       "\n",
       "   척추이동척도  척추전방위증  \n",
       "0  Middle       0  \n",
       "1  Middle       0  \n",
       "2    Down       0  \n",
       "\n",
       "[3 rows x 51 columns]"
      ]
     },
     "execution_count": 10,
     "metadata": {},
     "output_type": "execute_result"
    }
   ],
   "source": [
    "df = pd.merge(df_merge, df3, on=['환자ID'])\n",
    "df.head(3)"
   ]
  },
  {
   "cell_type": "code",
   "execution_count": 11,
   "id": "79f95057",
   "metadata": {},
   "outputs": [
    {
     "data": {
      "text/plain": [
       "(1894, 51)"
      ]
     },
     "execution_count": 11,
     "metadata": {},
     "output_type": "execute_result"
    }
   ],
   "source": [
    "df.shape"
   ]
  },
  {
   "cell_type": "code",
   "execution_count": 12,
   "id": "1918e0d0",
   "metadata": {},
   "outputs": [
    {
     "name": "stdout",
     "output_type": "stream",
     "text": [
      "<class 'pandas.core.frame.DataFrame'>\n",
      "RangeIndex: 1894 entries, 0 to 1893\n",
      "Data columns (total 51 columns):\n",
      " #   Column                  Non-Null Count  Dtype  \n",
      "---  ------                  --------------  -----  \n",
      " 0   환자ID                    1894 non-null   object \n",
      " 1   수술기법                    1813 non-null   object \n",
      " 2   수술시간                    1840 non-null   float64\n",
      " 3   수술실패여부                  1894 non-null   int64  \n",
      " 4   신장                      1894 non-null   int64  \n",
      " 5   연령                      1894 non-null   int64  \n",
      " 6   재발여부                    1894 non-null   int64  \n",
      " 7   체중                      1894 non-null   float64\n",
      " 8   헤모글로빈수치                 1893 non-null   float64\n",
      " 9   환자통증정도                  1894 non-null   int64  \n",
      " 10  통증기간(월)                 1890 non-null   float64\n",
      " 11  혈액형                     1894 non-null   object \n",
      " 12  입원일                     1894 non-null   object \n",
      " 13  퇴원일                     1894 non-null   object \n",
      " 14  수술일                     1894 non-null   object \n",
      " 15  Large Lymphocyte        1894 non-null   float64\n",
      " 16  Location of herniation  1894 non-null   int64  \n",
      " 17  ODI                     462 non-null    float64\n",
      " 18  가족력                     1843 non-null   float64\n",
      " 19  간질성폐질환                  1894 non-null   int64  \n",
      " 20  고혈압여부                   1894 non-null   int64  \n",
      " 21  과거수술횟수                  1894 non-null   int64  \n",
      " 22  당뇨여부                    1894 non-null   int64  \n",
      " 23  말초동맥질환여부                1894 non-null   int64  \n",
      " 24  빈혈여부                    1894 non-null   int64  \n",
      " 25  성별                      1894 non-null   int64  \n",
      " 26  스테로이드치료                 1894 non-null   int64  \n",
      " 27  신부전여부                   1894 non-null   int64  \n",
      " 28  심혈관질환                   1894 non-null   int64  \n",
      " 29  암발병여부                   1894 non-null   int64  \n",
      " 30  우울증여부                   1894 non-null   int64  \n",
      " 31  입원기간                    1894 non-null   int64  \n",
      " 32  종양진행여부                  1894 non-null   int64  \n",
      " 33  직업                      1479 non-null   object \n",
      " 34  혈전합병증여부                 1894 non-null   int64  \n",
      " 35  흡연여부                    1894 non-null   int64  \n",
      " 36  전방디스크높이(mm)             1894 non-null   float64\n",
      " 37  후방디스크높이(mm)             1894 non-null   float64\n",
      " 38  지방축적도                   1891 non-null   float64\n",
      " 39  Instability             1894 non-null   int64  \n",
      " 40  MF + ES                 1894 non-null   float64\n",
      " 41  Modic change            1894 non-null   int64  \n",
      " 42  PI                      1890 non-null   float64\n",
      " 43  PT                      1890 non-null   float64\n",
      " 44  Seg Angle(raw)          1893 non-null   float64\n",
      " 45  Vaccum disc             1894 non-null   int64  \n",
      " 46  골밀도                     998 non-null    float64\n",
      " 47  디스크단면적                  1893 non-null   float64\n",
      " 48  디스크위치                   1894 non-null   int64  \n",
      " 49  척추이동척도                  1894 non-null   object \n",
      " 50  척추전방위증                  1894 non-null   int64  \n",
      "dtypes: float64(16), int64(27), object(8)\n",
      "memory usage: 754.8+ KB\n"
     ]
    }
   ],
   "source": [
    "df.info()"
   ]
  },
  {
   "cell_type": "markdown",
   "id": "432f89bb",
   "metadata": {},
   "source": [
    "### df의 중복 행 확인"
   ]
  },
  {
   "cell_type": "markdown",
   "id": "d7273239-2e9e-455d-94a5-32fbd04f05ee",
   "metadata": {},
   "source": [
    "중복된 행은 없는 것으로 확인"
   ]
  },
  {
   "cell_type": "code",
   "execution_count": 13,
   "id": "37b92efa",
   "metadata": {},
   "outputs": [
    {
     "data": {
      "text/html": [
       "<div>\n",
       "<style scoped>\n",
       "    .dataframe tbody tr th:only-of-type {\n",
       "        vertical-align: middle;\n",
       "    }\n",
       "\n",
       "    .dataframe tbody tr th {\n",
       "        vertical-align: top;\n",
       "    }\n",
       "\n",
       "    .dataframe thead th {\n",
       "        text-align: right;\n",
       "    }\n",
       "</style>\n",
       "<table border=\"1\" class=\"dataframe\">\n",
       "  <thead>\n",
       "    <tr style=\"text-align: right;\">\n",
       "      <th></th>\n",
       "      <th>환자ID</th>\n",
       "      <th>수술기법</th>\n",
       "      <th>수술시간</th>\n",
       "      <th>수술실패여부</th>\n",
       "      <th>신장</th>\n",
       "      <th>연령</th>\n",
       "      <th>재발여부</th>\n",
       "      <th>체중</th>\n",
       "      <th>헤모글로빈수치</th>\n",
       "      <th>환자통증정도</th>\n",
       "      <th>...</th>\n",
       "      <th>Modic change</th>\n",
       "      <th>PI</th>\n",
       "      <th>PT</th>\n",
       "      <th>Seg Angle(raw)</th>\n",
       "      <th>Vaccum disc</th>\n",
       "      <th>골밀도</th>\n",
       "      <th>디스크단면적</th>\n",
       "      <th>디스크위치</th>\n",
       "      <th>척추이동척도</th>\n",
       "      <th>척추전방위증</th>\n",
       "    </tr>\n",
       "  </thead>\n",
       "  <tbody>\n",
       "  </tbody>\n",
       "</table>\n",
       "<p>0 rows × 51 columns</p>\n",
       "</div>"
      ],
      "text/plain": [
       "Empty DataFrame\n",
       "Columns: [환자ID, 수술기법, 수술시간, 수술실패여부, 신장, 연령, 재발여부, 체중, 헤모글로빈수치, 환자통증정도, 통증기간(월), 혈액형, 입원일, 퇴원일, 수술일, Large Lymphocyte, Location of herniation, ODI, 가족력, 간질성폐질환, 고혈압여부, 과거수술횟수, 당뇨여부, 말초동맥질환여부, 빈혈여부, 성별, 스테로이드치료, 신부전여부, 심혈관질환, 암발병여부, 우울증여부, 입원기간, 종양진행여부, 직업, 혈전합병증여부, 흡연여부, 전방디스크높이(mm), 후방디스크높이(mm), 지방축적도, Instability, MF + ES, Modic change, PI, PT, Seg Angle(raw), Vaccum disc, 골밀도, 디스크단면적, 디스크위치, 척추이동척도, 척추전방위증]\n",
       "Index: []\n",
       "\n",
       "[0 rows x 51 columns]"
      ]
     },
     "execution_count": 13,
     "metadata": {},
     "output_type": "execute_result"
    }
   ],
   "source": [
    "df[df.duplicated()]"
   ]
  },
  {
   "cell_type": "markdown",
   "id": "43720c6a-b13a-4dda-88ad-743de89f7a8f",
   "metadata": {},
   "source": [
    "# 2. 데이터 전처리"
   ]
  },
  {
   "cell_type": "markdown",
   "id": "2df55832-8fba-4f4b-adab-cc77ce668686",
   "metadata": {},
   "source": [
    "## 2.1 결측값 확인"
   ]
  },
  {
   "cell_type": "markdown",
   "id": "8fbcd596-1fa4-4d77-9f1e-71050437deba",
   "metadata": {},
   "source": [
    "수술기법, 수술시간, 헤모글로빈 수치, 통증기간(월), ODI, 가족력, 직업, 지방축적도, PI, PT, Seg Angle(raw), 골밀도, 디스크 단면적에서 결측값이 존재하는 것을 확인."
   ]
  },
  {
   "cell_type": "code",
   "execution_count": 14,
   "id": "66ab2f3e",
   "metadata": {},
   "outputs": [
    {
     "data": {
      "text/plain": [
       "환자ID                         0\n",
       "수술기법                        81\n",
       "수술시간                        54\n",
       "수술실패여부                       0\n",
       "신장                           0\n",
       "연령                           0\n",
       "재발여부                         0\n",
       "체중                           0\n",
       "헤모글로빈수치                      1\n",
       "환자통증정도                       0\n",
       "통증기간(월)                      4\n",
       "혈액형                          0\n",
       "입원일                          0\n",
       "퇴원일                          0\n",
       "수술일                          0\n",
       "Large Lymphocyte             0\n",
       "Location of herniation       0\n",
       "ODI                       1432\n",
       "가족력                         51\n",
       "간질성폐질환                       0\n",
       "고혈압여부                        0\n",
       "과거수술횟수                       0\n",
       "당뇨여부                         0\n",
       "말초동맥질환여부                     0\n",
       "빈혈여부                         0\n",
       "성별                           0\n",
       "스테로이드치료                      0\n",
       "신부전여부                        0\n",
       "심혈관질환                        0\n",
       "암발병여부                        0\n",
       "우울증여부                        0\n",
       "입원기간                         0\n",
       "종양진행여부                       0\n",
       "직업                         415\n",
       "혈전합병증여부                      0\n",
       "흡연여부                         0\n",
       "전방디스크높이(mm)                  0\n",
       "후방디스크높이(mm)                  0\n",
       "지방축적도                        3\n",
       "Instability                  0\n",
       "MF + ES                      0\n",
       "Modic change                 0\n",
       "PI                           4\n",
       "PT                           4\n",
       "Seg Angle(raw)               1\n",
       "Vaccum disc                  0\n",
       "골밀도                        896\n",
       "디스크단면적                       1\n",
       "디스크위치                        0\n",
       "척추이동척도                       0\n",
       "척추전방위증                       0\n",
       "dtype: int64"
      ]
     },
     "execution_count": 14,
     "metadata": {},
     "output_type": "execute_result"
    }
   ],
   "source": [
    "df.isnull().sum()"
   ]
  },
  {
   "cell_type": "markdown",
   "id": "548aba20",
   "metadata": {},
   "source": [
    "### 1) 수술기법\n",
    "명목형 변수이므로, 최빈값 대체"
   ]
  },
  {
   "cell_type": "code",
   "execution_count": 15,
   "id": "3ce2edf1",
   "metadata": {},
   "outputs": [],
   "source": [
    "pd.set_option('display.max_columns', None)"
   ]
  },
  {
   "cell_type": "code",
   "execution_count": 16,
   "id": "386a60c6-965e-498f-b133-6eee8ff2987c",
   "metadata": {},
   "outputs": [
    {
     "data": {
      "text/plain": [
       "81"
      ]
     },
     "execution_count": 16,
     "metadata": {},
     "output_type": "execute_result"
    }
   ],
   "source": [
    "df['수술기법'].isnull().sum() #수술기법 결측치 행의 개수가 81개"
   ]
  },
  {
   "cell_type": "code",
   "execution_count": 17,
   "id": "941bf2ea",
   "metadata": {},
   "outputs": [
    {
     "name": "stdout",
     "output_type": "stream",
     "text": [
      "['TELD' 'IELD' nan]\n",
      "수술기법\n",
      "TELD    1673\n",
      "IELD     140\n",
      "Name: count, dtype: int64\n"
     ]
    }
   ],
   "source": [
    "print(df['수술기법'].unique())\n",
    "print(df['수술기법'].value_counts())"
   ]
  },
  {
   "cell_type": "code",
   "execution_count": 18,
   "id": "494e79de",
   "metadata": {},
   "outputs": [
    {
     "data": {
      "text/plain": [
       "0"
      ]
     },
     "execution_count": 18,
     "metadata": {},
     "output_type": "execute_result"
    }
   ],
   "source": [
    "df['수술기법'].fillna('TELD', inplace = True) #수술기법 결측치 최빈값인 'TELD'로 채움\n",
    "df['수술기법'].isnull().sum()"
   ]
  },
  {
   "cell_type": "markdown",
   "id": "0f847a65",
   "metadata": {},
   "source": [
    "### 2) 수술시간  \n",
    "이산형 변수이므로, 정규분포를 따르는지 유무에 따른 대체방법 결정  \n",
    "=> 정규성 가정을 만족하므로 평균값 대체"
   ]
  },
  {
   "cell_type": "code",
   "execution_count": 19,
   "id": "ad064add",
   "metadata": {},
   "outputs": [
    {
     "name": "stdout",
     "output_type": "stream",
     "text": [
      "Shapiro-Wilk Test statistic: 0.9676291346549988, p-value: 6.62016425668799e-20\n"
     ]
    },
    {
     "data": {
      "image/png": "[encoded data removed]",
      "text/plain": [
       "<Figure size 600x600 with 1 Axes>"
      ]
     },
     "metadata": {},
     "output_type": "display_data"
    }
   ],
   "source": [
    "from scipy import stats\n",
    "\n",
    "clean_data = df['수술시간'].dropna()  # 결측치 제거\n",
    "shapiro_test = stats.shapiro(clean_data)\n",
    "print(f\"Shapiro-Wilk Test statistic: {shapiro_test[0]}, p-value: {shapiro_test[1]}\")\n",
    "\n",
    "# QQ Plot\n",
    "plt.figure(figsize=(6, 6))\n",
    "stats.probplot(clean_data, dist=\"norm\", plot=plt)\n",
    "plt.title(\"QQ Plot\")\n",
    "plt.show()"
   ]
  },
  {
   "cell_type": "code",
   "execution_count": 20,
   "id": "284e1cbc",
   "metadata": {},
   "outputs": [
    {
     "data": {
      "text/plain": [
       "0"
      ]
     },
     "execution_count": 20,
     "metadata": {},
     "output_type": "execute_result"
    }
   ],
   "source": [
    "df['수술시간'].fillna(df['수술시간'].mean(), inplace=True)\n",
    "df['수술시간'].isnull().sum()"
   ]
  },
  {
   "cell_type": "markdown",
   "id": "1e45b0df",
   "metadata": {},
   "source": [
    "### 3) 헤모글로빈수치  \n",
    "이산형 변수이므로, 정규분포를 따르는지 유무에 따른 대체방법 결정  \n",
    "=> 정규성 가정을 만족하므로 평균값 대체"
   ]
  },
  {
   "cell_type": "code",
   "execution_count": 21,
   "id": "657b8070",
   "metadata": {},
   "outputs": [
    {
     "name": "stdout",
     "output_type": "stream",
     "text": [
      "Shapiro-Wilk Test statistic: 0.9953117966651917, p-value: 1.1770710443670396e-05\n"
     ]
    },
    {
     "data": {
      "image/png": "[encoded data removed]",
      "text/plain": [
       "<Figure size 600x600 with 1 Axes>"
      ]
     },
     "metadata": {},
     "output_type": "display_data"
    }
   ],
   "source": [
    "clean_data = df['헤모글로빈수치'].dropna()  # 결측치 제거\n",
    "shapiro_test = stats.shapiro(clean_data)\n",
    "print(f\"Shapiro-Wilk Test statistic: {shapiro_test[0]}, p-value: {shapiro_test[1]}\")\n",
    "\n",
    "# QQ Plot\n",
    "plt.figure(figsize=(6, 6))\n",
    "stats.probplot(clean_data, dist=\"norm\", plot=plt)\n",
    "plt.title(\"QQ Plot\")\n",
    "plt.show()"
   ]
  },
  {
   "cell_type": "code",
   "execution_count": 22,
   "id": "a6d74832",
   "metadata": {},
   "outputs": [
    {
     "data": {
      "text/plain": [
       "0"
      ]
     },
     "execution_count": 22,
     "metadata": {},
     "output_type": "execute_result"
    }
   ],
   "source": [
    "df['헤모글로빈수치'].fillna(df['헤모글로빈수치'].mean(), inplace=True)\n",
    "df['헤모글로빈수치'].isnull().sum()"
   ]
  },
  {
   "cell_type": "markdown",
   "id": "6584c0f8",
   "metadata": {},
   "source": [
    "### 4) 통증기간(월)  \n",
    "이산형 변수이므로, 정규분포를 따르는지 유무에 따른 대체방법 결정  \n",
    "=> 정규성 가정을 만족하지 않으므로, 중앙값을 통한 대체"
   ]
  },
  {
   "cell_type": "code",
   "execution_count": 23,
   "id": "9a979cbf",
   "metadata": {},
   "outputs": [
    {
     "name": "stdout",
     "output_type": "stream",
     "text": [
      "Shapiro-Wilk Test statistic: 0.26820456981658936, p-value: 0.0\n"
     ]
    },
    {
     "data": {
      "image/png": "[encoded data removed]",
      "text/plain": [
       "<Figure size 600x600 with 1 Axes>"
      ]
     },
     "metadata": {},
     "output_type": "display_data"
    }
   ],
   "source": [
    "clean_data = df['통증기간(월)'].dropna()  # 결측치 제거\n",
    "shapiro_test = stats.shapiro(clean_data)\n",
    "print(f\"Shapiro-Wilk Test statistic: {shapiro_test[0]}, p-value: {shapiro_test[1]}\")\n",
    "\n",
    "# QQ Plot\n",
    "plt.figure(figsize=(6, 6))\n",
    "stats.probplot(clean_data, dist=\"norm\", plot=plt)\n",
    "plt.title(\"QQ Plot\")\n",
    "plt.show()"
   ]
  },
  {
   "cell_type": "markdown",
   "id": "9cb27289-caee-44f3-9e1d-5ba852184071",
   "metadata": {},
   "source": [
    "통증기간(월)별 환자 수를 그래프를 통해 확인한 결과, 꼬리가 우측으로 길게 늘어져 있는 것을 확인할 수 있음."
   ]
  },
  {
   "cell_type": "code",
   "execution_count": 24,
   "id": "8a482753",
   "metadata": {},
   "outputs": [
    {
     "name": "stdout",
     "output_type": "stream",
     "text": [
      "중앙값 :  2.0\n"
     ]
    }
   ],
   "source": [
    "print(\"중앙값 : \", df['통증기간(월)'].median())"
   ]
  },
  {
   "cell_type": "code",
   "execution_count": 25,
   "id": "bf1ca329-1de7-4b67-b4f9-21c1608b28f8",
   "metadata": {},
   "outputs": [
    {
     "data": {
      "image/png": "[encoded data removed]",
      "text/plain": [
       "<Figure size 1000x600 with 1 Axes>"
      ]
     },
     "metadata": {},
     "output_type": "display_data"
    }
   ],
   "source": [
    "# 통증기간에 따라 데이터 프레임 정렬\n",
    "df_sorted = df.sort_values(by='통증기간(월)')\n",
    "\n",
    "# 통증기간별 환자 수 세기\n",
    "pain_duration_counts = df_sorted['통증기간(월)'].value_counts().sort_index()\n",
    "\n",
    "# 그래프 그리기\n",
    "plt.figure(figsize=(10, 6))\n",
    "plt.bar(pain_duration_counts.index, pain_duration_counts.values, color='skyblue')\n",
    "plt.xlabel('통증기간 (월)')\n",
    "plt.ylabel('환자 수')\n",
    "plt.title('통증기간에 따른 환자 수')\n",
    "plt.xticks(pain_duration_counts.index,rotation=90)\n",
    "plt.grid(axis='y')\n",
    "plt.show()"
   ]
  },
  {
   "cell_type": "code",
   "execution_count": 26,
   "id": "1c8970fa",
   "metadata": {},
   "outputs": [
    {
     "data": {
      "text/plain": [
       "0"
      ]
     },
     "execution_count": 26,
     "metadata": {},
     "output_type": "execute_result"
    }
   ],
   "source": [
    "df['통증기간(월)'].fillna(df['통증기간(월)'].median(), inplace=True)\n",
    "df['통증기간(월)'].isnull().sum()"
   ]
  },
  {
   "cell_type": "markdown",
   "id": "b2a4efcc",
   "metadata": {},
   "source": [
    "### 5) ODI  \n",
    "이산형 변수이므로, 정규분포를 따르는지 유무에 따른 대체방법 결정  \n",
    "=> 정규성 가정을 만족하므로, 평균값 대체\n",
    "* 그러나 ODI는 결측치가 전체의 약 74% 정도이므로 컬럼 제거 가능성 존재."
   ]
  },
  {
   "cell_type": "code",
   "execution_count": 27,
   "id": "ba7fd4aa",
   "metadata": {},
   "outputs": [
    {
     "name": "stdout",
     "output_type": "stream",
     "text": [
      "Shapiro-Wilk Test statistic: 0.9833627939224243, p-value: 3.832538641290739e-05\n"
     ]
    },
    {
     "data": {
      "image/png": "[encoded data removed]",
      "text/plain": [
       "<Figure size 600x600 with 1 Axes>"
      ]
     },
     "metadata": {},
     "output_type": "display_data"
    }
   ],
   "source": [
    "import numpy as np\n",
    "import matplotlib.pyplot as plt\n",
    "from scipy import stats\n",
    "\n",
    "clean_data = df['ODI'].dropna()  # 결측치 제거\n",
    "shapiro_test = stats.shapiro(clean_data)\n",
    "print(f\"Shapiro-Wilk Test statistic: {shapiro_test[0]}, p-value: {shapiro_test[1]}\")\n",
    "\n",
    "# QQ Plot\n",
    "plt.figure(figsize=(6, 6))\n",
    "stats.probplot(clean_data, dist=\"norm\", plot=plt)\n",
    "plt.title(\"QQ Plot\")\n",
    "plt.show()"
   ]
  },
  {
   "cell_type": "code",
   "execution_count": 28,
   "id": "e5348976",
   "metadata": {},
   "outputs": [
    {
     "data": {
      "text/plain": [
       "0"
      ]
     },
     "execution_count": 28,
     "metadata": {},
     "output_type": "execute_result"
    }
   ],
   "source": [
    "df['ODI'].fillna(df['ODI'].mean(), inplace=True)\n",
    "df['ODI'].isnull().sum()"
   ]
  },
  {
   "cell_type": "markdown",
   "id": "dbe3b0de",
   "metadata": {},
   "source": [
    "### 6) 가족력  \n",
    "명목형 변수이므로, 최빈값 대체"
   ]
  },
  {
   "cell_type": "code",
   "execution_count": 29,
   "id": "3384cc4a",
   "metadata": {},
   "outputs": [
    {
     "data": {
      "text/plain": [
       "가족력\n",
       "0.0    1751\n",
       "1.0      92\n",
       "Name: count, dtype: int64"
      ]
     },
     "execution_count": 29,
     "metadata": {},
     "output_type": "execute_result"
    }
   ],
   "source": [
    "df['가족력'].value_counts()"
   ]
  },
  {
   "cell_type": "code",
   "execution_count": 30,
   "id": "e31f4bee",
   "metadata": {},
   "outputs": [
    {
     "data": {
      "text/plain": [
       "0"
      ]
     },
     "execution_count": 30,
     "metadata": {},
     "output_type": "execute_result"
    }
   ],
   "source": [
    "df['가족력'].fillna(df['가족력'].mode()[0], inplace=True)\n",
    "df['가족력'].isnull().sum()"
   ]
  },
  {
   "cell_type": "markdown",
   "id": "b0300b4d",
   "metadata": {},
   "source": [
    "### 7) 직업\n",
    "명목형 변수이므로, 최빈값 대체가 적절하나 결측행들의 공통점이 있을 것으로 판단되어 'Unknown'으로 대체"
   ]
  },
  {
   "cell_type": "code",
   "execution_count": 31,
   "id": "9aeb6521-13d5-4c2e-90ad-e855e471ac79",
   "metadata": {},
   "outputs": [
    {
     "name": "stdout",
     "output_type": "stream",
     "text": [
      "결측값 : 415\n",
      "직업\n",
      "사무직      449\n",
      "자영업      171\n",
      "무직       164\n",
      "학생       135\n",
      "주부       114\n",
      "군인        90\n",
      "공무원       51\n",
      "운수업       50\n",
      "노동직       42\n",
      "의료직       40\n",
      "농업        40\n",
      "사업가       39\n",
      "교사        30\n",
      "특수전문직     23\n",
      "건설업       17\n",
      "운동선수      14\n",
      "예술가       10\n",
      "Name: count, dtype: int64\n"
     ]
    }
   ],
   "source": [
    "print(\"결측값 :\", df['직업'].isnull().sum())\n",
    "print(df['직업'].value_counts())"
   ]
  },
  {
   "cell_type": "code",
   "execution_count": 32,
   "id": "c35b01a6",
   "metadata": {},
   "outputs": [
    {
     "data": {
      "text/plain": [
       "0"
      ]
     },
     "execution_count": 32,
     "metadata": {},
     "output_type": "execute_result"
    }
   ],
   "source": [
    "df['직업'].fillna('Unknown', inplace=True)\n",
    "df['직업'].isnull().sum()"
   ]
  },
  {
   "cell_type": "markdown",
   "id": "1cd5c749",
   "metadata": {},
   "source": [
    "### 8) 지방축적도  \n",
    "이산형 변수이므로, 정규분포를 따르는지 유무에 따른 대체방법 결정  \n",
    "=> 정규성 가정을 만족하지 않으므로, 중앙값을 통한 대체"
   ]
  },
  {
   "cell_type": "code",
   "execution_count": 33,
   "id": "fca5f246-c479-4cae-b615-0bd5052424ee",
   "metadata": {},
   "outputs": [
    {
     "name": "stdout",
     "output_type": "stream",
     "text": [
      "결측값 : 3\n"
     ]
    }
   ],
   "source": [
    "print(\"결측값 :\", df['지방축적도'].isnull().sum())"
   ]
  },
  {
   "cell_type": "code",
   "execution_count": 34,
   "id": "6c8aa1e7",
   "metadata": {},
   "outputs": [
    {
     "name": "stdout",
     "output_type": "stream",
     "text": [
      "Shapiro-Wilk Test statistic: 0.23043185472488403, p-value: 0.0\n"
     ]
    },
    {
     "data": {
      "image/png": "[encoded data removed]",
      "text/plain": [
       "<Figure size 600x600 with 1 Axes>"
      ]
     },
     "metadata": {},
     "output_type": "display_data"
    }
   ],
   "source": [
    "clean_data = df['지방축적도'].dropna()  # 결측치 제거\n",
    "shapiro_test = stats.shapiro(clean_data)\n",
    "print(f\"Shapiro-Wilk Test statistic: {shapiro_test[0]}, p-value: {shapiro_test[1]}\")\n",
    "\n",
    "# QQ Plot\n",
    "plt.figure(figsize=(6, 6))\n",
    "stats.probplot(clean_data, dist=\"norm\", plot=plt)\n",
    "plt.title(\"QQ Plot\")\n",
    "plt.show()"
   ]
  },
  {
   "cell_type": "markdown",
   "id": "4acbfabf",
   "metadata": {},
   "source": [
    "지방축적도별 환자 수를 그래프를 통해 확인한 결과, 꼬리가 우측으로 길게 늘어져 있는 것을 확인할 수 있음."
   ]
  },
  {
   "cell_type": "code",
   "execution_count": 35,
   "id": "1b068837",
   "metadata": {},
   "outputs": [
    {
     "data": {
      "text/plain": [
       "169.1"
      ]
     },
     "execution_count": 35,
     "metadata": {},
     "output_type": "execute_result"
    }
   ],
   "source": [
    "df['지방축적도'].median()"
   ]
  },
  {
   "cell_type": "code",
   "execution_count": 36,
   "id": "594d1177",
   "metadata": {},
   "outputs": [
    {
     "data": {
      "image/png": "[encoded data removed]",
      "text/plain": [
       "<Figure size 1000x600 with 1 Axes>"
      ]
     },
     "metadata": {},
     "output_type": "display_data"
    }
   ],
   "source": [
    "df_sorted = df.sort_values(by='지방축적도')\n",
    "pain_duration_counts = df_sorted['지방축적도'].value_counts().sort_index()\n",
    "\n",
    "# 그래프 그리기\n",
    "plt.figure(figsize=(10, 6))\n",
    "plt.plot(pain_duration_counts.index, pain_duration_counts.values, color='skyblue')\n",
    "plt.xlabel('지방축적도')\n",
    "plt.ylabel('환자 수')\n",
    "plt.title('지방축적도에 따른 환자 수')\n",
    "plt.xticks(pain_duration_counts.index)\n",
    "plt.grid(axis='y')\n",
    "plt.show()"
   ]
  },
  {
   "cell_type": "code",
   "execution_count": 37,
   "id": "72c4c703",
   "metadata": {},
   "outputs": [
    {
     "data": {
      "text/plain": [
       "0"
      ]
     },
     "execution_count": 37,
     "metadata": {},
     "output_type": "execute_result"
    }
   ],
   "source": [
    "df['지방축적도'].fillna(df['지방축적도'].mode()[0], inplace=True)\n",
    "df['지방축적도'].isnull().sum()"
   ]
  },
  {
   "cell_type": "markdown",
   "id": "706efd9a",
   "metadata": {},
   "source": [
    "### 9) PI  \n",
    "이산형 변수이므로, 정규분포를 따르는지 유무에 따른 대체방법 결정  \n",
    "=> 정규성 가정을 만족하지 않으므로, 중앙값을 통한 대체"
   ]
  },
  {
   "cell_type": "code",
   "execution_count": 38,
   "id": "8331e4c6",
   "metadata": {},
   "outputs": [
    {
     "name": "stdout",
     "output_type": "stream",
     "text": [
      "결측치 수 : 4\n"
     ]
    }
   ],
   "source": [
    "print(\"결측치 수 :\", df['PI'].isnull().sum())"
   ]
  },
  {
   "cell_type": "code",
   "execution_count": 39,
   "id": "1400851a",
   "metadata": {},
   "outputs": [
    {
     "name": "stdout",
     "output_type": "stream",
     "text": [
      "Shapiro-Wilk Test statistic: 0.3011665344238281, p-value: 0.0\n"
     ]
    },
    {
     "data": {
      "image/png": "[encoded data removed]",
      "text/plain": [
       "<Figure size 600x600 with 1 Axes>"
      ]
     },
     "metadata": {},
     "output_type": "display_data"
    }
   ],
   "source": [
    "clean_data = df['PI'].dropna()  # 결측치 제거\n",
    "shapiro_test = stats.shapiro(clean_data)\n",
    "print(f\"Shapiro-Wilk Test statistic: {shapiro_test[0]}, p-value: {shapiro_test[1]}\")\n",
    "\n",
    "# QQ Plot\n",
    "plt.figure(figsize=(6, 6))\n",
    "stats.probplot(clean_data, dist=\"norm\", plot=plt)\n",
    "plt.title(\"QQ Plot\")\n",
    "plt.show()"
   ]
  },
  {
   "cell_type": "markdown",
   "id": "954e5cd8",
   "metadata": {},
   "source": [
    "PI별 환자 수를 그래프를 통해 확인한 결과, 꼬리가 우측으로 길게 늘어져 있는 것을 확인할 수 있음.  \n",
    "정규성을 만족하지 못하는 것은 이상치로 인식되는 599값의 영향일 가능성이 크며, 이 값을 제거한 뒤 다시 확인해보는 것이 옳은 것으로 생각된다."
   ]
  },
  {
   "cell_type": "code",
   "execution_count": 40,
   "id": "3b0c6e6a",
   "metadata": {},
   "outputs": [
    {
     "data": {
      "text/plain": [
       "45.1"
      ]
     },
     "execution_count": 40,
     "metadata": {},
     "output_type": "execute_result"
    }
   ],
   "source": [
    "df['PI'].median()"
   ]
  },
  {
   "cell_type": "code",
   "execution_count": 41,
   "id": "f760019e-8ffa-4493-929c-4ce5ed280c26",
   "metadata": {},
   "outputs": [
    {
     "data": {
      "image/png": "[encoded data removed]",
      "text/plain": [
       "<Figure size 1000x600 with 1 Axes>"
      ]
     },
     "metadata": {},
     "output_type": "display_data"
    }
   ],
   "source": [
    "df_sorted = df.sort_values(by='PI')\n",
    "pain_duration_counts = df_sorted['PI'].value_counts().sort_index()\n",
    "\n",
    "# 그래프 그리기\n",
    "plt.figure(figsize=(10, 6))\n",
    "plt.plot(pain_duration_counts.index, pain_duration_counts.values, color='skyblue')\n",
    "plt.xlabel('PI')\n",
    "plt.ylabel('환자 수')\n",
    "plt.title('PI에 따른 환자 수')\n",
    "plt.xticks(pain_duration_counts.index)\n",
    "plt.grid(axis='y')\n",
    "plt.show()"
   ]
  },
  {
   "cell_type": "code",
   "execution_count": 42,
   "id": "800d9a59",
   "metadata": {},
   "outputs": [
    {
     "data": {
      "text/plain": [
       "0"
      ]
     },
     "execution_count": 42,
     "metadata": {},
     "output_type": "execute_result"
    }
   ],
   "source": [
    "df['PI'].fillna(df['PI'].median(), inplace=True)\n",
    "df['PI'].isnull().sum()"
   ]
  },
  {
   "cell_type": "markdown",
   "id": "244b4654",
   "metadata": {},
   "source": [
    "### 10) PT  \n",
    "이산형 변수이므로, 정규분포를 따르는지 유무에 따른 대체방법 결정  \n",
    "=> 정규성 가정을 만족하므로, 평균값 대체"
   ]
  },
  {
   "cell_type": "code",
   "execution_count": 43,
   "id": "2a0fd2c4-b285-491f-b757-4b878e7f9dff",
   "metadata": {},
   "outputs": [
    {
     "name": "stdout",
     "output_type": "stream",
     "text": [
      "결측치 수 : 4\n"
     ]
    }
   ],
   "source": [
    "print(\"결측치 수 :\", df['PT'].isnull().sum())"
   ]
  },
  {
   "cell_type": "code",
   "execution_count": 44,
   "id": "2d93d7e7",
   "metadata": {},
   "outputs": [
    {
     "name": "stdout",
     "output_type": "stream",
     "text": [
      "Shapiro-Wilk Test statistic: 0.987747073173523, p-value: 1.3395833053930772e-11\n"
     ]
    },
    {
     "data": {
      "image/png": "[encoded data removed]",
      "text/plain": [
       "<Figure size 600x600 with 1 Axes>"
      ]
     },
     "metadata": {},
     "output_type": "display_data"
    }
   ],
   "source": [
    "clean_data = df['PT'].dropna()  # 결측치 제거\n",
    "shapiro_test = stats.shapiro(clean_data)\n",
    "print(f\"Shapiro-Wilk Test statistic: {shapiro_test[0]}, p-value: {shapiro_test[1]}\")\n",
    "\n",
    "# QQ Plot\n",
    "plt.figure(figsize=(6, 6))\n",
    "stats.probplot(clean_data, dist=\"norm\", plot=plt)\n",
    "plt.title(\"QQ Plot\")\n",
    "plt.show()"
   ]
  },
  {
   "cell_type": "code",
   "execution_count": 45,
   "id": "246f7bdb",
   "metadata": {},
   "outputs": [
    {
     "data": {
      "text/plain": [
       "0"
      ]
     },
     "execution_count": 45,
     "metadata": {},
     "output_type": "execute_result"
    }
   ],
   "source": [
    "df['PT'].fillna(df['PT'].mean(), inplace=True)\n",
    "df['PT'].isnull().sum()"
   ]
  },
  {
   "cell_type": "markdown",
   "id": "39eb47ca",
   "metadata": {},
   "source": [
    "### 11) Seg Angle(raw)  \n",
    "이산형 변수이므로, 정규분포를 따르는지 유무에 따른 대체방법 결정  \n",
    "=> 정규성 가정을 만족하지 않으므로, 중앙값을 통한 대체"
   ]
  },
  {
   "cell_type": "code",
   "execution_count": 46,
   "id": "a12c24c5-7027-44c2-8193-ac13c16e3935",
   "metadata": {},
   "outputs": [
    {
     "name": "stdout",
     "output_type": "stream",
     "text": [
      "결측치 수 : 1\n"
     ]
    }
   ],
   "source": [
    "print(\"결측치 수 :\", df['Seg Angle(raw)'].isnull().sum())"
   ]
  },
  {
   "cell_type": "code",
   "execution_count": 47,
   "id": "7afec03b",
   "metadata": {},
   "outputs": [
    {
     "name": "stdout",
     "output_type": "stream",
     "text": [
      "Shapiro-Wilk Test statistic: 0.7767412066459656, p-value: 4.203895392974451e-45\n"
     ]
    },
    {
     "data": {
      "image/png": "[encoded data removed]",
      "text/plain": [
       "<Figure size 600x600 with 1 Axes>"
      ]
     },
     "metadata": {},
     "output_type": "display_data"
    }
   ],
   "source": [
    "clean_data = df['Seg Angle(raw)'].dropna()  # 결측치 제거\n",
    "shapiro_test = stats.shapiro(clean_data)\n",
    "print(f\"Shapiro-Wilk Test statistic: {shapiro_test[0]}, p-value: {shapiro_test[1]}\")\n",
    "\n",
    "# QQ Plot\n",
    "plt.figure(figsize=(6, 6))\n",
    "stats.probplot(clean_data, dist=\"norm\", plot=plt)\n",
    "plt.title(\"QQ Plot\")\n",
    "plt.show()"
   ]
  },
  {
   "cell_type": "markdown",
   "id": "519be106",
   "metadata": {},
   "source": [
    "PI별 환자 수를 그래프를 통해 확인한 결과, 꼬리가 우측으로 길게 늘어져 있는 것을 확인할 수 있음.  \n",
    "양 끝단의 일부 값들은 정규성 가정에 영향을 미치는 것으로 보이며, 후에 이상치로 판단되어 제거될 가능성이 있다."
   ]
  },
  {
   "cell_type": "code",
   "execution_count": 48,
   "id": "d2e2e9e2",
   "metadata": {},
   "outputs": [
    {
     "data": {
      "text/plain": [
       "14.5"
      ]
     },
     "execution_count": 48,
     "metadata": {},
     "output_type": "execute_result"
    }
   ],
   "source": [
    "df['Seg Angle(raw)'].median()"
   ]
  },
  {
   "cell_type": "code",
   "execution_count": 49,
   "id": "62e3e41f-b9b4-4405-b08a-617673310d9e",
   "metadata": {},
   "outputs": [
    {
     "data": {
      "image/png": "[encoded data removed]",
      "text/plain": [
       "<Figure size 1000x600 with 1 Axes>"
      ]
     },
     "metadata": {},
     "output_type": "display_data"
    }
   ],
   "source": [
    "df_sorted = df.sort_values(by='Seg Angle(raw)')\n",
    "pain_duration_counts = df_sorted['Seg Angle(raw)'].value_counts().sort_index()\n",
    "\n",
    "# 그래프 그리기\n",
    "plt.figure(figsize=(10, 6))\n",
    "plt.plot(pain_duration_counts.index, pain_duration_counts.values, color='skyblue')\n",
    "plt.xlabel('Seg Angle(raw)')\n",
    "plt.ylabel('환자 수')\n",
    "plt.title('Seg Angle(raw)에 따른 환자 수')\n",
    "plt.xticks(pain_duration_counts.index)\n",
    "plt.grid(axis='y')\n",
    "plt.show()"
   ]
  },
  {
   "cell_type": "code",
   "execution_count": 50,
   "id": "3e6bcebd",
   "metadata": {},
   "outputs": [
    {
     "data": {
      "text/plain": [
       "0"
      ]
     },
     "execution_count": 50,
     "metadata": {},
     "output_type": "execute_result"
    }
   ],
   "source": [
    "df['Seg Angle(raw)'].fillna(df['Seg Angle(raw)'].median(), inplace=True)\n",
    "df['Seg Angle(raw)'].isnull().sum()"
   ]
  },
  {
   "cell_type": "markdown",
   "id": "3451cabc",
   "metadata": {},
   "source": [
    "### 12) 골밀도  \n",
    "이산형 변수이므로, 정규분포를 따르는지 유무에 따른 대체방법 결정  \n",
    "=> 정규성 가정을 만족하므로, 평균값 대체"
   ]
  },
  {
   "cell_type": "code",
   "execution_count": 51,
   "id": "956b44f2-5cb6-4bd8-820a-3aeb2bd84b87",
   "metadata": {},
   "outputs": [
    {
     "name": "stdout",
     "output_type": "stream",
     "text": [
      "결측치 수 : 896\n"
     ]
    }
   ],
   "source": [
    "print(\"결측치 수 :\", df['골밀도'].isnull().sum())"
   ]
  },
  {
   "cell_type": "code",
   "execution_count": 52,
   "id": "8ff12813",
   "metadata": {},
   "outputs": [
    {
     "name": "stdout",
     "output_type": "stream",
     "text": [
      "Shapiro-Wilk Test statistic: 0.9344106912612915, p-value: 1.5837834933683888e-20\n"
     ]
    },
    {
     "data": {
      "image/png": "[encoded data removed]",
      "text/plain": [
       "<Figure size 600x600 with 1 Axes>"
      ]
     },
     "metadata": {},
     "output_type": "display_data"
    }
   ],
   "source": [
    "clean_data = df['골밀도'].dropna()  # 결측치 제거\n",
    "shapiro_test = stats.shapiro(clean_data)\n",
    "print(f\"Shapiro-Wilk Test statistic: {shapiro_test[0]}, p-value: {shapiro_test[1]}\")\n",
    "\n",
    "# QQ Plot\n",
    "plt.figure(figsize=(6, 6))\n",
    "stats.probplot(clean_data, dist=\"norm\", plot=plt)\n",
    "plt.title(\"QQ Plot\")\n",
    "plt.show()"
   ]
  },
  {
   "cell_type": "code",
   "execution_count": 53,
   "id": "7b818f66",
   "metadata": {},
   "outputs": [
    {
     "data": {
      "text/plain": [
       "0"
      ]
     },
     "execution_count": 53,
     "metadata": {},
     "output_type": "execute_result"
    }
   ],
   "source": [
    "df['골밀도'].fillna(df['골밀도'].mean(), inplace=True)\n",
    "df['골밀도'].isnull().sum()"
   ]
  },
  {
   "cell_type": "markdown",
   "id": "65bd2a3b",
   "metadata": {},
   "source": [
    "### 13) 디스크단면적  \n",
    "이산형 변수이므로, 정규분포를 따르는지 유무에 따른 대체방법 결정  \n",
    "=> 정규성 가정을 만족하므로, 평균값 대체"
   ]
  },
  {
   "cell_type": "code",
   "execution_count": 54,
   "id": "3726dffe-b035-4747-8043-383c07bc97a4",
   "metadata": {},
   "outputs": [
    {
     "name": "stdout",
     "output_type": "stream",
     "text": [
      "결측치 수 : 1\n"
     ]
    }
   ],
   "source": [
    "print(\"결측치 수 :\", df['디스크단면적'].isnull().sum())"
   ]
  },
  {
   "cell_type": "code",
   "execution_count": 55,
   "id": "da797048",
   "metadata": {},
   "outputs": [
    {
     "name": "stdout",
     "output_type": "stream",
     "text": [
      "Shapiro-Wilk Test statistic: 0.9894697070121765, p-value: 1.6644179090530287e-10\n"
     ]
    },
    {
     "data": {
      "image/png": "[encoded data removed]",
      "text/plain": [
       "<Figure size 600x600 with 1 Axes>"
      ]
     },
     "metadata": {},
     "output_type": "display_data"
    }
   ],
   "source": [
    "clean_data = df['디스크단면적'].dropna()  # 결측치 제거\n",
    "shapiro_test = stats.shapiro(clean_data)\n",
    "print(f\"Shapiro-Wilk Test statistic: {shapiro_test[0]}, p-value: {shapiro_test[1]}\")\n",
    "\n",
    "# QQ Plot\n",
    "plt.figure(figsize=(6, 6))\n",
    "stats.probplot(clean_data, dist=\"norm\", plot=plt)\n",
    "plt.title(\"QQ Plot\")\n",
    "plt.show()"
   ]
  },
  {
   "cell_type": "code",
   "execution_count": 56,
   "id": "a1443394",
   "metadata": {},
   "outputs": [
    {
     "data": {
      "text/plain": [
       "0"
      ]
     },
     "execution_count": 56,
     "metadata": {},
     "output_type": "execute_result"
    }
   ],
   "source": [
    "df['디스크단면적'].fillna(df['디스크단면적'].mean(), inplace=True)\n",
    "df['디스크단면적'].isnull().sum()"
   ]
  },
  {
   "cell_type": "markdown",
   "id": "956c4956",
   "metadata": {},
   "source": [
    "## 2. 이상치 파악"
   ]
  },
  {
   "cell_type": "markdown",
   "id": "4c5f4087",
   "metadata": {},
   "source": [
    "## 2.1 연속형 변수"
   ]
  },
  {
   "cell_type": "code",
   "execution_count": 57,
   "id": "1528b106",
   "metadata": {},
   "outputs": [
    {
     "data": {
      "text/html": [
       "<div>\n",
       "<style scoped>\n",
       "    .dataframe tbody tr th:only-of-type {\n",
       "        vertical-align: middle;\n",
       "    }\n",
       "\n",
       "    .dataframe tbody tr th {\n",
       "        vertical-align: top;\n",
       "    }\n",
       "\n",
       "    .dataframe thead th {\n",
       "        text-align: right;\n",
       "    }\n",
       "</style>\n",
       "<table border=\"1\" class=\"dataframe\">\n",
       "  <thead>\n",
       "    <tr style=\"text-align: right;\">\n",
       "      <th></th>\n",
       "      <th>Large Lymphocyte</th>\n",
       "      <th>Location of herniation</th>\n",
       "      <th>ODI</th>\n",
       "      <th>과거수술횟수</th>\n",
       "      <th>신장</th>\n",
       "      <th>체중</th>\n",
       "      <th>연령</th>\n",
       "      <th>입원기간</th>\n",
       "      <th>헤모글로빈수치</th>\n",
       "      <th>환자통증정도</th>\n",
       "      <th>수술시간</th>\n",
       "      <th>통증기간(월)</th>\n",
       "      <th>전방디스크높이(mm)</th>\n",
       "      <th>후방디스크높이(mm)</th>\n",
       "      <th>지방축적도</th>\n",
       "      <th>Instability</th>\n",
       "      <th>MF + ES</th>\n",
       "      <th>PI</th>\n",
       "      <th>PT</th>\n",
       "      <th>Seg Angle(raw)</th>\n",
       "      <th>골밀도</th>\n",
       "      <th>디스크단면적</th>\n",
       "    </tr>\n",
       "  </thead>\n",
       "  <tbody>\n",
       "    <tr>\n",
       "      <th>count</th>\n",
       "      <td>1894.000000</td>\n",
       "      <td>1894.000000</td>\n",
       "      <td>1894.000000</td>\n",
       "      <td>1894.000000</td>\n",
       "      <td>1894.000000</td>\n",
       "      <td>1894.000000</td>\n",
       "      <td>1894.000000</td>\n",
       "      <td>1894.000000</td>\n",
       "      <td>1894.00000</td>\n",
       "      <td>1894.000000</td>\n",
       "      <td>1894.000000</td>\n",
       "      <td>1894.000000</td>\n",
       "      <td>1894.000000</td>\n",
       "      <td>1894.000000</td>\n",
       "      <td>1894.000000</td>\n",
       "      <td>1894.000000</td>\n",
       "      <td>1894.000000</td>\n",
       "      <td>1894.000000</td>\n",
       "      <td>1894.000000</td>\n",
       "      <td>1894.000000</td>\n",
       "      <td>1894.000000</td>\n",
       "      <td>1894.000000</td>\n",
       "    </tr>\n",
       "    <tr>\n",
       "      <th>mean</th>\n",
       "      <td>39.270750</td>\n",
       "      <td>2.295671</td>\n",
       "      <td>31.142857</td>\n",
       "      <td>0.302534</td>\n",
       "      <td>168.027983</td>\n",
       "      <td>68.111140</td>\n",
       "      <td>41.463569</td>\n",
       "      <td>1.736536</td>\n",
       "      <td>14.58113</td>\n",
       "      <td>6.884372</td>\n",
       "      <td>62.066304</td>\n",
       "      <td>5.871647</td>\n",
       "      <td>11.382635</td>\n",
       "      <td>8.358126</td>\n",
       "      <td>241.422561</td>\n",
       "      <td>0.040655</td>\n",
       "      <td>2096.421600</td>\n",
       "      <td>46.590496</td>\n",
       "      <td>16.329841</td>\n",
       "      <td>15.287518</td>\n",
       "      <td>-1.507325</td>\n",
       "      <td>1989.788774</td>\n",
       "    </tr>\n",
       "    <tr>\n",
       "      <th>std</th>\n",
       "      <td>13.675874</td>\n",
       "      <td>0.996143</td>\n",
       "      <td>4.999660</td>\n",
       "      <td>0.638461</td>\n",
       "      <td>9.211419</td>\n",
       "      <td>11.234318</td>\n",
       "      <td>13.444629</td>\n",
       "      <td>2.344085</td>\n",
       "      <td>1.55085</td>\n",
       "      <td>2.075907</td>\n",
       "      <td>24.635536</td>\n",
       "      <td>17.224665</td>\n",
       "      <td>2.852451</td>\n",
       "      <td>4.244340</td>\n",
       "      <td>444.866334</td>\n",
       "      <td>0.197541</td>\n",
       "      <td>472.834488</td>\n",
       "      <td>22.712281</td>\n",
       "      <td>8.412420</td>\n",
       "      <td>10.423658</td>\n",
       "      <td>0.359863</td>\n",
       "      <td>314.395362</td>\n",
       "    </tr>\n",
       "    <tr>\n",
       "      <th>min</th>\n",
       "      <td>0.000000</td>\n",
       "      <td>1.000000</td>\n",
       "      <td>4.000000</td>\n",
       "      <td>0.000000</td>\n",
       "      <td>140.000000</td>\n",
       "      <td>35.000000</td>\n",
       "      <td>15.000000</td>\n",
       "      <td>0.000000</td>\n",
       "      <td>7.00000</td>\n",
       "      <td>1.000000</td>\n",
       "      <td>5.000000</td>\n",
       "      <td>0.000000</td>\n",
       "      <td>1.270000</td>\n",
       "      <td>1.000000</td>\n",
       "      <td>25.970000</td>\n",
       "      <td>0.000000</td>\n",
       "      <td>1016.800000</td>\n",
       "      <td>11.900000</td>\n",
       "      <td>-10.600000</td>\n",
       "      <td>-27.400000</td>\n",
       "      <td>-2.840000</td>\n",
       "      <td>1145.800000</td>\n",
       "    </tr>\n",
       "    <tr>\n",
       "      <th>25%</th>\n",
       "      <td>30.700000</td>\n",
       "      <td>1.000000</td>\n",
       "      <td>31.142857</td>\n",
       "      <td>0.000000</td>\n",
       "      <td>161.000000</td>\n",
       "      <td>59.700000</td>\n",
       "      <td>32.000000</td>\n",
       "      <td>1.000000</td>\n",
       "      <td>13.50000</td>\n",
       "      <td>7.000000</td>\n",
       "      <td>45.000000</td>\n",
       "      <td>1.000000</td>\n",
       "      <td>9.540000</td>\n",
       "      <td>7.100000</td>\n",
       "      <td>121.240000</td>\n",
       "      <td>0.000000</td>\n",
       "      <td>1765.285000</td>\n",
       "      <td>38.700000</td>\n",
       "      <td>10.500000</td>\n",
       "      <td>8.825000</td>\n",
       "      <td>-1.550000</td>\n",
       "      <td>1777.125000</td>\n",
       "    </tr>\n",
       "    <tr>\n",
       "      <th>50%</th>\n",
       "      <td>40.200000</td>\n",
       "      <td>2.000000</td>\n",
       "      <td>31.142857</td>\n",
       "      <td>0.000000</td>\n",
       "      <td>169.000000</td>\n",
       "      <td>68.000000</td>\n",
       "      <td>41.000000</td>\n",
       "      <td>1.000000</td>\n",
       "      <td>14.64500</td>\n",
       "      <td>7.000000</td>\n",
       "      <td>60.000000</td>\n",
       "      <td>2.000000</td>\n",
       "      <td>11.200000</td>\n",
       "      <td>8.300000</td>\n",
       "      <td>169.180000</td>\n",
       "      <td>0.000000</td>\n",
       "      <td>2056.500000</td>\n",
       "      <td>45.100000</td>\n",
       "      <td>15.700000</td>\n",
       "      <td>14.500000</td>\n",
       "      <td>-1.507325</td>\n",
       "      <td>1985.500000</td>\n",
       "    </tr>\n",
       "    <tr>\n",
       "      <th>75%</th>\n",
       "      <td>48.600000</td>\n",
       "      <td>3.000000</td>\n",
       "      <td>31.142857</td>\n",
       "      <td>0.000000</td>\n",
       "      <td>175.000000</td>\n",
       "      <td>75.000000</td>\n",
       "      <td>49.000000</td>\n",
       "      <td>2.000000</td>\n",
       "      <td>15.63750</td>\n",
       "      <td>8.000000</td>\n",
       "      <td>76.000000</td>\n",
       "      <td>4.000000</td>\n",
       "      <td>13.200000</td>\n",
       "      <td>9.500000</td>\n",
       "      <td>251.800000</td>\n",
       "      <td>0.000000</td>\n",
       "      <td>2374.350000</td>\n",
       "      <td>52.000000</td>\n",
       "      <td>21.400000</td>\n",
       "      <td>21.100000</td>\n",
       "      <td>-1.490000</td>\n",
       "      <td>2178.500000</td>\n",
       "    </tr>\n",
       "    <tr>\n",
       "      <th>max</th>\n",
       "      <td>89.000000</td>\n",
       "      <td>5.000000</td>\n",
       "      <td>68.000000</td>\n",
       "      <td>3.000000</td>\n",
       "      <td>204.000000</td>\n",
       "      <td>136.100000</td>\n",
       "      <td>86.000000</td>\n",
       "      <td>51.000000</td>\n",
       "      <td>19.38000</td>\n",
       "      <td>10.000000</td>\n",
       "      <td>220.000000</td>\n",
       "      <td>360.000000</td>\n",
       "      <td>22.500000</td>\n",
       "      <td>101.000000</td>\n",
       "      <td>12113.470000</td>\n",
       "      <td>1.000000</td>\n",
       "      <td>5569.000000</td>\n",
       "      <td>559.000000</td>\n",
       "      <td>48.700000</td>\n",
       "      <td>165.000000</td>\n",
       "      <td>1.700000</td>\n",
       "      <td>3214.200000</td>\n",
       "    </tr>\n",
       "  </tbody>\n",
       "</table>\n",
       "</div>"
      ],
      "text/plain": [
       "       Large Lymphocyte  Location of herniation          ODI       과거수술횟수  \\\n",
       "count       1894.000000             1894.000000  1894.000000  1894.000000   \n",
       "mean          39.270750                2.295671    31.142857     0.302534   \n",
       "std           13.675874                0.996143     4.999660     0.638461   \n",
       "min            0.000000                1.000000     4.000000     0.000000   \n",
       "25%           30.700000                1.000000    31.142857     0.000000   \n",
       "50%           40.200000                2.000000    31.142857     0.000000   \n",
       "75%           48.600000                3.000000    31.142857     0.000000   \n",
       "max           89.000000                5.000000    68.000000     3.000000   \n",
       "\n",
       "                신장           체중           연령         입원기간     헤모글로빈수치  \\\n",
       "count  1894.000000  1894.000000  1894.000000  1894.000000  1894.00000   \n",
       "mean    168.027983    68.111140    41.463569     1.736536    14.58113   \n",
       "std       9.211419    11.234318    13.444629     2.344085     1.55085   \n",
       "min     140.000000    35.000000    15.000000     0.000000     7.00000   \n",
       "25%     161.000000    59.700000    32.000000     1.000000    13.50000   \n",
       "50%     169.000000    68.000000    41.000000     1.000000    14.64500   \n",
       "75%     175.000000    75.000000    49.000000     2.000000    15.63750   \n",
       "max     204.000000   136.100000    86.000000    51.000000    19.38000   \n",
       "\n",
       "            환자통증정도         수술시간      통증기간(월)  전방디스크높이(mm)  후방디스크높이(mm)  \\\n",
       "count  1894.000000  1894.000000  1894.000000  1894.000000  1894.000000   \n",
       "mean      6.884372    62.066304     5.871647    11.382635     8.358126   \n",
       "std       2.075907    24.635536    17.224665     2.852451     4.244340   \n",
       "min       1.000000     5.000000     0.000000     1.270000     1.000000   \n",
       "25%       7.000000    45.000000     1.000000     9.540000     7.100000   \n",
       "50%       7.000000    60.000000     2.000000    11.200000     8.300000   \n",
       "75%       8.000000    76.000000     4.000000    13.200000     9.500000   \n",
       "max      10.000000   220.000000   360.000000    22.500000   101.000000   \n",
       "\n",
       "              지방축적도  Instability      MF + ES           PI           PT  \\\n",
       "count   1894.000000  1894.000000  1894.000000  1894.000000  1894.000000   \n",
       "mean     241.422561     0.040655  2096.421600    46.590496    16.329841   \n",
       "std      444.866334     0.197541   472.834488    22.712281     8.412420   \n",
       "min       25.970000     0.000000  1016.800000    11.900000   -10.600000   \n",
       "25%      121.240000     0.000000  1765.285000    38.700000    10.500000   \n",
       "50%      169.180000     0.000000  2056.500000    45.100000    15.700000   \n",
       "75%      251.800000     0.000000  2374.350000    52.000000    21.400000   \n",
       "max    12113.470000     1.000000  5569.000000   559.000000    48.700000   \n",
       "\n",
       "       Seg Angle(raw)          골밀도       디스크단면적  \n",
       "count     1894.000000  1894.000000  1894.000000  \n",
       "mean        15.287518    -1.507325  1989.788774  \n",
       "std         10.423658     0.359863   314.395362  \n",
       "min        -27.400000    -2.840000  1145.800000  \n",
       "25%          8.825000    -1.550000  1777.125000  \n",
       "50%         14.500000    -1.507325  1985.500000  \n",
       "75%         21.100000    -1.490000  2178.500000  \n",
       "max        165.000000     1.700000  3214.200000  "
      ]
     },
     "execution_count": 57,
     "metadata": {},
     "output_type": "execute_result"
    }
   ],
   "source": [
    "# 연속형 변수 기초 통계량 확인\n",
    "continuous_vars = [\"Large Lymphocyte\",\n",
    "                   \"Location of herniation\",\n",
    "                   \"ODI\",\n",
    "                   \"과거수술횟수\",\n",
    "                   \"신장\",\n",
    "                   \"체중\",\n",
    "                   \"연령\",\n",
    "                   \"입원기간\",\n",
    "                   \"헤모글로빈수치\",\n",
    "                   \"환자통증정도\",\n",
    "                   \"수술시간\",\n",
    "                   \"통증기간(월)\",\n",
    "                   \"전방디스크높이(mm)\",\n",
    "                   \"후방디스크높이(mm)\",\n",
    "                   \"지방축적도\",\n",
    "                   \"Instability\",\n",
    "                   \"MF + ES\",\n",
    "                   \"PI\", \"PT\",\n",
    "                   \"Seg Angle(raw)\",\n",
    "                   \"골밀도\",\n",
    "                   \"디스크단면적\"\n",
    "]\n",
    "df[continuous_vars].describe(include='all')"
   ]
  },
  {
   "cell_type": "code",
   "execution_count": 58,
   "id": "70b2ba16",
   "metadata": {},
   "outputs": [
    {
     "data": {
      "text/plain": [
       "{'Large Lymphocyte': {'Number of Outliers': 35,\n",
       "  'Outliers': array([ 1.8,  1.4,  2.1,  1.4,  0. , 89. , 75.7, 89. , 86.1, 89. ,  2.6,\n",
       "          2. ,  2.3,  1.9, 86.1, 89. ,  1.8,  3.3,  1.9,  0. , 75.7,  1.2,\n",
       "          3. ,  1.8,  2.1,  2.3,  2.1,  0. , 75.7,  3. , 86.1,  2.1,  1.9,\n",
       "          3. ,  1.4])},\n",
       " 'Location of herniation': {'Number of Outliers': 0,\n",
       "  'Outliers': array([], dtype=int64)},\n",
       " 'ODI': {'Number of Outliers': 462,\n",
       "  'Outliers': array([44., 21., 13., 31., 26., 26., 14., 25., 17., 49., 30., 39., 44.,\n",
       "         31., 39., 44., 26., 43., 36., 28., 30., 32., 36., 40., 13., 24.,\n",
       "         28., 35., 28., 27., 44., 44., 12., 18., 22., 10., 29., 46., 19.,\n",
       "         21., 36., 15., 33., 33., 30., 36., 55., 32., 43., 34., 37., 42.,\n",
       "         25., 34., 44., 38., 31., 40., 24., 35., 27., 37., 27., 12., 40.,\n",
       "         21., 39., 14., 33., 36., 38., 27., 19., 44., 41., 44., 24., 44.,\n",
       "         32., 30., 35., 33., 44., 33., 26., 43., 26., 44., 12., 31., 34.,\n",
       "         19., 43., 27., 32., 15., 31., 33., 35., 37., 18., 30., 26., 37.,\n",
       "         19., 37., 25., 34., 36., 31., 25., 43., 30., 23., 33., 20., 40.,\n",
       "         40., 36., 40., 20., 23., 14., 19., 37., 44., 42., 19., 20., 22.,\n",
       "         44., 20., 40., 15., 33., 37., 26., 11., 36., 51., 35., 22., 18.,\n",
       "         31., 27., 43., 68., 22., 28., 37., 51., 31., 36., 31., 25., 44.,\n",
       "         38., 21., 44., 18., 31., 42., 33., 23., 29., 38., 40., 31., 33.,\n",
       "         15., 15., 42., 40., 39., 43., 28., 26., 26., 39., 18., 35., 42.,\n",
       "         22., 21., 45., 23., 26., 35., 51., 43., 40., 37., 27., 36., 17.,\n",
       "         68., 38., 24., 40., 27., 28., 28., 33., 14., 37., 31., 23., 36.,\n",
       "         34., 31., 40., 23., 31., 29., 10., 27., 24., 19., 11., 22., 26.,\n",
       "         21., 40., 32., 33., 30., 19., 43., 44., 18., 40., 44., 38., 36.,\n",
       "         21., 17., 37., 15., 34., 19., 15., 51., 37., 27., 32., 29., 36.,\n",
       "         22., 31., 43., 40., 44., 40., 32., 23., 26., 27., 42., 25., 22.,\n",
       "         35., 26., 55., 12., 13., 42., 43., 36., 15., 26., 29.,  9., 35.,\n",
       "         31., 46., 36., 40., 31., 15., 28., 12., 15., 20., 40., 25., 44.,\n",
       "         10., 19., 15., 26., 14., 43., 38., 40., 40., 37., 27., 26., 29.,\n",
       "         18., 26., 12., 49., 40., 30., 30., 29., 25., 29., 12., 19., 43.,\n",
       "         28., 27., 29., 46., 22., 34., 33., 19., 28., 40., 15., 37., 33.,\n",
       "         37., 27., 15., 35., 46., 43., 38., 32., 43., 34., 18., 55., 16.,\n",
       "         44., 29., 24., 44., 29., 33., 41., 44., 26., 36., 49., 36., 31.,\n",
       "         40., 37., 25., 31., 24., 21., 29., 23., 33., 25., 32., 19., 33.,\n",
       "         17., 33., 26., 31., 40., 36., 31., 42., 32., 43., 27., 34., 25.,\n",
       "         30., 34., 35., 19., 19., 36., 35., 22., 11., 35., 20., 29., 19.,\n",
       "         34., 33., 39., 33., 42., 30., 47., 37., 28., 37., 45., 18., 40.,\n",
       "         13., 31., 40., 40., 40., 40., 40., 24., 29., 16.,  4., 36., 31.,\n",
       "         37., 36., 30., 36., 34., 15., 19., 41., 26., 32., 40., 38., 40.,\n",
       "         33., 40., 37., 24., 35., 13., 26., 24., 27., 40., 36., 36., 68.,\n",
       "         37., 28., 28., 44., 29., 37., 19., 34., 27., 41., 35., 11., 29.,\n",
       "         35., 30., 36., 19., 42., 29., 55.])},\n",
       " '과거수술횟수': {'Number of Outliers': 395,\n",
       "  'Outliers': array([1, 1, 1, 1, 1, 1, 1, 2, 2, 1, 2, 1, 1, 1, 2, 1, 2, 1, 1, 1, 1, 1,\n",
       "         1, 1, 1, 2, 1, 1, 1, 1, 1, 1, 2, 1, 1, 1, 1, 1, 1, 1, 1, 1, 2, 1,\n",
       "         1, 1, 1, 1, 1, 2, 2, 2, 2, 2, 2, 2, 2, 2, 2, 2, 1, 2, 2, 1, 2, 2,\n",
       "         2, 2, 3, 3, 2, 2, 2, 1, 2, 1, 2, 1, 1, 1, 1, 2, 2, 1, 1, 2, 1, 2,\n",
       "         2, 2, 1, 2, 2, 2, 1, 2, 2, 2, 1, 2, 2, 1, 1, 1, 1, 1, 1, 1, 1, 1,\n",
       "         1, 2, 1, 1, 1, 1, 2, 1, 1, 1, 2, 1, 2, 1, 1, 1, 1, 1, 1, 2, 1, 2,\n",
       "         1, 1, 2, 1, 1, 1, 1, 2, 1, 1, 2, 2, 1, 2, 1, 2, 2, 2, 2, 2, 1, 2,\n",
       "         2, 2, 2, 2, 1, 2, 1, 1, 2, 1, 1, 2, 2, 2, 1, 2, 2, 2, 2, 1, 1, 1,\n",
       "         2, 1, 2, 1, 2, 1, 1, 2, 2, 1, 1, 1, 1, 1, 1, 1, 1, 1, 1, 1, 1, 1,\n",
       "         1, 1, 2, 1, 1, 2, 2, 1, 1, 1, 1, 2, 1, 2, 1, 1, 1, 2, 1, 2, 1, 2,\n",
       "         2, 1, 1, 1, 1, 1, 2, 1, 2, 3, 2, 2, 1, 1, 1, 1, 1, 1, 2, 1, 1, 2,\n",
       "         1, 1, 1, 2, 1, 1, 1, 2, 1, 1, 1, 2, 1, 2, 2, 1, 2, 1, 1, 1, 2, 1,\n",
       "         2, 2, 1, 1, 1, 1, 1, 1, 1, 1, 2, 2, 2, 2, 2, 2, 2, 3, 2, 2, 2, 2,\n",
       "         1, 1, 1, 2, 2, 2, 2, 2, 1, 2, 2, 2, 2, 1, 2, 1, 2, 2, 1, 1, 2, 1,\n",
       "         2, 2, 2, 2, 2, 2, 3, 1, 1, 3, 2, 1, 2, 1, 1, 3, 2, 2, 1, 2, 1, 2,\n",
       "         1, 1, 1, 2, 2, 1, 2, 2, 2, 1, 1, 1, 1, 1, 1, 2, 2, 1, 1, 1, 2, 1,\n",
       "         2, 2, 2, 2, 3, 2, 1, 1, 2, 1, 2, 1, 1, 2, 2, 1, 2, 2, 1, 1, 2, 1,\n",
       "         1, 1, 1, 1, 2, 1, 2, 1, 1, 1, 1, 1, 1, 2, 1, 1, 1, 1, 1, 1, 1],\n",
       "        dtype=int64)},\n",
       " '신장': {'Number of Outliers': 1, 'Outliers': array([204], dtype=int64)},\n",
       " '체중': {'Number of Outliers': 33,\n",
       "  'Outliers': array([ 98. , 103. ,  98. ,  35. , 113. , 100. , 110. ,  98. ,  98. ,\n",
       "         114. ,  99. ,  98.6,  98. ,  99. , 100. , 104. ,  98. ,  99.5,\n",
       "         100. , 136.1,  98. ,  99.7, 106. ,  98. ,  98. , 103. , 100. ,\n",
       "         104. , 100. ,  35. , 113. , 110. , 100. ])},\n",
       " '연령': {'Number of Outliers': 37,\n",
       "  'Outliers': array([75, 75, 77, 77, 86, 76, 76, 84, 75, 79, 78, 75, 77, 79, 76, 77, 79,\n",
       "         76, 78, 76, 79, 75, 76, 76, 76, 79, 79, 82, 75, 75, 75, 80, 76, 79,\n",
       "         84, 76, 76], dtype=int64)},\n",
       " '입원기간': {'Number of Outliers': 76,\n",
       "  'Outliers': array([ 4,  4,  5, 44,  6,  4,  4,  4,  5,  4,  4,  4, 18, 16, 11,  9, 15,\n",
       "          7,  4,  4,  8,  4,  4,  8, 13, 12,  6,  4,  4,  4,  4,  4,  4, 46,\n",
       "          4,  4, 17,  4,  4, 51, 17,  8,  7, 10,  5,  8,  4,  5,  7,  4, 27,\n",
       "          4,  4,  4,  4,  4, 11,  6,  5,  4,  7,  8, 17,  4, 11,  8,  4,  4,\n",
       "          5,  6,  4,  4,  4,  4,  4,  4], dtype=int64)},\n",
       " '헤모글로빈수치': {'Number of Outliers': 12,\n",
       "  'Outliers': array([ 9.84,  8.6 , 10.2 ,  9.7 , 10.14,  9.95,  7.6 ,  7.  , 10.  ,\n",
       "          9.7 , 19.38, 19.28])},\n",
       " '환자통증정도': {'Number of Outliers': 387,\n",
       "  'Outliers': array([ 5,  2, 10,  2, 10,  2,  2, 10, 10,  2,  2,  2,  2,  5, 10,  5,  2,\n",
       "          2,  5, 10,  2,  1, 10,  3,  4,  3,  2, 10, 10, 10, 10, 10,  1,  2,\n",
       "          3, 10,  2,  2, 10,  3,  2,  3,  2, 10, 10, 10, 10, 10,  2,  1,  2,\n",
       "          3,  2,  1, 10, 10, 10, 10,  5, 10, 10,  2,  5, 10,  2,  2,  1,  3,\n",
       "          5,  1,  1,  2,  2,  1,  2,  3,  3,  1,  1,  2,  2,  1,  2,  2,  3,\n",
       "          1,  2,  2,  1,  2,  1,  2,  2,  2, 10, 10, 10, 10,  5,  5,  5,  4,\n",
       "          5,  2,  5, 10, 10, 10,  1,  3,  3,  5,  2, 10,  2,  1, 10,  5, 10,\n",
       "          2, 10, 10,  1,  1,  2,  5, 10, 10,  1,  3,  2, 10,  1,  2,  2,  2,\n",
       "          2,  3,  1,  2,  1, 10,  2,  1, 10,  3,  3,  2, 10,  5,  2, 10,  5,\n",
       "         10,  5, 10, 10, 10, 10,  5, 10, 10, 10,  2, 10,  5,  2,  2,  2,  2,\n",
       "          2,  1,  2,  2,  3,  2,  2,  1,  2,  2,  2,  2,  2,  2,  2,  3,  2,\n",
       "         10, 10, 10, 10, 10,  5, 10,  4,  4,  2, 10,  2,  2,  1,  5,  1,  2,\n",
       "         10, 10,  5,  2,  2, 10,  2, 10, 10,  5, 10,  5,  2, 10, 10,  2, 10,\n",
       "          2, 10,  5,  5, 10,  4,  5,  3,  2,  2,  2,  2,  2,  3,  4,  2,  2,\n",
       "          3,  2, 10,  5,  5,  3,  3,  4,  1, 10,  2,  1,  2,  2,  2,  1,  3,\n",
       "          2, 10,  2,  2,  5,  5,  3, 10, 10,  3, 10,  3, 10,  2, 10,  3,  3,\n",
       "          1,  2, 10, 10, 10, 10,  5,  2,  2,  1,  2,  3,  2,  2,  3, 10, 10,\n",
       "         10, 10, 10, 10, 10,  1,  1,  1,  2,  2, 10,  5, 10, 10, 10,  5,  3,\n",
       "          1,  3,  3,  2,  2,  2,  3,  1,  1,  2,  3,  1,  3,  2,  3,  2,  2,\n",
       "          2,  2,  3,  2,  3,  1,  2,  1,  2,  1,  2,  2,  2,  3,  1,  5,  1,\n",
       "          1, 10, 10, 10,  2,  1,  5,  5,  5,  5,  5,  2, 10,  2,  1,  2,  2,\n",
       "          1, 10,  2,  2,  3,  4,  1,  1, 10,  2,  3,  5, 10, 10, 10,  1,  5,\n",
       "          5,  2, 10,  5,  3,  2,  1,  2,  2,  2,  5, 10, 10], dtype=int64)},\n",
       " '수술시간': {'Number of Outliers': 24,\n",
       "  'Outliers': array([130., 147., 165., 190., 140., 150., 135., 129., 149., 131., 123.,\n",
       "         140., 141., 152., 220., 145., 150., 144., 128., 155., 125., 140.,\n",
       "         126., 151.])},\n",
       " '통증기간(월)': {'Number of Outliers': 268,\n",
       "  'Outliers': array([ 24., 120.,  12.,  24.,  60.,  24.,   9.,  12.,  12.,  12.,  12.,\n",
       "          18.,  48.,  12.,  24.,  10., 120.,  10.,  24.,  12.,  12.,  10.,\n",
       "          12.,  12.,  18.,  10.,  36.,  36., 108., 120.,  12.,  96.,  36.,\n",
       "          24., 120.,  84.,  60.,  46.,  10.,   9.,  12.,  12.,  12.,  60.,\n",
       "          60.,  18.,  36., 240.,  12.,  12.,  12.,  10.,  12.,  12.,  12.,\n",
       "          12.,  24.,  30.,  48.,  12.,  36.,  12.,  60.,  24.,  12.,  12.,\n",
       "           9.,   9.,  12.,  10.,  24.,  10.,  24.,  12.,  24.,  12.,  12.,\n",
       "          12.,   9., 120., 120.,  36.,  12.,  12.,  24.,  16., 120.,  32.,\n",
       "          12.,  48.,  12.,  36.,  36.,  12.,  12.,  12.,  24.,   9.,  12.,\n",
       "          12.,  18.,  24.,  12.,  24.,  96.,  12.,  24.,  30.,  12.,  96.,\n",
       "          12.,  48.,  36.,  24.,  24.,  24.,  16.,  24.,  12.,  12.,  12.,\n",
       "          12.,  24.,  12.,  14.,  24.,  12.,  12.,   9.,  36.,  12.,  22.,\n",
       "          18.,  10.,  13.,  14.,  22.,  96.,  12.,  24.,  12., 120.,  12.,\n",
       "          14.,  12.,  12.,  10.,  12.,  24.,  12., 240.,  24.,  24.,  12.,\n",
       "          36.,  24.,  10.,  12.,  24.,  63.,  12.,  10.,  60.,  10.,   9.,\n",
       "          24.,  12.,   9.,  12.,  18.,   9.,   9.,  24.,  24.,  24.,  24.,\n",
       "          24.,   9.,  36.,  17.,  36.,  60.,  10., 180.,  36.,  12.,  24.,\n",
       "          96.,  15.,  10.,  36.,  18.,  21.,  21.,  12.,  12.,  24.,  12.,\n",
       "           9., 120.,  12.,  12.,  12.,   9.,  60.,  12.,  24.,  17.,  36.,\n",
       "          10.,  12.,  36.,  36.,  12.,  13.,  10.,  10.,  12.,  18.,  12.,\n",
       "          10.,  12.,  24.,  12.,  84.,   9.,  15.,  12.,   9.,   9.,  12.,\n",
       "          24.,  60.,  10.,  12.,  12.,  48.,  24.,  10.,  10.,  12., 360.,\n",
       "          48.,  10.,  24.,  12.,  12.,  48.,  12.,  10.,  12.,   9.,  12.,\n",
       "          11.,  12.,   9.,  12.,  10.,  36.,  12.,  60.,  14.,  12.,  36.,\n",
       "          36.,  12.,   9.,  12.])},\n",
       " '전방디스크높이(mm)': {'Number of Outliers': 39,\n",
       "  'Outliers': array([18.9 , 19.5 ,  1.5 , 20.5 , 19.3 ,  1.27,  1.5 , 20.5 ,  1.27,\n",
       "         22.5 ,  4.  , 20.5 ,  3.9 , 19.5 ,  3.9 , 19.5 , 19.2 , 19.6 ,\n",
       "         19.6 , 18.9 , 19.1 , 19.3 ,  4.  , 19.1 , 18.9 , 22.5 , 19.2 ,\n",
       "         19.6 , 19.1 ,  3.56,  4.  ,  1.5 ,  1.5 , 18.7 , 22.5 ,  1.27,\n",
       "         19.2 , 19.3 ,  3.9 ])},\n",
       " '후방디스크높이(mm)': {'Number of Outliers': 67,\n",
       "  'Outliers': array([  1.5 ,  13.41,   1.54,  13.3 ,   1.5 ,  13.41, 101.  ,   3.4 ,\n",
       "           3.1 ,   3.4 ,   1.9 ,   1.  ,   1.  ,  13.7 ,   3.3 ,   1.  ,\n",
       "          13.7 ,   2.6 ,   3.  ,   3.4 ,   3.3 ,   3.3 ,   1.  ,   2.6 ,\n",
       "           1.54,  13.7 ,   3.3 ,   3.  ,   3.  ,   2.  ,   3.4 ,   3.3 ,\n",
       "          13.3 , 101.  ,   2.6 ,   2.6 ,   3.4 ,  13.3 ,   3.  ,   3.  ,\n",
       "          13.2 ,   1.5 ,   2.6 ,  13.7 ,   2.5 ,   3.  ,   3.3 ,   1.  ,\n",
       "           1.  ,   3.4 , 101.  ,  15.1 ,   3.4 ,  13.7 ,  15.1 ,   2.8 ,\n",
       "           1.  ,   2.6 ,   1.54,   3.3 ,   3.3 ,  13.7 ,  13.41,  13.7 ,\n",
       "          15.1 ,   3.4 ,   3.4 ])},\n",
       " '지방축적도': {'Number of Outliers': 80,\n",
       "  'Outliers': array([  681.6 ,   469.2 ,  3879.87,   473.9 ,   665.2 ,  1167.  ,\n",
       "          2505.6 ,   681.6 ,   520.5 ,  3670.4 ,   733.2 ,   473.9 ,\n",
       "           711.4 ,   728.6 ,  3404.1 , 12113.47,  6089.43,   645.67,\n",
       "           600.  ,  2476.6 ,   487.2 ,  3670.4 ,  3879.87,   473.9 ,\n",
       "          3404.1 ,  2107.41,   508.7 ,  1167.  ,   499.8 ,   469.2 ,\n",
       "          2476.6 ,   578.51,   461.6 ,  3879.87,  1117.3 ,   636.34,\n",
       "           980.77,   556.85,   932.28,  1117.3 ,  2107.41,   665.2 ,\n",
       "           681.6 ,   625.6 ,  1167.  ,   508.7 ,  1117.3 ,   490.14,\n",
       "           499.8 ,   980.77,   556.85,   490.14,  2831.3 ,   520.5 ,\n",
       "          3404.1 ,  2476.6 ,  2505.6 ,  1134.6 ,  2831.3 ,  3670.4 ,\n",
       "           932.28,   980.77,   556.85,   499.8 ,   586.5 ,   490.14,\n",
       "          1150.42,   578.51,  1112.9 ,   469.2 ,  2107.41,   508.7 ,\n",
       "           520.5 ,   487.2 ,  2505.6 ,   665.2 ,   578.51,   487.2 ,\n",
       "          2831.3 ,   932.28])},\n",
       " 'Instability': {'Number of Outliers': 77,\n",
       "  'Outliers': array([1, 1, 1, 1, 1, 1, 1, 1, 1, 1, 1, 1, 1, 1, 1, 1, 1, 1, 1, 1, 1, 1,\n",
       "         1, 1, 1, 1, 1, 1, 1, 1, 1, 1, 1, 1, 1, 1, 1, 1, 1, 1, 1, 1, 1, 1,\n",
       "         1, 1, 1, 1, 1, 1, 1, 1, 1, 1, 1, 1, 1, 1, 1, 1, 1, 1, 1, 1, 1, 1,\n",
       "         1, 1, 1, 1, 1, 1, 1, 1, 1, 1, 1], dtype=int64)},\n",
       " 'MF + ES': {'Number of Outliers': 25,\n",
       "  'Outliers': array([3755.4 , 3382.7 , 3755.4 , 3594.7 , 3679.32, 4292.  , 5569.  ,\n",
       "         3632.6 , 3864.1 , 3679.32, 3338.8 , 3751.1 , 3679.32, 3315.7 ,\n",
       "         3864.1 , 3338.8 , 3755.4 , 3338.8 , 3703.75, 3382.7 , 3422.3 ,\n",
       "         3864.1 , 3703.75, 3703.75, 3382.7 ])},\n",
       " 'PI': {'Number of Outliers': 24,\n",
       "  'Outliers': array([ 77.6,  14. ,  77.6,  79. ,  78.6,  78. ,  72. ,  76.2, 559. ,\n",
       "         559. ,  77.6,  84.6,  14. ,  74.4, 559. ,  84.6,  76.2,  14. ,\n",
       "          75.3,  76.2,  73.8,  72.3,  11.9,  84.6])},\n",
       " 'PT': {'Number of Outliers': 25,\n",
       "  'Outliers': array([ 40.8,  40.6,  48.7,  43.2,  -6.3,  43.2,  42.3,  40.6,  40.8,\n",
       "          48.7,  42.3,  40.7,  40.6,  48.7,  42.6,  42.3, -10.6,  -6.3,\n",
       "          42. ,  41. ,  45.5,  39. ,  40.8,  -6.3,  43.2])},\n",
       " 'Seg Angle(raw)': {'Number of Outliers': 8,\n",
       "  'Outliers': array([-27.4, 165. , -27.4, 165. , -27.4, 165. ,  45.9,  59.4])},\n",
       " '골밀도': {'Number of Outliers': 779,\n",
       "  'Outliers': array([-1.3 , -1.66, -1.35, -1.04, -1.28, -1.97, -2.19, -1.68, -1.68,\n",
       "         -1.31, -0.99, -2.14, -1.76, -0.76, -1.27, -1.  , -1.82, -1.35,\n",
       "         -1.88, -1.29, -0.97, -1.87, -1.17, -0.61, -1.02, -1.99, -1.3 ,\n",
       "         -2.38, -1.7 , -1.65, -1.01, -1.83, -1.91, -1.25, -2.22, -1.01,\n",
       "         -1.18, -1.7 , -1.15, -1.2 , -0.82, -1.35, -2.  , -2.04, -0.77,\n",
       "         -0.92, -2.04, -2.08, -1.92, -1.96, -1.83, -1.36, -1.16, -1.38,\n",
       "         -1.34, -1.35, -0.95, -0.98, -1.17, -1.92, -2.21, -1.33, -1.85,\n",
       "         -0.39, -1.08, -2.2 , -1.76, -1.35, -2.02, -1.3 , -1.79, -2.02,\n",
       "         -1.66, -2.39, -2.16, -0.99, -2.36, -1.72, -2.06, -1.18, -1.29,\n",
       "         -2.44, -2.46, -1.82, -0.61, -1.79, -1.84, -0.6 , -1.77, -1.11,\n",
       "         -1.12, -1.26, -0.88, -1.09, -1.69, -1.94, -1.84, -0.95, -1.24,\n",
       "         -1.69, -1.88, -0.71, -1.36, -1.99, -2.08, -2.04, -2.13, -1.35,\n",
       "         -1.15, -2.27, -2.41, -0.98, -2.35, -1.72, -1.3 , -2.47, -1.2 ,\n",
       "         -1.14, -1.89, -1.34, -1.66, -1.76, -1.28, -0.76, -1.85, -1.11,\n",
       "         -1.93, -2.26, -1.68, -0.52, -2.09, -1.18, -1.13, -1.67, -1.86,\n",
       "         -0.61, -1.65, -1.37, -1.8 , -2.09, -1.89, -0.77, -1.95, -1.38,\n",
       "         -1.98, -2.1 , -1.18, -1.17, -1.71, -0.9 , -1.99, -1.34, -0.93,\n",
       "         -2.16, -1.95, -1.72, -0.89, -1.1 , -1.18, -1.7 , -1.77, -1.78,\n",
       "         -1.39, -1.28, -1.91, -1.91, -2.44, -1.75, -1.94, -0.42, -1.7 ,\n",
       "         -1.8 , -1.8 , -1.9 , -1.  , -1.2 , -0.9 , -1.7 , -2.1 , -0.2 ,\n",
       "         -2.17, -1.06, -1.32, -1.81, -1.21, -2.46, -1.27, -2.26, -1.35,\n",
       "         -1.91, -0.83, -1.84, -1.2 , -1.24, -1.7 , -0.72, -1.04, -2.01,\n",
       "         -1.39, -1.89, -1.14, -1.7 , -1.74, -1.36, -1.37, -1.39, -1.34,\n",
       "         -1.01, -1.21, -1.08, -1.79, -1.83, -1.16, -1.2 , -1.28, -1.72,\n",
       "         -0.81, -1.94, -2.13, -1.33, -1.04, -1.95, -2.12, -1.07, -1.15,\n",
       "         -2.11, -1.29, -1.89, -1.9 , -2.25, -1.04, -1.36, -1.27, -1.01,\n",
       "         -1.82, -1.27, -1.76, -1.67, -1.88, -1.3 , -1.98, -1.73, -1.21,\n",
       "         -0.95, -1.77, -2.11, -2.61, -2.4 , -1.94, -0.99, -1.89, -1.69,\n",
       "         -0.87, -2.24, -1.04, -0.97, -1.21, -1.26, -1.15, -1.38, -1.66,\n",
       "         -1.83, -1.34, -2.05, -1.27, -0.95, -1.12, -2.1 , -1.68, -1.87,\n",
       "         -1.  , -1.8 , -1.69, -0.64, -1.72, -2.06, -0.71, -1.1 , -2.31,\n",
       "         -2.1 , -1.92, -2.16, -1.17, -1.32, -1.96, -0.65, -1.37, -1.03,\n",
       "         -1.88, -1.25, -1.97, -2.43, -1.75, -1.65, -1.22, -1.  , -1.67,\n",
       "         -0.4 , -0.79, -1.83, -1.76, -1.24, -1.2 , -1.94, -1.11, -2.42,\n",
       "         -1.15, -0.97, -1.01, -2.04, -2.22, -1.37, -0.79, -1.67, -1.11,\n",
       "         -2.22, -1.33, -2.51, -1.1 , -0.86, -1.03, -1.74, -0.8 , -1.83,\n",
       "         -1.82, -2.18, -1.03, -2.  , -1.74, -1.27, -1.1 , -0.91, -1.31,\n",
       "         -2.12, -1.36, -2.06, -1.39, -2.46, -1.9 , -1.13, -1.16, -1.38,\n",
       "         -2.14, -1.18, -2.17, -2.04, -2.43, -0.69, -1.96, -2.51, -1.31,\n",
       "         -2.74, -1.14, -1.69, -0.83, -1.68, -1.39, -1.82, -0.1 ,  1.7 ,\n",
       "         -1.  , -1.05, -1.  , -0.88, -2.13, -1.98, -2.84, -1.75, -2.  ,\n",
       "         -0.11, -1.17, -1.73, -2.05, -1.32, -1.69, -1.29, -1.75, -1.23,\n",
       "         -1.38, -1.37, -0.96, -1.95, -1.87, -0.94, -1.67, -0.33, -1.76,\n",
       "         -1.2 , -0.87, -1.73, -1.07, -1.74, -2.09, -2.34, -2.19, -1.83,\n",
       "         -1.83, -1.11, -2.31, -0.66, -1.12, -1.7 , -1.8 , -1.9 , -1.94,\n",
       "         -0.9 , -1.15, -2.49, -2.82, -1.19, -1.68, -1.93, -1.71, -1.69,\n",
       "         -1.36, -0.85, -1.06, -1.82, -1.  , -1.01, -2.34, -1.95, -1.05,\n",
       "         -0.92, -1.27, -2.04, -2.1 , -1.39, -2.47, -1.12, -1.24, -1.7 ,\n",
       "         -1.18, -1.81, -1.9 , -1.37, -2.51, -2.26, -2.28, -1.84, -1.76,\n",
       "         -1.15, -1.86, -1.79, -1.26, -2.34, -1.97, -1.38, -2.13, -1.86,\n",
       "         -0.27, -1.24, -2.05, -2.07, -2.23, -1.25, -1.18, -1.27, -1.07,\n",
       "         -1.06, -2.18, -1.38, -1.26, -2.26, -1.  , -2.4 ,  1.14, -1.8 ,\n",
       "          1.4 , -1.38, -1.27, -1.82, -2.33, -1.14, -1.67, -1.83, -0.93,\n",
       "         -0.78, -1.32, -0.93, -2.28, -1.8 , -1.88, -1.37, -1.12, -1.95,\n",
       "         -1.09, -1.76, -0.95, -1.36, -2.33, -2.08, -0.77, -1.92, -1.66,\n",
       "         -1.04, -2.25, -1.72, -1.38, -0.99, -1.79, -1.72, -2.16, -1.36,\n",
       "         -1.13, -1.14, -1.9 , -1.75, -0.93, -1.9 , -1.67, -1.25, -1.23,\n",
       "         -1.07, -1.89, -1.21, -1.75, -1.89, -1.71, -1.37, -1.91, -1.21,\n",
       "         -1.71, -2.36, -1.1 , -1.86, -1.82, -1.  , -1.93, -0.88, -1.86,\n",
       "         -1.05, -1.14, -0.49, -1.8 , -2.63, -1.34, -2.3 , -1.86, -1.75,\n",
       "         -1.23, -0.87, -1.28, -2.05, -1.75, -0.9 , -2.47, -0.95, -2.05,\n",
       "         -1.66, -1.24, -1.38, -0.8 , -0.94, -0.97, -1.  , -1.26, -1.1 ,\n",
       "         -1.73, -1.33, -1.15, -1.26, -1.97, -1.95, -1.05, -1.17, -0.95,\n",
       "         -1.68, -1.68, -1.76, -1.88, -1.31, -1.37, -1.97, -1.79, -1.92,\n",
       "         -1.33, -1.68, -1.17, -1.99, -2.1 , -1.25, -2.36, -1.01, -0.65,\n",
       "         -0.99, -2.29, -1.14, -1.77, -1.65, -1.09, -0.8 , -1.36, -1.75,\n",
       "         -1.31, -1.  , -1.87, -1.81, -2.  , -1.  , -1.77, -1.67, -1.87,\n",
       "         -0.87, -2.24, -1.98, -1.7 , -1.74, -1.  ,  1.7 ,  0.3 , -2.3 ,\n",
       "         -1.  , -2.4 , -1.7 , -2.2 , -1.3 , -2.4 , -1.  , -1.7 , -1.1 ,\n",
       "         -1.2 , -1.8 , -2.2 ,  1.6 , -1.  , -0.5 ,  0.6 , -1.7 , -0.53,\n",
       "         -1.14, -1.19, -0.99, -1.86, -2.38, -1.36, -1.24, -1.83, -1.27,\n",
       "         -1.37, -1.31, -1.15, -2.19, -1.74, -1.65, -1.15, -1.38, -0.83,\n",
       "         -1.18, -0.98, -2.23, -1.02, -2.19, -2.  , -1.73, -1.93, -1.06,\n",
       "         -1.16, -2.01, -1.8 , -2.  , -0.99, -2.06, -0.83, -2.17, -0.96,\n",
       "         -0.87, -1.04, -1.81, -1.99, -1.28, -2.19, -1.95, -2.44, -1.03,\n",
       "         -0.92, -1.82, -1.17, -1.83, -2.44, -1.37, -1.34, -1.23, -1.17,\n",
       "         -1.7 , -1.81, -1.86, -1.04, -1.91, -0.99, -1.32, -1.37, -0.67,\n",
       "         -0.64, -1.25, -1.35, -1.82, -1.9 , -0.85, -2.13, -0.53, -1.93,\n",
       "         -1.69, -1.78, -1.81, -1.38, -1.7 , -1.76, -1.77, -1.88, -1.14,\n",
       "         -1.05, -1.9 , -1.72, -1.06, -1.27, -0.95, -1.69, -1.65, -1.33,\n",
       "         -1.23, -0.86, -2.66, -2.15, -1.71, -0.86, -1.12, -1.81, -0.92,\n",
       "         -1.75, -1.69, -1.11, -1.38, -2.17, -1.07, -0.62, -0.7 , -1.19,\n",
       "         -1.2 , -0.7 , -1.92, -1.7 , -2.13, -1.71, -1.74, -1.87, -0.99,\n",
       "         -1.29, -1.75, -1.32, -1.8 , -1.1 , -1.72, -0.97, -2.15, -1.88,\n",
       "         -1.27, -1.22, -2.05, -1.95, -1.99, -2.09, -1.66, -1.22, -0.51,\n",
       "         -2.51, -1.16, -1.12, -0.5 , -1.74, -1.71, -2.31, -0.67, -1.88,\n",
       "         -1.69, -2.06, -1.16, -1.93, -0.75])},\n",
       " '디스크단면적': {'Number of Outliers': 28,\n",
       "  'Outliers': array([2892.9 , 2813.48, 2813.48, 3088.  , 3166.14, 1170.  , 3088.  ,\n",
       "         3137.  , 3214.2 , 3182.2 , 2892.9 , 3166.14, 3088.  , 3013.6 ,\n",
       "         2892.9 , 2916.6 , 2990.28, 2812.31, 1145.8 , 2787.  , 2866.7 ,\n",
       "         2827.3 , 2813.48, 3013.6 , 3166.14, 3137.  , 3013.6 , 3137.  ])}}"
      ]
     },
     "execution_count": 58,
     "metadata": {},
     "output_type": "execute_result"
    }
   ],
   "source": [
    "# IQR로 이상치 파악\n",
    "outliers_info = {}\n",
    "\n",
    "for var in continuous_vars:\n",
    "    Q1 = df[var].quantile(0.25)\n",
    "    Q3 = df[var].quantile(0.75)\n",
    "    IQR = Q3 - Q1\n",
    "    lower_bound = Q1 - 1.5 * IQR\n",
    "    upper_bound = Q3 + 1.5 * IQR\n",
    "\n",
    "    outliers = df[(df[var] < lower_bound) | (df[var] > upper_bound)]\n",
    "    outliers_info[var] = {\n",
    "        'Number of Outliers': outliers.shape[0],\n",
    "        'Outliers': outliers[var].values\n",
    "    }\n",
    "\n",
    "outliers_info"
   ]
  },
  {
   "cell_type": "markdown",
   "id": "1611fb7e",
   "metadata": {},
   "source": [
    "### 1) 입원기간이 최대 51개월인 행 drop"
   ]
  },
  {
   "cell_type": "code",
   "execution_count": 59,
   "id": "dc336e6e",
   "metadata": {},
   "outputs": [
    {
     "data": {
      "text/plain": [
       "(1893, 51)"
      ]
     },
     "execution_count": 59,
     "metadata": {},
     "output_type": "execute_result"
    }
   ],
   "source": [
    "df = df.drop(df[df['입원기간']==51].index)\n",
    "df.shape"
   ]
  },
  {
   "cell_type": "markdown",
   "id": "8e109b31",
   "metadata": {},
   "source": [
    "### 2) PI 값이 559인 행 drop"
   ]
  },
  {
   "cell_type": "code",
   "execution_count": 60,
   "id": "334705d3",
   "metadata": {},
   "outputs": [
    {
     "data": {
      "text/plain": [
       "(1890, 51)"
      ]
     },
     "execution_count": 60,
     "metadata": {},
     "output_type": "execute_result"
    }
   ],
   "source": [
    "df = df.drop(df[df['PI']==559].index)\n",
    "df.shape"
   ]
  },
  {
   "cell_type": "markdown",
   "id": "5f7fa849",
   "metadata": {},
   "source": [
    "## 2.2 범주형 변수"
   ]
  },
  {
   "cell_type": "code",
   "execution_count": 61,
   "id": "878925a9",
   "metadata": {},
   "outputs": [
    {
     "data": {
      "text/plain": [
       "{'가족력': 가족력\n",
       " 0.0    1798\n",
       " 1.0      92\n",
       " Name: count, dtype: int64,\n",
       " '간질성폐질환': 간질성폐질환\n",
       " 0    1852\n",
       " 1      38\n",
       " Name: count, dtype: int64,\n",
       " '고혈압여부': 고혈압여부\n",
       " 0    1644\n",
       " 1     246\n",
       " Name: count, dtype: int64,\n",
       " '당뇨여부': 당뇨여부\n",
       " 0    1771\n",
       " 1     119\n",
       " Name: count, dtype: int64,\n",
       " '말초동맥질환여부': 말초동맥질환여부\n",
       " 0    1882\n",
       " 1       8\n",
       " Name: count, dtype: int64,\n",
       " '빈혈여부': 빈혈여부\n",
       " 0    1844\n",
       " 1      46\n",
       " Name: count, dtype: int64,\n",
       " '성별': 성별\n",
       " 1    1165\n",
       " 2     725\n",
       " Name: count, dtype: int64,\n",
       " '스테로이드치료': 스테로이드치료\n",
       " 1    1131\n",
       " 0     759\n",
       " Name: count, dtype: int64,\n",
       " '신부전여부': 신부전여부\n",
       " 0    1842\n",
       " 1      48\n",
       " Name: count, dtype: int64,\n",
       " '심혈관질환': 심혈관질환\n",
       " 0    1822\n",
       " 1      68\n",
       " Name: count, dtype: int64,\n",
       " '암발병여부': 암발병여부\n",
       " 0    1864\n",
       " 1      26\n",
       " Name: count, dtype: int64,\n",
       " '우울증여부': 우울증여부\n",
       " 0    1847\n",
       " 1      42\n",
       " 2       1\n",
       " Name: count, dtype: int64,\n",
       " '종양진행여부': 종양진행여부\n",
       " 0    1884\n",
       " 1       6\n",
       " Name: count, dtype: int64,\n",
       " '직업': 직업\n",
       " 사무직        449\n",
       " Unknown    414\n",
       " 자영업        170\n",
       " 무직         164\n",
       " 학생         135\n",
       " 주부         113\n",
       " 군인          90\n",
       " 공무원         51\n",
       " 운수업         50\n",
       " 노동직         41\n",
       " 의료직         40\n",
       " 농업          40\n",
       " 사업가         39\n",
       " 교사          30\n",
       " 특수전문직       23\n",
       " 건설업         17\n",
       " 운동선수        14\n",
       " 예술가         10\n",
       " Name: count, dtype: int64,\n",
       " '혈전합병증여부': 혈전합병증여부\n",
       " 0    1886\n",
       " 1       4\n",
       " Name: count, dtype: int64,\n",
       " '흡연여부': 흡연여부\n",
       " 0    1479\n",
       " 1     411\n",
       " Name: count, dtype: int64,\n",
       " '수술기법': 수술기법\n",
       " TELD    1750\n",
       " IELD     140\n",
       " Name: count, dtype: int64,\n",
       " '수술실패여부': 수술실패여부\n",
       " 0    1775\n",
       " 1     115\n",
       " Name: count, dtype: int64,\n",
       " '재발여부': 재발여부\n",
       " 0    1667\n",
       " 1     223\n",
       " Name: count, dtype: int64,\n",
       " '혈액형': 혈액형\n",
       " RH+A     687\n",
       " RH+O     530\n",
       " RH+B     475\n",
       " RH+AB    198\n",
       " Name: count, dtype: int64,\n",
       " 'Modic change': Modic change\n",
       " 0    1639\n",
       " 2     171\n",
       " 1      58\n",
       " 3      22\n",
       " Name: count, dtype: int64,\n",
       " 'Vaccum disc': Vaccum disc\n",
       " 0    1783\n",
       " 1     107\n",
       " Name: count, dtype: int64,\n",
       " '디스크위치': 디스크위치\n",
       " 4     1454\n",
       " 5      271\n",
       " 3      112\n",
       " 2       27\n",
       " 45       9\n",
       " 34       8\n",
       " 11       2\n",
       " 10       2\n",
       " 25       1\n",
       " 35       1\n",
       " 1        1\n",
       " 12       1\n",
       " 23       1\n",
       " Name: count, dtype: int64,\n",
       " '척추이동척도': 척추이동척도\n",
       " Middle            1257\n",
       " Down               512\n",
       " Up                  65\n",
       " Extremely down      40\n",
       " Extremely up        16\n",
       " Name: count, dtype: int64,\n",
       " '척추전방위증': 척추전방위증\n",
       " 0    1829\n",
       " 1      61\n",
       " Name: count, dtype: int64}"
      ]
     },
     "execution_count": 61,
     "metadata": {},
     "output_type": "execute_result"
    }
   ],
   "source": [
    "# 범주형 변수 고유 값 확인\n",
    "cat_vars = [\"가족력\", \"간질성폐질환\", \"고혈압여부\", \"당뇨여부\", \"말초동맥질환여부\", \"빈혈여부\", \"성별\",\n",
    "            \"스테로이드치료\", \"신부전여부\", \"심혈관질환\", \"암발병여부\", \"우울증여부\", \"종양진행여부\",\n",
    "            \"직업\", \"혈전합병증여부\", \"흡연여부\", \"수술기법\", \"수술실패여부\", \"재발여부\", \"혈액형\",\n",
    "            \"Modic change\", \"Vaccum disc\", \"디스크위치\", \"척추이동척도\", \"척추전방위증\"    \n",
    "]\n",
    "cat_vars_val = {var: df[var].value_counts() for var in cat_vars}\n",
    "cat_vars_val"
   ]
  },
  {
   "cell_type": "markdown",
   "id": "29223110",
   "metadata": {},
   "source": [
    "### 1) 우울증여부 칼럼 2의 값인 행 drop"
   ]
  },
  {
   "cell_type": "code",
   "execution_count": 62,
   "id": "f58f34bb",
   "metadata": {},
   "outputs": [
    {
     "data": {
      "text/plain": [
       "(1889, 51)"
      ]
     },
     "execution_count": 62,
     "metadata": {},
     "output_type": "execute_result"
    }
   ],
   "source": [
    "df = df.drop(df[df['우울증여부']==2].index)\n",
    "df.shape"
   ]
  },
  {
   "cell_type": "markdown",
   "id": "8289b028-d5e4-4f52-a409-e224fa1658ec",
   "metadata": {},
   "source": [
    "## 2.3 데이터 변환"
   ]
  },
  {
   "cell_type": "markdown",
   "id": "0ca6df4e",
   "metadata": {},
   "source": [
    "### 1) 성별 칼럼 남성:1, 여성:2 -> 남성:0, 여성:1 로 변환"
   ]
  },
  {
   "cell_type": "code",
   "execution_count": 63,
   "id": "1ba375d7",
   "metadata": {},
   "outputs": [
    {
     "data": {
      "text/plain": [
       "array([0, 1], dtype=int64)"
      ]
     },
     "execution_count": 63,
     "metadata": {},
     "output_type": "execute_result"
    }
   ],
   "source": [
    "df['성별'] = df['성별'].replace(1, 0)\n",
    "df['성별'] = df['성별'].replace(2, 1)\n",
    "df['성별'].unique()"
   ]
  },
  {
   "cell_type": "markdown",
   "id": "2853386d",
   "metadata": {},
   "source": [
    "## 2.4 파생변수 생성"
   ]
  },
  {
   "cell_type": "code",
   "execution_count": 64,
   "id": "43dea2c1",
   "metadata": {},
   "outputs": [],
   "source": [
    "#파생변수만을 담는 새로운 df 생성\n",
    "df_derive = df.copy()"
   ]
  },
  {
   "cell_type": "markdown",
   "id": "88cdc653",
   "metadata": {},
   "source": [
    "### 1) 연령대\n",
    "연령 칼럼을 통해 10 ~ 20, 30 ~ 40, 50 ~ 60, 70대 이상으로 범주형 변수 '연령대' 생성"
   ]
  },
  {
   "cell_type": "code",
   "execution_count": 65,
   "id": "49a27189",
   "metadata": {},
   "outputs": [
    {
     "data": {
      "image/png": "[encoded data removed]",
      "text/plain": [
       "<Figure size 1000x600 with 1 Axes>"
      ]
     },
     "metadata": {},
     "output_type": "display_data"
    }
   ],
   "source": [
    "# 연령 칼럼 도수분포 그래프 확인\n",
    "plt.figure(figsize=(10, 6))\n",
    "sns.histplot(df_derive['연령'], kde=True, bins=30, color='green')\n",
    "plt.title('Frequency Distribution of Age')\n",
    "plt.xlabel('Age')\n",
    "plt.ylabel('Frequency')\n",
    "plt.show()"
   ]
  },
  {
   "cell_type": "code",
   "execution_count": 66,
   "id": "ba55e36f",
   "metadata": {},
   "outputs": [
    {
     "data": {
      "text/html": [
       "<div>\n",
       "<style scoped>\n",
       "    .dataframe tbody tr th:only-of-type {\n",
       "        vertical-align: middle;\n",
       "    }\n",
       "\n",
       "    .dataframe tbody tr th {\n",
       "        vertical-align: top;\n",
       "    }\n",
       "\n",
       "    .dataframe thead th {\n",
       "        text-align: right;\n",
       "    }\n",
       "</style>\n",
       "<table border=\"1\" class=\"dataframe\">\n",
       "  <thead>\n",
       "    <tr style=\"text-align: right;\">\n",
       "      <th></th>\n",
       "      <th>연령</th>\n",
       "      <th>연령대</th>\n",
       "    </tr>\n",
       "  </thead>\n",
       "  <tbody>\n",
       "    <tr>\n",
       "      <th>0</th>\n",
       "      <td>34</td>\n",
       "      <td>30-40대</td>\n",
       "    </tr>\n",
       "    <tr>\n",
       "      <th>1</th>\n",
       "      <td>19</td>\n",
       "      <td>10-20대</td>\n",
       "    </tr>\n",
       "    <tr>\n",
       "      <th>2</th>\n",
       "      <td>28</td>\n",
       "      <td>10-20대</td>\n",
       "    </tr>\n",
       "    <tr>\n",
       "      <th>3</th>\n",
       "      <td>22</td>\n",
       "      <td>10-20대</td>\n",
       "    </tr>\n",
       "    <tr>\n",
       "      <th>4</th>\n",
       "      <td>50</td>\n",
       "      <td>50-60대</td>\n",
       "    </tr>\n",
       "  </tbody>\n",
       "</table>\n",
       "</div>"
      ],
      "text/plain": [
       "   연령     연령대\n",
       "0  34  30-40대\n",
       "1  19  10-20대\n",
       "2  28  10-20대\n",
       "3  22  10-20대\n",
       "4  50  50-60대"
      ]
     },
     "execution_count": 66,
     "metadata": {},
     "output_type": "execute_result"
    }
   ],
   "source": [
    "# 연령대 범주 설정\n",
    "bins = [0, 29, 49, 69, 100]  # 0~29, 30~49, 50~69, 70~100\n",
    "labels = ['10-20대', '30-40대', '50-60대', '70대 이상']\n",
    "\n",
    "# '연령' 칼럼을 범주형으로 변환\n",
    "df_derive['연령대'] = pd.cut(df_derive['연령'], bins=bins, labels=labels, right=False)\n",
    "\n",
    "# 결과 확인\n",
    "df_derive[['연령', '연령대']].head()"
   ]
  },
  {
   "cell_type": "markdown",
   "id": "96c4b638",
   "metadata": {},
   "source": [
    "### 2) T-score\n",
    "T-score criteria 에 따른 범주형 변수 'T-score' 생성  \n",
    "  \n",
    "* T-score ≤ -2.5 (골다공증), -2.5 < T-score < -1.0 (골감소증), T-score ≥ -1 (정상). \n",
    "* WHO의 T-score criteria에 따라 골밀도 검사 상 T-score≥-1인 경우 정상, -2.5<T-score<-1.0 경우 7 골감소증, T-score≤-2.5인 경우 골다공증으로 구분"
   ]
  },
  {
   "cell_type": "code",
   "execution_count": 67,
   "id": "5dc831cb",
   "metadata": {},
   "outputs": [
    {
     "data": {
      "image/png": "[encoded data removed]",
      "text/plain": [
       "<Figure size 1000x600 with 1 Axes>"
      ]
     },
     "metadata": {},
     "output_type": "display_data"
    }
   ],
   "source": [
    "# 골밀도 칼럼 도수분포 그래프 확인\n",
    "plt.figure(figsize=(10, 6))\n",
    "sns.histplot(df_derive['골밀도'], kde=True, bins=30, color='green')\n",
    "plt.title('Frequency Distribution of Age')\n",
    "plt.xlabel('골밀도')\n",
    "plt.ylabel('Frequency')\n",
    "plt.show()"
   ]
  },
  {
   "cell_type": "code",
   "execution_count": 68,
   "id": "da071339",
   "metadata": {},
   "outputs": [
    {
     "data": {
      "text/html": [
       "<div>\n",
       "<style scoped>\n",
       "    .dataframe tbody tr th:only-of-type {\n",
       "        vertical-align: middle;\n",
       "    }\n",
       "\n",
       "    .dataframe tbody tr th {\n",
       "        vertical-align: top;\n",
       "    }\n",
       "\n",
       "    .dataframe thead th {\n",
       "        text-align: right;\n",
       "    }\n",
       "</style>\n",
       "<table border=\"1\" class=\"dataframe\">\n",
       "  <thead>\n",
       "    <tr style=\"text-align: right;\">\n",
       "      <th></th>\n",
       "      <th>골밀도</th>\n",
       "      <th>T-score</th>\n",
       "    </tr>\n",
       "  </thead>\n",
       "  <tbody>\n",
       "    <tr>\n",
       "      <th>0</th>\n",
       "      <td>-1.507325</td>\n",
       "      <td>골감소증</td>\n",
       "    </tr>\n",
       "    <tr>\n",
       "      <th>1</th>\n",
       "      <td>-1.507325</td>\n",
       "      <td>골감소증</td>\n",
       "    </tr>\n",
       "    <tr>\n",
       "      <th>2</th>\n",
       "      <td>-1.507325</td>\n",
       "      <td>골감소증</td>\n",
       "    </tr>\n",
       "    <tr>\n",
       "      <th>3</th>\n",
       "      <td>-1.507325</td>\n",
       "      <td>골감소증</td>\n",
       "    </tr>\n",
       "    <tr>\n",
       "      <th>4</th>\n",
       "      <td>-1.507325</td>\n",
       "      <td>골감소증</td>\n",
       "    </tr>\n",
       "  </tbody>\n",
       "</table>\n",
       "</div>"
      ],
      "text/plain": [
       "        골밀도 T-score\n",
       "0 -1.507325    골감소증\n",
       "1 -1.507325    골감소증\n",
       "2 -1.507325    골감소증\n",
       "3 -1.507325    골감소증\n",
       "4 -1.507325    골감소증"
      ]
     },
     "execution_count": 68,
     "metadata": {},
     "output_type": "execute_result"
    }
   ],
   "source": [
    "# T-score 범주 설정\n",
    "bins = [-float('inf'), -2.5, -1, float('inf')]  # T-score 구간 설정\n",
    "labels = ['골다공증', '골감소증', '정상']  # T-score 레이블 설정\n",
    "\n",
    "# '골밀도' 칼럼을 범주형으로 변환\n",
    "df_derive['T-score'] = pd.cut(df_derive['골밀도'], bins=bins, labels=labels, right=False)\n",
    "\n",
    "# 결과 확인\n",
    "df_derive[['골밀도', 'T-score']].head()"
   ]
  },
  {
   "cell_type": "markdown",
   "id": "2639c813",
   "metadata": {},
   "source": [
    "### 3) 수술 받은 계절 \n",
    "수술일을 통해 범주형 변수 '수술 받은 계절' 생성  \n",
    "* 12-2월 : 겨울, 3-5월 : 봄, 6-8월 : 여름, 9-11월 : 가을"
   ]
  },
  {
   "cell_type": "code",
   "execution_count": 69,
   "id": "20d8448b",
   "metadata": {},
   "outputs": [
    {
     "data": {
      "text/html": [
       "<div>\n",
       "<style scoped>\n",
       "    .dataframe tbody tr th:only-of-type {\n",
       "        vertical-align: middle;\n",
       "    }\n",
       "\n",
       "    .dataframe tbody tr th {\n",
       "        vertical-align: top;\n",
       "    }\n",
       "\n",
       "    .dataframe thead th {\n",
       "        text-align: right;\n",
       "    }\n",
       "</style>\n",
       "<table border=\"1\" class=\"dataframe\">\n",
       "  <thead>\n",
       "    <tr style=\"text-align: right;\">\n",
       "      <th></th>\n",
       "      <th>수술일</th>\n",
       "      <th>수술 받은 계절</th>\n",
       "    </tr>\n",
       "  </thead>\n",
       "  <tbody>\n",
       "    <tr>\n",
       "      <th>0</th>\n",
       "      <td>2012-04-02</td>\n",
       "      <td>봄</td>\n",
       "    </tr>\n",
       "    <tr>\n",
       "      <th>1</th>\n",
       "      <td>2012-04-09</td>\n",
       "      <td>봄</td>\n",
       "    </tr>\n",
       "    <tr>\n",
       "      <th>2</th>\n",
       "      <td>2012-05-14</td>\n",
       "      <td>봄</td>\n",
       "    </tr>\n",
       "    <tr>\n",
       "      <th>3</th>\n",
       "      <td>2014-02-17</td>\n",
       "      <td>겨울</td>\n",
       "    </tr>\n",
       "    <tr>\n",
       "      <th>4</th>\n",
       "      <td>2014-03-24</td>\n",
       "      <td>봄</td>\n",
       "    </tr>\n",
       "  </tbody>\n",
       "</table>\n",
       "</div>"
      ],
      "text/plain": [
       "          수술일 수술 받은 계절\n",
       "0  2012-04-02        봄\n",
       "1  2012-04-09        봄\n",
       "2  2012-05-14        봄\n",
       "3  2014-02-17       겨울\n",
       "4  2014-03-24        봄"
      ]
     },
     "execution_count": 69,
     "metadata": {},
     "output_type": "execute_result"
    }
   ],
   "source": [
    "# '수술일' 칼럼에서 월 정보를 추출하는 함수 정의\n",
    "def get_season(date):\n",
    "    month = pd.to_datetime(date).month  # '수술일'에서 월 정보 추출\n",
    "    if month in [3, 4, 5]:\n",
    "        return '봄'\n",
    "    elif month in [6, 7, 8]:\n",
    "        return '여름'\n",
    "    elif month in [9, 10, 11]:\n",
    "        return '가을'\n",
    "    else:  # 12, 1, 2월\n",
    "        return '겨울'\n",
    "\n",
    "# '수술 받은 계절' 칼럼 생성\n",
    "df_derive['수술 받은 계절'] = df_derive['수술일'].apply(get_season)\n",
    "\n",
    "# 결과 확인\n",
    "df_derive[['수술일', '수술 받은 계절']].head()"
   ]
  },
  {
   "cell_type": "markdown",
   "id": "7ee3d7d5",
   "metadata": {},
   "source": [
    "### 4) BMI \n",
    "신장, 체중을 통해, BMI 에 따른 연속형 변수 'BMI' 생성 "
   ]
  },
  {
   "cell_type": "code",
   "execution_count": 70,
   "id": "8773ef62",
   "metadata": {},
   "outputs": [
    {
     "data": {
      "text/html": [
       "<div>\n",
       "<style scoped>\n",
       "    .dataframe tbody tr th:only-of-type {\n",
       "        vertical-align: middle;\n",
       "    }\n",
       "\n",
       "    .dataframe tbody tr th {\n",
       "        vertical-align: top;\n",
       "    }\n",
       "\n",
       "    .dataframe thead th {\n",
       "        text-align: right;\n",
       "    }\n",
       "</style>\n",
       "<table border=\"1\" class=\"dataframe\">\n",
       "  <thead>\n",
       "    <tr style=\"text-align: right;\">\n",
       "      <th></th>\n",
       "      <th>신장</th>\n",
       "      <th>체중</th>\n",
       "      <th>BMI</th>\n",
       "    </tr>\n",
       "  </thead>\n",
       "  <tbody>\n",
       "    <tr>\n",
       "      <th>0</th>\n",
       "      <td>174</td>\n",
       "      <td>75.0</td>\n",
       "      <td>24.772097</td>\n",
       "    </tr>\n",
       "    <tr>\n",
       "      <th>1</th>\n",
       "      <td>172</td>\n",
       "      <td>70.0</td>\n",
       "      <td>23.661439</td>\n",
       "    </tr>\n",
       "    <tr>\n",
       "      <th>2</th>\n",
       "      <td>177</td>\n",
       "      <td>68.0</td>\n",
       "      <td>21.705129</td>\n",
       "    </tr>\n",
       "    <tr>\n",
       "      <th>3</th>\n",
       "      <td>172</td>\n",
       "      <td>70.0</td>\n",
       "      <td>23.661439</td>\n",
       "    </tr>\n",
       "    <tr>\n",
       "      <th>4</th>\n",
       "      <td>166</td>\n",
       "      <td>77.0</td>\n",
       "      <td>27.943098</td>\n",
       "    </tr>\n",
       "  </tbody>\n",
       "</table>\n",
       "</div>"
      ],
      "text/plain": [
       "    신장    체중        BMI\n",
       "0  174  75.0  24.772097\n",
       "1  172  70.0  23.661439\n",
       "2  177  68.0  21.705129\n",
       "3  172  70.0  23.661439\n",
       "4  166  77.0  27.943098"
      ]
     },
     "execution_count": 70,
     "metadata": {},
     "output_type": "execute_result"
    }
   ],
   "source": [
    "# BMI 계산 및 'BMI' 칼럼 생성\n",
    "df_derive['BMI'] = df_derive['체중'] / ((df_derive['신장'] / 100) ** 2)\n",
    "\n",
    "# 결과 확인\n",
    "df_derive[['신장', '체중', 'BMI']].head()"
   ]
  },
  {
   "cell_type": "markdown",
   "id": "61be3fe5",
   "metadata": {},
   "source": [
    "### 5) df_derive에 파생 변수 유도 변수 및 분석에서 사용 제외되는 변수 제거"
   ]
  },
  {
   "cell_type": "code",
   "execution_count": 71,
   "id": "22d3420e",
   "metadata": {},
   "outputs": [
    {
     "data": {
      "text/html": [
       "<div>\n",
       "<style scoped>\n",
       "    .dataframe tbody tr th:only-of-type {\n",
       "        vertical-align: middle;\n",
       "    }\n",
       "\n",
       "    .dataframe tbody tr th {\n",
       "        vertical-align: top;\n",
       "    }\n",
       "\n",
       "    .dataframe thead th {\n",
       "        text-align: right;\n",
       "    }\n",
       "</style>\n",
       "<table border=\"1\" class=\"dataframe\">\n",
       "  <thead>\n",
       "    <tr style=\"text-align: right;\">\n",
       "      <th></th>\n",
       "      <th>환자ID</th>\n",
       "      <th>수술기법</th>\n",
       "      <th>수술시간</th>\n",
       "      <th>수술실패여부</th>\n",
       "      <th>재발여부</th>\n",
       "      <th>헤모글로빈수치</th>\n",
       "      <th>환자통증정도</th>\n",
       "      <th>통증기간(월)</th>\n",
       "      <th>혈액형</th>\n",
       "      <th>Large Lymphocyte</th>\n",
       "      <th>Location of herniation</th>\n",
       "      <th>ODI</th>\n",
       "      <th>가족력</th>\n",
       "      <th>간질성폐질환</th>\n",
       "      <th>고혈압여부</th>\n",
       "      <th>과거수술횟수</th>\n",
       "      <th>당뇨여부</th>\n",
       "      <th>말초동맥질환여부</th>\n",
       "      <th>빈혈여부</th>\n",
       "      <th>성별</th>\n",
       "      <th>스테로이드치료</th>\n",
       "      <th>신부전여부</th>\n",
       "      <th>심혈관질환</th>\n",
       "      <th>암발병여부</th>\n",
       "      <th>우울증여부</th>\n",
       "      <th>입원기간</th>\n",
       "      <th>종양진행여부</th>\n",
       "      <th>직업</th>\n",
       "      <th>혈전합병증여부</th>\n",
       "      <th>흡연여부</th>\n",
       "      <th>전방디스크높이(mm)</th>\n",
       "      <th>후방디스크높이(mm)</th>\n",
       "      <th>지방축적도</th>\n",
       "      <th>Instability</th>\n",
       "      <th>MF + ES</th>\n",
       "      <th>Modic change</th>\n",
       "      <th>PI</th>\n",
       "      <th>PT</th>\n",
       "      <th>Seg Angle(raw)</th>\n",
       "      <th>Vaccum disc</th>\n",
       "      <th>디스크단면적</th>\n",
       "      <th>디스크위치</th>\n",
       "      <th>척추이동척도</th>\n",
       "      <th>척추전방위증</th>\n",
       "      <th>연령대</th>\n",
       "      <th>T-score</th>\n",
       "      <th>수술 받은 계절</th>\n",
       "      <th>BMI</th>\n",
       "    </tr>\n",
       "  </thead>\n",
       "  <tbody>\n",
       "    <tr>\n",
       "      <th>0</th>\n",
       "      <td>1052PT</td>\n",
       "      <td>TELD</td>\n",
       "      <td>30.0</td>\n",
       "      <td>0</td>\n",
       "      <td>0</td>\n",
       "      <td>15.1</td>\n",
       "      <td>7</td>\n",
       "      <td>0.2</td>\n",
       "      <td>RH+O</td>\n",
       "      <td>10.5</td>\n",
       "      <td>2</td>\n",
       "      <td>44.0</td>\n",
       "      <td>0.0</td>\n",
       "      <td>0</td>\n",
       "      <td>0</td>\n",
       "      <td>0</td>\n",
       "      <td>0</td>\n",
       "      <td>0</td>\n",
       "      <td>0</td>\n",
       "      <td>0</td>\n",
       "      <td>0</td>\n",
       "      <td>0</td>\n",
       "      <td>0</td>\n",
       "      <td>0</td>\n",
       "      <td>0</td>\n",
       "      <td>1</td>\n",
       "      <td>0</td>\n",
       "      <td>사무직</td>\n",
       "      <td>0</td>\n",
       "      <td>1</td>\n",
       "      <td>13.3</td>\n",
       "      <td>11.7</td>\n",
       "      <td>318.6</td>\n",
       "      <td>0</td>\n",
       "      <td>2425.8</td>\n",
       "      <td>0</td>\n",
       "      <td>49.7</td>\n",
       "      <td>27.6</td>\n",
       "      <td>1.2</td>\n",
       "      <td>0</td>\n",
       "      <td>2155.3</td>\n",
       "      <td>4</td>\n",
       "      <td>Middle</td>\n",
       "      <td>0</td>\n",
       "      <td>30-40대</td>\n",
       "      <td>골감소증</td>\n",
       "      <td>봄</td>\n",
       "      <td>24.772097</td>\n",
       "    </tr>\n",
       "    <tr>\n",
       "      <th>1</th>\n",
       "      <td>1056PT</td>\n",
       "      <td>TELD</td>\n",
       "      <td>70.0</td>\n",
       "      <td>0</td>\n",
       "      <td>0</td>\n",
       "      <td>16.0</td>\n",
       "      <td>7</td>\n",
       "      <td>5.0</td>\n",
       "      <td>RH+O</td>\n",
       "      <td>46.7</td>\n",
       "      <td>3</td>\n",
       "      <td>21.0</td>\n",
       "      <td>1.0</td>\n",
       "      <td>0</td>\n",
       "      <td>0</td>\n",
       "      <td>0</td>\n",
       "      <td>0</td>\n",
       "      <td>0</td>\n",
       "      <td>0</td>\n",
       "      <td>0</td>\n",
       "      <td>1</td>\n",
       "      <td>0</td>\n",
       "      <td>0</td>\n",
       "      <td>0</td>\n",
       "      <td>0</td>\n",
       "      <td>1</td>\n",
       "      <td>0</td>\n",
       "      <td>군인</td>\n",
       "      <td>0</td>\n",
       "      <td>0</td>\n",
       "      <td>17.2</td>\n",
       "      <td>8.3</td>\n",
       "      <td>153.7</td>\n",
       "      <td>0</td>\n",
       "      <td>2677.2</td>\n",
       "      <td>0</td>\n",
       "      <td>36.3</td>\n",
       "      <td>4.5</td>\n",
       "      <td>7.3</td>\n",
       "      <td>0</td>\n",
       "      <td>2143.1</td>\n",
       "      <td>4</td>\n",
       "      <td>Middle</td>\n",
       "      <td>0</td>\n",
       "      <td>10-20대</td>\n",
       "      <td>골감소증</td>\n",
       "      <td>봄</td>\n",
       "      <td>23.661439</td>\n",
       "    </tr>\n",
       "    <tr>\n",
       "      <th>2</th>\n",
       "      <td>1093PT</td>\n",
       "      <td>TELD</td>\n",
       "      <td>45.0</td>\n",
       "      <td>0</td>\n",
       "      <td>0</td>\n",
       "      <td>15.0</td>\n",
       "      <td>5</td>\n",
       "      <td>24.0</td>\n",
       "      <td>RH+A</td>\n",
       "      <td>30.1</td>\n",
       "      <td>3</td>\n",
       "      <td>13.0</td>\n",
       "      <td>0.0</td>\n",
       "      <td>0</td>\n",
       "      <td>0</td>\n",
       "      <td>0</td>\n",
       "      <td>0</td>\n",
       "      <td>0</td>\n",
       "      <td>0</td>\n",
       "      <td>0</td>\n",
       "      <td>0</td>\n",
       "      <td>0</td>\n",
       "      <td>0</td>\n",
       "      <td>1</td>\n",
       "      <td>1</td>\n",
       "      <td>1</td>\n",
       "      <td>0</td>\n",
       "      <td>Unknown</td>\n",
       "      <td>0</td>\n",
       "      <td>0</td>\n",
       "      <td>10.0</td>\n",
       "      <td>6.9</td>\n",
       "      <td>117.0</td>\n",
       "      <td>0</td>\n",
       "      <td>1704.0</td>\n",
       "      <td>0</td>\n",
       "      <td>41.3</td>\n",
       "      <td>17.4</td>\n",
       "      <td>13.4</td>\n",
       "      <td>0</td>\n",
       "      <td>1868.7</td>\n",
       "      <td>4</td>\n",
       "      <td>Down</td>\n",
       "      <td>0</td>\n",
       "      <td>10-20대</td>\n",
       "      <td>골감소증</td>\n",
       "      <td>봄</td>\n",
       "      <td>21.705129</td>\n",
       "    </tr>\n",
       "  </tbody>\n",
       "</table>\n",
       "</div>"
      ],
      "text/plain": [
       "     환자ID  수술기법  수술시간  수술실패여부  재발여부  헤모글로빈수치  환자통증정도  통증기간(월)   혈액형  \\\n",
       "0  1052PT  TELD  30.0       0     0     15.1       7      0.2  RH+O   \n",
       "1  1056PT  TELD  70.0       0     0     16.0       7      5.0  RH+O   \n",
       "2  1093PT  TELD  45.0       0     0     15.0       5     24.0  RH+A   \n",
       "\n",
       "   Large Lymphocyte  Location of herniation   ODI  가족력  간질성폐질환  고혈압여부  과거수술횟수  \\\n",
       "0              10.5                       2  44.0  0.0       0      0       0   \n",
       "1              46.7                       3  21.0  1.0       0      0       0   \n",
       "2              30.1                       3  13.0  0.0       0      0       0   \n",
       "\n",
       "   당뇨여부  말초동맥질환여부  빈혈여부  성별  스테로이드치료  신부전여부  심혈관질환  암발병여부  우울증여부  입원기간  \\\n",
       "0     0         0     0   0        0      0      0      0      0     1   \n",
       "1     0         0     0   0        1      0      0      0      0     1   \n",
       "2     0         0     0   0        0      0      0      1      1     1   \n",
       "\n",
       "   종양진행여부       직업  혈전합병증여부  흡연여부  전방디스크높이(mm)  후방디스크높이(mm)  지방축적도  \\\n",
       "0       0      사무직        0     1         13.3         11.7  318.6   \n",
       "1       0       군인        0     0         17.2          8.3  153.7   \n",
       "2       0  Unknown        0     0         10.0          6.9  117.0   \n",
       "\n",
       "   Instability  MF + ES  Modic change    PI    PT  Seg Angle(raw)  \\\n",
       "0            0   2425.8             0  49.7  27.6             1.2   \n",
       "1            0   2677.2             0  36.3   4.5             7.3   \n",
       "2            0   1704.0             0  41.3  17.4            13.4   \n",
       "\n",
       "   Vaccum disc  디스크단면적  디스크위치  척추이동척도  척추전방위증     연령대 T-score 수술 받은 계절  \\\n",
       "0            0  2155.3      4  Middle       0  30-40대    골감소증        봄   \n",
       "1            0  2143.1      4  Middle       0  10-20대    골감소증        봄   \n",
       "2            0  1868.7      4    Down       0  10-20대    골감소증        봄   \n",
       "\n",
       "         BMI  \n",
       "0  24.772097  \n",
       "1  23.661439  \n",
       "2  21.705129  "
      ]
     },
     "execution_count": 71,
     "metadata": {},
     "output_type": "execute_result"
    }
   ],
   "source": [
    "df_derive = df_derive.drop('연령', axis=1)\n",
    "df_derive = df_derive.drop('신장', axis=1)\n",
    "df_derive = df_derive.drop('체중', axis=1)\n",
    "df_derive = df_derive.drop('수술일', axis=1)\n",
    "df_derive = df_derive.drop('입원일', axis=1)\n",
    "df_derive = df_derive.drop('퇴원일', axis=1)\n",
    "df_derive = df_derive.drop('골밀도', axis=1)\n",
    "df_derive.head(3)"
   ]
  },
  {
   "cell_type": "markdown",
   "id": "3922e9fb-fbf6-40a9-98c4-dae4572323cc",
   "metadata": {},
   "source": [
    "### 6) 원본 데이터(df)와 파생변수 데이터(df_derive) 비교"
   ]
  },
  {
   "cell_type": "code",
   "execution_count": 72,
   "id": "3dd4f00c",
   "metadata": {
    "scrolled": true
   },
   "outputs": [
    {
     "name": "stdout",
     "output_type": "stream",
     "text": [
      "<class 'pandas.core.frame.DataFrame'>\n",
      "Index: 1889 entries, 0 to 1893\n",
      "Data columns (total 51 columns):\n",
      " #   Column                  Non-Null Count  Dtype  \n",
      "---  ------                  --------------  -----  \n",
      " 0   환자ID                    1889 non-null   object \n",
      " 1   수술기법                    1889 non-null   object \n",
      " 2   수술시간                    1889 non-null   float64\n",
      " 3   수술실패여부                  1889 non-null   int64  \n",
      " 4   신장                      1889 non-null   int64  \n",
      " 5   연령                      1889 non-null   int64  \n",
      " 6   재발여부                    1889 non-null   int64  \n",
      " 7   체중                      1889 non-null   float64\n",
      " 8   헤모글로빈수치                 1889 non-null   float64\n",
      " 9   환자통증정도                  1889 non-null   int64  \n",
      " 10  통증기간(월)                 1889 non-null   float64\n",
      " 11  혈액형                     1889 non-null   object \n",
      " 12  입원일                     1889 non-null   object \n",
      " 13  퇴원일                     1889 non-null   object \n",
      " 14  수술일                     1889 non-null   object \n",
      " 15  Large Lymphocyte        1889 non-null   float64\n",
      " 16  Location of herniation  1889 non-null   int64  \n",
      " 17  ODI                     1889 non-null   float64\n",
      " 18  가족력                     1889 non-null   float64\n",
      " 19  간질성폐질환                  1889 non-null   int64  \n",
      " 20  고혈압여부                   1889 non-null   int64  \n",
      " 21  과거수술횟수                  1889 non-null   int64  \n",
      " 22  당뇨여부                    1889 non-null   int64  \n",
      " 23  말초동맥질환여부                1889 non-null   int64  \n",
      " 24  빈혈여부                    1889 non-null   int64  \n",
      " 25  성별                      1889 non-null   int64  \n",
      " 26  스테로이드치료                 1889 non-null   int64  \n",
      " 27  신부전여부                   1889 non-null   int64  \n",
      " 28  심혈관질환                   1889 non-null   int64  \n",
      " 29  암발병여부                   1889 non-null   int64  \n",
      " 30  우울증여부                   1889 non-null   int64  \n",
      " 31  입원기간                    1889 non-null   int64  \n",
      " 32  종양진행여부                  1889 non-null   int64  \n",
      " 33  직업                      1889 non-null   object \n",
      " 34  혈전합병증여부                 1889 non-null   int64  \n",
      " 35  흡연여부                    1889 non-null   int64  \n",
      " 36  전방디스크높이(mm)             1889 non-null   float64\n",
      " 37  후방디스크높이(mm)             1889 non-null   float64\n",
      " 38  지방축적도                   1889 non-null   float64\n",
      " 39  Instability             1889 non-null   int64  \n",
      " 40  MF + ES                 1889 non-null   float64\n",
      " 41  Modic change            1889 non-null   int64  \n",
      " 42  PI                      1889 non-null   float64\n",
      " 43  PT                      1889 non-null   float64\n",
      " 44  Seg Angle(raw)          1889 non-null   float64\n",
      " 45  Vaccum disc             1889 non-null   int64  \n",
      " 46  골밀도                     1889 non-null   float64\n",
      " 47  디스크단면적                  1889 non-null   float64\n",
      " 48  디스크위치                   1889 non-null   int64  \n",
      " 49  척추이동척도                  1889 non-null   object \n",
      " 50  척추전방위증                  1889 non-null   int64  \n",
      "dtypes: float64(16), int64(27), object(8)\n",
      "memory usage: 767.4+ KB\n",
      "None\n",
      "********************\n",
      "<class 'pandas.core.frame.DataFrame'>\n",
      "Index: 1889 entries, 0 to 1893\n",
      "Data columns (total 48 columns):\n",
      " #   Column                  Non-Null Count  Dtype   \n",
      "---  ------                  --------------  -----   \n",
      " 0   환자ID                    1889 non-null   object  \n",
      " 1   수술기법                    1889 non-null   object  \n",
      " 2   수술시간                    1889 non-null   float64 \n",
      " 3   수술실패여부                  1889 non-null   int64   \n",
      " 4   재발여부                    1889 non-null   int64   \n",
      " 5   헤모글로빈수치                 1889 non-null   float64 \n",
      " 6   환자통증정도                  1889 non-null   int64   \n",
      " 7   통증기간(월)                 1889 non-null   float64 \n",
      " 8   혈액형                     1889 non-null   object  \n",
      " 9   Large Lymphocyte        1889 non-null   float64 \n",
      " 10  Location of herniation  1889 non-null   int64   \n",
      " 11  ODI                     1889 non-null   float64 \n",
      " 12  가족력                     1889 non-null   float64 \n",
      " 13  간질성폐질환                  1889 non-null   int64   \n",
      " 14  고혈압여부                   1889 non-null   int64   \n",
      " 15  과거수술횟수                  1889 non-null   int64   \n",
      " 16  당뇨여부                    1889 non-null   int64   \n",
      " 17  말초동맥질환여부                1889 non-null   int64   \n",
      " 18  빈혈여부                    1889 non-null   int64   \n",
      " 19  성별                      1889 non-null   int64   \n",
      " 20  스테로이드치료                 1889 non-null   int64   \n",
      " 21  신부전여부                   1889 non-null   int64   \n",
      " 22  심혈관질환                   1889 non-null   int64   \n",
      " 23  암발병여부                   1889 non-null   int64   \n",
      " 24  우울증여부                   1889 non-null   int64   \n",
      " 25  입원기간                    1889 non-null   int64   \n",
      " 26  종양진행여부                  1889 non-null   int64   \n",
      " 27  직업                      1889 non-null   object  \n",
      " 28  혈전합병증여부                 1889 non-null   int64   \n",
      " 29  흡연여부                    1889 non-null   int64   \n",
      " 30  전방디스크높이(mm)             1889 non-null   float64 \n",
      " 31  후방디스크높이(mm)             1889 non-null   float64 \n",
      " 32  지방축적도                   1889 non-null   float64 \n",
      " 33  Instability             1889 non-null   int64   \n",
      " 34  MF + ES                 1889 non-null   float64 \n",
      " 35  Modic change            1889 non-null   int64   \n",
      " 36  PI                      1889 non-null   float64 \n",
      " 37  PT                      1889 non-null   float64 \n",
      " 38  Seg Angle(raw)          1889 non-null   float64 \n",
      " 39  Vaccum disc             1889 non-null   int64   \n",
      " 40  디스크단면적                  1889 non-null   float64 \n",
      " 41  디스크위치                   1889 non-null   int64   \n",
      " 42  척추이동척도                  1889 non-null   object  \n",
      " 43  척추전방위증                  1889 non-null   int64   \n",
      " 44  연령대                     1889 non-null   category\n",
      " 45  T-score                 1889 non-null   category\n",
      " 46  수술 받은 계절                1889 non-null   object  \n",
      " 47  BMI                     1889 non-null   float64 \n",
      "dtypes: category(2), float64(15), int64(25), object(6)\n",
      "memory usage: 697.6+ KB\n",
      "None\n"
     ]
    }
   ],
   "source": [
    "print(df.info())\n",
    "print('*'*20)\n",
    "print(df_derive.info())"
   ]
  },
  {
   "cell_type": "code",
   "execution_count": 73,
   "id": "6ac01970-40e7-4278-9c45-7c875e264d7e",
   "metadata": {},
   "outputs": [],
   "source": [
    "df_derive.to_csv('processed_data.csv', index=False)"
   ]
  },
  {
   "cell_type": "markdown",
   "id": "c84de6da-3fc3-45d2-b2be-be4600a4bcfa",
   "metadata": {},
   "source": [
    "# 3. EDA & 통계적 검정"
   ]
  },
  {
   "cell_type": "code",
   "execution_count": 74,
   "id": "d8d6464d-f97b-40f0-939d-791b752acb1f",
   "metadata": {},
   "outputs": [],
   "source": [
    "df1 = df.copy()"
   ]
  },
  {
   "cell_type": "code",
   "execution_count": 75,
   "id": "15c63fec-9bc5-400f-900a-8414f897bc83",
   "metadata": {},
   "outputs": [],
   "source": [
    "numeric_col=df.select_dtypes(exclude='object').columns\n",
    "numeric_col\n",
    "binary = ['수술실패여부', '재발여부', '퇴원일', '수술일', 'Location of herniation', '가족력', '간질성폐질환',\n",
    "          '고혈압여부', '과거수술횟수', '당뇨여부', '말초동맥질환여부', '빈혈여부', '성별', '스테로이드치료', '신부전여부',\n",
    "          '심혈관질환', '암발병여부', '우울증여부', '입원기간', '종양진행여부', '혈전합병증여부', '흡연여부', 'Instability',\n",
    "          'Modic change', 'Vaccum disc', '디스크위치', '척추전방위증', '입원일수', 'T-score', '과거수술여부', '월_금']\n",
    "filtered_list = [item for item in numeric_col if item not in binary]"
   ]
  },
  {
   "cell_type": "markdown",
   "id": "7099d3a1-c3d8-4b53-b67f-55fe1b0ff417",
   "metadata": {},
   "source": [
    "## 3.1 특정 변수에 따른 수술실패여부의 차이 검정 \n",
    "### 1) Man whitney_U 검정\n",
    "수술 성공 집단과 실패 집단의 연속형 변수에 대한 평균차이 검정"
   ]
  },
  {
   "cell_type": "code",
   "execution_count": 76,
   "id": "9c8d2b01-c6d9-44d2-be0c-5ef24c5ce435",
   "metadata": {},
   "outputs": [
    {
     "name": "stdout",
     "output_type": "stream",
     "text": [
      "\n",
      "수술실패여부에 따른 수술시간 의 평균차이\n",
      "U-Statistic: 97065.0\n",
      "P-Value: 0.38325662145340456\n",
      "두집단 간의 분포에 차이가 없다. (X)\n",
      "\n",
      "****************************************************************************************************\n",
      "\n",
      "수술실패여부에 따른 신장 의 평균차이\n",
      "U-Statistic: 99122.5\n",
      "P-Value: 0.6109538314595028\n",
      "두집단 간의 분포에 차이가 없다. (X)\n",
      "\n",
      "****************************************************************************************************\n",
      "\n",
      "수술실패여부에 따른 연령 의 평균차이\n",
      "U-Statistic: 85064.0\n",
      "P-Value: 0.002793096255826099\n",
      "두집단 간의 분포에 차이가 있다. (O)\n",
      "\n",
      "****************************************************************************************************\n",
      "\n",
      "수술실패여부에 따른 체중 의 평균차이\n",
      "U-Statistic: 94100.5\n",
      "P-Value: 0.1631443452483764\n",
      "두집단 간의 분포에 차이가 없다. (X)\n",
      "\n",
      "****************************************************************************************************\n",
      "\n",
      "수술실패여부에 따른 헤모글로빈수치 의 평균차이\n",
      "U-Statistic: 102725.5\n",
      "P-Value: 0.898922232412995\n",
      "두집단 간의 분포에 차이가 없다. (X)\n",
      "\n",
      "****************************************************************************************************\n",
      "\n",
      "수술실패여부에 따른 환자통증정도 의 평균차이\n",
      "U-Statistic: 80562.0\n",
      "P-Value: 5.907919640346366e-05\n",
      "두집단 간의 분포에 차이가 있다. (O)\n",
      "\n",
      "****************************************************************************************************\n",
      "\n",
      "수술실패여부에 따른 통증기간(월) 의 평균차이\n",
      "U-Statistic: 109277.5\n",
      "P-Value: 0.17980340227346603\n",
      "두집단 간의 분포에 차이가 없다. (X)\n",
      "\n",
      "****************************************************************************************************\n",
      "\n",
      "수술실패여부에 따른 Large Lymphocyte 의 평균차이\n",
      "U-Statistic: 98798.0\n",
      "P-Value: 0.5716132572300194\n",
      "두집단 간의 분포에 차이가 없다. (X)\n",
      "\n",
      "****************************************************************************************************\n",
      "\n",
      "수술실패여부에 따른 ODI 의 평균차이\n",
      "U-Statistic: 90057.0\n",
      "P-Value: 0.0051983386617686575\n",
      "두집단 간의 분포에 차이가 있다. (O)\n",
      "\n",
      "****************************************************************************************************\n",
      "\n",
      "수술실패여부에 따른 전방디스크높이(mm) 의 평균차이\n",
      "U-Statistic: 99039.0\n",
      "P-Value: 0.6008473553618788\n",
      "두집단 간의 분포에 차이가 없다. (X)\n",
      "\n",
      "****************************************************************************************************\n",
      "\n",
      "수술실패여부에 따른 후방디스크높이(mm) 의 평균차이\n",
      "U-Statistic: 96768.0\n",
      "P-Value: 0.35555201187774854\n",
      "두집단 간의 분포에 차이가 없다. (X)\n",
      "\n",
      "****************************************************************************************************\n",
      "\n",
      "수술실패여부에 따른 지방축적도 의 평균차이\n",
      "U-Statistic: 104117.0\n",
      "P-Value: 0.7095210353668837\n",
      "두집단 간의 분포에 차이가 없다. (X)\n",
      "\n",
      "****************************************************************************************************\n",
      "\n",
      "수술실패여부에 따른 MF + ES 의 평균차이\n",
      "U-Statistic: 100948.5\n",
      "P-Value: 0.8522143799369207\n",
      "두집단 간의 분포에 차이가 없다. (X)\n",
      "\n",
      "****************************************************************************************************\n",
      "\n",
      "수술실패여부에 따른 PI 의 평균차이\n",
      "U-Statistic: 102746.0\n",
      "P-Value: 0.8960631026443919\n",
      "두집단 간의 분포에 차이가 없다. (X)\n",
      "\n",
      "****************************************************************************************************\n",
      "\n",
      "수술실패여부에 따른 PT 의 평균차이\n",
      "U-Statistic: 99063.5\n",
      "P-Value: 0.6038711795947406\n",
      "두집단 간의 분포에 차이가 없다. (X)\n",
      "\n",
      "****************************************************************************************************\n",
      "\n",
      "수술실패여부에 따른 Seg Angle(raw) 의 평균차이\n",
      "U-Statistic: 107394.0\n",
      "P-Value: 0.3417960741065993\n",
      "두집단 간의 분포에 차이가 없다. (X)\n",
      "\n",
      "****************************************************************************************************\n",
      "\n",
      "수술실패여부에 따른 골밀도 의 평균차이\n",
      "U-Statistic: 95200.0\n",
      "P-Value: 0.20422979704093014\n",
      "두집단 간의 분포에 차이가 없다. (X)\n",
      "\n",
      "****************************************************************************************************\n",
      "\n",
      "수술실패여부에 따른 디스크단면적 의 평균차이\n",
      "U-Statistic: 88813.0\n",
      "P-Value: 0.019956065536569742\n",
      "두집단 간의 분포에 차이가 있다. (O)\n",
      "\n",
      "****************************************************************************************************\n"
     ]
    }
   ],
   "source": [
    "meaning_true = []\n",
    "from scipy import stats\n",
    "for col in filtered_list:\n",
    "\n",
    "    group1 = df[df['수술실패여부']==0][col]\n",
    "    group2 = df[df['수술실패여부']==1][col]\n",
    "\n",
    "    # 맨-휘트니 U 검정 수행\n",
    "    u_statistic, p_value = stats.mannwhitneyu(group1, group2, alternative='two-sided')\n",
    "\n",
    "    # 결과 출력\n",
    "    print()\n",
    "    print('수술실패여부에 따른', col, '의 평균차이')\n",
    "    print(f'U-Statistic: {u_statistic}')\n",
    "    print(f'P-Value: {p_value}')\n",
    "    if p_value < 0.05:\n",
    "        print('두집단 간의 분포에 차이가 있다. (O)')\n",
    "        print()\n",
    "        print('*'*100)\n",
    "        meaning_true.append(col)\n",
    "    else:\n",
    "        print('두집단 간의 분포에 차이가 없다. (X)')\n",
    "        print()\n",
    "        print('*'*100)"
   ]
  },
  {
   "cell_type": "markdown",
   "id": "4f63bbdf-b5b1-4ea4-91ee-c2b2aa609519",
   "metadata": {},
   "source": [
    "### 2) 카이제곱 검정\n",
    "범주형 변수와 수술 실패여부의 연관성을 확인하는 검정"
   ]
  },
  {
   "cell_type": "code",
   "execution_count": 77,
   "id": "46030c81-5ba6-4b68-97df-bdf0693a7853",
   "metadata": {
    "scrolled": true
   },
   "outputs": [
    {
     "name": "stdout",
     "output_type": "stream",
     "text": [
      "\n",
      "수술실패여부에 따른 Location of herniation 의 차이\n",
      "Chi-Statistic: 8.96900513669931\n",
      "P-Value: 0.06187889143524695\n",
      "두 변수 간 차이가 있다. (O)\n",
      "\n",
      "****************************************************************************************************\n",
      "\n",
      "수술실패여부에 따른 가족력 의 차이\n",
      "Chi-Statistic: 0.16157557124467078\n",
      "P-Value: 0.6877100501628721\n",
      "두 변수 간 차이가 있다. (O)\n",
      "\n",
      "****************************************************************************************************\n",
      "\n",
      "수술실패여부에 따른 간질성폐질환 의 차이\n",
      "Chi-Statistic: 0.0\n",
      "P-Value: 1.0\n",
      "두 변수 간 차이가 있다. (O)\n",
      "\n",
      "****************************************************************************************************\n",
      "\n",
      "수술실패여부에 따른 고혈압여부 의 차이\n",
      "Chi-Statistic: 0.5207019870270334\n",
      "P-Value: 0.47054238785249813\n",
      "두 변수 간 차이가 있다. (O)\n",
      "\n",
      "****************************************************************************************************\n",
      "\n",
      "수술실패여부에 따른 과거수술횟수 의 차이\n",
      "Chi-Statistic: 9.61482949473498\n",
      "P-Value: 0.022140628479541596\n",
      "두 변수 간 차이가 있다. (O)\n",
      "\n",
      "****************************************************************************************************\n",
      "\n",
      "수술실패여부에 따른 당뇨여부 의 차이\n",
      "Chi-Statistic: 1.6624166732764147\n",
      "P-Value: 0.1972773451505421\n",
      "두 변수 간 차이가 있다. (O)\n",
      "\n",
      "****************************************************************************************************\n",
      "\n",
      "수술실패여부에 따른 말초동맥질환여부 의 차이\n",
      "Chi-Statistic: 0.0\n",
      "P-Value: 1.0\n",
      "두 변수 간 차이가 있다. (O)\n",
      "\n",
      "****************************************************************************************************\n",
      "\n",
      "수술실패여부에 따른 빈혈여부 의 차이\n",
      "Chi-Statistic: 2.840223571662276\n",
      "P-Value: 0.09193142193573188\n",
      "두 변수 간 차이가 있다. (O)\n",
      "\n",
      "****************************************************************************************************\n",
      "\n",
      "수술실패여부에 따른 성별 의 차이\n",
      "Chi-Statistic: 3.6361938305376857\n",
      "P-Value: 0.05653604385169034\n",
      "두 변수 간 차이가 있다. (O)\n",
      "\n",
      "****************************************************************************************************\n",
      "\n",
      "수술실패여부에 따른 스테로이드치료 의 차이\n",
      "Chi-Statistic: 2.6896155728020403\n",
      "P-Value: 0.10100417977935924\n",
      "두 변수 간 차이가 있다. (O)\n",
      "\n",
      "****************************************************************************************************\n",
      "\n",
      "수술실패여부에 따른 신부전여부 의 차이\n",
      "Chi-Statistic: 0.0666418216005953\n",
      "P-Value: 0.7962905479511461\n",
      "두 변수 간 차이가 있다. (O)\n",
      "\n",
      "****************************************************************************************************\n",
      "\n",
      "수술실패여부에 따른 심혈관질환 의 차이\n",
      "Chi-Statistic: 0.03462724204212117\n",
      "P-Value: 0.8523789163435821\n",
      "두 변수 간 차이가 있다. (O)\n",
      "\n",
      "****************************************************************************************************\n",
      "\n",
      "수술실패여부에 따른 암발병여부 의 차이\n",
      "Chi-Statistic: 0.7998218547967907\n",
      "P-Value: 0.37114663734400577\n",
      "두 변수 간 차이가 있다. (O)\n",
      "\n",
      "****************************************************************************************************\n",
      "\n",
      "수술실패여부에 따른 우울증여부 의 차이\n",
      "Chi-Statistic: 0.001379371487943065\n",
      "P-Value: 0.9703734657041921\n",
      "두 변수 간 차이가 있다. (O)\n",
      "\n",
      "****************************************************************************************************\n",
      "\n",
      "수술실패여부에 따른 입원기간 의 차이\n",
      "Chi-Statistic: 19.399683429433075\n",
      "P-Value: 0.4959991638752672\n",
      "두 변수 간 차이가 있다. (O)\n",
      "\n",
      "****************************************************************************************************\n",
      "\n",
      "수술실패여부에 따른 종양진행여부 의 차이\n",
      "Chi-Statistic: 0.0\n",
      "P-Value: 1.0\n",
      "두 변수 간 차이가 있다. (O)\n",
      "\n",
      "****************************************************************************************************\n",
      "\n",
      "수술실패여부에 따른 혈전합병증여부 의 차이\n",
      "Chi-Statistic: 0.0\n",
      "P-Value: 1.0\n",
      "두 변수 간 차이가 있다. (O)\n",
      "\n",
      "****************************************************************************************************\n",
      "\n",
      "수술실패여부에 따른 흡연여부 의 차이\n",
      "Chi-Statistic: 4.886941631891015\n",
      "P-Value: 0.027060581771783485\n",
      "두 변수 간 차이가 있다. (O)\n",
      "\n",
      "****************************************************************************************************\n",
      "\n",
      "수술실패여부에 따른 Instability 의 차이\n",
      "Chi-Statistic: 4.152785058499492\n",
      "P-Value: 0.04156610371309163\n",
      "두 변수 간 차이가 있다. (O)\n",
      "\n",
      "****************************************************************************************************\n",
      "\n",
      "수술실패여부에 따른 Modic change 의 차이\n",
      "Chi-Statistic: 9.298104619122352\n",
      "P-Value: 0.02557908591593053\n",
      "두 변수 간 차이가 있다. (O)\n",
      "\n",
      "****************************************************************************************************\n",
      "\n",
      "수술실패여부에 따른 Vaccum disc 의 차이\n",
      "Chi-Statistic: 0.16845410069784522\n",
      "P-Value: 0.6814893674728564\n",
      "두 변수 간 차이가 있다. (O)\n",
      "\n",
      "****************************************************************************************************\n",
      "\n",
      "수술실패여부에 따른 디스크위치 의 차이\n",
      "Chi-Statistic: 10.98934450651166\n",
      "P-Value: 0.5298320864284967\n",
      "두 변수 간 차이가 있다. (O)\n",
      "\n",
      "****************************************************************************************************\n",
      "\n",
      "수술실패여부에 따른 척추전방위증 의 차이\n",
      "Chi-Statistic: 1.451906594859817\n",
      "P-Value: 0.22822226948227925\n",
      "두 변수 간 차이가 있다. (O)\n",
      "\n",
      "****************************************************************************************************\n",
      "\n",
      "수술실패여부에 따른 과거수술횟수 의 차이\n",
      "Chi-Statistic: 9.61482949473498\n",
      "P-Value: 0.022140628479541596\n",
      "두 변수 간 차이가 있다. (O)\n",
      "\n",
      "****************************************************************************************************\n"
     ]
    }
   ],
   "source": [
    "binary1 = ['Location of herniation', '가족력', '간질성폐질환', '고혈압여부', '과거수술횟수', '당뇨여부', '말초동맥질환여부',\n",
    "           '빈혈여부', '성별', '스테로이드치료', '신부전여부', '심혈관질환', '암발병여부', '우울증여부', '입원기간', '종양진행여부',\n",
    "           '혈전합병증여부', '흡연여부', 'Instability', 'Modic change', 'Vaccum disc', '디스크위치', '척추전방위증', '과거수술횟수'] \n",
    "\n",
    "for col in binary1:\n",
    "\n",
    "    contingency_table = pd.crosstab(df['수술실패여부'], df[col])\n",
    "    chi2_stat, p_val, dof, expected = chi2_contingency(contingency_table )\n",
    "\n",
    "    # 결과 출력\n",
    "    print()\n",
    "    print('수술실패여부에 따른', col, '의 차이')\n",
    "    print(f'Chi-Statistic: {chi2_stat}')\n",
    "    print(f'P-Value: {p_val}')\n",
    "    if p_value < 0.05:\n",
    "        print('두 변수 간 차이가 있다. (O)')\n",
    "        print()\n",
    "        print('*'*100)\n",
    "        meaning_true.append(col)\n",
    "    else:\n",
    "        print('두 변수 간 차이가 없다. (X)')\n",
    "        print()\n",
    "        print('*'*100)"
   ]
  },
  {
   "cell_type": "code",
   "execution_count": 78,
   "id": "e820f589-3dd6-4db8-85b3-f9fdf45d7f2c",
   "metadata": {},
   "outputs": [],
   "source": [
    "df1['수술실패여부'] = df1['수술실패여부'].replace({0: '수술O', 1: '수술X'})\n",
    "df1['수술일'] = pd.to_datetime(df1['수술일'])\n",
    "df1['수술_weekday'] = df1['수술일'].dt.weekday"
   ]
  },
  {
   "cell_type": "code",
   "execution_count": 79,
   "id": "16f6c96f-f593-4b87-b1f0-94be57b96c76",
   "metadata": {},
   "outputs": [
    {
     "data": {
      "text/plain": [
       "<Axes: xlabel='수술_weekday', ylabel='count'>"
      ]
     },
     "execution_count": 79,
     "metadata": {},
     "output_type": "execute_result"
    },
    {
     "data": {
      "image/png": "[encoded data removed]",
      "text/plain": [
       "<Figure size 640x480 with 1 Axes>"
      ]
     },
     "metadata": {},
     "output_type": "display_data"
    }
   ],
   "source": [
    "sns.countplot(x=df1['수술_weekday'], hue = df1['수술실패여부'])"
   ]
  },
  {
   "cell_type": "markdown",
   "id": "e818abc4-abb4-4245-86cb-34b383a4650e",
   "metadata": {},
   "source": [
    "0(월), 5(토), 6(일)은 수술 실패 횟수가 적어, 제거함."
   ]
  },
  {
   "cell_type": "code",
   "execution_count": 80,
   "id": "360cc419-306a-421a-b2d3-e597fc51bfc6",
   "metadata": {},
   "outputs": [
    {
     "data": {
      "text/html": [
       "<div>\n",
       "<style scoped>\n",
       "    .dataframe tbody tr th:only-of-type {\n",
       "        vertical-align: middle;\n",
       "    }\n",
       "\n",
       "    .dataframe tbody tr th {\n",
       "        vertical-align: top;\n",
       "    }\n",
       "\n",
       "    .dataframe thead th {\n",
       "        text-align: right;\n",
       "    }\n",
       "</style>\n",
       "<table border=\"1\" class=\"dataframe\">\n",
       "  <thead>\n",
       "    <tr style=\"text-align: right;\">\n",
       "      <th>수술_weekday</th>\n",
       "      <th>1</th>\n",
       "      <th>2</th>\n",
       "      <th>3</th>\n",
       "      <th>4</th>\n",
       "    </tr>\n",
       "    <tr>\n",
       "      <th>수술실패여부</th>\n",
       "      <th></th>\n",
       "      <th></th>\n",
       "      <th></th>\n",
       "      <th></th>\n",
       "    </tr>\n",
       "  </thead>\n",
       "  <tbody>\n",
       "    <tr>\n",
       "      <th>수술O</th>\n",
       "      <td>409</td>\n",
       "      <td>270</td>\n",
       "      <td>324</td>\n",
       "      <td>478</td>\n",
       "    </tr>\n",
       "    <tr>\n",
       "      <th>수술X</th>\n",
       "      <td>31</td>\n",
       "      <td>14</td>\n",
       "      <td>16</td>\n",
       "      <td>34</td>\n",
       "    </tr>\n",
       "  </tbody>\n",
       "</table>\n",
       "</div>"
      ],
      "text/plain": [
       "수술_weekday    1    2    3    4\n",
       "수술실패여부                        \n",
       "수술O         409  270  324  478\n",
       "수술X          31   14   16   34"
      ]
     },
     "execution_count": 80,
     "metadata": {},
     "output_type": "execute_result"
    }
   ],
   "source": [
    "contingency_table = pd.crosstab(df1['수술실패여부'], df1['수술_weekday'])\n",
    "contingency_table.drop(columns=[0, 5, 6],inplace=True)\n",
    "contingency_table"
   ]
  },
  {
   "cell_type": "code",
   "execution_count": 81,
   "id": "4faa16f3-ea2f-48a1-9097-cd1350cbe0f1",
   "metadata": {},
   "outputs": [
    {
     "name": "stdout",
     "output_type": "stream",
     "text": [
      "카이제곱 통계량: 2.797438238410942\n",
      "p-value: 0.42392180226725507\n"
     ]
    }
   ],
   "source": [
    "chi2_stat, p_val, dof, expected = chi2_contingency(contingency_table )\n",
    "\n",
    "print(\"카이제곱 통계량:\", chi2_stat)\n",
    "print(\"p-value:\", p_val)"
   ]
  },
  {
   "cell_type": "markdown",
   "id": "b6926e94-6836-4a4c-8f66-bb0a56d43682",
   "metadata": {},
   "source": [
    "## 3.3 특정 변수에 따른 재발 여부의 차이 검정 \n",
    "### 1) Man whitney_U 검정\n",
    "재발 집단과 재발하지 않은 집단의 연속형 변수에 대한 평균차이 검정"
   ]
  },
  {
   "cell_type": "code",
   "execution_count": 82,
   "id": "654b7dab-fbf5-4884-86b1-13146b60d0e8",
   "metadata": {},
   "outputs": [
    {
     "name": "stdout",
     "output_type": "stream",
     "text": [
      "재발여부에 따른 수술시간 의 평균차이\n",
      "U-Statistic: 176594.5\n",
      "P-Value: 0.2306448072165701\n",
      "두집단 간의 분포에 차이가 없다. (X)\n",
      "\n",
      "****************************************************************************************************\n",
      "재발여부에 따른 신장 의 평균차이\n",
      "U-Statistic: 165514.5\n",
      "P-Value: 0.008098049216150573\n",
      "두집단 간의 분포에 차이가 있다. (O)\n",
      "\n",
      "****************************************************************************************************\n",
      "재발여부에 따른 연령 의 평균차이\n",
      "U-Statistic: 168083.0\n",
      "P-Value: 0.020803559006638626\n",
      "두집단 간의 분포에 차이가 있다. (O)\n",
      "\n",
      "****************************************************************************************************\n",
      "재발여부에 따른 체중 의 평균차이\n",
      "U-Statistic: 141083.5\n",
      "P-Value: 5.185581966659166e-09\n",
      "두집단 간의 분포에 차이가 있다. (O)\n",
      "\n",
      "****************************************************************************************************\n",
      "재발여부에 따른 헤모글로빈수치 의 평균차이\n",
      "U-Statistic: 167381.0\n",
      "P-Value: 0.016281331629389172\n",
      "두집단 간의 분포에 차이가 있다. (O)\n",
      "\n",
      "****************************************************************************************************\n",
      "재발여부에 따른 환자통증정도 의 평균차이\n",
      "U-Statistic: 184767.5\n",
      "P-Value: 0.8905918806649183\n",
      "두집단 간의 분포에 차이가 없다. (X)\n",
      "\n",
      "****************************************************************************************************\n",
      "재발여부에 따른 통증기간(월) 의 평균차이\n",
      "U-Statistic: 194443.5\n",
      "P-Value: 0.23523131829921817\n",
      "두집단 간의 분포에 차이가 없다. (X)\n",
      "\n",
      "****************************************************************************************************\n",
      "재발여부에 따른 Large Lymphocyte 의 평균차이\n",
      "U-Statistic: 202511.5\n",
      "P-Value: 0.02852578927703167\n",
      "두집단 간의 분포에 차이가 있다. (O)\n",
      "\n",
      "****************************************************************************************************\n",
      "재발여부에 따른 ODI 의 평균차이\n",
      "U-Statistic: 176828.0\n",
      "P-Value: 0.12165280059842573\n",
      "두집단 간의 분포에 차이가 없다. (X)\n",
      "\n",
      "****************************************************************************************************\n",
      "재발여부에 따른 전방디스크높이(mm) 의 평균차이\n",
      "U-Statistic: 182363.0\n",
      "P-Value: 0.6571078251545761\n",
      "두집단 간의 분포에 차이가 없다. (X)\n",
      "\n",
      "****************************************************************************************************\n",
      "재발여부에 따른 후방디스크높이(mm) 의 평균차이\n",
      "U-Statistic: 182246.0\n",
      "P-Value: 0.6460739938667459\n",
      "두집단 간의 분포에 차이가 없다. (X)\n",
      "\n",
      "****************************************************************************************************\n",
      "재발여부에 따른 지방축적도 의 평균차이\n",
      "U-Statistic: 187344.0\n",
      "P-Value: 0.8359010463113565\n",
      "두집단 간의 분포에 차이가 없다. (X)\n",
      "\n",
      "****************************************************************************************************\n",
      "재발여부에 따른 MF + ES 의 평균차이\n",
      "U-Statistic: 163398.0\n",
      "P-Value: 0.0034650461219752292\n",
      "두집단 간의 분포에 차이가 있다. (O)\n",
      "\n",
      "****************************************************************************************************\n",
      "재발여부에 따른 PI 의 평균차이\n",
      "U-Statistic: 203642.0\n",
      "P-Value: 0.019398977315811996\n",
      "두집단 간의 분포에 차이가 있다. (O)\n",
      "\n",
      "****************************************************************************************************\n",
      "재발여부에 따른 PT 의 평균차이\n",
      "U-Statistic: 184632.5\n",
      "P-Value: 0.8829725086400748\n",
      "두집단 간의 분포에 차이가 없다. (X)\n",
      "\n",
      "****************************************************************************************************\n",
      "재발여부에 따른 Seg Angle(raw) 의 평균차이\n",
      "U-Statistic: 173453.5\n",
      "P-Value: 0.10769611481642166\n",
      "두집단 간의 분포에 차이가 없다. (X)\n",
      "\n",
      "****************************************************************************************************\n",
      "재발여부에 따른 골밀도 의 평균차이\n",
      "U-Statistic: 189984.0\n",
      "P-Value: 0.559160218853777\n",
      "두집단 간의 분포에 차이가 없다. (X)\n",
      "\n",
      "****************************************************************************************************\n",
      "재발여부에 따른 디스크단면적 의 평균차이\n",
      "U-Statistic: 162109.0\n",
      "P-Value: 0.001990382948467136\n",
      "두집단 간의 분포에 차이가 있다. (O)\n",
      "\n",
      "****************************************************************************************************\n"
     ]
    }
   ],
   "source": [
    "meaning_true = []\n",
    "from scipy import stats\n",
    "for col in filtered_list:\n",
    "\n",
    "    group1 = df[df['재발여부']==0][col]\n",
    "    group2 = df[df['재발여부']==1][col]\n",
    "\n",
    "    # 맨-휘트니 U 검정 수행\n",
    "    u_statistic, p_value = stats.mannwhitneyu(group1, group2, alternative='two-sided')\n",
    "\n",
    "    # 결과 출력\n",
    "    print('재발여부에 따른', col, '의 평균차이')\n",
    "    print(f'U-Statistic: {u_statistic}')\n",
    "    print(f'P-Value: {p_value}')\n",
    "    if p_value < 0.05:\n",
    "        print('두집단 간의 분포에 차이가 있다. (O)')\n",
    "        print()\n",
    "        print('*'*100)\n",
    "        meaning_true.append(col)\n",
    "    else:\n",
    "        print('두집단 간의 분포에 차이가 없다. (X)')\n",
    "        print()\n",
    "        print('*'*100)"
   ]
  },
  {
   "cell_type": "markdown",
   "id": "d11fd4c2-289a-45a4-8a2f-1f1cb076e6e5",
   "metadata": {},
   "source": [
    "### 2) 카이제곱 검정\n",
    "범주형 변수와 재발여부의 연관성을 확인하는 검정"
   ]
  },
  {
   "cell_type": "code",
   "execution_count": 83,
   "id": "76b3b419-757e-4d3e-af3a-e48dd9c4eea2",
   "metadata": {},
   "outputs": [
    {
     "name": "stdout",
     "output_type": "stream",
     "text": [
      "\n",
      "재발여부에 따른 Location of herniation 의 차이\n",
      "Chi-Statistic: 6.742177692106844\n",
      "P-Value: 0.15015657377506456\n",
      "두 변수 간 차이가 있다. (O)\n",
      "\n",
      "****************************************************************************************************\n",
      "\n",
      "재발여부에 따른 가족력 의 차이\n",
      "Chi-Statistic: 0.04484256767081684\n",
      "P-Value: 0.8322937786400645\n",
      "두 변수 간 차이가 있다. (O)\n",
      "\n",
      "****************************************************************************************************\n",
      "\n",
      "재발여부에 따른 간질성폐질환 의 차이\n",
      "Chi-Statistic: 1.046302491079007\n",
      "P-Value: 0.30636019584748264\n",
      "두 변수 간 차이가 있다. (O)\n",
      "\n",
      "****************************************************************************************************\n",
      "\n",
      "재발여부에 따른 고혈압여부 의 차이\n",
      "Chi-Statistic: 9.384996979780931\n",
      "P-Value: 0.0021876841392239766\n",
      "두 변수 간 차이가 있다. (O)\n",
      "\n",
      "****************************************************************************************************\n",
      "\n",
      "재발여부에 따른 과거수술횟수 의 차이\n",
      "Chi-Statistic: 4.803630045673407\n",
      "P-Value: 0.1867541256367953\n",
      "두 변수 간 차이가 있다. (O)\n",
      "\n",
      "****************************************************************************************************\n",
      "\n",
      "재발여부에 따른 당뇨여부 의 차이\n",
      "Chi-Statistic: 55.79993452912393\n",
      "P-Value: 8.023421436558786e-14\n",
      "두 변수 간 차이가 있다. (O)\n",
      "\n",
      "****************************************************************************************************\n",
      "\n",
      "재발여부에 따른 말초동맥질환여부 의 차이\n",
      "Chi-Statistic: 0.3721672908744821\n",
      "P-Value: 0.5418252725774599\n",
      "두 변수 간 차이가 있다. (O)\n",
      "\n",
      "****************************************************************************************************\n",
      "\n",
      "재발여부에 따른 빈혈여부 의 차이\n",
      "Chi-Statistic: 0.797482876524935\n",
      "P-Value: 0.3718470152016722\n",
      "두 변수 간 차이가 있다. (O)\n",
      "\n",
      "****************************************************************************************************\n",
      "\n",
      "재발여부에 따른 성별 의 차이\n",
      "Chi-Statistic: 4.894023711845014\n",
      "P-Value: 0.026949807078017807\n",
      "두 변수 간 차이가 있다. (O)\n",
      "\n",
      "****************************************************************************************************\n",
      "\n",
      "재발여부에 따른 스테로이드치료 의 차이\n",
      "Chi-Statistic: 0.34144259261851856\n",
      "P-Value: 0.5589977113929038\n",
      "두 변수 간 차이가 있다. (O)\n",
      "\n",
      "****************************************************************************************************\n",
      "\n",
      "재발여부에 따른 신부전여부 의 차이\n",
      "Chi-Statistic: 0.0\n",
      "P-Value: 1.0\n",
      "두 변수 간 차이가 있다. (O)\n",
      "\n",
      "****************************************************************************************************\n",
      "\n",
      "재발여부에 따른 심혈관질환 의 차이\n",
      "Chi-Statistic: 4.387976413079364\n",
      "P-Value: 0.03619324635324661\n",
      "두 변수 간 차이가 있다. (O)\n",
      "\n",
      "****************************************************************************************************\n",
      "\n",
      "재발여부에 따른 암발병여부 의 차이\n",
      "Chi-Statistic: 0.0\n",
      "P-Value: 1.0\n",
      "두 변수 간 차이가 있다. (O)\n",
      "\n",
      "****************************************************************************************************\n",
      "\n",
      "재발여부에 따른 우울증여부 의 차이\n",
      "Chi-Statistic: 2.933952389198489\n",
      "P-Value: 0.08673491411354717\n",
      "두 변수 간 차이가 있다. (O)\n",
      "\n",
      "****************************************************************************************************\n",
      "\n",
      "재발여부에 따른 입원기간 의 차이\n",
      "Chi-Statistic: 19.681213728761374\n",
      "P-Value: 0.4780234211867721\n",
      "두 변수 간 차이가 있다. (O)\n",
      "\n",
      "****************************************************************************************************\n",
      "\n",
      "재발여부에 따른 종양진행여부 의 차이\n",
      "Chi-Statistic: 0.06968511174381806\n",
      "P-Value: 0.7917958096448002\n",
      "두 변수 간 차이가 있다. (O)\n",
      "\n",
      "****************************************************************************************************\n",
      "\n",
      "재발여부에 따른 혈전합병증여부 의 차이\n",
      "Chi-Statistic: 2.541882912809948\n",
      "P-Value: 0.11086250934425937\n",
      "두 변수 간 차이가 있다. (O)\n",
      "\n",
      "****************************************************************************************************\n",
      "\n",
      "재발여부에 따른 흡연여부 의 차이\n",
      "Chi-Statistic: 63.14667561682165\n",
      "P-Value: 1.9187305980526e-15\n",
      "두 변수 간 차이가 있다. (O)\n",
      "\n",
      "****************************************************************************************************\n",
      "\n",
      "재발여부에 따른 Instability 의 차이\n",
      "Chi-Statistic: 0.0\n",
      "P-Value: 1.0\n",
      "두 변수 간 차이가 있다. (O)\n",
      "\n",
      "****************************************************************************************************\n",
      "\n",
      "재발여부에 따른 Modic change 의 차이\n",
      "Chi-Statistic: 2.3994749739893044\n",
      "P-Value: 0.49373236362193185\n",
      "두 변수 간 차이가 있다. (O)\n",
      "\n",
      "****************************************************************************************************\n",
      "\n",
      "재발여부에 따른 Vaccum disc 의 차이\n",
      "Chi-Statistic: 1.4239615693260048\n",
      "P-Value: 0.23275244722422203\n",
      "두 변수 간 차이가 있다. (O)\n",
      "\n",
      "****************************************************************************************************\n",
      "\n",
      "재발여부에 따른 디스크위치 의 차이\n",
      "Chi-Statistic: 12.962090570896507\n",
      "P-Value: 0.3718021244444481\n",
      "두 변수 간 차이가 있다. (O)\n",
      "\n",
      "****************************************************************************************************\n",
      "\n",
      "재발여부에 따른 척추전방위증 의 차이\n",
      "Chi-Statistic: 1.1871677715952906\n",
      "P-Value: 0.27590159561003763\n",
      "두 변수 간 차이가 있다. (O)\n",
      "\n",
      "****************************************************************************************************\n",
      "\n",
      "재발여부에 따른 과거수술횟수 의 차이\n",
      "Chi-Statistic: 4.803630045673407\n",
      "P-Value: 0.1867541256367953\n",
      "두 변수 간 차이가 있다. (O)\n",
      "\n",
      "****************************************************************************************************\n"
     ]
    }
   ],
   "source": [
    "for col in binary1:\n",
    "\n",
    "    contingency_table = pd.crosstab(df['재발여부'], df[col])\n",
    "    chi2_stat, p_val, dof, expected = chi2_contingency(contingency_table )\n",
    "\n",
    "    # 결과 출력\n",
    "    print()\n",
    "    print('재발여부에 따른', col, '의 차이')\n",
    "    print(f'Chi-Statistic: {chi2_stat}')\n",
    "    print(f'P-Value: {p_val}')\n",
    "    if p_value < 0.05:\n",
    "        print('두 변수 간 차이가 있다. (O)')\n",
    "        print()\n",
    "        print('*'*100)\n",
    "        meaning_true.append(col)\n",
    "    else:\n",
    "        print('두 변수 간 차이가 없다. (X)')\n",
    "        print()\n",
    "        print('*'*100)"
   ]
  },
  {
   "cell_type": "markdown",
   "id": "5d9e5991-5147-47e2-8bea-e6701862da1e",
   "metadata": {},
   "source": [
    "BMI(환자분류)에 따른 재발여부, 직업에 따른 재발여부의 연관성에 대한 검정\n",
    "* BMI, 직업에 따른 재발여부는 차이가 있다.  "
   ]
  },
  {
   "cell_type": "code",
   "execution_count": 84,
   "id": "58aa8972-e759-44c1-a2d6-60ce04c4533a",
   "metadata": {},
   "outputs": [],
   "source": [
    "df1.loc[df_derive['BMI'] <= 18.5, ['환자분류']] = '저체중'\n",
    "df1.loc[(df_derive['BMI'] > 18.5) & (df_derive['BMI'] <= 23), ['환자분류']] = '정상'\n",
    "df1.loc[(df_derive['BMI'] > 23) & (df_derive['BMI'] <= 25), ['환자분류']] = '과체중'\n",
    "df1.loc[(df_derive['BMI'] > 25) & (df_derive['BMI'] <= 30), ['환자분류']] = '비만'\n",
    "df1.loc[(df_derive['BMI'] > 30), ['환자분류']] = '고도비만'\n",
    "df1['재발여부'] = df1['재발여부'].replace({0: '재발X', 1: '재발O'})"
   ]
  },
  {
   "cell_type": "code",
   "execution_count": 85,
   "id": "846fe8f5-220c-4325-bed1-26bfa4ab526f",
   "metadata": {},
   "outputs": [
    {
     "data": {
      "image/png": "[encoded data removed]",
      "text/plain": [
       "<Figure size 1500x800 with 1 Axes>"
      ]
     },
     "metadata": {},
     "output_type": "display_data"
    }
   ],
   "source": [
    "plt.figure(figsize=(15,8))\n",
    "sns.countplot(x=df1['환자분류'], hue=df1['재발여부'])\n",
    "plt.show()"
   ]
  },
  {
   "cell_type": "code",
   "execution_count": 86,
   "id": "8bd07f90-8cf7-4a67-93d7-4f984cfc006b",
   "metadata": {},
   "outputs": [
    {
     "data": {
      "text/html": [
       "<div>\n",
       "<style scoped>\n",
       "    .dataframe tbody tr th:only-of-type {\n",
       "        vertical-align: middle;\n",
       "    }\n",
       "\n",
       "    .dataframe tbody tr th {\n",
       "        vertical-align: top;\n",
       "    }\n",
       "\n",
       "    .dataframe thead th {\n",
       "        text-align: right;\n",
       "    }\n",
       "</style>\n",
       "<table border=\"1\" class=\"dataframe\">\n",
       "  <thead>\n",
       "    <tr style=\"text-align: right;\">\n",
       "      <th>환자분류</th>\n",
       "      <th>고도비만</th>\n",
       "      <th>과체중</th>\n",
       "      <th>비만</th>\n",
       "      <th>저체중</th>\n",
       "      <th>정상</th>\n",
       "    </tr>\n",
       "    <tr>\n",
       "      <th>재발여부</th>\n",
       "      <th></th>\n",
       "      <th></th>\n",
       "      <th></th>\n",
       "      <th></th>\n",
       "      <th></th>\n",
       "    </tr>\n",
       "  </thead>\n",
       "  <tbody>\n",
       "    <tr>\n",
       "      <th>재발O</th>\n",
       "      <td>28</td>\n",
       "      <td>83</td>\n",
       "      <td>64</td>\n",
       "      <td>3</td>\n",
       "      <td>45</td>\n",
       "    </tr>\n",
       "    <tr>\n",
       "      <th>재발X</th>\n",
       "      <td>35</td>\n",
       "      <td>737</td>\n",
       "      <td>337</td>\n",
       "      <td>35</td>\n",
       "      <td>522</td>\n",
       "    </tr>\n",
       "  </tbody>\n",
       "</table>\n",
       "</div>"
      ],
      "text/plain": [
       "환자분류  고도비만  과체중   비만  저체중   정상\n",
       "재발여부                          \n",
       "재발O     28   83   64    3   45\n",
       "재발X     35  737  337   35  522"
      ]
     },
     "execution_count": 86,
     "metadata": {},
     "output_type": "execute_result"
    }
   ],
   "source": [
    "contingency_table = pd.crosstab(df1['재발여부'], df1['환자분류'])\n",
    "contingency_table"
   ]
  },
  {
   "cell_type": "code",
   "execution_count": 87,
   "id": "348b6842-44f2-49a2-968e-bbe5ebfd791a",
   "metadata": {},
   "outputs": [
    {
     "name": "stdout",
     "output_type": "stream",
     "text": [
      "카이제곱 통계량: 82.05136093050612\n",
      "p-value: 6.401593775113287e-17\n"
     ]
    }
   ],
   "source": [
    "# 카이제곱 검정 수행\n",
    "chi2_stat, p_val, dof, expected = chi2_contingency(contingency_table )\n",
    "print(\"카이제곱 통계량:\", chi2_stat)\n",
    "print(\"p-value:\", p_val)"
   ]
  },
  {
   "cell_type": "markdown",
   "id": "fb455420-cbcc-4588-82c8-c8a72ea9203a",
   "metadata": {},
   "source": [
    "---"
   ]
  },
  {
   "cell_type": "markdown",
   "id": "f13132d1-8a4a-4a94-a284-12ae4df89999",
   "metadata": {},
   "source": [
    "직업에 따른 재발여부"
   ]
  },
  {
   "cell_type": "code",
   "execution_count": 88,
   "id": "3767a43d-067f-4ee8-bd54-713f94b3be3b",
   "metadata": {},
   "outputs": [
    {
     "data": {
      "image/png": "[encoded data removed]",
      "text/plain": [
       "<Figure size 1500x800 with 1 Axes>"
      ]
     },
     "metadata": {},
     "output_type": "display_data"
    }
   ],
   "source": [
    "plt.figure(figsize=(15,8))\n",
    "sns.countplot(x=df1['직업'], hue=df1['재발여부'])\n",
    "plt.show()"
   ]
  },
  {
   "cell_type": "code",
   "execution_count": 89,
   "id": "1de24675-bc47-4303-8441-221a6cf1f8f6",
   "metadata": {},
   "outputs": [
    {
     "data": {
      "text/html": [
       "<div>\n",
       "<style scoped>\n",
       "    .dataframe tbody tr th:only-of-type {\n",
       "        vertical-align: middle;\n",
       "    }\n",
       "\n",
       "    .dataframe tbody tr th {\n",
       "        vertical-align: top;\n",
       "    }\n",
       "\n",
       "    .dataframe thead th {\n",
       "        text-align: right;\n",
       "    }\n",
       "</style>\n",
       "<table border=\"1\" class=\"dataframe\">\n",
       "  <thead>\n",
       "    <tr style=\"text-align: right;\">\n",
       "      <th>직업</th>\n",
       "      <th>Unknown</th>\n",
       "      <th>건설업</th>\n",
       "      <th>공무원</th>\n",
       "      <th>교사</th>\n",
       "      <th>군인</th>\n",
       "      <th>노동직</th>\n",
       "      <th>농업</th>\n",
       "      <th>무직</th>\n",
       "      <th>사무직</th>\n",
       "      <th>사업가</th>\n",
       "      <th>예술가</th>\n",
       "      <th>운동선수</th>\n",
       "      <th>운수업</th>\n",
       "      <th>의료직</th>\n",
       "      <th>자영업</th>\n",
       "      <th>주부</th>\n",
       "      <th>특수전문직</th>\n",
       "      <th>학생</th>\n",
       "    </tr>\n",
       "    <tr>\n",
       "      <th>재발여부</th>\n",
       "      <th></th>\n",
       "      <th></th>\n",
       "      <th></th>\n",
       "      <th></th>\n",
       "      <th></th>\n",
       "      <th></th>\n",
       "      <th></th>\n",
       "      <th></th>\n",
       "      <th></th>\n",
       "      <th></th>\n",
       "      <th></th>\n",
       "      <th></th>\n",
       "      <th></th>\n",
       "      <th></th>\n",
       "      <th></th>\n",
       "      <th></th>\n",
       "      <th></th>\n",
       "      <th></th>\n",
       "    </tr>\n",
       "  </thead>\n",
       "  <tbody>\n",
       "    <tr>\n",
       "      <th>재발O</th>\n",
       "      <td>49</td>\n",
       "      <td>4</td>\n",
       "      <td>9</td>\n",
       "      <td>6</td>\n",
       "      <td>4</td>\n",
       "      <td>4</td>\n",
       "      <td>4</td>\n",
       "      <td>19</td>\n",
       "      <td>61</td>\n",
       "      <td>5</td>\n",
       "      <td>0</td>\n",
       "      <td>3</td>\n",
       "      <td>4</td>\n",
       "      <td>7</td>\n",
       "      <td>28</td>\n",
       "      <td>8</td>\n",
       "      <td>1</td>\n",
       "      <td>7</td>\n",
       "    </tr>\n",
       "    <tr>\n",
       "      <th>재발X</th>\n",
       "      <td>365</td>\n",
       "      <td>13</td>\n",
       "      <td>42</td>\n",
       "      <td>24</td>\n",
       "      <td>86</td>\n",
       "      <td>37</td>\n",
       "      <td>36</td>\n",
       "      <td>145</td>\n",
       "      <td>388</td>\n",
       "      <td>33</td>\n",
       "      <td>10</td>\n",
       "      <td>11</td>\n",
       "      <td>46</td>\n",
       "      <td>33</td>\n",
       "      <td>142</td>\n",
       "      <td>105</td>\n",
       "      <td>22</td>\n",
       "      <td>128</td>\n",
       "    </tr>\n",
       "  </tbody>\n",
       "</table>\n",
       "</div>"
      ],
      "text/plain": [
       "직업    Unknown  건설업  공무원  교사  군인  노동직  농업   무직  사무직  사업가  예술가  운동선수  운수업  의료직  \\\n",
       "재발여부                                                                           \n",
       "재발O        49    4    9   6   4    4   4   19   61    5    0     3    4    7   \n",
       "재발X       365   13   42  24  86   37  36  145  388   33   10    11   46   33   \n",
       "\n",
       "직업    자영업   주부  특수전문직   학생  \n",
       "재발여부                        \n",
       "재발O    28    8      1    7  \n",
       "재발X   142  105     22  128  "
      ]
     },
     "execution_count": 89,
     "metadata": {},
     "output_type": "execute_result"
    }
   ],
   "source": [
    "contingency_table = pd.crosstab(df1['재발여부'], df1['직업'])\n",
    "contingency_table"
   ]
  },
  {
   "cell_type": "code",
   "execution_count": 90,
   "id": "282e5f30-3cef-4c6b-abb8-eab1693a628a",
   "metadata": {},
   "outputs": [
    {
     "name": "stdout",
     "output_type": "stream",
     "text": [
      "카이제곱 통계량: 29.68080107310596\n",
      "p-value: 0.02874106862709254\n"
     ]
    }
   ],
   "source": [
    "# 카이제곱 검정 수행\n",
    "chi2_stat, p_val, dof, expected = chi2_contingency(contingency_table )\n",
    "print(\"카이제곱 통계량:\", chi2_stat)\n",
    "print(\"p-value:\", p_val)"
   ]
  },
  {
   "cell_type": "markdown",
   "id": "3fc77d55-feda-41a1-890b-1d9995c243f8",
   "metadata": {},
   "source": [
    "## 4) 특정 변수간의 연관성 파악"
   ]
  },
  {
   "cell_type": "code",
   "execution_count": 91,
   "id": "8e493da7-f477-490a-b1b7-6287c669b614",
   "metadata": {},
   "outputs": [],
   "source": [
    "df1.loc[df1['연령']<20, ['연령대']]='10대'\n",
    "df1.loc[(df1['연령']>=20)&(df1['연령']<40), ['연령대']]='20,30대'\n",
    "df1.loc[(df1['연령']>=40)&(df1['연령']<60), ['연령대']]='40,50대'\n",
    "df1.loc[(df1['연령']>=60), ['연령대']]='60대 이상'"
   ]
  },
  {
   "cell_type": "code",
   "execution_count": 92,
   "id": "b187df8c-6ac1-4b5f-9495-7f32c0517e57",
   "metadata": {},
   "outputs": [
    {
     "data": {
      "image/png": "[encoded data removed]",
      "text/plain": [
       "<Figure size 1500x800 with 1 Axes>"
      ]
     },
     "metadata": {},
     "output_type": "display_data"
    }
   ],
   "source": [
    "plt.figure(figsize=(15,8))\n",
    "sns.countplot(x=df1['연령대'], hue=df1['환자분류'])\n",
    "plt.show()"
   ]
  },
  {
   "cell_type": "code",
   "execution_count": 93,
   "id": "141a08e3-ae20-4bd6-bb95-0c9bc68530c2",
   "metadata": {},
   "outputs": [
    {
     "data": {
      "image/png": "[encoded data removed]",
      "text/plain": [
       "<Figure size 500x500 with 1 Axes>"
      ]
     },
     "metadata": {},
     "output_type": "display_data"
    }
   ],
   "source": [
    "age_counts = df1['직업'].value_counts()\n",
    "\n",
    "# 도넛 차트 그리기\n",
    "plt.figure(figsize=(5, 5))  # 차트의 크기 설정\n",
    "plt.pie(age_counts, labels=age_counts.index, autopct='%1.1f%%', startangle=140, wedgeprops=dict(width=0.4))\n",
    "plt.title('연령별 분포')  # 차트 제목 설정\n",
    "plt.axis('equal')  # 차트를 원형으로 만듦\n",
    "plt.show()"
   ]
  }
 ],
 "metadata": {
  "kernelspec": {
   "display_name": "Python 3 (ipykernel)",
   "language": "python",
   "name": "python3"
  },
  "language_info": {
   "codemirror_mode": {
    "name": "ipython",
    "version": 3
   },
   "file_extension": ".py",
   "mimetype": "text/x-python",
   "name": "python",
   "nbconvert_exporter": "python",
   "pygments_lexer": "ipython3",
   "version": "3.11.7"
  }
 },
 "nbformat": 4,
 "nbformat_minor": 5
}
