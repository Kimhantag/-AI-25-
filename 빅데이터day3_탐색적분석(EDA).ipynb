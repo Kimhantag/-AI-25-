{
 "cells": [
  {
   "cell_type": "markdown",
   "id": "3890717c",
   "metadata": {},
   "source": [
    "### * 라이브러리 불러오기"
   ]
  },
  {
   "cell_type": "code",
   "execution_count": 1,
   "id": "7f30391e",
   "metadata": {},
   "outputs": [],
   "source": [
    "import pandas as pd\n",
    "import numpy as np\n",
    "import matplotlib\n",
    "import matplotlib.pyplot as plt\n",
    "\n",
    "from scipy import stats\n",
    "from statsmodels.stats.proportion import proportions_ztest\n",
    "%matplotlib inline\n",
    "import os\n",
    "# 작업 디렉터리를 설정\n",
    "os.chdir('C:\\/Users/gksxk/statistics')"
   ]
  },
  {
   "cell_type": "markdown",
   "id": "073528c7",
   "metadata": {},
   "source": [
    "### Q1. \n",
    "#### 자동차 연비 DataSet에서 기술통계치 구하기"
   ]
  },
  {
   "cell_type": "code",
   "execution_count": 12,
   "id": "1dc4a171",
   "metadata": {
    "scrolled": true
   },
   "outputs": [
    {
     "data": {
      "text/html": [
       "<div>\n",
       "<style scoped>\n",
       "    .dataframe tbody tr th:only-of-type {\n",
       "        vertical-align: middle;\n",
       "    }\n",
       "\n",
       "    .dataframe tbody tr th {\n",
       "        vertical-align: top;\n",
       "    }\n",
       "\n",
       "    .dataframe thead th {\n",
       "        text-align: right;\n",
       "    }\n",
       "</style>\n",
       "<table border=\"1\" class=\"dataframe\">\n",
       "  <thead>\n",
       "    <tr style=\"text-align: right;\">\n",
       "      <th></th>\n",
       "      <th>manufacturer</th>\n",
       "      <th>model</th>\n",
       "      <th>displacement</th>\n",
       "      <th>year</th>\n",
       "      <th>cylinder</th>\n",
       "      <th>automatic</th>\n",
       "      <th>driving</th>\n",
       "      <th>mpg</th>\n",
       "      <th>highway_mileage</th>\n",
       "      <th>fuel</th>\n",
       "      <th>class</th>\n",
       "    </tr>\n",
       "  </thead>\n",
       "  <tbody>\n",
       "    <tr>\n",
       "      <th>0</th>\n",
       "      <td>audi</td>\n",
       "      <td>a4</td>\n",
       "      <td>1.8</td>\n",
       "      <td>1999</td>\n",
       "      <td>4</td>\n",
       "      <td>auto</td>\n",
       "      <td>f</td>\n",
       "      <td>18</td>\n",
       "      <td>29</td>\n",
       "      <td>p</td>\n",
       "      <td>compact</td>\n",
       "    </tr>\n",
       "    <tr>\n",
       "      <th>1</th>\n",
       "      <td>audi</td>\n",
       "      <td>a4</td>\n",
       "      <td>1.8</td>\n",
       "      <td>1999</td>\n",
       "      <td>4</td>\n",
       "      <td>manual</td>\n",
       "      <td>f</td>\n",
       "      <td>21</td>\n",
       "      <td>29</td>\n",
       "      <td>p</td>\n",
       "      <td>compact</td>\n",
       "    </tr>\n",
       "    <tr>\n",
       "      <th>2</th>\n",
       "      <td>audi</td>\n",
       "      <td>a4</td>\n",
       "      <td>2.0</td>\n",
       "      <td>2008</td>\n",
       "      <td>4</td>\n",
       "      <td>manual</td>\n",
       "      <td>f</td>\n",
       "      <td>20</td>\n",
       "      <td>31</td>\n",
       "      <td>p</td>\n",
       "      <td>compact</td>\n",
       "    </tr>\n",
       "    <tr>\n",
       "      <th>3</th>\n",
       "      <td>audi</td>\n",
       "      <td>a4</td>\n",
       "      <td>2.0</td>\n",
       "      <td>2008</td>\n",
       "      <td>4</td>\n",
       "      <td>auto</td>\n",
       "      <td>f</td>\n",
       "      <td>21</td>\n",
       "      <td>30</td>\n",
       "      <td>p</td>\n",
       "      <td>compact</td>\n",
       "    </tr>\n",
       "    <tr>\n",
       "      <th>4</th>\n",
       "      <td>audi</td>\n",
       "      <td>a4</td>\n",
       "      <td>2.8</td>\n",
       "      <td>1999</td>\n",
       "      <td>6</td>\n",
       "      <td>auto</td>\n",
       "      <td>f</td>\n",
       "      <td>16</td>\n",
       "      <td>26</td>\n",
       "      <td>p</td>\n",
       "      <td>compact</td>\n",
       "    </tr>\n",
       "  </tbody>\n",
       "</table>\n",
       "</div>"
      ],
      "text/plain": [
       "  manufacturer model  displacement  year  cylinder automatic driving  mpg  \\\n",
       "0         audi    a4           1.8  1999         4      auto       f   18   \n",
       "1         audi    a4           1.8  1999         4    manual       f   21   \n",
       "2         audi    a4           2.0  2008         4    manual       f   20   \n",
       "3         audi    a4           2.0  2008         4      auto       f   21   \n",
       "4         audi    a4           2.8  1999         6      auto       f   16   \n",
       "\n",
       "   highway_mileage fuel    class  \n",
       "0               29    p  compact  \n",
       "1               29    p  compact  \n",
       "2               31    p  compact  \n",
       "3               30    p  compact  \n",
       "4               26    p  compact  "
      ]
     },
     "execution_count": 12,
     "metadata": {},
     "output_type": "execute_result"
    }
   ],
   "source": [
    "mycars = pd.read_csv(\"../실습파일/BigData분석기초/mycars.csv\", encoding = 'euc-kr')\n",
    "mycars.head()"
   ]
  },
  {
   "cell_type": "code",
   "execution_count": 14,
   "id": "c4f0e3e5",
   "metadata": {},
   "outputs": [],
   "source": [
    "df_group = mycars[['mpg', 'highway_mileage', 'driving']]"
   ]
  },
  {
   "cell_type": "markdown",
   "id": "ab59c15f",
   "metadata": {},
   "source": [
    "##### * 시내에서의 연비(mpg) 통계치"
   ]
  },
  {
   "cell_type": "code",
   "execution_count": 15,
   "id": "e4f99568",
   "metadata": {},
   "outputs": [
    {
     "data": {
      "text/html": [
       "<div>\n",
       "<style scoped>\n",
       "    .dataframe tbody tr th:only-of-type {\n",
       "        vertical-align: middle;\n",
       "    }\n",
       "\n",
       "    .dataframe tbody tr th {\n",
       "        vertical-align: top;\n",
       "    }\n",
       "\n",
       "    .dataframe thead th {\n",
       "        text-align: right;\n",
       "    }\n",
       "</style>\n",
       "<table border=\"1\" class=\"dataframe\">\n",
       "  <thead>\n",
       "    <tr style=\"text-align: right;\">\n",
       "      <th></th>\n",
       "      <th>count</th>\n",
       "      <th>mean</th>\n",
       "      <th>std</th>\n",
       "      <th>min</th>\n",
       "      <th>25%</th>\n",
       "      <th>50%</th>\n",
       "      <th>75%</th>\n",
       "      <th>max</th>\n",
       "    </tr>\n",
       "    <tr>\n",
       "      <th>driving</th>\n",
       "      <th></th>\n",
       "      <th></th>\n",
       "      <th></th>\n",
       "      <th></th>\n",
       "      <th></th>\n",
       "      <th></th>\n",
       "      <th></th>\n",
       "      <th></th>\n",
       "    </tr>\n",
       "  </thead>\n",
       "  <tbody>\n",
       "    <tr>\n",
       "      <th>4</th>\n",
       "      <td>103.0</td>\n",
       "      <td>14.330097</td>\n",
       "      <td>2.874459</td>\n",
       "      <td>9.0</td>\n",
       "      <td>13.0</td>\n",
       "      <td>14.0</td>\n",
       "      <td>16.0</td>\n",
       "      <td>21.0</td>\n",
       "    </tr>\n",
       "    <tr>\n",
       "      <th>f</th>\n",
       "      <td>106.0</td>\n",
       "      <td>19.971698</td>\n",
       "      <td>3.626510</td>\n",
       "      <td>11.0</td>\n",
       "      <td>18.0</td>\n",
       "      <td>19.0</td>\n",
       "      <td>21.0</td>\n",
       "      <td>35.0</td>\n",
       "    </tr>\n",
       "    <tr>\n",
       "      <th>r</th>\n",
       "      <td>25.0</td>\n",
       "      <td>14.080000</td>\n",
       "      <td>2.215852</td>\n",
       "      <td>11.0</td>\n",
       "      <td>12.0</td>\n",
       "      <td>15.0</td>\n",
       "      <td>15.0</td>\n",
       "      <td>18.0</td>\n",
       "    </tr>\n",
       "  </tbody>\n",
       "</table>\n",
       "</div>"
      ],
      "text/plain": [
       "         count       mean       std   min   25%   50%   75%   max\n",
       "driving                                                          \n",
       "4        103.0  14.330097  2.874459   9.0  13.0  14.0  16.0  21.0\n",
       "f        106.0  19.971698  3.626510  11.0  18.0  19.0  21.0  35.0\n",
       "r         25.0  14.080000  2.215852  11.0  12.0  15.0  15.0  18.0"
      ]
     },
     "execution_count": 15,
     "metadata": {},
     "output_type": "execute_result"
    }
   ],
   "source": [
    "df_group.groupby('driving')['mpg'].describe()"
   ]
  },
  {
   "cell_type": "markdown",
   "id": "f09739cb",
   "metadata": {},
   "source": [
    "##### * 고속도로에서의 연비(highway_mileage) 통계치"
   ]
  },
  {
   "cell_type": "code",
   "execution_count": 17,
   "id": "0cebeb96",
   "metadata": {
    "scrolled": true
   },
   "outputs": [
    {
     "data": {
      "text/html": [
       "<div>\n",
       "<style scoped>\n",
       "    .dataframe tbody tr th:only-of-type {\n",
       "        vertical-align: middle;\n",
       "    }\n",
       "\n",
       "    .dataframe tbody tr th {\n",
       "        vertical-align: top;\n",
       "    }\n",
       "\n",
       "    .dataframe thead th {\n",
       "        text-align: right;\n",
       "    }\n",
       "</style>\n",
       "<table border=\"1\" class=\"dataframe\">\n",
       "  <thead>\n",
       "    <tr style=\"text-align: right;\">\n",
       "      <th></th>\n",
       "      <th>count</th>\n",
       "      <th>mean</th>\n",
       "      <th>std</th>\n",
       "      <th>min</th>\n",
       "      <th>25%</th>\n",
       "      <th>50%</th>\n",
       "      <th>75%</th>\n",
       "      <th>max</th>\n",
       "    </tr>\n",
       "    <tr>\n",
       "      <th>driving</th>\n",
       "      <th></th>\n",
       "      <th></th>\n",
       "      <th></th>\n",
       "      <th></th>\n",
       "      <th></th>\n",
       "      <th></th>\n",
       "      <th></th>\n",
       "      <th></th>\n",
       "    </tr>\n",
       "  </thead>\n",
       "  <tbody>\n",
       "    <tr>\n",
       "      <th>4</th>\n",
       "      <td>103.0</td>\n",
       "      <td>19.174757</td>\n",
       "      <td>4.078704</td>\n",
       "      <td>12.0</td>\n",
       "      <td>17.0</td>\n",
       "      <td>18.0</td>\n",
       "      <td>22.0</td>\n",
       "      <td>28.0</td>\n",
       "    </tr>\n",
       "    <tr>\n",
       "      <th>f</th>\n",
       "      <td>106.0</td>\n",
       "      <td>28.160377</td>\n",
       "      <td>4.206881</td>\n",
       "      <td>17.0</td>\n",
       "      <td>26.0</td>\n",
       "      <td>28.0</td>\n",
       "      <td>29.0</td>\n",
       "      <td>44.0</td>\n",
       "    </tr>\n",
       "    <tr>\n",
       "      <th>r</th>\n",
       "      <td>25.0</td>\n",
       "      <td>21.000000</td>\n",
       "      <td>3.662877</td>\n",
       "      <td>15.0</td>\n",
       "      <td>17.0</td>\n",
       "      <td>21.0</td>\n",
       "      <td>24.0</td>\n",
       "      <td>26.0</td>\n",
       "    </tr>\n",
       "  </tbody>\n",
       "</table>\n",
       "</div>"
      ],
      "text/plain": [
       "         count       mean       std   min   25%   50%   75%   max\n",
       "driving                                                          \n",
       "4        103.0  19.174757  4.078704  12.0  17.0  18.0  22.0  28.0\n",
       "f        106.0  28.160377  4.206881  17.0  26.0  28.0  29.0  44.0\n",
       "r         25.0  21.000000  3.662877  15.0  17.0  21.0  24.0  26.0"
      ]
     },
     "execution_count": 17,
     "metadata": {},
     "output_type": "execute_result"
    }
   ],
   "source": [
    "df_group.groupby('driving')['highway_mileage'].describe()"
   ]
  },
  {
   "cell_type": "markdown",
   "id": "0ba8bd73",
   "metadata": {},
   "source": [
    "시내에서의 연비(mpg), 고속도로에서의 연비(highway_milege) 모두 'f'에서 가장 높은 평균을 나타낸다.  \n",
    "반면에 연비의 효율성 면에서는 시내에 대해서는 'r'이 가장 좋은 것으로 보이고, 고속도로에서는 '4'가 제일 좋은 것으로 판단된다.  \n",
    "다만 시내의 경우 'r'의 케이스가 적어, 케이스가 충분하면서 평균이 'r'과 매우 근소한 차이를 보이는 '4'의 연비 효율이 좋은 것으로도 판단될 수 있다."
   ]
  },
  {
   "cell_type": "markdown",
   "id": "8166b1e5",
   "metadata": {},
   "source": [
    "### Q2. \n",
    "#### 범주형 변수인 구동방식, 모델에 대해 counts, percents, cumulative counts를 계산하기"
   ]
  },
  {
   "cell_type": "code",
   "execution_count": 2,
   "id": "70173227",
   "metadata": {},
   "outputs": [
    {
     "data": {
      "text/html": [
       "<div>\n",
       "<style scoped>\n",
       "    .dataframe tbody tr th:only-of-type {\n",
       "        vertical-align: middle;\n",
       "    }\n",
       "\n",
       "    .dataframe tbody tr th {\n",
       "        vertical-align: top;\n",
       "    }\n",
       "\n",
       "    .dataframe thead th {\n",
       "        text-align: right;\n",
       "    }\n",
       "</style>\n",
       "<table border=\"1\" class=\"dataframe\">\n",
       "  <thead>\n",
       "    <tr style=\"text-align: right;\">\n",
       "      <th></th>\n",
       "      <th>manufacturer</th>\n",
       "      <th>model</th>\n",
       "      <th>displacement</th>\n",
       "      <th>year</th>\n",
       "      <th>cylinder</th>\n",
       "      <th>automatic</th>\n",
       "      <th>driving</th>\n",
       "      <th>mpg</th>\n",
       "      <th>highway_mileage</th>\n",
       "      <th>fuel</th>\n",
       "      <th>class</th>\n",
       "    </tr>\n",
       "  </thead>\n",
       "  <tbody>\n",
       "    <tr>\n",
       "      <th>0</th>\n",
       "      <td>audi</td>\n",
       "      <td>a4</td>\n",
       "      <td>1.8</td>\n",
       "      <td>1999</td>\n",
       "      <td>4</td>\n",
       "      <td>auto</td>\n",
       "      <td>f</td>\n",
       "      <td>18</td>\n",
       "      <td>29</td>\n",
       "      <td>p</td>\n",
       "      <td>compact</td>\n",
       "    </tr>\n",
       "    <tr>\n",
       "      <th>1</th>\n",
       "      <td>audi</td>\n",
       "      <td>a4</td>\n",
       "      <td>1.8</td>\n",
       "      <td>1999</td>\n",
       "      <td>4</td>\n",
       "      <td>manual</td>\n",
       "      <td>f</td>\n",
       "      <td>21</td>\n",
       "      <td>29</td>\n",
       "      <td>p</td>\n",
       "      <td>compact</td>\n",
       "    </tr>\n",
       "    <tr>\n",
       "      <th>2</th>\n",
       "      <td>audi</td>\n",
       "      <td>a4</td>\n",
       "      <td>2.0</td>\n",
       "      <td>2008</td>\n",
       "      <td>4</td>\n",
       "      <td>manual</td>\n",
       "      <td>f</td>\n",
       "      <td>20</td>\n",
       "      <td>31</td>\n",
       "      <td>p</td>\n",
       "      <td>compact</td>\n",
       "    </tr>\n",
       "    <tr>\n",
       "      <th>3</th>\n",
       "      <td>audi</td>\n",
       "      <td>a4</td>\n",
       "      <td>2.0</td>\n",
       "      <td>2008</td>\n",
       "      <td>4</td>\n",
       "      <td>auto</td>\n",
       "      <td>f</td>\n",
       "      <td>21</td>\n",
       "      <td>30</td>\n",
       "      <td>p</td>\n",
       "      <td>compact</td>\n",
       "    </tr>\n",
       "    <tr>\n",
       "      <th>4</th>\n",
       "      <td>audi</td>\n",
       "      <td>a4</td>\n",
       "      <td>2.8</td>\n",
       "      <td>1999</td>\n",
       "      <td>6</td>\n",
       "      <td>auto</td>\n",
       "      <td>f</td>\n",
       "      <td>16</td>\n",
       "      <td>26</td>\n",
       "      <td>p</td>\n",
       "      <td>compact</td>\n",
       "    </tr>\n",
       "  </tbody>\n",
       "</table>\n",
       "</div>"
      ],
      "text/plain": [
       "  manufacturer model  displacement  year  cylinder automatic driving  mpg  \\\n",
       "0         audi    a4           1.8  1999         4      auto       f   18   \n",
       "1         audi    a4           1.8  1999         4    manual       f   21   \n",
       "2         audi    a4           2.0  2008         4    manual       f   20   \n",
       "3         audi    a4           2.0  2008         4      auto       f   21   \n",
       "4         audi    a4           2.8  1999         6      auto       f   16   \n",
       "\n",
       "   highway_mileage fuel    class  \n",
       "0               29    p  compact  \n",
       "1               29    p  compact  \n",
       "2               31    p  compact  \n",
       "3               30    p  compact  \n",
       "4               26    p  compact  "
      ]
     },
     "execution_count": 2,
     "metadata": {},
     "output_type": "execute_result"
    }
   ],
   "source": [
    "mycars = pd.read_csv(\"../실습파일/BigData분석기초/mycars.csv\", encoding = 'euc-kr')\n",
    "mycars.head()"
   ]
  },
  {
   "cell_type": "code",
   "execution_count": 102,
   "id": "6a0cda44",
   "metadata": {
    "scrolled": false
   },
   "outputs": [
    {
     "data": {
      "text/html": [
       "<div>\n",
       "<style scoped>\n",
       "    .dataframe tbody tr th:only-of-type {\n",
       "        vertical-align: middle;\n",
       "    }\n",
       "\n",
       "    .dataframe tbody tr th {\n",
       "        vertical-align: top;\n",
       "    }\n",
       "\n",
       "    .dataframe thead th {\n",
       "        text-align: right;\n",
       "    }\n",
       "</style>\n",
       "<table border=\"1\" class=\"dataframe\">\n",
       "  <thead>\n",
       "    <tr style=\"text-align: right;\">\n",
       "      <th></th>\n",
       "      <th></th>\n",
       "      <th>Count</th>\n",
       "      <th>CumCnt</th>\n",
       "      <th>Percent</th>\n",
       "      <th>CumPct</th>\n",
       "    </tr>\n",
       "    <tr>\n",
       "      <th>model</th>\n",
       "      <th>automatic</th>\n",
       "      <th></th>\n",
       "      <th></th>\n",
       "      <th></th>\n",
       "      <th></th>\n",
       "    </tr>\n",
       "  </thead>\n",
       "  <tbody>\n",
       "    <tr>\n",
       "      <th>caravan 2wd</th>\n",
       "      <th>auto</th>\n",
       "      <td>11</td>\n",
       "      <td>60</td>\n",
       "      <td>4.701</td>\n",
       "      <td>25.641</td>\n",
       "    </tr>\n",
       "    <tr>\n",
       "      <th>grand cherokee 4wd</th>\n",
       "      <th>auto</th>\n",
       "      <td>8</td>\n",
       "      <td>125</td>\n",
       "      <td>3.419</td>\n",
       "      <td>53.419</td>\n",
       "    </tr>\n",
       "    <tr>\n",
       "      <th>durango 4wd</th>\n",
       "      <th>auto</th>\n",
       "      <td>7</td>\n",
       "      <td>95</td>\n",
       "      <td>2.991</td>\n",
       "      <td>40.598</td>\n",
       "    </tr>\n",
       "    <tr>\n",
       "      <th>ram 1500 pickup 4wd</th>\n",
       "      <th>auto</th>\n",
       "      <td>6</td>\n",
       "      <td>205</td>\n",
       "      <td>2.564</td>\n",
       "      <td>87.607</td>\n",
       "    </tr>\n",
       "    <tr>\n",
       "      <th>dakota pickup 4wd</th>\n",
       "      <th>auto</th>\n",
       "      <td>6</td>\n",
       "      <td>85</td>\n",
       "      <td>2.564</td>\n",
       "      <td>36.325</td>\n",
       "    </tr>\n",
       "    <tr>\n",
       "      <th>malibu</th>\n",
       "      <th>auto</th>\n",
       "      <td>5</td>\n",
       "      <td>163</td>\n",
       "      <td>2.137</td>\n",
       "      <td>69.658</td>\n",
       "    </tr>\n",
       "    <tr>\n",
       "      <th>civic</th>\n",
       "      <th>manual</th>\n",
       "      <td>5</td>\n",
       "      <td>69</td>\n",
       "      <td>2.137</td>\n",
       "      <td>29.487</td>\n",
       "    </tr>\n",
       "    <tr>\n",
       "      <th>f150 pickup 4wd</th>\n",
       "      <th>auto</th>\n",
       "      <td>5</td>\n",
       "      <td>109</td>\n",
       "      <td>2.137</td>\n",
       "      <td>46.581</td>\n",
       "    </tr>\n",
       "    <tr>\n",
       "      <th>mustang</th>\n",
       "      <th>manual</th>\n",
       "      <td>5</td>\n",
       "      <td>179</td>\n",
       "      <td>2.137</td>\n",
       "      <td>76.496</td>\n",
       "    </tr>\n",
       "    <tr>\n",
       "      <th>c1500 suburban 2wd</th>\n",
       "      <th>auto</th>\n",
       "      <td>5</td>\n",
       "      <td>35</td>\n",
       "      <td>2.137</td>\n",
       "      <td>14.957</td>\n",
       "    </tr>\n",
       "    <tr>\n",
       "      <th>grand prix</th>\n",
       "      <th>auto</th>\n",
       "      <td>5</td>\n",
       "      <td>130</td>\n",
       "      <td>2.137</td>\n",
       "      <td>55.556</td>\n",
       "    </tr>\n",
       "    <tr>\n",
       "      <th>explorer 4wd</th>\n",
       "      <th>auto</th>\n",
       "      <td>5</td>\n",
       "      <td>103</td>\n",
       "      <td>2.137</td>\n",
       "      <td>44.017</td>\n",
       "    </tr>\n",
       "    <tr>\n",
       "      <th>jetta</th>\n",
       "      <th>manual</th>\n",
       "      <td>5</td>\n",
       "      <td>152</td>\n",
       "      <td>2.137</td>\n",
       "      <td>64.957</td>\n",
       "    </tr>\n",
       "    <tr>\n",
       "      <th rowspan=\"2\" valign=\"top\">impreza awd</th>\n",
       "      <th>auto</th>\n",
       "      <td>4</td>\n",
       "      <td>139</td>\n",
       "      <td>1.709</td>\n",
       "      <td>59.402</td>\n",
       "    </tr>\n",
       "    <tr>\n",
       "      <th>manual</th>\n",
       "      <td>4</td>\n",
       "      <td>143</td>\n",
       "      <td>1.709</td>\n",
       "      <td>61.111</td>\n",
       "    </tr>\n",
       "    <tr>\n",
       "      <th>jetta</th>\n",
       "      <th>auto</th>\n",
       "      <td>4</td>\n",
       "      <td>147</td>\n",
       "      <td>1.709</td>\n",
       "      <td>62.821</td>\n",
       "    </tr>\n",
       "    <tr>\n",
       "      <th>sonata</th>\n",
       "      <th>auto</th>\n",
       "      <td>4</td>\n",
       "      <td>217</td>\n",
       "      <td>1.709</td>\n",
       "      <td>92.735</td>\n",
       "    </tr>\n",
       "    <tr>\n",
       "      <th>tiburon</th>\n",
       "      <th>manual</th>\n",
       "      <td>4</td>\n",
       "      <td>227</td>\n",
       "      <td>1.709</td>\n",
       "      <td>97.009</td>\n",
       "    </tr>\n",
       "    <tr>\n",
       "      <th>range rover</th>\n",
       "      <th>auto</th>\n",
       "      <td>4</td>\n",
       "      <td>213</td>\n",
       "      <td>1.709</td>\n",
       "      <td>91.026</td>\n",
       "    </tr>\n",
       "    <tr>\n",
       "      <th>mountaineer 4wd</th>\n",
       "      <th>auto</th>\n",
       "      <td>4</td>\n",
       "      <td>170</td>\n",
       "      <td>1.709</td>\n",
       "      <td>72.650</td>\n",
       "    </tr>\n",
       "    <tr>\n",
       "      <th>mustang</th>\n",
       "      <th>auto</th>\n",
       "      <td>4</td>\n",
       "      <td>174</td>\n",
       "      <td>1.709</td>\n",
       "      <td>74.359</td>\n",
       "    </tr>\n",
       "    <tr>\n",
       "      <th>passat</th>\n",
       "      <th>auto</th>\n",
       "      <td>4</td>\n",
       "      <td>192</td>\n",
       "      <td>1.709</td>\n",
       "      <td>82.051</td>\n",
       "    </tr>\n",
       "    <tr>\n",
       "      <th>ram 1500 pickup 4wd</th>\n",
       "      <th>manual</th>\n",
       "      <td>4</td>\n",
       "      <td>209</td>\n",
       "      <td>1.709</td>\n",
       "      <td>89.316</td>\n",
       "    </tr>\n",
       "    <tr>\n",
       "      <th>k1500 tahoe 4wd</th>\n",
       "      <th>auto</th>\n",
       "      <td>4</td>\n",
       "      <td>156</td>\n",
       "      <td>1.709</td>\n",
       "      <td>66.667</td>\n",
       "    </tr>\n",
       "    <tr>\n",
       "      <th>4runner 4wd</th>\n",
       "      <th>auto</th>\n",
       "      <td>4</td>\n",
       "      <td>4</td>\n",
       "      <td>1.709</td>\n",
       "      <td>1.709</td>\n",
       "    </tr>\n",
       "    <tr>\n",
       "      <th>toyota tacoma 4wd</th>\n",
       "      <th>manual</th>\n",
       "      <td>4</td>\n",
       "      <td>234</td>\n",
       "      <td>1.709</td>\n",
       "      <td>100.000</td>\n",
       "    </tr>\n",
       "    <tr>\n",
       "      <th>a4</th>\n",
       "      <th>auto</th>\n",
       "      <td>4</td>\n",
       "      <td>10</td>\n",
       "      <td>1.709</td>\n",
       "      <td>4.274</td>\n",
       "    </tr>\n",
       "    <tr>\n",
       "      <th>camry solara</th>\n",
       "      <th>auto</th>\n",
       "      <td>4</td>\n",
       "      <td>46</td>\n",
       "      <td>1.709</td>\n",
       "      <td>19.658</td>\n",
       "    </tr>\n",
       "    <tr>\n",
       "      <th rowspan=\"2\" valign=\"top\">a4 quattro</th>\n",
       "      <th>auto</th>\n",
       "      <td>4</td>\n",
       "      <td>17</td>\n",
       "      <td>1.709</td>\n",
       "      <td>7.265</td>\n",
       "    </tr>\n",
       "    <tr>\n",
       "      <th>manual</th>\n",
       "      <td>4</td>\n",
       "      <td>21</td>\n",
       "      <td>1.709</td>\n",
       "      <td>8.974</td>\n",
       "    </tr>\n",
       "    <tr>\n",
       "      <th>camry</th>\n",
       "      <th>auto</th>\n",
       "      <td>4</td>\n",
       "      <td>39</td>\n",
       "      <td>1.709</td>\n",
       "      <td>16.667</td>\n",
       "    </tr>\n",
       "    <tr>\n",
       "      <th>civic</th>\n",
       "      <th>auto</th>\n",
       "      <td>4</td>\n",
       "      <td>64</td>\n",
       "      <td>1.709</td>\n",
       "      <td>27.350</td>\n",
       "    </tr>\n",
       "    <tr>\n",
       "      <th>altima</th>\n",
       "      <th>auto</th>\n",
       "      <td>3</td>\n",
       "      <td>27</td>\n",
       "      <td>1.282</td>\n",
       "      <td>11.538</td>\n",
       "    </tr>\n",
       "    <tr>\n",
       "      <th>navigator 2wd</th>\n",
       "      <th>auto</th>\n",
       "      <td>3</td>\n",
       "      <td>182</td>\n",
       "      <td>1.282</td>\n",
       "      <td>77.778</td>\n",
       "    </tr>\n",
       "    <tr>\n",
       "      <th rowspan=\"2\" valign=\"top\">new beetle</th>\n",
       "      <th>auto</th>\n",
       "      <td>3</td>\n",
       "      <td>185</td>\n",
       "      <td>1.282</td>\n",
       "      <td>79.060</td>\n",
       "    </tr>\n",
       "    <tr>\n",
       "      <th>manual</th>\n",
       "      <td>3</td>\n",
       "      <td>188</td>\n",
       "      <td>1.282</td>\n",
       "      <td>80.342</td>\n",
       "    </tr>\n",
       "    <tr>\n",
       "      <th>a6 quattro</th>\n",
       "      <th>auto</th>\n",
       "      <td>3</td>\n",
       "      <td>24</td>\n",
       "      <td>1.282</td>\n",
       "      <td>10.256</td>\n",
       "    </tr>\n",
       "    <tr>\n",
       "      <th>passat</th>\n",
       "      <th>manual</th>\n",
       "      <td>3</td>\n",
       "      <td>195</td>\n",
       "      <td>1.282</td>\n",
       "      <td>83.333</td>\n",
       "    </tr>\n",
       "    <tr>\n",
       "      <th>pathfinder 4wd</th>\n",
       "      <th>auto</th>\n",
       "      <td>3</td>\n",
       "      <td>198</td>\n",
       "      <td>1.282</td>\n",
       "      <td>84.615</td>\n",
       "    </tr>\n",
       "    <tr>\n",
       "      <th>a4</th>\n",
       "      <th>manual</th>\n",
       "      <td>3</td>\n",
       "      <td>13</td>\n",
       "      <td>1.282</td>\n",
       "      <td>5.556</td>\n",
       "    </tr>\n",
       "    <tr>\n",
       "      <th>sonata</th>\n",
       "      <th>manual</th>\n",
       "      <td>3</td>\n",
       "      <td>220</td>\n",
       "      <td>1.282</td>\n",
       "      <td>94.017</td>\n",
       "    </tr>\n",
       "    <tr>\n",
       "      <th>tiburon</th>\n",
       "      <th>auto</th>\n",
       "      <td>3</td>\n",
       "      <td>223</td>\n",
       "      <td>1.282</td>\n",
       "      <td>95.299</td>\n",
       "    </tr>\n",
       "    <tr>\n",
       "      <th>toyota tacoma 4wd</th>\n",
       "      <th>auto</th>\n",
       "      <td>3</td>\n",
       "      <td>230</td>\n",
       "      <td>1.282</td>\n",
       "      <td>98.291</td>\n",
       "    </tr>\n",
       "    <tr>\n",
       "      <th>altima</th>\n",
       "      <th>manual</th>\n",
       "      <td>3</td>\n",
       "      <td>30</td>\n",
       "      <td>1.282</td>\n",
       "      <td>12.821</td>\n",
       "    </tr>\n",
       "    <tr>\n",
       "      <th>expedition 2wd</th>\n",
       "      <th>auto</th>\n",
       "      <td>3</td>\n",
       "      <td>98</td>\n",
       "      <td>1.282</td>\n",
       "      <td>41.880</td>\n",
       "    </tr>\n",
       "    <tr>\n",
       "      <th>gti</th>\n",
       "      <th>manual</th>\n",
       "      <td>3</td>\n",
       "      <td>135</td>\n",
       "      <td>1.282</td>\n",
       "      <td>57.692</td>\n",
       "    </tr>\n",
       "    <tr>\n",
       "      <th>corvette</th>\n",
       "      <th>manual</th>\n",
       "      <td>3</td>\n",
       "      <td>79</td>\n",
       "      <td>1.282</td>\n",
       "      <td>33.761</td>\n",
       "    </tr>\n",
       "    <tr>\n",
       "      <th>dakota pickup 4wd</th>\n",
       "      <th>manual</th>\n",
       "      <td>3</td>\n",
       "      <td>88</td>\n",
       "      <td>1.282</td>\n",
       "      <td>37.607</td>\n",
       "    </tr>\n",
       "    <tr>\n",
       "      <th rowspan=\"2\" valign=\"top\">forester awd</th>\n",
       "      <th>auto</th>\n",
       "      <td>3</td>\n",
       "      <td>114</td>\n",
       "      <td>1.282</td>\n",
       "      <td>48.718</td>\n",
       "    </tr>\n",
       "    <tr>\n",
       "      <th>manual</th>\n",
       "      <td>3</td>\n",
       "      <td>117</td>\n",
       "      <td>1.282</td>\n",
       "      <td>50.000</td>\n",
       "    </tr>\n",
       "    <tr>\n",
       "      <th>camry</th>\n",
       "      <th>manual</th>\n",
       "      <td>3</td>\n",
       "      <td>42</td>\n",
       "      <td>1.282</td>\n",
       "      <td>17.949</td>\n",
       "    </tr>\n",
       "    <tr>\n",
       "      <th>corolla</th>\n",
       "      <th>auto</th>\n",
       "      <td>3</td>\n",
       "      <td>72</td>\n",
       "      <td>1.282</td>\n",
       "      <td>30.769</td>\n",
       "    </tr>\n",
       "    <tr>\n",
       "      <th>camry solara</th>\n",
       "      <th>manual</th>\n",
       "      <td>3</td>\n",
       "      <td>49</td>\n",
       "      <td>1.282</td>\n",
       "      <td>20.940</td>\n",
       "    </tr>\n",
       "    <tr>\n",
       "      <th>corolla</th>\n",
       "      <th>manual</th>\n",
       "      <td>2</td>\n",
       "      <td>74</td>\n",
       "      <td>0.855</td>\n",
       "      <td>31.624</td>\n",
       "    </tr>\n",
       "    <tr>\n",
       "      <th>corvette</th>\n",
       "      <th>auto</th>\n",
       "      <td>2</td>\n",
       "      <td>76</td>\n",
       "      <td>0.855</td>\n",
       "      <td>32.479</td>\n",
       "    </tr>\n",
       "    <tr>\n",
       "      <th>gti</th>\n",
       "      <th>auto</th>\n",
       "      <td>2</td>\n",
       "      <td>132</td>\n",
       "      <td>0.855</td>\n",
       "      <td>56.410</td>\n",
       "    </tr>\n",
       "    <tr>\n",
       "      <th>4runner 4wd</th>\n",
       "      <th>manual</th>\n",
       "      <td>2</td>\n",
       "      <td>6</td>\n",
       "      <td>0.855</td>\n",
       "      <td>2.564</td>\n",
       "    </tr>\n",
       "    <tr>\n",
       "      <th>land cruiser wagon 4wd</th>\n",
       "      <th>auto</th>\n",
       "      <td>2</td>\n",
       "      <td>158</td>\n",
       "      <td>0.855</td>\n",
       "      <td>67.521</td>\n",
       "    </tr>\n",
       "    <tr>\n",
       "      <th>f150 pickup 4wd</th>\n",
       "      <th>manual</th>\n",
       "      <td>2</td>\n",
       "      <td>111</td>\n",
       "      <td>0.855</td>\n",
       "      <td>47.436</td>\n",
       "    </tr>\n",
       "    <tr>\n",
       "      <th>maxima</th>\n",
       "      <th>auto</th>\n",
       "      <td>2</td>\n",
       "      <td>165</td>\n",
       "      <td>0.855</td>\n",
       "      <td>70.513</td>\n",
       "    </tr>\n",
       "  </tbody>\n",
       "</table>\n",
       "</div>"
      ],
      "text/plain": [
       "                                  Count  CumCnt  Percent   CumPct\n",
       "model                  automatic                                 \n",
       "caravan 2wd            auto          11      60    4.701   25.641\n",
       "grand cherokee 4wd     auto           8     125    3.419   53.419\n",
       "durango 4wd            auto           7      95    2.991   40.598\n",
       "ram 1500 pickup 4wd    auto           6     205    2.564   87.607\n",
       "dakota pickup 4wd      auto           6      85    2.564   36.325\n",
       "malibu                 auto           5     163    2.137   69.658\n",
       "civic                  manual         5      69    2.137   29.487\n",
       "f150 pickup 4wd        auto           5     109    2.137   46.581\n",
       "mustang                manual         5     179    2.137   76.496\n",
       "c1500 suburban 2wd     auto           5      35    2.137   14.957\n",
       "grand prix             auto           5     130    2.137   55.556\n",
       "explorer 4wd           auto           5     103    2.137   44.017\n",
       "jetta                  manual         5     152    2.137   64.957\n",
       "impreza awd            auto           4     139    1.709   59.402\n",
       "                       manual         4     143    1.709   61.111\n",
       "jetta                  auto           4     147    1.709   62.821\n",
       "sonata                 auto           4     217    1.709   92.735\n",
       "tiburon                manual         4     227    1.709   97.009\n",
       "range rover            auto           4     213    1.709   91.026\n",
       "mountaineer 4wd        auto           4     170    1.709   72.650\n",
       "mustang                auto           4     174    1.709   74.359\n",
       "passat                 auto           4     192    1.709   82.051\n",
       "ram 1500 pickup 4wd    manual         4     209    1.709   89.316\n",
       "k1500 tahoe 4wd        auto           4     156    1.709   66.667\n",
       "4runner 4wd            auto           4       4    1.709    1.709\n",
       "toyota tacoma 4wd      manual         4     234    1.709  100.000\n",
       "a4                     auto           4      10    1.709    4.274\n",
       "camry solara           auto           4      46    1.709   19.658\n",
       "a4 quattro             auto           4      17    1.709    7.265\n",
       "                       manual         4      21    1.709    8.974\n",
       "camry                  auto           4      39    1.709   16.667\n",
       "civic                  auto           4      64    1.709   27.350\n",
       "altima                 auto           3      27    1.282   11.538\n",
       "navigator 2wd          auto           3     182    1.282   77.778\n",
       "new beetle             auto           3     185    1.282   79.060\n",
       "                       manual         3     188    1.282   80.342\n",
       "a6 quattro             auto           3      24    1.282   10.256\n",
       "passat                 manual         3     195    1.282   83.333\n",
       "pathfinder 4wd         auto           3     198    1.282   84.615\n",
       "a4                     manual         3      13    1.282    5.556\n",
       "sonata                 manual         3     220    1.282   94.017\n",
       "tiburon                auto           3     223    1.282   95.299\n",
       "toyota tacoma 4wd      auto           3     230    1.282   98.291\n",
       "altima                 manual         3      30    1.282   12.821\n",
       "expedition 2wd         auto           3      98    1.282   41.880\n",
       "gti                    manual         3     135    1.282   57.692\n",
       "corvette               manual         3      79    1.282   33.761\n",
       "dakota pickup 4wd      manual         3      88    1.282   37.607\n",
       "forester awd           auto           3     114    1.282   48.718\n",
       "                       manual         3     117    1.282   50.000\n",
       "camry                  manual         3      42    1.282   17.949\n",
       "corolla                auto           3      72    1.282   30.769\n",
       "camry solara           manual         3      49    1.282   20.940\n",
       "corolla                manual         2      74    0.855   31.624\n",
       "corvette               auto           2      76    0.855   32.479\n",
       "gti                    auto           2     132    0.855   56.410\n",
       "4runner 4wd            manual         2       6    0.855    2.564\n",
       "land cruiser wagon 4wd auto           2     158    0.855   67.521\n",
       "f150 pickup 4wd        manual         2     111    0.855   47.436\n",
       "maxima                 auto           2     165    0.855   70.513"
      ]
     },
     "execution_count": 102,
     "metadata": {},
     "output_type": "execute_result"
    }
   ],
   "source": [
    "model_auto = mycars[['model', 'automatic']]\n",
    "count= model_auto[['model', 'automatic']].value_counts().sort_index()\n",
    "cumcnt = np.cumsum(count)\n",
    "percent = ma / sum(count) * 100\n",
    "cumpct = np.cumsum(percent)\n",
    "# DataFrame으로 취합\n",
    "df = pd.DataFrame({'Count': count, \n",
    "                         'CumCnt': cumcnt, \n",
    "                         'Percent': percent,\n",
    "                         'CumPct': cumpct})\n",
    "df.round(3).sort_values('Count', ascending = False).head(60)"
   ]
  },
  {
   "cell_type": "markdown",
   "id": "0838b5cc",
   "metadata": {},
   "source": [
    "위의 결과를 토대로, caravan 2wd 모델이면서, auto 형태의 차량이 가장 많은 수가 조사된 것으로 나타났다.  \n",
    "특히 auto 형태의 차량이 빈도 수가 많은 것으로 나타난 것으로 보아, 운전자들이 주로 차량의 auto 형태를 선호함을 예측해 볼 수 있다."
   ]
  },
  {
   "cell_type": "markdown",
   "id": "921ebb77",
   "metadata": {},
   "source": [
    "### Q3. \n",
    "#### 대한민국 남성의 20~30대 키를 측정한 결과, 평균 175cm, 표준편차 5cm이다. 나의 키가 180cm일 경우에 몇 % 범위에 위치하는가?"
   ]
  },
  {
   "cell_type": "code",
   "execution_count": 18,
   "id": "33385ff0",
   "metadata": {},
   "outputs": [
    {
     "name": "stdout",
     "output_type": "stream",
     "text": [
      "180이상 일 경우, 전체 중 비율 : 15.9%\n"
     ]
    }
   ],
   "source": [
    "mu = 175\n",
    "sigma = 5\n",
    "x = 180\n",
    "prob = stats.norm.cdf(x, mu, sigma)\n",
    "print(\"{0}이상 일 경우, 전체 중 비율 : {1:.1f}%\".format(x, (1-prob)*100))"
   ]
  },
  {
   "cell_type": "markdown",
   "id": "bb9ca974",
   "metadata": {},
   "source": [
    "### Q4. \n",
    "#### 어떤 자동차 1리터당 주행거리가 평균 12km, 표준편차 3km인 정규분포를 따른다."
   ]
  },
  {
   "cell_type": "markdown",
   "id": "7b8207a3",
   "metadata": {},
   "source": [
    "##### 1) 1리터를 가지고 9km 이상 15km 이하를 달릴 확률은 얼마인가?  "
   ]
  },
  {
   "cell_type": "code",
   "execution_count": 38,
   "id": "396dcbbd",
   "metadata": {},
   "outputs": [
    {
     "name": "stdout",
     "output_type": "stream",
     "text": [
      "1리터를 가지고 9km 이상 15km 이하를 달릴 확률은 0.683입니다.\n"
     ]
    }
   ],
   "source": [
    "mu = 12\n",
    "sigma = 3\n",
    "x1 = 9\n",
    "x2 = 15\n",
    "prob1 = stats.norm.cdf(x1, mu, sigma)\n",
    "prob2 = stats.norm.cdf(x2, mu, sigma)\n",
    "print(\"1리터를 가지고 {0}km 이상 {1}km 이하를 달릴 확률은 {2:.3f}입니다.\".format(x1, x2, (prob2-prob1)))"
   ]
  },
  {
   "cell_type": "markdown",
   "id": "69130160",
   "metadata": {},
   "source": [
    "##### 2) 1리터를 가지고 15km 이상을 달릴 확률은 얼마인가?"
   ]
  },
  {
   "cell_type": "code",
   "execution_count": 21,
   "id": "3efec4ea",
   "metadata": {},
   "outputs": [
    {
     "name": "stdout",
     "output_type": "stream",
     "text": [
      "1리터를 가지고 15km 이상을 달릴 확률은 0.159입니다.\n"
     ]
    }
   ],
   "source": [
    "print(\"1리터를 가지고 {0}km 이상을 달릴 확률은 {1:.3f}입니다.\".format(x2, (1-prob2)))"
   ]
  },
  {
   "cell_type": "markdown",
   "id": "2536abd5",
   "metadata": {},
   "source": [
    "### Q5. \n",
    "#### 확률변수 t는 자유도가 100인 t-분포를 따른다. t값이 2.0일 때, P(T<=t)을 계산하시오."
   ]
  },
  {
   "cell_type": "code",
   "execution_count": 30,
   "id": "a4ba3f9b",
   "metadata": {},
   "outputs": [
    {
     "name": "stdout",
     "output_type": "stream",
     "text": [
      "P(T <= 2.0) : 0.976\n"
     ]
    }
   ],
   "source": [
    "t=2.0\n",
    "df = 100\n",
    "prob = stats.t.cdf(t, df).round(3)\n",
    "print(\"P(T <= {}) : {:.3f}\".format(t, prob))"
   ]
  },
  {
   "cell_type": "markdown",
   "id": "13e4d3cf",
   "metadata": {},
   "source": [
    "### Q6. \n",
    "#### 확률변수 카이제곱은 자유도가 8인 카이제곱 분포를 따른다. 카이제곱 값이 3.0일 때, P(X <= X^2(카이제곱))을 계산하시오."
   ]
  },
  {
   "cell_type": "code",
   "execution_count": 32,
   "id": "ff6c39fa",
   "metadata": {},
   "outputs": [
    {
     "name": "stdout",
     "output_type": "stream",
     "text": [
      "P(X <= 3.0) : 0.066\n"
     ]
    }
   ],
   "source": [
    "chisq = 3.0\n",
    "df = 8\n",
    "prob = stats.chi2.cdf(chisq, df).round(3)\n",
    "print(\"P(X <= {0}) : {1:.3f}\".format(chisq, prob))"
   ]
  },
  {
   "cell_type": "markdown",
   "id": "1e9ecdf8",
   "metadata": {},
   "source": [
    "### Q7. \n",
    "#### 확률변수 F는 각각 자유도가 10, 100인 F-분포를 따른다. F값이 1.5 일 때, P(X <= F)을 계산하시오."
   ]
  },
  {
   "cell_type": "code",
   "execution_count": 33,
   "id": "9d46b3be",
   "metadata": {},
   "outputs": [
    {
     "name": "stdout",
     "output_type": "stream",
     "text": [
      "P(X <= 1.5): 0.850\n"
     ]
    }
   ],
   "source": [
    "f = 1.5\n",
    "dfnum = 10\n",
    "dfden = 100\n",
    "prob = stats.f.cdf(f, dfn=dfnum, dfd=dfden)\n",
    "print(\"P(X <= {0}): {1:.3f}\".format(f, prob))"
   ]
  },
  {
   "cell_type": "markdown",
   "id": "8835218e",
   "metadata": {},
   "source": [
    "### Q8. \n",
    "#### 도장공정에서 광택도 불량이 30%나 된다고 한다.  5대의 차량을 임의로 선택했을 때, 불량대수가 각각 0,1,2,3,4,5 대가 나올 확률은 얼마인가?"
   ]
  },
  {
   "cell_type": "code",
   "execution_count": 36,
   "id": "59bd84d6",
   "metadata": {},
   "outputs": [
    {
     "name": "stdout",
     "output_type": "stream",
     "text": [
      "P(X = 0) = 0.168\n",
      "P(X = 1) = 0.360\n",
      "P(X = 2) = 0.309\n",
      "P(X = 3) = 0.132\n",
      "P(X = 4) = 0.028\n",
      "P(X = 5) = 0.002\n"
     ]
    }
   ],
   "source": [
    "n = 5\n",
    "for i in range(n+1):\n",
    "    prob = stats.binom.pmf(k=i, n=n, p=0.3)\n",
    "    print(\"P(X = {0}) = {1:.3f}\".format(i, prob))"
   ]
  },
  {
   "cell_type": "markdown",
   "id": "48438113",
   "metadata": {},
   "source": [
    "1대가 불량으로 나올 확률이 0.360으로 가장 높았으며, 5대 모두가 불량으로 나올 확률은 0.002로 매우 낮음을 확인할 수 있다."
   ]
  },
  {
   "cell_type": "markdown",
   "id": "a6b04193",
   "metadata": {},
   "source": [
    "### Q9. \n",
    "#### 정규성 검정\n",
    "1) 실습 파일 2sample_t_test.csv를 불러오고  \n",
    "2) 변수, Mat_A와 Mat_b에 대해 각각 정규성을 검정한다."
   ]
  },
  {
   "cell_type": "code",
   "execution_count": 51,
   "id": "b818e62b",
   "metadata": {},
   "outputs": [
    {
     "data": {
      "text/html": [
       "<div>\n",
       "<style scoped>\n",
       "    .dataframe tbody tr th:only-of-type {\n",
       "        vertical-align: middle;\n",
       "    }\n",
       "\n",
       "    .dataframe tbody tr th {\n",
       "        vertical-align: top;\n",
       "    }\n",
       "\n",
       "    .dataframe thead th {\n",
       "        text-align: right;\n",
       "    }\n",
       "</style>\n",
       "<table border=\"1\" class=\"dataframe\">\n",
       "  <thead>\n",
       "    <tr style=\"text-align: right;\">\n",
       "      <th></th>\n",
       "      <th>Mat_A</th>\n",
       "      <th>Mat_B</th>\n",
       "    </tr>\n",
       "  </thead>\n",
       "  <tbody>\n",
       "    <tr>\n",
       "      <th>0</th>\n",
       "      <td>73.4</td>\n",
       "      <td>68.7</td>\n",
       "    </tr>\n",
       "    <tr>\n",
       "      <th>1</th>\n",
       "      <td>77.0</td>\n",
       "      <td>71.4</td>\n",
       "    </tr>\n",
       "    <tr>\n",
       "      <th>2</th>\n",
       "      <td>73.7</td>\n",
       "      <td>69.8</td>\n",
       "    </tr>\n",
       "    <tr>\n",
       "      <th>3</th>\n",
       "      <td>73.3</td>\n",
       "      <td>75.3</td>\n",
       "    </tr>\n",
       "    <tr>\n",
       "      <th>4</th>\n",
       "      <td>73.1</td>\n",
       "      <td>71.3</td>\n",
       "    </tr>\n",
       "  </tbody>\n",
       "</table>\n",
       "</div>"
      ],
      "text/plain": [
       "   Mat_A  Mat_B\n",
       "0   73.4   68.7\n",
       "1   77.0   71.4\n",
       "2   73.7   69.8\n",
       "3   73.3   75.3\n",
       "4   73.1   71.3"
      ]
     },
     "execution_count": 51,
     "metadata": {},
     "output_type": "execute_result"
    }
   ],
   "source": [
    "df = pd.read_csv(\"../실습파일/BigData분석기초/2sample_t_test.csv\")\n",
    "df.head()"
   ]
  },
  {
   "cell_type": "markdown",
   "id": "a919d3d4",
   "metadata": {},
   "source": [
    "##### Mat_A에 대한 정규성 검정  : 정규성 만족\n",
    "  \n",
    "정규성 검정의 가설설정은 다음과 같다.  \n",
    "H0 : 정규성을 만족한다.  \n",
    "H1 : 정규성을 만족하지 못한다.  \n",
    "  \n",
    "p-value가 0.256으로 0.05보다 크므로, 귀무가설을 기각하기 어렵다.  \n",
    "따라서 Mat_A의 분포는 정규성을 만족한다고 할 근거가 충분하다."
   ]
  },
  {
   "cell_type": "code",
   "execution_count": 52,
   "id": "caf62989",
   "metadata": {},
   "outputs": [
    {
     "name": "stdout",
     "output_type": "stream",
     "text": [
      "Mat_A의 Shapiro-Wilk Test : statistic=0.906, p-value=0.256\n"
     ]
    }
   ],
   "source": [
    "statistic_a, p_a = stats.shapiro(df['Mat_A'])\n",
    "print(\"Mat_A의 Shapiro-Wilk Test : statistic={}, p-value={}\".format(round(statistic_a,3), round(p_a,3)))"
   ]
  },
  {
   "cell_type": "markdown",
   "id": "9e118117",
   "metadata": {},
   "source": [
    "##### Mat_B에 대한 정규성 검정  : 정규성 만족\n",
    "\n",
    "Mat B의 분포의 경우, p-value가 0.973로 0.05보다 매우 크므로, 귀무가설을 기각하기 어렵다.  \n",
    "따라서 Mat_B의 분포는 정규성을 만족한다고 할 근거가 충분하다."
   ]
  },
  {
   "cell_type": "code",
   "execution_count": 53,
   "id": "3e6b37d1",
   "metadata": {},
   "outputs": [
    {
     "name": "stdout",
     "output_type": "stream",
     "text": [
      "Mat_B의 Shapiro-Wilk Test : statistic=0.973, p-value=0.917\n"
     ]
    }
   ],
   "source": [
    "statistic_b, p_b = stats.shapiro(df['Mat_B'])\n",
    "print(\"Mat_B의 Shapiro-Wilk Test : statistic={}, p-value={}\".format(round(statistic_b,3), round(p_b,3)))"
   ]
  },
  {
   "cell_type": "markdown",
   "id": "68319b77",
   "metadata": {},
   "source": [
    "### Q10.\n",
    "#### 새로운 품종의 감자 20Box를 랜덤추출해 무게를 측정한 결과가 다음과 같다. (단, 모표준편차는 3.8로 알려짐) 이 자료로 부터 신품종 배추의 평균무게에 대한 95% 신뢰구간을 구하시오.  "
   ]
  },
  {
   "cell_type": "markdown",
   "id": "eef19bfe",
   "metadata": {},
   "source": [
    "모표준편차를 알고 있으므로, 정규분포를 이용하여 신뢰구간을 구할 수 있다."
   ]
  },
  {
   "cell_type": "code",
   "execution_count": 56,
   "id": "82c7f404",
   "metadata": {},
   "outputs": [
    {
     "name": "stdout",
     "output_type": "stream",
     "text": [
      "신뢰구간 : ([17.835], [21.165])\n"
     ]
    }
   ],
   "source": [
    "lower, upper = stats.norm.interval(0.95, loc = df_potato.mean(), scale = 3.8/np.sqrt(len(df_potato)))\n",
    "print(\"신뢰구간 : ({0}, {1})\". format(lower.round(3), upper.round(3)))"
   ]
  },
  {
   "cell_type": "markdown",
   "id": "f4f638de",
   "metadata": {},
   "source": [
    "위의 결과에 따라 신품종 배추의 평균무게는 (17.835, 21.165)의 범위에 있을 확률이 95% 정도 됨을 알 수 있다."
   ]
  },
  {
   "cell_type": "markdown",
   "id": "e84e1253",
   "metadata": {},
   "source": [
    "###  Q11.\n",
    "#### 제품개발자는 새로 개발된 강종의 평균 인장 강도를 70kg/mm^2로 기대하고 있다. 이를 검증하기 위해 시험 생산되는 강종 중 임의로 20개의 코일을 대상으로 랜덤하게 시편을 채취하였고, 이 자료로 부터 모평균값의 95%로 신뢰구간을 추정해라."
   ]
  },
  {
   "cell_type": "markdown",
   "id": "93363cdf",
   "metadata": {},
   "source": [
    "##### - 정규성 검정 : 정규성 만족"
   ]
  },
  {
   "cell_type": "code",
   "execution_count": 66,
   "id": "4f2bf42f",
   "metadata": {},
   "outputs": [
    {
     "name": "stdout",
     "output_type": "stream",
     "text": [
      "Mat_B의 Shapiro-Wilk Test : statistic=0.947, p-value=0.325\n"
     ]
    }
   ],
   "source": [
    "df = [73,71,74,69,70,73,70,68,75,72,70,72,73,70,70,72,71,70,75,72]\n",
    "statistic, p = stats.shapiro(df)\n",
    "print(\"Mat_B의 Shapiro-Wilk Test : statistic={}, p-value={}\".format(round(statistic,3), round(p,3)))"
   ]
  },
  {
   "cell_type": "code",
   "execution_count": 68,
   "id": "32489550",
   "metadata": {
    "scrolled": true
   },
   "outputs": [
    {
     "name": "stdout",
     "output_type": "stream",
     "text": [
      "신뢰구간: (70.6, 72.4)\n"
     ]
    }
   ],
   "source": [
    "lower, upper = stats.t.interval(0.95, len(df)-1,  loc = np.mean(df), scale = stats.sem(df))\n",
    "print(\"신뢰구간: ({0}, {1})\" .format(lower.round(2), upper.round(2)))"
   ]
  },
  {
   "cell_type": "markdown",
   "id": "fc9eef20",
   "metadata": {},
   "source": [
    "모집단의 분포가 정규분포를 가정되지 않고, 모수에 대한 정보도 주어지지 않으며, 표본의 수도 매우 적다면, t-분포를 사용할 수 없는 것으로 알고 있다.  \n",
    "그러나 Shapiro-Wilk 정규성 검정의 결과로, 모집단의 분포가 정규성을 만족한다고 주장이 가능하므로 t-분포를 통해 신뢰구간을 구할 수 있다.\n",
    "따라서 위의 결과에 따라, 새로 개발된 강종의 평균 인장 강도는 (70.6, 72.4)의 범위에 있을 확률이 95% 정도 됨을 알 수 있다. "
   ]
  },
  {
   "cell_type": "markdown",
   "id": "7d1483f3",
   "metadata": {},
   "source": [
    "### Q12.\n",
    "#### 고객서비스센터의 고객만족도 평균은 78.0이다. 개선활동을 완료한 후 다음과 같은 10개의 고객만족도 데이터를 얻었을 때, 개선활동이 만족도를 변화시켰는가?"
   ]
  },
  {
   "cell_type": "markdown",
   "id": "c9e133ff",
   "metadata": {},
   "source": [
    "##### - 가설설정  \n",
    "H0 : 고객만족도 평균은 78.0이다.  \n",
    "H1 : 고객만족도 평균은 78.0이 아니다."
   ]
  },
  {
   "cell_type": "markdown",
   "id": "4c4282d7",
   "metadata": {},
   "source": [
    "##### - 유의수준  \n",
    "alpha = 0.05"
   ]
  },
  {
   "cell_type": "markdown",
   "id": "02c9c9be",
   "metadata": {},
   "source": [
    "##### - 정규성 검정 : 정규성 만족"
   ]
  },
  {
   "cell_type": "code",
   "execution_count": 63,
   "id": "4eb77080",
   "metadata": {},
   "outputs": [
    {
     "name": "stdout",
     "output_type": "stream",
     "text": [
      "statistic=0.847, p-value=0.054\n"
     ]
    }
   ],
   "source": [
    "df_satisfaction = [85.0, 79.0, 79.1, 79.9, 81.6, 78.6, 85.4, 83.4, 78.1, 79.2]\n",
    "statistic, p = stats.shapiro(df_satisfaction)\n",
    "print(\"statistic={}, p-value={}\".format(round(statistic,3), round(p,3)))"
   ]
  },
  {
   "cell_type": "markdown",
   "id": "f9660a1f",
   "metadata": {},
   "source": [
    "##### - 1-sample t-test"
   ]
  },
  {
   "cell_type": "code",
   "execution_count": 64,
   "id": "38290ec8",
   "metadata": {},
   "outputs": [
    {
     "name": "stdout",
     "output_type": "stream",
     "text": [
      "1-Sample t-test\n",
      "t 통계량 : 3.379\n",
      "p-value : 0.008\n"
     ]
    }
   ],
   "source": [
    "t_result = stats.ttest_1samp(df_satisfaction, 78.0)\n",
    "t,p = t_result.statistic.round(3), t_result.pvalue.round(3)\n",
    "print('1-Sample t-test')\n",
    "print(\"t 통계량 : {}\".format(t))\n",
    "print(\"p-value : {}\".format(p))"
   ]
  },
  {
   "cell_type": "markdown",
   "id": "2fc2787a",
   "metadata": {},
   "source": [
    "##### 결과: 귀무가설 기각  \n",
    "모집단의 분포가 정규분포를 가정되지 않고, 모수에 대한 정보도 주어지지 않으며, 표본의 수도 매우 적다면, t-분포를 사용할 수 없는 것으로 알고 있다.   \n",
    "그러나 Shapiro - Wilk 정규성 검정의 p-value가 0.054로 귀무가설을 채택하여 정규성을 만족한다고 할 수 있으므로, t-분포를 이용한 평균 검정을 실시하였다.  그 결과, 0.008의 p-value 값으로 인해, 귀무가설을 기각할만한 충분한 근거를 얻을 수 있었고, 따라서 고객만족도의 평균은 78.0이라 주장하기 어렵다."
   ]
  },
  {
   "cell_type": "markdown",
   "id": "9215f0d1",
   "metadata": {},
   "source": [
    "### Q13.\n",
    "#### 제품을 A공급자와 B공급자로부터 제품을 받아 두께를 측정해서 다음의 데이터를 얻었다. 공급자 간에 모평균에 차이가 있다고 할 수 있는가?"
   ]
  },
  {
   "cell_type": "markdown",
   "id": "89ce6a0b",
   "metadata": {},
   "source": [
    "##### - 가설설정  \n",
    "H0 : A공급자의 제품의 평균과 B공급자의 제품의 평균에는 차이가 없다.(M1 = M2)  \n",
    "H1 : A공급자의 제품의 평균과 B공급자의 제품의 평균에는 차이가 있다.(M1 != M2)"
   ]
  },
  {
   "cell_type": "markdown",
   "id": "28a67eaa",
   "metadata": {},
   "source": [
    "##### - 유의수준  \n",
    "alpha = 0.05"
   ]
  },
  {
   "cell_type": "code",
   "execution_count": 76,
   "id": "fdab232d",
   "metadata": {},
   "outputs": [],
   "source": [
    "df_suplies = pd.DataFrame({\"A\" : [1.883, 1.715, 1.799, 1.768, 1.711, 1.832, 1.427, 1.344],\n",
    "                           \"B\" : [1.435, 1.572, 1.486, 1.511, 1.457, 1.548, 1.404, 1.800]})"
   ]
  },
  {
   "cell_type": "markdown",
   "id": "4d462a02",
   "metadata": {},
   "source": [
    "##### - A의 정규성검정 결과 : 정규성 만족"
   ]
  },
  {
   "cell_type": "code",
   "execution_count": 77,
   "id": "0f2f8e1a",
   "metadata": {
    "scrolled": true
   },
   "outputs": [
    {
     "name": "stdout",
     "output_type": "stream",
     "text": [
      "A의 정규성검정 결과\n",
      "statistic=0.843, p-value=0.08\n"
     ]
    }
   ],
   "source": [
    "statistic, p = stats.shapiro(df_suplies['A'])\n",
    "print(\"A의 정규성검정 결과\")\n",
    "print(\"statistic={}, p-value={}\".format(round(statistic,3), round(p,3)))"
   ]
  },
  {
   "cell_type": "markdown",
   "id": "72b3569d",
   "metadata": {},
   "source": [
    "##### - B의 정규성검정 결과 : 정규성 만족"
   ]
  },
  {
   "cell_type": "code",
   "execution_count": 78,
   "id": "a8d46e5c",
   "metadata": {},
   "outputs": [
    {
     "name": "stdout",
     "output_type": "stream",
     "text": [
      "B의 정규성검정 결과\n",
      "statistic=0.839, p-value=0.074\n"
     ]
    }
   ],
   "source": [
    "statistic, p = stats.shapiro(df_suplies['B'])\n",
    "print(\"B의 정규성검정 결과\")\n",
    "print(\"statistic={}, p-value={}\".format(round(statistic,3), round(p,3)))"
   ]
  },
  {
   "cell_type": "markdown",
   "id": "b0b37837",
   "metadata": {},
   "source": [
    "##### - 등분산검정 결과 : 등분산으로 가정"
   ]
  },
  {
   "cell_type": "code",
   "execution_count": 79,
   "id": "772a32be",
   "metadata": {},
   "outputs": [
    {
     "data": {
      "text/plain": [
       "BartlettResult(statistic=1.2899966318541203, pvalue=0.25604857136527204)"
      ]
     },
     "execution_count": 79,
     "metadata": {},
     "output_type": "execute_result"
    }
   ],
   "source": [
    "stats.bartlett(df_suplies['A'], df_suplies['B'])"
   ]
  },
  {
   "cell_type": "markdown",
   "id": "b116ebf2",
   "metadata": {},
   "source": [
    "##### - 2-Sample t-test"
   ]
  },
  {
   "cell_type": "code",
   "execution_count": 80,
   "id": "66837a5b",
   "metadata": {},
   "outputs": [
    {
     "name": "stdout",
     "output_type": "stream",
     "text": [
      "2-Sample t-test\n",
      "t-statistic:1.94, p-value:0.073\n"
     ]
    }
   ],
   "source": [
    "t_result = stats.ttest_ind(df_suplies['A'], df_suplies['B'])\n",
    "t, p = t_result.statistic.round(3), t_result.pvalue.round(3)\n",
    "print('2-Sample t-test')\n",
    "print('t-statistic:{}, p-value:{}'.format(round(t,3), round(p,3)))"
   ]
  },
  {
   "cell_type": "markdown",
   "id": "099a4806",
   "metadata": {},
   "source": [
    "결과: 귀무가설 채택\n",
    "\n",
    "Shapiro - Wilk 정규성 검정을 통해, A공급자의 제품. B공급자의 제품이 모두 정규성을 만족함을 확인할 수 있다.  \n",
    "또한 두 집단의 정규성이 충족되어, Bartlett 등분산 검정을 시행하였고, 그 결과 두 집단의 분산은 같은 것으로 판단될 수 있음을 알 수 있었다.   \n",
    "이러한 조건을 통한 2-sample t-test 검정 결과, 0.073의 p-value 값으로 인해 귀무가설을 기각할만한 충분한 근거를 얻지 못하였고, 따라서 두 공급자 A,B의 제품에 대한 평균에 차이가 없다고 주장할 근거가 충분하다."
   ]
  },
  {
   "cell_type": "markdown",
   "id": "dd868135",
   "metadata": {},
   "source": [
    "### Q14.\n",
    "#### 회사원 10명에 대해 영어 점수가 학원가기 전/후에 영어점수가 짝을 이루고 있다. 회사원들의 성적은 학원가기 전후에 대해 차이가 있는지 검정하라 "
   ]
  },
  {
   "cell_type": "markdown",
   "id": "012839c8",
   "metadata": {},
   "source": [
    "##### - 가설설정  \n",
    "H0 : 회사원들의 영어 성적은 학원 가기 전후에 차이가 없다.(d1 - d2 =0)  \n",
    "H1 : 회사원들의 영어 성적은 학원 가기 전후에 차이가 있다.(d1 - d2 != 0)"
   ]
  },
  {
   "cell_type": "markdown",
   "id": "a276b6e8",
   "metadata": {},
   "source": [
    "##### - 유의수준  \n",
    "alpha = 0.05"
   ]
  },
  {
   "cell_type": "code",
   "execution_count": 81,
   "id": "4f530376",
   "metadata": {},
   "outputs": [],
   "source": [
    "df_before = pd.DataFrame({'before' : [720,589,780,648,720,589,780,648,780,648]})\n",
    "df_after  = pd.DataFrame({'after'  : [710,580,787,712,750,600,782,670,790,680]})"
   ]
  },
  {
   "cell_type": "markdown",
   "id": "7308390d",
   "metadata": {},
   "source": [
    "##### - paired t -test"
   ]
  },
  {
   "cell_type": "code",
   "execution_count": 82,
   "id": "10b82378",
   "metadata": {},
   "outputs": [
    {
     "name": "stdout",
     "output_type": "stream",
     "text": [
      "Paired t-test\n",
      "t:[-2.266]\n",
      "p:[0.05]\n"
     ]
    }
   ],
   "source": [
    "t_result = stats.ttest_rel(df_before, df_after)\n",
    "t, p = t_result.statistic.round(3), t_result.pvalue.round(3)\n",
    "print(\"Paired t-test\")\n",
    "print(\"t:{}\".format(t))\n",
    "print(\"p:{}\".format(p))"
   ]
  },
  {
   "cell_type": "markdown",
   "id": "3e750d19",
   "metadata": {},
   "source": [
    "##### 결과: 귀무가설 기각\n",
    "  \n",
    "한 표본에 대하여, 처리 전후의 차이를 알아보기 위해서 paired t-test 검정을 시행하였다.  \n",
    "paired t-test 검정 결과, 0.05의 p-value 값을 확인할 수 있었고 대립가설을 주장하여 기존의 가설을 바꾸고자 했기 때문에 귀무가설을 기각하는 것을 선택하였다.  \n",
    "따라서 회사원들의 영어 성적은 학원 가기 전후에 차이가 없다고 주장할 근거가 충분하지 않다."
   ]
  },
  {
   "cell_type": "markdown",
   "id": "9638b16d",
   "metadata": {},
   "source": [
    "### Q15.\n",
    "####  동전이 정상적인가를 검정하기 위해 100번을 던져본 결과, 앞면이 40번 나왔으며, 뒷면 60번 나왔다. 이 동전은 정상인가를 유의수준 5%로써 검정하라.  정상적인 동전을 던질 때, 앞면이 나올 확률은 50%이다."
   ]
  },
  {
   "cell_type": "markdown",
   "id": "8b599f25",
   "metadata": {},
   "source": [
    "##### - 가설설정  \n",
    "H0 : 동전을 던졌을 떄, 앞면이 나올 확률은 0.5이다.(p = 0.5)  \n",
    "H1 : 동전을 던졌을 떄, 앞면이 나올 확률은 0.5이 아니다.(p != 0.5)"
   ]
  },
  {
   "cell_type": "markdown",
   "id": "b80b40fc",
   "metadata": {},
   "source": [
    "##### - 유의수준  \n",
    "alpha = 0.05"
   ]
  },
  {
   "cell_type": "markdown",
   "id": "c6e8c797",
   "metadata": {},
   "source": [
    "##### - 1-Proportion test"
   ]
  },
  {
   "cell_type": "code",
   "execution_count": 84,
   "id": "fb252844",
   "metadata": {},
   "outputs": [
    {
     "name": "stdout",
     "output_type": "stream",
     "text": [
      "Proportiion test\n",
      "z:2.04\n",
      "p:0.041\n"
     ]
    }
   ],
   "source": [
    "head = 60\n",
    "n_obs = 100\n",
    "value = 0.5\n",
    "z,p = proportions_ztest(head, n_obs, value)\n",
    "print(\"Proportiion test\")\n",
    "print('z:{0:0.3}'.format(round(z,3)))\n",
    "print('p:{0:0.3}'.format(round(p,3)))"
   ]
  },
  {
   "cell_type": "markdown",
   "id": "b2771f39",
   "metadata": {},
   "source": [
    "##### 결과: 귀무가설 기각\n",
    "\n",
    "모비율은 n, p가 커짐에 따라 정규분포로 근사한다. 따라서 정규분포를 통해 모비율에 대한 검정을 실시할 수 있다.   \n",
    "위의 검정의 결과에 따라, 0.041의 p-value를 가지므로, 귀무가설을 기각할만한 근거가 충분하다고 할 수 있다.  \n",
    "따라서 동전을 던졌을 때 앞면이 나올 확률은 0.5라고 할 근거가 충분하지 않으므로, 동전은 정상적이라고 보기 힘들다."
   ]
  },
  {
   "cell_type": "markdown",
   "id": "47b4c42e",
   "metadata": {},
   "source": [
    "### Q16.\n",
    "#### 동일한 제품을 생산하는 두 공장에서 불량률을 측정한 결과 아래와 같다. 두 공정의 불량률이 같다고 할 수 있는가?\n",
    "1) 공장 A : N1 = 1200, X1 = 14  \n",
    "2) 공장 B : N2 = 1200, X2 = 5"
   ]
  },
  {
   "cell_type": "markdown",
   "id": "9f2ed9c9",
   "metadata": {},
   "source": [
    "##### - 가설설정  \n",
    "H0 : 두 공정의 불량률은 같다.(p1 = p2)  \n",
    "H1 : 두 공정의 불량률은 같지 않다.(p1 != p2)"
   ]
  },
  {
   "cell_type": "markdown",
   "id": "c052a97f",
   "metadata": {},
   "source": [
    "##### - 유의수준  \n",
    "alpha = 0.05"
   ]
  },
  {
   "cell_type": "markdown",
   "id": "a550b409",
   "metadata": {},
   "source": [
    "##### - 2-Proportion test"
   ]
  },
  {
   "cell_type": "code",
   "execution_count": 85,
   "id": "4be86a47",
   "metadata": {},
   "outputs": [
    {
     "name": "stdout",
     "output_type": "stream",
     "text": [
      "2 Proportiion test\n",
      "z:2.07\n",
      "p:0.038\n"
     ]
    }
   ],
   "source": [
    "count = np.array([14, 5])\n",
    "n_obs = np.array([1200, 1200])\n",
    "z,p = proportions_ztest(count, n_obs)\n",
    "print(\"2 Proportiion test\")\n",
    "print('z:{0:0.3}'.format(round(z,3)))\n",
    "print('p:{0:0.3}'.format(round(p,3)))"
   ]
  },
  {
   "cell_type": "markdown",
   "id": "5dd22f39",
   "metadata": {},
   "source": [
    "##### 결과: 귀무가설 기각\n",
    "\n",
    "위의 검정의 결과에 따라, 0.038의 p-value를 가지므로, 귀무가설을 기각할만한 근거가 충분하다고 할 수 있다.  \n",
    "따라서 두 공정의 불량률이 같다고 주장할 근거가 충분하지 않다."
   ]
  },
  {
   "cell_type": "markdown",
   "id": "c3b84e8a",
   "metadata": {},
   "source": [
    "### Q17.\n",
    "#### 노트북 컴퓨터의 6가지 제품(A, B, C, D, E, F)에 대하여 7가지 제품의 이미지를 중복 선택 할 수 있도록 32명의 소비자를 대상으로 설문조사한 Table이다. 각 제품에 대해 이미지 차이가 존재하겠는가?"
   ]
  },
  {
   "cell_type": "markdown",
   "id": "19fe54b6",
   "metadata": {},
   "source": [
    "##### - 가설설정  \n",
    "H0 : 각 제품의 이미지에 대한 차이가 없다.  \n",
    "H1 : 각 제품의 이미지에 대한 차이가 있다."
   ]
  },
  {
   "cell_type": "markdown",
   "id": "9ebf262f",
   "metadata": {},
   "source": [
    "##### - 유의수준  \n",
    "alpha = 0.05"
   ]
  },
  {
   "cell_type": "code",
   "execution_count": 101,
   "id": "bfdbe9ab",
   "metadata": {},
   "outputs": [
    {
     "name": "stdout",
     "output_type": "stream",
     "text": [
      "chi-square test\n",
      "chisq : 98.274\n",
      "p:0.000\n",
      "degree pd freedom : 30\n"
     ]
    }
   ],
   "source": [
    "df_survey = pd.DataFrame({'A' : [18,1,8,7,10,9,10], 'B' : [8,2,14,5,5,9,4],\n",
    "                          'C' : [4,1,3,4,9,5,4],    'D' : [4,1,2,3,2,7,3],\n",
    "                          'E' : [3,1,3,1,1,1,1],    'F' : [3,25,8,10,2,1,7]})\n",
    "chi, pval, dof, expected = stats.chi2_contingency(df_survey)\n",
    "\n",
    "print('chi-square test')\n",
    "print('chisq : {0:0.3f}'.format(chi))\n",
    "print('p:{0:0.3f}'.format(pval))\n",
    "print('degree pd freedom : {}'.format(dof))"
   ]
  },
  {
   "cell_type": "markdown",
   "id": "17821c3f",
   "metadata": {},
   "source": [
    "##### 결과 : 귀무가설 기각  \n",
    "  \n",
    "카이제곱 검정의 결과에 따라, p-value가 0에 근사하는 매우 작은 값을 나타내므로 귀무가설을 기각하기에 충분하다고 할 수 있다. 따라서 6개의 각 제품에 따른 이미지에 대한 차이가 없다고 주장할 근거가 충분하지 않다."
   ]
  },
  {
   "cell_type": "markdown",
   "id": "3081c6e9",
   "metadata": {},
   "source": [
    "### Q18.\n",
    "#### 철강의 청정도를 높이기 위해 제강공정에서 2차 정련을 실시하는데, 강종별 2차 정련시간의 차이가 있는지와 type별로 2차정련 시간에 차이가 있는지 검정하라"
   ]
  },
  {
   "cell_type": "markdown",
   "id": "eb81f103",
   "metadata": {},
   "source": [
    "##### - 가설설정  \n",
    "1) 강종에 따라  \n",
    "H0 : 강종 별 정련시간의 평균에 차이가 없다.(m1 = m2 = m3 = m4)  \n",
    "H1 : 적어도 하나의 강종 정련시간의 차이가 있다.(not H0)  \n",
    "  \n",
    "2) type에 따라  \n",
    "H0 : type 별 정련시간의 평균에 차이가 없다.(m1 = m2)  \n",
    "H1 : type 정련시간의 차이가 있다.(not H0)"
   ]
  },
  {
   "cell_type": "markdown",
   "id": "a2407bb9",
   "metadata": {},
   "source": [
    "##### - 유의수준  \n",
    "alpha = 0.05"
   ]
  },
  {
   "cell_type": "code",
   "execution_count": 87,
   "id": "ef68d6c2",
   "metadata": {},
   "outputs": [
    {
     "data": {
      "text/html": [
       "<div>\n",
       "<style scoped>\n",
       "    .dataframe tbody tr th:only-of-type {\n",
       "        vertical-align: middle;\n",
       "    }\n",
       "\n",
       "    .dataframe tbody tr th {\n",
       "        vertical-align: top;\n",
       "    }\n",
       "\n",
       "    .dataframe thead th {\n",
       "        text-align: right;\n",
       "    }\n",
       "</style>\n",
       "<table border=\"1\" class=\"dataframe\">\n",
       "  <thead>\n",
       "    <tr style=\"text-align: right;\">\n",
       "      <th></th>\n",
       "      <th>time</th>\n",
       "      <th>charge</th>\n",
       "      <th>gangjong</th>\n",
       "      <th>type</th>\n",
       "    </tr>\n",
       "  </thead>\n",
       "  <tbody>\n",
       "    <tr>\n",
       "      <th>0</th>\n",
       "      <td>32.2</td>\n",
       "      <td>A</td>\n",
       "      <td>a</td>\n",
       "      <td>a</td>\n",
       "    </tr>\n",
       "    <tr>\n",
       "      <th>1</th>\n",
       "      <td>30.4</td>\n",
       "      <td>B</td>\n",
       "      <td>a</td>\n",
       "      <td>a</td>\n",
       "    </tr>\n",
       "    <tr>\n",
       "      <th>2</th>\n",
       "      <td>33.6</td>\n",
       "      <td>C</td>\n",
       "      <td>a</td>\n",
       "      <td>a</td>\n",
       "    </tr>\n",
       "    <tr>\n",
       "      <th>3</th>\n",
       "      <td>36.4</td>\n",
       "      <td>D</td>\n",
       "      <td>a</td>\n",
       "      <td>a</td>\n",
       "    </tr>\n",
       "    <tr>\n",
       "      <th>4</th>\n",
       "      <td>33.9</td>\n",
       "      <td>E</td>\n",
       "      <td>a</td>\n",
       "      <td>a</td>\n",
       "    </tr>\n",
       "  </tbody>\n",
       "</table>\n",
       "</div>"
      ],
      "text/plain": [
       "   time charge gangjong type\n",
       "0  32.2      A        a    a\n",
       "1  30.4      B        a    a\n",
       "2  33.6      C        a    a\n",
       "3  36.4      D        a    a\n",
       "4  33.9      E        a    a"
      ]
     },
     "execution_count": 87,
     "metadata": {},
     "output_type": "execute_result"
    }
   ],
   "source": [
    "df_anova = pd.read_csv(\"../실습파일/BigData분석기초/ANOVA.csv\")\n",
    "df_anova.head()"
   ]
  },
  {
   "cell_type": "markdown",
   "id": "d4f21dac",
   "metadata": {},
   "source": [
    "##### - gangjong, type의 unique value 확인"
   ]
  },
  {
   "cell_type": "code",
   "execution_count": 88,
   "id": "8ab40756",
   "metadata": {},
   "outputs": [
    {
     "name": "stdout",
     "output_type": "stream",
     "text": [
      "['a' 'b' 'c' 'd']\n",
      "['a' 'b']\n"
     ]
    }
   ],
   "source": [
    "print(df_anova['gangjong'].unique())\n",
    "print(df_anova['type'].unique())"
   ]
  },
  {
   "cell_type": "code",
   "execution_count": 89,
   "id": "d2d4a850",
   "metadata": {},
   "outputs": [],
   "source": [
    "df_gangjong_a = df_anova[df_anova['gangjong'] == 'a']['time']\n",
    "df_gangjong_b = df_anova[df_anova['gangjong'] == 'b']['time']\n",
    "df_gangjong_c = df_anova[df_anova['gangjong'] == 'c']['time']\n",
    "df_gangjong_d = df_anova[df_anova['gangjong'] == 'd']['time']\n",
    "df_type_a = df_anova[df_anova['type'] == 'a']['time']\n",
    "df_type_b = df_anova[df_anova['type'] == 'b']['time']"
   ]
  },
  {
   "cell_type": "markdown",
   "id": "eeaac65f",
   "metadata": {},
   "source": [
    "##### - 강종별, type별 집단의  Shapiro-Wlik test  :  강종 4집단 , type 2집단 모두 정규성 만족"
   ]
  },
  {
   "cell_type": "code",
   "execution_count": 90,
   "id": "919f2087",
   "metadata": {},
   "outputs": [],
   "source": [
    "gangjong_list = [df_gangjong_a, df_gangjong_b, df_gangjong_c, df_gangjong_d]\n",
    "type_list = [df_type_a, df_type_b]"
   ]
  },
  {
   "cell_type": "code",
   "execution_count": 95,
   "id": "1219cd5c",
   "metadata": {},
   "outputs": [
    {
     "name": "stdout",
     "output_type": "stream",
     "text": [
      "강종별 집단의 Shapiro-wilk test\n",
      "\n",
      "gangjong a 의 정규성 검정\n",
      "statistic=0.988, p-value=0.984\n",
      "\n",
      "gangjong b 의 정규성 검정\n",
      "statistic=0.977, p-value=0.936\n",
      "\n",
      "gangjong c 의 정규성 검정\n",
      "statistic=0.893, p-value=0.334\n",
      "\n",
      "gangjong d 의 정규성 검정\n",
      "statistic=0.971, p-value=0.902\n",
      "\n",
      "**********************************************************************\n",
      "type별 집단의 Shapiro-wilk test\n",
      "\n",
      "type a 의 정규성 검정\n",
      "statistic=0.982, p-value=0.991\n",
      "\n",
      "type b 의 정규성 검정\n",
      "statistic=0.91, p-value=0.212\n",
      "\n"
     ]
    }
   ],
   "source": [
    "print('강종별 집단의 Shapiro-wilk test')\n",
    "print()\n",
    "for gangjong_df, gangjong_type in zip(gangjong_list, ['a','b','c','d']):\n",
    "    statistic, p = stats.shapiro(gangjong_df)\n",
    "    print(\"gangjong\", gangjong_type, \"의 정규성 검정\")\n",
    "    print(\"statistic={}, p-value={}\".format(round(statistic, 3), round(p, 3)))\n",
    "    print()\n",
    "print('**********************************************************************')\n",
    "print('type별 집단의 Shapiro-wilk test')\n",
    "print()\n",
    "for type_df, type_type in zip(type_list, ['a','b']):\n",
    "    statistic, p = stats.shapiro(type_df)\n",
    "    print(\"type\", type_type, \"의 정규성 검정\")\n",
    "    print(\"statistic={}, p-value={}\".format(round(statistic, 3), round(p, 3)))\n",
    "    print()"
   ]
  },
  {
   "cell_type": "markdown",
   "id": "a0d8953a",
   "metadata": {},
   "source": [
    "##### - 강종별 , type별 집단의 등분산검정 결과 : 강종 집단, type 집단 각각 등분산으로 가정"
   ]
  },
  {
   "cell_type": "code",
   "execution_count": 92,
   "id": "9ecbb157",
   "metadata": {
    "scrolled": true
   },
   "outputs": [
    {
     "data": {
      "text/plain": [
       "BartlettResult(statistic=1.8729084232387967, pvalue=0.5991991808067023)"
      ]
     },
     "execution_count": 92,
     "metadata": {},
     "output_type": "execute_result"
    }
   ],
   "source": [
    "stats.bartlett(df_gangjong_a, df_gangjong_b, df_gangjong_c, df_gangjong_d)"
   ]
  },
  {
   "cell_type": "code",
   "execution_count": 96,
   "id": "7d91ee54",
   "metadata": {},
   "outputs": [
    {
     "data": {
      "text/plain": [
       "BartlettResult(statistic=0.9529700642151103, pvalue=0.3289644435379086)"
      ]
     },
     "execution_count": 96,
     "metadata": {},
     "output_type": "execute_result"
    }
   ],
   "source": [
    "stats.bartlett(df_type_a, df_type_b)"
   ]
  },
  {
   "cell_type": "markdown",
   "id": "232bbfaa",
   "metadata": {},
   "source": [
    "##### - one way anova"
   ]
  },
  {
   "cell_type": "code",
   "execution_count": 93,
   "id": "3d02f0dd",
   "metadata": {},
   "outputs": [
    {
     "name": "stdout",
     "output_type": "stream",
     "text": [
      "One-way ANOVA\n",
      "F 통계량 : 4.172\n",
      "p-value : 0.019\n"
     ]
    }
   ],
   "source": [
    "f_result = stats.f_oneway(df_gangjong_a, df_gangjong_b, df_gangjong_c, df_gangjong_d)\n",
    "f, p = f_result.statistic.round(3), f_result.pvalue.round(3)\n",
    "print(\"One-way ANOVA\")\n",
    "print(\"F 통계량 : {}\".format(f))\n",
    "print(\"p-value : {}\".format(p))"
   ]
  },
  {
   "cell_type": "code",
   "execution_count": 98,
   "id": "714f9826",
   "metadata": {},
   "outputs": [
    {
     "name": "stdout",
     "output_type": "stream",
     "text": [
      "One-way ANOVA\n",
      "F 통계량 : 9.654\n",
      "p-value : 0.005\n"
     ]
    }
   ],
   "source": [
    "f_result = stats.f_oneway(df_type_a, df_type_b)\n",
    "f, p = f_result.statistic.round(3), f_result.pvalue.round(3)\n",
    "print(\"One-way ANOVA\")\n",
    "print(\"F 통계량 : {}\".format(f))\n",
    "print(\"p-value : {}\".format(p))"
   ]
  },
  {
   "cell_type": "markdown",
   "id": "c57856ab",
   "metadata": {},
   "source": [
    "##### 결과: 두 가설 모두 귀무가설 기각\n",
    "\n",
    "강종, type에 따른 각각의 2차 정련시간의 분포들이 정규성을 만족함을 확인할 수 있었다. 뿐만아니라 강종에 따른 4개의 집단 그리고 type에 따른 2개의 집단이 등분산으로 가정되어, 각각에 대한 anova 분석을 진행하였다.  \n",
    "우선 강종에 따른 2차 정련시간의 집단의 평균에 차이는 적어도 한 집단은 있는 것으로 나타났으며, 다음으로 type에 따른 2차 정련시간의 집단에도 마찬가지로 적어도 한 집단은 차이가 있는 것으로 나타났다.  \n",
    "추가적으로 type에 대한 2차 정련시간의 집단은 2개로 구성되어 anova분석 뿐아니라, 2-sample t-test도 가능함을 알 수 있다."
   ]
  },
  {
   "cell_type": "markdown",
   "id": "791a984c",
   "metadata": {},
   "source": [
    "### Q19. \n",
    "#### 초코칩의 강도와 재료 반죽 온도 간에 관계를 분석하기 위한 상관분석을 하세요."
   ]
  },
  {
   "cell_type": "markdown",
   "id": "b9d475a9",
   "metadata": {},
   "source": [
    "##### - 가설설정  \n",
    "H0 : 초코칩의 강도와 재료 반죽 온도 간에 상관관계가 없다.(r = 0)  \n",
    "H1 : 초코칩의 강도와 재료 반죽 온도 간에 상관관계가 있다.(r != 0)"
   ]
  },
  {
   "cell_type": "code",
   "execution_count": 99,
   "id": "af012179",
   "metadata": {},
   "outputs": [],
   "source": [
    "strength = [37.6, 38.6, 37.2, 36.4, 38.6, 39, 37.2, 36.1, 35.9, 37.1,\n",
    "            36.9, 37.5, 36.3, 38.1, 39, 36.9, 36.8, 37.6, 33, 33.5]\n",
    "temperature = [14,15,14,16,17,14,17,16,15,16,14,16,18,13,15,17,14,16,20,21]"
   ]
  },
  {
   "cell_type": "markdown",
   "id": "22e2bd9e",
   "metadata": {},
   "source": [
    "##### - Correlation Analysis"
   ]
  },
  {
   "cell_type": "code",
   "execution_count": 100,
   "id": "2baf6a2f",
   "metadata": {},
   "outputs": [
    {
     "name": "stdout",
     "output_type": "stream",
     "text": [
      "Correlation Analysis\n",
      "corr:-0.723\n",
      "p-value:0.000\n"
     ]
    }
   ],
   "source": [
    "corr, pval = stats.pearsonr(strength, temperature)\n",
    "print('Correlation Analysis')\n",
    "print(\"corr:{0:0.3f}\".format(corr))\n",
    "print(\"p-value:{0:0.3f}\".format(pval))"
   ]
  },
  {
   "cell_type": "markdown",
   "id": "647c4aaa",
   "metadata": {},
   "source": [
    "##### 결과 : 귀무가설 기각  \n",
    "  \n",
    "상관계수 검정의 결과에 따라, p-value가 0에 근사하는 매우 작은 값을 나타내므로 귀무가설을 기각하기에 충분하다고 할 수 있다. 따라서 초코칩의 강도와 재료 반죽 온도 간에 상관관계가 있다고 할 근거가 충분하여, 두 변수 사이에 -0.723의 강한 음의 상관관계를 갖는다고 할 수 있다."
   ]
  }
 ],
 "metadata": {
  "kernelspec": {
   "display_name": "Python 3 (ipykernel)",
   "language": "python",
   "name": "python3"
  },
  "language_info": {
   "codemirror_mode": {
    "name": "ipython",
    "version": 3
   },
   "file_extension": ".py",
   "mimetype": "text/x-python",
   "name": "python",
   "nbconvert_exporter": "python",
   "pygments_lexer": "ipython3",
   "version": "3.9.12"
  }
 },
 "nbformat": 4,
 "nbformat_minor": 5
}
