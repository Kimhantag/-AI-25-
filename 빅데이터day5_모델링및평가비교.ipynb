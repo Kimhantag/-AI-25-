{
 "cells": [
  {
   "cell_type": "markdown",
   "id": "8875cfba",
   "metadata": {},
   "source": [
    "## B2 김한탁 당뇨병 데이터 분석 및 결과 해석"
   ]
  },
  {
   "cell_type": "markdown",
   "id": "7a5e2c1c",
   "metadata": {},
   "source": [
    "## 1. 라이브러리 "
   ]
  },
  {
   "cell_type": "code",
   "execution_count": 1,
   "id": "5ec8519c",
   "metadata": {},
   "outputs": [],
   "source": [
    "import pandas as pd\n",
    "# 학습용/평가용 데이터 분리:train, test\n",
    "from sklearn.model_selection import train_test_split\n",
    "# 선형회귀모형\n",
    "import statsmodels.formula.api as smf\n",
    "from statsmodels.formula.api import ols\n",
    "from sklearn.linear_model import LinearRegression\n",
    "from sklearn.linear_model import Ridge, Lasso, ElasticNet\n",
    "# 평가함수\n",
    "from sklearn.metrics import r2_score\n",
    "# Decision Tree 모형\n",
    "from sklearn.tree import DecisionTreeRegressor\n",
    "# 예측/회귀 Random Forest\n",
    "from sklearn.ensemble import RandomForestRegressor\n",
    "# graphviz : 나무 구조 시각화 \n",
    "from sklearn.tree import export_graphviz\n",
    "# 예측/회귀 Gradient Boosting\n",
    "from sklearn.ensemble import GradientBoostingRegressor\n",
    "import graphviz\n",
    "import matplotlib.pyplot as plt\n",
    "# 평가 함수\n",
    "from sklearn.metrics import mean_squared_error\n",
    "from sklearn.metrics import mean_absolute_error\n",
    "from sklearn.metrics import mean_absolute_percentage_error"
   ]
  },
  {
   "cell_type": "code",
   "execution_count": 2,
   "id": "9b23059a",
   "metadata": {},
   "outputs": [],
   "source": [
    "import matplotlib\n",
    "\n",
    "# 맑은 고딕 적용\n",
    "matplotlib.rc(\"font\", family = \"NanumGothic\")\n",
    "# 음수 표시\n",
    "matplotlib.rc('axes', unicode_minus=False)\n",
    "# 실행결과 경고메시지 출력 제외\n",
    "import warnings\n",
    "\n",
    "warnings.filterwarnings('ignore')\n",
    "\n",
    "# 작업 디렉터리를 설정\n",
    "import os\n",
    "os.chdir('/home/piai/실습파일/BigData분석')"
   ]
  },
  {
   "cell_type": "markdown",
   "id": "5300bddd",
   "metadata": {},
   "source": [
    "## 2. DIABETES 데이터 설명 및 전처리"
   ]
  },
  {
   "cell_type": "markdown",
   "id": "e50bcdf0",
   "metadata": {},
   "source": [
    "### 2.1 데이터 변수 설명"
   ]
  },
  {
   "cell_type": "markdown",
   "id": "996771e0",
   "metadata": {},
   "source": [
    "- Y (당뇨 발병 확률점수): 당뇨병 발병 확률을 나타내는 지표이다.  \n",
    "  \n",
    "  \n",
    "- AGE (나이): 당뇨병 발병 위험이 나이와 함께 증가하는 경향이 있다. 나이가 많을수록 당뇨병 발병 위험이 높아지며, 이는 신체의 대사 활동이 감소하고 인슐린 저항성이 증가하기 때문이다.\n",
    "\n",
    "\n",
    "- GENDER (성별): 성별은 당뇨병 발병 위험에 영향을 미칠 수 있다. 여성은 일반적으로 남성보다 당뇨병에 더 취약한 경향이 있습니다. 이는 여성의 호르몬 수준과 대사 활동의 차이 때문이다.\n",
    "\n",
    "\n",
    "- BMI (체질량지수): 체질량지수는 체중을 신장의 제곱으로 나눈 값으로, 비만의 정도를 평가하는 지표다. BMI가 높을수록 당뇨병 발병 위험이 높아지는 경향이 있습니다. 고체지방량은 인슐린 저항성을 증가시키고 당뇨병 발병을 촉진할 수 있다.\n",
    "\n",
    "\n",
    "- BP (평균 혈압): 고혈압은 당뇨병 발병 위험 요인 중 하나다. 고혈압은 혈관을 손상시켜 혈압 조절 메커니즘을 악화시키고 당뇨병 합병증의 발생 위험을 높일 수 있다.\n",
    "\n",
    "\n",
    "- CHOLESTEROL (혈중 총 콜레스테롤): 고 콜레스테롤 수치는 당뇨병 발병 위험을 증가시킬 수 있다. 고 콜레스테롤 수치는 혈관 벽에 콜레스테롤이 침착되어 혈관을 막히게 하고 심혈관 질환의 발병 위험을 높일 수 있다.\n",
    "\n",
    "\n",
    "- LDL (저밀도 지질단백질): LDL은 혈액 내의 \"나쁜\" 콜레스테롤로 알려져 있다. LDL 수치가 높을수록 동맥 경화와 혈관 질환의 발생 위험이 증가하며, 이는 당뇨병 환자에게 더 큰 위험을 초래할 수 있다.\n",
    "\n",
    "\n",
    "- HDL (고밀도 지질단백질): HDL은 혈액 내의 \"좋은\" 콜레스테롤로 알려져 있다. HDL 수치가 높을수록 혈관 질환의 발생 위험이 낮아지는 경향이 있으며, 이는 당뇨병 환자에게도 유리한 영향을 미칠 수 있다.\n",
    "\n",
    "\n",
    "- TCH (총 콜레스테롤 수치): 총 콜레스테롤 수치는 혈액 내의 모든 콜레스테롤 양을 나타낸다. 고 총 콜레스테롤 수치는 당뇨병 발병 위험을 증가시킬 수 있다.\n",
    "\n",
    "\n",
    "- LTG (라모트리진): 라모트리진은 당뇨병 치료에 사용되는 약물 중 하나로, 혈당 조절을 개선하여 당뇨병 합병증의 발생 위험을 감소시킬 수 있다.\n",
    "\n",
    "\n",
    "- GLUCOSE (혈당 수치): 혈당 수치는 혈액 내의 포도당(당) 농도를 나타낸다. 고 혈당 수치는 인슐린 저항성을 촉진하고 당뇨병 발병 위험을 증가시킬 수 있다."
   ]
  },
  {
   "cell_type": "code",
   "execution_count": 3,
   "id": "34c12ca1",
   "metadata": {},
   "outputs": [
    {
     "data": {
      "text/html": [
       "<div>\n",
       "<style scoped>\n",
       "    .dataframe tbody tr th:only-of-type {\n",
       "        vertical-align: middle;\n",
       "    }\n",
       "\n",
       "    .dataframe tbody tr th {\n",
       "        vertical-align: top;\n",
       "    }\n",
       "\n",
       "    .dataframe thead th {\n",
       "        text-align: right;\n",
       "    }\n",
       "</style>\n",
       "<table border=\"1\" class=\"dataframe\">\n",
       "  <thead>\n",
       "    <tr style=\"text-align: right;\">\n",
       "      <th></th>\n",
       "      <th>Y</th>\n",
       "      <th>AGE</th>\n",
       "      <th>GENDER</th>\n",
       "      <th>BMI</th>\n",
       "      <th>BP</th>\n",
       "      <th>CHOLESTEROL</th>\n",
       "      <th>LDL</th>\n",
       "      <th>HDL</th>\n",
       "      <th>TCH</th>\n",
       "      <th>LTG</th>\n",
       "      <th>GLUCOSE</th>\n",
       "    </tr>\n",
       "  </thead>\n",
       "  <tbody>\n",
       "    <tr>\n",
       "      <th>0</th>\n",
       "      <td>151</td>\n",
       "      <td>59</td>\n",
       "      <td>2</td>\n",
       "      <td>32.1</td>\n",
       "      <td>101.0</td>\n",
       "      <td>157</td>\n",
       "      <td>93.2</td>\n",
       "      <td>38.0</td>\n",
       "      <td>4.0</td>\n",
       "      <td>4.8598</td>\n",
       "      <td>87</td>\n",
       "    </tr>\n",
       "    <tr>\n",
       "      <th>1</th>\n",
       "      <td>75</td>\n",
       "      <td>48</td>\n",
       "      <td>1</td>\n",
       "      <td>21.6</td>\n",
       "      <td>87.0</td>\n",
       "      <td>183</td>\n",
       "      <td>103.2</td>\n",
       "      <td>70.0</td>\n",
       "      <td>3.0</td>\n",
       "      <td>3.8918</td>\n",
       "      <td>69</td>\n",
       "    </tr>\n",
       "    <tr>\n",
       "      <th>2</th>\n",
       "      <td>141</td>\n",
       "      <td>72</td>\n",
       "      <td>2</td>\n",
       "      <td>30.5</td>\n",
       "      <td>93.0</td>\n",
       "      <td>156</td>\n",
       "      <td>93.6</td>\n",
       "      <td>41.0</td>\n",
       "      <td>4.0</td>\n",
       "      <td>4.6728</td>\n",
       "      <td>85</td>\n",
       "    </tr>\n",
       "    <tr>\n",
       "      <th>3</th>\n",
       "      <td>206</td>\n",
       "      <td>24</td>\n",
       "      <td>1</td>\n",
       "      <td>25.3</td>\n",
       "      <td>84.0</td>\n",
       "      <td>198</td>\n",
       "      <td>131.4</td>\n",
       "      <td>40.0</td>\n",
       "      <td>5.0</td>\n",
       "      <td>4.8903</td>\n",
       "      <td>89</td>\n",
       "    </tr>\n",
       "    <tr>\n",
       "      <th>4</th>\n",
       "      <td>135</td>\n",
       "      <td>50</td>\n",
       "      <td>1</td>\n",
       "      <td>23.0</td>\n",
       "      <td>101.0</td>\n",
       "      <td>192</td>\n",
       "      <td>125.4</td>\n",
       "      <td>52.0</td>\n",
       "      <td>4.0</td>\n",
       "      <td>4.2905</td>\n",
       "      <td>80</td>\n",
       "    </tr>\n",
       "  </tbody>\n",
       "</table>\n",
       "</div>"
      ],
      "text/plain": [
       "     Y  AGE  GENDER   BMI     BP  CHOLESTEROL    LDL   HDL  TCH     LTG  \\\n",
       "0  151   59       2  32.1  101.0          157   93.2  38.0  4.0  4.8598   \n",
       "1   75   48       1  21.6   87.0          183  103.2  70.0  3.0  3.8918   \n",
       "2  141   72       2  30.5   93.0          156   93.6  41.0  4.0  4.6728   \n",
       "3  206   24       1  25.3   84.0          198  131.4  40.0  5.0  4.8903   \n",
       "4  135   50       1  23.0  101.0          192  125.4  52.0  4.0  4.2905   \n",
       "\n",
       "   GLUCOSE  \n",
       "0       87  \n",
       "1       69  \n",
       "2       85  \n",
       "3       89  \n",
       "4       80  "
      ]
     },
     "execution_count": 3,
     "metadata": {},
     "output_type": "execute_result"
    }
   ],
   "source": [
    "df = pd.read_csv(\"DIABETES.csv\", encoding = 'euc-kr')\n",
    "df.head()"
   ]
  },
  {
   "cell_type": "markdown",
   "id": "2f392f01",
   "metadata": {},
   "source": [
    "### 2.2 GENDER 변수 One-Hot encoding\n",
    "* 회귀문제에서 범주형 변수의 효과를 알아보기 위해 GENDER 변수에 대한 One - Hot encoding을 실시하였다.  \n",
    "\n",
    "* One-Hot encoding은 통계적 모델(선형회귀모형)에서는 숫자로 표기된 범주형 변수의 배수 관계를 끊어줌으로써 의미가 있지만, 통계 이론이 적용되지 않는 비선형 모델인 (의사결정나무, 랜덤포레스트 등)은 크게 영향이 없다."
   ]
  },
  {
   "cell_type": "code",
   "execution_count": 4,
   "id": "0a95405d",
   "metadata": {},
   "outputs": [],
   "source": [
    "df_dummy = pd.get_dummies(df['GENDER'], drop_first = True)\n",
    "df = pd.concat([df, df_dummy],axis=1)"
   ]
  },
  {
   "cell_type": "code",
   "execution_count": 5,
   "id": "de345c02",
   "metadata": {},
   "outputs": [],
   "source": [
    "df.drop(columns='GENDER', inplace = True)\n",
    "df.rename(columns = {2:'GENDER'}, inplace = True)"
   ]
  },
  {
   "cell_type": "code",
   "execution_count": 6,
   "id": "d4fb7412",
   "metadata": {
    "scrolled": true
   },
   "outputs": [
    {
     "data": {
      "text/html": [
       "<div>\n",
       "<style scoped>\n",
       "    .dataframe tbody tr th:only-of-type {\n",
       "        vertical-align: middle;\n",
       "    }\n",
       "\n",
       "    .dataframe tbody tr th {\n",
       "        vertical-align: top;\n",
       "    }\n",
       "\n",
       "    .dataframe thead th {\n",
       "        text-align: right;\n",
       "    }\n",
       "</style>\n",
       "<table border=\"1\" class=\"dataframe\">\n",
       "  <thead>\n",
       "    <tr style=\"text-align: right;\">\n",
       "      <th></th>\n",
       "      <th>Y</th>\n",
       "      <th>AGE</th>\n",
       "      <th>BMI</th>\n",
       "      <th>BP</th>\n",
       "      <th>CHOLESTEROL</th>\n",
       "      <th>LDL</th>\n",
       "      <th>HDL</th>\n",
       "      <th>TCH</th>\n",
       "      <th>LTG</th>\n",
       "      <th>GLUCOSE</th>\n",
       "      <th>GENDER</th>\n",
       "    </tr>\n",
       "  </thead>\n",
       "  <tbody>\n",
       "    <tr>\n",
       "      <th>0</th>\n",
       "      <td>151</td>\n",
       "      <td>59</td>\n",
       "      <td>32.1</td>\n",
       "      <td>101.0</td>\n",
       "      <td>157</td>\n",
       "      <td>93.2</td>\n",
       "      <td>38.0</td>\n",
       "      <td>4.0</td>\n",
       "      <td>4.8598</td>\n",
       "      <td>87</td>\n",
       "      <td>1</td>\n",
       "    </tr>\n",
       "    <tr>\n",
       "      <th>1</th>\n",
       "      <td>75</td>\n",
       "      <td>48</td>\n",
       "      <td>21.6</td>\n",
       "      <td>87.0</td>\n",
       "      <td>183</td>\n",
       "      <td>103.2</td>\n",
       "      <td>70.0</td>\n",
       "      <td>3.0</td>\n",
       "      <td>3.8918</td>\n",
       "      <td>69</td>\n",
       "      <td>0</td>\n",
       "    </tr>\n",
       "    <tr>\n",
       "      <th>2</th>\n",
       "      <td>141</td>\n",
       "      <td>72</td>\n",
       "      <td>30.5</td>\n",
       "      <td>93.0</td>\n",
       "      <td>156</td>\n",
       "      <td>93.6</td>\n",
       "      <td>41.0</td>\n",
       "      <td>4.0</td>\n",
       "      <td>4.6728</td>\n",
       "      <td>85</td>\n",
       "      <td>1</td>\n",
       "    </tr>\n",
       "    <tr>\n",
       "      <th>3</th>\n",
       "      <td>206</td>\n",
       "      <td>24</td>\n",
       "      <td>25.3</td>\n",
       "      <td>84.0</td>\n",
       "      <td>198</td>\n",
       "      <td>131.4</td>\n",
       "      <td>40.0</td>\n",
       "      <td>5.0</td>\n",
       "      <td>4.8903</td>\n",
       "      <td>89</td>\n",
       "      <td>0</td>\n",
       "    </tr>\n",
       "    <tr>\n",
       "      <th>4</th>\n",
       "      <td>135</td>\n",
       "      <td>50</td>\n",
       "      <td>23.0</td>\n",
       "      <td>101.0</td>\n",
       "      <td>192</td>\n",
       "      <td>125.4</td>\n",
       "      <td>52.0</td>\n",
       "      <td>4.0</td>\n",
       "      <td>4.2905</td>\n",
       "      <td>80</td>\n",
       "      <td>0</td>\n",
       "    </tr>\n",
       "  </tbody>\n",
       "</table>\n",
       "</div>"
      ],
      "text/plain": [
       "     Y  AGE   BMI     BP  CHOLESTEROL    LDL   HDL  TCH     LTG  GLUCOSE  \\\n",
       "0  151   59  32.1  101.0          157   93.2  38.0  4.0  4.8598       87   \n",
       "1   75   48  21.6   87.0          183  103.2  70.0  3.0  3.8918       69   \n",
       "2  141   72  30.5   93.0          156   93.6  41.0  4.0  4.6728       85   \n",
       "3  206   24  25.3   84.0          198  131.4  40.0  5.0  4.8903       89   \n",
       "4  135   50  23.0  101.0          192  125.4  52.0  4.0  4.2905       80   \n",
       "\n",
       "   GENDER  \n",
       "0       1  \n",
       "1       0  \n",
       "2       1  \n",
       "3       0  \n",
       "4       0  "
      ]
     },
     "execution_count": 6,
     "metadata": {},
     "output_type": "execute_result"
    }
   ],
   "source": [
    "df.head()"
   ]
  },
  {
   "cell_type": "markdown",
   "id": "8ae6f192",
   "metadata": {},
   "source": [
    "### 2.3 모델에 따른 training data / test data split"
   ]
  },
  {
   "cell_type": "markdown",
   "id": "95af02d2",
   "metadata": {},
   "source": [
    "##### -다중선형회귀모델의 경우  \n",
    ": 다중회귀모델은 모델링 과정에서 종속변수('Y')와 독립변수('Y'를 제외한 모든 변수들)을 데이터셋에서 따로 분리하지 않는다."
   ]
  },
  {
   "cell_type": "code",
   "execution_count": 7,
   "id": "8440932f",
   "metadata": {},
   "outputs": [],
   "source": [
    "df_train, df_test = train_test_split(df,test_size = 0.2, random_state = 20240305) "
   ]
  },
  {
   "cell_type": "markdown",
   "id": "cb78c8e7",
   "metadata": {},
   "source": [
    "##### - Ridge, Lasso, Elastic-net, Decision Tree, Random Forest, Gradient Boosting 모델의 경우\n",
    ": 위의 모델들의 경우, 모델링 과정에서 종속변수와 독립변수를 각각의 파라미터로 사용하기 때문에, 데이터셋에서 따로 분리하였다."
   ]
  },
  {
   "cell_type": "code",
   "execution_count": 8,
   "id": "2fcfcc2e",
   "metadata": {},
   "outputs": [],
   "source": [
    "df_y = df[\"Y\"]\n",
    "df_x = df.drop(\"Y\", axis = 1)"
   ]
  },
  {
   "cell_type": "code",
   "execution_count": 9,
   "id": "074e3de6",
   "metadata": {},
   "outputs": [
    {
     "name": "stdout",
     "output_type": "stream",
     "text": [
      "train data X size : (353, 10)\n",
      "train data Y size : (353,)\n",
      "test data X size : (89, 10)\n",
      "test data Y size : (89,)\n"
     ]
    }
   ],
   "source": [
    "df_train_x, df_test_x, df_train_y, df_test_y = train_test_split(df_x, df_y,\n",
    "                                                                test_size = 0.2, random_state = 20240305) \n",
    "print(\"train data X size : {}\".format(df_train_x.shape))\n",
    "print(\"train data Y size : {}\".format(df_train_y.shape))\n",
    "print(\"test data X size : {}\".format(df_test_x.shape))\n",
    "print(\"test data Y size : {}\".format(df_test_y.shape))"
   ]
  },
  {
   "cell_type": "markdown",
   "id": "04fe5c2c",
   "metadata": {},
   "source": [
    "##### - 분리된 다중선형회귀 모형의 데이터 셋과 그외 모델의 데이터 셋 비교  \n",
    ": 같은 random_state를 이용하여 분리하였기 때문에, 다중선형회귀 모형에서 사용하는 데이터 셋인 df_train은 그 외의 모델에서 사용하는 데이터셋인 df_train_x, df_train_y의 결합된 것과 같은 형태임을 확인할 수 있었다."
   ]
  },
  {
   "cell_type": "code",
   "execution_count": 10,
   "id": "046d93d6",
   "metadata": {},
   "outputs": [
    {
     "data": {
      "text/html": [
       "<div>\n",
       "<style scoped>\n",
       "    .dataframe tbody tr th:only-of-type {\n",
       "        vertical-align: middle;\n",
       "    }\n",
       "\n",
       "    .dataframe tbody tr th {\n",
       "        vertical-align: top;\n",
       "    }\n",
       "\n",
       "    .dataframe thead th {\n",
       "        text-align: right;\n",
       "    }\n",
       "</style>\n",
       "<table border=\"1\" class=\"dataframe\">\n",
       "  <thead>\n",
       "    <tr style=\"text-align: right;\">\n",
       "      <th></th>\n",
       "      <th>Y</th>\n",
       "      <th>AGE</th>\n",
       "      <th>BMI</th>\n",
       "      <th>BP</th>\n",
       "      <th>CHOLESTEROL</th>\n",
       "      <th>LDL</th>\n",
       "      <th>HDL</th>\n",
       "      <th>TCH</th>\n",
       "      <th>LTG</th>\n",
       "      <th>GLUCOSE</th>\n",
       "      <th>GENDER</th>\n",
       "    </tr>\n",
       "  </thead>\n",
       "  <tbody>\n",
       "    <tr>\n",
       "      <th>135</th>\n",
       "      <td>272</td>\n",
       "      <td>47</td>\n",
       "      <td>31.6</td>\n",
       "      <td>84.0</td>\n",
       "      <td>154</td>\n",
       "      <td>88.0</td>\n",
       "      <td>30.0</td>\n",
       "      <td>5.1</td>\n",
       "      <td>5.1985</td>\n",
       "      <td>105</td>\n",
       "      <td>0</td>\n",
       "    </tr>\n",
       "    <tr>\n",
       "      <th>58</th>\n",
       "      <td>170</td>\n",
       "      <td>60</td>\n",
       "      <td>20.4</td>\n",
       "      <td>105.0</td>\n",
       "      <td>198</td>\n",
       "      <td>78.4</td>\n",
       "      <td>99.0</td>\n",
       "      <td>2.0</td>\n",
       "      <td>4.6347</td>\n",
       "      <td>79</td>\n",
       "      <td>0</td>\n",
       "    </tr>\n",
       "    <tr>\n",
       "      <th>348</th>\n",
       "      <td>148</td>\n",
       "      <td>57</td>\n",
       "      <td>24.5</td>\n",
       "      <td>93.0</td>\n",
       "      <td>186</td>\n",
       "      <td>96.6</td>\n",
       "      <td>71.0</td>\n",
       "      <td>3.0</td>\n",
       "      <td>4.5218</td>\n",
       "      <td>91</td>\n",
       "      <td>0</td>\n",
       "    </tr>\n",
       "    <tr>\n",
       "      <th>75</th>\n",
       "      <td>42</td>\n",
       "      <td>46</td>\n",
       "      <td>23.5</td>\n",
       "      <td>87.0</td>\n",
       "      <td>181</td>\n",
       "      <td>114.8</td>\n",
       "      <td>44.0</td>\n",
       "      <td>4.0</td>\n",
       "      <td>4.7095</td>\n",
       "      <td>98</td>\n",
       "      <td>1</td>\n",
       "    </tr>\n",
       "    <tr>\n",
       "      <th>79</th>\n",
       "      <td>113</td>\n",
       "      <td>20</td>\n",
       "      <td>22.9</td>\n",
       "      <td>87.0</td>\n",
       "      <td>191</td>\n",
       "      <td>128.2</td>\n",
       "      <td>53.0</td>\n",
       "      <td>4.0</td>\n",
       "      <td>3.8918</td>\n",
       "      <td>85</td>\n",
       "      <td>0</td>\n",
       "    </tr>\n",
       "  </tbody>\n",
       "</table>\n",
       "</div>"
      ],
      "text/plain": [
       "       Y  AGE   BMI     BP  CHOLESTEROL    LDL   HDL  TCH     LTG  GLUCOSE  \\\n",
       "135  272   47  31.6   84.0          154   88.0  30.0  5.1  5.1985      105   \n",
       "58   170   60  20.4  105.0          198   78.4  99.0  2.0  4.6347       79   \n",
       "348  148   57  24.5   93.0          186   96.6  71.0  3.0  4.5218       91   \n",
       "75    42   46  23.5   87.0          181  114.8  44.0  4.0  4.7095       98   \n",
       "79   113   20  22.9   87.0          191  128.2  53.0  4.0  3.8918       85   \n",
       "\n",
       "     GENDER  \n",
       "135       0  \n",
       "58        0  \n",
       "348       0  \n",
       "75        1  \n",
       "79        0  "
      ]
     },
     "execution_count": 10,
     "metadata": {},
     "output_type": "execute_result"
    }
   ],
   "source": [
    "df_train.head()"
   ]
  },
  {
   "cell_type": "code",
   "execution_count": 11,
   "id": "c505cc6f",
   "metadata": {
    "scrolled": false
   },
   "outputs": [
    {
     "data": {
      "text/html": [
       "<div>\n",
       "<style scoped>\n",
       "    .dataframe tbody tr th:only-of-type {\n",
       "        vertical-align: middle;\n",
       "    }\n",
       "\n",
       "    .dataframe tbody tr th {\n",
       "        vertical-align: top;\n",
       "    }\n",
       "\n",
       "    .dataframe thead th {\n",
       "        text-align: right;\n",
       "    }\n",
       "</style>\n",
       "<table border=\"1\" class=\"dataframe\">\n",
       "  <thead>\n",
       "    <tr style=\"text-align: right;\">\n",
       "      <th></th>\n",
       "      <th>AGE</th>\n",
       "      <th>BMI</th>\n",
       "      <th>BP</th>\n",
       "      <th>CHOLESTEROL</th>\n",
       "      <th>LDL</th>\n",
       "      <th>HDL</th>\n",
       "      <th>TCH</th>\n",
       "      <th>LTG</th>\n",
       "      <th>GLUCOSE</th>\n",
       "      <th>GENDER</th>\n",
       "    </tr>\n",
       "  </thead>\n",
       "  <tbody>\n",
       "    <tr>\n",
       "      <th>135</th>\n",
       "      <td>47</td>\n",
       "      <td>31.6</td>\n",
       "      <td>84.0</td>\n",
       "      <td>154</td>\n",
       "      <td>88.0</td>\n",
       "      <td>30.0</td>\n",
       "      <td>5.1</td>\n",
       "      <td>5.1985</td>\n",
       "      <td>105</td>\n",
       "      <td>0</td>\n",
       "    </tr>\n",
       "    <tr>\n",
       "      <th>58</th>\n",
       "      <td>60</td>\n",
       "      <td>20.4</td>\n",
       "      <td>105.0</td>\n",
       "      <td>198</td>\n",
       "      <td>78.4</td>\n",
       "      <td>99.0</td>\n",
       "      <td>2.0</td>\n",
       "      <td>4.6347</td>\n",
       "      <td>79</td>\n",
       "      <td>0</td>\n",
       "    </tr>\n",
       "    <tr>\n",
       "      <th>348</th>\n",
       "      <td>57</td>\n",
       "      <td>24.5</td>\n",
       "      <td>93.0</td>\n",
       "      <td>186</td>\n",
       "      <td>96.6</td>\n",
       "      <td>71.0</td>\n",
       "      <td>3.0</td>\n",
       "      <td>4.5218</td>\n",
       "      <td>91</td>\n",
       "      <td>0</td>\n",
       "    </tr>\n",
       "    <tr>\n",
       "      <th>75</th>\n",
       "      <td>46</td>\n",
       "      <td>23.5</td>\n",
       "      <td>87.0</td>\n",
       "      <td>181</td>\n",
       "      <td>114.8</td>\n",
       "      <td>44.0</td>\n",
       "      <td>4.0</td>\n",
       "      <td>4.7095</td>\n",
       "      <td>98</td>\n",
       "      <td>1</td>\n",
       "    </tr>\n",
       "    <tr>\n",
       "      <th>79</th>\n",
       "      <td>20</td>\n",
       "      <td>22.9</td>\n",
       "      <td>87.0</td>\n",
       "      <td>191</td>\n",
       "      <td>128.2</td>\n",
       "      <td>53.0</td>\n",
       "      <td>4.0</td>\n",
       "      <td>3.8918</td>\n",
       "      <td>85</td>\n",
       "      <td>0</td>\n",
       "    </tr>\n",
       "  </tbody>\n",
       "</table>\n",
       "</div>"
      ],
      "text/plain": [
       "     AGE   BMI     BP  CHOLESTEROL    LDL   HDL  TCH     LTG  GLUCOSE  GENDER\n",
       "135   47  31.6   84.0          154   88.0  30.0  5.1  5.1985      105       0\n",
       "58    60  20.4  105.0          198   78.4  99.0  2.0  4.6347       79       0\n",
       "348   57  24.5   93.0          186   96.6  71.0  3.0  4.5218       91       0\n",
       "75    46  23.5   87.0          181  114.8  44.0  4.0  4.7095       98       1\n",
       "79    20  22.9   87.0          191  128.2  53.0  4.0  3.8918       85       0"
      ]
     },
     "execution_count": 11,
     "metadata": {},
     "output_type": "execute_result"
    }
   ],
   "source": [
    "df_train_x.head()"
   ]
  },
  {
   "cell_type": "code",
   "execution_count": 12,
   "id": "80e0a04e",
   "metadata": {},
   "outputs": [
    {
     "data": {
      "text/plain": [
       "135    272\n",
       "58     170\n",
       "348    148\n",
       "75      42\n",
       "79     113\n",
       "Name: Y, dtype: int64"
      ]
     },
     "execution_count": 12,
     "metadata": {},
     "output_type": "execute_result"
    }
   ],
   "source": [
    "df_train_y.head()"
   ]
  },
  {
   "cell_type": "markdown",
   "id": "1af5d5bb",
   "metadata": {},
   "source": [
    "## 3. 다중선형회귀모형과 규제화 다중선형회귀모형\n",
    "\n",
    "- 모델이 데이터를 얼마나 잘 설명하는지를 비교하기 위해서, 모든 변수를 사용하여 다중회귀모형, 규제화 다중회귀모형의 test셋에 대한 R2 score를 확인하였다."
   ]
  },
  {
   "cell_type": "markdown",
   "id": "10bb8332",
   "metadata": {},
   "source": [
    "### 3.1 다중선형회귀모형"
   ]
  },
  {
   "cell_type": "markdown",
   "id": "290b5fb3",
   "metadata": {},
   "source": [
    "#### - 모든 설명 변수를 이용한 다중선형회귀모형 식은 다음과 같다.\n",
    "#####  yhat = -359.9093 - 0.1416 * AGE + -21.6149 * GENDER + 5.5009 * BMI + 1.1635 * BP - 1.1058 * CHOLESTEROL + 0.8013 * LDL + 0.5187 * HDL +                                   7.4564*TCH + 66.5308 * LTG + 0.2831 * GLUCOSE \n",
    "그러나 AGE, LDL, HDL, TCH, GLUCOSE의 변수는 회귀계수가 유의수준 5%에서 유의하지 않았다는 사실에 주의해야 한다."
   ]
  },
  {
   "cell_type": "code",
   "execution_count": 13,
   "id": "a99f45f7",
   "metadata": {
    "scrolled": false
   },
   "outputs": [
    {
     "name": "stdout",
     "output_type": "stream",
     "text": [
      "                            OLS Regression Results                            \n",
      "==============================================================================\n",
      "Dep. Variable:                      Y   R-squared:                       0.509\n",
      "Model:                            OLS   Adj. R-squared:                  0.495\n",
      "Method:                 Least Squares   F-statistic:                     35.45\n",
      "Date:                Wed, 06 Mar 2024   Prob (F-statistic):           3.89e-47\n",
      "Time:                        00:47:37   Log-Likelihood:                -1902.3\n",
      "No. Observations:                 353   AIC:                             3827.\n",
      "Df Residuals:                     342   BIC:                             3869.\n",
      "Df Model:                          10                                         \n",
      "Covariance Type:            nonrobust                                         \n",
      "===============================================================================\n",
      "                  coef    std err          t      P>|t|      [0.025      0.975]\n",
      "-------------------------------------------------------------------------------\n",
      "Intercept    -359.9093     72.557     -4.960      0.000    -502.624    -217.194\n",
      "AGE            -0.1416      0.238     -0.594      0.553      -0.611       0.327\n",
      "GENDER        -21.6149      6.563     -3.294      0.001     -34.523      -8.707\n",
      "BMI             5.5009      0.806      6.829      0.000       3.917       7.085\n",
      "BP              1.1635      0.250      4.654      0.000       0.672       1.655\n",
      "CHOLESTEROL    -1.1058      0.612     -1.807      0.072      -2.309       0.098\n",
      "LDL             0.8013      0.562      1.425      0.155      -0.305       1.907\n",
      "HDL             0.5187      0.840      0.617      0.537      -1.133       2.171\n",
      "TCH             7.4564      6.614      1.127      0.260      -5.552      20.465\n",
      "LTG            66.5308     16.925      3.931      0.000      33.241      99.820\n",
      "GLUCOSE         0.2831      0.313      0.903      0.367      -0.333       0.900\n",
      "==============================================================================\n",
      "Omnibus:                        1.094   Durbin-Watson:                   2.017\n",
      "Prob(Omnibus):                  0.579   Jarque-Bera (JB):                1.096\n",
      "Skew:                          -0.023   Prob(JB):                        0.578\n",
      "Kurtosis:                       2.731   Cond. No.                     7.02e+03\n",
      "==============================================================================\n",
      "\n",
      "Notes:\n",
      "[1] Standard Errors assume that the covariance matrix of the errors is correctly specified.\n",
      "[2] The condition number is large, 7.02e+03. This might indicate that there are\n",
      "strong multicollinearity or other numerical problems.\n"
     ]
    }
   ],
   "source": [
    "reg_model = smf.ols(formula = \"Y ~ AGE+ GENDER+ BMI+ BP+ CHOLESTEROL+ LDL+ HDL+ TCH + LTG+ GLUCOSE\", data = df_train)\n",
    "reg_result = reg_model.fit()\n",
    "print(reg_result.summary())"
   ]
  },
  {
   "cell_type": "markdown",
   "id": "9b823e28",
   "metadata": {},
   "source": [
    "##### - 다중선형회귀모형의 R2 스코어"
   ]
  },
  {
   "cell_type": "markdown",
   "id": "b15eeaf6",
   "metadata": {},
   "source": [
    ": train data에 대한 R2(결정계수)는 0.509, test data에 대한 R2는 0.54로 나타났다. 이는 train data보다 test data에 대한 모델의 설명력이 더 좋음을 나타낸다."
   ]
  },
  {
   "cell_type": "code",
   "execution_count": 14,
   "id": "5f26fff7",
   "metadata": {},
   "outputs": [
    {
     "name": "stdout",
     "output_type": "stream",
     "text": [
      "train data의 결정계수: 0.509\n",
      "test data의 결정계수: 0.54\n"
     ]
    }
   ],
   "source": [
    "train_pred = reg_result.predict(df_train)\n",
    "test_pred = reg_result.predict(df_test)\n",
    "print(\"train data의 결정계수:\", round(r2_score(df_train['Y'], train_pred),3))\n",
    "print(\"test data의 결정계수:\", round(r2_score(df_test['Y'], test_pred),3))"
   ]
  },
  {
   "cell_type": "markdown",
   "id": "6bae8c76",
   "metadata": {},
   "source": [
    "### 3.2 Ridge 다중선형회귀모형"
   ]
  },
  {
   "cell_type": "markdown",
   "id": "5cabc788",
   "metadata": {},
   "source": [
    "#### - 모든 설명 변수를 이용한 Ridge 다중선형회귀모형 식은 다음과 같다.\n",
    "#####  yhat = -338.7078 - 0.135626*AGE  - 21.326547*GENDER + 5.548128*BMI + 1.163439*BP - 0.909849 * CHOLESTEROL + 0.621817*LDL + 0.302674 * HDL + 7.113789 * TCH + 60.533578 * LTG + 0.291267 * GLUCOSE "
   ]
  },
  {
   "cell_type": "markdown",
   "id": "9bafd3fe",
   "metadata": {},
   "source": [
    "##### - 회귀계수\n",
    ": 기존의 다중선형회귀모형의 회귀계수에 비해, BP, CLUCOSE 변수를 제외한 모든 변수들의 회귀계수 값이 근소하게 작아졌음을 확인할 수 있다."
   ]
  },
  {
   "cell_type": "code",
   "execution_count": 15,
   "id": "d7744ec1",
   "metadata": {},
   "outputs": [
    {
     "data": {
      "text/html": [
       "<div>\n",
       "<style scoped>\n",
       "    .dataframe tbody tr th:only-of-type {\n",
       "        vertical-align: middle;\n",
       "    }\n",
       "\n",
       "    .dataframe tbody tr th {\n",
       "        vertical-align: top;\n",
       "    }\n",
       "\n",
       "    .dataframe thead th {\n",
       "        text-align: right;\n",
       "    }\n",
       "</style>\n",
       "<table border=\"1\" class=\"dataframe\">\n",
       "  <thead>\n",
       "    <tr style=\"text-align: right;\">\n",
       "      <th></th>\n",
       "      <th>Coef</th>\n",
       "    </tr>\n",
       "  </thead>\n",
       "  <tbody>\n",
       "    <tr>\n",
       "      <th>AGE</th>\n",
       "      <td>-0.135626</td>\n",
       "    </tr>\n",
       "    <tr>\n",
       "      <th>BMI</th>\n",
       "      <td>5.548128</td>\n",
       "    </tr>\n",
       "    <tr>\n",
       "      <th>BP</th>\n",
       "      <td>1.163439</td>\n",
       "    </tr>\n",
       "    <tr>\n",
       "      <th>CHOLESTEROL</th>\n",
       "      <td>-0.909849</td>\n",
       "    </tr>\n",
       "    <tr>\n",
       "      <th>LDL</th>\n",
       "      <td>0.621817</td>\n",
       "    </tr>\n",
       "    <tr>\n",
       "      <th>HDL</th>\n",
       "      <td>0.302674</td>\n",
       "    </tr>\n",
       "    <tr>\n",
       "      <th>TCH</th>\n",
       "      <td>7.113786</td>\n",
       "    </tr>\n",
       "    <tr>\n",
       "      <th>LTG</th>\n",
       "      <td>60.533578</td>\n",
       "    </tr>\n",
       "    <tr>\n",
       "      <th>GLUCOSE</th>\n",
       "      <td>0.291267</td>\n",
       "    </tr>\n",
       "    <tr>\n",
       "      <th>GENDER</th>\n",
       "      <td>-21.326547</td>\n",
       "    </tr>\n",
       "  </tbody>\n",
       "</table>\n",
       "</div>"
      ],
      "text/plain": [
       "                  Coef\n",
       "AGE          -0.135626\n",
       "BMI           5.548128\n",
       "BP            1.163439\n",
       "CHOLESTEROL  -0.909849\n",
       "LDL           0.621817\n",
       "HDL           0.302674\n",
       "TCH           7.113786\n",
       "LTG          60.533578\n",
       "GLUCOSE       0.291267\n",
       "GENDER      -21.326547"
      ]
     },
     "execution_count": 15,
     "metadata": {},
     "output_type": "execute_result"
    }
   ],
   "source": [
    "ridge = Ridge(random_state=20240305, alpha = 1)\n",
    "ridge.fit(df_train_x, df_train_y)\n",
    "df_ridge_coef = pd.DataFrame({\"Coef\": ridge.coef_}, index = df_train_x.columns)\n",
    "df_ridge_coef"
   ]
  },
  {
   "cell_type": "markdown",
   "id": "5660f1ee",
   "metadata": {},
   "source": [
    "##### - 상수항(B0)\n",
    ": 상수항(B0)는 약 -338.7078으로 확인되었다."
   ]
  },
  {
   "cell_type": "code",
   "execution_count": 16,
   "id": "32a589e5",
   "metadata": {},
   "outputs": [
    {
     "name": "stdout",
     "output_type": "stream",
     "text": [
      "-338.70784976775195\n"
     ]
    }
   ],
   "source": [
    "print(ridge.intercept_)"
   ]
  },
  {
   "cell_type": "markdown",
   "id": "8add2b49",
   "metadata": {},
   "source": [
    "#### - 변수들의 회귀계수 시각화\n",
    ": LTG, GENDER, BMI, TCH, BP의 순으로 Y에 대한 독립변수의 영향력이 큰 것으로 나타났다."
   ]
  },
  {
   "cell_type": "code",
   "execution_count": 17,
   "id": "3e218613",
   "metadata": {
    "scrolled": false
   },
   "outputs": [
    {
     "data": {
      "text/plain": [
       "<Axes: >"
      ]
     },
     "execution_count": 17,
     "metadata": {},
     "output_type": "execute_result"
    },
    {
     "data": {
      "image/png": "[encoded data removed]",
      "text/plain": [
       "<Figure size 640x480 with 1 Axes>"
      ]
     },
     "metadata": {},
     "output_type": "display_data"
    }
   ],
   "source": [
    "df_ridge_coef.plot.barh(y = \"Coef\", legend = False)"
   ]
  },
  {
   "cell_type": "markdown",
   "id": "89bbeea7",
   "metadata": {},
   "source": [
    "#### - Ridge 모델의 R2 스코어\n",
    ": train data에 대한 R2(결정계수)는 0.509, test data에 대한 R2는 0.54로 나타났다. 이는 train data보다 test data에 대한 모델의 설명력이 더 좋음을 나타낸다."
   ]
  },
  {
   "cell_type": "code",
   "execution_count": 18,
   "id": "b0bb2c0d",
   "metadata": {},
   "outputs": [
    {
     "name": "stdout",
     "output_type": "stream",
     "text": [
      "train data의 결정계수: 0.509\n",
      "test data의 결정계수: 0.54\n"
     ]
    }
   ],
   "source": [
    "train_pred = ridge.predict(df_train_x)\n",
    "test_pred = ridge.predict(df_test_x)\n",
    "print(\"train data의 결정계수:\", round(r2_score(df_train_y, train_pred), 3))\n",
    "print(\"test data의 결정계수:\", round(r2_score(df_test_y, test_pred), 3))"
   ]
  },
  {
   "cell_type": "markdown",
   "id": "95fa1d26",
   "metadata": {},
   "source": [
    "### 3.3 LASSO"
   ]
  },
  {
   "cell_type": "markdown",
   "id": "90b5b966",
   "metadata": {},
   "source": [
    "#### - 모든 설명 변수를 이용한 Lasso 다중선형회귀모형 식은 다음과 같다.\n",
    "#####  yhat = -228.7518 - 0.118358*AGE  - 16.205681*GENDER + 5.752172*BMI + 1.124641*BP + 0.059713 * CHOLESTEROL - 0.183890*LDL - 0.938599* HDL + 1.168339 * TCH + 34.275545 * LTG + 0.317195 * GLUCOSE "
   ]
  },
  {
   "cell_type": "markdown",
   "id": "47c1df96",
   "metadata": {},
   "source": [
    "##### - 회귀계수\n",
    ": 기존의 다중선형회귀모형의 회귀계수에 비해, BMI, HDL, BP, CLUCOSE 변수를 제외한 모든 변수들의 회귀계수의 절댓값이 근소하게 작아졌음을 확인할 수 있다."
   ]
  },
  {
   "cell_type": "code",
   "execution_count": 19,
   "id": "538c1a6e",
   "metadata": {},
   "outputs": [
    {
     "data": {
      "text/html": [
       "<div>\n",
       "<style scoped>\n",
       "    .dataframe tbody tr th:only-of-type {\n",
       "        vertical-align: middle;\n",
       "    }\n",
       "\n",
       "    .dataframe tbody tr th {\n",
       "        vertical-align: top;\n",
       "    }\n",
       "\n",
       "    .dataframe thead th {\n",
       "        text-align: right;\n",
       "    }\n",
       "</style>\n",
       "<table border=\"1\" class=\"dataframe\">\n",
       "  <thead>\n",
       "    <tr style=\"text-align: right;\">\n",
       "      <th></th>\n",
       "      <th>Coef</th>\n",
       "    </tr>\n",
       "  </thead>\n",
       "  <tbody>\n",
       "    <tr>\n",
       "      <th>AGE</th>\n",
       "      <td>-0.118358</td>\n",
       "    </tr>\n",
       "    <tr>\n",
       "      <th>BMI</th>\n",
       "      <td>5.752172</td>\n",
       "    </tr>\n",
       "    <tr>\n",
       "      <th>BP</th>\n",
       "      <td>1.124641</td>\n",
       "    </tr>\n",
       "    <tr>\n",
       "      <th>CHOLESTEROL</th>\n",
       "      <td>0.059713</td>\n",
       "    </tr>\n",
       "    <tr>\n",
       "      <th>LDL</th>\n",
       "      <td>-0.183890</td>\n",
       "    </tr>\n",
       "    <tr>\n",
       "      <th>HDL</th>\n",
       "      <td>-0.938599</td>\n",
       "    </tr>\n",
       "    <tr>\n",
       "      <th>TCH</th>\n",
       "      <td>1.168339</td>\n",
       "    </tr>\n",
       "    <tr>\n",
       "      <th>LTG</th>\n",
       "      <td>34.275545</td>\n",
       "    </tr>\n",
       "    <tr>\n",
       "      <th>GLUCOSE</th>\n",
       "      <td>0.317195</td>\n",
       "    </tr>\n",
       "    <tr>\n",
       "      <th>GENDER</th>\n",
       "      <td>-16.205681</td>\n",
       "    </tr>\n",
       "  </tbody>\n",
       "</table>\n",
       "</div>"
      ],
      "text/plain": [
       "                  Coef\n",
       "AGE          -0.118358\n",
       "BMI           5.752172\n",
       "BP            1.124641\n",
       "CHOLESTEROL   0.059713\n",
       "LDL          -0.183890\n",
       "HDL          -0.938599\n",
       "TCH           1.168339\n",
       "LTG          34.275545\n",
       "GLUCOSE       0.317195\n",
       "GENDER      -16.205681"
      ]
     },
     "execution_count": 19,
     "metadata": {},
     "output_type": "execute_result"
    }
   ],
   "source": [
    "lasso = Lasso(random_state=20240305, alpha = 1)\n",
    "lasso.fit(df_train_x, df_train_y)\n",
    "df_lasso_coef = pd.DataFrame({\"Coef\": lasso.coef_}, index = df_train_x.columns)\n",
    "df_lasso_coef"
   ]
  },
  {
   "cell_type": "markdown",
   "id": "78378f3f",
   "metadata": {},
   "source": [
    "##### - 상수항(B0)\n",
    ": 상수항(B0)는 약 -228.7518으로 확인되었다."
   ]
  },
  {
   "cell_type": "code",
   "execution_count": 20,
   "id": "1a7f6b88",
   "metadata": {},
   "outputs": [
    {
     "name": "stdout",
     "output_type": "stream",
     "text": [
      "-228.7517727603106\n"
     ]
    }
   ],
   "source": [
    "print(lasso.intercept_)"
   ]
  },
  {
   "cell_type": "markdown",
   "id": "53d6e360",
   "metadata": {},
   "source": [
    "#### - 변수들의 회귀계수 시각화\n",
    ": LTG, GENDER, BMI, TCH, BP, HDL의 순으로 Y에 대한 독립변수의 영향력이 큰 것으로 나타났다."
   ]
  },
  {
   "cell_type": "code",
   "execution_count": 21,
   "id": "8673dc70",
   "metadata": {
    "scrolled": false
   },
   "outputs": [
    {
     "data": {
      "text/plain": [
       "<Axes: >"
      ]
     },
     "execution_count": 21,
     "metadata": {},
     "output_type": "execute_result"
    },
    {
     "data": {
      "image/png": "[encoded data removed]",
      "text/plain": [
       "<Figure size 640x480 with 1 Axes>"
      ]
     },
     "metadata": {},
     "output_type": "display_data"
    }
   ],
   "source": [
    "df_lasso_coef.plot.barh(y = \"Coef\", legend = False)"
   ]
  },
  {
   "cell_type": "markdown",
   "id": "d4c5e297",
   "metadata": {},
   "source": [
    "#### - LASSO 모델의 R2 스코어\n",
    ": train data에 대한 R2(결정계수)는 0.509, test data에 대한 R2는 0.32로 나타났다. 이는 train data보다 test data에 대한 모델의 설명력이 더 좋음을 나타낸다."
   ]
  },
  {
   "cell_type": "code",
   "execution_count": 22,
   "id": "462e22fc",
   "metadata": {},
   "outputs": [
    {
     "name": "stdout",
     "output_type": "stream",
     "text": [
      "train data의 결정계수: 0.502\n",
      "test data의 결정계수: 0.532\n"
     ]
    }
   ],
   "source": [
    "train_pred = lasso.predict(df_train_x)\n",
    "test_pred = lasso.predict(df_test_x)\n",
    "print(\"train data의 결정계수:\", round(r2_score(df_train_y, train_pred), 3))\n",
    "print(\"test data의 결정계수:\", round(r2_score(df_test_y, test_pred), 3))"
   ]
  },
  {
   "cell_type": "markdown",
   "id": "c68ed17e",
   "metadata": {},
   "source": [
    "### 3.4 ELASTIC NET"
   ]
  },
  {
   "cell_type": "markdown",
   "id": "fea725c7",
   "metadata": {},
   "source": [
    "#### - 모든 설명 변수를 이용한 ELASTIC NET 다중선형회귀모형 식은 다음과 같다.\n",
    "#####  yhat = -122.5559 - 0.126648 * AGE  - 5.3438 * GENDER + 6.011997 * BMI + 1.064349 * BP + 1.086744 * CHOLESTEROL - 1.154058 * LDL - 1.883668* HDL + 0.518433 * TCH + 2.914695 * LTG + 0.324421 * GLUCOSE "
   ]
  },
  {
   "cell_type": "markdown",
   "id": "ce67c7ba",
   "metadata": {},
   "source": [
    "##### - 회귀계수\n",
    ": 기존의 다중선형회귀모형의 회귀계수에 비해, BMI, LDL, CHOLESTEROL, CLUCOSE 변수를 제외한 모든 변수들의 회귀계수의 절댓값이 근소하게 작아졌음을 확인할 수 있다."
   ]
  },
  {
   "cell_type": "code",
   "execution_count": 23,
   "id": "15737a8c",
   "metadata": {},
   "outputs": [
    {
     "data": {
      "text/html": [
       "<div>\n",
       "<style scoped>\n",
       "    .dataframe tbody tr th:only-of-type {\n",
       "        vertical-align: middle;\n",
       "    }\n",
       "\n",
       "    .dataframe tbody tr th {\n",
       "        vertical-align: top;\n",
       "    }\n",
       "\n",
       "    .dataframe thead th {\n",
       "        text-align: right;\n",
       "    }\n",
       "</style>\n",
       "<table border=\"1\" class=\"dataframe\">\n",
       "  <thead>\n",
       "    <tr style=\"text-align: right;\">\n",
       "      <th></th>\n",
       "      <th>Coef</th>\n",
       "    </tr>\n",
       "  </thead>\n",
       "  <tbody>\n",
       "    <tr>\n",
       "      <th>AGE</th>\n",
       "      <td>-0.126648</td>\n",
       "    </tr>\n",
       "    <tr>\n",
       "      <th>BMI</th>\n",
       "      <td>6.011997</td>\n",
       "    </tr>\n",
       "    <tr>\n",
       "      <th>BP</th>\n",
       "      <td>1.064349</td>\n",
       "    </tr>\n",
       "    <tr>\n",
       "      <th>CHOLESTEROL</th>\n",
       "      <td>1.086744</td>\n",
       "    </tr>\n",
       "    <tr>\n",
       "      <th>LDL</th>\n",
       "      <td>-1.154058</td>\n",
       "    </tr>\n",
       "    <tr>\n",
       "      <th>HDL</th>\n",
       "      <td>-1.883668</td>\n",
       "    </tr>\n",
       "    <tr>\n",
       "      <th>TCH</th>\n",
       "      <td>0.518433</td>\n",
       "    </tr>\n",
       "    <tr>\n",
       "      <th>LTG</th>\n",
       "      <td>2.914695</td>\n",
       "    </tr>\n",
       "    <tr>\n",
       "      <th>GLUCOSE</th>\n",
       "      <td>0.324421</td>\n",
       "    </tr>\n",
       "    <tr>\n",
       "      <th>GENDER</th>\n",
       "      <td>-5.343896</td>\n",
       "    </tr>\n",
       "  </tbody>\n",
       "</table>\n",
       "</div>"
      ],
      "text/plain": [
       "                 Coef\n",
       "AGE         -0.126648\n",
       "BMI          6.011997\n",
       "BP           1.064349\n",
       "CHOLESTEROL  1.086744\n",
       "LDL         -1.154058\n",
       "HDL         -1.883668\n",
       "TCH          0.518433\n",
       "LTG          2.914695\n",
       "GLUCOSE      0.324421\n",
       "GENDER      -5.343896"
      ]
     },
     "execution_count": 23,
     "metadata": {},
     "output_type": "execute_result"
    }
   ],
   "source": [
    "elastic = ElasticNet(random_state=20240305, alpha = 1, l1_ratio = 0.5)\n",
    "elastic.fit(df_train_x, df_train_y)\n",
    "df_elastic_coef = pd.DataFrame({\"Coef\": elastic.coef_}, index = df_train_x.columns)\n",
    "df_elastic_coef"
   ]
  },
  {
   "cell_type": "markdown",
   "id": "0ad569fc",
   "metadata": {},
   "source": [
    "##### - 상수항(B0)\n",
    ": 상수항(B0)는 약 -122.5560으로 확인되었다."
   ]
  },
  {
   "cell_type": "code",
   "execution_count": 24,
   "id": "e019c1ee",
   "metadata": {
    "scrolled": true
   },
   "outputs": [
    {
     "name": "stdout",
     "output_type": "stream",
     "text": [
      "-122.55598752589822\n"
     ]
    }
   ],
   "source": [
    "print(elastic.intercept_)"
   ]
  },
  {
   "cell_type": "markdown",
   "id": "2b7fd557",
   "metadata": {},
   "source": [
    "#### - 변수들의 회귀계수 시각화\n",
    ": BMI, GENDER, LTG, HDL, LDL, CHILESTEROL, BP의 순으로 Y에 대한 독립변수의 영향력이 큰 것으로 나타났다."
   ]
  },
  {
   "cell_type": "code",
   "execution_count": 25,
   "id": "2314ee30",
   "metadata": {
    "scrolled": false
   },
   "outputs": [
    {
     "data": {
      "text/plain": [
       "<Axes: >"
      ]
     },
     "execution_count": 25,
     "metadata": {},
     "output_type": "execute_result"
    },
    {
     "data": {
      "image/png": "[encoded data removed]",
      "text/plain": [
       "<Figure size 640x480 with 1 Axes>"
      ]
     },
     "metadata": {},
     "output_type": "display_data"
    }
   ],
   "source": [
    "df_elastic_coef.plot.barh(y = \"Coef\", legend = False)"
   ]
  },
  {
   "cell_type": "markdown",
   "id": "ea2e995e",
   "metadata": {},
   "source": [
    "#### - ELASTIC NET 모델의 R2 스코어\n",
    ": train data에 대한 R2(결정계수)는 0.479, test data에 대한 R2는 0.508로 나타났다. 이는 train data보다 test data에 대한 모델의 설명력이 더 좋음을 나타낸다."
   ]
  },
  {
   "cell_type": "code",
   "execution_count": 26,
   "id": "b0267e3a",
   "metadata": {
    "scrolled": true
   },
   "outputs": [
    {
     "name": "stdout",
     "output_type": "stream",
     "text": [
      "train data의 결정계수: 0.479\n",
      "test data의 결정계수: 0.508\n"
     ]
    }
   ],
   "source": [
    "train_pred =elastic.predict(df_train_x)\n",
    "test_pred = elastic.predict(df_test_x)\n",
    "print(\"train data의 결정계수:\", round(r2_score(df_train_y, train_pred), 3))\n",
    "print(\"test data의 결정계수:\", round(r2_score(df_test_y, test_pred), 3))"
   ]
  },
  {
   "cell_type": "markdown",
   "id": "ba854b62",
   "metadata": {},
   "source": [
    "## 4. Decision Tree"
   ]
  },
  {
   "cell_type": "markdown",
   "id": "215837af",
   "metadata": {},
   "source": [
    "#### - Decision Tree default 모델 R2 성능확인\n",
    ": training set에 대한 R2는 1로, 데이터에 대한 설명이 완벽히 가능하지만, test set에 대해 음수의 값으로 데이터 분할이 정상적이지 않았음을 알 수 있다."
   ]
  },
  {
   "cell_type": "code",
   "execution_count": 27,
   "id": "29f79cbd",
   "metadata": {},
   "outputs": [
    {
     "name": "stdout",
     "output_type": "stream",
     "text": [
      "Score on training set: 1.000\n",
      "Score on test set: -0.119\n"
     ]
    }
   ],
   "source": [
    "tree_uncustomized = DecisionTreeRegressor(random_state=240305)\n",
    "tree_uncustomized.fit(df_train_x, df_train_y)\n",
    "# Train 데이터 설명력\n",
    "print(\"Score on training set: {:.3f}\".format(tree_uncustomized.score(df_train_x, df_train_y)))\n",
    "# test 데이터 설명력\n",
    "print(\"Score on test set: {:.3f}\".format(tree_uncustomized.score(df_test_x, df_test_y)))"
   ]
  },
  {
   "cell_type": "markdown",
   "id": "6a5b3d88",
   "metadata": {},
   "source": [
    "#### - 기본 모델 파라미터 확인"
   ]
  },
  {
   "cell_type": "code",
   "execution_count": 28,
   "id": "23a00cb5",
   "metadata": {
    "scrolled": true
   },
   "outputs": [
    {
     "data": {
      "text/plain": [
       "{'ccp_alpha': 0.0,\n",
       " 'criterion': 'squared_error',\n",
       " 'max_depth': None,\n",
       " 'max_features': None,\n",
       " 'max_leaf_nodes': None,\n",
       " 'min_impurity_decrease': 0.0,\n",
       " 'min_samples_leaf': 1,\n",
       " 'min_samples_split': 2,\n",
       " 'min_weight_fraction_leaf': 0.0,\n",
       " 'random_state': 240305,\n",
       " 'splitter': 'best'}"
      ]
     },
     "execution_count": 28,
     "metadata": {},
     "output_type": "execute_result"
    }
   ],
   "source": [
    "tree_uncustomized.get_params()"
   ]
  },
  {
   "cell_type": "markdown",
   "id": "ccc28076",
   "metadata": {},
   "source": [
    "#### - min_samples_leaf 파라미터 조정\n",
    ": min_samples_leaf가 13일 때, train도 잘설명하면서, test도 잘 설명한다고 생각했다. 따라서 모델을 일반화 시키기 위해 min_samples_leaf를 13으로 결정하였다."
   ]
  },
  {
   "cell_type": "code",
   "execution_count": 29,
   "id": "9861aefe",
   "metadata": {},
   "outputs": [],
   "source": [
    "train_score = []; test_score = [ ]\n",
    "para_leaf = [n_leaf for n_leaf in range(1, 20)]\n",
    "\n",
    "for v_min_samples_leaf in para_leaf:\n",
    "    tree = DecisionTreeRegressor(random_state=240305\n",
    "                                 , min_samples_leaf=v_min_samples_leaf)\n",
    "    tree.fit(df_train_x, df_train_y)\n",
    "    train_score.append(tree.score(df_train_x, df_train_y))\n",
    "    test_score.append(tree.score(df_test_x, df_test_y))\n",
    "\n",
    "# 결과 저장\n",
    "df_score_leaf = pd.DataFrame()\n",
    "df_score_leaf[\"MinSamplesLeaf\"] = para_leaf\n",
    "df_score_leaf[\"TrainScore\"] = train_score\n",
    "df_score_leaf[\"TestScore\"] = test_score"
   ]
  },
  {
   "cell_type": "code",
   "execution_count": 30,
   "id": "62d11b38",
   "metadata": {},
   "outputs": [
    {
     "data": {
      "text/html": [
       "<div>\n",
       "<style scoped>\n",
       "    .dataframe tbody tr th:only-of-type {\n",
       "        vertical-align: middle;\n",
       "    }\n",
       "\n",
       "    .dataframe tbody tr th {\n",
       "        vertical-align: top;\n",
       "    }\n",
       "\n",
       "    .dataframe thead th {\n",
       "        text-align: right;\n",
       "    }\n",
       "</style>\n",
       "<table border=\"1\" class=\"dataframe\">\n",
       "  <thead>\n",
       "    <tr style=\"text-align: right;\">\n",
       "      <th></th>\n",
       "      <th>MinSamplesLeaf</th>\n",
       "      <th>TrainScore</th>\n",
       "      <th>TestScore</th>\n",
       "    </tr>\n",
       "  </thead>\n",
       "  <tbody>\n",
       "    <tr>\n",
       "      <th>0</th>\n",
       "      <td>1</td>\n",
       "      <td>1.000</td>\n",
       "      <td>-0.119</td>\n",
       "    </tr>\n",
       "    <tr>\n",
       "      <th>1</th>\n",
       "      <td>2</td>\n",
       "      <td>0.938</td>\n",
       "      <td>0.046</td>\n",
       "    </tr>\n",
       "    <tr>\n",
       "      <th>2</th>\n",
       "      <td>3</td>\n",
       "      <td>0.870</td>\n",
       "      <td>0.233</td>\n",
       "    </tr>\n",
       "    <tr>\n",
       "      <th>3</th>\n",
       "      <td>4</td>\n",
       "      <td>0.803</td>\n",
       "      <td>0.144</td>\n",
       "    </tr>\n",
       "    <tr>\n",
       "      <th>4</th>\n",
       "      <td>5</td>\n",
       "      <td>0.773</td>\n",
       "      <td>0.176</td>\n",
       "    </tr>\n",
       "    <tr>\n",
       "      <th>5</th>\n",
       "      <td>6</td>\n",
       "      <td>0.746</td>\n",
       "      <td>0.216</td>\n",
       "    </tr>\n",
       "    <tr>\n",
       "      <th>6</th>\n",
       "      <td>7</td>\n",
       "      <td>0.721</td>\n",
       "      <td>0.185</td>\n",
       "    </tr>\n",
       "    <tr>\n",
       "      <th>7</th>\n",
       "      <td>8</td>\n",
       "      <td>0.688</td>\n",
       "      <td>0.269</td>\n",
       "    </tr>\n",
       "    <tr>\n",
       "      <th>8</th>\n",
       "      <td>9</td>\n",
       "      <td>0.665</td>\n",
       "      <td>0.285</td>\n",
       "    </tr>\n",
       "    <tr>\n",
       "      <th>9</th>\n",
       "      <td>10</td>\n",
       "      <td>0.652</td>\n",
       "      <td>0.282</td>\n",
       "    </tr>\n",
       "    <tr>\n",
       "      <th>10</th>\n",
       "      <td>11</td>\n",
       "      <td>0.629</td>\n",
       "      <td>0.328</td>\n",
       "    </tr>\n",
       "    <tr>\n",
       "      <th>11</th>\n",
       "      <td>12</td>\n",
       "      <td>0.626</td>\n",
       "      <td>0.332</td>\n",
       "    </tr>\n",
       "    <tr>\n",
       "      <th>12</th>\n",
       "      <td>13</td>\n",
       "      <td>0.612</td>\n",
       "      <td>0.353</td>\n",
       "    </tr>\n",
       "    <tr>\n",
       "      <th>13</th>\n",
       "      <td>14</td>\n",
       "      <td>0.606</td>\n",
       "      <td>0.349</td>\n",
       "    </tr>\n",
       "    <tr>\n",
       "      <th>14</th>\n",
       "      <td>15</td>\n",
       "      <td>0.577</td>\n",
       "      <td>0.353</td>\n",
       "    </tr>\n",
       "    <tr>\n",
       "      <th>15</th>\n",
       "      <td>16</td>\n",
       "      <td>0.553</td>\n",
       "      <td>0.365</td>\n",
       "    </tr>\n",
       "    <tr>\n",
       "      <th>16</th>\n",
       "      <td>17</td>\n",
       "      <td>0.552</td>\n",
       "      <td>0.360</td>\n",
       "    </tr>\n",
       "    <tr>\n",
       "      <th>17</th>\n",
       "      <td>18</td>\n",
       "      <td>0.544</td>\n",
       "      <td>0.386</td>\n",
       "    </tr>\n",
       "    <tr>\n",
       "      <th>18</th>\n",
       "      <td>19</td>\n",
       "      <td>0.530</td>\n",
       "      <td>0.374</td>\n",
       "    </tr>\n",
       "  </tbody>\n",
       "</table>\n",
       "</div>"
      ],
      "text/plain": [
       "    MinSamplesLeaf  TrainScore  TestScore\n",
       "0                1       1.000     -0.119\n",
       "1                2       0.938      0.046\n",
       "2                3       0.870      0.233\n",
       "3                4       0.803      0.144\n",
       "4                5       0.773      0.176\n",
       "5                6       0.746      0.216\n",
       "6                7       0.721      0.185\n",
       "7                8       0.688      0.269\n",
       "8                9       0.665      0.285\n",
       "9               10       0.652      0.282\n",
       "10              11       0.629      0.328\n",
       "11              12       0.626      0.332\n",
       "12              13       0.612      0.353\n",
       "13              14       0.606      0.349\n",
       "14              15       0.577      0.353\n",
       "15              16       0.553      0.365\n",
       "16              17       0.552      0.360\n",
       "17              18       0.544      0.386\n",
       "18              19       0.530      0.374"
      ]
     },
     "execution_count": 30,
     "metadata": {},
     "output_type": "execute_result"
    }
   ],
   "source": [
    "df_score_leaf.round(3)"
   ]
  },
  {
   "cell_type": "code",
   "execution_count": 31,
   "id": "f6bfc4d7",
   "metadata": {},
   "outputs": [
    {
     "data": {
      "text/plain": [
       "<matplotlib.legend.Legend at 0x7f68a5fb8ca0>"
      ]
     },
     "execution_count": 31,
     "metadata": {},
     "output_type": "execute_result"
    },
    {
     "data": {
      "image/png": "[encoded data removed]",
      "text/plain": [
       "<Figure size 640x480 with 1 Axes>"
      ]
     },
     "metadata": {},
     "output_type": "display_data"
    }
   ],
   "source": [
    "plt.plot(para_leaf, train_score, linestyle = \"-\", label = \"Train Score\")\n",
    "plt.plot(para_leaf, test_score, linestyle = \"--\", label = \"Test Score\")\n",
    "plt.legend()"
   ]
  },
  {
   "cell_type": "markdown",
   "id": "9c690ddf",
   "metadata": {},
   "source": [
    "#### - min_samples_split 파라미터 조정\n",
    ": min_samples_leaf가 13이고 min_samples_split이 10일 때, train도 잘설명하면서 test도 잘 설명한다고 생각했다. 따라서 모델을 일반화 시키기 위해 min_samples_split를 10으로 결정하였다."
   ]
  },
  {
   "cell_type": "code",
   "execution_count": 32,
   "id": "3a8e86e3",
   "metadata": {},
   "outputs": [],
   "source": [
    "train_score = []; test_score = []\n",
    "# min_samples_split: 분리 노드의 최소 자료 수 \n",
    "para_split = [n_split * 2 for n_split in range(2, 20)]\n",
    "\n",
    "for v_min_samples_split in para_split:\n",
    "    tree = DecisionTreeRegressor(random_state=240305, min_samples_leaf=13\n",
    "                                 , min_samples_split=v_min_samples_split )\n",
    "    tree.fit(df_train_x, df_train_y)\n",
    "    train_score.append(tree.score(df_train_x, df_train_y))\n",
    "    test_score.append(tree.score(df_test_x, df_test_y))\n",
    "\n",
    "# 결과 저장\n",
    "df_score_split = pd.DataFrame()\n",
    "df_score_split[\"MinSamplesSplit\"] = para_split\n",
    "df_score_split[\"TrainScore\"] = train_score\n",
    "df_score_split[\"TestScore\"] = test_score"
   ]
  },
  {
   "cell_type": "code",
   "execution_count": 33,
   "id": "5dbb05a3",
   "metadata": {},
   "outputs": [
    {
     "data": {
      "text/html": [
       "<div>\n",
       "<style scoped>\n",
       "    .dataframe tbody tr th:only-of-type {\n",
       "        vertical-align: middle;\n",
       "    }\n",
       "\n",
       "    .dataframe tbody tr th {\n",
       "        vertical-align: top;\n",
       "    }\n",
       "\n",
       "    .dataframe thead th {\n",
       "        text-align: right;\n",
       "    }\n",
       "</style>\n",
       "<table border=\"1\" class=\"dataframe\">\n",
       "  <thead>\n",
       "    <tr style=\"text-align: right;\">\n",
       "      <th></th>\n",
       "      <th>MinSamplesSplit</th>\n",
       "      <th>TrainScore</th>\n",
       "      <th>TestScore</th>\n",
       "    </tr>\n",
       "  </thead>\n",
       "  <tbody>\n",
       "    <tr>\n",
       "      <th>0</th>\n",
       "      <td>4</td>\n",
       "      <td>0.612</td>\n",
       "      <td>0.353</td>\n",
       "    </tr>\n",
       "    <tr>\n",
       "      <th>1</th>\n",
       "      <td>6</td>\n",
       "      <td>0.612</td>\n",
       "      <td>0.353</td>\n",
       "    </tr>\n",
       "    <tr>\n",
       "      <th>2</th>\n",
       "      <td>8</td>\n",
       "      <td>0.612</td>\n",
       "      <td>0.353</td>\n",
       "    </tr>\n",
       "    <tr>\n",
       "      <th>3</th>\n",
       "      <td>10</td>\n",
       "      <td>0.612</td>\n",
       "      <td>0.353</td>\n",
       "    </tr>\n",
       "    <tr>\n",
       "      <th>4</th>\n",
       "      <td>12</td>\n",
       "      <td>0.612</td>\n",
       "      <td>0.353</td>\n",
       "    </tr>\n",
       "    <tr>\n",
       "      <th>5</th>\n",
       "      <td>14</td>\n",
       "      <td>0.612</td>\n",
       "      <td>0.353</td>\n",
       "    </tr>\n",
       "    <tr>\n",
       "      <th>6</th>\n",
       "      <td>16</td>\n",
       "      <td>0.612</td>\n",
       "      <td>0.353</td>\n",
       "    </tr>\n",
       "    <tr>\n",
       "      <th>7</th>\n",
       "      <td>18</td>\n",
       "      <td>0.612</td>\n",
       "      <td>0.353</td>\n",
       "    </tr>\n",
       "    <tr>\n",
       "      <th>8</th>\n",
       "      <td>20</td>\n",
       "      <td>0.612</td>\n",
       "      <td>0.353</td>\n",
       "    </tr>\n",
       "    <tr>\n",
       "      <th>9</th>\n",
       "      <td>22</td>\n",
       "      <td>0.612</td>\n",
       "      <td>0.353</td>\n",
       "    </tr>\n",
       "    <tr>\n",
       "      <th>10</th>\n",
       "      <td>24</td>\n",
       "      <td>0.612</td>\n",
       "      <td>0.353</td>\n",
       "    </tr>\n",
       "    <tr>\n",
       "      <th>11</th>\n",
       "      <td>26</td>\n",
       "      <td>0.612</td>\n",
       "      <td>0.353</td>\n",
       "    </tr>\n",
       "    <tr>\n",
       "      <th>12</th>\n",
       "      <td>28</td>\n",
       "      <td>0.612</td>\n",
       "      <td>0.353</td>\n",
       "    </tr>\n",
       "    <tr>\n",
       "      <th>13</th>\n",
       "      <td>30</td>\n",
       "      <td>0.583</td>\n",
       "      <td>0.348</td>\n",
       "    </tr>\n",
       "    <tr>\n",
       "      <th>14</th>\n",
       "      <td>32</td>\n",
       "      <td>0.564</td>\n",
       "      <td>0.327</td>\n",
       "    </tr>\n",
       "    <tr>\n",
       "      <th>15</th>\n",
       "      <td>34</td>\n",
       "      <td>0.562</td>\n",
       "      <td>0.330</td>\n",
       "    </tr>\n",
       "    <tr>\n",
       "      <th>16</th>\n",
       "      <td>36</td>\n",
       "      <td>0.562</td>\n",
       "      <td>0.330</td>\n",
       "    </tr>\n",
       "    <tr>\n",
       "      <th>17</th>\n",
       "      <td>38</td>\n",
       "      <td>0.562</td>\n",
       "      <td>0.330</td>\n",
       "    </tr>\n",
       "  </tbody>\n",
       "</table>\n",
       "</div>"
      ],
      "text/plain": [
       "    MinSamplesSplit  TrainScore  TestScore\n",
       "0                 4       0.612      0.353\n",
       "1                 6       0.612      0.353\n",
       "2                 8       0.612      0.353\n",
       "3                10       0.612      0.353\n",
       "4                12       0.612      0.353\n",
       "5                14       0.612      0.353\n",
       "6                16       0.612      0.353\n",
       "7                18       0.612      0.353\n",
       "8                20       0.612      0.353\n",
       "9                22       0.612      0.353\n",
       "10               24       0.612      0.353\n",
       "11               26       0.612      0.353\n",
       "12               28       0.612      0.353\n",
       "13               30       0.583      0.348\n",
       "14               32       0.564      0.327\n",
       "15               34       0.562      0.330\n",
       "16               36       0.562      0.330\n",
       "17               38       0.562      0.330"
      ]
     },
     "execution_count": 33,
     "metadata": {},
     "output_type": "execute_result"
    }
   ],
   "source": [
    "df_score_split.round(3)"
   ]
  },
  {
   "cell_type": "code",
   "execution_count": 34,
   "id": "d941f6ed",
   "metadata": {},
   "outputs": [
    {
     "data": {
      "text/plain": [
       "<matplotlib.legend.Legend at 0x7f68a60570a0>"
      ]
     },
     "execution_count": 34,
     "metadata": {},
     "output_type": "execute_result"
    },
    {
     "data": {
      "image/png": "[encoded data removed]",
      "text/plain": [
       "<Figure size 640x480 with 1 Axes>"
      ]
     },
     "metadata": {},
     "output_type": "display_data"
    }
   ],
   "source": [
    "plt.plot(para_split, train_score, linestyle = \"-\", label = \"Train Score\")\n",
    "plt.plot(para_split, test_score, linestyle = \"--\", label = \"Test Score\")\n",
    "plt.legend()"
   ]
  },
  {
   "cell_type": "markdown",
   "id": "80dbd308",
   "metadata": {},
   "source": [
    "#### - max depth 파라미터 조정\n",
    ": min_samples_leaf가 13이고 min_samples_split이 10, max_depth가 5일 때, train도 잘설명하면서 test도 잘 설명한다고 생각했다. 따라서 모델을 일반화 시키기 위해 max_depth를 5로 결정하였다."
   ]
  },
  {
   "cell_type": "code",
   "execution_count": 35,
   "id": "0a5cd99a",
   "metadata": {},
   "outputs": [],
   "source": [
    "train_score = []; test_score = []\n",
    "# max_depth: 최대 깊이 변경\n",
    "para_depth = [depth for depth in range(1, 11)]\n",
    "\n",
    "for v_max_depth in para_depth:\n",
    "    tree = DecisionTreeRegressor(random_state=240305, min_samples_leaf=13, min_samples_split=10\n",
    "                                  , max_depth = v_max_depth)\n",
    "    tree.fit(df_train_x, df_train_y)\n",
    "    train_score.append(tree.score(df_train_x, df_train_y))\n",
    "    test_score.append(tree.score(df_test_x, df_test_y))\n",
    "\n",
    "# 데이터 테이블로 저장\n",
    "df_score_depth = pd.DataFrame()\n",
    "df_score_depth[\"Depth\"] = para_depth\n",
    "df_score_depth[\"TrainScore\"] = train_score\n",
    "df_score_depth[\"TestScore\"] = test_score"
   ]
  },
  {
   "cell_type": "code",
   "execution_count": 36,
   "id": "77c6eccb",
   "metadata": {},
   "outputs": [
    {
     "data": {
      "text/html": [
       "<div>\n",
       "<style scoped>\n",
       "    .dataframe tbody tr th:only-of-type {\n",
       "        vertical-align: middle;\n",
       "    }\n",
       "\n",
       "    .dataframe tbody tr th {\n",
       "        vertical-align: top;\n",
       "    }\n",
       "\n",
       "    .dataframe thead th {\n",
       "        text-align: right;\n",
       "    }\n",
       "</style>\n",
       "<table border=\"1\" class=\"dataframe\">\n",
       "  <thead>\n",
       "    <tr style=\"text-align: right;\">\n",
       "      <th></th>\n",
       "      <th>Depth</th>\n",
       "      <th>TrainScore</th>\n",
       "      <th>TestScore</th>\n",
       "    </tr>\n",
       "  </thead>\n",
       "  <tbody>\n",
       "    <tr>\n",
       "      <th>0</th>\n",
       "      <td>1</td>\n",
       "      <td>0.283</td>\n",
       "      <td>0.247</td>\n",
       "    </tr>\n",
       "    <tr>\n",
       "      <th>1</th>\n",
       "      <td>2</td>\n",
       "      <td>0.441</td>\n",
       "      <td>0.347</td>\n",
       "    </tr>\n",
       "    <tr>\n",
       "      <th>2</th>\n",
       "      <td>3</td>\n",
       "      <td>0.510</td>\n",
       "      <td>0.348</td>\n",
       "    </tr>\n",
       "    <tr>\n",
       "      <th>3</th>\n",
       "      <td>4</td>\n",
       "      <td>0.552</td>\n",
       "      <td>0.379</td>\n",
       "    </tr>\n",
       "    <tr>\n",
       "      <th>4</th>\n",
       "      <td>5</td>\n",
       "      <td>0.585</td>\n",
       "      <td>0.303</td>\n",
       "    </tr>\n",
       "    <tr>\n",
       "      <th>5</th>\n",
       "      <td>6</td>\n",
       "      <td>0.611</td>\n",
       "      <td>0.349</td>\n",
       "    </tr>\n",
       "    <tr>\n",
       "      <th>6</th>\n",
       "      <td>7</td>\n",
       "      <td>0.612</td>\n",
       "      <td>0.353</td>\n",
       "    </tr>\n",
       "    <tr>\n",
       "      <th>7</th>\n",
       "      <td>8</td>\n",
       "      <td>0.612</td>\n",
       "      <td>0.353</td>\n",
       "    </tr>\n",
       "    <tr>\n",
       "      <th>8</th>\n",
       "      <td>9</td>\n",
       "      <td>0.612</td>\n",
       "      <td>0.353</td>\n",
       "    </tr>\n",
       "    <tr>\n",
       "      <th>9</th>\n",
       "      <td>10</td>\n",
       "      <td>0.612</td>\n",
       "      <td>0.353</td>\n",
       "    </tr>\n",
       "  </tbody>\n",
       "</table>\n",
       "</div>"
      ],
      "text/plain": [
       "   Depth  TrainScore  TestScore\n",
       "0      1       0.283      0.247\n",
       "1      2       0.441      0.347\n",
       "2      3       0.510      0.348\n",
       "3      4       0.552      0.379\n",
       "4      5       0.585      0.303\n",
       "5      6       0.611      0.349\n",
       "6      7       0.612      0.353\n",
       "7      8       0.612      0.353\n",
       "8      9       0.612      0.353\n",
       "9     10       0.612      0.353"
      ]
     },
     "execution_count": 36,
     "metadata": {},
     "output_type": "execute_result"
    }
   ],
   "source": [
    "df_score_depth.round(3)"
   ]
  },
  {
   "cell_type": "code",
   "execution_count": 37,
   "id": "6564b6c3",
   "metadata": {},
   "outputs": [
    {
     "data": {
      "text/plain": [
       "<matplotlib.legend.Legend at 0x7f68a5eebfd0>"
      ]
     },
     "execution_count": 37,
     "metadata": {},
     "output_type": "execute_result"
    },
    {
     "data": {
      "image/png": "[encoded data removed]",
      "text/plain": [
       "<Figure size 640x480 with 1 Axes>"
      ]
     },
     "metadata": {},
     "output_type": "display_data"
    }
   ],
   "source": [
    "plt.plot(para_depth, train_score, linestyle = \"-\", label = \"Train Score\")\n",
    "plt.plot(para_depth, test_score, linestyle = \"--\", label = \"Test Score\")\n",
    "plt.legend()"
   ]
  },
  {
   "cell_type": "markdown",
   "id": "0cabab25",
   "metadata": {},
   "source": [
    "#### - 조정된 모델의 파라미터"
   ]
  },
  {
   "cell_type": "code",
   "execution_count": 38,
   "id": "c59a467c",
   "metadata": {
    "scrolled": true
   },
   "outputs": [
    {
     "data": {
      "text/plain": [
       "{'ccp_alpha': 0.0,\n",
       " 'criterion': 'squared_error',\n",
       " 'max_depth': 5,\n",
       " 'max_features': None,\n",
       " 'max_leaf_nodes': None,\n",
       " 'min_impurity_decrease': 0.0,\n",
       " 'min_samples_leaf': 13,\n",
       " 'min_samples_split': 10,\n",
       " 'min_weight_fraction_leaf': 0.0,\n",
       " 'random_state': 20240305,\n",
       " 'splitter': 'best'}"
      ]
     },
     "execution_count": 38,
     "metadata": {},
     "output_type": "execute_result"
    }
   ],
   "source": [
    "v_feature_name = df_train_x.columns\n",
    "tree_final = DecisionTreeRegressor(min_samples_leaf = 13, min_samples_split = 10, max_depth = 5, random_state=20240305)\n",
    "tree_final.fit(df_train_x, df_train_y)\n",
    "tree_final.get_params()"
   ]
  },
  {
   "cell_type": "markdown",
   "id": "1d64c890",
   "metadata": {},
   "source": [
    "##### - 의사결정나무 시각화\n",
    "총 16개의 조건으로 분기하였으며, 조정된 파라미터에 따라 트리의 높이는 5에 맞게 생성되었다. 그러나 min_samples_leaf, min_samples_split은 각각 13, 10으로 조정되었는데, 이것은 사실 생길 수 없는 트리의 모형이다."
   ]
  },
  {
   "cell_type": "code",
   "execution_count": 39,
   "id": "793215be",
   "metadata": {},
   "outputs": [
    {
     "data": {
      "image/svg+xml": [
       "<?xml version=\"1.0\" encoding=\"UTF-8\" standalone=\"no\"?>\n",
       "<!DOCTYPE svg PUBLIC \"-//W3C//DTD SVG 1.1//EN\"\n",
       " \"http://www.w3.org/Graphics/SVG/1.1/DTD/svg11.dtd\">\n",
       "<!-- Generated by graphviz version 2.50.0 (0)\n",
       " -->\n",
       "<!-- Title: Tree Pages: 1 -->\n",
       "<svg width=\"2794pt\" height=\"581pt\"\n",
       " viewBox=\"0.00 0.00 2793.50 581.00\" xmlns=\"http://www.w3.org/2000/svg\" xmlns:xlink=\"http://www.w3.org/1999/xlink\">\n",
       "<g id=\"graph0\" class=\"graph\" transform=\"scale(1 1) rotate(0) translate(4 577)\">\n",
       "<title>Tree</title>\n",
       "<polygon fill=\"white\" stroke=\"transparent\" points=\"-4,4 -4,-577 2789.5,-577 2789.5,4 -4,4\"/>\n",
       "<!-- 0 -->\n",
       "<g id=\"node1\" class=\"node\">\n",
       "<title>0</title>\n",
       "<polygon fill=\"#f5cdb1\" stroke=\"black\" points=\"2033.5,-573 1832.5,-573 1832.5,-505 2033.5,-505 2033.5,-573\"/>\n",
       "<text text-anchor=\"middle\" x=\"1933\" y=\"-557.8\" font-family=\"Helvetica,sans-Serif\" font-size=\"14.00\">BMI &lt;= 26.85</text>\n",
       "<text text-anchor=\"middle\" x=\"1933\" y=\"-542.8\" font-family=\"Helvetica,sans-Serif\" font-size=\"14.00\">squared_error = 5717.871</text>\n",
       "<text text-anchor=\"middle\" x=\"1933\" y=\"-527.8\" font-family=\"Helvetica,sans-Serif\" font-size=\"14.00\">samples = 353</text>\n",
       "<text text-anchor=\"middle\" x=\"1933\" y=\"-512.8\" font-family=\"Helvetica,sans-Serif\" font-size=\"14.00\">value = 150.853</text>\n",
       "</g>\n",
       "<!-- 1 -->\n",
       "<g id=\"node2\" class=\"node\">\n",
       "<title>1</title>\n",
       "<polygon fill=\"#f9e1d0\" stroke=\"black\" points=\"1705.5,-469 1504.5,-469 1504.5,-401 1705.5,-401 1705.5,-469\"/>\n",
       "<text text-anchor=\"middle\" x=\"1605\" y=\"-453.8\" font-family=\"Helvetica,sans-Serif\" font-size=\"14.00\">LTG &lt;= 4.714</text>\n",
       "<text text-anchor=\"middle\" x=\"1605\" y=\"-438.8\" font-family=\"Helvetica,sans-Serif\" font-size=\"14.00\">squared_error = 3276.285</text>\n",
       "<text text-anchor=\"middle\" x=\"1605\" y=\"-423.8\" font-family=\"Helvetica,sans-Serif\" font-size=\"14.00\">samples = 214</text>\n",
       "<text text-anchor=\"middle\" x=\"1605\" y=\"-408.8\" font-family=\"Helvetica,sans-Serif\" font-size=\"14.00\">value = 118.449</text>\n",
       "</g>\n",
       "<!-- 0&#45;&gt;1 -->\n",
       "<g id=\"edge1\" class=\"edge\">\n",
       "<title>0&#45;&gt;1</title>\n",
       "<path fill=\"none\" stroke=\"black\" d=\"M1832.36,-506.7C1795.45,-495.23 1753.49,-482.18 1715.74,-470.44\"/>\n",
       "<polygon fill=\"black\" stroke=\"black\" points=\"1716.32,-466.95 1705.73,-467.33 1714.24,-473.64 1716.32,-466.95\"/>\n",
       "<text text-anchor=\"middle\" x=\"1717.36\" y=\"-485.75\" font-family=\"Helvetica,sans-Serif\" font-size=\"14.00\">True</text>\n",
       "</g>\n",
       "<!-- 22 -->\n",
       "<g id=\"node23\" class=\"node\">\n",
       "<title>22</title>\n",
       "<polygon fill=\"#eeaf81\" stroke=\"black\" points=\"2251.5,-469 2050.5,-469 2050.5,-401 2251.5,-401 2251.5,-469\"/>\n",
       "<text text-anchor=\"middle\" x=\"2151\" y=\"-453.8\" font-family=\"Helvetica,sans-Serif\" font-size=\"14.00\">GLUCOSE &lt;= 100.5</text>\n",
       "<text text-anchor=\"middle\" x=\"2151\" y=\"-438.8\" font-family=\"Helvetica,sans-Serif\" font-size=\"14.00\">squared_error = 5371.429</text>\n",
       "<text text-anchor=\"middle\" x=\"2151\" y=\"-423.8\" font-family=\"Helvetica,sans-Serif\" font-size=\"14.00\">samples = 139</text>\n",
       "<text text-anchor=\"middle\" x=\"2151\" y=\"-408.8\" font-family=\"Helvetica,sans-Serif\" font-size=\"14.00\">value = 200.741</text>\n",
       "</g>\n",
       "<!-- 0&#45;&gt;22 -->\n",
       "<g id=\"edge22\" class=\"edge\">\n",
       "<title>0&#45;&gt;22</title>\n",
       "<path fill=\"none\" stroke=\"black\" d=\"M2003.78,-504.88C2025.21,-494.86 2048.9,-483.77 2070.89,-473.48\"/>\n",
       "<polygon fill=\"black\" stroke=\"black\" points=\"2072.63,-476.53 2080.2,-469.12 2069.66,-470.19 2072.63,-476.53\"/>\n",
       "<text text-anchor=\"middle\" x=\"2071.68\" y=\"-488.93\" font-family=\"Helvetica,sans-Serif\" font-size=\"14.00\">False</text>\n",
       "</g>\n",
       "<!-- 2 -->\n",
       "<g id=\"node3\" class=\"node\">\n",
       "<title>2</title>\n",
       "<polygon fill=\"#fbece2\" stroke=\"black\" points=\"950.5,-365 749.5,-365 749.5,-297 950.5,-297 950.5,-365\"/>\n",
       "<text text-anchor=\"middle\" x=\"850\" y=\"-349.8\" font-family=\"Helvetica,sans-Serif\" font-size=\"14.00\">LTG &lt;= 4.167</text>\n",
       "<text text-anchor=\"middle\" x=\"850\" y=\"-334.8\" font-family=\"Helvetica,sans-Serif\" font-size=\"14.00\">squared_error = 2075.147</text>\n",
       "<text text-anchor=\"middle\" x=\"850\" y=\"-319.8\" font-family=\"Helvetica,sans-Serif\" font-size=\"14.00\">samples = 154</text>\n",
       "<text text-anchor=\"middle\" x=\"850\" y=\"-304.8\" font-family=\"Helvetica,sans-Serif\" font-size=\"14.00\">value = 99.753</text>\n",
       "</g>\n",
       "<!-- 1&#45;&gt;2 -->\n",
       "<g id=\"edge2\" class=\"edge\">\n",
       "<title>1&#45;&gt;2</title>\n",
       "<path fill=\"none\" stroke=\"black\" d=\"M1504.35,-420.4C1363.07,-401.32 1106.87,-366.7 960.47,-346.92\"/>\n",
       "<polygon fill=\"black\" stroke=\"black\" points=\"960.94,-343.46 950.56,-345.59 960,-350.39 960.94,-343.46\"/>\n",
       "</g>\n",
       "<!-- 15 -->\n",
       "<g id=\"node16\" class=\"node\">\n",
       "<title>15</title>\n",
       "<polygon fill=\"#f3c4a2\" stroke=\"black\" points=\"1705.5,-365 1504.5,-365 1504.5,-297 1705.5,-297 1705.5,-365\"/>\n",
       "<text text-anchor=\"middle\" x=\"1605\" y=\"-349.8\" font-family=\"Helvetica,sans-Serif\" font-size=\"14.00\">BP &lt;= 107.0</text>\n",
       "<text text-anchor=\"middle\" x=\"1605\" y=\"-334.8\" font-family=\"Helvetica,sans-Serif\" font-size=\"14.00\">squared_error = 3159.579</text>\n",
       "<text text-anchor=\"middle\" x=\"1605\" y=\"-319.8\" font-family=\"Helvetica,sans-Serif\" font-size=\"14.00\">samples = 60</text>\n",
       "<text text-anchor=\"middle\" x=\"1605\" y=\"-304.8\" font-family=\"Helvetica,sans-Serif\" font-size=\"14.00\">value = 166.433</text>\n",
       "</g>\n",
       "<!-- 1&#45;&gt;15 -->\n",
       "<g id=\"edge15\" class=\"edge\">\n",
       "<title>1&#45;&gt;15</title>\n",
       "<path fill=\"none\" stroke=\"black\" d=\"M1605,-400.88C1605,-392.78 1605,-383.98 1605,-375.47\"/>\n",
       "<polygon fill=\"black\" stroke=\"black\" points=\"1608.5,-375.3 1605,-365.3 1601.5,-375.3 1608.5,-375.3\"/>\n",
       "</g>\n",
       "<!-- 3 -->\n",
       "<g id=\"node4\" class=\"node\">\n",
       "<title>3</title>\n",
       "<polygon fill=\"#fdf7f2\" stroke=\"black\" points=\"623.5,-261 422.5,-261 422.5,-193 623.5,-193 623.5,-261\"/>\n",
       "<text text-anchor=\"middle\" x=\"523\" y=\"-245.8\" font-family=\"Helvetica,sans-Serif\" font-size=\"14.00\">CHOLESTEROL &lt;= 176.0</text>\n",
       "<text text-anchor=\"middle\" x=\"523\" y=\"-230.8\" font-family=\"Helvetica,sans-Serif\" font-size=\"14.00\">squared_error = 1233.735</text>\n",
       "<text text-anchor=\"middle\" x=\"523\" y=\"-215.8\" font-family=\"Helvetica,sans-Serif\" font-size=\"14.00\">samples = 52</text>\n",
       "<text text-anchor=\"middle\" x=\"523\" y=\"-200.8\" font-family=\"Helvetica,sans-Serif\" font-size=\"14.00\">value = 82.731</text>\n",
       "</g>\n",
       "<!-- 2&#45;&gt;3 -->\n",
       "<g id=\"edge3\" class=\"edge\">\n",
       "<title>2&#45;&gt;3</title>\n",
       "<path fill=\"none\" stroke=\"black\" d=\"M749.22,-298.56C712.62,-287.15 671.07,-274.19 633.65,-262.52\"/>\n",
       "<polygon fill=\"black\" stroke=\"black\" points=\"634.32,-259.06 623.73,-259.42 632.23,-265.74 634.32,-259.06\"/>\n",
       "</g>\n",
       "<!-- 8 -->\n",
       "<g id=\"node9\" class=\"node\">\n",
       "<title>8</title>\n",
       "<polygon fill=\"#fae7d9\" stroke=\"black\" points=\"950.5,-261 749.5,-261 749.5,-193 950.5,-193 950.5,-261\"/>\n",
       "<text text-anchor=\"middle\" x=\"850\" y=\"-245.8\" font-family=\"Helvetica,sans-Serif\" font-size=\"14.00\">HDL &lt;= 57.5</text>\n",
       "<text text-anchor=\"middle\" x=\"850\" y=\"-230.8\" font-family=\"Helvetica,sans-Serif\" font-size=\"14.00\">squared_error = 2281.069</text>\n",
       "<text text-anchor=\"middle\" x=\"850\" y=\"-215.8\" font-family=\"Helvetica,sans-Serif\" font-size=\"14.00\">samples = 102</text>\n",
       "<text text-anchor=\"middle\" x=\"850\" y=\"-200.8\" font-family=\"Helvetica,sans-Serif\" font-size=\"14.00\">value = 108.431</text>\n",
       "</g>\n",
       "<!-- 2&#45;&gt;8 -->\n",
       "<g id=\"edge8\" class=\"edge\">\n",
       "<title>2&#45;&gt;8</title>\n",
       "<path fill=\"none\" stroke=\"black\" d=\"M850,-296.88C850,-288.78 850,-279.98 850,-271.47\"/>\n",
       "<polygon fill=\"black\" stroke=\"black\" points=\"853.5,-271.3 850,-261.3 846.5,-271.3 853.5,-271.3\"/>\n",
       "</g>\n",
       "<!-- 4 -->\n",
       "<g id=\"node5\" class=\"node\">\n",
       "<title>4</title>\n",
       "<polygon fill=\"#fcf2ea\" stroke=\"black\" points=\"406.5,-157 205.5,-157 205.5,-89 406.5,-89 406.5,-157\"/>\n",
       "<text text-anchor=\"middle\" x=\"306\" y=\"-141.8\" font-family=\"Helvetica,sans-Serif\" font-size=\"14.00\">GENDER &lt;= 0.5</text>\n",
       "<text text-anchor=\"middle\" x=\"306\" y=\"-126.8\" font-family=\"Helvetica,sans-Serif\" font-size=\"14.00\">squared_error = 1472.911</text>\n",
       "<text text-anchor=\"middle\" x=\"306\" y=\"-111.8\" font-family=\"Helvetica,sans-Serif\" font-size=\"14.00\">samples = 33</text>\n",
       "<text text-anchor=\"middle\" x=\"306\" y=\"-96.8\" font-family=\"Helvetica,sans-Serif\" font-size=\"14.00\">value = 90.576</text>\n",
       "</g>\n",
       "<!-- 3&#45;&gt;4 -->\n",
       "<g id=\"edge4\" class=\"edge\">\n",
       "<title>3&#45;&gt;4</title>\n",
       "<path fill=\"none\" stroke=\"black\" d=\"M452.55,-192.88C431.21,-182.86 407.64,-171.77 385.74,-161.48\"/>\n",
       "<polygon fill=\"black\" stroke=\"black\" points=\"387.01,-158.21 376.47,-157.12 384.03,-164.55 387.01,-158.21\"/>\n",
       "</g>\n",
       "<!-- 7 -->\n",
       "<g id=\"node8\" class=\"node\">\n",
       "<title>7</title>\n",
       "<polygon fill=\"#ffffff\" stroke=\"black\" points=\"619,-149.5 427,-149.5 427,-96.5 619,-96.5 619,-149.5\"/>\n",
       "<text text-anchor=\"middle\" x=\"523\" y=\"-134.3\" font-family=\"Helvetica,sans-Serif\" font-size=\"14.00\">squared_error = 525.778</text>\n",
       "<text text-anchor=\"middle\" x=\"523\" y=\"-119.3\" font-family=\"Helvetica,sans-Serif\" font-size=\"14.00\">samples = 19</text>\n",
       "<text text-anchor=\"middle\" x=\"523\" y=\"-104.3\" font-family=\"Helvetica,sans-Serif\" font-size=\"14.00\">value = 69.105</text>\n",
       "</g>\n",
       "<!-- 3&#45;&gt;7 -->\n",
       "<g id=\"edge7\" class=\"edge\">\n",
       "<title>3&#45;&gt;7</title>\n",
       "<path fill=\"none\" stroke=\"black\" d=\"M523,-192.88C523,-182.33 523,-170.6 523,-159.85\"/>\n",
       "<polygon fill=\"black\" stroke=\"black\" points=\"526.5,-159.52 523,-149.52 519.5,-159.52 526.5,-159.52\"/>\n",
       "</g>\n",
       "<!-- 5 -->\n",
       "<g id=\"node6\" class=\"node\">\n",
       "<title>5</title>\n",
       "<polygon fill=\"#fbede3\" stroke=\"black\" points=\"192,-53 0,-53 0,0 192,0 192,-53\"/>\n",
       "<text text-anchor=\"middle\" x=\"96\" y=\"-37.8\" font-family=\"Helvetica,sans-Serif\" font-size=\"14.00\">squared_error = 1786.01</text>\n",
       "<text text-anchor=\"middle\" x=\"96\" y=\"-22.8\" font-family=\"Helvetica,sans-Serif\" font-size=\"14.00\">samples = 20</text>\n",
       "<text text-anchor=\"middle\" x=\"96\" y=\"-7.8\" font-family=\"Helvetica,sans-Serif\" font-size=\"14.00\">value = 98.7</text>\n",
       "</g>\n",
       "<!-- 4&#45;&gt;5 -->\n",
       "<g id=\"edge5\" class=\"edge\">\n",
       "<title>4&#45;&gt;5</title>\n",
       "<path fill=\"none\" stroke=\"black\" d=\"M232.55,-88.95C209.68,-78.66 184.61,-67.37 162.26,-57.32\"/>\n",
       "<polygon fill=\"black\" stroke=\"black\" points=\"163.41,-54 152.86,-53.09 160.54,-60.38 163.41,-54\"/>\n",
       "</g>\n",
       "<!-- 6 -->\n",
       "<g id=\"node7\" class=\"node\">\n",
       "<title>6</title>\n",
       "<polygon fill=\"#fefaf6\" stroke=\"black\" points=\"402,-53 210,-53 210,0 402,0 402,-53\"/>\n",
       "<text text-anchor=\"middle\" x=\"306\" y=\"-37.8\" font-family=\"Helvetica,sans-Serif\" font-size=\"14.00\">squared_error = 733.456</text>\n",
       "<text text-anchor=\"middle\" x=\"306\" y=\"-22.8\" font-family=\"Helvetica,sans-Serif\" font-size=\"14.00\">samples = 13</text>\n",
       "<text text-anchor=\"middle\" x=\"306\" y=\"-7.8\" font-family=\"Helvetica,sans-Serif\" font-size=\"14.00\">value = 78.077</text>\n",
       "</g>\n",
       "<!-- 4&#45;&gt;6 -->\n",
       "<g id=\"edge6\" class=\"edge\">\n",
       "<title>4&#45;&gt;6</title>\n",
       "<path fill=\"none\" stroke=\"black\" d=\"M306,-88.95C306,-80.72 306,-71.85 306,-63.48\"/>\n",
       "<polygon fill=\"black\" stroke=\"black\" points=\"309.5,-63.24 306,-53.24 302.5,-63.24 309.5,-63.24\"/>\n",
       "</g>\n",
       "<!-- 9 -->\n",
       "<g id=\"node10\" class=\"node\">\n",
       "<title>9</title>\n",
       "<polygon fill=\"#f9e1cf\" stroke=\"black\" points=\"838.5,-157 637.5,-157 637.5,-89 838.5,-89 838.5,-157\"/>\n",
       "<text text-anchor=\"middle\" x=\"738\" y=\"-141.8\" font-family=\"Helvetica,sans-Serif\" font-size=\"14.00\">LDL &lt;= 130.2</text>\n",
       "<text text-anchor=\"middle\" x=\"738\" y=\"-126.8\" font-family=\"Helvetica,sans-Serif\" font-size=\"14.00\">squared_error = 2766.505</text>\n",
       "<text text-anchor=\"middle\" x=\"738\" y=\"-111.8\" font-family=\"Helvetica,sans-Serif\" font-size=\"14.00\">samples = 61</text>\n",
       "<text text-anchor=\"middle\" x=\"738\" y=\"-96.8\" font-family=\"Helvetica,sans-Serif\" font-size=\"14.00\">value = 118.77</text>\n",
       "</g>\n",
       "<!-- 8&#45;&gt;9 -->\n",
       "<g id=\"edge9\" class=\"edge\">\n",
       "<title>8&#45;&gt;9</title>\n",
       "<path fill=\"none\" stroke=\"black\" d=\"M813.64,-192.88C803.56,-183.71 792.52,-173.65 782.06,-164.12\"/>\n",
       "<polygon fill=\"black\" stroke=\"black\" points=\"784.31,-161.44 774.56,-157.3 779.6,-166.62 784.31,-161.44\"/>\n",
       "</g>\n",
       "<!-- 12 -->\n",
       "<g id=\"node13\" class=\"node\">\n",
       "<title>12</title>\n",
       "<polygon fill=\"#fcf0e8\" stroke=\"black\" points=\"1057.5,-157 856.5,-157 856.5,-89 1057.5,-89 1057.5,-157\"/>\n",
       "<text text-anchor=\"middle\" x=\"957\" y=\"-141.8\" font-family=\"Helvetica,sans-Serif\" font-size=\"14.00\">BP &lt;= 88.5</text>\n",
       "<text text-anchor=\"middle\" x=\"957\" y=\"-126.8\" font-family=\"Helvetica,sans-Serif\" font-size=\"14.00\">squared_error = 1163.168</text>\n",
       "<text text-anchor=\"middle\" x=\"957\" y=\"-111.8\" font-family=\"Helvetica,sans-Serif\" font-size=\"14.00\">samples = 41</text>\n",
       "<text text-anchor=\"middle\" x=\"957\" y=\"-96.8\" font-family=\"Helvetica,sans-Serif\" font-size=\"14.00\">value = 93.049</text>\n",
       "</g>\n",
       "<!-- 8&#45;&gt;12 -->\n",
       "<g id=\"edge12\" class=\"edge\">\n",
       "<title>8&#45;&gt;12</title>\n",
       "<path fill=\"none\" stroke=\"black\" d=\"M884.74,-192.88C894.27,-183.8 904.71,-173.85 914.62,-164.4\"/>\n",
       "<polygon fill=\"black\" stroke=\"black\" points=\"917.25,-166.73 922.07,-157.3 912.42,-161.67 917.25,-166.73\"/>\n",
       "</g>\n",
       "<!-- 10 -->\n",
       "<g id=\"node11\" class=\"node\">\n",
       "<title>10</title>\n",
       "<polygon fill=\"#fae5d7\" stroke=\"black\" points=\"621.5,-53 420.5,-53 420.5,0 621.5,0 621.5,-53\"/>\n",
       "<text text-anchor=\"middle\" x=\"521\" y=\"-37.8\" font-family=\"Helvetica,sans-Serif\" font-size=\"14.00\">squared_error = 2332.971</text>\n",
       "<text text-anchor=\"middle\" x=\"521\" y=\"-22.8\" font-family=\"Helvetica,sans-Serif\" font-size=\"14.00\">samples = 47</text>\n",
       "<text text-anchor=\"middle\" x=\"521\" y=\"-7.8\" font-family=\"Helvetica,sans-Serif\" font-size=\"14.00\">value = 111.085</text>\n",
       "</g>\n",
       "<!-- 9&#45;&gt;10 -->\n",
       "<g id=\"edge10\" class=\"edge\">\n",
       "<title>9&#45;&gt;10</title>\n",
       "<path fill=\"none\" stroke=\"black\" d=\"M662.1,-88.95C638.36,-78.61 612.33,-67.27 589.16,-57.18\"/>\n",
       "<polygon fill=\"black\" stroke=\"black\" points=\"590.32,-53.87 579.75,-53.09 587.53,-60.29 590.32,-53.87\"/>\n",
       "</g>\n",
       "<!-- 11 -->\n",
       "<g id=\"node12\" class=\"node\">\n",
       "<title>11</title>\n",
       "<polygon fill=\"#f5d1b7\" stroke=\"black\" points=\"840.5,-53 639.5,-53 639.5,0 840.5,0 840.5,-53\"/>\n",
       "<text text-anchor=\"middle\" x=\"740\" y=\"-37.8\" font-family=\"Helvetica,sans-Serif\" font-size=\"14.00\">squared_error = 3357.959</text>\n",
       "<text text-anchor=\"middle\" x=\"740\" y=\"-22.8\" font-family=\"Helvetica,sans-Serif\" font-size=\"14.00\">samples = 14</text>\n",
       "<text text-anchor=\"middle\" x=\"740\" y=\"-7.8\" font-family=\"Helvetica,sans-Serif\" font-size=\"14.00\">value = 144.571</text>\n",
       "</g>\n",
       "<!-- 9&#45;&gt;11 -->\n",
       "<g id=\"edge11\" class=\"edge\">\n",
       "<title>9&#45;&gt;11</title>\n",
       "<path fill=\"none\" stroke=\"black\" d=\"M738.7,-88.95C738.87,-80.72 739.06,-71.85 739.24,-63.48\"/>\n",
       "<polygon fill=\"black\" stroke=\"black\" points=\"742.74,-63.31 739.46,-53.24 735.74,-63.16 742.74,-63.31\"/>\n",
       "</g>\n",
       "<!-- 13 -->\n",
       "<g id=\"node14\" class=\"node\">\n",
       "<title>13</title>\n",
       "<polygon fill=\"#fefaf7\" stroke=\"black\" points=\"1051,-53 859,-53 859,0 1051,0 1051,-53\"/>\n",
       "<text text-anchor=\"middle\" x=\"955\" y=\"-37.8\" font-family=\"Helvetica,sans-Serif\" font-size=\"14.00\">squared_error = 745.219</text>\n",
       "<text text-anchor=\"middle\" x=\"955\" y=\"-22.8\" font-family=\"Helvetica,sans-Serif\" font-size=\"14.00\">samples = 19</text>\n",
       "<text text-anchor=\"middle\" x=\"955\" y=\"-7.8\" font-family=\"Helvetica,sans-Serif\" font-size=\"14.00\">value = 77.789</text>\n",
       "</g>\n",
       "<!-- 12&#45;&gt;13 -->\n",
       "<g id=\"edge13\" class=\"edge\">\n",
       "<title>12&#45;&gt;13</title>\n",
       "<path fill=\"none\" stroke=\"black\" d=\"M956.3,-88.95C956.13,-80.72 955.94,-71.85 955.76,-63.48\"/>\n",
       "<polygon fill=\"black\" stroke=\"black\" points=\"959.26,-63.16 955.54,-53.24 952.26,-63.31 959.26,-63.16\"/>\n",
       "</g>\n",
       "<!-- 14 -->\n",
       "<g id=\"node15\" class=\"node\">\n",
       "<title>14</title>\n",
       "<polygon fill=\"#fae8db\" stroke=\"black\" points=\"1270.5,-53 1069.5,-53 1069.5,0 1270.5,0 1270.5,-53\"/>\n",
       "<text text-anchor=\"middle\" x=\"1170\" y=\"-37.8\" font-family=\"Helvetica,sans-Serif\" font-size=\"14.00\">squared_error = 1149.357</text>\n",
       "<text text-anchor=\"middle\" x=\"1170\" y=\"-22.8\" font-family=\"Helvetica,sans-Serif\" font-size=\"14.00\">samples = 22</text>\n",
       "<text text-anchor=\"middle\" x=\"1170\" y=\"-7.8\" font-family=\"Helvetica,sans-Serif\" font-size=\"14.00\">value = 106.227</text>\n",
       "</g>\n",
       "<!-- 12&#45;&gt;14 -->\n",
       "<g id=\"edge14\" class=\"edge\">\n",
       "<title>12&#45;&gt;14</title>\n",
       "<path fill=\"none\" stroke=\"black\" d=\"M1031.5,-88.95C1054.8,-78.61 1080.35,-67.27 1103.1,-57.18\"/>\n",
       "<polygon fill=\"black\" stroke=\"black\" points=\"1104.61,-60.34 1112.33,-53.09 1101.77,-53.94 1104.61,-60.34\"/>\n",
       "</g>\n",
       "<!-- 16 -->\n",
       "<g id=\"node17\" class=\"node\">\n",
       "<title>16</title>\n",
       "<polygon fill=\"#f4caac\" stroke=\"black\" points=\"1598.5,-261 1397.5,-261 1397.5,-193 1598.5,-193 1598.5,-261\"/>\n",
       "<text text-anchor=\"middle\" x=\"1498\" y=\"-245.8\" font-family=\"Helvetica,sans-Serif\" font-size=\"14.00\">BP &lt;= 95.0</text>\n",
       "<text text-anchor=\"middle\" x=\"1498\" y=\"-230.8\" font-family=\"Helvetica,sans-Serif\" font-size=\"14.00\">squared_error = 2901.509</text>\n",
       "<text text-anchor=\"middle\" x=\"1498\" y=\"-215.8\" font-family=\"Helvetica,sans-Serif\" font-size=\"14.00\">samples = 45</text>\n",
       "<text text-anchor=\"middle\" x=\"1498\" y=\"-200.8\" font-family=\"Helvetica,sans-Serif\" font-size=\"14.00\">value = 156.044</text>\n",
       "</g>\n",
       "<!-- 15&#45;&gt;16 -->\n",
       "<g id=\"edge16\" class=\"edge\">\n",
       "<title>15&#45;&gt;16</title>\n",
       "<path fill=\"none\" stroke=\"black\" d=\"M1570.26,-296.88C1560.73,-287.8 1550.29,-277.85 1540.38,-268.4\"/>\n",
       "<polygon fill=\"black\" stroke=\"black\" points=\"1542.58,-265.67 1532.93,-261.3 1537.75,-270.73 1542.58,-265.67\"/>\n",
       "</g>\n",
       "<!-- 21 -->\n",
       "<g id=\"node22\" class=\"node\">\n",
       "<title>21</title>\n",
       "<polygon fill=\"#efb184\" stroke=\"black\" points=\"1809,-253.5 1617,-253.5 1617,-200.5 1809,-200.5 1809,-253.5\"/>\n",
       "<text text-anchor=\"middle\" x=\"1713\" y=\"-238.3\" font-family=\"Helvetica,sans-Serif\" font-size=\"14.00\">squared_error = 2638.64</text>\n",
       "<text text-anchor=\"middle\" x=\"1713\" y=\"-223.3\" font-family=\"Helvetica,sans-Serif\" font-size=\"14.00\">samples = 15</text>\n",
       "<text text-anchor=\"middle\" x=\"1713\" y=\"-208.3\" font-family=\"Helvetica,sans-Serif\" font-size=\"14.00\">value = 197.6</text>\n",
       "</g>\n",
       "<!-- 15&#45;&gt;21 -->\n",
       "<g id=\"edge21\" class=\"edge\">\n",
       "<title>15&#45;&gt;21</title>\n",
       "<path fill=\"none\" stroke=\"black\" d=\"M1640.06,-296.88C1652.41,-285.23 1666.26,-272.14 1678.55,-260.53\"/>\n",
       "<polygon fill=\"black\" stroke=\"black\" points=\"1681.11,-262.93 1685.98,-253.52 1676.31,-257.84 1681.11,-262.93\"/>\n",
       "</g>\n",
       "<!-- 17 -->\n",
       "<g id=\"node18\" class=\"node\">\n",
       "<title>17</title>\n",
       "<polygon fill=\"#f2c09c\" stroke=\"black\" points=\"1489.5,-157 1288.5,-157 1288.5,-89 1489.5,-89 1489.5,-157\"/>\n",
       "<text text-anchor=\"middle\" x=\"1389\" y=\"-141.8\" font-family=\"Helvetica,sans-Serif\" font-size=\"14.00\">BP &lt;= 85.335</text>\n",
       "<text text-anchor=\"middle\" x=\"1389\" y=\"-126.8\" font-family=\"Helvetica,sans-Serif\" font-size=\"14.00\">squared_error = 2806.644</text>\n",
       "<text text-anchor=\"middle\" x=\"1389\" y=\"-111.8\" font-family=\"Helvetica,sans-Serif\" font-size=\"14.00\">samples = 29</text>\n",
       "<text text-anchor=\"middle\" x=\"1389\" y=\"-96.8\" font-family=\"Helvetica,sans-Serif\" font-size=\"14.00\">value = 172.103</text>\n",
       "</g>\n",
       "<!-- 16&#45;&gt;17 -->\n",
       "<g id=\"edge17\" class=\"edge\">\n",
       "<title>16&#45;&gt;17</title>\n",
       "<path fill=\"none\" stroke=\"black\" d=\"M1462.61,-192.88C1452.9,-183.8 1442.27,-173.85 1432.17,-164.4\"/>\n",
       "<polygon fill=\"black\" stroke=\"black\" points=\"1434.28,-161.58 1424.58,-157.3 1429.49,-166.69 1434.28,-161.58\"/>\n",
       "</g>\n",
       "<!-- 20 -->\n",
       "<g id=\"node21\" class=\"node\">\n",
       "<title>20</title>\n",
       "<polygon fill=\"#f8dcc8\" stroke=\"black\" points=\"1708.5,-149.5 1507.5,-149.5 1507.5,-96.5 1708.5,-96.5 1708.5,-149.5\"/>\n",
       "<text text-anchor=\"middle\" x=\"1608\" y=\"-134.3\" font-family=\"Helvetica,sans-Serif\" font-size=\"14.00\">squared_error = 1758.809</text>\n",
       "<text text-anchor=\"middle\" x=\"1608\" y=\"-119.3\" font-family=\"Helvetica,sans-Serif\" font-size=\"14.00\">samples = 16</text>\n",
       "<text text-anchor=\"middle\" x=\"1608\" y=\"-104.3\" font-family=\"Helvetica,sans-Serif\" font-size=\"14.00\">value = 126.938</text>\n",
       "</g>\n",
       "<!-- 16&#45;&gt;20 -->\n",
       "<g id=\"edge20\" class=\"edge\">\n",
       "<title>16&#45;&gt;20</title>\n",
       "<path fill=\"none\" stroke=\"black\" d=\"M1533.71,-192.88C1546.29,-181.23 1560.4,-168.14 1572.92,-156.53\"/>\n",
       "<polygon fill=\"black\" stroke=\"black\" points=\"1575.53,-158.89 1580.48,-149.52 1570.77,-153.75 1575.53,-158.89\"/>\n",
       "</g>\n",
       "<!-- 18 -->\n",
       "<g id=\"node19\" class=\"node\">\n",
       "<title>18</title>\n",
       "<polygon fill=\"#f6d3ba\" stroke=\"black\" points=\"1489.5,-53 1288.5,-53 1288.5,0 1489.5,0 1489.5,-53\"/>\n",
       "<text text-anchor=\"middle\" x=\"1389\" y=\"-37.8\" font-family=\"Helvetica,sans-Serif\" font-size=\"14.00\">squared_error = 2039.822</text>\n",
       "<text text-anchor=\"middle\" x=\"1389\" y=\"-22.8\" font-family=\"Helvetica,sans-Serif\" font-size=\"14.00\">samples = 15</text>\n",
       "<text text-anchor=\"middle\" x=\"1389\" y=\"-7.8\" font-family=\"Helvetica,sans-Serif\" font-size=\"14.00\">value = 140.667</text>\n",
       "</g>\n",
       "<!-- 17&#45;&gt;18 -->\n",
       "<g id=\"edge18\" class=\"edge\">\n",
       "<title>17&#45;&gt;18</title>\n",
       "<path fill=\"none\" stroke=\"black\" d=\"M1389,-88.95C1389,-80.72 1389,-71.85 1389,-63.48\"/>\n",
       "<polygon fill=\"black\" stroke=\"black\" points=\"1392.5,-63.24 1389,-53.24 1385.5,-63.24 1392.5,-63.24\"/>\n",
       "</g>\n",
       "<!-- 19 -->\n",
       "<g id=\"node20\" class=\"node\">\n",
       "<title>19</title>\n",
       "<polygon fill=\"#eeac7c\" stroke=\"black\" points=\"1708.5,-53 1507.5,-53 1507.5,0 1708.5,0 1708.5,-53\"/>\n",
       "<text text-anchor=\"middle\" x=\"1608\" y=\"-37.8\" font-family=\"Helvetica,sans-Serif\" font-size=\"14.00\">squared_error = 1434.883</text>\n",
       "<text text-anchor=\"middle\" x=\"1608\" y=\"-22.8\" font-family=\"Helvetica,sans-Serif\" font-size=\"14.00\">samples = 14</text>\n",
       "<text text-anchor=\"middle\" x=\"1608\" y=\"-7.8\" font-family=\"Helvetica,sans-Serif\" font-size=\"14.00\">value = 205.786</text>\n",
       "</g>\n",
       "<!-- 17&#45;&gt;19 -->\n",
       "<g id=\"edge19\" class=\"edge\">\n",
       "<title>17&#45;&gt;19</title>\n",
       "<path fill=\"none\" stroke=\"black\" d=\"M1465.6,-88.95C1489.55,-78.61 1515.83,-67.27 1539.22,-57.18\"/>\n",
       "<polygon fill=\"black\" stroke=\"black\" points=\"1540.91,-60.26 1548.7,-53.09 1538.14,-53.84 1540.91,-60.26\"/>\n",
       "</g>\n",
       "<!-- 23 -->\n",
       "<g id=\"node24\" class=\"node\">\n",
       "<title>23</title>\n",
       "<polygon fill=\"#f1ba93\" stroke=\"black\" points=\"2251.5,-365 2050.5,-365 2050.5,-297 2251.5,-297 2251.5,-365\"/>\n",
       "<text text-anchor=\"middle\" x=\"2151\" y=\"-349.8\" font-family=\"Helvetica,sans-Serif\" font-size=\"14.00\">BP &lt;= 108.0</text>\n",
       "<text text-anchor=\"middle\" x=\"2151\" y=\"-334.8\" font-family=\"Helvetica,sans-Serif\" font-size=\"14.00\">squared_error = 4762.612</text>\n",
       "<text text-anchor=\"middle\" x=\"2151\" y=\"-319.8\" font-family=\"Helvetica,sans-Serif\" font-size=\"14.00\">samples = 100</text>\n",
       "<text text-anchor=\"middle\" x=\"2151\" y=\"-304.8\" font-family=\"Helvetica,sans-Serif\" font-size=\"14.00\">value = 181.78</text>\n",
       "</g>\n",
       "<!-- 22&#45;&gt;23 -->\n",
       "<g id=\"edge23\" class=\"edge\">\n",
       "<title>22&#45;&gt;23</title>\n",
       "<path fill=\"none\" stroke=\"black\" d=\"M2151,-400.88C2151,-392.78 2151,-383.98 2151,-375.47\"/>\n",
       "<polygon fill=\"black\" stroke=\"black\" points=\"2154.5,-375.3 2151,-365.3 2147.5,-375.3 2154.5,-375.3\"/>\n",
       "</g>\n",
       "<!-- 32 -->\n",
       "<g id=\"node33\" class=\"node\">\n",
       "<title>32</title>\n",
       "<polygon fill=\"#e89152\" stroke=\"black\" points=\"2575.5,-365 2374.5,-365 2374.5,-297 2575.5,-297 2575.5,-365\"/>\n",
       "<text text-anchor=\"middle\" x=\"2475\" y=\"-349.8\" font-family=\"Helvetica,sans-Serif\" font-size=\"14.00\">AGE &lt;= 53.5</text>\n",
       "<text text-anchor=\"middle\" x=\"2475\" y=\"-334.8\" font-family=\"Helvetica,sans-Serif\" font-size=\"14.00\">squared_error = 3646.948</text>\n",
       "<text text-anchor=\"middle\" x=\"2475\" y=\"-319.8\" font-family=\"Helvetica,sans-Serif\" font-size=\"14.00\">samples = 39</text>\n",
       "<text text-anchor=\"middle\" x=\"2475\" y=\"-304.8\" font-family=\"Helvetica,sans-Serif\" font-size=\"14.00\">value = 249.359</text>\n",
       "</g>\n",
       "<!-- 22&#45;&gt;32 -->\n",
       "<g id=\"edge32\" class=\"edge\">\n",
       "<title>22&#45;&gt;32</title>\n",
       "<path fill=\"none\" stroke=\"black\" d=\"M2251.74,-402.29C2287.55,-391.01 2328.04,-378.26 2364.62,-366.75\"/>\n",
       "<polygon fill=\"black\" stroke=\"black\" points=\"2365.84,-370.04 2374.32,-363.69 2363.73,-363.36 2365.84,-370.04\"/>\n",
       "</g>\n",
       "<!-- 24 -->\n",
       "<g id=\"node25\" class=\"node\">\n",
       "<title>24</title>\n",
       "<polygon fill=\"#f3c5a3\" stroke=\"black\" points=\"2146.5,-261 1945.5,-261 1945.5,-193 2146.5,-193 2146.5,-261\"/>\n",
       "<text text-anchor=\"middle\" x=\"2046\" y=\"-245.8\" font-family=\"Helvetica,sans-Serif\" font-size=\"14.00\">LTG &lt;= 4.369</text>\n",
       "<text text-anchor=\"middle\" x=\"2046\" y=\"-230.8\" font-family=\"Helvetica,sans-Serif\" font-size=\"14.00\">squared_error = 4210.685</text>\n",
       "<text text-anchor=\"middle\" x=\"2046\" y=\"-215.8\" font-family=\"Helvetica,sans-Serif\" font-size=\"14.00\">samples = 72</text>\n",
       "<text text-anchor=\"middle\" x=\"2046\" y=\"-200.8\" font-family=\"Helvetica,sans-Serif\" font-size=\"14.00\">value = 164.847</text>\n",
       "</g>\n",
       "<!-- 23&#45;&gt;24 -->\n",
       "<g id=\"edge24\" class=\"edge\">\n",
       "<title>23&#45;&gt;24</title>\n",
       "<path fill=\"none\" stroke=\"black\" d=\"M2116.91,-296.88C2107.56,-287.8 2097.31,-277.85 2087.59,-268.4\"/>\n",
       "<polygon fill=\"black\" stroke=\"black\" points=\"2089.89,-265.76 2080.28,-261.3 2085.01,-270.78 2089.89,-265.76\"/>\n",
       "</g>\n",
       "<!-- 29 -->\n",
       "<g id=\"node30\" class=\"node\">\n",
       "<title>29</title>\n",
       "<polygon fill=\"#eba069\" stroke=\"black\" points=\"2365.5,-261 2164.5,-261 2164.5,-193 2365.5,-193 2365.5,-261\"/>\n",
       "<text text-anchor=\"middle\" x=\"2265\" y=\"-245.8\" font-family=\"Helvetica,sans-Serif\" font-size=\"14.00\">BMI &lt;= 30.45</text>\n",
       "<text text-anchor=\"middle\" x=\"2265\" y=\"-230.8\" font-family=\"Helvetica,sans-Serif\" font-size=\"14.00\">squared_error = 3548.718</text>\n",
       "<text text-anchor=\"middle\" x=\"2265\" y=\"-215.8\" font-family=\"Helvetica,sans-Serif\" font-size=\"14.00\">samples = 28</text>\n",
       "<text text-anchor=\"middle\" x=\"2265\" y=\"-200.8\" font-family=\"Helvetica,sans-Serif\" font-size=\"14.00\">value = 225.321</text>\n",
       "</g>\n",
       "<!-- 23&#45;&gt;29 -->\n",
       "<g id=\"edge29\" class=\"edge\">\n",
       "<title>23&#45;&gt;29</title>\n",
       "<path fill=\"none\" stroke=\"black\" d=\"M2188.01,-296.88C2198.27,-287.71 2209.51,-277.65 2220.16,-268.12\"/>\n",
       "<polygon fill=\"black\" stroke=\"black\" points=\"2222.66,-270.58 2227.78,-261.3 2218,-265.36 2222.66,-270.58\"/>\n",
       "</g>\n",
       "<!-- 25 -->\n",
       "<g id=\"node26\" class=\"node\">\n",
       "<title>25</title>\n",
       "<polygon fill=\"#f6d5bd\" stroke=\"black\" points=\"1927.5,-149.5 1726.5,-149.5 1726.5,-96.5 1927.5,-96.5 1927.5,-149.5\"/>\n",
       "<text text-anchor=\"middle\" x=\"1827\" y=\"-134.3\" font-family=\"Helvetica,sans-Serif\" font-size=\"14.00\">squared_error = 2025.522</text>\n",
       "<text text-anchor=\"middle\" x=\"1827\" y=\"-119.3\" font-family=\"Helvetica,sans-Serif\" font-size=\"14.00\">samples = 17</text>\n",
       "<text text-anchor=\"middle\" x=\"1827\" y=\"-104.3\" font-family=\"Helvetica,sans-Serif\" font-size=\"14.00\">value = 138.353</text>\n",
       "</g>\n",
       "<!-- 24&#45;&gt;25 -->\n",
       "<g id=\"edge25\" class=\"edge\">\n",
       "<title>24&#45;&gt;25</title>\n",
       "<path fill=\"none\" stroke=\"black\" d=\"M1974.9,-192.88C1947.86,-180.29 1917.25,-166.03 1890.92,-153.77\"/>\n",
       "<polygon fill=\"black\" stroke=\"black\" points=\"1892.34,-150.57 1881.79,-149.52 1889.38,-156.91 1892.34,-150.57\"/>\n",
       "</g>\n",
       "<!-- 26 -->\n",
       "<g id=\"node27\" class=\"node\">\n",
       "<title>26</title>\n",
       "<polygon fill=\"#f2c09b\" stroke=\"black\" points=\"2146.5,-157 1945.5,-157 1945.5,-89 2146.5,-89 2146.5,-157\"/>\n",
       "<text text-anchor=\"middle\" x=\"2046\" y=\"-141.8\" font-family=\"Helvetica,sans-Serif\" font-size=\"14.00\">LDL &lt;= 125.1</text>\n",
       "<text text-anchor=\"middle\" x=\"2046\" y=\"-126.8\" font-family=\"Helvetica,sans-Serif\" font-size=\"14.00\">squared_error = 4602.071</text>\n",
       "<text text-anchor=\"middle\" x=\"2046\" y=\"-111.8\" font-family=\"Helvetica,sans-Serif\" font-size=\"14.00\">samples = 55</text>\n",
       "<text text-anchor=\"middle\" x=\"2046\" y=\"-96.8\" font-family=\"Helvetica,sans-Serif\" font-size=\"14.00\">value = 173.036</text>\n",
       "</g>\n",
       "<!-- 24&#45;&gt;26 -->\n",
       "<g id=\"edge26\" class=\"edge\">\n",
       "<title>24&#45;&gt;26</title>\n",
       "<path fill=\"none\" stroke=\"black\" d=\"M2046,-192.88C2046,-184.78 2046,-175.98 2046,-167.47\"/>\n",
       "<polygon fill=\"black\" stroke=\"black\" points=\"2049.5,-167.3 2046,-157.3 2042.5,-167.3 2049.5,-167.3\"/>\n",
       "</g>\n",
       "<!-- 27 -->\n",
       "<g id=\"node28\" class=\"node\">\n",
       "<title>27</title>\n",
       "<polygon fill=\"#f4caab\" stroke=\"black\" points=\"2035,-53 1843,-53 1843,0 2035,0 2035,-53\"/>\n",
       "<text text-anchor=\"middle\" x=\"1939\" y=\"-37.8\" font-family=\"Helvetica,sans-Serif\" font-size=\"14.00\">squared_error = 5859.45</text>\n",
       "<text text-anchor=\"middle\" x=\"1939\" y=\"-22.8\" font-family=\"Helvetica,sans-Serif\" font-size=\"14.00\">samples = 25</text>\n",
       "<text text-anchor=\"middle\" x=\"1939\" y=\"-7.8\" font-family=\"Helvetica,sans-Serif\" font-size=\"14.00\">value = 156.48</text>\n",
       "</g>\n",
       "<!-- 26&#45;&gt;27 -->\n",
       "<g id=\"edge27\" class=\"edge\">\n",
       "<title>26&#45;&gt;27</title>\n",
       "<path fill=\"none\" stroke=\"black\" d=\"M2008.58,-88.95C1997.91,-79.53 1986.3,-69.27 1975.68,-59.89\"/>\n",
       "<polygon fill=\"black\" stroke=\"black\" points=\"1977.95,-57.23 1968.14,-53.24 1973.32,-62.48 1977.95,-57.23\"/>\n",
       "</g>\n",
       "<!-- 28 -->\n",
       "<g id=\"node29\" class=\"node\">\n",
       "<title>28</title>\n",
       "<polygon fill=\"#f0b78e\" stroke=\"black\" points=\"2254.5,-53 2053.5,-53 2053.5,0 2254.5,0 2254.5,-53\"/>\n",
       "<text text-anchor=\"middle\" x=\"2154\" y=\"-37.8\" font-family=\"Helvetica,sans-Serif\" font-size=\"14.00\">squared_error = 3135.472</text>\n",
       "<text text-anchor=\"middle\" x=\"2154\" y=\"-22.8\" font-family=\"Helvetica,sans-Serif\" font-size=\"14.00\">samples = 30</text>\n",
       "<text text-anchor=\"middle\" x=\"2154\" y=\"-7.8\" font-family=\"Helvetica,sans-Serif\" font-size=\"14.00\">value = 186.833</text>\n",
       "</g>\n",
       "<!-- 26&#45;&gt;28 -->\n",
       "<g id=\"edge28\" class=\"edge\">\n",
       "<title>26&#45;&gt;28</title>\n",
       "<path fill=\"none\" stroke=\"black\" d=\"M2083.77,-88.95C2094.54,-79.53 2106.26,-69.27 2116.98,-59.89\"/>\n",
       "<polygon fill=\"black\" stroke=\"black\" points=\"2119.37,-62.46 2124.59,-53.24 2114.76,-57.19 2119.37,-62.46\"/>\n",
       "</g>\n",
       "<!-- 30 -->\n",
       "<g id=\"node31\" class=\"node\">\n",
       "<title>30</title>\n",
       "<polygon fill=\"#efb184\" stroke=\"black\" points=\"2365.5,-149.5 2164.5,-149.5 2164.5,-96.5 2365.5,-96.5 2365.5,-149.5\"/>\n",
       "<text text-anchor=\"middle\" x=\"2265\" y=\"-134.3\" font-family=\"Helvetica,sans-Serif\" font-size=\"14.00\">squared_error = 3973.689</text>\n",
       "<text text-anchor=\"middle\" x=\"2265\" y=\"-119.3\" font-family=\"Helvetica,sans-Serif\" font-size=\"14.00\">samples = 15</text>\n",
       "<text text-anchor=\"middle\" x=\"2265\" y=\"-104.3\" font-family=\"Helvetica,sans-Serif\" font-size=\"14.00\">value = 197.333</text>\n",
       "</g>\n",
       "<!-- 29&#45;&gt;30 -->\n",
       "<g id=\"edge30\" class=\"edge\">\n",
       "<title>29&#45;&gt;30</title>\n",
       "<path fill=\"none\" stroke=\"black\" d=\"M2265,-192.88C2265,-182.33 2265,-170.6 2265,-159.85\"/>\n",
       "<polygon fill=\"black\" stroke=\"black\" points=\"2268.5,-159.52 2265,-149.52 2261.5,-159.52 2268.5,-159.52\"/>\n",
       "</g>\n",
       "<!-- 31 -->\n",
       "<g id=\"node32\" class=\"node\">\n",
       "<title>31</title>\n",
       "<polygon fill=\"#e78c4a\" stroke=\"black\" points=\"2584.5,-149.5 2383.5,-149.5 2383.5,-96.5 2584.5,-96.5 2584.5,-149.5\"/>\n",
       "<text text-anchor=\"middle\" x=\"2484\" y=\"-134.3\" font-family=\"Helvetica,sans-Serif\" font-size=\"14.00\">squared_error = 1111.621</text>\n",
       "<text text-anchor=\"middle\" x=\"2484\" y=\"-119.3\" font-family=\"Helvetica,sans-Serif\" font-size=\"14.00\">samples = 13</text>\n",
       "<text text-anchor=\"middle\" x=\"2484\" y=\"-104.3\" font-family=\"Helvetica,sans-Serif\" font-size=\"14.00\">value = 257.615</text>\n",
       "</g>\n",
       "<!-- 29&#45;&gt;31 -->\n",
       "<g id=\"edge31\" class=\"edge\">\n",
       "<title>29&#45;&gt;31</title>\n",
       "<path fill=\"none\" stroke=\"black\" d=\"M2336.1,-192.88C2363.14,-180.29 2393.75,-166.03 2420.08,-153.77\"/>\n",
       "<polygon fill=\"black\" stroke=\"black\" points=\"2421.62,-156.91 2429.21,-149.52 2418.66,-150.57 2421.62,-156.91\"/>\n",
       "</g>\n",
       "<!-- 33 -->\n",
       "<g id=\"node34\" class=\"node\">\n",
       "<title>33</title>\n",
       "<polygon fill=\"#eb9f67\" stroke=\"black\" points=\"2566.5,-253.5 2383.5,-253.5 2383.5,-200.5 2566.5,-200.5 2566.5,-253.5\"/>\n",
       "<text text-anchor=\"middle\" x=\"2475\" y=\"-238.3\" font-family=\"Helvetica,sans-Serif\" font-size=\"14.00\">squared_error = 4250.0</text>\n",
       "<text text-anchor=\"middle\" x=\"2475\" y=\"-223.3\" font-family=\"Helvetica,sans-Serif\" font-size=\"14.00\">samples = 21</text>\n",
       "<text text-anchor=\"middle\" x=\"2475\" y=\"-208.3\" font-family=\"Helvetica,sans-Serif\" font-size=\"14.00\">value = 227.0</text>\n",
       "</g>\n",
       "<!-- 32&#45;&gt;33 -->\n",
       "<g id=\"edge33\" class=\"edge\">\n",
       "<title>32&#45;&gt;33</title>\n",
       "<path fill=\"none\" stroke=\"black\" d=\"M2475,-296.88C2475,-286.33 2475,-274.6 2475,-263.85\"/>\n",
       "<polygon fill=\"black\" stroke=\"black\" points=\"2478.5,-263.52 2475,-253.52 2471.5,-263.52 2478.5,-263.52\"/>\n",
       "</g>\n",
       "<!-- 34 -->\n",
       "<g id=\"node35\" class=\"node\">\n",
       "<title>34</title>\n",
       "<polygon fill=\"#e58139\" stroke=\"black\" points=\"2785.5,-253.5 2584.5,-253.5 2584.5,-200.5 2785.5,-200.5 2785.5,-253.5\"/>\n",
       "<text text-anchor=\"middle\" x=\"2685\" y=\"-238.3\" font-family=\"Helvetica,sans-Serif\" font-size=\"14.00\">squared_error = 1679.691</text>\n",
       "<text text-anchor=\"middle\" x=\"2685\" y=\"-223.3\" font-family=\"Helvetica,sans-Serif\" font-size=\"14.00\">samples = 18</text>\n",
       "<text text-anchor=\"middle\" x=\"2685\" y=\"-208.3\" font-family=\"Helvetica,sans-Serif\" font-size=\"14.00\">value = 275.444</text>\n",
       "</g>\n",
       "<!-- 32&#45;&gt;34 -->\n",
       "<g id=\"edge34\" class=\"edge\">\n",
       "<title>32&#45;&gt;34</title>\n",
       "<path fill=\"none\" stroke=\"black\" d=\"M2543.18,-296.88C2568.99,-284.35 2598.21,-270.16 2623.38,-257.93\"/>\n",
       "<polygon fill=\"black\" stroke=\"black\" points=\"2624.99,-261.04 2632.46,-253.52 2621.93,-254.74 2624.99,-261.04\"/>\n",
       "</g>\n",
       "</g>\n",
       "</svg>\n"
      ],
      "text/plain": [
       "<graphviz.sources.Source at 0x7f68a5f429e0>"
      ]
     },
     "metadata": {},
     "output_type": "display_data"
    },
    {
     "data": {
      "text/plain": [
       "<Figure size 500x500 with 0 Axes>"
      ]
     },
     "metadata": {},
     "output_type": "display_data"
    }
   ],
   "source": [
    "export_graphviz(tree_final, out_file=\"tree_final.dot\",\n",
    "                feature_names = v_feature_name, impurity = True, filled = True)\n",
    "\n",
    "with open(\"tree_final.dot\") as f:\n",
    "    dot_graph = f.read()\n",
    "plt.figure(figsize = (5, 5))\n",
    "display(graphviz.Source(dot_graph))"
   ]
  },
  {
   "cell_type": "markdown",
   "id": "d6c8d951",
   "metadata": {},
   "source": [
    "#### - 변수 중요도 & 시각화\n",
    ": Y를 구분하는데 BMI의 영향력이 0.505로 가장 높음을 알 수 있었다. 그 외에도 LTG, BP, CLUCOSE의 변수가 영향력이 있는 것으로 나타났고, TCH는 Y를 구분하는데 영향을 전혀 미치지 못함이 나타났다."
   ]
  },
  {
   "cell_type": "code",
   "execution_count": 40,
   "id": "2f290586",
   "metadata": {},
   "outputs": [
    {
     "data": {
      "text/html": [
       "<div>\n",
       "<style scoped>\n",
       "    .dataframe tbody tr th:only-of-type {\n",
       "        vertical-align: middle;\n",
       "    }\n",
       "\n",
       "    .dataframe tbody tr th {\n",
       "        vertical-align: top;\n",
       "    }\n",
       "\n",
       "    .dataframe thead th {\n",
       "        text-align: right;\n",
       "    }\n",
       "</style>\n",
       "<table border=\"1\" class=\"dataframe\">\n",
       "  <thead>\n",
       "    <tr style=\"text-align: right;\">\n",
       "      <th></th>\n",
       "      <th>Feature</th>\n",
       "      <th>Importance</th>\n",
       "    </tr>\n",
       "  </thead>\n",
       "  <tbody>\n",
       "    <tr>\n",
       "      <th>1</th>\n",
       "      <td>BMI</td>\n",
       "      <td>0.505</td>\n",
       "    </tr>\n",
       "    <tr>\n",
       "      <th>7</th>\n",
       "      <td>LTG</td>\n",
       "      <td>0.195</td>\n",
       "    </tr>\n",
       "    <tr>\n",
       "      <th>2</th>\n",
       "      <td>BP</td>\n",
       "      <td>0.130</td>\n",
       "    </tr>\n",
       "    <tr>\n",
       "      <th>8</th>\n",
       "      <td>GLUCOSE</td>\n",
       "      <td>0.109</td>\n",
       "    </tr>\n",
       "    <tr>\n",
       "      <th>4</th>\n",
       "      <td>LDL</td>\n",
       "      <td>0.021</td>\n",
       "    </tr>\n",
       "    <tr>\n",
       "      <th>0</th>\n",
       "      <td>AGE</td>\n",
       "      <td>0.019</td>\n",
       "    </tr>\n",
       "    <tr>\n",
       "      <th>5</th>\n",
       "      <td>HDL</td>\n",
       "      <td>0.014</td>\n",
       "    </tr>\n",
       "    <tr>\n",
       "      <th>3</th>\n",
       "      <td>CHOLESTEROL</td>\n",
       "      <td>0.005</td>\n",
       "    </tr>\n",
       "    <tr>\n",
       "      <th>9</th>\n",
       "      <td>GENDER</td>\n",
       "      <td>0.003</td>\n",
       "    </tr>\n",
       "    <tr>\n",
       "      <th>6</th>\n",
       "      <td>TCH</td>\n",
       "      <td>0.000</td>\n",
       "    </tr>\n",
       "  </tbody>\n",
       "</table>\n",
       "</div>"
      ],
      "text/plain": [
       "       Feature  Importance\n",
       "1          BMI       0.505\n",
       "7          LTG       0.195\n",
       "2           BP       0.130\n",
       "8      GLUCOSE       0.109\n",
       "4          LDL       0.021\n",
       "0          AGE       0.019\n",
       "5          HDL       0.014\n",
       "3  CHOLESTEROL       0.005\n",
       "9       GENDER       0.003\n",
       "6          TCH       0.000"
      ]
     },
     "execution_count": 40,
     "metadata": {},
     "output_type": "execute_result"
    }
   ],
   "source": [
    "df_importance = pd.DataFrame()\n",
    "df_importance[\"Feature\"] = v_feature_name\n",
    "df_importance[\"Importance\"] = tree_final.feature_importances_\n",
    "\n",
    "# df_feature_importance의 테이블을 중요도별로 정렬\n",
    "df_importance.sort_values(\"Importance\", ascending=False, inplace = True)\n",
    "df_importance.round(3)"
   ]
  },
  {
   "cell_type": "code",
   "execution_count": 41,
   "id": "d721a563",
   "metadata": {
    "scrolled": false
   },
   "outputs": [
    {
     "data": {
      "text/plain": [
       "Text(0, 0.5, '변수')"
      ]
     },
     "execution_count": 41,
     "metadata": {},
     "output_type": "execute_result"
    },
    {
     "data": {
      "image/png": "[encoded data removed]",
      "text/plain": [
       "<Figure size 640x480 with 1 Axes>"
      ]
     },
     "metadata": {},
     "output_type": "display_data"
    }
   ],
   "source": [
    "df_importance.sort_values(\"Importance\", ascending=True, inplace = True)\n",
    "coordinates = range(len(df_importance))\n",
    "plt.barh(y = coordinates, width = df_importance[\"Importance\"])\n",
    "plt.yticks(coordinates, df_importance[\"Feature\"])\n",
    "plt.xlabel(\"변수 중요도\")\n",
    "plt.ylabel(\"변수\")"
   ]
  },
  {
   "cell_type": "markdown",
   "id": "9d4a36a1",
   "metadata": {},
   "source": [
    "#### - Decision Tree 모델의 R2 스코어\n",
    ": train data에 대한 R2(결정계수)는 0.585, test data에 대한 R2는 0.303으로 나타났다. 이는 test data보다 train data에 대한 모델의 설명력이 더 좋음을 나타낸다. 이는 과적합이 되어 있다고 볼 수 있으며, test data에 대한 결정계수의 개선의 여지가 있다."
   ]
  },
  {
   "cell_type": "code",
   "execution_count": 42,
   "id": "c4b0e95a",
   "metadata": {},
   "outputs": [
    {
     "name": "stdout",
     "output_type": "stream",
     "text": [
      "train data의 결정계수: 0.585\n",
      "test data의 결정계수: 0.303\n"
     ]
    }
   ],
   "source": [
    "train_pred = tree_final.predict(df_train_x)\n",
    "test_pred = tree_final.predict(df_test_x)\n",
    "print(\"train data의 결정계수:\", round(r2_score(df_train_y, train_pred), 3))\n",
    "print(\"test data의 결정계수:\", round(r2_score(df_test_y, test_pred), 3))"
   ]
  },
  {
   "cell_type": "markdown",
   "id": "882529d5",
   "metadata": {},
   "source": [
    "## Random Forest"
   ]
  },
  {
   "cell_type": "markdown",
   "id": "65a70414",
   "metadata": {},
   "source": [
    "#### - RandomForest default 모델 R2 성능확인\n",
    ": training set에 대한 R2는 0.919으로, 데이터에 대해 설명력이 매우 높지만, test set에 대한 데이터는 0.441로 training set에 대한 설명력에 비해 매우 낮은 수치를 보였다. 이것은 과적합을 의미하며, 파라미터를 조정하여 training set에 대한 설명력은 낮추되, test set에 대한 설명력을 높이는 방법으로 해결할 수 있다."
   ]
  },
  {
   "cell_type": "code",
   "execution_count": 43,
   "id": "91996985",
   "metadata": {},
   "outputs": [
    {
     "name": "stdout",
     "output_type": "stream",
     "text": [
      "Score on training set: 0.919\n",
      "Score on test set: 0.441\n"
     ]
    }
   ],
   "source": [
    "rf_uncustomized = RandomForestRegressor(random_state=20240305)\n",
    "rf_uncustomized.fit(df_train_x, df_train_y)\n",
    "print(\"Score on training set: {:.3f}\".format(rf_uncustomized.score(df_train_x, df_train_y)))\n",
    "print(\"Score on test set: {:.3f}\".format(rf_uncustomized.score(df_test_x, df_test_y)))"
   ]
  },
  {
   "cell_type": "markdown",
   "id": "2e45f060",
   "metadata": {},
   "source": [
    "#### - 기본 모델 파라미터 확인"
   ]
  },
  {
   "cell_type": "code",
   "execution_count": 44,
   "id": "dde0cdc3",
   "metadata": {
    "scrolled": true
   },
   "outputs": [
    {
     "data": {
      "text/plain": [
       "{'bootstrap': True,\n",
       " 'ccp_alpha': 0.0,\n",
       " 'criterion': 'squared_error',\n",
       " 'max_depth': None,\n",
       " 'max_features': 1.0,\n",
       " 'max_leaf_nodes': None,\n",
       " 'max_samples': None,\n",
       " 'min_impurity_decrease': 0.0,\n",
       " 'min_samples_leaf': 1,\n",
       " 'min_samples_split': 2,\n",
       " 'min_weight_fraction_leaf': 0.0,\n",
       " 'n_estimators': 100,\n",
       " 'n_jobs': None,\n",
       " 'oob_score': False,\n",
       " 'random_state': 20240305,\n",
       " 'verbose': 0,\n",
       " 'warm_start': False}"
      ]
     },
     "execution_count": 44,
     "metadata": {},
     "output_type": "execute_result"
    }
   ],
   "source": [
    "rf_uncustomized.get_params()"
   ]
  },
  {
   "cell_type": "markdown",
   "id": "91207a5a",
   "metadata": {},
   "source": [
    "#### - n_estimators 파라미터 조정\n",
    ": n_estimators가 100일 때, train도 잘설명하면서, test도 잘 설명한다고 생각했다. 따라서 모델을 일반화 시키기 위해 n_estimators를 100으로 결정하였다."
   ]
  },
  {
   "cell_type": "code",
   "execution_count": 45,
   "id": "0126c5ac",
   "metadata": {},
   "outputs": [],
   "source": [
    "train_score = []; test_score = []\n",
    "para_n_tree = [n_tree * 10 for n_tree in range(1, 11)]\n",
    "\n",
    "for v_n_estimators in para_n_tree:\n",
    "    rf = RandomForestRegressor(n_estimators = v_n_estimators, random_state = 20240305)\n",
    "    rf.fit(df_train_x, df_train_y)\n",
    "    train_score.append(rf.score(df_train_x, df_train_y))\n",
    "    test_score.append(rf.score(df_test_x, df_test_y))\n",
    "\n",
    "# 결과 저장\n",
    "df_score_n = pd.DataFrame()\n",
    "df_score_n[\"n_estimators\"] = para_n_tree\n",
    "df_score_n[\"TrainScore\"] = train_score\n",
    "df_score_n[\"TestScore\"] = test_score"
   ]
  },
  {
   "cell_type": "code",
   "execution_count": 46,
   "id": "a35282e9",
   "metadata": {},
   "outputs": [
    {
     "data": {
      "text/html": [
       "<div>\n",
       "<style scoped>\n",
       "    .dataframe tbody tr th:only-of-type {\n",
       "        vertical-align: middle;\n",
       "    }\n",
       "\n",
       "    .dataframe tbody tr th {\n",
       "        vertical-align: top;\n",
       "    }\n",
       "\n",
       "    .dataframe thead th {\n",
       "        text-align: right;\n",
       "    }\n",
       "</style>\n",
       "<table border=\"1\" class=\"dataframe\">\n",
       "  <thead>\n",
       "    <tr style=\"text-align: right;\">\n",
       "      <th></th>\n",
       "      <th>n_estimators</th>\n",
       "      <th>TrainScore</th>\n",
       "      <th>TestScore</th>\n",
       "    </tr>\n",
       "  </thead>\n",
       "  <tbody>\n",
       "    <tr>\n",
       "      <th>0</th>\n",
       "      <td>10</td>\n",
       "      <td>0.891</td>\n",
       "      <td>0.362</td>\n",
       "    </tr>\n",
       "    <tr>\n",
       "      <th>1</th>\n",
       "      <td>20</td>\n",
       "      <td>0.909</td>\n",
       "      <td>0.405</td>\n",
       "    </tr>\n",
       "    <tr>\n",
       "      <th>2</th>\n",
       "      <td>30</td>\n",
       "      <td>0.912</td>\n",
       "      <td>0.422</td>\n",
       "    </tr>\n",
       "    <tr>\n",
       "      <th>3</th>\n",
       "      <td>40</td>\n",
       "      <td>0.914</td>\n",
       "      <td>0.436</td>\n",
       "    </tr>\n",
       "    <tr>\n",
       "      <th>4</th>\n",
       "      <td>50</td>\n",
       "      <td>0.916</td>\n",
       "      <td>0.440</td>\n",
       "    </tr>\n",
       "    <tr>\n",
       "      <th>5</th>\n",
       "      <td>60</td>\n",
       "      <td>0.915</td>\n",
       "      <td>0.440</td>\n",
       "    </tr>\n",
       "    <tr>\n",
       "      <th>6</th>\n",
       "      <td>70</td>\n",
       "      <td>0.915</td>\n",
       "      <td>0.439</td>\n",
       "    </tr>\n",
       "    <tr>\n",
       "      <th>7</th>\n",
       "      <td>80</td>\n",
       "      <td>0.917</td>\n",
       "      <td>0.439</td>\n",
       "    </tr>\n",
       "    <tr>\n",
       "      <th>8</th>\n",
       "      <td>90</td>\n",
       "      <td>0.917</td>\n",
       "      <td>0.441</td>\n",
       "    </tr>\n",
       "    <tr>\n",
       "      <th>9</th>\n",
       "      <td>100</td>\n",
       "      <td>0.919</td>\n",
       "      <td>0.441</td>\n",
       "    </tr>\n",
       "  </tbody>\n",
       "</table>\n",
       "</div>"
      ],
      "text/plain": [
       "   n_estimators  TrainScore  TestScore\n",
       "0            10       0.891      0.362\n",
       "1            20       0.909      0.405\n",
       "2            30       0.912      0.422\n",
       "3            40       0.914      0.436\n",
       "4            50       0.916      0.440\n",
       "5            60       0.915      0.440\n",
       "6            70       0.915      0.439\n",
       "7            80       0.917      0.439\n",
       "8            90       0.917      0.441\n",
       "9           100       0.919      0.441"
      ]
     },
     "execution_count": 46,
     "metadata": {},
     "output_type": "execute_result"
    }
   ],
   "source": [
    "df_score_n.round(3)"
   ]
  },
  {
   "cell_type": "code",
   "execution_count": 47,
   "id": "4ea25b4d",
   "metadata": {},
   "outputs": [
    {
     "data": {
      "text/plain": [
       "<matplotlib.legend.Legend at 0x7f68a5e29d20>"
      ]
     },
     "execution_count": 47,
     "metadata": {},
     "output_type": "execute_result"
    },
    {
     "data": {
      "image/png": "[encoded data removed]",
      "text/plain": [
       "<Figure size 640x480 with 1 Axes>"
      ]
     },
     "metadata": {},
     "output_type": "display_data"
    }
   ],
   "source": [
    "plt.plot(para_n_tree, train_score, linestyle = \"-\", label = \"Train Score\")\n",
    "plt.plot(para_n_tree, test_score, linestyle = \"--\", label = \"Test Score\")\n",
    "plt.ylabel(\"score\"); plt.xlabel(\"n_estimators\")\n",
    "plt.legend()"
   ]
  },
  {
   "cell_type": "markdown",
   "id": "83f2d053",
   "metadata": {},
   "source": [
    "#### - min_samples_leaf 파라미터 조정\n",
    ": min_samples_leaf가 4일 때, train도 잘설명하면서, test도 잘 설명한다고 생각했다. 따라서 모델을 일반화 시키기 위해 min_samples_leaf를 4으로 결정하였다."
   ]
  },
  {
   "cell_type": "code",
   "execution_count": 48,
   "id": "289d6639",
   "metadata": {},
   "outputs": [
    {
     "data": {
      "text/html": [
       "<div>\n",
       "<style scoped>\n",
       "    .dataframe tbody tr th:only-of-type {\n",
       "        vertical-align: middle;\n",
       "    }\n",
       "\n",
       "    .dataframe tbody tr th {\n",
       "        vertical-align: top;\n",
       "    }\n",
       "\n",
       "    .dataframe thead th {\n",
       "        text-align: right;\n",
       "    }\n",
       "</style>\n",
       "<table border=\"1\" class=\"dataframe\">\n",
       "  <thead>\n",
       "    <tr style=\"text-align: right;\">\n",
       "      <th></th>\n",
       "      <th>MinSamplesLeaf</th>\n",
       "      <th>TrainScore</th>\n",
       "      <th>TestScore</th>\n",
       "    </tr>\n",
       "  </thead>\n",
       "  <tbody>\n",
       "    <tr>\n",
       "      <th>0</th>\n",
       "      <td>1</td>\n",
       "      <td>0.919</td>\n",
       "      <td>0.441</td>\n",
       "    </tr>\n",
       "    <tr>\n",
       "      <th>1</th>\n",
       "      <td>2</td>\n",
       "      <td>0.886</td>\n",
       "      <td>0.455</td>\n",
       "    </tr>\n",
       "    <tr>\n",
       "      <th>2</th>\n",
       "      <td>3</td>\n",
       "      <td>0.840</td>\n",
       "      <td>0.473</td>\n",
       "    </tr>\n",
       "    <tr>\n",
       "      <th>3</th>\n",
       "      <td>4</td>\n",
       "      <td>0.793</td>\n",
       "      <td>0.479</td>\n",
       "    </tr>\n",
       "    <tr>\n",
       "      <th>4</th>\n",
       "      <td>5</td>\n",
       "      <td>0.755</td>\n",
       "      <td>0.481</td>\n",
       "    </tr>\n",
       "    <tr>\n",
       "      <th>5</th>\n",
       "      <td>6</td>\n",
       "      <td>0.724</td>\n",
       "      <td>0.484</td>\n",
       "    </tr>\n",
       "    <tr>\n",
       "      <th>6</th>\n",
       "      <td>7</td>\n",
       "      <td>0.699</td>\n",
       "      <td>0.492</td>\n",
       "    </tr>\n",
       "    <tr>\n",
       "      <th>7</th>\n",
       "      <td>8</td>\n",
       "      <td>0.675</td>\n",
       "      <td>0.493</td>\n",
       "    </tr>\n",
       "    <tr>\n",
       "      <th>8</th>\n",
       "      <td>9</td>\n",
       "      <td>0.658</td>\n",
       "      <td>0.494</td>\n",
       "    </tr>\n",
       "    <tr>\n",
       "      <th>9</th>\n",
       "      <td>10</td>\n",
       "      <td>0.640</td>\n",
       "      <td>0.491</td>\n",
       "    </tr>\n",
       "    <tr>\n",
       "      <th>10</th>\n",
       "      <td>11</td>\n",
       "      <td>0.627</td>\n",
       "      <td>0.489</td>\n",
       "    </tr>\n",
       "    <tr>\n",
       "      <th>11</th>\n",
       "      <td>12</td>\n",
       "      <td>0.614</td>\n",
       "      <td>0.485</td>\n",
       "    </tr>\n",
       "    <tr>\n",
       "      <th>12</th>\n",
       "      <td>13</td>\n",
       "      <td>0.604</td>\n",
       "      <td>0.484</td>\n",
       "    </tr>\n",
       "    <tr>\n",
       "      <th>13</th>\n",
       "      <td>14</td>\n",
       "      <td>0.594</td>\n",
       "      <td>0.482</td>\n",
       "    </tr>\n",
       "    <tr>\n",
       "      <th>14</th>\n",
       "      <td>15</td>\n",
       "      <td>0.586</td>\n",
       "      <td>0.477</td>\n",
       "    </tr>\n",
       "    <tr>\n",
       "      <th>15</th>\n",
       "      <td>16</td>\n",
       "      <td>0.578</td>\n",
       "      <td>0.474</td>\n",
       "    </tr>\n",
       "    <tr>\n",
       "      <th>16</th>\n",
       "      <td>17</td>\n",
       "      <td>0.571</td>\n",
       "      <td>0.473</td>\n",
       "    </tr>\n",
       "    <tr>\n",
       "      <th>17</th>\n",
       "      <td>18</td>\n",
       "      <td>0.564</td>\n",
       "      <td>0.471</td>\n",
       "    </tr>\n",
       "    <tr>\n",
       "      <th>18</th>\n",
       "      <td>19</td>\n",
       "      <td>0.559</td>\n",
       "      <td>0.469</td>\n",
       "    </tr>\n",
       "    <tr>\n",
       "      <th>19</th>\n",
       "      <td>20</td>\n",
       "      <td>0.552</td>\n",
       "      <td>0.469</td>\n",
       "    </tr>\n",
       "  </tbody>\n",
       "</table>\n",
       "</div>"
      ],
      "text/plain": [
       "    MinSamplesLeaf  TrainScore  TestScore\n",
       "0                1       0.919      0.441\n",
       "1                2       0.886      0.455\n",
       "2                3       0.840      0.473\n",
       "3                4       0.793      0.479\n",
       "4                5       0.755      0.481\n",
       "5                6       0.724      0.484\n",
       "6                7       0.699      0.492\n",
       "7                8       0.675      0.493\n",
       "8                9       0.658      0.494\n",
       "9               10       0.640      0.491\n",
       "10              11       0.627      0.489\n",
       "11              12       0.614      0.485\n",
       "12              13       0.604      0.484\n",
       "13              14       0.594      0.482\n",
       "14              15       0.586      0.477\n",
       "15              16       0.578      0.474\n",
       "16              17       0.571      0.473\n",
       "17              18       0.564      0.471\n",
       "18              19       0.559      0.469\n",
       "19              20       0.552      0.469"
      ]
     },
     "execution_count": 48,
     "metadata": {},
     "output_type": "execute_result"
    }
   ],
   "source": [
    "train_score = []; test_score = []\n",
    "para_leaf = [n_leaf for n_leaf in range(1, 21)]\n",
    "\n",
    "for v_min_samples_leaf in para_leaf:\n",
    "    rf = RandomForestRegressor(random_state=20240305, n_estimators = 100,\n",
    "                                min_samples_leaf = v_min_samples_leaf)\n",
    "    rf.fit(df_train_x, df_train_y)\n",
    "    train_score.append(rf.score(df_train_x, df_train_y))\n",
    "    test_score.append(rf.score(df_test_x, df_test_y))\n",
    "\n",
    "# 데이터 테이블로 저장\n",
    "df_score_leaf = pd.DataFrame()\n",
    "df_score_leaf[\"MinSamplesLeaf\"] = para_leaf\n",
    "df_score_leaf[\"TrainScore\"] = train_score\n",
    "df_score_leaf[\"TestScore\"] = test_score\n",
    "\n",
    "df_score_leaf.round(3)"
   ]
  },
  {
   "cell_type": "code",
   "execution_count": 49,
   "id": "b14b30ab",
   "metadata": {},
   "outputs": [
    {
     "data": {
      "text/plain": [
       "<matplotlib.legend.Legend at 0x7f68a5e8aec0>"
      ]
     },
     "execution_count": 49,
     "metadata": {},
     "output_type": "execute_result"
    },
    {
     "data": {
      "image/png": "[encoded data removed]",
      "text/plain": [
       "<Figure size 640x480 with 1 Axes>"
      ]
     },
     "metadata": {},
     "output_type": "display_data"
    }
   ],
   "source": [
    "plt.plot(para_leaf, train_score, linestyle = \"-\", label = \"Train Score\")\n",
    "plt.plot(para_leaf, test_score, linestyle = \"--\", label = \"Test Score\")\n",
    "plt.ylabel(\"score\"); plt.xlabel(\"min samples leaf\")\n",
    "plt.legend()"
   ]
  },
  {
   "cell_type": "markdown",
   "id": "5df5829c",
   "metadata": {},
   "source": [
    "#### - min_samples_split 파라미터 조정\n",
    ": min_samples_split이 4일 때, train도 잘설명하면서, test도 잘 설명한다고 생각했다. 따라서 모델을 일반화 시키기 위해 min_samples_split 결정하였다."
   ]
  },
  {
   "cell_type": "code",
   "execution_count": 50,
   "id": "424fde23",
   "metadata": {},
   "outputs": [
    {
     "data": {
      "text/html": [
       "<div>\n",
       "<style scoped>\n",
       "    .dataframe tbody tr th:only-of-type {\n",
       "        vertical-align: middle;\n",
       "    }\n",
       "\n",
       "    .dataframe tbody tr th {\n",
       "        vertical-align: top;\n",
       "    }\n",
       "\n",
       "    .dataframe thead th {\n",
       "        text-align: right;\n",
       "    }\n",
       "</style>\n",
       "<table border=\"1\" class=\"dataframe\">\n",
       "  <thead>\n",
       "    <tr style=\"text-align: right;\">\n",
       "      <th></th>\n",
       "      <th>MinSamplesSplit</th>\n",
       "      <th>TrainScore</th>\n",
       "      <th>TestScore</th>\n",
       "    </tr>\n",
       "  </thead>\n",
       "  <tbody>\n",
       "    <tr>\n",
       "      <th>0</th>\n",
       "      <td>4</td>\n",
       "      <td>0.793</td>\n",
       "      <td>0.479</td>\n",
       "    </tr>\n",
       "    <tr>\n",
       "      <th>1</th>\n",
       "      <td>6</td>\n",
       "      <td>0.793</td>\n",
       "      <td>0.479</td>\n",
       "    </tr>\n",
       "    <tr>\n",
       "      <th>2</th>\n",
       "      <td>8</td>\n",
       "      <td>0.793</td>\n",
       "      <td>0.479</td>\n",
       "    </tr>\n",
       "    <tr>\n",
       "      <th>3</th>\n",
       "      <td>10</td>\n",
       "      <td>0.771</td>\n",
       "      <td>0.476</td>\n",
       "    </tr>\n",
       "    <tr>\n",
       "      <th>4</th>\n",
       "      <td>12</td>\n",
       "      <td>0.752</td>\n",
       "      <td>0.480</td>\n",
       "    </tr>\n",
       "    <tr>\n",
       "      <th>5</th>\n",
       "      <td>14</td>\n",
       "      <td>0.734</td>\n",
       "      <td>0.478</td>\n",
       "    </tr>\n",
       "    <tr>\n",
       "      <th>6</th>\n",
       "      <td>16</td>\n",
       "      <td>0.717</td>\n",
       "      <td>0.480</td>\n",
       "    </tr>\n",
       "    <tr>\n",
       "      <th>7</th>\n",
       "      <td>18</td>\n",
       "      <td>0.703</td>\n",
       "      <td>0.479</td>\n",
       "    </tr>\n",
       "    <tr>\n",
       "      <th>8</th>\n",
       "      <td>20</td>\n",
       "      <td>0.688</td>\n",
       "      <td>0.477</td>\n",
       "    </tr>\n",
       "    <tr>\n",
       "      <th>9</th>\n",
       "      <td>22</td>\n",
       "      <td>0.674</td>\n",
       "      <td>0.477</td>\n",
       "    </tr>\n",
       "    <tr>\n",
       "      <th>10</th>\n",
       "      <td>24</td>\n",
       "      <td>0.662</td>\n",
       "      <td>0.474</td>\n",
       "    </tr>\n",
       "    <tr>\n",
       "      <th>11</th>\n",
       "      <td>26</td>\n",
       "      <td>0.651</td>\n",
       "      <td>0.471</td>\n",
       "    </tr>\n",
       "    <tr>\n",
       "      <th>12</th>\n",
       "      <td>28</td>\n",
       "      <td>0.642</td>\n",
       "      <td>0.470</td>\n",
       "    </tr>\n",
       "    <tr>\n",
       "      <th>13</th>\n",
       "      <td>30</td>\n",
       "      <td>0.633</td>\n",
       "      <td>0.468</td>\n",
       "    </tr>\n",
       "    <tr>\n",
       "      <th>14</th>\n",
       "      <td>32</td>\n",
       "      <td>0.624</td>\n",
       "      <td>0.467</td>\n",
       "    </tr>\n",
       "    <tr>\n",
       "      <th>15</th>\n",
       "      <td>34</td>\n",
       "      <td>0.616</td>\n",
       "      <td>0.464</td>\n",
       "    </tr>\n",
       "    <tr>\n",
       "      <th>16</th>\n",
       "      <td>36</td>\n",
       "      <td>0.609</td>\n",
       "      <td>0.464</td>\n",
       "    </tr>\n",
       "    <tr>\n",
       "      <th>17</th>\n",
       "      <td>38</td>\n",
       "      <td>0.602</td>\n",
       "      <td>0.463</td>\n",
       "    </tr>\n",
       "    <tr>\n",
       "      <th>18</th>\n",
       "      <td>40</td>\n",
       "      <td>0.594</td>\n",
       "      <td>0.462</td>\n",
       "    </tr>\n",
       "  </tbody>\n",
       "</table>\n",
       "</div>"
      ],
      "text/plain": [
       "    MinSamplesSplit  TrainScore  TestScore\n",
       "0                 4       0.793      0.479\n",
       "1                 6       0.793      0.479\n",
       "2                 8       0.793      0.479\n",
       "3                10       0.771      0.476\n",
       "4                12       0.752      0.480\n",
       "5                14       0.734      0.478\n",
       "6                16       0.717      0.480\n",
       "7                18       0.703      0.479\n",
       "8                20       0.688      0.477\n",
       "9                22       0.674      0.477\n",
       "10               24       0.662      0.474\n",
       "11               26       0.651      0.471\n",
       "12               28       0.642      0.470\n",
       "13               30       0.633      0.468\n",
       "14               32       0.624      0.467\n",
       "15               34       0.616      0.464\n",
       "16               36       0.609      0.464\n",
       "17               38       0.602      0.463\n",
       "18               40       0.594      0.462"
      ]
     },
     "execution_count": 50,
     "metadata": {},
     "output_type": "execute_result"
    }
   ],
   "source": [
    "train_score = []; test_score = []\n",
    "para_split = [n_split * 2for n_split in range(2, 21)]\n",
    "\n",
    "for v_min_samples_split in para_split:\n",
    "    rf = RandomForestRegressor(random_state=20240305, n_estimators = 100, min_samples_leaf = 4,\n",
    "                               min_samples_split = v_min_samples_split)\n",
    "    rf.fit(df_train_x, df_train_y)\n",
    "    train_score.append(rf.score(df_train_x, df_train_y))\n",
    "    test_score.append(rf.score(df_test_x, df_test_y))\n",
    "\n",
    "df_score_split = pd.DataFrame()\n",
    "df_score_split[\"MinSamplesSplit\"] = para_split\n",
    "df_score_split[\"TrainScore\"] = train_score\n",
    "df_score_split[\"TestScore\"] = test_score\n",
    "df_score_split.round(3)"
   ]
  },
  {
   "cell_type": "code",
   "execution_count": 51,
   "id": "a27f783d",
   "metadata": {},
   "outputs": [
    {
     "data": {
      "text/plain": [
       "<matplotlib.legend.Legend at 0x7f68a5e7b430>"
      ]
     },
     "execution_count": 51,
     "metadata": {},
     "output_type": "execute_result"
    },
    {
     "data": {
      "image/png": "[encoded data removed]",
      "text/plain": [
       "<Figure size 640x480 with 1 Axes>"
      ]
     },
     "metadata": {},
     "output_type": "display_data"
    }
   ],
   "source": [
    "plt.plot(para_split, train_score, linestyle = \"-\", label = \"Train Score\")\n",
    "plt.plot(para_split, test_score, linestyle = \"--\", label = \"Test Score\")\n",
    "plt.ylabel(\"score\"); plt.xlabel(\"min samples split\")\n",
    "plt.legend()"
   ]
  },
  {
   "cell_type": "markdown",
   "id": "a799447b",
   "metadata": {},
   "source": [
    "#### - max_depth 파라미터 조정\n",
    ": max_depth이 7일 때, train도 잘설명하면서, test도 잘 설명한다고 생각했다. 따라서 모델을 일반화 시키기 위해 max_depth 결정하였다."
   ]
  },
  {
   "cell_type": "code",
   "execution_count": 52,
   "id": "29e31e52",
   "metadata": {},
   "outputs": [
    {
     "data": {
      "text/html": [
       "<div>\n",
       "<style scoped>\n",
       "    .dataframe tbody tr th:only-of-type {\n",
       "        vertical-align: middle;\n",
       "    }\n",
       "\n",
       "    .dataframe tbody tr th {\n",
       "        vertical-align: top;\n",
       "    }\n",
       "\n",
       "    .dataframe thead th {\n",
       "        text-align: right;\n",
       "    }\n",
       "</style>\n",
       "<table border=\"1\" class=\"dataframe\">\n",
       "  <thead>\n",
       "    <tr style=\"text-align: right;\">\n",
       "      <th></th>\n",
       "      <th>Depth</th>\n",
       "      <th>TrainScore</th>\n",
       "      <th>TestScore</th>\n",
       "    </tr>\n",
       "  </thead>\n",
       "  <tbody>\n",
       "    <tr>\n",
       "      <th>0</th>\n",
       "      <td>1</td>\n",
       "      <td>0.385</td>\n",
       "      <td>0.372</td>\n",
       "    </tr>\n",
       "    <tr>\n",
       "      <th>1</th>\n",
       "      <td>2</td>\n",
       "      <td>0.499</td>\n",
       "      <td>0.447</td>\n",
       "    </tr>\n",
       "    <tr>\n",
       "      <th>2</th>\n",
       "      <td>3</td>\n",
       "      <td>0.573</td>\n",
       "      <td>0.469</td>\n",
       "    </tr>\n",
       "    <tr>\n",
       "      <th>3</th>\n",
       "      <td>4</td>\n",
       "      <td>0.641</td>\n",
       "      <td>0.481</td>\n",
       "    </tr>\n",
       "    <tr>\n",
       "      <th>4</th>\n",
       "      <td>5</td>\n",
       "      <td>0.701</td>\n",
       "      <td>0.482</td>\n",
       "    </tr>\n",
       "    <tr>\n",
       "      <th>5</th>\n",
       "      <td>6</td>\n",
       "      <td>0.744</td>\n",
       "      <td>0.481</td>\n",
       "    </tr>\n",
       "    <tr>\n",
       "      <th>6</th>\n",
       "      <td>7</td>\n",
       "      <td>0.771</td>\n",
       "      <td>0.478</td>\n",
       "    </tr>\n",
       "    <tr>\n",
       "      <th>7</th>\n",
       "      <td>8</td>\n",
       "      <td>0.784</td>\n",
       "      <td>0.476</td>\n",
       "    </tr>\n",
       "    <tr>\n",
       "      <th>8</th>\n",
       "      <td>9</td>\n",
       "      <td>0.790</td>\n",
       "      <td>0.477</td>\n",
       "    </tr>\n",
       "    <tr>\n",
       "      <th>9</th>\n",
       "      <td>10</td>\n",
       "      <td>0.792</td>\n",
       "      <td>0.478</td>\n",
       "    </tr>\n",
       "  </tbody>\n",
       "</table>\n",
       "</div>"
      ],
      "text/plain": [
       "   Depth  TrainScore  TestScore\n",
       "0      1       0.385      0.372\n",
       "1      2       0.499      0.447\n",
       "2      3       0.573      0.469\n",
       "3      4       0.641      0.481\n",
       "4      5       0.701      0.482\n",
       "5      6       0.744      0.481\n",
       "6      7       0.771      0.478\n",
       "7      8       0.784      0.476\n",
       "8      9       0.790      0.477\n",
       "9     10       0.792      0.478"
      ]
     },
     "execution_count": 52,
     "metadata": {},
     "output_type": "execute_result"
    }
   ],
   "source": [
    "train_score = []; test_score = []\n",
    "para_depth = [depth for depth in range(1, 11)]\n",
    "\n",
    "for v_max_depth in para_depth:\n",
    "    rf = RandomForestRegressor(random_state=20240305, n_estimators = 100,\n",
    "                               min_samples_leaf = 4, min_samples_split = 4,\n",
    "                               max_depth = v_max_depth)\n",
    "    rf.fit(df_train_x, df_train_y)\n",
    "    train_score.append(rf.score(df_train_x, df_train_y))\n",
    "    test_score.append(rf.score(df_test_x, df_test_y))\n",
    "\n",
    "df_score_depth = pd.DataFrame()\n",
    "df_score_depth[\"Depth\"] = para_depth\n",
    "df_score_depth[\"TrainScore\"] = train_score\n",
    "df_score_depth[\"TestScore\"] = test_score\n",
    "df_score_depth.round(3)"
   ]
  },
  {
   "cell_type": "code",
   "execution_count": 53,
   "id": "65bfd720",
   "metadata": {},
   "outputs": [
    {
     "data": {
      "text/plain": [
       "<matplotlib.legend.Legend at 0x7f68a5bed600>"
      ]
     },
     "execution_count": 53,
     "metadata": {},
     "output_type": "execute_result"
    },
    {
     "data": {
      "image/png": "[encoded data removed]",
      "text/plain": [
       "<Figure size 640x480 with 1 Axes>"
      ]
     },
     "metadata": {},
     "output_type": "display_data"
    }
   ],
   "source": [
    "plt.plot(para_depth, train_score, linestyle = \"-\", label = \"Train Score\")\n",
    "plt.plot(para_depth, test_score, linestyle = \"--\", label = \"Test Score\")\n",
    "plt.ylabel(\"score\"); plt.xlabel(\"max depth\")\n",
    "plt.legend()"
   ]
  },
  {
   "cell_type": "markdown",
   "id": "36267179",
   "metadata": {},
   "source": [
    "##### - 조정된 모델의 파라미터"
   ]
  },
  {
   "cell_type": "code",
   "execution_count": 54,
   "id": "5c772b8f",
   "metadata": {
    "scrolled": true
   },
   "outputs": [
    {
     "data": {
      "text/plain": [
       "{'bootstrap': True,\n",
       " 'ccp_alpha': 0.0,\n",
       " 'criterion': 'squared_error',\n",
       " 'max_depth': 7,\n",
       " 'max_features': 1.0,\n",
       " 'max_leaf_nodes': None,\n",
       " 'max_samples': None,\n",
       " 'min_impurity_decrease': 0.0,\n",
       " 'min_samples_leaf': 4,\n",
       " 'min_samples_split': 4,\n",
       " 'min_weight_fraction_leaf': 0.0,\n",
       " 'n_estimators': 100,\n",
       " 'n_jobs': None,\n",
       " 'oob_score': False,\n",
       " 'random_state': 20240305,\n",
       " 'verbose': 0,\n",
       " 'warm_start': False}"
      ]
     },
     "execution_count": 54,
     "metadata": {},
     "output_type": "execute_result"
    }
   ],
   "source": [
    "v_feature_name = df_train_x.columns\n",
    "rf_final = RandomForestRegressor( n_estimators = 100, min_samples_leaf = 4, min_samples_split = 4, max_depth =7, random_state=20240305 )\n",
    "rf_final.fit(df_train_x, df_train_y)\n",
    "rf_final.get_params()"
   ]
  },
  {
   "cell_type": "markdown",
   "id": "eb398968",
   "metadata": {},
   "source": [
    "#### - 변수 중요도 & 시각화\n",
    ": Y를 구분하는데 BMI, LTG의 영향력이 0.331로 가장 높음을 알 수 있었다. 그 외에도 BP의 변수가 영향력이 있는 것으로 나타났고, GENDER는 Y를 구분하는데 영향을 전혀 미치지 못함이 나타났다."
   ]
  },
  {
   "cell_type": "code",
   "execution_count": 55,
   "id": "b6c6bcc4",
   "metadata": {},
   "outputs": [
    {
     "data": {
      "text/html": [
       "<div>\n",
       "<style scoped>\n",
       "    .dataframe tbody tr th:only-of-type {\n",
       "        vertical-align: middle;\n",
       "    }\n",
       "\n",
       "    .dataframe tbody tr th {\n",
       "        vertical-align: top;\n",
       "    }\n",
       "\n",
       "    .dataframe thead th {\n",
       "        text-align: right;\n",
       "    }\n",
       "</style>\n",
       "<table border=\"1\" class=\"dataframe\">\n",
       "  <thead>\n",
       "    <tr style=\"text-align: right;\">\n",
       "      <th></th>\n",
       "      <th>Feature</th>\n",
       "      <th>Importance</th>\n",
       "    </tr>\n",
       "  </thead>\n",
       "  <tbody>\n",
       "    <tr>\n",
       "      <th>1</th>\n",
       "      <td>BMI</td>\n",
       "      <td>0.331</td>\n",
       "    </tr>\n",
       "    <tr>\n",
       "      <th>7</th>\n",
       "      <td>LTG</td>\n",
       "      <td>0.330</td>\n",
       "    </tr>\n",
       "    <tr>\n",
       "      <th>2</th>\n",
       "      <td>BP</td>\n",
       "      <td>0.105</td>\n",
       "    </tr>\n",
       "    <tr>\n",
       "      <th>8</th>\n",
       "      <td>GLUCOSE</td>\n",
       "      <td>0.059</td>\n",
       "    </tr>\n",
       "    <tr>\n",
       "      <th>5</th>\n",
       "      <td>HDL</td>\n",
       "      <td>0.042</td>\n",
       "    </tr>\n",
       "    <tr>\n",
       "      <th>4</th>\n",
       "      <td>LDL</td>\n",
       "      <td>0.040</td>\n",
       "    </tr>\n",
       "    <tr>\n",
       "      <th>0</th>\n",
       "      <td>AGE</td>\n",
       "      <td>0.037</td>\n",
       "    </tr>\n",
       "    <tr>\n",
       "      <th>3</th>\n",
       "      <td>CHOLESTEROL</td>\n",
       "      <td>0.033</td>\n",
       "    </tr>\n",
       "    <tr>\n",
       "      <th>6</th>\n",
       "      <td>TCH</td>\n",
       "      <td>0.015</td>\n",
       "    </tr>\n",
       "    <tr>\n",
       "      <th>9</th>\n",
       "      <td>GENDER</td>\n",
       "      <td>0.009</td>\n",
       "    </tr>\n",
       "  </tbody>\n",
       "</table>\n",
       "</div>"
      ],
      "text/plain": [
       "       Feature  Importance\n",
       "1          BMI       0.331\n",
       "7          LTG       0.330\n",
       "2           BP       0.105\n",
       "8      GLUCOSE       0.059\n",
       "5          HDL       0.042\n",
       "4          LDL       0.040\n",
       "0          AGE       0.037\n",
       "3  CHOLESTEROL       0.033\n",
       "6          TCH       0.015\n",
       "9       GENDER       0.009"
      ]
     },
     "execution_count": 55,
     "metadata": {},
     "output_type": "execute_result"
    }
   ],
   "source": [
    "df_importance = pd.DataFrame()\n",
    "df_importance[\"Feature\"] = v_feature_name\n",
    "df_importance[\"Importance\"] = rf_final.feature_importances_\n",
    "\n",
    "# df_feature_importance의 테이블을 중요도 순으로 정렬\n",
    "df_importance.sort_values(\"Importance\", ascending=False, inplace = True)\n",
    "df_importance.round(3)"
   ]
  },
  {
   "cell_type": "code",
   "execution_count": 56,
   "id": "588a2ad5",
   "metadata": {
    "scrolled": false
   },
   "outputs": [
    {
     "data": {
      "text/plain": [
       "Text(0, 0.5, '변수')"
      ]
     },
     "execution_count": 56,
     "metadata": {},
     "output_type": "execute_result"
    },
    {
     "data": {
      "image/png": "[encoded data removed]",
      "text/plain": [
       "<Figure size 640x480 with 1 Axes>"
      ]
     },
     "metadata": {},
     "output_type": "display_data"
    }
   ],
   "source": [
    "df_importance.sort_values(\"Importance\", ascending=True, inplace = True)\n",
    "coordinates = range(len(df_importance))\n",
    "plt.barh(y = coordinates, width = df_importance[\"Importance\"])\n",
    "plt.yticks(coordinates, df_importance[\"Feature\"])\n",
    "plt.xlabel(\"변수 중요도\")\n",
    "plt.ylabel(\"변수\")"
   ]
  },
  {
   "cell_type": "markdown",
   "id": "7b1abc62",
   "metadata": {},
   "source": [
    "#### - Random Forest 모델의 R2 스코어\n",
    ": train data에 대한 R2(결정계수)는 0.771, test data에 대한 R2는 0.478로 나타났다. 이는 test data보다 train data에 대한 모델의 설명력이 더 좋음을 나타낸다. 이는 과적합이 되어 있다고 볼 수 있으며, test data에 대한 결정계수의 개선의 여지가 있다."
   ]
  },
  {
   "cell_type": "code",
   "execution_count": 57,
   "id": "a89170ed",
   "metadata": {},
   "outputs": [
    {
     "name": "stdout",
     "output_type": "stream",
     "text": [
      "train data의 결정계수: 0.771\n",
      "test data의 결정계수: 0.478\n"
     ]
    }
   ],
   "source": [
    "train_pred = rf_final.predict(df_train_x)\n",
    "test_pred = rf_final.predict(df_test_x)\n",
    "print(\"train data의 결정계수:\", round(r2_score(df_train_y, train_pred), 3))\n",
    "print(\"test data의 결정계수:\", round(r2_score(df_test_y, test_pred), 3))"
   ]
  },
  {
   "cell_type": "markdown",
   "id": "eaa6a23a",
   "metadata": {},
   "source": [
    "## Gradient Boosting"
   ]
  },
  {
   "cell_type": "markdown",
   "id": "8cd1fbde",
   "metadata": {},
   "source": [
    "#### - Gradient Boosting default 모델 R2 성능확인\n",
    ": training set에 대한 R2는 0.838으로, 데이터에 대해 설명력이 매우 높지만, test set에 대한 데이터는 0.431로 training set에 대한 설명력에 비해 매우 낮은 수치를 보였다. 이것은 과적합을 의미하며, 파라미터를 조정하여 training set에 대한 설명력은 낮추되, test set에 대한 설명력을 높이는 방법으로 해결할 수 있다."
   ]
  },
  {
   "cell_type": "code",
   "execution_count": 58,
   "id": "f1563c6f",
   "metadata": {},
   "outputs": [
    {
     "name": "stdout",
     "output_type": "stream",
     "text": [
      "Score on training set: 0.838\n",
      "Score on test set: 0.431\n"
     ]
    }
   ],
   "source": [
    "gb_uncustomized = GradientBoostingRegressor(random_state=20240305)\n",
    "gb_uncustomized.fit(df_train_x, df_train_y)\n",
    "print(\"Score on training set: {:.3f}\".format(gb_uncustomized.score (df_train_x, df_train_y)))\n",
    "print(\"Score on test set: {:.3f}\".format(gb_uncustomized.score (df_test_x, df_test_y)))"
   ]
  },
  {
   "cell_type": "markdown",
   "id": "0dbc0aa0",
   "metadata": {},
   "source": [
    "#### - 기본 모델 파라미터 확인"
   ]
  },
  {
   "cell_type": "code",
   "execution_count": 59,
   "id": "8cb6385f",
   "metadata": {
    "scrolled": false
   },
   "outputs": [
    {
     "data": {
      "text/plain": [
       "{'alpha': 0.9,\n",
       " 'ccp_alpha': 0.0,\n",
       " 'criterion': 'friedman_mse',\n",
       " 'init': None,\n",
       " 'learning_rate': 0.1,\n",
       " 'loss': 'squared_error',\n",
       " 'max_depth': 3,\n",
       " 'max_features': None,\n",
       " 'max_leaf_nodes': None,\n",
       " 'min_impurity_decrease': 0.0,\n",
       " 'min_samples_leaf': 1,\n",
       " 'min_samples_split': 2,\n",
       " 'min_weight_fraction_leaf': 0.0,\n",
       " 'n_estimators': 100,\n",
       " 'n_iter_no_change': None,\n",
       " 'random_state': 20240305,\n",
       " 'subsample': 1.0,\n",
       " 'tol': 0.0001,\n",
       " 'validation_fraction': 0.1,\n",
       " 'verbose': 0,\n",
       " 'warm_start': False}"
      ]
     },
     "execution_count": 59,
     "metadata": {},
     "output_type": "execute_result"
    }
   ],
   "source": [
    "gb_uncustomized.get_params()"
   ]
  },
  {
   "cell_type": "markdown",
   "id": "0f1f4172",
   "metadata": {},
   "source": [
    "#### - n_estimators 파라미터 조정\n",
    ": n_estimators가 80일 때, train도 잘설명하면서, test도 잘 설명한다고 생각했다. 따라서 모델을 일반화 시키기 위해 n_estimators를 80으로 결정하였다."
   ]
  },
  {
   "cell_type": "code",
   "execution_count": 60,
   "id": "ad23b2bb",
   "metadata": {},
   "outputs": [
    {
     "data": {
      "text/html": [
       "<div>\n",
       "<style scoped>\n",
       "    .dataframe tbody tr th:only-of-type {\n",
       "        vertical-align: middle;\n",
       "    }\n",
       "\n",
       "    .dataframe tbody tr th {\n",
       "        vertical-align: top;\n",
       "    }\n",
       "\n",
       "    .dataframe thead th {\n",
       "        text-align: right;\n",
       "    }\n",
       "</style>\n",
       "<table border=\"1\" class=\"dataframe\">\n",
       "  <thead>\n",
       "    <tr style=\"text-align: right;\">\n",
       "      <th></th>\n",
       "      <th>Estimators</th>\n",
       "      <th>TrainScore</th>\n",
       "      <th>TestScore</th>\n",
       "    </tr>\n",
       "  </thead>\n",
       "  <tbody>\n",
       "    <tr>\n",
       "      <th>0</th>\n",
       "      <td>10</td>\n",
       "      <td>0.509</td>\n",
       "      <td>0.392</td>\n",
       "    </tr>\n",
       "    <tr>\n",
       "      <th>1</th>\n",
       "      <td>20</td>\n",
       "      <td>0.636</td>\n",
       "      <td>0.447</td>\n",
       "    </tr>\n",
       "    <tr>\n",
       "      <th>2</th>\n",
       "      <td>30</td>\n",
       "      <td>0.694</td>\n",
       "      <td>0.455</td>\n",
       "    </tr>\n",
       "    <tr>\n",
       "      <th>3</th>\n",
       "      <td>40</td>\n",
       "      <td>0.731</td>\n",
       "      <td>0.460</td>\n",
       "    </tr>\n",
       "    <tr>\n",
       "      <th>4</th>\n",
       "      <td>50</td>\n",
       "      <td>0.760</td>\n",
       "      <td>0.453</td>\n",
       "    </tr>\n",
       "    <tr>\n",
       "      <th>5</th>\n",
       "      <td>60</td>\n",
       "      <td>0.779</td>\n",
       "      <td>0.447</td>\n",
       "    </tr>\n",
       "    <tr>\n",
       "      <th>6</th>\n",
       "      <td>70</td>\n",
       "      <td>0.795</td>\n",
       "      <td>0.442</td>\n",
       "    </tr>\n",
       "    <tr>\n",
       "      <th>7</th>\n",
       "      <td>80</td>\n",
       "      <td>0.811</td>\n",
       "      <td>0.441</td>\n",
       "    </tr>\n",
       "    <tr>\n",
       "      <th>8</th>\n",
       "      <td>90</td>\n",
       "      <td>0.825</td>\n",
       "      <td>0.429</td>\n",
       "    </tr>\n",
       "    <tr>\n",
       "      <th>9</th>\n",
       "      <td>100</td>\n",
       "      <td>0.838</td>\n",
       "      <td>0.431</td>\n",
       "    </tr>\n",
       "  </tbody>\n",
       "</table>\n",
       "</div>"
      ],
      "text/plain": [
       "   Estimators  TrainScore  TestScore\n",
       "0          10       0.509      0.392\n",
       "1          20       0.636      0.447\n",
       "2          30       0.694      0.455\n",
       "3          40       0.731      0.460\n",
       "4          50       0.760      0.453\n",
       "5          60       0.779      0.447\n",
       "6          70       0.795      0.442\n",
       "7          80       0.811      0.441\n",
       "8          90       0.825      0.429\n",
       "9         100       0.838      0.431"
      ]
     },
     "execution_count": 60,
     "metadata": {},
     "output_type": "execute_result"
    }
   ],
   "source": [
    "train_score = []; test_score = []\n",
    "# n_estimatos: 트리 수 변경(10~100)\n",
    "para_n_tree = [n_tree * 10 for n_tree in range(1, 11)]\n",
    "\n",
    "for v_n_estimators in para_n_tree:\n",
    "    gb = GradientBoostingRegressor(random_state = 20240305, n_estimators = v_n_estimators)\n",
    "    gb.fit(df_train_x, df_train_y)\n",
    "    train_score.append(gb.score(df_train_x, df_train_y))\n",
    "    test_score.append(gb.score(df_test_x, df_test_y))\n",
    "\n",
    "# 결과 저장\n",
    "df_score_n = pd.DataFrame()\n",
    "df_score_n[\"Estimators\"] = para_n_tree\n",
    "df_score_n[\"TrainScore\"] = train_score\n",
    "df_score_n[\"TestScore\"] = test_score\n",
    "\n",
    "df_score_n.round(3)"
   ]
  },
  {
   "cell_type": "code",
   "execution_count": 61,
   "id": "a7843f2f",
   "metadata": {},
   "outputs": [
    {
     "data": {
      "text/plain": [
       "<matplotlib.legend.Legend at 0x7f68a5b17d30>"
      ]
     },
     "execution_count": 61,
     "metadata": {},
     "output_type": "execute_result"
    },
    {
     "data": {
      "image/png": "[encoded data removed]",
      "text/plain": [
       "<Figure size 640x480 with 1 Axes>"
      ]
     },
     "metadata": {},
     "output_type": "display_data"
    }
   ],
   "source": [
    "plt.plot(para_n_tree, train_score, linestyle = \"-\", label = \"Train Score\")\n",
    "plt.plot(para_n_tree, test_score, linestyle = \"--\", label = \"Test Score\")\n",
    "plt.ylabel(\"score\"); plt.xlabel(\"n_estimators\")\n",
    "plt.legend()"
   ]
  },
  {
   "cell_type": "markdown",
   "id": "743ed1e5",
   "metadata": {},
   "source": [
    "#### - min_samples_leaf 파라미터 조정\n",
    ": min_samples_leaf가 16일 때, train도 잘설명하면서, test도 잘 설명한다고 생각했다. 따라서 모델을 일반화 시키기 위해 min_samples_leaf를 16으로 결정하였다."
   ]
  },
  {
   "cell_type": "code",
   "execution_count": 62,
   "id": "3db99af6",
   "metadata": {},
   "outputs": [
    {
     "data": {
      "text/html": [
       "<div>\n",
       "<style scoped>\n",
       "    .dataframe tbody tr th:only-of-type {\n",
       "        vertical-align: middle;\n",
       "    }\n",
       "\n",
       "    .dataframe tbody tr th {\n",
       "        vertical-align: top;\n",
       "    }\n",
       "\n",
       "    .dataframe thead th {\n",
       "        text-align: right;\n",
       "    }\n",
       "</style>\n",
       "<table border=\"1\" class=\"dataframe\">\n",
       "  <thead>\n",
       "    <tr style=\"text-align: right;\">\n",
       "      <th></th>\n",
       "      <th>MinSamplesLeaf</th>\n",
       "      <th>TrainScore</th>\n",
       "      <th>TestScore</th>\n",
       "    </tr>\n",
       "  </thead>\n",
       "  <tbody>\n",
       "    <tr>\n",
       "      <th>0</th>\n",
       "      <td>1</td>\n",
       "      <td>0.811</td>\n",
       "      <td>0.441</td>\n",
       "    </tr>\n",
       "    <tr>\n",
       "      <th>1</th>\n",
       "      <td>2</td>\n",
       "      <td>0.818</td>\n",
       "      <td>0.464</td>\n",
       "    </tr>\n",
       "    <tr>\n",
       "      <th>2</th>\n",
       "      <td>3</td>\n",
       "      <td>0.809</td>\n",
       "      <td>0.459</td>\n",
       "    </tr>\n",
       "    <tr>\n",
       "      <th>3</th>\n",
       "      <td>4</td>\n",
       "      <td>0.802</td>\n",
       "      <td>0.432</td>\n",
       "    </tr>\n",
       "    <tr>\n",
       "      <th>4</th>\n",
       "      <td>5</td>\n",
       "      <td>0.793</td>\n",
       "      <td>0.429</td>\n",
       "    </tr>\n",
       "    <tr>\n",
       "      <th>5</th>\n",
       "      <td>6</td>\n",
       "      <td>0.793</td>\n",
       "      <td>0.450</td>\n",
       "    </tr>\n",
       "    <tr>\n",
       "      <th>6</th>\n",
       "      <td>7</td>\n",
       "      <td>0.794</td>\n",
       "      <td>0.452</td>\n",
       "    </tr>\n",
       "    <tr>\n",
       "      <th>7</th>\n",
       "      <td>8</td>\n",
       "      <td>0.781</td>\n",
       "      <td>0.450</td>\n",
       "    </tr>\n",
       "    <tr>\n",
       "      <th>8</th>\n",
       "      <td>9</td>\n",
       "      <td>0.783</td>\n",
       "      <td>0.448</td>\n",
       "    </tr>\n",
       "    <tr>\n",
       "      <th>9</th>\n",
       "      <td>10</td>\n",
       "      <td>0.780</td>\n",
       "      <td>0.460</td>\n",
       "    </tr>\n",
       "    <tr>\n",
       "      <th>10</th>\n",
       "      <td>11</td>\n",
       "      <td>0.770</td>\n",
       "      <td>0.428</td>\n",
       "    </tr>\n",
       "    <tr>\n",
       "      <th>11</th>\n",
       "      <td>12</td>\n",
       "      <td>0.777</td>\n",
       "      <td>0.448</td>\n",
       "    </tr>\n",
       "    <tr>\n",
       "      <th>12</th>\n",
       "      <td>13</td>\n",
       "      <td>0.766</td>\n",
       "      <td>0.458</td>\n",
       "    </tr>\n",
       "    <tr>\n",
       "      <th>13</th>\n",
       "      <td>14</td>\n",
       "      <td>0.772</td>\n",
       "      <td>0.456</td>\n",
       "    </tr>\n",
       "    <tr>\n",
       "      <th>14</th>\n",
       "      <td>15</td>\n",
       "      <td>0.763</td>\n",
       "      <td>0.460</td>\n",
       "    </tr>\n",
       "    <tr>\n",
       "      <th>15</th>\n",
       "      <td>16</td>\n",
       "      <td>0.759</td>\n",
       "      <td>0.481</td>\n",
       "    </tr>\n",
       "    <tr>\n",
       "      <th>16</th>\n",
       "      <td>17</td>\n",
       "      <td>0.751</td>\n",
       "      <td>0.459</td>\n",
       "    </tr>\n",
       "    <tr>\n",
       "      <th>17</th>\n",
       "      <td>18</td>\n",
       "      <td>0.751</td>\n",
       "      <td>0.462</td>\n",
       "    </tr>\n",
       "    <tr>\n",
       "      <th>18</th>\n",
       "      <td>19</td>\n",
       "      <td>0.748</td>\n",
       "      <td>0.475</td>\n",
       "    </tr>\n",
       "    <tr>\n",
       "      <th>19</th>\n",
       "      <td>20</td>\n",
       "      <td>0.745</td>\n",
       "      <td>0.464</td>\n",
       "    </tr>\n",
       "  </tbody>\n",
       "</table>\n",
       "</div>"
      ],
      "text/plain": [
       "    MinSamplesLeaf  TrainScore  TestScore\n",
       "0                1       0.811      0.441\n",
       "1                2       0.818      0.464\n",
       "2                3       0.809      0.459\n",
       "3                4       0.802      0.432\n",
       "4                5       0.793      0.429\n",
       "5                6       0.793      0.450\n",
       "6                7       0.794      0.452\n",
       "7                8       0.781      0.450\n",
       "8                9       0.783      0.448\n",
       "9               10       0.780      0.460\n",
       "10              11       0.770      0.428\n",
       "11              12       0.777      0.448\n",
       "12              13       0.766      0.458\n",
       "13              14       0.772      0.456\n",
       "14              15       0.763      0.460\n",
       "15              16       0.759      0.481\n",
       "16              17       0.751      0.459\n",
       "17              18       0.751      0.462\n",
       "18              19       0.748      0.475\n",
       "19              20       0.745      0.464"
      ]
     },
     "execution_count": 62,
     "metadata": {},
     "output_type": "execute_result"
    }
   ],
   "source": [
    "train_score = []; test_score = []\n",
    "# min_samples_leaf: 잎사귀 최소 자료 수 \n",
    "para_leaf = [n_leaf for n_leaf in range(1, 21)]\n",
    "\n",
    "for v_min_samples_leaf in para_leaf:\n",
    "    gb = GradientBoostingRegressor(random_state=20240305, n_estimators = 80,\n",
    "                                   min_samples_leaf = v_min_samples_leaf)\n",
    "    gb.fit(df_train_x, df_train_y)\n",
    "    train_score.append(gb.score(df_train_x, df_train_y))\n",
    "    test_score.append(gb.score(df_test_x, df_test_y))\n",
    "\n",
    "# 결과 저장\n",
    "df_score_leaf = pd.DataFrame()\n",
    "df_score_leaf[\"MinSamplesLeaf\"] = para_leaf\n",
    "df_score_leaf[\"TrainScore\"] = train_score\n",
    "df_score_leaf[\"TestScore\"] = test_score\n",
    "\n",
    "df_score_leaf.round(3)"
   ]
  },
  {
   "cell_type": "code",
   "execution_count": 63,
   "id": "5c51ea94",
   "metadata": {},
   "outputs": [
    {
     "data": {
      "text/plain": [
       "<matplotlib.legend.Legend at 0x7f68a5b9df30>"
      ]
     },
     "execution_count": 63,
     "metadata": {},
     "output_type": "execute_result"
    },
    {
     "data": {
      "image/png": "[encoded data removed]",
      "text/plain": [
       "<Figure size 640x480 with 1 Axes>"
      ]
     },
     "metadata": {},
     "output_type": "display_data"
    }
   ],
   "source": [
    "plt.plot(para_leaf, train_score, linestyle = \"-\", label = \"Train Score\")\n",
    "plt.plot(para_leaf, test_score, linestyle = \"--\", label = \"Test Score\")\n",
    "plt.ylabel(\"score\"); plt.xlabel(\"min samples leaf\")\n",
    "plt.legend()"
   ]
  },
  {
   "cell_type": "markdown",
   "id": "379703e6",
   "metadata": {},
   "source": [
    "#### - min_samples_split 파라미터 조정\n",
    ": min_samples_split가 10일 때, train도 잘설명하면서, test도 잘 설명한다고 생각했다. 따라서 모델을 일반화 시키기 위해 min_samples_split을 10으로 결정하였다."
   ]
  },
  {
   "cell_type": "code",
   "execution_count": 64,
   "id": "51f2cc20",
   "metadata": {},
   "outputs": [
    {
     "data": {
      "text/html": [
       "<div>\n",
       "<style scoped>\n",
       "    .dataframe tbody tr th:only-of-type {\n",
       "        vertical-align: middle;\n",
       "    }\n",
       "\n",
       "    .dataframe tbody tr th {\n",
       "        vertical-align: top;\n",
       "    }\n",
       "\n",
       "    .dataframe thead th {\n",
       "        text-align: right;\n",
       "    }\n",
       "</style>\n",
       "<table border=\"1\" class=\"dataframe\">\n",
       "  <thead>\n",
       "    <tr style=\"text-align: right;\">\n",
       "      <th></th>\n",
       "      <th>MinSamplesSplit</th>\n",
       "      <th>TrainScore</th>\n",
       "      <th>TestScore</th>\n",
       "    </tr>\n",
       "  </thead>\n",
       "  <tbody>\n",
       "    <tr>\n",
       "      <th>0</th>\n",
       "      <td>2</td>\n",
       "      <td>0.759</td>\n",
       "      <td>0.481</td>\n",
       "    </tr>\n",
       "    <tr>\n",
       "      <th>1</th>\n",
       "      <td>4</td>\n",
       "      <td>0.759</td>\n",
       "      <td>0.481</td>\n",
       "    </tr>\n",
       "    <tr>\n",
       "      <th>2</th>\n",
       "      <td>6</td>\n",
       "      <td>0.759</td>\n",
       "      <td>0.481</td>\n",
       "    </tr>\n",
       "    <tr>\n",
       "      <th>3</th>\n",
       "      <td>8</td>\n",
       "      <td>0.759</td>\n",
       "      <td>0.481</td>\n",
       "    </tr>\n",
       "    <tr>\n",
       "      <th>4</th>\n",
       "      <td>10</td>\n",
       "      <td>0.759</td>\n",
       "      <td>0.481</td>\n",
       "    </tr>\n",
       "    <tr>\n",
       "      <th>5</th>\n",
       "      <td>12</td>\n",
       "      <td>0.759</td>\n",
       "      <td>0.481</td>\n",
       "    </tr>\n",
       "    <tr>\n",
       "      <th>6</th>\n",
       "      <td>14</td>\n",
       "      <td>0.759</td>\n",
       "      <td>0.481</td>\n",
       "    </tr>\n",
       "    <tr>\n",
       "      <th>7</th>\n",
       "      <td>16</td>\n",
       "      <td>0.759</td>\n",
       "      <td>0.481</td>\n",
       "    </tr>\n",
       "    <tr>\n",
       "      <th>8</th>\n",
       "      <td>18</td>\n",
       "      <td>0.759</td>\n",
       "      <td>0.481</td>\n",
       "    </tr>\n",
       "    <tr>\n",
       "      <th>9</th>\n",
       "      <td>20</td>\n",
       "      <td>0.759</td>\n",
       "      <td>0.481</td>\n",
       "    </tr>\n",
       "    <tr>\n",
       "      <th>10</th>\n",
       "      <td>22</td>\n",
       "      <td>0.759</td>\n",
       "      <td>0.481</td>\n",
       "    </tr>\n",
       "    <tr>\n",
       "      <th>11</th>\n",
       "      <td>24</td>\n",
       "      <td>0.759</td>\n",
       "      <td>0.481</td>\n",
       "    </tr>\n",
       "    <tr>\n",
       "      <th>12</th>\n",
       "      <td>26</td>\n",
       "      <td>0.759</td>\n",
       "      <td>0.481</td>\n",
       "    </tr>\n",
       "    <tr>\n",
       "      <th>13</th>\n",
       "      <td>28</td>\n",
       "      <td>0.759</td>\n",
       "      <td>0.481</td>\n",
       "    </tr>\n",
       "    <tr>\n",
       "      <th>14</th>\n",
       "      <td>30</td>\n",
       "      <td>0.759</td>\n",
       "      <td>0.481</td>\n",
       "    </tr>\n",
       "    <tr>\n",
       "      <th>15</th>\n",
       "      <td>32</td>\n",
       "      <td>0.759</td>\n",
       "      <td>0.481</td>\n",
       "    </tr>\n",
       "    <tr>\n",
       "      <th>16</th>\n",
       "      <td>34</td>\n",
       "      <td>0.757</td>\n",
       "      <td>0.456</td>\n",
       "    </tr>\n",
       "    <tr>\n",
       "      <th>17</th>\n",
       "      <td>36</td>\n",
       "      <td>0.753</td>\n",
       "      <td>0.492</td>\n",
       "    </tr>\n",
       "    <tr>\n",
       "      <th>18</th>\n",
       "      <td>38</td>\n",
       "      <td>0.749</td>\n",
       "      <td>0.491</td>\n",
       "    </tr>\n",
       "    <tr>\n",
       "      <th>19</th>\n",
       "      <td>40</td>\n",
       "      <td>0.750</td>\n",
       "      <td>0.484</td>\n",
       "    </tr>\n",
       "  </tbody>\n",
       "</table>\n",
       "</div>"
      ],
      "text/plain": [
       "    MinSamplesSplit  TrainScore  TestScore\n",
       "0                 2       0.759      0.481\n",
       "1                 4       0.759      0.481\n",
       "2                 6       0.759      0.481\n",
       "3                 8       0.759      0.481\n",
       "4                10       0.759      0.481\n",
       "5                12       0.759      0.481\n",
       "6                14       0.759      0.481\n",
       "7                16       0.759      0.481\n",
       "8                18       0.759      0.481\n",
       "9                20       0.759      0.481\n",
       "10               22       0.759      0.481\n",
       "11               24       0.759      0.481\n",
       "12               26       0.759      0.481\n",
       "13               28       0.759      0.481\n",
       "14               30       0.759      0.481\n",
       "15               32       0.759      0.481\n",
       "16               34       0.757      0.456\n",
       "17               36       0.753      0.492\n",
       "18               38       0.749      0.491\n",
       "19               40       0.750      0.484"
      ]
     },
     "execution_count": 64,
     "metadata": {},
     "output_type": "execute_result"
    }
   ],
   "source": [
    "train_score = []; test_score = []\n",
    "# min_samples_split: 분할하기 위한 노드의 최소 자료 수 \n",
    "para_split = [n_split * 2 for n_split in range(1, 21)]\n",
    "\n",
    "for v_min_samples_split in para_split:\n",
    "    gb = GradientBoostingRegressor(random_state=20240305, n_estimators = 80, min_samples_leaf = 16,\n",
    "                                   min_samples_split = v_min_samples_split)\n",
    "    gb.fit(df_train_x, df_train_y)\n",
    "    train_score.append(gb.score(df_train_x, df_train_y))\n",
    "    test_score.append(gb.score(df_test_x, df_test_y))\n",
    "\n",
    "# 결과 저장\n",
    "df_score_split = pd.DataFrame()\n",
    "df_score_split[\"MinSamplesSplit\"] = para_split\n",
    "df_score_split[\"TrainScore\"] = train_score\n",
    "df_score_split[\"TestScore\"] = test_score\n",
    "\n",
    "df_score_split.round(3)"
   ]
  },
  {
   "cell_type": "code",
   "execution_count": 65,
   "id": "b3be62d0",
   "metadata": {},
   "outputs": [
    {
     "data": {
      "text/plain": [
       "<matplotlib.legend.Legend at 0x7f68a5a12b30>"
      ]
     },
     "execution_count": 65,
     "metadata": {},
     "output_type": "execute_result"
    },
    {
     "data": {
      "image/png": "[encoded data removed]",
      "text/plain": [
       "<Figure size 640x480 with 1 Axes>"
      ]
     },
     "metadata": {},
     "output_type": "display_data"
    }
   ],
   "source": [
    "plt.plot(para_split, train_score, linestyle = \"-\", label = \"Train Score\")\n",
    "plt.plot(para_split, test_score, linestyle = \"--\", label = \"Test Score\")\n",
    "plt.ylabel(\"score\"); plt.xlabel(\"min samples split\")\n",
    "plt.legend()"
   ]
  },
  {
   "cell_type": "markdown",
   "id": "a4f88060",
   "metadata": {},
   "source": [
    "#### - max_depth 파라미터 조정\n",
    ": max_depth가 3일 때, train도 잘설명하면서, test도 잘 설명한다고 생각했다. 따라서 모델을 일반화 시키기 위해 max_depth을 3으로 결정하였다."
   ]
  },
  {
   "cell_type": "code",
   "execution_count": 66,
   "id": "6253468b",
   "metadata": {},
   "outputs": [
    {
     "data": {
      "text/html": [
       "<div>\n",
       "<style scoped>\n",
       "    .dataframe tbody tr th:only-of-type {\n",
       "        vertical-align: middle;\n",
       "    }\n",
       "\n",
       "    .dataframe tbody tr th {\n",
       "        vertical-align: top;\n",
       "    }\n",
       "\n",
       "    .dataframe thead th {\n",
       "        text-align: right;\n",
       "    }\n",
       "</style>\n",
       "<table border=\"1\" class=\"dataframe\">\n",
       "  <thead>\n",
       "    <tr style=\"text-align: right;\">\n",
       "      <th></th>\n",
       "      <th>Depth</th>\n",
       "      <th>TrainScore</th>\n",
       "      <th>TestScore</th>\n",
       "    </tr>\n",
       "  </thead>\n",
       "  <tbody>\n",
       "    <tr>\n",
       "      <th>0</th>\n",
       "      <td>1</td>\n",
       "      <td>0.567</td>\n",
       "      <td>0.479</td>\n",
       "    </tr>\n",
       "    <tr>\n",
       "      <th>1</th>\n",
       "      <td>2</td>\n",
       "      <td>0.670</td>\n",
       "      <td>0.486</td>\n",
       "    </tr>\n",
       "    <tr>\n",
       "      <th>2</th>\n",
       "      <td>3</td>\n",
       "      <td>0.759</td>\n",
       "      <td>0.481</td>\n",
       "    </tr>\n",
       "    <tr>\n",
       "      <th>3</th>\n",
       "      <td>4</td>\n",
       "      <td>0.825</td>\n",
       "      <td>0.456</td>\n",
       "    </tr>\n",
       "    <tr>\n",
       "      <th>4</th>\n",
       "      <td>5</td>\n",
       "      <td>0.872</td>\n",
       "      <td>0.455</td>\n",
       "    </tr>\n",
       "    <tr>\n",
       "      <th>5</th>\n",
       "      <td>6</td>\n",
       "      <td>0.897</td>\n",
       "      <td>0.447</td>\n",
       "    </tr>\n",
       "    <tr>\n",
       "      <th>6</th>\n",
       "      <td>7</td>\n",
       "      <td>0.912</td>\n",
       "      <td>0.436</td>\n",
       "    </tr>\n",
       "    <tr>\n",
       "      <th>7</th>\n",
       "      <td>8</td>\n",
       "      <td>0.923</td>\n",
       "      <td>0.427</td>\n",
       "    </tr>\n",
       "    <tr>\n",
       "      <th>8</th>\n",
       "      <td>9</td>\n",
       "      <td>0.926</td>\n",
       "      <td>0.439</td>\n",
       "    </tr>\n",
       "    <tr>\n",
       "      <th>9</th>\n",
       "      <td>10</td>\n",
       "      <td>0.931</td>\n",
       "      <td>0.414</td>\n",
       "    </tr>\n",
       "  </tbody>\n",
       "</table>\n",
       "</div>"
      ],
      "text/plain": [
       "   Depth  TrainScore  TestScore\n",
       "0      1       0.567      0.479\n",
       "1      2       0.670      0.486\n",
       "2      3       0.759      0.481\n",
       "3      4       0.825      0.456\n",
       "4      5       0.872      0.455\n",
       "5      6       0.897      0.447\n",
       "6      7       0.912      0.436\n",
       "7      8       0.923      0.427\n",
       "8      9       0.926      0.439\n",
       "9     10       0.931      0.414"
      ]
     },
     "execution_count": 66,
     "metadata": {},
     "output_type": "execute_result"
    }
   ],
   "source": [
    "train_score = []; test_score = []\n",
    "# max_depth: 최대 깊이 변경\n",
    "para_depth = [depth for depth in range(1, 11)]\n",
    "\n",
    "for v_max_depth in para_depth:\n",
    "    gb = GradientBoostingRegressor(random_state=20240305, n_estimators = 80, min_samples_leaf = 16,\n",
    "                                   min_samples_split = 10, max_depth = v_max_depth)\n",
    "    gb.fit(df_train_x, df_train_y)\n",
    "    train_score.append(gb.score(df_train_x, df_train_y))\n",
    "    test_score.append(gb.score(df_test_x, df_test_y))\n",
    "\n",
    "# 결과 저장\n",
    "df_score_depth = pd.DataFrame()\n",
    "df_score_depth[\"Depth\"] = para_depth\n",
    "df_score_depth[\"TrainScore\"] = train_score\n",
    "df_score_depth[\"TestScore\"] = test_score\n",
    "\n",
    "df_score_depth.round(3)"
   ]
  },
  {
   "cell_type": "code",
   "execution_count": 67,
   "id": "d3332169",
   "metadata": {},
   "outputs": [
    {
     "data": {
      "text/plain": [
       "<matplotlib.legend.Legend at 0x7f68a58d2c20>"
      ]
     },
     "execution_count": 67,
     "metadata": {},
     "output_type": "execute_result"
    },
    {
     "data": {
      "image/png": "[encoded data removed]",
      "text/plain": [
       "<Figure size 640x480 with 1 Axes>"
      ]
     },
     "metadata": {},
     "output_type": "display_data"
    }
   ],
   "source": [
    "plt.plot(para_depth, train_score, linestyle = \"-\", label = \"Train Score\")\n",
    "plt.plot(para_depth, test_score, linestyle = \"--\", label = \"Test Score\")\n",
    "plt.ylabel(\"score\"); plt.xlabel(\"depth\")\n",
    "plt.legend()"
   ]
  },
  {
   "cell_type": "markdown",
   "id": "63666c95",
   "metadata": {},
   "source": [
    "#### - learning rate 파라미터 조정\n",
    ": learning_rate가 0.1일 때, train도 잘설명하면서, test도 잘 설명한다고 생각했다. 따라서 모델을 일반화 시키기 위해 learning_rate을 0.1으로 결정하였다."
   ]
  },
  {
   "cell_type": "code",
   "execution_count": 68,
   "id": "12596286",
   "metadata": {},
   "outputs": [
    {
     "data": {
      "text/html": [
       "<div>\n",
       "<style scoped>\n",
       "    .dataframe tbody tr th:only-of-type {\n",
       "        vertical-align: middle;\n",
       "    }\n",
       "\n",
       "    .dataframe tbody tr th {\n",
       "        vertical-align: top;\n",
       "    }\n",
       "\n",
       "    .dataframe thead th {\n",
       "        text-align: right;\n",
       "    }\n",
       "</style>\n",
       "<table border=\"1\" class=\"dataframe\">\n",
       "  <thead>\n",
       "    <tr style=\"text-align: right;\">\n",
       "      <th></th>\n",
       "      <th>LearningRate</th>\n",
       "      <th>TrainScore</th>\n",
       "      <th>TestScore</th>\n",
       "    </tr>\n",
       "  </thead>\n",
       "  <tbody>\n",
       "    <tr>\n",
       "      <th>0</th>\n",
       "      <td>0.1</td>\n",
       "      <td>0.759</td>\n",
       "      <td>0.481</td>\n",
       "    </tr>\n",
       "    <tr>\n",
       "      <th>1</th>\n",
       "      <td>0.2</td>\n",
       "      <td>0.833</td>\n",
       "      <td>0.450</td>\n",
       "    </tr>\n",
       "    <tr>\n",
       "      <th>2</th>\n",
       "      <td>0.3</td>\n",
       "      <td>0.893</td>\n",
       "      <td>0.431</td>\n",
       "    </tr>\n",
       "    <tr>\n",
       "      <th>3</th>\n",
       "      <td>0.4</td>\n",
       "      <td>0.930</td>\n",
       "      <td>0.338</td>\n",
       "    </tr>\n",
       "    <tr>\n",
       "      <th>4</th>\n",
       "      <td>0.5</td>\n",
       "      <td>0.949</td>\n",
       "      <td>0.359</td>\n",
       "    </tr>\n",
       "    <tr>\n",
       "      <th>5</th>\n",
       "      <td>0.6</td>\n",
       "      <td>0.962</td>\n",
       "      <td>0.325</td>\n",
       "    </tr>\n",
       "    <tr>\n",
       "      <th>6</th>\n",
       "      <td>0.7</td>\n",
       "      <td>0.968</td>\n",
       "      <td>0.320</td>\n",
       "    </tr>\n",
       "    <tr>\n",
       "      <th>7</th>\n",
       "      <td>0.8</td>\n",
       "      <td>0.981</td>\n",
       "      <td>0.211</td>\n",
       "    </tr>\n",
       "    <tr>\n",
       "      <th>8</th>\n",
       "      <td>0.9</td>\n",
       "      <td>0.985</td>\n",
       "      <td>0.202</td>\n",
       "    </tr>\n",
       "  </tbody>\n",
       "</table>\n",
       "</div>"
      ],
      "text/plain": [
       "   LearningRate  TrainScore  TestScore\n",
       "0           0.1       0.759      0.481\n",
       "1           0.2       0.833      0.450\n",
       "2           0.3       0.893      0.431\n",
       "3           0.4       0.930      0.338\n",
       "4           0.5       0.949      0.359\n",
       "5           0.6       0.962      0.325\n",
       "6           0.7       0.968      0.320\n",
       "7           0.8       0.981      0.211\n",
       "8           0.9       0.985      0.202"
      ]
     },
     "execution_count": 68,
     "metadata": {},
     "output_type": "execute_result"
    }
   ],
   "source": [
    "train_score = []; test_score = []\n",
    "# learning rate: 학습률 변경 0.1 ~ 0.9\n",
    "para_lr = [lr * 0.1 for lr in range(1, 10)]\n",
    "\n",
    "for v_learning_rate in para_lr:\n",
    "    gb = GradientBoostingRegressor(random_state=20240305, n_estimators = 80, min_samples_leaf = 16,\n",
    "                                   min_samples_split = 10, max_depth = 3, learning_rate = v_learning_rate)\n",
    "    gb.fit(df_train_x, df_train_y)\n",
    "    train_score.append(gb.score(df_train_x, df_train_y))\n",
    "    test_score.append(gb.score(df_test_x, df_test_y))\n",
    "\n",
    "# 결과 저장\n",
    "df_score_lr = pd.DataFrame()\n",
    "df_score_lr[\"LearningRate\"] = para_lr\n",
    "df_score_lr[\"TrainScore\"] = train_score\n",
    "df_score_lr[\"TestScore\"] = test_score\n",
    "\n",
    "df_score_lr.round(3)"
   ]
  },
  {
   "cell_type": "code",
   "execution_count": 69,
   "id": "beec5114",
   "metadata": {},
   "outputs": [
    {
     "data": {
      "text/plain": [
       "<matplotlib.legend.Legend at 0x7f68a58f3d90>"
      ]
     },
     "execution_count": 69,
     "metadata": {},
     "output_type": "execute_result"
    },
    {
     "data": {
      "image/png": "[encoded data removed]",
      "text/plain": [
       "<Figure size 640x480 with 1 Axes>"
      ]
     },
     "metadata": {},
     "output_type": "display_data"
    }
   ],
   "source": [
    "plt.plot(para_lr, train_score, linestyle = \"-\", label = \"Train Score\")\n",
    "plt.plot(para_lr, test_score, linestyle = \"--\", label = \"Test Score\")\n",
    "plt.ylabel(\"score\"); plt.xlabel(\"learning rate\")\n",
    "plt.legend()"
   ]
  },
  {
   "cell_type": "markdown",
   "id": "db2b520e",
   "metadata": {},
   "source": [
    "##### - 조정된 모델의 파라미터"
   ]
  },
  {
   "cell_type": "code",
   "execution_count": 70,
   "id": "5262c261",
   "metadata": {},
   "outputs": [
    {
     "data": {
      "text/plain": [
       "{'alpha': 0.9,\n",
       " 'ccp_alpha': 0.0,\n",
       " 'criterion': 'friedman_mse',\n",
       " 'init': None,\n",
       " 'learning_rate': 0.1,\n",
       " 'loss': 'squared_error',\n",
       " 'max_depth': 3,\n",
       " 'max_features': None,\n",
       " 'max_leaf_nodes': None,\n",
       " 'min_impurity_decrease': 0.0,\n",
       " 'min_samples_leaf': 16,\n",
       " 'min_samples_split': 10,\n",
       " 'min_weight_fraction_leaf': 0.0,\n",
       " 'n_estimators': 80,\n",
       " 'n_iter_no_change': None,\n",
       " 'random_state': 20240305,\n",
       " 'subsample': 1.0,\n",
       " 'tol': 0.0001,\n",
       " 'validation_fraction': 0.1,\n",
       " 'verbose': 0,\n",
       " 'warm_start': False}"
      ]
     },
     "execution_count": 70,
     "metadata": {},
     "output_type": "execute_result"
    }
   ],
   "source": [
    "v_feature_name = df_train_x.columns\n",
    "gb_final = GradientBoostingRegressor(random_state=20240305, n_estimators = 80, min_samples_leaf = 16,\n",
    "                                     min_samples_split = 10, max_depth = 3, learning_rate = 0.1)\n",
    "gb_final.fit(df_train_x, df_train_y)\n",
    "gb_final.get_params()"
   ]
  },
  {
   "cell_type": "markdown",
   "id": "acfa38ca",
   "metadata": {},
   "source": [
    "#### - 변수 중요도 & 시각화\n",
    ": Y를 구분하는데 BMI이 0.353로 가장 높음을 알 수 있었다. 그 외에이 LTG가 0.307로 영향력이 높게 나왔고, 그 뒤로 BP의 변수가 영향력이 있는 것으로 나타났다."
   ]
  },
  {
   "cell_type": "code",
   "execution_count": 71,
   "id": "60aa4b68",
   "metadata": {},
   "outputs": [
    {
     "data": {
      "text/html": [
       "<div>\n",
       "<style scoped>\n",
       "    .dataframe tbody tr th:only-of-type {\n",
       "        vertical-align: middle;\n",
       "    }\n",
       "\n",
       "    .dataframe tbody tr th {\n",
       "        vertical-align: top;\n",
       "    }\n",
       "\n",
       "    .dataframe thead th {\n",
       "        text-align: right;\n",
       "    }\n",
       "</style>\n",
       "<table border=\"1\" class=\"dataframe\">\n",
       "  <thead>\n",
       "    <tr style=\"text-align: right;\">\n",
       "      <th></th>\n",
       "      <th>Feature</th>\n",
       "      <th>Importance</th>\n",
       "    </tr>\n",
       "  </thead>\n",
       "  <tbody>\n",
       "    <tr>\n",
       "      <th>1</th>\n",
       "      <td>BMI</td>\n",
       "      <td>0.353</td>\n",
       "    </tr>\n",
       "    <tr>\n",
       "      <th>7</th>\n",
       "      <td>LTG</td>\n",
       "      <td>0.307</td>\n",
       "    </tr>\n",
       "    <tr>\n",
       "      <th>2</th>\n",
       "      <td>BP</td>\n",
       "      <td>0.113</td>\n",
       "    </tr>\n",
       "    <tr>\n",
       "      <th>8</th>\n",
       "      <td>GLUCOSE</td>\n",
       "      <td>0.068</td>\n",
       "    </tr>\n",
       "    <tr>\n",
       "      <th>0</th>\n",
       "      <td>AGE</td>\n",
       "      <td>0.038</td>\n",
       "    </tr>\n",
       "    <tr>\n",
       "      <th>5</th>\n",
       "      <td>HDL</td>\n",
       "      <td>0.033</td>\n",
       "    </tr>\n",
       "    <tr>\n",
       "      <th>4</th>\n",
       "      <td>LDL</td>\n",
       "      <td>0.028</td>\n",
       "    </tr>\n",
       "    <tr>\n",
       "      <th>3</th>\n",
       "      <td>CHOLESTEROL</td>\n",
       "      <td>0.024</td>\n",
       "    </tr>\n",
       "    <tr>\n",
       "      <th>9</th>\n",
       "      <td>GENDER</td>\n",
       "      <td>0.019</td>\n",
       "    </tr>\n",
       "    <tr>\n",
       "      <th>6</th>\n",
       "      <td>TCH</td>\n",
       "      <td>0.017</td>\n",
       "    </tr>\n",
       "  </tbody>\n",
       "</table>\n",
       "</div>"
      ],
      "text/plain": [
       "       Feature  Importance\n",
       "1          BMI       0.353\n",
       "7          LTG       0.307\n",
       "2           BP       0.113\n",
       "8      GLUCOSE       0.068\n",
       "0          AGE       0.038\n",
       "5          HDL       0.033\n",
       "4          LDL       0.028\n",
       "3  CHOLESTEROL       0.024\n",
       "9       GENDER       0.019\n",
       "6          TCH       0.017"
      ]
     },
     "execution_count": 71,
     "metadata": {},
     "output_type": "execute_result"
    }
   ],
   "source": [
    "v_feature_name = df_train_x.columns\n",
    "\n",
    "# tree.feature_importances_로 설명변수 중요도 확인 및 테이블로 저장\n",
    "df_importance = pd.DataFrame()\n",
    "df_importance[\"Feature\"] = v_feature_name\n",
    "df_importance[\"Importance\"] = gb_final.feature_importances_\n",
    "# df_feature_importance의 테이블을 중요도별로 정렬\n",
    "df_importance.sort_values(\"Importance\", ascending=False, inplace = True)\n",
    "df_importance.round(3)"
   ]
  },
  {
   "cell_type": "code",
   "execution_count": 72,
   "id": "e95ce172",
   "metadata": {},
   "outputs": [
    {
     "data": {
      "image/png": "[encoded data removed]",
      "text/plain": [
       "<Figure size 640x480 with 1 Axes>"
      ]
     },
     "metadata": {},
     "output_type": "display_data"
    }
   ],
   "source": [
    "df_importance.sort_values(\"Importance\", ascending=True, inplace = True)\n",
    "coordinates = range(len(df_importance))\n",
    "plt.barh(y = coordinates, width = df_importance[\"Importance\"])\n",
    "plt.yticks(coordinates, df_importance[\"Feature\"])\n",
    "plt.xlabel(\"변수 중요도\")\n",
    "plt.ylabel(\"변수\")\n",
    "plt.show()"
   ]
  },
  {
   "cell_type": "markdown",
   "id": "bc081a85",
   "metadata": {},
   "source": [
    "#### - Gradient Boosting 모델의 R2 스코어\n",
    ": train data에 대한 R2(결정계수)는 0.759, test data에 대한 R2는 0.481로 나타났다. 이는 test data보다 train data에 대한 모델의 설명력이 더 좋음을 나타낸다. 이는 과적합이 되어 있다고 볼 수 있으며, test data에 대한 결정계수의 개선의 여지가 있다."
   ]
  },
  {
   "cell_type": "code",
   "execution_count": 73,
   "id": "7fac3322",
   "metadata": {},
   "outputs": [
    {
     "name": "stdout",
     "output_type": "stream",
     "text": [
      "Score on training set: 0.759\n",
      "Score on test set: 0.481\n"
     ]
    }
   ],
   "source": [
    "gb_final = GradientBoostingRegressor(random_state=20240305, n_estimators = 80, min_samples_leaf = 16,\n",
    "                                     min_samples_split = 10, max_depth = 3, learning_rate = 0.1)\n",
    "gb_final.fit(df_train_x, df_train_y)\n",
    "# Train 데이터 설명력\n",
    "print(\"Score on training set: {:.3f}\".format(gb_final.score(df_train_x, df_train_y)))\n",
    "# Test 데이터 설명력\n",
    "print(\"Score on test set: {:.3f}\".format(gb_final.score(df_test_x, df_test_y)))"
   ]
  },
  {
   "cell_type": "markdown",
   "id": "2422503e",
   "metadata": {},
   "source": [
    "## 모델 평가"
   ]
  },
  {
   "cell_type": "markdown",
   "id": "b8dd9724",
   "metadata": {},
   "source": [
    "##### - 파리미터가 조정된 모델"
   ]
  },
  {
   "cell_type": "code",
   "execution_count": 74,
   "id": "b7305af8",
   "metadata": {},
   "outputs": [
    {
     "data": {
      "text/html": [
       "<style>#sk-container-id-1 {color: black;background-color: white;}#sk-container-id-1 pre{padding: 0;}#sk-container-id-1 div.sk-toggleable {background-color: white;}#sk-container-id-1 label.sk-toggleable__label {cursor: pointer;display: block;width: 100%;margin-bottom: 0;padding: 0.3em;box-sizing: border-box;text-align: center;}#sk-container-id-1 label.sk-toggleable__label-arrow:before {content: \"▸\";float: left;margin-right: 0.25em;color: #696969;}#sk-container-id-1 label.sk-toggleable__label-arrow:hover:before {color: black;}#sk-container-id-1 div.sk-estimator:hover label.sk-toggleable__label-arrow:before {color: black;}#sk-container-id-1 div.sk-toggleable__content {max-height: 0;max-width: 0;overflow: hidden;text-align: left;background-color: #f0f8ff;}#sk-container-id-1 div.sk-toggleable__content pre {margin: 0.2em;color: black;border-radius: 0.25em;background-color: #f0f8ff;}#sk-container-id-1 input.sk-toggleable__control:checked~div.sk-toggleable__content {max-height: 200px;max-width: 100%;overflow: auto;}#sk-container-id-1 input.sk-toggleable__control:checked~label.sk-toggleable__label-arrow:before {content: \"▾\";}#sk-container-id-1 div.sk-estimator input.sk-toggleable__control:checked~label.sk-toggleable__label {background-color: #d4ebff;}#sk-container-id-1 div.sk-label input.sk-toggleable__control:checked~label.sk-toggleable__label {background-color: #d4ebff;}#sk-container-id-1 input.sk-hidden--visually {border: 0;clip: rect(1px 1px 1px 1px);clip: rect(1px, 1px, 1px, 1px);height: 1px;margin: -1px;overflow: hidden;padding: 0;position: absolute;width: 1px;}#sk-container-id-1 div.sk-estimator {font-family: monospace;background-color: #f0f8ff;border: 1px dotted black;border-radius: 0.25em;box-sizing: border-box;margin-bottom: 0.5em;}#sk-container-id-1 div.sk-estimator:hover {background-color: #d4ebff;}#sk-container-id-1 div.sk-parallel-item::after {content: \"\";width: 100%;border-bottom: 1px solid gray;flex-grow: 1;}#sk-container-id-1 div.sk-label:hover label.sk-toggleable__label {background-color: #d4ebff;}#sk-container-id-1 div.sk-serial::before {content: \"\";position: absolute;border-left: 1px solid gray;box-sizing: border-box;top: 0;bottom: 0;left: 50%;z-index: 0;}#sk-container-id-1 div.sk-serial {display: flex;flex-direction: column;align-items: center;background-color: white;padding-right: 0.2em;padding-left: 0.2em;position: relative;}#sk-container-id-1 div.sk-item {position: relative;z-index: 1;}#sk-container-id-1 div.sk-parallel {display: flex;align-items: stretch;justify-content: center;background-color: white;position: relative;}#sk-container-id-1 div.sk-item::before, #sk-container-id-1 div.sk-parallel-item::before {content: \"\";position: absolute;border-left: 1px solid gray;box-sizing: border-box;top: 0;bottom: 0;left: 50%;z-index: -1;}#sk-container-id-1 div.sk-parallel-item {display: flex;flex-direction: column;z-index: 1;position: relative;background-color: white;}#sk-container-id-1 div.sk-parallel-item:first-child::after {align-self: flex-end;width: 50%;}#sk-container-id-1 div.sk-parallel-item:last-child::after {align-self: flex-start;width: 50%;}#sk-container-id-1 div.sk-parallel-item:only-child::after {width: 0;}#sk-container-id-1 div.sk-dashed-wrapped {border: 1px dashed gray;margin: 0 0.4em 0.5em 0.4em;box-sizing: border-box;padding-bottom: 0.4em;background-color: white;}#sk-container-id-1 div.sk-label label {font-family: monospace;font-weight: bold;display: inline-block;line-height: 1.2em;}#sk-container-id-1 div.sk-label-container {text-align: center;}#sk-container-id-1 div.sk-container {/* jupyter's `normalize.less` sets `[hidden] { display: none; }` but bootstrap.min.css set `[hidden] { display: none !important; }` so we also need the `!important` here to be able to override the default hidden behavior on the sphinx rendered scikit-learn.org. See: https://github.com/scikit-learn/scikit-learn/issues/21755 */display: inline-block !important;position: relative;}#sk-container-id-1 div.sk-text-repr-fallback {display: none;}</style><div id=\"sk-container-id-1\" class=\"sk-top-container\"><div class=\"sk-text-repr-fallback\"><pre>GradientBoostingRegressor(min_samples_leaf=16, min_samples_split=10,\n",
       "                          n_estimators=80, random_state=20240305)</pre><b>In a Jupyter environment, please rerun this cell to show the HTML representation or trust the notebook. <br />On GitHub, the HTML representation is unable to render, please try loading this page with nbviewer.org.</b></div><div class=\"sk-container\" hidden><div class=\"sk-item\"><div class=\"sk-estimator sk-toggleable\"><input class=\"sk-toggleable__control sk-hidden--visually\" id=\"sk-estimator-id-1\" type=\"checkbox\" checked><label for=\"sk-estimator-id-1\" class=\"sk-toggleable__label sk-toggleable__label-arrow\">GradientBoostingRegressor</label><div class=\"sk-toggleable__content\"><pre>GradientBoostingRegressor(min_samples_leaf=16, min_samples_split=10,\n",
       "                          n_estimators=80, random_state=20240305)</pre></div></div></div></div></div>"
      ],
      "text/plain": [
       "GradientBoostingRegressor(min_samples_leaf=16, min_samples_split=10,\n",
       "                          n_estimators=80, random_state=20240305)"
      ]
     },
     "execution_count": 74,
     "metadata": {},
     "output_type": "execute_result"
    }
   ],
   "source": [
    "lr_model = smf.ols(formula = \"Y ~ AGE+ GENDER+ BMI+ BP+ CHOLESTEROL+ LDL+ HDL+ TCH + LTG+ GLUCOSE\", data = df_train)\n",
    "lr_result = lr_model.fit()\n",
    "\n",
    "# Decision Tree\n",
    "dt_model = DecisionTreeRegressor(min_samples_leaf = 13, min_samples_split = 10, max_depth = 5, random_state=20240305)\n",
    "dt_model.fit(df_train_x, df_train_y)\n",
    "\n",
    "# Random Forest\n",
    "rf_model = RandomForestRegressor( n_estimators = 100, min_samples_leaf = 4, min_samples_split = 4, max_depth =7, random_state=20240305 )\n",
    "rf_model.fit(df_train_x, df_train_y)\n",
    "\n",
    "# Gradient Boosting\n",
    "gb_model = GradientBoostingRegressor(random_state=20240305, n_estimators = 80, min_samples_leaf = 16,\n",
    "                                     min_samples_split = 10, max_depth = 3, learning_rate = 0.1)\n",
    "gb_model.fit(df_train_x, df_train_y)"
   ]
  },
  {
   "cell_type": "code",
   "execution_count": 75,
   "id": "9025cac9",
   "metadata": {},
   "outputs": [],
   "source": [
    "models = [\"회귀분석\", \"의사결정나무\", \"랜덤 포레스트\", \"그래디언트 부스팅\"]\n",
    "# 평가 리스트 초기화\n",
    "mse, rmse, mae, mape = [],[],[],[]\n",
    "\n",
    "# 회귀분석예측\n",
    "lr_y_pred = lr_result.predict(df_test)\n",
    "\n",
    "# 평가\n",
    "mse.append(mean_squared_error(df_test['Y'], lr_y_pred))\n",
    "rmse.append(mean_squared_error(df_test_y, lr_y_pred, squared=False))\n",
    "mae.append(mean_absolute_error(df_test['Y'], lr_y_pred))\n",
    "mape.append(mean_absolute_percentage_error(df_test['Y'], lr_y_pred))\n",
    "\n",
    "# 의사결정나무예측\n",
    "dt_y_pred = dt_model.predict(df_test_x)\n",
    "\n",
    "# 평가\n",
    "mse.append(mean_squared_error(df_test_y, dt_y_pred))\n",
    "rmse.append(mean_squared_error(df_test_y, dt_y_pred, squared=False))\n",
    "mae.append(mean_absolute_error(df_test_y, dt_y_pred))\n",
    "mape.append(mean_absolute_percentage_error(df_test_y, dt_y_pred))\n",
    "\n",
    "# 랜덤포레스트예측\n",
    "rf_y_pred = rf_model.predict(df_test_x)\n",
    "\n",
    "# 평가\n",
    "mse.append(mean_squared_error(df_test_y, rf_y_pred))\n",
    "rmse.append(mean_squared_error(df_test_y, rf_y_pred, squared=False))\n",
    "mae.append(mean_absolute_error(df_test_y, rf_y_pred))\n",
    "mape.append(mean_absolute_percentage_error(df_test_y, rf_y_pred))\n",
    "\n",
    "# 그래디언트부스팀예측\n",
    "gb_y_pred = gb_model.predict(df_test_x)\n",
    "\n",
    "# 평가\n",
    "mse.append(mean_squared_error(df_test_y, gb_y_pred))\n",
    "rmse.append(mean_squared_error(df_test_y, gb_y_pred, squared=False))\n",
    "mae.append(mean_absolute_error(df_test_y, gb_y_pred))\n",
    "mape.append(mean_absolute_percentage_error(df_test_y, gb_y_pred))"
   ]
  },
  {
   "cell_type": "markdown",
   "id": "7016f299",
   "metadata": {},
   "source": [
    "##### - 모델별 예측성능 비교\n",
    "결정계수가 높은 모델인 회귀모형의 MSE, RMSE, MAE, MAPE의 값 역시 작게 나왔다.  \n",
    "그 뒤로 랜덤 포레스트와 그래디언트 부스팅의 평가지표들의 값이 비슷한 점을 통해 예측성능이 비슷함을 알 수 있었고, 의사결정나무가 제일 낮은 결정계수 값을 가지며 평가지표들 또한 높은 값을 가진다는 점을 통해 가장 예측 성능이 나쁨을 확인할 수 있다."
   ]
  },
  {
   "cell_type": "code",
   "execution_count": 76,
   "id": "79d57f89",
   "metadata": {},
   "outputs": [
    {
     "data": {
      "image/png": "[encoded data removed]",
      "text/plain": [
       "<Figure size 1300x1000 with 4 Axes>"
      ]
     },
     "metadata": {},
     "output_type": "display_data"
    }
   ],
   "source": [
    "fig, ax = plt.subplots(2,2, figsize = (13,10))\n",
    "ax[0, 0].bar(models, mse)\n",
    "ax[0, 0].set_title(\"mse\").set_fontsize(15)\n",
    "\n",
    "ax[0, 1].bar(models, rmse)\n",
    "ax[0, 1].set_title(\"rmse\").set_fontsize(15)\n",
    "\n",
    "ax[1, 0].bar(models, mae)\n",
    "ax[1, 0].set_title(\"mae\").set_fontsize(15)\n",
    "\n",
    "ax[1, 1].bar(models, mape)\n",
    "ax[1, 1].set_title(\"mape\").set_fontsize(15)"
   ]
  },
  {
   "cell_type": "code",
   "execution_count": null,
   "id": "452a349e",
   "metadata": {},
   "outputs": [],
   "source": []
  }
 ],
 "metadata": {
  "kernelspec": {
   "display_name": "Python 3 (ipykernel)",
   "language": "python",
   "name": "python3"
  },
  "language_info": {
   "codemirror_mode": {
    "name": "ipython",
    "version": 3
   },
   "file_extension": ".py",
   "mimetype": "text/x-python",
   "name": "python",
   "nbconvert_exporter": "python",
   "pygments_lexer": "ipython3",
   "version": "3.10.9"
  }
 },
 "nbformat": 4,
 "nbformat_minor": 5
}
