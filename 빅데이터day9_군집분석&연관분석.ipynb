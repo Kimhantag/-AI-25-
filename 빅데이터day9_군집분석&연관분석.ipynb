{
 "cells": [
  {
   "cell_type": "markdown",
   "id": "b8f41758",
   "metadata": {},
   "source": [
    "## 라이브러리"
   ]
  },
  {
   "cell_type": "code",
   "execution_count": 1,
   "id": "fdb3da9a",
   "metadata": {},
   "outputs": [],
   "source": [
    "# 데이터 구성:Series, DataFrame\n",
    "import pandas as pd\n",
    "# 행렬 연산\n",
    "import numpy as np\n",
    "# 데이터 시각화\n",
    "import matplotlib\n",
    "import matplotlib.pyplot as plt\n",
    "\n",
    "# Scale 변환:평균,표준편차 기준\n",
    "from sklearn.preprocessing import StandardScaler\n",
    "# linkage: 계층형 군집분석, dendrogram: 계층구조 나무, cluster: linkage로부터 얻은 값으로 군집 생성\n",
    "from scipy.cluster.hierarchy import linkage, dendrogram, fcluster\n",
    "# 군집 방법 : AgglomerativeClustering(계층형), KMeans(k-평균), DBSCAN\n",
    "from sklearn.cluster import AgglomerativeClustering, KMeans, DBSCAN\n",
    "\n",
    "# 실루엣(Silhouette) 계수 산출\n",
    "from sklearn.metrics import silhouette_samples, silhouette_score\n",
    "# 실루엣 계수 산출 및 시각화 라이브러리 (pip install yellowbrick 실행)\n",
    "from yellowbrick.cluster import SilhouetteVisualizer\n",
    "# 실행결과 경고메시지 출력 제외\n",
    "import warnings\n",
    "\n",
    "warnings.filterwarnings('ignore')\n",
    "\n",
    "import os\n",
    "os.chdir('/home/piai/실습파일/BigData분석')"
   ]
  },
  {
   "cell_type": "code",
   "execution_count": 2,
   "id": "770a4a79",
   "metadata": {},
   "outputs": [],
   "source": [
    "# 그래프 한글폰트 적용:맑은 고딕\n",
    "matplotlib.rc(\"font\", family = \"NaNumGothic\")\n",
    "# 그래프 (-) 기호 표시\n",
    "matplotlib.rc(\"axes\", unicode_minus = False)"
   ]
  },
  {
   "cell_type": "markdown",
   "id": "ac10579e",
   "metadata": {},
   "source": [
    "# 군집분석_실습"
   ]
  },
  {
   "cell_type": "markdown",
   "id": "c0409cb9",
   "metadata": {},
   "source": [
    "- 붓꽃의 품종 특성 데이터\n",
    "- 꽃잎 및 꽃받침 길이와 넓이 자료를 이용해서 군집 분석을 실시하고 결과를 해석하시오."
   ]
  },
  {
   "cell_type": "markdown",
   "id": "dfbd4db8",
   "metadata": {},
   "source": [
    "## 1. 데이터 구성"
   ]
  },
  {
   "cell_type": "code",
   "execution_count": 3,
   "id": "5b0d9192",
   "metadata": {},
   "outputs": [
    {
     "data": {
      "text/html": [
       "<div>\n",
       "<style scoped>\n",
       "    .dataframe tbody tr th:only-of-type {\n",
       "        vertical-align: middle;\n",
       "    }\n",
       "\n",
       "    .dataframe tbody tr th {\n",
       "        vertical-align: top;\n",
       "    }\n",
       "\n",
       "    .dataframe thead th {\n",
       "        text-align: right;\n",
       "    }\n",
       "</style>\n",
       "<table border=\"1\" class=\"dataframe\">\n",
       "  <thead>\n",
       "    <tr style=\"text-align: right;\">\n",
       "      <th></th>\n",
       "      <th>SEPAL_LENGTH</th>\n",
       "      <th>SEPAL_WIDTH</th>\n",
       "      <th>PETAL_LENGTH</th>\n",
       "      <th>PETAL_WIDTH</th>\n",
       "      <th>SPECIES</th>\n",
       "    </tr>\n",
       "  </thead>\n",
       "  <tbody>\n",
       "    <tr>\n",
       "      <th>0</th>\n",
       "      <td>5.1</td>\n",
       "      <td>3.5</td>\n",
       "      <td>1.4</td>\n",
       "      <td>0.2</td>\n",
       "      <td>setosa</td>\n",
       "    </tr>\n",
       "    <tr>\n",
       "      <th>1</th>\n",
       "      <td>4.9</td>\n",
       "      <td>3.0</td>\n",
       "      <td>1.4</td>\n",
       "      <td>0.2</td>\n",
       "      <td>setosa</td>\n",
       "    </tr>\n",
       "    <tr>\n",
       "      <th>2</th>\n",
       "      <td>4.7</td>\n",
       "      <td>3.2</td>\n",
       "      <td>1.3</td>\n",
       "      <td>0.2</td>\n",
       "      <td>setosa</td>\n",
       "    </tr>\n",
       "    <tr>\n",
       "      <th>3</th>\n",
       "      <td>4.6</td>\n",
       "      <td>3.1</td>\n",
       "      <td>1.5</td>\n",
       "      <td>0.2</td>\n",
       "      <td>setosa</td>\n",
       "    </tr>\n",
       "    <tr>\n",
       "      <th>4</th>\n",
       "      <td>5.0</td>\n",
       "      <td>3.6</td>\n",
       "      <td>1.4</td>\n",
       "      <td>0.2</td>\n",
       "      <td>setosa</td>\n",
       "    </tr>\n",
       "  </tbody>\n",
       "</table>\n",
       "</div>"
      ],
      "text/plain": [
       "   SEPAL_LENGTH  SEPAL_WIDTH  PETAL_LENGTH  PETAL_WIDTH SPECIES\n",
       "0           5.1          3.5           1.4          0.2  setosa\n",
       "1           4.9          3.0           1.4          0.2  setosa\n",
       "2           4.7          3.2           1.3          0.2  setosa\n",
       "3           4.6          3.1           1.5          0.2  setosa\n",
       "4           5.0          3.6           1.4          0.2  setosa"
      ]
     },
     "execution_count": 3,
     "metadata": {},
     "output_type": "execute_result"
    }
   ],
   "source": [
    "df_raw = pd.read_csv(\"IRIS.csv\", encoding='euc-kr')\n",
    "df_raw.head()"
   ]
  },
  {
   "cell_type": "code",
   "execution_count": 4,
   "id": "e7ca793f",
   "metadata": {},
   "outputs": [
    {
     "data": {
      "text/html": [
       "<div>\n",
       "<style scoped>\n",
       "    .dataframe tbody tr th:only-of-type {\n",
       "        vertical-align: middle;\n",
       "    }\n",
       "\n",
       "    .dataframe tbody tr th {\n",
       "        vertical-align: top;\n",
       "    }\n",
       "\n",
       "    .dataframe thead th {\n",
       "        text-align: right;\n",
       "    }\n",
       "</style>\n",
       "<table border=\"1\" class=\"dataframe\">\n",
       "  <thead>\n",
       "    <tr style=\"text-align: right;\">\n",
       "      <th></th>\n",
       "      <th>SEPAL_LENGTH</th>\n",
       "      <th>SEPAL_WIDTH</th>\n",
       "      <th>PETAL_LENGTH</th>\n",
       "      <th>PETAL_WIDTH</th>\n",
       "      <th>SPECIES</th>\n",
       "    </tr>\n",
       "  </thead>\n",
       "  <tbody>\n",
       "    <tr>\n",
       "      <th>0</th>\n",
       "      <td>5.1</td>\n",
       "      <td>3.5</td>\n",
       "      <td>1.4</td>\n",
       "      <td>0.2</td>\n",
       "      <td>0</td>\n",
       "    </tr>\n",
       "    <tr>\n",
       "      <th>1</th>\n",
       "      <td>4.9</td>\n",
       "      <td>3.0</td>\n",
       "      <td>1.4</td>\n",
       "      <td>0.2</td>\n",
       "      <td>0</td>\n",
       "    </tr>\n",
       "    <tr>\n",
       "      <th>2</th>\n",
       "      <td>4.7</td>\n",
       "      <td>3.2</td>\n",
       "      <td>1.3</td>\n",
       "      <td>0.2</td>\n",
       "      <td>0</td>\n",
       "    </tr>\n",
       "    <tr>\n",
       "      <th>3</th>\n",
       "      <td>4.6</td>\n",
       "      <td>3.1</td>\n",
       "      <td>1.5</td>\n",
       "      <td>0.2</td>\n",
       "      <td>0</td>\n",
       "    </tr>\n",
       "    <tr>\n",
       "      <th>4</th>\n",
       "      <td>5.0</td>\n",
       "      <td>3.6</td>\n",
       "      <td>1.4</td>\n",
       "      <td>0.2</td>\n",
       "      <td>0</td>\n",
       "    </tr>\n",
       "  </tbody>\n",
       "</table>\n",
       "</div>"
      ],
      "text/plain": [
       "   SEPAL_LENGTH  SEPAL_WIDTH  PETAL_LENGTH  PETAL_WIDTH  SPECIES\n",
       "0           5.1          3.5           1.4          0.2        0\n",
       "1           4.9          3.0           1.4          0.2        0\n",
       "2           4.7          3.2           1.3          0.2        0\n",
       "3           4.6          3.1           1.5          0.2        0\n",
       "4           5.0          3.6           1.4          0.2        0"
      ]
     },
     "execution_count": 4,
     "metadata": {},
     "output_type": "execute_result"
    }
   ],
   "source": [
    "#'setosa' -> 0, 'versicolor' -> 1, 'virginica' -> 2\n",
    "df_raw['SPECIES']=df_raw['SPECIES'].replace('setosa', 0)\n",
    "df_raw['SPECIES']=df_raw['SPECIES'].replace('versicolor', 1)\n",
    "df_raw['SPECIES']=df_raw['SPECIES'].replace('virginica', 2)\n",
    "\n",
    "df_raw.head()"
   ]
  },
  {
   "cell_type": "code",
   "execution_count": 5,
   "id": "3b4c0954",
   "metadata": {},
   "outputs": [
    {
     "data": {
      "text/plain": [
       "array([[-0.90068117,  1.01900435, -1.34022653, -1.3154443 , -1.22474487],\n",
       "       [-1.14301691, -0.13197948, -1.34022653, -1.3154443 , -1.22474487],\n",
       "       [-1.38535265,  0.32841405, -1.39706395, -1.3154443 , -1.22474487],\n",
       "       [-1.50652052,  0.09821729, -1.2833891 , -1.3154443 , -1.22474487],\n",
       "       [-1.02184904,  1.24920112, -1.34022653, -1.3154443 , -1.22474487]])"
      ]
     },
     "execution_count": 5,
     "metadata": {},
     "output_type": "execute_result"
    }
   ],
   "source": [
    "# 데이터 표준화\n",
    "scaler = StandardScaler()\n",
    "df_raw_scaled = scaler.fit_transform(df_raw)\n",
    "\n",
    "# 위에서부터 자료 5개 확인\n",
    "df_raw_scaled[:5]"
   ]
  },
  {
   "cell_type": "code",
   "execution_count": 6,
   "id": "5a9324d0",
   "metadata": {},
   "outputs": [],
   "source": [
    "# 목표 변수:모든 행 & 5번째 열\n",
    "df_raw_y = df_raw_scaled[:, 4]\n",
    "# 설명 변수::모든 행 & 5번째 제외한 모든 열\n",
    "df_raw_x = df_raw_scaled[:,0:3:]"
   ]
  },
  {
   "cell_type": "markdown",
   "id": "7ba33b84",
   "metadata": {},
   "source": [
    "## 2. 계층형 군집분석 실시"
   ]
  },
  {
   "cell_type": "markdown",
   "id": "951cae5c",
   "metadata": {},
   "source": [
    "#### 2-1. Ward 방법 |"
   ]
  },
  {
   "cell_type": "code",
   "execution_count": 7,
   "id": "c21f8922",
   "metadata": {},
   "outputs": [],
   "source": [
    "# 연결: ward, 거리 계산: Euclidean: ward~Euclidean\n",
    "Z_ward = linkage(df_raw_x, method = \"ward\", metric = \"euclidean\")\n",
    "# 연결: average, 거리 계산: Euclidean\n",
    "Z_average = linkage(df_raw_x, method = \"average\", metric = \"euclidean\")"
   ]
  },
  {
   "cell_type": "code",
   "execution_count": 8,
   "id": "e4f23d2c",
   "metadata": {},
   "outputs": [
    {
     "data": {
      "text/plain": [
       "array([[0.00000000e+00, 1.70000000e+01, 0.00000000e+00, 2.00000000e+00],\n",
       "       [1.20000000e+01, 4.50000000e+01, 0.00000000e+00, 2.00000000e+00],\n",
       "       [9.00000000e+00, 3.40000000e+01, 0.00000000e+00, 2.00000000e+00],\n",
       "       [1.01000000e+02, 1.42000000e+02, 0.00000000e+00, 2.00000000e+00],\n",
       "       [1.24000000e+02, 1.44000000e+02, 0.00000000e+00, 2.00000000e+00],\n",
       "       [1.28000000e+02, 1.32000000e+02, 0.00000000e+00, 2.00000000e+00],\n",
       "       [8.00000000e+01, 8.10000000e+01, 5.68374269e-02, 2.00000000e+00],\n",
       "       [7.20000000e+01, 1.46000000e+02, 5.68374269e-02, 2.00000000e+00],\n",
       "       [7.00000000e+00, 2.60000000e+01, 5.68374269e-02, 2.00000000e+00],\n",
       "       [1.90000000e+01, 4.60000000e+01, 5.68374269e-02, 2.00000000e+00],\n",
       "       [5.20000000e+01, 1.41000000e+02, 1.13674854e-01, 2.00000000e+00],\n",
       "       [2.00000000e+01, 3.10000000e+01, 1.13674854e-01, 2.00000000e+00],\n",
       "       [6.70000000e+01, 8.20000000e+01, 1.13674854e-01, 2.00000000e+00],\n",
       "       [7.70000000e+01, 1.45000000e+02, 1.13674854e-01, 2.00000000e+00],\n",
       "       [4.00000000e+00, 3.70000000e+01, 1.21167870e-01, 2.00000000e+00],\n",
       "       [1.00000000e+01, 4.80000000e+01, 1.21167870e-01, 2.00000000e+00],\n",
       "       [6.90000000e+01, 8.90000000e+01, 1.33836265e-01, 2.00000000e+00],\n",
       "       [1.27000000e+02, 1.38000000e+02, 1.33836265e-01, 2.00000000e+00],\n",
       "       [2.00000000e+00, 4.70000000e+01, 1.33836265e-01, 2.00000000e+00],\n",
       "       [7.30000000e+01, 1.26000000e+02, 1.33836265e-01, 2.00000000e+00],\n",
       "       [2.80000000e+01, 3.90000000e+01, 1.33836265e-01, 2.00000000e+00],\n",
       "       [1.02000000e+02, 1.29000000e+02, 1.33836265e-01, 2.00000000e+00],\n",
       "       [8.80000000e+01, 9.50000000e+01, 1.33836265e-01, 2.00000000e+00],\n",
       "       [1.00000000e+00, 1.51000000e+02, 1.39912605e-01, 3.00000000e+00],\n",
       "       [4.00000000e+01, 1.50000000e+02, 1.54540808e-01, 3.00000000e+00],\n",
       "       [3.00000000e+01, 1.52000000e+02, 1.54540808e-01, 3.00000000e+00],\n",
       "       [1.36000000e+02, 1.48000000e+02, 1.66143388e-01, 2.00000000e+00],\n",
       "       [1.10000000e+02, 1.15000000e+02, 1.66143388e-01, 2.00000000e+00],\n",
       "       [6.30000000e+01, 7.80000000e+01, 1.66143388e-01, 2.00000000e+00],\n",
       "       [1.20000000e+02, 1.43000000e+02, 1.66143388e-01, 2.00000000e+00],\n",
       "       [1.30000000e+01, 3.80000000e+01, 1.66143388e-01, 2.00000000e+00],\n",
       "       [1.04000000e+02, 1.16000000e+02, 1.70512281e-01, 2.00000000e+00],\n",
       "       [6.50000000e+01, 8.60000000e+01, 1.70512281e-01, 2.00000000e+00],\n",
       "       [1.10000000e+01, 2.40000000e+01, 1.70512281e-01, 2.00000000e+00],\n",
       "       [2.90000000e+01, 1.68000000e+02, 1.78366645e-01, 3.00000000e+00],\n",
       "       [9.10000000e+01, 1.67000000e+02, 1.78366645e-01, 3.00000000e+00],\n",
       "       [4.30000000e+01, 1.74000000e+02, 1.90184460e-01, 4.00000000e+00],\n",
       "       [2.30000000e+01, 4.90000000e+01, 2.09179566e-01, 2.00000000e+00],\n",
       "       [5.00000000e+00, 1.60000000e+01, 2.27349708e-01, 2.00000000e+00],\n",
       "       [5.50000000e+01, 9.90000000e+01, 2.27349708e-01, 2.00000000e+00],\n",
       "       [4.40000000e+01, 1.59000000e+02, 2.29705726e-01, 3.00000000e+00],\n",
       "       [2.70000000e+01, 1.86000000e+02, 2.36138506e-01, 5.00000000e+00],\n",
       "       [6.60000000e+01, 1.72000000e+02, 2.40122062e-01, 3.00000000e+00],\n",
       "       [7.40000000e+01, 9.70000000e+01, 2.42335741e-01, 2.00000000e+00],\n",
       "       [1.23000000e+02, 1.33000000e+02, 2.56734344e-01, 2.00000000e+00],\n",
       "       [5.80000000e+01, 7.50000000e+01, 2.56734344e-01, 2.00000000e+00],\n",
       "       [5.70000000e+01, 9.30000000e+01, 2.60138817e-01, 2.00000000e+00],\n",
       "       [1.39000000e+02, 1.60000000e+02, 2.62520830e-01, 3.00000000e+00],\n",
       "       [1.14000000e+02, 1.53000000e+02, 2.65808330e-01, 3.00000000e+00],\n",
       "       [9.20000000e+01, 1.62000000e+02, 2.65808330e-01, 3.00000000e+00],\n",
       "       [6.80000000e+01, 8.70000000e+01, 2.66275604e-01, 2.00000000e+00],\n",
       "       [1.12000000e+02, 1.40000000e+02, 2.66275604e-01, 2.00000000e+00],\n",
       "       [1.58000000e+02, 1.70000000e+02, 2.69311017e-01, 4.00000000e+00],\n",
       "       [9.60000000e+01, 1.89000000e+02, 2.73790782e-01, 3.00000000e+00],\n",
       "       [1.11000000e+02, 1.94000000e+02, 2.75689991e-01, 3.00000000e+00],\n",
       "       [2.50000000e+01, 1.73000000e+02, 2.83824791e-01, 4.00000000e+00],\n",
       "       [5.10000000e+01, 5.60000000e+01, 2.83891135e-01, 2.00000000e+00],\n",
       "       [9.00000000e+01, 9.40000000e+01, 2.83891135e-01, 2.00000000e+00],\n",
       "       [1.07000000e+02, 1.30000000e+02, 2.83891135e-01, 2.00000000e+00],\n",
       "       [1.47000000e+02, 1.63000000e+02, 2.87418636e-01, 3.00000000e+00],\n",
       "       [1.17000000e+02, 1.31000000e+02, 2.96312418e-01, 2.00000000e+00],\n",
       "       [1.03000000e+02, 1.55000000e+02, 3.00382432e-01, 3.00000000e+00],\n",
       "       [3.00000000e+00, 1.84000000e+02, 3.02369406e-01, 4.00000000e+00],\n",
       "       [8.00000000e+00, 1.80000000e+02, 3.04593580e-01, 3.00000000e+00],\n",
       "       [2.10000000e+01, 1.90000000e+02, 3.04870816e-01, 4.00000000e+00],\n",
       "       [1.05000000e+02, 1.35000000e+02, 3.08940092e-01, 2.00000000e+00],\n",
       "       [8.30000000e+01, 1.98000000e+02, 3.11322462e-01, 4.00000000e+00],\n",
       "       [5.30000000e+01, 1.56000000e+02, 3.12369723e-01, 3.00000000e+00],\n",
       "       [1.37000000e+02, 1.81000000e+02, 3.16102965e-01, 3.00000000e+00],\n",
       "       [1.49000000e+02, 1.85000000e+02, 3.39138770e-01, 4.00000000e+00],\n",
       "       [3.50000000e+01, 1.87000000e+02, 3.58207584e-01, 3.00000000e+00],\n",
       "       [3.60000000e+01, 1.61000000e+02, 3.59159467e-01, 3.00000000e+00],\n",
       "       [6.00000000e+00, 1.83000000e+02, 3.62031586e-01, 3.00000000e+00],\n",
       "       [5.40000000e+01, 7.60000000e+01, 3.80863293e-01, 2.00000000e+00],\n",
       "       [8.40000000e+01, 1.92000000e+02, 3.82468986e-01, 4.00000000e+00],\n",
       "       [1.69000000e+02, 1.78000000e+02, 3.87145486e-01, 4.00000000e+00],\n",
       "       [4.20000000e+01, 2.12000000e+02, 4.04654616e-01, 5.00000000e+00],\n",
       "       [7.90000000e+01, 1.99000000e+02, 4.22484325e-01, 4.00000000e+00],\n",
       "       [1.54000000e+02, 1.79000000e+02, 4.22503877e-01, 4.00000000e+00],\n",
       "       [1.00000000e+02, 1.76000000e+02, 4.28054968e-01, 3.00000000e+00],\n",
       "       [7.10000000e+01, 1.93000000e+02, 4.33269124e-01, 3.00000000e+00],\n",
       "       [3.20000000e+01, 3.30000000e+01, 4.33999908e-01, 2.00000000e+00],\n",
       "       [1.75000000e+02, 2.05000000e+02, 4.35572156e-01, 7.00000000e+00],\n",
       "       [5.00000000e+01, 1.97000000e+02, 4.38748821e-01, 4.00000000e+00],\n",
       "       [2.01000000e+02, 2.09000000e+02, 4.62988419e-01, 5.00000000e+00],\n",
       "       [1.21000000e+02, 2.16000000e+02, 4.63878411e-01, 5.00000000e+00],\n",
       "       [1.64000000e+02, 1.91000000e+02, 4.73043107e-01, 7.00000000e+00],\n",
       "       [1.18000000e+02, 1.22000000e+02, 4.74219545e-01, 2.00000000e+00],\n",
       "       [6.20000000e+01, 2.00000000e+02, 4.76690610e-01, 3.00000000e+00],\n",
       "       [9.80000000e+01, 1.96000000e+02, 4.91713869e-01, 3.00000000e+00],\n",
       "       [1.66000000e+02, 2.17000000e+02, 4.95434107e-01, 5.00000000e+00],\n",
       "       [6.10000000e+01, 2.19000000e+02, 5.05059863e-01, 5.00000000e+00],\n",
       "       [7.00000000e+01, 8.50000000e+01, 5.05685965e-01, 2.00000000e+00],\n",
       "       [1.80000000e+01, 1.88000000e+02, 5.13870800e-01, 3.00000000e+00],\n",
       "       [1.82000000e+02, 1.95000000e+02, 5.19072281e-01, 4.00000000e+00],\n",
       "       [6.40000000e+01, 2.03000000e+02, 5.22221907e-01, 4.00000000e+00],\n",
       "       [1.77000000e+02, 2.06000000e+02, 5.37079216e-01, 4.00000000e+00],\n",
       "       [1.25000000e+02, 1.71000000e+02, 5.45162028e-01, 3.00000000e+00],\n",
       "       [1.19000000e+02, 2.38000000e+02, 5.54478633e-01, 4.00000000e+00],\n",
       "       [5.90000000e+01, 2.07000000e+02, 5.71297674e-01, 3.00000000e+00],\n",
       "       [1.34000000e+02, 1.57000000e+02, 5.75274423e-01, 3.00000000e+00],\n",
       "       [2.02000000e+02, 2.20000000e+02, 5.80216995e-01, 7.00000000e+00],\n",
       "       [1.65000000e+02, 2.14000000e+02, 5.81068351e-01, 6.00000000e+00],\n",
       "       [2.25000000e+02, 2.30000000e+02, 5.86887216e-01, 7.00000000e+00],\n",
       "       [2.18000000e+02, 2.34000000e+02, 6.02601627e-01, 8.00000000e+00],\n",
       "       [1.40000000e+01, 2.43000000e+02, 6.36127917e-01, 4.00000000e+00],\n",
       "       [2.04000000e+02, 2.11000000e+02, 6.37300965e-01, 6.00000000e+00],\n",
       "       [2.08000000e+02, 2.15000000e+02, 7.19210991e-01, 4.00000000e+00],\n",
       "       [1.13000000e+02, 2.35000000e+02, 7.31516923e-01, 6.00000000e+00],\n",
       "       [2.20000000e+01, 2.22000000e+02, 7.42605132e-01, 4.00000000e+00],\n",
       "       [2.24000000e+02, 2.45000000e+02, 7.75279986e-01, 8.00000000e+00],\n",
       "       [1.50000000e+01, 2.31000000e+02, 8.26114452e-01, 3.00000000e+00],\n",
       "       [1.08000000e+02, 2.50000000e+02, 8.26317384e-01, 4.00000000e+00],\n",
       "       [2.27000000e+02, 2.49000000e+02, 8.28785323e-01, 7.00000000e+00],\n",
       "       [2.23000000e+02, 2.44000000e+02, 8.61251880e-01, 6.00000000e+00],\n",
       "       [1.06000000e+02, 2.39000000e+02, 9.59394760e-01, 4.00000000e+00],\n",
       "       [2.42000000e+02, 2.46000000e+02, 9.62359928e-01, 6.00000000e+00],\n",
       "       [2.41000000e+02, 2.53000000e+02, 9.79163832e-01, 1.20000000e+01],\n",
       "       [2.36000000e+02, 2.59000000e+02, 1.02405957e+00, 1.10000000e+01],\n",
       "       [2.21000000e+02, 2.51000000e+02, 1.02759118e+00, 1.00000000e+01],\n",
       "       [1.09000000e+02, 2.10000000e+02, 1.03660934e+00, 3.00000000e+00],\n",
       "       [2.47000000e+02, 2.57000000e+02, 1.03907769e+00, 7.00000000e+00],\n",
       "       [2.28000000e+02, 2.33000000e+02, 1.06889522e+00, 8.00000000e+00],\n",
       "       [2.26000000e+02, 2.32000000e+02, 1.10475396e+00, 1.20000000e+01],\n",
       "       [2.29000000e+02, 2.66000000e+02, 1.10623140e+00, 9.00000000e+00],\n",
       "       [6.00000000e+01, 2.65000000e+02, 1.23823186e+00, 5.00000000e+00],\n",
       "       [2.13000000e+02, 2.73000000e+02, 1.26103506e+00, 1.50000000e+01],\n",
       "       [2.52000000e+02, 2.55000000e+02, 1.29288647e+00, 1.00000000e+01],\n",
       "       [2.56000000e+02, 2.62000000e+02, 1.30323948e+00, 1.00000000e+01],\n",
       "       [2.54000000e+02, 2.64000000e+02, 1.32383756e+00, 1.40000000e+01],\n",
       "       [2.40000000e+02, 2.63000000e+02, 1.36617437e+00, 1.20000000e+01],\n",
       "       [2.68000000e+02, 2.69000000e+02, 1.38475845e+00, 2.10000000e+01],\n",
       "       [2.37000000e+02, 2.71000000e+02, 1.53469729e+00, 9.00000000e+00],\n",
       "       [2.72000000e+02, 2.79000000e+02, 1.78439171e+00, 2.20000000e+01],\n",
       "       [4.10000000e+01, 2.75000000e+02, 1.79761879e+00, 6.00000000e+00],\n",
       "       [2.60000000e+02, 2.67000000e+02, 1.86561079e+00, 2.00000000e+01],\n",
       "       [2.58000000e+02, 2.85000000e+02, 1.92726354e+00, 2.60000000e+01],\n",
       "       [2.61000000e+02, 2.77000000e+02, 2.12125805e+00, 1.30000000e+01],\n",
       "       [2.48000000e+02, 2.80000000e+02, 2.57905580e+00, 1.60000000e+01],\n",
       "       [2.74000000e+02, 2.83000000e+02, 2.69072176e+00, 3.10000000e+01],\n",
       "       [2.78000000e+02, 2.86000000e+02, 3.19867541e+00, 3.60000000e+01],\n",
       "       [2.84000000e+02, 2.88000000e+02, 3.45867185e+00, 2.20000000e+01],\n",
       "       [2.76000000e+02, 2.81000000e+02, 3.95510892e+00, 3.60000000e+01],\n",
       "       [2.70000000e+02, 2.82000000e+02, 3.98716838e+00, 1.20000000e+01],\n",
       "       [2.89000000e+02, 2.93000000e+02, 5.28626450e+00, 4.30000000e+01],\n",
       "       [2.90000000e+02, 2.91000000e+02, 6.29198427e+00, 5.80000000e+01],\n",
       "       [2.87000000e+02, 2.92000000e+02, 6.75408548e+00, 4.90000000e+01],\n",
       "       [2.94000000e+02, 2.95000000e+02, 1.20904582e+01, 1.01000000e+02],\n",
       "       [2.96000000e+02, 2.97000000e+02, 2.26457516e+01, 1.50000000e+02]])"
      ]
     },
     "execution_count": 8,
     "metadata": {},
     "output_type": "execute_result"
    }
   ],
   "source": [
    "# 군집 생성 결과 확인\n",
    "Z_ward"
   ]
  },
  {
   "cell_type": "code",
   "execution_count": 9,
   "id": "bf6706bb",
   "metadata": {},
   "outputs": [
    {
     "data": {
      "text/plain": [
       "Text(0, 0.5, 'Distance')"
      ]
     },
     "execution_count": 9,
     "metadata": {},
     "output_type": "execute_result"
    },
    {
     "data": {
      "image/png": "[encoded data removed]",
      "text/plain": [
       "<Figure size 1000x600 with 1 Axes>"
      ]
     },
     "metadata": {},
     "output_type": "display_data"
    }
   ],
   "source": [
    "#1) 덴드로그램[연결: ward, 거리 계산: Euclidean]\n",
    "plt.figure(figsize=(10,6))\n",
    "ax = plt.subplot(111) \n",
    "# DataFrame 변경:Z_ward, Z_average, Z_Minkowski\n",
    "dendrogram(Z_ward, leaf_font_size=10, orientation= \"top\")\n",
    "plt.title(\"군집 Dendrogram - Ward, Euclidean\")\n",
    "plt.xlabel(\"# of Data\")\n",
    "plt.ylabel(\"Distance\")"
   ]
  },
  {
   "cell_type": "code",
   "execution_count": 10,
   "id": "0393743a",
   "metadata": {
    "scrolled": false
   },
   "outputs": [
    {
     "data": {
      "text/plain": [
       "Text(0, 0.5, 'Distance')"
      ]
     },
     "execution_count": 10,
     "metadata": {},
     "output_type": "execute_result"
    },
    {
     "data": {
      "image/png": "[encoded data removed]",
      "text/plain": [
       "<Figure size 1000x600 with 1 Axes>"
      ]
     },
     "metadata": {},
     "output_type": "display_data"
    }
   ],
   "source": [
    "#2) 덴드로그램[연결: average, 거리 계산: Euclidean]\n",
    "plt.figure(figsize=(10,6))\n",
    "ax = plt.subplot(111) \n",
    "dendrogram(Z_average, leaf_font_size=10, orientation= \"top\")\n",
    "plt.title(\"군집 Dendrogram - Average, Euclidean\")\n",
    "plt.xlabel(\"# of Data\")\n",
    "plt.ylabel(\"Distance\")"
   ]
  },
  {
   "cell_type": "markdown",
   "id": "1ee83ec1-9323-4749-9c0c-f3b3a3041ead",
   "metadata": {},
   "source": [
    "- 1, 2 모두 거리 계산 방식은 Euclidean이다.\n",
    "- 연결 방식은 1번-ward, 2번-average\n",
    "  \n",
    "    #### => 서로 다른 형태의 Dendrogram이 생성"
   ]
  },
  {
   "cell_type": "code",
   "execution_count": 11,
   "id": "86961f71",
   "metadata": {
    "scrolled": true
   },
   "outputs": [
    {
     "data": {
      "text/html": [
       "<div>\n",
       "<style scoped>\n",
       "    .dataframe tbody tr th:only-of-type {\n",
       "        vertical-align: middle;\n",
       "    }\n",
       "\n",
       "    .dataframe tbody tr th {\n",
       "        vertical-align: top;\n",
       "    }\n",
       "\n",
       "    .dataframe thead th {\n",
       "        text-align: right;\n",
       "    }\n",
       "</style>\n",
       "<table border=\"1\" class=\"dataframe\">\n",
       "  <thead>\n",
       "    <tr style=\"text-align: right;\">\n",
       "      <th></th>\n",
       "      <th>SEPAL_LENGTH</th>\n",
       "      <th>SEPAL_WIDTH</th>\n",
       "      <th>PETAL_LENGTH</th>\n",
       "      <th>PETAL_WIDTH</th>\n",
       "      <th>SPECIES</th>\n",
       "      <th>cluster_H</th>\n",
       "    </tr>\n",
       "  </thead>\n",
       "  <tbody>\n",
       "    <tr>\n",
       "      <th>0</th>\n",
       "      <td>5.1</td>\n",
       "      <td>3.5</td>\n",
       "      <td>1.4</td>\n",
       "      <td>0.2</td>\n",
       "      <td>0</td>\n",
       "      <td>2</td>\n",
       "    </tr>\n",
       "    <tr>\n",
       "      <th>1</th>\n",
       "      <td>4.9</td>\n",
       "      <td>3.0</td>\n",
       "      <td>1.4</td>\n",
       "      <td>0.2</td>\n",
       "      <td>0</td>\n",
       "      <td>2</td>\n",
       "    </tr>\n",
       "    <tr>\n",
       "      <th>2</th>\n",
       "      <td>4.7</td>\n",
       "      <td>3.2</td>\n",
       "      <td>1.3</td>\n",
       "      <td>0.2</td>\n",
       "      <td>0</td>\n",
       "      <td>2</td>\n",
       "    </tr>\n",
       "    <tr>\n",
       "      <th>3</th>\n",
       "      <td>4.6</td>\n",
       "      <td>3.1</td>\n",
       "      <td>1.5</td>\n",
       "      <td>0.2</td>\n",
       "      <td>0</td>\n",
       "      <td>2</td>\n",
       "    </tr>\n",
       "    <tr>\n",
       "      <th>4</th>\n",
       "      <td>5.0</td>\n",
       "      <td>3.6</td>\n",
       "      <td>1.4</td>\n",
       "      <td>0.2</td>\n",
       "      <td>0</td>\n",
       "      <td>2</td>\n",
       "    </tr>\n",
       "  </tbody>\n",
       "</table>\n",
       "</div>"
      ],
      "text/plain": [
       "   SEPAL_LENGTH  SEPAL_WIDTH  PETAL_LENGTH  PETAL_WIDTH  SPECIES  cluster_H\n",
       "0           5.1          3.5           1.4          0.2        0          2\n",
       "1           4.9          3.0           1.4          0.2        0          2\n",
       "2           4.7          3.2           1.3          0.2        0          2\n",
       "3           4.6          3.1           1.5          0.2        0          2\n",
       "4           5.0          3.6           1.4          0.2        0          2"
      ]
     },
     "execution_count": 11,
     "metadata": {},
     "output_type": "execute_result"
    }
   ],
   "source": [
    "# linkage 함수를 통해 얻은 Z_ward 행렬 데이터를 이용하여 군집 생성\n",
    "cluster_H = fcluster(Z = Z_ward, t = 5, criterion=\"distance\")\n",
    "# 데이터에 계층형 군집 결과 입력\n",
    "df_raw[\"cluster_H\"] = cluster_H\n",
    "df_raw.head()"
   ]
  },
  {
   "cell_type": "markdown",
   "id": "8441be16-8c7c-4188-90fe-974fe6795e43",
   "metadata": {},
   "source": [
    "> 군집 번호 자체는 식별자로 우선순위 등의 의미가 없음"
   ]
  },
  {
   "cell_type": "code",
   "execution_count": 12,
   "id": "96c3720d",
   "metadata": {},
   "outputs": [
    {
     "data": {
      "text/html": [
       "<div>\n",
       "<style scoped>\n",
       "    .dataframe tbody tr th:only-of-type {\n",
       "        vertical-align: middle;\n",
       "    }\n",
       "\n",
       "    .dataframe tbody tr th {\n",
       "        vertical-align: top;\n",
       "    }\n",
       "\n",
       "    .dataframe thead th {\n",
       "        text-align: right;\n",
       "    }\n",
       "</style>\n",
       "<table border=\"1\" class=\"dataframe\">\n",
       "  <thead>\n",
       "    <tr style=\"text-align: right;\">\n",
       "      <th></th>\n",
       "      <th>cluster_H</th>\n",
       "      <th>SEPAL_LENGTH_min</th>\n",
       "      <th>SEPAL_LENGTH_mean</th>\n",
       "      <th>SEPAL_LENGTH_max</th>\n",
       "      <th>SEPAL_WIDTH_min</th>\n",
       "      <th>SEPAL_WIDTH_mean</th>\n",
       "      <th>SEPAL_WIDTH_max</th>\n",
       "      <th>PETAL_LENGTH_min</th>\n",
       "      <th>PETAL_LENGTH_mean</th>\n",
       "      <th>PETAL_LENGTH_max</th>\n",
       "      <th>PETAL_WIDTH_min</th>\n",
       "      <th>PETAL_WIDTH_mean</th>\n",
       "      <th>PETAL_WIDTH_max</th>\n",
       "      <th>SPECIES_min</th>\n",
       "      <th>SPECIES_mean</th>\n",
       "      <th>SPECIES_max</th>\n",
       "    </tr>\n",
       "  </thead>\n",
       "  <tbody>\n",
       "    <tr>\n",
       "      <th>0</th>\n",
       "      <td>1</td>\n",
       "      <td>5.1</td>\n",
       "      <td>5.369</td>\n",
       "      <td>5.8</td>\n",
       "      <td>3.7</td>\n",
       "      <td>3.908</td>\n",
       "      <td>4.4</td>\n",
       "      <td>1.2</td>\n",
       "      <td>1.523</td>\n",
       "      <td>1.9</td>\n",
       "      <td>0.1</td>\n",
       "      <td>0.285</td>\n",
       "      <td>0.4</td>\n",
       "      <td>0</td>\n",
       "      <td>0.000</td>\n",
       "      <td>0</td>\n",
       "    </tr>\n",
       "    <tr>\n",
       "      <th>1</th>\n",
       "      <td>2</td>\n",
       "      <td>4.3</td>\n",
       "      <td>4.889</td>\n",
       "      <td>5.5</td>\n",
       "      <td>2.9</td>\n",
       "      <td>3.286</td>\n",
       "      <td>3.6</td>\n",
       "      <td>1.0</td>\n",
       "      <td>1.444</td>\n",
       "      <td>1.9</td>\n",
       "      <td>0.1</td>\n",
       "      <td>0.231</td>\n",
       "      <td>0.6</td>\n",
       "      <td>0</td>\n",
       "      <td>0.000</td>\n",
       "      <td>0</td>\n",
       "    </tr>\n",
       "    <tr>\n",
       "      <th>2</th>\n",
       "      <td>3</td>\n",
       "      <td>5.9</td>\n",
       "      <td>6.574</td>\n",
       "      <td>7.0</td>\n",
       "      <td>2.8</td>\n",
       "      <td>3.129</td>\n",
       "      <td>3.4</td>\n",
       "      <td>4.4</td>\n",
       "      <td>5.155</td>\n",
       "      <td>6.0</td>\n",
       "      <td>1.3</td>\n",
       "      <td>1.913</td>\n",
       "      <td>2.5</td>\n",
       "      <td>1</td>\n",
       "      <td>1.581</td>\n",
       "      <td>2</td>\n",
       "    </tr>\n",
       "    <tr>\n",
       "      <th>3</th>\n",
       "      <td>4</td>\n",
       "      <td>7.1</td>\n",
       "      <td>7.475</td>\n",
       "      <td>7.9</td>\n",
       "      <td>2.6</td>\n",
       "      <td>3.125</td>\n",
       "      <td>3.8</td>\n",
       "      <td>5.8</td>\n",
       "      <td>6.300</td>\n",
       "      <td>6.9</td>\n",
       "      <td>1.6</td>\n",
       "      <td>2.050</td>\n",
       "      <td>2.5</td>\n",
       "      <td>2</td>\n",
       "      <td>2.000</td>\n",
       "      <td>2</td>\n",
       "    </tr>\n",
       "    <tr>\n",
       "      <th>4</th>\n",
       "      <td>5</td>\n",
       "      <td>5.4</td>\n",
       "      <td>6.008</td>\n",
       "      <td>6.7</td>\n",
       "      <td>2.5</td>\n",
       "      <td>2.817</td>\n",
       "      <td>3.0</td>\n",
       "      <td>3.6</td>\n",
       "      <td>4.786</td>\n",
       "      <td>5.8</td>\n",
       "      <td>1.2</td>\n",
       "      <td>1.625</td>\n",
       "      <td>2.4</td>\n",
       "      <td>1</td>\n",
       "      <td>1.500</td>\n",
       "      <td>2</td>\n",
       "    </tr>\n",
       "    <tr>\n",
       "      <th>5</th>\n",
       "      <td>6</td>\n",
       "      <td>4.5</td>\n",
       "      <td>5.495</td>\n",
       "      <td>6.3</td>\n",
       "      <td>2.0</td>\n",
       "      <td>2.436</td>\n",
       "      <td>2.7</td>\n",
       "      <td>1.3</td>\n",
       "      <td>3.827</td>\n",
       "      <td>5.0</td>\n",
       "      <td>0.3</td>\n",
       "      <td>1.159</td>\n",
       "      <td>1.7</td>\n",
       "      <td>0</td>\n",
       "      <td>1.045</td>\n",
       "      <td>2</td>\n",
       "    </tr>\n",
       "  </tbody>\n",
       "</table>\n",
       "</div>"
      ],
      "text/plain": [
       "   cluster_H  SEPAL_LENGTH_min  SEPAL_LENGTH_mean  SEPAL_LENGTH_max  \\\n",
       "0          1               5.1              5.369               5.8   \n",
       "1          2               4.3              4.889               5.5   \n",
       "2          3               5.9              6.574               7.0   \n",
       "3          4               7.1              7.475               7.9   \n",
       "4          5               5.4              6.008               6.7   \n",
       "5          6               4.5              5.495               6.3   \n",
       "\n",
       "   SEPAL_WIDTH_min  SEPAL_WIDTH_mean  SEPAL_WIDTH_max  PETAL_LENGTH_min  \\\n",
       "0              3.7             3.908              4.4               1.2   \n",
       "1              2.9             3.286              3.6               1.0   \n",
       "2              2.8             3.129              3.4               4.4   \n",
       "3              2.6             3.125              3.8               5.8   \n",
       "4              2.5             2.817              3.0               3.6   \n",
       "5              2.0             2.436              2.7               1.3   \n",
       "\n",
       "   PETAL_LENGTH_mean  PETAL_LENGTH_max  PETAL_WIDTH_min  PETAL_WIDTH_mean  \\\n",
       "0              1.523               1.9              0.1             0.285   \n",
       "1              1.444               1.9              0.1             0.231   \n",
       "2              5.155               6.0              1.3             1.913   \n",
       "3              6.300               6.9              1.6             2.050   \n",
       "4              4.786               5.8              1.2             1.625   \n",
       "5              3.827               5.0              0.3             1.159   \n",
       "\n",
       "   PETAL_WIDTH_max  SPECIES_min  SPECIES_mean  SPECIES_max  \n",
       "0              0.4            0         0.000            0  \n",
       "1              0.6            0         0.000            0  \n",
       "2              2.5            1         1.581            2  \n",
       "3              2.5            2         2.000            2  \n",
       "4              2.4            1         1.500            2  \n",
       "5              1.7            0         1.045            2  "
      ]
     },
     "execution_count": 12,
     "metadata": {},
     "output_type": "execute_result"
    }
   ],
   "source": [
    "# 집계 함수를 이용한 군집별 데이터 요약\n",
    "df_summary_H = df_raw.groupby(\"cluster_H\").agg([\"min\", \"mean\", \"max\"])\n",
    "# 집계 함수를 이용할 경우 열 이름이 두 줄에 걸쳐 나오므로 한 줄로 변환\n",
    "level0 = df_summary_H.columns.get_level_values(0)\n",
    "level1 = df_summary_H.columns.get_level_values(1)\n",
    "df_summary_H.columns = level0 + \"_\" + level1\n",
    "df_summary_H.reset_index(inplace = True)\n",
    "df_summary_H.round(3)"
   ]
  },
  {
   "cell_type": "markdown",
   "id": "572414d1-c21f-47cd-a700-65bc9d8230f2",
   "metadata": {},
   "source": [
    "> 각 군집 별 변수 분포가 다름-평균과 같은 통계량을 확인해야 함"
   ]
  },
  {
   "cell_type": "code",
   "execution_count": 13,
   "id": "933fc06c-227d-4964-b9a9-9e931d2bd238",
   "metadata": {},
   "outputs": [
    {
     "data": {
      "text/plain": [
       "array([[<Axes: title={'center': 'SEPAL_LENGTH'}, xlabel='cluster_H'>,\n",
       "        <Axes: title={'center': 'SEPAL_WIDTH'}, xlabel='cluster_H'>],\n",
       "       [<Axes: title={'center': 'PETAL_LENGTH'}, xlabel='cluster_H'>,\n",
       "        <Axes: title={'center': 'PETAL_WIDTH'}, xlabel='cluster_H'>]],\n",
       "      dtype=object)"
      ]
     },
     "execution_count": 13,
     "metadata": {},
     "output_type": "execute_result"
    },
    {
     "data": {
      "image/png": "[encoded data removed]",
      "text/plain": [
       "<Figure size 800x550 with 4 Axes>"
      ]
     },
     "metadata": {},
     "output_type": "display_data"
    }
   ],
   "source": [
    "# Boxplot을 활용한 군집별 설명변수 분포\n",
    "df_raw.boxplot(column=[\"SEPAL_LENGTH\", \"SEPAL_WIDTH\", \"PETAL_LENGTH\", \"PETAL_WIDTH\"]\n",
    "               , by = \"cluster_H\")"
   ]
  },
  {
   "cell_type": "markdown",
   "id": "b4d5c8ce-e9ac-428a-9cf9-82c27d07d6e2",
   "metadata": {},
   "source": [
    "> 4번 군집은 SEPAL_LENGTH, PETAL_LENGTH의 평균이 상대적으로 높음->목표변수 평균이 높음"
   ]
  },
  {
   "cell_type": "code",
   "execution_count": 14,
   "id": "a5db794d",
   "metadata": {},
   "outputs": [
    {
     "data": {
      "text/plain": [
       "<Axes: title={'center': 'SPECIES'}, xlabel='cluster_H'>"
      ]
     },
     "execution_count": 14,
     "metadata": {},
     "output_type": "execute_result"
    },
    {
     "data": {
      "image/png": "[encoded data removed]",
      "text/plain": [
       "<Figure size 400x300 with 1 Axes>"
      ]
     },
     "metadata": {},
     "output_type": "display_data"
    }
   ],
   "source": [
    "# Boxplot을 활용한 군집별 목표변수 분포\n",
    "df_raw.boxplot(column=[\"SPECIES\"], by = \"cluster_H\", figsize=(4,3))"
   ]
  },
  {
   "cell_type": "markdown",
   "id": "59c5219a",
   "metadata": {},
   "source": [
    "## 4. K-means clustering 실시"
   ]
  },
  {
   "cell_type": "markdown",
   "id": "69491562",
   "metadata": {},
   "source": [
    "#### 4-1. 군집 평가 해석"
   ]
  },
  {
   "cell_type": "markdown",
   "id": "3231565f",
   "metadata": {},
   "source": [
    "- sum of square 값이 감소하는 5로 클러스터 개수를 조정하였다."
   ]
  },
  {
   "cell_type": "code",
   "execution_count": 15,
   "id": "1f49963d",
   "metadata": {},
   "outputs": [
    {
     "data": {
      "text/html": [
       "<div>\n",
       "<style scoped>\n",
       "    .dataframe tbody tr th:only-of-type {\n",
       "        vertical-align: middle;\n",
       "    }\n",
       "\n",
       "    .dataframe tbody tr th {\n",
       "        vertical-align: top;\n",
       "    }\n",
       "\n",
       "    .dataframe thead th {\n",
       "        text-align: right;\n",
       "    }\n",
       "</style>\n",
       "<table border=\"1\" class=\"dataframe\">\n",
       "  <thead>\n",
       "    <tr style=\"text-align: right;\">\n",
       "      <th></th>\n",
       "      <th>NumberofCluster</th>\n",
       "      <th>Error</th>\n",
       "    </tr>\n",
       "  </thead>\n",
       "  <tbody>\n",
       "    <tr>\n",
       "      <th>0</th>\n",
       "      <td>1</td>\n",
       "      <td>450.000</td>\n",
       "    </tr>\n",
       "    <tr>\n",
       "      <th>1</th>\n",
       "      <td>2</td>\n",
       "      <td>190.469</td>\n",
       "    </tr>\n",
       "    <tr>\n",
       "      <th>2</th>\n",
       "      <td>3</td>\n",
       "      <td>119.139</td>\n",
       "    </tr>\n",
       "    <tr>\n",
       "      <th>3</th>\n",
       "      <td>4</td>\n",
       "      <td>94.641</td>\n",
       "    </tr>\n",
       "    <tr>\n",
       "      <th>4</th>\n",
       "      <td>5</td>\n",
       "      <td>75.562</td>\n",
       "    </tr>\n",
       "    <tr>\n",
       "      <th>5</th>\n",
       "      <td>6</td>\n",
       "      <td>63.020</td>\n",
       "    </tr>\n",
       "    <tr>\n",
       "      <th>6</th>\n",
       "      <td>7</td>\n",
       "      <td>54.304</td>\n",
       "    </tr>\n",
       "    <tr>\n",
       "      <th>7</th>\n",
       "      <td>8</td>\n",
       "      <td>46.378</td>\n",
       "    </tr>\n",
       "    <tr>\n",
       "      <th>8</th>\n",
       "      <td>9</td>\n",
       "      <td>39.837</td>\n",
       "    </tr>\n",
       "    <tr>\n",
       "      <th>9</th>\n",
       "      <td>10</td>\n",
       "      <td>35.328</td>\n",
       "    </tr>\n",
       "    <tr>\n",
       "      <th>10</th>\n",
       "      <td>11</td>\n",
       "      <td>31.942</td>\n",
       "    </tr>\n",
       "    <tr>\n",
       "      <th>11</th>\n",
       "      <td>12</td>\n",
       "      <td>29.497</td>\n",
       "    </tr>\n",
       "    <tr>\n",
       "      <th>12</th>\n",
       "      <td>13</td>\n",
       "      <td>26.455</td>\n",
       "    </tr>\n",
       "    <tr>\n",
       "      <th>13</th>\n",
       "      <td>14</td>\n",
       "      <td>24.848</td>\n",
       "    </tr>\n",
       "    <tr>\n",
       "      <th>14</th>\n",
       "      <td>15</td>\n",
       "      <td>23.572</td>\n",
       "    </tr>\n",
       "  </tbody>\n",
       "</table>\n",
       "</div>"
      ],
      "text/plain": [
       "    NumberofCluster    Error\n",
       "0                 1  450.000\n",
       "1                 2  190.469\n",
       "2                 3  119.139\n",
       "3                 4   94.641\n",
       "4                 5   75.562\n",
       "5                 6   63.020\n",
       "6                 7   54.304\n",
       "7                 8   46.378\n",
       "8                 9   39.837\n",
       "9                10   35.328\n",
       "10               11   31.942\n",
       "11               12   29.497\n",
       "12               13   26.455\n",
       "13               14   24.848\n",
       "14               15   23.572"
      ]
     },
     "execution_count": 15,
     "metadata": {},
     "output_type": "execute_result"
    }
   ],
   "source": [
    "# 최대 군집 생성 개수\n",
    "n_iter_cluster = 15\n",
    "cluster_range = [i+1 for i in range(n_iter_cluster)]\n",
    "clus_error = []\n",
    "for v_n_clus in cluster_range:\n",
    "    clus = KMeans(v_n_clus)\n",
    "    clus.fit(df_raw_x)\n",
    "    \n",
    "    # 각 데이터로부터 가장 가까운 군집 중심점까지 거리 제곱합\n",
    "    clus_error.append(clus.inertia_)\n",
    "df_error = pd.DataFrame({\"NumberofCluster\": cluster_range, \"Error\": clus_error})\n",
    "df_error.round(3)"
   ]
  },
  {
   "cell_type": "code",
   "execution_count": 16,
   "id": "f835db5e",
   "metadata": {},
   "outputs": [
    {
     "data": {
      "text/plain": [
       "Text(0, 0.5, 'Sum of Square')"
      ]
     },
     "execution_count": 16,
     "metadata": {},
     "output_type": "execute_result"
    },
    {
     "data": {
      "image/png": "[encoded data removed]",
      "text/plain": [
       "<Figure size 600x400 with 1 Axes>"
      ]
     },
     "metadata": {},
     "output_type": "display_data"
    }
   ],
   "source": [
    "plt.figure(figsize=(6,4))\n",
    "plt.plot(df_error[\"NumberofCluster\"], df_error[\"Error\"])\n",
    "plt.title(\"Clusters vs. Sum of Square\")\n",
    "plt.xlabel(\"# of Clusters\")\n",
    "plt.ylabel(\"Sum of Square\")"
   ]
  },
  {
   "cell_type": "code",
   "execution_count": 17,
   "id": "72ddbbb5",
   "metadata": {},
   "outputs": [
    {
     "data": {
      "text/html": [
       "<div>\n",
       "<style scoped>\n",
       "    .dataframe tbody tr th:only-of-type {\n",
       "        vertical-align: middle;\n",
       "    }\n",
       "\n",
       "    .dataframe tbody tr th {\n",
       "        vertical-align: top;\n",
       "    }\n",
       "\n",
       "    .dataframe thead th {\n",
       "        text-align: right;\n",
       "    }\n",
       "</style>\n",
       "<table border=\"1\" class=\"dataframe\">\n",
       "  <thead>\n",
       "    <tr style=\"text-align: right;\">\n",
       "      <th></th>\n",
       "      <th>SEPAL_LENGTH</th>\n",
       "      <th>SEPAL_WIDTH</th>\n",
       "      <th>PETAL_LENGTH</th>\n",
       "      <th>PETAL_WIDTH</th>\n",
       "      <th>SPECIES</th>\n",
       "      <th>cluster_H</th>\n",
       "      <th>cluster_KM</th>\n",
       "    </tr>\n",
       "  </thead>\n",
       "  <tbody>\n",
       "    <tr>\n",
       "      <th>0</th>\n",
       "      <td>5.1</td>\n",
       "      <td>3.5</td>\n",
       "      <td>1.4</td>\n",
       "      <td>0.2</td>\n",
       "      <td>0</td>\n",
       "      <td>2</td>\n",
       "      <td>2</td>\n",
       "    </tr>\n",
       "    <tr>\n",
       "      <th>1</th>\n",
       "      <td>4.9</td>\n",
       "      <td>3.0</td>\n",
       "      <td>1.4</td>\n",
       "      <td>0.2</td>\n",
       "      <td>0</td>\n",
       "      <td>2</td>\n",
       "      <td>5</td>\n",
       "    </tr>\n",
       "    <tr>\n",
       "      <th>2</th>\n",
       "      <td>4.7</td>\n",
       "      <td>3.2</td>\n",
       "      <td>1.3</td>\n",
       "      <td>0.2</td>\n",
       "      <td>0</td>\n",
       "      <td>2</td>\n",
       "      <td>5</td>\n",
       "    </tr>\n",
       "    <tr>\n",
       "      <th>3</th>\n",
       "      <td>4.6</td>\n",
       "      <td>3.1</td>\n",
       "      <td>1.5</td>\n",
       "      <td>0.2</td>\n",
       "      <td>0</td>\n",
       "      <td>2</td>\n",
       "      <td>5</td>\n",
       "    </tr>\n",
       "    <tr>\n",
       "      <th>4</th>\n",
       "      <td>5.0</td>\n",
       "      <td>3.6</td>\n",
       "      <td>1.4</td>\n",
       "      <td>0.2</td>\n",
       "      <td>0</td>\n",
       "      <td>2</td>\n",
       "      <td>2</td>\n",
       "    </tr>\n",
       "    <tr>\n",
       "      <th>5</th>\n",
       "      <td>5.4</td>\n",
       "      <td>3.9</td>\n",
       "      <td>1.7</td>\n",
       "      <td>0.4</td>\n",
       "      <td>0</td>\n",
       "      <td>1</td>\n",
       "      <td>2</td>\n",
       "    </tr>\n",
       "    <tr>\n",
       "      <th>6</th>\n",
       "      <td>4.6</td>\n",
       "      <td>3.4</td>\n",
       "      <td>1.4</td>\n",
       "      <td>0.3</td>\n",
       "      <td>0</td>\n",
       "      <td>2</td>\n",
       "      <td>5</td>\n",
       "    </tr>\n",
       "    <tr>\n",
       "      <th>7</th>\n",
       "      <td>5.0</td>\n",
       "      <td>3.4</td>\n",
       "      <td>1.5</td>\n",
       "      <td>0.2</td>\n",
       "      <td>0</td>\n",
       "      <td>2</td>\n",
       "      <td>5</td>\n",
       "    </tr>\n",
       "    <tr>\n",
       "      <th>8</th>\n",
       "      <td>4.4</td>\n",
       "      <td>2.9</td>\n",
       "      <td>1.4</td>\n",
       "      <td>0.2</td>\n",
       "      <td>0</td>\n",
       "      <td>2</td>\n",
       "      <td>5</td>\n",
       "    </tr>\n",
       "    <tr>\n",
       "      <th>9</th>\n",
       "      <td>4.9</td>\n",
       "      <td>3.1</td>\n",
       "      <td>1.5</td>\n",
       "      <td>0.1</td>\n",
       "      <td>0</td>\n",
       "      <td>2</td>\n",
       "      <td>5</td>\n",
       "    </tr>\n",
       "  </tbody>\n",
       "</table>\n",
       "</div>"
      ],
      "text/plain": [
       "   SEPAL_LENGTH  SEPAL_WIDTH  PETAL_LENGTH  PETAL_WIDTH  SPECIES  cluster_H  \\\n",
       "0           5.1          3.5           1.4          0.2        0          2   \n",
       "1           4.9          3.0           1.4          0.2        0          2   \n",
       "2           4.7          3.2           1.3          0.2        0          2   \n",
       "3           4.6          3.1           1.5          0.2        0          2   \n",
       "4           5.0          3.6           1.4          0.2        0          2   \n",
       "5           5.4          3.9           1.7          0.4        0          1   \n",
       "6           4.6          3.4           1.4          0.3        0          2   \n",
       "7           5.0          3.4           1.5          0.2        0          2   \n",
       "8           4.4          2.9           1.4          0.2        0          2   \n",
       "9           4.9          3.1           1.5          0.1        0          2   \n",
       "\n",
       "   cluster_KM  \n",
       "0           2  \n",
       "1           5  \n",
       "2           5  \n",
       "3           5  \n",
       "4           2  \n",
       "5           2  \n",
       "6           5  \n",
       "7           5  \n",
       "8           5  \n",
       "9           5  "
      ]
     },
     "execution_count": 17,
     "metadata": {},
     "output_type": "execute_result"
    }
   ],
   "source": [
    "clus = KMeans(5)\n",
    "clus.fit(df_raw_x)\n",
    "cluster_KM = [i+1 for i in clus.labels_]\n",
    "df_raw[\"cluster_KM\"] = cluster_KM\n",
    "df_raw.head(10)"
   ]
  },
  {
   "cell_type": "code",
   "execution_count": 18,
   "id": "259ad990",
   "metadata": {},
   "outputs": [
    {
     "data": {
      "text/html": [
       "<div>\n",
       "<style scoped>\n",
       "    .dataframe tbody tr th:only-of-type {\n",
       "        vertical-align: middle;\n",
       "    }\n",
       "\n",
       "    .dataframe tbody tr th {\n",
       "        vertical-align: top;\n",
       "    }\n",
       "\n",
       "    .dataframe thead th {\n",
       "        text-align: right;\n",
       "    }\n",
       "</style>\n",
       "<table border=\"1\" class=\"dataframe\">\n",
       "  <thead>\n",
       "    <tr style=\"text-align: right;\">\n",
       "      <th></th>\n",
       "      <th>cluster_KM</th>\n",
       "      <th>SEPAL_LENGTH_min</th>\n",
       "      <th>SEPAL_LENGTH_mean</th>\n",
       "      <th>SEPAL_LENGTH_max</th>\n",
       "      <th>SEPAL_WIDTH_min</th>\n",
       "      <th>SEPAL_WIDTH_mean</th>\n",
       "      <th>SEPAL_WIDTH_max</th>\n",
       "      <th>PETAL_LENGTH_min</th>\n",
       "      <th>PETAL_LENGTH_mean</th>\n",
       "      <th>PETAL_LENGTH_max</th>\n",
       "      <th>PETAL_WIDTH_min</th>\n",
       "      <th>PETAL_WIDTH_mean</th>\n",
       "      <th>PETAL_WIDTH_max</th>\n",
       "      <th>SPECIES_min</th>\n",
       "      <th>SPECIES_mean</th>\n",
       "      <th>SPECIES_max</th>\n",
       "    </tr>\n",
       "  </thead>\n",
       "  <tbody>\n",
       "    <tr>\n",
       "      <th>0</th>\n",
       "      <td>1</td>\n",
       "      <td>6.2</td>\n",
       "      <td>6.885</td>\n",
       "      <td>7.9</td>\n",
       "      <td>2.6</td>\n",
       "      <td>3.133</td>\n",
       "      <td>3.8</td>\n",
       "      <td>4.4</td>\n",
       "      <td>5.562</td>\n",
       "      <td>6.9</td>\n",
       "      <td>1.4</td>\n",
       "      <td>1.992</td>\n",
       "      <td>2.5</td>\n",
       "      <td>1</td>\n",
       "      <td>1.769</td>\n",
       "      <td>2</td>\n",
       "    </tr>\n",
       "    <tr>\n",
       "      <th>1</th>\n",
       "      <td>2</td>\n",
       "      <td>4.6</td>\n",
       "      <td>5.248</td>\n",
       "      <td>5.8</td>\n",
       "      <td>3.4</td>\n",
       "      <td>3.712</td>\n",
       "      <td>4.4</td>\n",
       "      <td>1.0</td>\n",
       "      <td>1.468</td>\n",
       "      <td>1.9</td>\n",
       "      <td>0.1</td>\n",
       "      <td>0.272</td>\n",
       "      <td>0.6</td>\n",
       "      <td>0</td>\n",
       "      <td>0.000</td>\n",
       "      <td>0</td>\n",
       "    </tr>\n",
       "    <tr>\n",
       "      <th>2</th>\n",
       "      <td>3</td>\n",
       "      <td>5.4</td>\n",
       "      <td>6.019</td>\n",
       "      <td>6.7</td>\n",
       "      <td>2.5</td>\n",
       "      <td>2.840</td>\n",
       "      <td>3.4</td>\n",
       "      <td>3.6</td>\n",
       "      <td>4.714</td>\n",
       "      <td>5.8</td>\n",
       "      <td>1.0</td>\n",
       "      <td>1.576</td>\n",
       "      <td>2.4</td>\n",
       "      <td>1</td>\n",
       "      <td>1.405</td>\n",
       "      <td>2</td>\n",
       "    </tr>\n",
       "    <tr>\n",
       "      <th>3</th>\n",
       "      <td>4</td>\n",
       "      <td>4.5</td>\n",
       "      <td>5.470</td>\n",
       "      <td>6.3</td>\n",
       "      <td>2.0</td>\n",
       "      <td>2.400</td>\n",
       "      <td>2.7</td>\n",
       "      <td>1.3</td>\n",
       "      <td>3.850</td>\n",
       "      <td>5.0</td>\n",
       "      <td>0.3</td>\n",
       "      <td>1.200</td>\n",
       "      <td>2.0</td>\n",
       "      <td>0</td>\n",
       "      <td>1.100</td>\n",
       "      <td>2</td>\n",
       "    </tr>\n",
       "    <tr>\n",
       "      <th>4</th>\n",
       "      <td>5</td>\n",
       "      <td>4.3</td>\n",
       "      <td>4.775</td>\n",
       "      <td>5.1</td>\n",
       "      <td>2.9</td>\n",
       "      <td>3.179</td>\n",
       "      <td>3.4</td>\n",
       "      <td>1.1</td>\n",
       "      <td>1.463</td>\n",
       "      <td>1.9</td>\n",
       "      <td>0.1</td>\n",
       "      <td>0.217</td>\n",
       "      <td>0.5</td>\n",
       "      <td>0</td>\n",
       "      <td>0.000</td>\n",
       "      <td>0</td>\n",
       "    </tr>\n",
       "  </tbody>\n",
       "</table>\n",
       "</div>"
      ],
      "text/plain": [
       "   cluster_KM  SEPAL_LENGTH_min  SEPAL_LENGTH_mean  SEPAL_LENGTH_max  \\\n",
       "0           1               6.2              6.885               7.9   \n",
       "1           2               4.6              5.248               5.8   \n",
       "2           3               5.4              6.019               6.7   \n",
       "3           4               4.5              5.470               6.3   \n",
       "4           5               4.3              4.775               5.1   \n",
       "\n",
       "   SEPAL_WIDTH_min  SEPAL_WIDTH_mean  SEPAL_WIDTH_max  PETAL_LENGTH_min  \\\n",
       "0              2.6             3.133              3.8               4.4   \n",
       "1              3.4             3.712              4.4               1.0   \n",
       "2              2.5             2.840              3.4               3.6   \n",
       "3              2.0             2.400              2.7               1.3   \n",
       "4              2.9             3.179              3.4               1.1   \n",
       "\n",
       "   PETAL_LENGTH_mean  PETAL_LENGTH_max  PETAL_WIDTH_min  PETAL_WIDTH_mean  \\\n",
       "0              5.562               6.9              1.4             1.992   \n",
       "1              1.468               1.9              0.1             0.272   \n",
       "2              4.714               5.8              1.0             1.576   \n",
       "3              3.850               5.0              0.3             1.200   \n",
       "4              1.463               1.9              0.1             0.217   \n",
       "\n",
       "   PETAL_WIDTH_max  SPECIES_min  SPECIES_mean  SPECIES_max  \n",
       "0              2.5            1         1.769            2  \n",
       "1              0.6            0         0.000            0  \n",
       "2              2.4            1         1.405            2  \n",
       "3              2.0            0         1.100            2  \n",
       "4              0.5            0         0.000            0  "
      ]
     },
     "execution_count": 18,
     "metadata": {},
     "output_type": "execute_result"
    }
   ],
   "source": [
    "df_summary_KM = df_raw.drop(\"cluster_H\", axis = 1, inplace=False). \\\n",
    "    groupby(\"cluster_KM\").agg([\"min\", \"mean\", \"max\"])\n",
    "level0 = df_summary_KM.columns.get_level_values(0)\n",
    "level1 = df_summary_KM.columns.get_level_values(1)\n",
    "df_summary_KM.columns = level0 + \"_\" + level1\n",
    "df_summary_KM.reset_index(inplace = True)\n",
    "df_summary_KM.round(3)"
   ]
  },
  {
   "cell_type": "code",
   "execution_count": 19,
   "id": "a574b66f",
   "metadata": {
    "scrolled": false
   },
   "outputs": [
    {
     "data": {
      "text/plain": [
       "array([[<Axes: title={'center': 'SEPAL_LENGTH'}, xlabel='cluster_KM'>,\n",
       "        <Axes: title={'center': 'SEPAL_WIDTH'}, xlabel='cluster_KM'>],\n",
       "       [<Axes: title={'center': 'PETAL_LENGTH'}, xlabel='cluster_KM'>,\n",
       "        <Axes: title={'center': 'PETAL_WIDTH'}, xlabel='cluster_KM'>]],\n",
       "      dtype=object)"
      ]
     },
     "execution_count": 19,
     "metadata": {},
     "output_type": "execute_result"
    },
    {
     "data": {
      "image/png": "[encoded data removed]",
      "text/plain": [
       "<Figure size 800x550 with 4 Axes>"
      ]
     },
     "metadata": {},
     "output_type": "display_data"
    }
   ],
   "source": [
    "# Boxplot을 활용한 군집별 설명변수 분포\n",
    "df_raw.boxplot(column=[\"SEPAL_LENGTH\", \"SEPAL_WIDTH\", \"PETAL_LENGTH\", \"PETAL_WIDTH\"]\n",
    "               , by = \"cluster_KM\")"
   ]
  },
  {
   "cell_type": "markdown",
   "id": "5d24c6b9-ea17-4e46-8e78-7549ed75a768",
   "metadata": {},
   "source": [
    "> 3번 군집 \"SEPAL_LENGTH\" 평균이 상대적으로 높음->목표 변수 평균이 높음"
   ]
  },
  {
   "cell_type": "code",
   "execution_count": 20,
   "id": "74734996",
   "metadata": {},
   "outputs": [
    {
     "data": {
      "text/plain": [
       "<Axes: title={'center': 'SPECIES'}, xlabel='cluster_KM'>"
      ]
     },
     "execution_count": 20,
     "metadata": {},
     "output_type": "execute_result"
    },
    {
     "data": {
      "image/png": "[encoded data removed]",
      "text/plain": [
       "<Figure size 400x300 with 1 Axes>"
      ]
     },
     "metadata": {},
     "output_type": "display_data"
    }
   ],
   "source": [
    "# Boxplot을 활용한 군집별 목표변수 분포\n",
    "df_raw.boxplot(column=[\"SPECIES\"], by = \"cluster_KM\", figsize=(4,3))"
   ]
  },
  {
   "cell_type": "code",
   "execution_count": 21,
   "id": "8e6939bc",
   "metadata": {},
   "outputs": [
    {
     "name": "stdout",
     "output_type": "stream",
     "text": [
      "계층형(군집 수=3) 실루엣 계수 =  0.462\n",
      "계층형(군집 수=4) 실루엣 계수 =  0.419\n"
     ]
    }
   ],
   "source": [
    "# scipy.cluster.hierarchy의 계층형 군집분석은 실루엣 계수 산출 안됨\n",
    "# 실루엣 계수 산출:sklearn.AgglomerativeClustering(계층형군집분석)\n",
    "cls_h = AgglomerativeClustering(n_clusters=3).fit_predict(df_raw_x)  # 군집 수 =3\n",
    "sil_score = silhouette_score(df_raw_x, cls_h, metric='euclidean')\n",
    "print( \"계층형(군집 수=3) 실루엣 계수 = \",format(round(sil_score,3)))\n",
    "\n",
    "cls_h = AgglomerativeClustering(n_clusters=4).fit_predict(df_raw_x)  # 군집 수 =4\n",
    "sil_score = silhouette_score(df_raw_x, cls_h, metric='euclidean')\n",
    "print( \"계층형(군집 수=4) 실루엣 계수 = \",format(round(sil_score,3)))"
   ]
  },
  {
   "cell_type": "code",
   "execution_count": 22,
   "id": "42c83541",
   "metadata": {},
   "outputs": [
    {
     "name": "stdout",
     "output_type": "stream",
     "text": [
      "k-평균(군집 수=3) 실루엣 계수 =  0.459\n",
      "k-평균(군집 수=4) 실루엣 계수 =  0.406\n"
     ]
    }
   ],
   "source": [
    "# 실루엣 계수 산출:sklearn.KMeans(k평균군집분석)\n",
    "cls_k = KMeans(3).fit_predict(df_raw_x)  # 군집 수 =3\n",
    "sil_score = silhouette_score(df_raw_x, cls_k)\n",
    "print( \"k-평균(군집 수=3) 실루엣 계수 = \",format(round(sil_score,3)))\n",
    "\n",
    "cls_k = KMeans(4).fit_predict(df_raw_x)  # 군집 수 =4\n",
    "sil_score = silhouette_score(df_raw_x, cls_k)\n",
    "print( \"k-평균(군집 수=4) 실루엣 계수 = \",format(round(sil_score,3)))"
   ]
  },
  {
   "cell_type": "markdown",
   "id": "d4dfb282",
   "metadata": {},
   "source": [
    "- 실루엣 계수가 높을수록(1에 가까울수록) 군집이 효율적으로 형성되었다고 판단됨.\n",
    "  - 군집 개수는 계층형, k평균 둘 다 3개가 적절해 보임.\n"
   ]
  },
  {
   "cell_type": "code",
   "execution_count": 23,
   "id": "db637a1b",
   "metadata": {},
   "outputs": [
    {
     "data": {
      "image/png": "[encoded data removed]",
      "text/plain": [
       "<Figure size 800x550 with 1 Axes>"
      ]
     },
     "metadata": {},
     "output_type": "display_data"
    },
    {
     "name": "stdout",
     "output_type": "stream",
     "text": [
      "실루엣 계수 =  0.4594\n"
     ]
    }
   ],
   "source": [
    "# yellowbrick 라이브러리의 SilhouetteVisualizer 이용\n",
    "\n",
    "clus = KMeans(3)\n",
    "graph_sil = SilhouetteVisualizer(clus, colors='yellowbrick')\n",
    "\n",
    "#생성된 visualizer에 데이터 입력 \n",
    "graph_sil.fit(df_raw_x)      \n",
    "graph_sil.show()\n",
    "print( \"실루엣 계수 = \",format(round(graph_sil.silhouette_score_,4)))"
   ]
  },
  {
   "cell_type": "code",
   "execution_count": 24,
   "id": "cc475fee",
   "metadata": {},
   "outputs": [
    {
     "data": {
      "image/png": "[encoded data removed]",
      "text/plain": [
       "<Figure size 800x550 with 1 Axes>"
      ]
     },
     "metadata": {},
     "output_type": "display_data"
    },
    {
     "name": "stdout",
     "output_type": "stream",
     "text": [
      "실루엣 계수 =  0.4008\n"
     ]
    }
   ],
   "source": [
    "clus = KMeans(4)\n",
    "\n",
    "#visualizer 생성\n",
    "graph_sil = SilhouetteVisualizer(clus, colors='yellowbrick')\n",
    "#생성된 visualizer에 데이터 입력 \n",
    "graph_sil.fit(df_raw_x)      \n",
    "graph_sil.show()\n",
    "print( \"실루엣 계수 = \",format(round(graph_sil.silhouette_score_,4)))"
   ]
  },
  {
   "cell_type": "code",
   "execution_count": 25,
   "id": "487470be",
   "metadata": {},
   "outputs": [
    {
     "data": {
      "image/png": "[encoded data removed]",
      "text/plain": [
       "<Figure size 800x550 with 1 Axes>"
      ]
     },
     "metadata": {},
     "output_type": "display_data"
    },
    {
     "name": "stdout",
     "output_type": "stream",
     "text": [
      "실루엣 계수 =  0.3807\n"
     ]
    }
   ],
   "source": [
    "clus = KMeans(5)\n",
    "\n",
    "#visualizer 생성\n",
    "graph_sil = SilhouetteVisualizer(clus, colors='yellowbrick')\n",
    "#생성된 visualizer에 데이터 입력 \n",
    "graph_sil.fit(df_raw_x)      \n",
    "graph_sil.show()\n",
    "print( \"실루엣 계수 = \",format(round(graph_sil.silhouette_score_,4)))"
   ]
  },
  {
   "cell_type": "code",
   "execution_count": null,
   "id": "457c1f42",
   "metadata": {},
   "outputs": [],
   "source": []
  },
  {
   "cell_type": "markdown",
   "id": "482a1dcc",
   "metadata": {},
   "source": [
    "# 연관규칙_실습"
   ]
  },
  {
   "cell_type": "code",
   "execution_count": 26,
   "id": "7f8cf970",
   "metadata": {},
   "outputs": [
    {
     "name": "stdout",
     "output_type": "stream",
     "text": [
      "Requirement already satisfied: apriori in /home/piai/anaconda3/lib/python3.10/site-packages (1.0.0)\r\n"
     ]
    }
   ],
   "source": [
    "!pip install apriori"
   ]
  },
  {
   "cell_type": "code",
   "execution_count": 27,
   "id": "643172a6",
   "metadata": {},
   "outputs": [],
   "source": [
    "# 데이터 구성:Series, DataFrame\n",
    "import pandas as pd\n",
    "# 행렬 연산\n",
    "import numpy as np\n",
    "# 데이터 전처리 : 항목 값에 대한 index 생성\n",
    "from mlxtend.preprocessing import TransactionEncoder\n",
    "# 지지도 계산\n",
    "from mlxtend.frequent_patterns import apriori\n",
    "# 연관 규칙\n",
    "from mlxtend.frequent_patterns import association_rules"
   ]
  },
  {
   "cell_type": "markdown",
   "id": "8d1ffa5c",
   "metadata": {},
   "source": [
    "# 1. 데이터 구성하기"
   ]
  },
  {
   "cell_type": "code",
   "execution_count": 32,
   "id": "bb3373ff",
   "metadata": {},
   "outputs": [
    {
     "data": {
      "text/html": [
       "<div>\n",
       "<style scoped>\n",
       "    .dataframe tbody tr th:only-of-type {\n",
       "        vertical-align: middle;\n",
       "    }\n",
       "\n",
       "    .dataframe tbody tr th {\n",
       "        vertical-align: top;\n",
       "    }\n",
       "\n",
       "    .dataframe thead th {\n",
       "        text-align: right;\n",
       "    }\n",
       "</style>\n",
       "<table border=\"1\" class=\"dataframe\">\n",
       "  <thead>\n",
       "    <tr style=\"text-align: right;\">\n",
       "      <th></th>\n",
       "      <th>ID</th>\n",
       "      <th>PRODUCT</th>\n",
       "    </tr>\n",
       "  </thead>\n",
       "  <tbody>\n",
       "    <tr>\n",
       "      <th>0</th>\n",
       "      <td>CS-102</td>\n",
       "      <td>양주</td>\n",
       "    </tr>\n",
       "    <tr>\n",
       "      <th>1</th>\n",
       "      <td>CS-102</td>\n",
       "      <td>양주</td>\n",
       "    </tr>\n",
       "    <tr>\n",
       "      <th>2</th>\n",
       "      <td>CS-103</td>\n",
       "      <td>소다</td>\n",
       "    </tr>\n",
       "    <tr>\n",
       "      <th>3</th>\n",
       "      <td>CS-103</td>\n",
       "      <td>크래커</td>\n",
       "    </tr>\n",
       "    <tr>\n",
       "      <th>4</th>\n",
       "      <td>CS-103</td>\n",
       "      <td>맥주</td>\n",
       "    </tr>\n",
       "    <tr>\n",
       "      <th>5</th>\n",
       "      <td>CS-104</td>\n",
       "      <td>크래커</td>\n",
       "    </tr>\n",
       "    <tr>\n",
       "      <th>6</th>\n",
       "      <td>CS-104</td>\n",
       "      <td>맥주</td>\n",
       "    </tr>\n",
       "    <tr>\n",
       "      <th>7</th>\n",
       "      <td>CS-106</td>\n",
       "      <td>양주</td>\n",
       "    </tr>\n",
       "    <tr>\n",
       "      <th>8</th>\n",
       "      <td>CS-106</td>\n",
       "      <td>크래커</td>\n",
       "    </tr>\n",
       "    <tr>\n",
       "      <th>9</th>\n",
       "      <td>CS-107</td>\n",
       "      <td>맥주</td>\n",
       "    </tr>\n",
       "  </tbody>\n",
       "</table>\n",
       "</div>"
      ],
      "text/plain": [
       "       ID PRODUCT\n",
       "0  CS-102      양주\n",
       "1  CS-102      양주\n",
       "2  CS-103      소다\n",
       "3  CS-103     크래커\n",
       "4  CS-103      맥주\n",
       "5  CS-104     크래커\n",
       "6  CS-104      맥주\n",
       "7  CS-106      양주\n",
       "8  CS-106     크래커\n",
       "9  CS-107      맥주"
      ]
     },
     "execution_count": 32,
     "metadata": {},
     "output_type": "execute_result"
    }
   ],
   "source": [
    "#df_raw = pd.read_csv(\"/home/piai/0. 포빅아/3주차/01 실습파일/2. Big Data 분석/구매이력.csv\", encoding='euc-kr')\n",
    "df_raw = pd.read_csv(\"구매이력.csv\", encoding='euc-kr')\n",
    "df_raw.head(10)"
   ]
  },
  {
   "cell_type": "code",
   "execution_count": 33,
   "id": "e0fc2521",
   "metadata": {
    "scrolled": true
   },
   "outputs": [
    {
     "name": "stdout",
     "output_type": "stream",
     "text": [
      "['양주', '양주']\n",
      "['맥주', '소다', '크래커']\n",
      "['맥주', '크래커']\n",
      "['양주', '크래커']\n",
      "['맥주', '콜라']\n",
      "['맥주']\n",
      "['맥주', '소다', '양주', '크래커']\n",
      "['맥주']\n",
      "['맥주', '콜라']\n",
      "['맥주', '콜라']\n",
      "['맥주', '양주', '콜라']\n",
      "['맥주', '소다', '양주', '크래커']\n",
      "['양주']\n",
      "['맥주', '콜라']\n",
      "['양주', '콜라']\n",
      "['맥주', '크래커']\n",
      "['맥주', '소다', '양주', '크래커']\n",
      "['맥주', '소다', '양주', '크래커']\n",
      "['맥주', '소다']\n",
      "['소다', '양주', '크래커']\n",
      "['크래커']\n",
      "['양주', '콜라']\n",
      "['맥주', '소다', '양주', '콜라', '크래커']\n",
      "['양주', '콜라']\n",
      "['맥주', '크래커']\n",
      "['맥주', '소다', '크래커']\n",
      "['맥주', '소다', '양주', '크래커']\n",
      "['맥주']\n",
      "['맥주', '콜라']\n",
      "['양주', '콜라', '크래커']\n",
      "['맥주', '콜라']\n",
      "['맥주', '크래커']\n",
      "['맥주']\n",
      "['맥주', '소다', '양주', '크래커']\n",
      "['맥주', '소다', '콜라']\n",
      "['맥주', '콜라', '크래커']\n",
      "['맥주', '양주']\n",
      "['맥주', '콜라']\n",
      "['맥주', '크래커']\n",
      "['맥주', '소다', '양주', '크래커']\n",
      "['소다', '양주', '콜라']\n",
      "['맥주', '크래커']\n",
      "['소다', '크래커']\n"
     ]
    }
   ],
   "source": [
    "# 고객 ID 리스트 행성 및 정렬\n",
    "ID = list(set(df_raw[\"ID\"]))\n",
    "ID.sort()\n",
    "\n",
    "# 고객ID별 상품 매칭\n",
    "list_association = []\n",
    "for i in ID:\n",
    "    # ID별 구매 데이터 추출\n",
    "    tmp_list = list(df_raw[df_raw[\"ID\"] == i][\"PRODUCT\"])\n",
    "    tmp_list.sort()\n",
    "    # ID별 구매 데이터를 리스트에 담기\n",
    "    list_association.append(tmp_list)\n",
    "\n",
    "# 리스트 출력\n",
    "for row in list_association:\n",
    "    print(row)"
   ]
  },
  {
   "cell_type": "markdown",
   "id": "574597ab-d947-45be-b8d4-d7d73dd2b7dd",
   "metadata": {},
   "source": [
    "데이터 전처리(Encoding)"
   ]
  },
  {
   "cell_type": "code",
   "execution_count": 34,
   "id": "f5af3521",
   "metadata": {},
   "outputs": [
    {
     "data": {
      "text/html": [
       "<div>\n",
       "<style scoped>\n",
       "    .dataframe tbody tr th:only-of-type {\n",
       "        vertical-align: middle;\n",
       "    }\n",
       "\n",
       "    .dataframe tbody tr th {\n",
       "        vertical-align: top;\n",
       "    }\n",
       "\n",
       "    .dataframe thead th {\n",
       "        text-align: right;\n",
       "    }\n",
       "</style>\n",
       "<table border=\"1\" class=\"dataframe\">\n",
       "  <thead>\n",
       "    <tr style=\"text-align: right;\">\n",
       "      <th></th>\n",
       "      <th>맥주</th>\n",
       "      <th>소다</th>\n",
       "      <th>양주</th>\n",
       "      <th>콜라</th>\n",
       "      <th>크래커</th>\n",
       "    </tr>\n",
       "  </thead>\n",
       "  <tbody>\n",
       "    <tr>\n",
       "      <th>0</th>\n",
       "      <td>False</td>\n",
       "      <td>False</td>\n",
       "      <td>True</td>\n",
       "      <td>False</td>\n",
       "      <td>False</td>\n",
       "    </tr>\n",
       "    <tr>\n",
       "      <th>1</th>\n",
       "      <td>True</td>\n",
       "      <td>True</td>\n",
       "      <td>False</td>\n",
       "      <td>False</td>\n",
       "      <td>True</td>\n",
       "    </tr>\n",
       "    <tr>\n",
       "      <th>2</th>\n",
       "      <td>True</td>\n",
       "      <td>False</td>\n",
       "      <td>False</td>\n",
       "      <td>False</td>\n",
       "      <td>True</td>\n",
       "    </tr>\n",
       "    <tr>\n",
       "      <th>3</th>\n",
       "      <td>False</td>\n",
       "      <td>False</td>\n",
       "      <td>True</td>\n",
       "      <td>False</td>\n",
       "      <td>True</td>\n",
       "    </tr>\n",
       "    <tr>\n",
       "      <th>4</th>\n",
       "      <td>True</td>\n",
       "      <td>False</td>\n",
       "      <td>False</td>\n",
       "      <td>True</td>\n",
       "      <td>False</td>\n",
       "    </tr>\n",
       "  </tbody>\n",
       "</table>\n",
       "</div>"
      ],
      "text/plain": [
       "      맥주     소다     양주     콜라    크래커\n",
       "0  False  False   True  False  False\n",
       "1   True   True  False  False   True\n",
       "2   True  False  False  False   True\n",
       "3  False  False   True  False   True\n",
       "4   True  False  False   True  False"
      ]
     },
     "execution_count": 34,
     "metadata": {},
     "output_type": "execute_result"
    }
   ],
   "source": [
    "# Items 기준으로 포함 여부에 따라 True/False로 변환\n",
    "enc = TransactionEncoder()\n",
    "df_raw_enc = enc.fit_transform(X=list_association)\n",
    "\n",
    "# 함수 fit_transform는 데이터를 행렬의 형태로 반환, pandas의 DataFrame의 형태로 변환\n",
    "df_asso = pd.DataFrame(df_raw_enc, columns=enc.columns_)\n",
    "df_asso.head()"
   ]
  },
  {
   "cell_type": "markdown",
   "id": "cee3535c",
   "metadata": {},
   "source": [
    "# 2. 연관규칙 분석"
   ]
  },
  {
   "cell_type": "markdown",
   "id": "c7b83a3b-ae10-4aaa-9102-f855ae7127e4",
   "metadata": {},
   "source": [
    "- 장바구니 ID 별 구매 항목 데이터\n",
    "- 장바구니 분석을 실시하고 결과를 해석하시오."
   ]
  },
  {
   "cell_type": "code",
   "execution_count": 35,
   "id": "5d01180f-3d42-4cf4-8c6a-b463d8cf89cd",
   "metadata": {},
   "outputs": [
    {
     "ename": "NameError",
     "evalue": "name 'df_freq' is not defined",
     "output_type": "error",
     "traceback": [
      "\u001b[0;31m---------------------------------------------------------------------------\u001b[0m",
      "\u001b[0;31mNameError\u001b[0m                                 Traceback (most recent call last)",
      "Cell \u001b[0;32mIn[35], line 1\u001b[0m\n\u001b[0;32m----> 1\u001b[0m \u001b[43mdf_freq\u001b[49m\n",
      "\u001b[0;31mNameError\u001b[0m: name 'df_freq' is not defined"
     ]
    }
   ],
   "source": [
    "df_freq"
   ]
  },
  {
   "cell_type": "code",
   "execution_count": 36,
   "id": "2743346f",
   "metadata": {},
   "outputs": [
    {
     "data": {
      "text/html": [
       "<div>\n",
       "<style scoped>\n",
       "    .dataframe tbody tr th:only-of-type {\n",
       "        vertical-align: middle;\n",
       "    }\n",
       "\n",
       "    .dataframe tbody tr th {\n",
       "        vertical-align: top;\n",
       "    }\n",
       "\n",
       "    .dataframe thead th {\n",
       "        text-align: right;\n",
       "    }\n",
       "</style>\n",
       "<table border=\"1\" class=\"dataframe\">\n",
       "  <thead>\n",
       "    <tr style=\"text-align: right;\">\n",
       "      <th></th>\n",
       "      <th>support</th>\n",
       "      <th>itemsets</th>\n",
       "    </tr>\n",
       "  </thead>\n",
       "  <tbody>\n",
       "    <tr>\n",
       "      <th>0</th>\n",
       "      <td>0.744</td>\n",
       "      <td>(맥주)</td>\n",
       "    </tr>\n",
       "    <tr>\n",
       "      <th>1</th>\n",
       "      <td>0.349</td>\n",
       "      <td>(소다)</td>\n",
       "    </tr>\n",
       "    <tr>\n",
       "      <th>2</th>\n",
       "      <td>0.442</td>\n",
       "      <td>(양주)</td>\n",
       "    </tr>\n",
       "    <tr>\n",
       "      <th>3</th>\n",
       "      <td>0.372</td>\n",
       "      <td>(콜라)</td>\n",
       "    </tr>\n",
       "    <tr>\n",
       "      <th>4</th>\n",
       "      <td>0.512</td>\n",
       "      <td>(크래커)</td>\n",
       "    </tr>\n",
       "    <tr>\n",
       "      <th>5</th>\n",
       "      <td>0.279</td>\n",
       "      <td>(맥주, 소다)</td>\n",
       "    </tr>\n",
       "    <tr>\n",
       "      <th>6</th>\n",
       "      <td>0.256</td>\n",
       "      <td>(맥주, 콜라)</td>\n",
       "    </tr>\n",
       "    <tr>\n",
       "      <th>7</th>\n",
       "      <td>0.395</td>\n",
       "      <td>(맥주, 크래커)</td>\n",
       "    </tr>\n",
       "    <tr>\n",
       "      <th>8</th>\n",
       "      <td>0.279</td>\n",
       "      <td>(크래커, 소다)</td>\n",
       "    </tr>\n",
       "    <tr>\n",
       "      <th>9</th>\n",
       "      <td>0.256</td>\n",
       "      <td>(크래커, 양주)</td>\n",
       "    </tr>\n",
       "  </tbody>\n",
       "</table>\n",
       "</div>"
      ],
      "text/plain": [
       "   support   itemsets\n",
       "0    0.744       (맥주)\n",
       "1    0.349       (소다)\n",
       "2    0.442       (양주)\n",
       "3    0.372       (콜라)\n",
       "4    0.512      (크래커)\n",
       "5    0.279   (맥주, 소다)\n",
       "6    0.256   (맥주, 콜라)\n",
       "7    0.395  (맥주, 크래커)\n",
       "8    0.279  (크래커, 소다)\n",
       "9    0.256  (크래커, 양주)"
      ]
     },
     "execution_count": 36,
     "metadata": {},
     "output_type": "execute_result"
    }
   ],
   "source": [
    "# 규칙 선택 최소 지지도(지지도 % 이상)\n",
    "v_min_support = 0.25\n",
    "\n",
    "# 연관규칙 생성 및 지지도 임계값 적용\n",
    "df_freq = apriori(df_asso, min_support = v_min_support, use_colnames=True)\n",
    "\n",
    "# itemsets 항목 확인\n",
    "df_freq.round(3)"
   ]
  },
  {
   "cell_type": "markdown",
   "id": "75fe8d86-bd34-41c1-95db-76b4a7a2eac0",
   "metadata": {},
   "source": [
    "#### 지지도가 0.25 이상인 데이터들을 보임\n",
    "- \"맥주\" 구매 고객 비율: 0.744\n",
    "- \"크래커, 맥주\" 구매 고객 비율: 0.395\n",
    "- \"소다, 맥주\" 구매 고객 비율: 0.279"
   ]
  },
  {
   "cell_type": "markdown",
   "id": "92974a2a-d4e2-4f74-bed7-6db092ddb2a1",
   "metadata": {},
   "source": [
    "#### 기준 metric: 지지도(support)/신뢰도(confidence)/향상도(lift) 임계값: 기준 metric의 최소값"
   ]
  },
  {
   "cell_type": "code",
   "execution_count": 37,
   "id": "258bd0e7",
   "metadata": {
    "scrolled": true
   },
   "outputs": [
    {
     "data": {
      "text/html": [
       "<div>\n",
       "<style scoped>\n",
       "    .dataframe tbody tr th:only-of-type {\n",
       "        vertical-align: middle;\n",
       "    }\n",
       "\n",
       "    .dataframe tbody tr th {\n",
       "        vertical-align: top;\n",
       "    }\n",
       "\n",
       "    .dataframe thead th {\n",
       "        text-align: right;\n",
       "    }\n",
       "</style>\n",
       "<table border=\"1\" class=\"dataframe\">\n",
       "  <thead>\n",
       "    <tr style=\"text-align: right;\">\n",
       "      <th></th>\n",
       "      <th>antecedents</th>\n",
       "      <th>consequents</th>\n",
       "      <th>antecedent support</th>\n",
       "      <th>consequent support</th>\n",
       "      <th>support</th>\n",
       "      <th>confidence</th>\n",
       "      <th>lift</th>\n",
       "      <th>leverage</th>\n",
       "      <th>conviction</th>\n",
       "      <th>zhangs_metric</th>\n",
       "    </tr>\n",
       "  </thead>\n",
       "  <tbody>\n",
       "    <tr>\n",
       "      <th>0</th>\n",
       "      <td>(소다)</td>\n",
       "      <td>(맥주)</td>\n",
       "      <td>0.349</td>\n",
       "      <td>0.744</td>\n",
       "      <td>0.279</td>\n",
       "      <td>0.800</td>\n",
       "      <td>1.075</td>\n",
       "      <td>0.019</td>\n",
       "      <td>1.279</td>\n",
       "      <td>0.107</td>\n",
       "    </tr>\n",
       "    <tr>\n",
       "      <th>1</th>\n",
       "      <td>(크래커)</td>\n",
       "      <td>(맥주)</td>\n",
       "      <td>0.512</td>\n",
       "      <td>0.744</td>\n",
       "      <td>0.395</td>\n",
       "      <td>0.773</td>\n",
       "      <td>1.038</td>\n",
       "      <td>0.015</td>\n",
       "      <td>1.126</td>\n",
       "      <td>0.076</td>\n",
       "    </tr>\n",
       "    <tr>\n",
       "      <th>2</th>\n",
       "      <td>(소다)</td>\n",
       "      <td>(크래커)</td>\n",
       "      <td>0.349</td>\n",
       "      <td>0.512</td>\n",
       "      <td>0.279</td>\n",
       "      <td>0.800</td>\n",
       "      <td>1.564</td>\n",
       "      <td>0.101</td>\n",
       "      <td>2.442</td>\n",
       "      <td>0.554</td>\n",
       "    </tr>\n",
       "  </tbody>\n",
       "</table>\n",
       "</div>"
      ],
      "text/plain": [
       "  antecedents consequents  antecedent support  consequent support  support  \\\n",
       "0        (소다)        (맥주)               0.349               0.744    0.279   \n",
       "1       (크래커)        (맥주)               0.512               0.744    0.395   \n",
       "2        (소다)       (크래커)               0.349               0.512    0.279   \n",
       "\n",
       "   confidence   lift  leverage  conviction  zhangs_metric  \n",
       "0       0.800  1.075     0.019       1.279          0.107  \n",
       "1       0.773  1.038     0.015       1.126          0.076  \n",
       "2       0.800  1.564     0.101       2.442          0.554  "
      ]
     },
     "execution_count": 37,
     "metadata": {},
     "output_type": "execute_result"
    }
   ],
   "source": [
    "# 향상도 기준: lift\n",
    "df_asso_rule = association_rules(df_freq, metric=\"lift\", min_threshold=1.3)\n",
    "df_asso_rule.round(3)\n",
    "\n",
    "# 신뢰도 기준: confidence\n",
    "df_asso_rule = association_rules(df_freq, metric=\"confidence\", min_threshold=0.7)\n",
    "df_asso_rule.round(3)"
   ]
  },
  {
   "cell_type": "markdown",
   "id": "97929cca",
   "metadata": {},
   "source": [
    "# 3. 결론 도출"
   ]
  },
  {
   "cell_type": "markdown",
   "id": "6a1f17d0-32e3-4be9-91d3-5358f4ceda06",
   "metadata": {},
   "source": [
    "#### 맥주를 구매한 고객에게 크래커와 소다 중 어떤 것을 추천할 것인가?\n",
    "- 지지도(support) 기준: 크래커 추천(0.395), 소다는 0.279\n",
    "- 신뢰도(confidence) 기준: 소다 추천(0.8), 크래커는 0.773\n",
    "- 향상도(lift) 기준: 소다 추천(1.075), 크래커는 1.038"
   ]
  },
  {
   "cell_type": "code",
   "execution_count": null,
   "id": "87d1e86b",
   "metadata": {},
   "outputs": [],
   "source": []
  },
  {
   "cell_type": "code",
   "execution_count": null,
   "id": "19e007d1",
   "metadata": {},
   "outputs": [],
   "source": []
  }
 ],
 "metadata": {
  "kernelspec": {
   "display_name": "Python 3 (ipykernel)",
   "language": "python",
   "name": "python3"
  },
  "language_info": {
   "codemirror_mode": {
    "name": "ipython",
    "version": 3
   },
   "file_extension": ".py",
   "mimetype": "text/x-python",
   "name": "python",
   "nbconvert_exporter": "python",
   "pygments_lexer": "ipython3",
   "version": "3.10.9"
  }
 },
 "nbformat": 4,
 "nbformat_minor": 5
}
